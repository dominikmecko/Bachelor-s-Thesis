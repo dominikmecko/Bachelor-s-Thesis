{
 "cells": [
  {
   "cell_type": "code",
   "execution_count": 25,
   "metadata": {
    "collapsed": true,
    "pycharm": {
     "name": "#%%\n"
    }
   },
   "outputs": [],
   "source": [
    "import pandas\n",
    "import pandas as pd\n",
    "import numpy as np\n",
    "from sklearn.metrics import accuracy_score"
   ]
  },
  {
   "cell_type": "code",
   "execution_count": 26,
   "outputs": [],
   "source": [
    "folder = \"/Users/dominikmecko/Work/Bachelor's Thesis/Data\"\n",
    "text_path = \"/final_text.csv\"\n",
    "numeric_path = \"/final_numeric.csv\"\n",
    "data_text = pd.read_csv(folder+text_path)\n",
    "data_num = pd.read_csv(folder+numeric_path)"
   ],
   "metadata": {
    "collapsed": false,
    "pycharm": {
     "name": "#%%\n"
    }
   }
  },
  {
   "cell_type": "code",
   "execution_count": 27,
   "outputs": [
    {
     "data": {
      "text/plain": "                                             StartDate  \\\n0                                           Start Date   \n1    {\"ImportId\":\"startDate\",\"timeZone\":\"Europe/Ber...   \n2                                  2022-05-18 09:51:41   \n3                                  2022-05-18 11:05:25   \n4                                  2022-05-18 11:07:57   \n..                                                 ...   \n109                                2022-05-30 13:28:32   \n110                                2022-05-30 13:30:37   \n111                                2022-05-30 13:07:22   \n112                                2022-05-30 18:56:53   \n113                                2022-05-30 21:44:51   \n\n                                               EndDate                 Status  \\\n0                                             End Date          Response Type   \n1    {\"ImportId\":\"endDate\",\"timeZone\":\"Europe/Berlin\"}  {\"ImportId\":\"status\"}   \n2                                  2022-05-18 09:55:55             IP Address   \n3                                  2022-05-18 11:10:49             IP Address   \n4                                  2022-05-18 11:11:59             IP Address   \n..                                                 ...                    ...   \n109                                2022-05-30 13:34:24             IP Address   \n110                                2022-05-30 13:35:59             IP Address   \n111                                2022-05-30 13:40:02             IP Address   \n112                                2022-05-30 19:03:56             IP Address   \n113                                2022-05-30 22:20:06             IP Address   \n\n                    Progress    Duration (in seconds)  \\\n0                   Progress    Duration (in seconds)   \n1    {\"ImportId\":\"progress\"}  {\"ImportId\":\"duration\"}   \n2                        100                      254   \n3                        100                      324   \n4                        100                      242   \n..                       ...                      ...   \n109                      100                      351   \n110                      100                      321   \n111                      100                     1959   \n112                      100                      422   \n113                      100                     2115   \n\n                    Finished  \\\n0                   Finished   \n1    {\"ImportId\":\"finished\"}   \n2                       True   \n3                       True   \n4                       True   \n..                       ...   \n109                     True   \n110                     True   \n111                     True   \n112                     True   \n113                     True   \n\n                                          RecordedDate  \\\n0                                        Recorded Date   \n1    {\"ImportId\":\"recordedDate\",\"timeZone\":\"Europe/...   \n2                                  2022-05-18 09:55:58   \n3                                  2022-05-18 11:10:51   \n4                                  2022-05-18 11:12:01   \n..                                                 ...   \n109                                2022-05-30 13:34:24   \n110                                2022-05-30 13:36:00   \n111                                2022-05-30 13:40:03   \n112                                2022-05-30 19:03:56   \n113                                2022-05-30 22:20:08   \n\n                   ResponseId                 DistributionChannel  \\\n0                 Response ID                Distribution Channel   \n1    {\"ImportId\":\"_recordId\"}  {\"ImportId\":\"distributionChannel\"}   \n2           R_1pzMUhhsh8aVRYi                           anonymous   \n3           R_AmTsD13JmmjO3iV                           anonymous   \n4           R_21tw9KHb0ML81SJ                           anonymous   \n..                        ...                                 ...   \n109         R_e3YYeE5sB9xAcSJ                           anonymous   \n110         R_3kHPD0vxwbjFq3m                           anonymous   \n111         R_3qx7cCBjdww0Mu8                           anonymous   \n112         R_3nSrJLDJiYnhvLz                           anonymous   \n113         R_2sZ9jGAmaddENVs                           anonymous   \n\n                    UserLanguage  ...            Time_Set11_First Click  \\\n0                  User Language  ...              Timing - First Click   \n1    {\"ImportId\":\"userLanguage\"}  ...  {\"ImportId\":\"QID48_FIRST_CLICK\"}   \n2                             SK  ...                             1.879   \n3                             SK  ...                             3.297   \n4                             SK  ...                             3.701   \n..                           ...  ...                               ...   \n109                           SK  ...                             5.448   \n110                           SK  ...                             1.563   \n111                           SK  ...                             2.801   \n112                           SK  ...                             4.201   \n113                           SK  ...                             4.623   \n\n               Time_Set11_Last Click            Time_Set11_Page Submit  \\\n0                Timing - Last Click              Timing - Page Submit   \n1    {\"ImportId\":\"QID48_LAST_CLICK\"}  {\"ImportId\":\"QID48_PAGE_SUBMIT\"}   \n2                              1.879                             6.359   \n3                              3.297                             6.791   \n4                              3.701                             4.197   \n..                               ...                               ...   \n109                            5.448                             6.286   \n110                            1.563                             2.494   \n111                            2.801                             3.648   \n112                            6.367                             7.192   \n113                            5.545                             6.184   \n\n               Time_Set11_Click Count  \\\n0                Timing - Click Count   \n1    {\"ImportId\":\"QID48_CLICK_COUNT\"}   \n2                                   1   \n3                                   1   \n4                                   1   \n..                                ...   \n109                                 1   \n110                                 1   \n111                                 1   \n112                                 2   \n113                                 2   \n\n                                                 Set12  \\\n0    Ktorý z plánov elektrickej energie by ste si z...   \n1                                 {\"ImportId\":\"QID49\"}   \n2    KONTRAKT A\\n\\nMesačný poplatok: €$e{q://QID10/...   \n3    KONTRAKT A\\n\\nMesačný poplatok: €$e{q://QID10/...   \n4    KONTRAKT A\\n\\nMesačný poplatok: €$e{q://QID10/...   \n..                                                 ...   \n109  KONTRAKT B\\n\\nMesačný poplatok: €$e{q://QID10/...   \n110  KONTRAKT B\\n\\nMesačný poplatok: €$e{q://QID10/...   \n111  KONTRAKT B\\n\\nMesačný poplatok: €$e{q://QID10/...   \n112  KONTRAKT A\\n\\nMesačný poplatok: €$e{q://QID10/...   \n113  KONTRAKT B\\n\\nMesačný poplatok: €$e{q://QID10/...   \n\n               Time_Set12_First Click            Time_Set12_Last Click  \\\n0                Timing - First Click              Timing - Last Click   \n1    {\"ImportId\":\"QID50_FIRST_CLICK\"}  {\"ImportId\":\"QID50_LAST_CLICK\"}   \n2                               7.074                            7.074   \n3                                 3.5                              3.5   \n4                               1.943                            1.943   \n..                                ...                              ...   \n109                               7.7                              7.7   \n110                              1.62                             1.62   \n111                             4.603                            4.603   \n112                             2.856                           10.055   \n113                            19.003                           19.917   \n\n               Time_Set12_Page Submit            Time_Set12_Click Count  \\\n0                Timing - Page Submit              Timing - Click Count   \n1    {\"ImportId\":\"QID50_PAGE_SUBMIT\"}  {\"ImportId\":\"QID50_CLICK_COUNT\"}   \n2                               8.038                                 1   \n3                               4.798                                 1   \n4                               2.784                                 1   \n..                                ...                               ...   \n109                             8.776                                 1   \n110                             2.167                                 1   \n111                             5.181                                 1   \n112                            10.845                                 2   \n113                            20.522                                 2   \n\n                                              Comments  \n0    Ďakujem Vám veľmi pekne za vyplnenie prieskumu...  \n1                            {\"ImportId\":\"QID53_TEXT\"}  \n2                                                  NaN  \n3                                                  NaN  \n4                                                  NaN  \n..                                                 ...  \n109                                                NaN  \n110                                                NaN  \n111  Mám zabezpečené solárne panely na ohrev vody, ...  \n112                                                NaN  \n113                                                NaN  \n\n[114 rows x 92 columns]",
      "text/html": "<div>\n<style scoped>\n    .dataframe tbody tr th:only-of-type {\n        vertical-align: middle;\n    }\n\n    .dataframe tbody tr th {\n        vertical-align: top;\n    }\n\n    .dataframe thead th {\n        text-align: right;\n    }\n</style>\n<table border=\"1\" class=\"dataframe\">\n  <thead>\n    <tr style=\"text-align: right;\">\n      <th></th>\n      <th>StartDate</th>\n      <th>EndDate</th>\n      <th>Status</th>\n      <th>Progress</th>\n      <th>Duration (in seconds)</th>\n      <th>Finished</th>\n      <th>RecordedDate</th>\n      <th>ResponseId</th>\n      <th>DistributionChannel</th>\n      <th>UserLanguage</th>\n      <th>...</th>\n      <th>Time_Set11_First Click</th>\n      <th>Time_Set11_Last Click</th>\n      <th>Time_Set11_Page Submit</th>\n      <th>Time_Set11_Click Count</th>\n      <th>Set12</th>\n      <th>Time_Set12_First Click</th>\n      <th>Time_Set12_Last Click</th>\n      <th>Time_Set12_Page Submit</th>\n      <th>Time_Set12_Click Count</th>\n      <th>Comments</th>\n    </tr>\n  </thead>\n  <tbody>\n    <tr>\n      <th>0</th>\n      <td>Start Date</td>\n      <td>End Date</td>\n      <td>Response Type</td>\n      <td>Progress</td>\n      <td>Duration (in seconds)</td>\n      <td>Finished</td>\n      <td>Recorded Date</td>\n      <td>Response ID</td>\n      <td>Distribution Channel</td>\n      <td>User Language</td>\n      <td>...</td>\n      <td>Timing - First Click</td>\n      <td>Timing - Last Click</td>\n      <td>Timing - Page Submit</td>\n      <td>Timing - Click Count</td>\n      <td>Ktorý z plánov elektrickej energie by ste si z...</td>\n      <td>Timing - First Click</td>\n      <td>Timing - Last Click</td>\n      <td>Timing - Page Submit</td>\n      <td>Timing - Click Count</td>\n      <td>Ďakujem Vám veľmi pekne za vyplnenie prieskumu...</td>\n    </tr>\n    <tr>\n      <th>1</th>\n      <td>{\"ImportId\":\"startDate\",\"timeZone\":\"Europe/Ber...</td>\n      <td>{\"ImportId\":\"endDate\",\"timeZone\":\"Europe/Berlin\"}</td>\n      <td>{\"ImportId\":\"status\"}</td>\n      <td>{\"ImportId\":\"progress\"}</td>\n      <td>{\"ImportId\":\"duration\"}</td>\n      <td>{\"ImportId\":\"finished\"}</td>\n      <td>{\"ImportId\":\"recordedDate\",\"timeZone\":\"Europe/...</td>\n      <td>{\"ImportId\":\"_recordId\"}</td>\n      <td>{\"ImportId\":\"distributionChannel\"}</td>\n      <td>{\"ImportId\":\"userLanguage\"}</td>\n      <td>...</td>\n      <td>{\"ImportId\":\"QID48_FIRST_CLICK\"}</td>\n      <td>{\"ImportId\":\"QID48_LAST_CLICK\"}</td>\n      <td>{\"ImportId\":\"QID48_PAGE_SUBMIT\"}</td>\n      <td>{\"ImportId\":\"QID48_CLICK_COUNT\"}</td>\n      <td>{\"ImportId\":\"QID49\"}</td>\n      <td>{\"ImportId\":\"QID50_FIRST_CLICK\"}</td>\n      <td>{\"ImportId\":\"QID50_LAST_CLICK\"}</td>\n      <td>{\"ImportId\":\"QID50_PAGE_SUBMIT\"}</td>\n      <td>{\"ImportId\":\"QID50_CLICK_COUNT\"}</td>\n      <td>{\"ImportId\":\"QID53_TEXT\"}</td>\n    </tr>\n    <tr>\n      <th>2</th>\n      <td>2022-05-18 09:51:41</td>\n      <td>2022-05-18 09:55:55</td>\n      <td>IP Address</td>\n      <td>100</td>\n      <td>254</td>\n      <td>True</td>\n      <td>2022-05-18 09:55:58</td>\n      <td>R_1pzMUhhsh8aVRYi</td>\n      <td>anonymous</td>\n      <td>SK</td>\n      <td>...</td>\n      <td>1.879</td>\n      <td>1.879</td>\n      <td>6.359</td>\n      <td>1</td>\n      <td>KONTRAKT A\\n\\nMesačný poplatok: €$e{q://QID10/...</td>\n      <td>7.074</td>\n      <td>7.074</td>\n      <td>8.038</td>\n      <td>1</td>\n      <td>NaN</td>\n    </tr>\n    <tr>\n      <th>3</th>\n      <td>2022-05-18 11:05:25</td>\n      <td>2022-05-18 11:10:49</td>\n      <td>IP Address</td>\n      <td>100</td>\n      <td>324</td>\n      <td>True</td>\n      <td>2022-05-18 11:10:51</td>\n      <td>R_AmTsD13JmmjO3iV</td>\n      <td>anonymous</td>\n      <td>SK</td>\n      <td>...</td>\n      <td>3.297</td>\n      <td>3.297</td>\n      <td>6.791</td>\n      <td>1</td>\n      <td>KONTRAKT A\\n\\nMesačný poplatok: €$e{q://QID10/...</td>\n      <td>3.5</td>\n      <td>3.5</td>\n      <td>4.798</td>\n      <td>1</td>\n      <td>NaN</td>\n    </tr>\n    <tr>\n      <th>4</th>\n      <td>2022-05-18 11:07:57</td>\n      <td>2022-05-18 11:11:59</td>\n      <td>IP Address</td>\n      <td>100</td>\n      <td>242</td>\n      <td>True</td>\n      <td>2022-05-18 11:12:01</td>\n      <td>R_21tw9KHb0ML81SJ</td>\n      <td>anonymous</td>\n      <td>SK</td>\n      <td>...</td>\n      <td>3.701</td>\n      <td>3.701</td>\n      <td>4.197</td>\n      <td>1</td>\n      <td>KONTRAKT A\\n\\nMesačný poplatok: €$e{q://QID10/...</td>\n      <td>1.943</td>\n      <td>1.943</td>\n      <td>2.784</td>\n      <td>1</td>\n      <td>NaN</td>\n    </tr>\n    <tr>\n      <th>...</th>\n      <td>...</td>\n      <td>...</td>\n      <td>...</td>\n      <td>...</td>\n      <td>...</td>\n      <td>...</td>\n      <td>...</td>\n      <td>...</td>\n      <td>...</td>\n      <td>...</td>\n      <td>...</td>\n      <td>...</td>\n      <td>...</td>\n      <td>...</td>\n      <td>...</td>\n      <td>...</td>\n      <td>...</td>\n      <td>...</td>\n      <td>...</td>\n      <td>...</td>\n      <td>...</td>\n    </tr>\n    <tr>\n      <th>109</th>\n      <td>2022-05-30 13:28:32</td>\n      <td>2022-05-30 13:34:24</td>\n      <td>IP Address</td>\n      <td>100</td>\n      <td>351</td>\n      <td>True</td>\n      <td>2022-05-30 13:34:24</td>\n      <td>R_e3YYeE5sB9xAcSJ</td>\n      <td>anonymous</td>\n      <td>SK</td>\n      <td>...</td>\n      <td>5.448</td>\n      <td>5.448</td>\n      <td>6.286</td>\n      <td>1</td>\n      <td>KONTRAKT B\\n\\nMesačný poplatok: €$e{q://QID10/...</td>\n      <td>7.7</td>\n      <td>7.7</td>\n      <td>8.776</td>\n      <td>1</td>\n      <td>NaN</td>\n    </tr>\n    <tr>\n      <th>110</th>\n      <td>2022-05-30 13:30:37</td>\n      <td>2022-05-30 13:35:59</td>\n      <td>IP Address</td>\n      <td>100</td>\n      <td>321</td>\n      <td>True</td>\n      <td>2022-05-30 13:36:00</td>\n      <td>R_3kHPD0vxwbjFq3m</td>\n      <td>anonymous</td>\n      <td>SK</td>\n      <td>...</td>\n      <td>1.563</td>\n      <td>1.563</td>\n      <td>2.494</td>\n      <td>1</td>\n      <td>KONTRAKT B\\n\\nMesačný poplatok: €$e{q://QID10/...</td>\n      <td>1.62</td>\n      <td>1.62</td>\n      <td>2.167</td>\n      <td>1</td>\n      <td>NaN</td>\n    </tr>\n    <tr>\n      <th>111</th>\n      <td>2022-05-30 13:07:22</td>\n      <td>2022-05-30 13:40:02</td>\n      <td>IP Address</td>\n      <td>100</td>\n      <td>1959</td>\n      <td>True</td>\n      <td>2022-05-30 13:40:03</td>\n      <td>R_3qx7cCBjdww0Mu8</td>\n      <td>anonymous</td>\n      <td>SK</td>\n      <td>...</td>\n      <td>2.801</td>\n      <td>2.801</td>\n      <td>3.648</td>\n      <td>1</td>\n      <td>KONTRAKT B\\n\\nMesačný poplatok: €$e{q://QID10/...</td>\n      <td>4.603</td>\n      <td>4.603</td>\n      <td>5.181</td>\n      <td>1</td>\n      <td>Mám zabezpečené solárne panely na ohrev vody, ...</td>\n    </tr>\n    <tr>\n      <th>112</th>\n      <td>2022-05-30 18:56:53</td>\n      <td>2022-05-30 19:03:56</td>\n      <td>IP Address</td>\n      <td>100</td>\n      <td>422</td>\n      <td>True</td>\n      <td>2022-05-30 19:03:56</td>\n      <td>R_3nSrJLDJiYnhvLz</td>\n      <td>anonymous</td>\n      <td>SK</td>\n      <td>...</td>\n      <td>4.201</td>\n      <td>6.367</td>\n      <td>7.192</td>\n      <td>2</td>\n      <td>KONTRAKT A\\n\\nMesačný poplatok: €$e{q://QID10/...</td>\n      <td>2.856</td>\n      <td>10.055</td>\n      <td>10.845</td>\n      <td>2</td>\n      <td>NaN</td>\n    </tr>\n    <tr>\n      <th>113</th>\n      <td>2022-05-30 21:44:51</td>\n      <td>2022-05-30 22:20:06</td>\n      <td>IP Address</td>\n      <td>100</td>\n      <td>2115</td>\n      <td>True</td>\n      <td>2022-05-30 22:20:08</td>\n      <td>R_2sZ9jGAmaddENVs</td>\n      <td>anonymous</td>\n      <td>SK</td>\n      <td>...</td>\n      <td>4.623</td>\n      <td>5.545</td>\n      <td>6.184</td>\n      <td>2</td>\n      <td>KONTRAKT B\\n\\nMesačný poplatok: €$e{q://QID10/...</td>\n      <td>19.003</td>\n      <td>19.917</td>\n      <td>20.522</td>\n      <td>2</td>\n      <td>NaN</td>\n    </tr>\n  </tbody>\n</table>\n<p>114 rows × 92 columns</p>\n</div>"
     },
     "execution_count": 27,
     "metadata": {},
     "output_type": "execute_result"
    }
   ],
   "source": [
    "data_text"
   ],
   "metadata": {
    "collapsed": false,
    "pycharm": {
     "name": "#%%\n"
    }
   }
  },
  {
   "cell_type": "code",
   "execution_count": 28,
   "outputs": [
    {
     "data": {
      "text/plain": "                                             StartDate  \\\n0                                           Start Date   \n1    {\"ImportId\":\"startDate\",\"timeZone\":\"Europe/Ber...   \n2                                  2022-05-18 09:51:41   \n3                                  2022-05-18 11:05:25   \n4                                  2022-05-18 11:07:57   \n..                                                 ...   \n109                                2022-05-30 13:28:32   \n110                                2022-05-30 13:30:37   \n111                                2022-05-30 13:07:22   \n112                                2022-05-30 18:56:53   \n113                                2022-05-30 21:44:51   \n\n                                               EndDate                 Status  \\\n0                                             End Date          Response Type   \n1    {\"ImportId\":\"endDate\",\"timeZone\":\"Europe/Berlin\"}  {\"ImportId\":\"status\"}   \n2                                  2022-05-18 09:55:55                      0   \n3                                  2022-05-18 11:10:49                      0   \n4                                  2022-05-18 11:11:59                      0   \n..                                                 ...                    ...   \n109                                2022-05-30 13:34:24                      0   \n110                                2022-05-30 13:35:59                      0   \n111                                2022-05-30 13:40:02                      0   \n112                                2022-05-30 19:03:56                      0   \n113                                2022-05-30 22:20:06                      0   \n\n                    Progress    Duration (in seconds)  \\\n0                   Progress    Duration (in seconds)   \n1    {\"ImportId\":\"progress\"}  {\"ImportId\":\"duration\"}   \n2                        100                      254   \n3                        100                      324   \n4                        100                      242   \n..                       ...                      ...   \n109                      100                      351   \n110                      100                      321   \n111                      100                     1959   \n112                      100                      422   \n113                      100                     2115   \n\n                    Finished  \\\n0                   Finished   \n1    {\"ImportId\":\"finished\"}   \n2                          1   \n3                          1   \n4                          1   \n..                       ...   \n109                        1   \n110                        1   \n111                        1   \n112                        1   \n113                        1   \n\n                                          RecordedDate  \\\n0                                        Recorded Date   \n1    {\"ImportId\":\"recordedDate\",\"timeZone\":\"Europe/...   \n2                                  2022-05-18 09:55:58   \n3                                  2022-05-18 11:10:51   \n4                                  2022-05-18 11:12:01   \n..                                                 ...   \n109                                2022-05-30 13:34:24   \n110                                2022-05-30 13:36:00   \n111                                2022-05-30 13:40:03   \n112                                2022-05-30 19:03:56   \n113                                2022-05-30 22:20:08   \n\n                   ResponseId                 DistributionChannel  \\\n0                 Response ID                Distribution Channel   \n1    {\"ImportId\":\"_recordId\"}  {\"ImportId\":\"distributionChannel\"}   \n2           R_1pzMUhhsh8aVRYi                           anonymous   \n3           R_AmTsD13JmmjO3iV                           anonymous   \n4           R_21tw9KHb0ML81SJ                           anonymous   \n..                        ...                                 ...   \n109         R_e3YYeE5sB9xAcSJ                           anonymous   \n110         R_3kHPD0vxwbjFq3m                           anonymous   \n111         R_3qx7cCBjdww0Mu8                           anonymous   \n112         R_3nSrJLDJiYnhvLz                           anonymous   \n113         R_2sZ9jGAmaddENVs                           anonymous   \n\n                    UserLanguage  ...            Time_Set11_First Click  \\\n0                  User Language  ...              Timing - First Click   \n1    {\"ImportId\":\"userLanguage\"}  ...  {\"ImportId\":\"QID48_FIRST_CLICK\"}   \n2                             SK  ...                             1.879   \n3                             SK  ...                             3.297   \n4                             SK  ...                             3.701   \n..                           ...  ...                               ...   \n109                           SK  ...                             5.448   \n110                           SK  ...                             1.563   \n111                           SK  ...                             2.801   \n112                           SK  ...                             4.201   \n113                           SK  ...                             4.623   \n\n               Time_Set11_Last Click            Time_Set11_Page Submit  \\\n0                Timing - Last Click              Timing - Page Submit   \n1    {\"ImportId\":\"QID48_LAST_CLICK\"}  {\"ImportId\":\"QID48_PAGE_SUBMIT\"}   \n2                              1.879                             6.359   \n3                              3.297                             6.791   \n4                              3.701                             4.197   \n..                               ...                               ...   \n109                            5.448                             6.286   \n110                            1.563                             2.494   \n111                            2.801                             3.648   \n112                            6.367                             7.192   \n113                            5.545                             6.184   \n\n               Time_Set11_Click Count  \\\n0                Timing - Click Count   \n1    {\"ImportId\":\"QID48_CLICK_COUNT\"}   \n2                                   1   \n3                                   1   \n4                                   1   \n..                                ...   \n109                                 1   \n110                                 1   \n111                                 1   \n112                                 2   \n113                                 2   \n\n                                                 Set12  \\\n0    Ktorý z plánov elektrickej energie by ste si z...   \n1                                 {\"ImportId\":\"QID49\"}   \n2                                                   31   \n3                                                   31   \n4                                                   31   \n..                                                 ...   \n109                                                 34   \n110                                                 34   \n111                                                 34   \n112                                                 31   \n113                                                 34   \n\n               Time_Set12_First Click            Time_Set12_Last Click  \\\n0                Timing - First Click              Timing - Last Click   \n1    {\"ImportId\":\"QID50_FIRST_CLICK\"}  {\"ImportId\":\"QID50_LAST_CLICK\"}   \n2                               7.074                            7.074   \n3                                 3.5                              3.5   \n4                               1.943                            1.943   \n..                                ...                              ...   \n109                               7.7                              7.7   \n110                              1.62                             1.62   \n111                             4.603                            4.603   \n112                             2.856                           10.055   \n113                            19.003                           19.917   \n\n               Time_Set12_Page Submit            Time_Set12_Click Count  \\\n0                Timing - Page Submit              Timing - Click Count   \n1    {\"ImportId\":\"QID50_PAGE_SUBMIT\"}  {\"ImportId\":\"QID50_CLICK_COUNT\"}   \n2                               8.038                                 1   \n3                               4.798                                 1   \n4                               2.784                                 1   \n..                                ...                               ...   \n109                             8.776                                 1   \n110                             2.167                                 1   \n111                             5.181                                 1   \n112                            10.845                                 2   \n113                            20.522                                 2   \n\n                                              Comments  \n0    Ďakujem Vám veľmi pekne za vyplnenie prieskumu...  \n1                            {\"ImportId\":\"QID53_TEXT\"}  \n2                                                  NaN  \n3                                                  NaN  \n4                                                  NaN  \n..                                                 ...  \n109                                                NaN  \n110                                                NaN  \n111  Mám zabezpečené solárne panely na ohrev vody, ...  \n112                                                NaN  \n113                                                NaN  \n\n[114 rows x 92 columns]",
      "text/html": "<div>\n<style scoped>\n    .dataframe tbody tr th:only-of-type {\n        vertical-align: middle;\n    }\n\n    .dataframe tbody tr th {\n        vertical-align: top;\n    }\n\n    .dataframe thead th {\n        text-align: right;\n    }\n</style>\n<table border=\"1\" class=\"dataframe\">\n  <thead>\n    <tr style=\"text-align: right;\">\n      <th></th>\n      <th>StartDate</th>\n      <th>EndDate</th>\n      <th>Status</th>\n      <th>Progress</th>\n      <th>Duration (in seconds)</th>\n      <th>Finished</th>\n      <th>RecordedDate</th>\n      <th>ResponseId</th>\n      <th>DistributionChannel</th>\n      <th>UserLanguage</th>\n      <th>...</th>\n      <th>Time_Set11_First Click</th>\n      <th>Time_Set11_Last Click</th>\n      <th>Time_Set11_Page Submit</th>\n      <th>Time_Set11_Click Count</th>\n      <th>Set12</th>\n      <th>Time_Set12_First Click</th>\n      <th>Time_Set12_Last Click</th>\n      <th>Time_Set12_Page Submit</th>\n      <th>Time_Set12_Click Count</th>\n      <th>Comments</th>\n    </tr>\n  </thead>\n  <tbody>\n    <tr>\n      <th>0</th>\n      <td>Start Date</td>\n      <td>End Date</td>\n      <td>Response Type</td>\n      <td>Progress</td>\n      <td>Duration (in seconds)</td>\n      <td>Finished</td>\n      <td>Recorded Date</td>\n      <td>Response ID</td>\n      <td>Distribution Channel</td>\n      <td>User Language</td>\n      <td>...</td>\n      <td>Timing - First Click</td>\n      <td>Timing - Last Click</td>\n      <td>Timing - Page Submit</td>\n      <td>Timing - Click Count</td>\n      <td>Ktorý z plánov elektrickej energie by ste si z...</td>\n      <td>Timing - First Click</td>\n      <td>Timing - Last Click</td>\n      <td>Timing - Page Submit</td>\n      <td>Timing - Click Count</td>\n      <td>Ďakujem Vám veľmi pekne za vyplnenie prieskumu...</td>\n    </tr>\n    <tr>\n      <th>1</th>\n      <td>{\"ImportId\":\"startDate\",\"timeZone\":\"Europe/Ber...</td>\n      <td>{\"ImportId\":\"endDate\",\"timeZone\":\"Europe/Berlin\"}</td>\n      <td>{\"ImportId\":\"status\"}</td>\n      <td>{\"ImportId\":\"progress\"}</td>\n      <td>{\"ImportId\":\"duration\"}</td>\n      <td>{\"ImportId\":\"finished\"}</td>\n      <td>{\"ImportId\":\"recordedDate\",\"timeZone\":\"Europe/...</td>\n      <td>{\"ImportId\":\"_recordId\"}</td>\n      <td>{\"ImportId\":\"distributionChannel\"}</td>\n      <td>{\"ImportId\":\"userLanguage\"}</td>\n      <td>...</td>\n      <td>{\"ImportId\":\"QID48_FIRST_CLICK\"}</td>\n      <td>{\"ImportId\":\"QID48_LAST_CLICK\"}</td>\n      <td>{\"ImportId\":\"QID48_PAGE_SUBMIT\"}</td>\n      <td>{\"ImportId\":\"QID48_CLICK_COUNT\"}</td>\n      <td>{\"ImportId\":\"QID49\"}</td>\n      <td>{\"ImportId\":\"QID50_FIRST_CLICK\"}</td>\n      <td>{\"ImportId\":\"QID50_LAST_CLICK\"}</td>\n      <td>{\"ImportId\":\"QID50_PAGE_SUBMIT\"}</td>\n      <td>{\"ImportId\":\"QID50_CLICK_COUNT\"}</td>\n      <td>{\"ImportId\":\"QID53_TEXT\"}</td>\n    </tr>\n    <tr>\n      <th>2</th>\n      <td>2022-05-18 09:51:41</td>\n      <td>2022-05-18 09:55:55</td>\n      <td>0</td>\n      <td>100</td>\n      <td>254</td>\n      <td>1</td>\n      <td>2022-05-18 09:55:58</td>\n      <td>R_1pzMUhhsh8aVRYi</td>\n      <td>anonymous</td>\n      <td>SK</td>\n      <td>...</td>\n      <td>1.879</td>\n      <td>1.879</td>\n      <td>6.359</td>\n      <td>1</td>\n      <td>31</td>\n      <td>7.074</td>\n      <td>7.074</td>\n      <td>8.038</td>\n      <td>1</td>\n      <td>NaN</td>\n    </tr>\n    <tr>\n      <th>3</th>\n      <td>2022-05-18 11:05:25</td>\n      <td>2022-05-18 11:10:49</td>\n      <td>0</td>\n      <td>100</td>\n      <td>324</td>\n      <td>1</td>\n      <td>2022-05-18 11:10:51</td>\n      <td>R_AmTsD13JmmjO3iV</td>\n      <td>anonymous</td>\n      <td>SK</td>\n      <td>...</td>\n      <td>3.297</td>\n      <td>3.297</td>\n      <td>6.791</td>\n      <td>1</td>\n      <td>31</td>\n      <td>3.5</td>\n      <td>3.5</td>\n      <td>4.798</td>\n      <td>1</td>\n      <td>NaN</td>\n    </tr>\n    <tr>\n      <th>4</th>\n      <td>2022-05-18 11:07:57</td>\n      <td>2022-05-18 11:11:59</td>\n      <td>0</td>\n      <td>100</td>\n      <td>242</td>\n      <td>1</td>\n      <td>2022-05-18 11:12:01</td>\n      <td>R_21tw9KHb0ML81SJ</td>\n      <td>anonymous</td>\n      <td>SK</td>\n      <td>...</td>\n      <td>3.701</td>\n      <td>3.701</td>\n      <td>4.197</td>\n      <td>1</td>\n      <td>31</td>\n      <td>1.943</td>\n      <td>1.943</td>\n      <td>2.784</td>\n      <td>1</td>\n      <td>NaN</td>\n    </tr>\n    <tr>\n      <th>...</th>\n      <td>...</td>\n      <td>...</td>\n      <td>...</td>\n      <td>...</td>\n      <td>...</td>\n      <td>...</td>\n      <td>...</td>\n      <td>...</td>\n      <td>...</td>\n      <td>...</td>\n      <td>...</td>\n      <td>...</td>\n      <td>...</td>\n      <td>...</td>\n      <td>...</td>\n      <td>...</td>\n      <td>...</td>\n      <td>...</td>\n      <td>...</td>\n      <td>...</td>\n      <td>...</td>\n    </tr>\n    <tr>\n      <th>109</th>\n      <td>2022-05-30 13:28:32</td>\n      <td>2022-05-30 13:34:24</td>\n      <td>0</td>\n      <td>100</td>\n      <td>351</td>\n      <td>1</td>\n      <td>2022-05-30 13:34:24</td>\n      <td>R_e3YYeE5sB9xAcSJ</td>\n      <td>anonymous</td>\n      <td>SK</td>\n      <td>...</td>\n      <td>5.448</td>\n      <td>5.448</td>\n      <td>6.286</td>\n      <td>1</td>\n      <td>34</td>\n      <td>7.7</td>\n      <td>7.7</td>\n      <td>8.776</td>\n      <td>1</td>\n      <td>NaN</td>\n    </tr>\n    <tr>\n      <th>110</th>\n      <td>2022-05-30 13:30:37</td>\n      <td>2022-05-30 13:35:59</td>\n      <td>0</td>\n      <td>100</td>\n      <td>321</td>\n      <td>1</td>\n      <td>2022-05-30 13:36:00</td>\n      <td>R_3kHPD0vxwbjFq3m</td>\n      <td>anonymous</td>\n      <td>SK</td>\n      <td>...</td>\n      <td>1.563</td>\n      <td>1.563</td>\n      <td>2.494</td>\n      <td>1</td>\n      <td>34</td>\n      <td>1.62</td>\n      <td>1.62</td>\n      <td>2.167</td>\n      <td>1</td>\n      <td>NaN</td>\n    </tr>\n    <tr>\n      <th>111</th>\n      <td>2022-05-30 13:07:22</td>\n      <td>2022-05-30 13:40:02</td>\n      <td>0</td>\n      <td>100</td>\n      <td>1959</td>\n      <td>1</td>\n      <td>2022-05-30 13:40:03</td>\n      <td>R_3qx7cCBjdww0Mu8</td>\n      <td>anonymous</td>\n      <td>SK</td>\n      <td>...</td>\n      <td>2.801</td>\n      <td>2.801</td>\n      <td>3.648</td>\n      <td>1</td>\n      <td>34</td>\n      <td>4.603</td>\n      <td>4.603</td>\n      <td>5.181</td>\n      <td>1</td>\n      <td>Mám zabezpečené solárne panely na ohrev vody, ...</td>\n    </tr>\n    <tr>\n      <th>112</th>\n      <td>2022-05-30 18:56:53</td>\n      <td>2022-05-30 19:03:56</td>\n      <td>0</td>\n      <td>100</td>\n      <td>422</td>\n      <td>1</td>\n      <td>2022-05-30 19:03:56</td>\n      <td>R_3nSrJLDJiYnhvLz</td>\n      <td>anonymous</td>\n      <td>SK</td>\n      <td>...</td>\n      <td>4.201</td>\n      <td>6.367</td>\n      <td>7.192</td>\n      <td>2</td>\n      <td>31</td>\n      <td>2.856</td>\n      <td>10.055</td>\n      <td>10.845</td>\n      <td>2</td>\n      <td>NaN</td>\n    </tr>\n    <tr>\n      <th>113</th>\n      <td>2022-05-30 21:44:51</td>\n      <td>2022-05-30 22:20:06</td>\n      <td>0</td>\n      <td>100</td>\n      <td>2115</td>\n      <td>1</td>\n      <td>2022-05-30 22:20:08</td>\n      <td>R_2sZ9jGAmaddENVs</td>\n      <td>anonymous</td>\n      <td>SK</td>\n      <td>...</td>\n      <td>4.623</td>\n      <td>5.545</td>\n      <td>6.184</td>\n      <td>2</td>\n      <td>34</td>\n      <td>19.003</td>\n      <td>19.917</td>\n      <td>20.522</td>\n      <td>2</td>\n      <td>NaN</td>\n    </tr>\n  </tbody>\n</table>\n<p>114 rows × 92 columns</p>\n</div>"
     },
     "execution_count": 28,
     "metadata": {},
     "output_type": "execute_result"
    }
   ],
   "source": [
    "data_num"
   ],
   "metadata": {
    "collapsed": false,
    "pycharm": {
     "name": "#%%\n"
    }
   }
  },
  {
   "cell_type": "code",
   "execution_count": 29,
   "outputs": [],
   "source": [
    "#Data Cleaning\n",
    "data_num = data_num.drop(index=[0,1],axis=1) #run only once\n",
    "columns_drop=['StartDate','EndDate','Status','Finished','RecordedDate','DistributionChannel','UserLanguage','Data Agreement','Comments']\n",
    "data_num = data_num.drop(columns=columns_drop)\n",
    "\n",
    "data_text = data_text.drop(index=[0,1],axis=1) #run only once\n",
    "data_text = data_text.drop(columns=columns_drop)"
   ],
   "metadata": {
    "collapsed": false,
    "pycharm": {
     "name": "#%%\n"
    }
   }
  },
  {
   "cell_type": "code",
   "execution_count": 30,
   "outputs": [],
   "source": [
    "#Columns_rename\n",
    "columns_rename = {'Task1_1':'Task_temp','Task1_2':'Task_source','Task1_3':'Task_consumption','Task1_4':'Task_appliances','Gender':'Gender_f'}\n",
    "data_num.rename(columns=columns_rename, inplace=True)\n",
    "data_text.rename(columns=columns_rename, inplace=True)"
   ],
   "metadata": {
    "collapsed": false,
    "pycharm": {
     "name": "#%%\n"
    }
   }
  },
  {
   "cell_type": "code",
   "execution_count": 31,
   "outputs": [],
   "source": [
    "#Providers & Appliances\n",
    "providers_count =  data_num['Providers'].str.count('\\w+')\n",
    "data_num.insert(data_num.columns.get_loc('Providers')+1,'Providers_count', providers_count)\n",
    "appliances_count = data_num['Appliances'].str.count('\\w+')\n",
    "data_num.insert(data_num.columns.get_loc('Appliances')+1,'Appliance_count',appliances_count)      #count # of providers and appliances"
   ],
   "metadata": {
    "collapsed": false,
    "pycharm": {
     "name": "#%%\n"
    }
   }
  },
  {
   "cell_type": "code",
   "execution_count": 32,
   "outputs": [],
   "source": [
    "#see if green providers\n",
    "know_green_provider = np.where((data_text['Providers'].str.contains('RIGHT POWER') | data_text['Providers'].str.contains('Greenlogy')), 1, 0)\n",
    "data_num.insert(data_num.columns.get_loc('Providers')+1,'Know_green_provider',know_green_provider)"
   ],
   "metadata": {
    "collapsed": false,
    "pycharm": {
     "name": "#%%\n"
    }
   }
  },
  {
   "cell_type": "code",
   "execution_count": 33,
   "outputs": [],
   "source": [
    "#One-hot energy consumption\n",
    "data_num['Energy Consumption'] = np.where(data_num['Energy Consumption']=='2',0,1)"
   ],
   "metadata": {
    "collapsed": false,
    "pycharm": {
     "name": "#%%\n"
    }
   }
  },
  {
   "cell_type": "code",
   "execution_count": 34,
   "outputs": [],
   "source": [
    "#One-hot gender\n",
    "data_num['Gender_f'] = np.where(data_num['Gender_f']=='2',1,0)\n",
    "\n",
    "#One-hot income\n",
    "no_income = np.where(data_num['Income']=='7',1,0)\n",
    "data_num.insert(data_num.columns.get_loc('Income')+1,'No Income',no_income)\n",
    "data_num['Income'].replace({\"7\": \"0\"}, inplace=True)"
   ],
   "metadata": {
    "collapsed": false,
    "pycharm": {
     "name": "#%%\n"
    }
   }
  },
  {
   "cell_type": "code",
   "execution_count": 35,
   "outputs": [],
   "source": [
    "#One-hot Region\n",
    "region_west = np.where(data_num['Region']=='1',1,0)\n",
    "region_east = np.where(data_num['Region']=='3',1,0)\n",
    "data_num.insert(data_num.columns.get_loc('Region')+1,'Region East',region_east)\n",
    "data_num.insert(data_num.columns.get_loc('Region')+1,'Region West',region_west)"
   ],
   "metadata": {
    "collapsed": false,
    "pycharm": {
     "name": "#%%\n"
    }
   }
  },
  {
   "cell_type": "code",
   "execution_count": 36,
   "outputs": [],
   "source": [
    "#Replace tasks\n",
    "data_num['Task_temp'].replace({\"1\": 1, \"2\": 2, \"4\": 3,\"5\":4,\"6\":5}, inplace=True)\n",
    "data_num['Task_source'].replace({\"1\": 1, \"2\": 2, \"4\": 3,\"5\":4,\"6\":5}, inplace=True)\n",
    "data_num['Task_consumption'].replace({\"1\": 1, \"2\": 2, \"4\": 3,\"5\":4,\"6\":5}, inplace=True)\n",
    "data_num['Task_appliances'].replace({\"1\": 1, \"2\": 2, \"4\": 3,\"5\":4,\"6\":5}, inplace=True)"
   ],
   "metadata": {
    "collapsed": false,
    "pycharm": {
     "name": "#%%\n"
    }
   }
  },
  {
   "cell_type": "code",
   "execution_count": 37,
   "outputs": [
    {
     "data": {
      "text/plain": "    Progress Duration (in seconds)         ResponseId Age  Gender_f Income  \\\n2        100                   254  R_1pzMUhhsh8aVRYi  38         0      3   \n3        100                   324  R_AmTsD13JmmjO3iV  24         0      4   \n4        100                   242  R_21tw9KHb0ML81SJ  40         0      6   \n5        100                   598  R_1fki1n2Z31QFaAq  35         0      5   \n6        100                   438  R_3En9cfWxVnHUMwl  25         0      5   \n..       ...                   ...                ...  ..       ...    ...   \n109      100                   351  R_e3YYeE5sB9xAcSJ  58         1      4   \n110      100                   321  R_3kHPD0vxwbjFq3m  18         1      0   \n111      100                  1959  R_3qx7cCBjdww0Mu8  44         1      2   \n112      100                   422  R_3nSrJLDJiYnhvLz  62         1      2   \n113      100                  2115  R_2sZ9jGAmaddENVs  62         1      6   \n\n     No Income  Energy Consumption Tariff payment_1  ... Set11  \\\n2            0                   0    NaN        50  ...    31   \n3            0                   1      2        33  ...    34   \n4            0                   1      2        11  ...    34   \n5            0                   1      2        63  ...    34   \n6            0                   1      2        80  ...    31   \n..         ...                 ...    ...       ...  ...   ...   \n109          0                   0    NaN        26  ...    31   \n110          1                   0    NaN       151  ...    34   \n111          0                   0    NaN        60  ...    31   \n112          0                   1      1        54  ...    34   \n113          0                   1      1        75  ...    34   \n\n     Time_Set11_First Click  Time_Set11_Last Click Time_Set11_Page Submit  \\\n2                     1.879                  1.879                  6.359   \n3                     3.297                  3.297                  6.791   \n4                     3.701                  3.701                  4.197   \n5                     7.186                  7.186                  8.381   \n6                    18.755                 18.755                  19.74   \n..                      ...                    ...                    ...   \n109                   5.448                  5.448                  6.286   \n110                   1.563                  1.563                  2.494   \n111                   2.801                  2.801                  3.648   \n112                   4.201                  6.367                  7.192   \n113                   4.623                  5.545                  6.184   \n\n    Time_Set11_Click Count Set12 Time_Set12_First Click  \\\n2                        1    31                  7.074   \n3                        1    31                    3.5   \n4                        1    31                  1.943   \n5                        1    31                  2.515   \n6                        1    31                  4.274   \n..                     ...   ...                    ...   \n109                      1    34                    7.7   \n110                      1    34                   1.62   \n111                      1    34                  4.603   \n112                      2    31                  2.856   \n113                      2    34                 19.003   \n\n     Time_Set12_Last Click  Time_Set12_Page Submit Time_Set12_Click Count  \n2                    7.074                   8.038                      1  \n3                      3.5                   4.798                      1  \n4                    1.943                   2.784                      1  \n5                    2.515                   4.936                      1  \n6                    4.274                   5.461                      1  \n..                     ...                     ...                    ...  \n109                    7.7                   8.776                      1  \n110                   1.62                   2.167                      1  \n111                  4.603                   5.181                      1  \n112                 10.055                  10.845                      2  \n113                 19.917                  20.522                      2  \n\n[112 rows x 89 columns]",
      "text/html": "<div>\n<style scoped>\n    .dataframe tbody tr th:only-of-type {\n        vertical-align: middle;\n    }\n\n    .dataframe tbody tr th {\n        vertical-align: top;\n    }\n\n    .dataframe thead th {\n        text-align: right;\n    }\n</style>\n<table border=\"1\" class=\"dataframe\">\n  <thead>\n    <tr style=\"text-align: right;\">\n      <th></th>\n      <th>Progress</th>\n      <th>Duration (in seconds)</th>\n      <th>ResponseId</th>\n      <th>Age</th>\n      <th>Gender_f</th>\n      <th>Income</th>\n      <th>No Income</th>\n      <th>Energy Consumption</th>\n      <th>Tariff</th>\n      <th>payment_1</th>\n      <th>...</th>\n      <th>Set11</th>\n      <th>Time_Set11_First Click</th>\n      <th>Time_Set11_Last Click</th>\n      <th>Time_Set11_Page Submit</th>\n      <th>Time_Set11_Click Count</th>\n      <th>Set12</th>\n      <th>Time_Set12_First Click</th>\n      <th>Time_Set12_Last Click</th>\n      <th>Time_Set12_Page Submit</th>\n      <th>Time_Set12_Click Count</th>\n    </tr>\n  </thead>\n  <tbody>\n    <tr>\n      <th>2</th>\n      <td>100</td>\n      <td>254</td>\n      <td>R_1pzMUhhsh8aVRYi</td>\n      <td>38</td>\n      <td>0</td>\n      <td>3</td>\n      <td>0</td>\n      <td>0</td>\n      <td>NaN</td>\n      <td>50</td>\n      <td>...</td>\n      <td>31</td>\n      <td>1.879</td>\n      <td>1.879</td>\n      <td>6.359</td>\n      <td>1</td>\n      <td>31</td>\n      <td>7.074</td>\n      <td>7.074</td>\n      <td>8.038</td>\n      <td>1</td>\n    </tr>\n    <tr>\n      <th>3</th>\n      <td>100</td>\n      <td>324</td>\n      <td>R_AmTsD13JmmjO3iV</td>\n      <td>24</td>\n      <td>0</td>\n      <td>4</td>\n      <td>0</td>\n      <td>1</td>\n      <td>2</td>\n      <td>33</td>\n      <td>...</td>\n      <td>34</td>\n      <td>3.297</td>\n      <td>3.297</td>\n      <td>6.791</td>\n      <td>1</td>\n      <td>31</td>\n      <td>3.5</td>\n      <td>3.5</td>\n      <td>4.798</td>\n      <td>1</td>\n    </tr>\n    <tr>\n      <th>4</th>\n      <td>100</td>\n      <td>242</td>\n      <td>R_21tw9KHb0ML81SJ</td>\n      <td>40</td>\n      <td>0</td>\n      <td>6</td>\n      <td>0</td>\n      <td>1</td>\n      <td>2</td>\n      <td>11</td>\n      <td>...</td>\n      <td>34</td>\n      <td>3.701</td>\n      <td>3.701</td>\n      <td>4.197</td>\n      <td>1</td>\n      <td>31</td>\n      <td>1.943</td>\n      <td>1.943</td>\n      <td>2.784</td>\n      <td>1</td>\n    </tr>\n    <tr>\n      <th>5</th>\n      <td>100</td>\n      <td>598</td>\n      <td>R_1fki1n2Z31QFaAq</td>\n      <td>35</td>\n      <td>0</td>\n      <td>5</td>\n      <td>0</td>\n      <td>1</td>\n      <td>2</td>\n      <td>63</td>\n      <td>...</td>\n      <td>34</td>\n      <td>7.186</td>\n      <td>7.186</td>\n      <td>8.381</td>\n      <td>1</td>\n      <td>31</td>\n      <td>2.515</td>\n      <td>2.515</td>\n      <td>4.936</td>\n      <td>1</td>\n    </tr>\n    <tr>\n      <th>6</th>\n      <td>100</td>\n      <td>438</td>\n      <td>R_3En9cfWxVnHUMwl</td>\n      <td>25</td>\n      <td>0</td>\n      <td>5</td>\n      <td>0</td>\n      <td>1</td>\n      <td>2</td>\n      <td>80</td>\n      <td>...</td>\n      <td>31</td>\n      <td>18.755</td>\n      <td>18.755</td>\n      <td>19.74</td>\n      <td>1</td>\n      <td>31</td>\n      <td>4.274</td>\n      <td>4.274</td>\n      <td>5.461</td>\n      <td>1</td>\n    </tr>\n    <tr>\n      <th>...</th>\n      <td>...</td>\n      <td>...</td>\n      <td>...</td>\n      <td>...</td>\n      <td>...</td>\n      <td>...</td>\n      <td>...</td>\n      <td>...</td>\n      <td>...</td>\n      <td>...</td>\n      <td>...</td>\n      <td>...</td>\n      <td>...</td>\n      <td>...</td>\n      <td>...</td>\n      <td>...</td>\n      <td>...</td>\n      <td>...</td>\n      <td>...</td>\n      <td>...</td>\n      <td>...</td>\n    </tr>\n    <tr>\n      <th>109</th>\n      <td>100</td>\n      <td>351</td>\n      <td>R_e3YYeE5sB9xAcSJ</td>\n      <td>58</td>\n      <td>1</td>\n      <td>4</td>\n      <td>0</td>\n      <td>0</td>\n      <td>NaN</td>\n      <td>26</td>\n      <td>...</td>\n      <td>31</td>\n      <td>5.448</td>\n      <td>5.448</td>\n      <td>6.286</td>\n      <td>1</td>\n      <td>34</td>\n      <td>7.7</td>\n      <td>7.7</td>\n      <td>8.776</td>\n      <td>1</td>\n    </tr>\n    <tr>\n      <th>110</th>\n      <td>100</td>\n      <td>321</td>\n      <td>R_3kHPD0vxwbjFq3m</td>\n      <td>18</td>\n      <td>1</td>\n      <td>0</td>\n      <td>1</td>\n      <td>0</td>\n      <td>NaN</td>\n      <td>151</td>\n      <td>...</td>\n      <td>34</td>\n      <td>1.563</td>\n      <td>1.563</td>\n      <td>2.494</td>\n      <td>1</td>\n      <td>34</td>\n      <td>1.62</td>\n      <td>1.62</td>\n      <td>2.167</td>\n      <td>1</td>\n    </tr>\n    <tr>\n      <th>111</th>\n      <td>100</td>\n      <td>1959</td>\n      <td>R_3qx7cCBjdww0Mu8</td>\n      <td>44</td>\n      <td>1</td>\n      <td>2</td>\n      <td>0</td>\n      <td>0</td>\n      <td>NaN</td>\n      <td>60</td>\n      <td>...</td>\n      <td>31</td>\n      <td>2.801</td>\n      <td>2.801</td>\n      <td>3.648</td>\n      <td>1</td>\n      <td>34</td>\n      <td>4.603</td>\n      <td>4.603</td>\n      <td>5.181</td>\n      <td>1</td>\n    </tr>\n    <tr>\n      <th>112</th>\n      <td>100</td>\n      <td>422</td>\n      <td>R_3nSrJLDJiYnhvLz</td>\n      <td>62</td>\n      <td>1</td>\n      <td>2</td>\n      <td>0</td>\n      <td>1</td>\n      <td>1</td>\n      <td>54</td>\n      <td>...</td>\n      <td>34</td>\n      <td>4.201</td>\n      <td>6.367</td>\n      <td>7.192</td>\n      <td>2</td>\n      <td>31</td>\n      <td>2.856</td>\n      <td>10.055</td>\n      <td>10.845</td>\n      <td>2</td>\n    </tr>\n    <tr>\n      <th>113</th>\n      <td>100</td>\n      <td>2115</td>\n      <td>R_2sZ9jGAmaddENVs</td>\n      <td>62</td>\n      <td>1</td>\n      <td>6</td>\n      <td>0</td>\n      <td>1</td>\n      <td>1</td>\n      <td>75</td>\n      <td>...</td>\n      <td>34</td>\n      <td>4.623</td>\n      <td>5.545</td>\n      <td>6.184</td>\n      <td>2</td>\n      <td>34</td>\n      <td>19.003</td>\n      <td>19.917</td>\n      <td>20.522</td>\n      <td>2</td>\n    </tr>\n  </tbody>\n</table>\n<p>112 rows × 89 columns</p>\n</div>"
     },
     "execution_count": 37,
     "metadata": {},
     "output_type": "execute_result"
    }
   ],
   "source": [
    "data_num"
   ],
   "metadata": {
    "collapsed": false,
    "pycharm": {
     "name": "#%%\n"
    }
   }
  },
  {
   "cell_type": "code",
   "execution_count": 38,
   "outputs": [
    {
     "data": {
      "text/plain": "    Progress Duration (in seconds)         ResponseId Age Gender_f  \\\n2        100                   254  R_1pzMUhhsh8aVRYi  38      Muž   \n3        100                   324  R_AmTsD13JmmjO3iV  24      Muž   \n4        100                   242  R_21tw9KHb0ML81SJ  40      Muž   \n5        100                   598  R_1fki1n2Z31QFaAq  35      Muž   \n6        100                   438  R_3En9cfWxVnHUMwl  25      Muž   \n..       ...                   ...                ...  ..      ...   \n109      100                   351  R_e3YYeE5sB9xAcSJ  58     Žena   \n110      100                   321  R_3kHPD0vxwbjFq3m  18     Žena   \n111      100                  1959  R_3qx7cCBjdww0Mu8  44     Žena   \n112      100                   422  R_3nSrJLDJiYnhvLz  62     Žena   \n113      100                  2115  R_2sZ9jGAmaddENVs  62     Žena   \n\n                     Income Energy Consumption Tariff payment_1  \\\n2             €1001 - €1500                Nie    NaN        50   \n3             €1501 - €2000                Áno     D2        33   \n4                    €2501+                Áno     D2        11   \n5             €2001 - €2500                Áno     D2        63   \n6             €2001 - €2500                Áno     D2        80   \n..                      ...                ...    ...       ...   \n109           €1501 - €2000                Nie    NaN        26   \n110  Preferujem neodpovedať                Nie    NaN       151   \n111            €501 - €1000                Nie    NaN        60   \n112            €501 - €1000                Áno     D1        54   \n113                  €2501+                Áno     D1        75   \n\n                 Region  ...  \\\n2     Západné Slovensko  ...   \n3    Východné Slovensko  ...   \n4     Západné Slovensko  ...   \n5     Západné Slovensko  ...   \n6     Západné Slovensko  ...   \n..                  ...  ...   \n109   Západné Slovensko  ...   \n110  Východné Slovensko  ...   \n111   Stredné Slovensko  ...   \n112  Východné Slovensko  ...   \n113  Východné Slovensko  ...   \n\n                                                 Set11 Time_Set11_First Click  \\\n2    KONTRAKT A\\n\\nMesačný poplatok: €$e{q://QID10/...                  1.879   \n3    KONTRAKT B\\n\\nMesačný poplatok: €$e{q://QID10/...                  3.297   \n4    KONTRAKT B\\n\\nMesačný poplatok: €$e{q://QID10/...                  3.701   \n5    KONTRAKT B\\n\\nMesačný poplatok: €$e{q://QID10/...                  7.186   \n6    KONTRAKT A\\n\\nMesačný poplatok: €$e{q://QID10/...                 18.755   \n..                                                 ...                    ...   \n109  KONTRAKT A\\n\\nMesačný poplatok: €$e{q://QID10/...                  5.448   \n110  KONTRAKT B\\n\\nMesačný poplatok: €$e{q://QID10/...                  1.563   \n111  KONTRAKT A\\n\\nMesačný poplatok: €$e{q://QID10/...                  2.801   \n112  KONTRAKT B\\n\\nMesačný poplatok: €$e{q://QID10/...                  4.201   \n113  KONTRAKT B\\n\\nMesačný poplatok: €$e{q://QID10/...                  4.623   \n\n    Time_Set11_Last Click Time_Set11_Page Submit Time_Set11_Click Count  \\\n2                   1.879                  6.359                      1   \n3                   3.297                  6.791                      1   \n4                   3.701                  4.197                      1   \n5                   7.186                  8.381                      1   \n6                  18.755                  19.74                      1   \n..                    ...                    ...                    ...   \n109                 5.448                  6.286                      1   \n110                 1.563                  2.494                      1   \n111                 2.801                  3.648                      1   \n112                 6.367                  7.192                      2   \n113                 5.545                  6.184                      2   \n\n                                                 Set12 Time_Set12_First Click  \\\n2    KONTRAKT A\\n\\nMesačný poplatok: €$e{q://QID10/...                  7.074   \n3    KONTRAKT A\\n\\nMesačný poplatok: €$e{q://QID10/...                    3.5   \n4    KONTRAKT A\\n\\nMesačný poplatok: €$e{q://QID10/...                  1.943   \n5    KONTRAKT A\\n\\nMesačný poplatok: €$e{q://QID10/...                  2.515   \n6    KONTRAKT A\\n\\nMesačný poplatok: €$e{q://QID10/...                  4.274   \n..                                                 ...                    ...   \n109  KONTRAKT B\\n\\nMesačný poplatok: €$e{q://QID10/...                    7.7   \n110  KONTRAKT B\\n\\nMesačný poplatok: €$e{q://QID10/...                   1.62   \n111  KONTRAKT B\\n\\nMesačný poplatok: €$e{q://QID10/...                  4.603   \n112  KONTRAKT A\\n\\nMesačný poplatok: €$e{q://QID10/...                  2.856   \n113  KONTRAKT B\\n\\nMesačný poplatok: €$e{q://QID10/...                 19.003   \n\n    Time_Set12_Last Click Time_Set12_Page Submit Time_Set12_Click Count  \n2                   7.074                  8.038                      1  \n3                     3.5                  4.798                      1  \n4                   1.943                  2.784                      1  \n5                   2.515                  4.936                      1  \n6                   4.274                  5.461                      1  \n..                    ...                    ...                    ...  \n109                   7.7                  8.776                      1  \n110                  1.62                  2.167                      1  \n111                 4.603                  5.181                      1  \n112                10.055                 10.845                      2  \n113                19.917                 20.522                      2  \n\n[112 rows x 83 columns]",
      "text/html": "<div>\n<style scoped>\n    .dataframe tbody tr th:only-of-type {\n        vertical-align: middle;\n    }\n\n    .dataframe tbody tr th {\n        vertical-align: top;\n    }\n\n    .dataframe thead th {\n        text-align: right;\n    }\n</style>\n<table border=\"1\" class=\"dataframe\">\n  <thead>\n    <tr style=\"text-align: right;\">\n      <th></th>\n      <th>Progress</th>\n      <th>Duration (in seconds)</th>\n      <th>ResponseId</th>\n      <th>Age</th>\n      <th>Gender_f</th>\n      <th>Income</th>\n      <th>Energy Consumption</th>\n      <th>Tariff</th>\n      <th>payment_1</th>\n      <th>Region</th>\n      <th>...</th>\n      <th>Set11</th>\n      <th>Time_Set11_First Click</th>\n      <th>Time_Set11_Last Click</th>\n      <th>Time_Set11_Page Submit</th>\n      <th>Time_Set11_Click Count</th>\n      <th>Set12</th>\n      <th>Time_Set12_First Click</th>\n      <th>Time_Set12_Last Click</th>\n      <th>Time_Set12_Page Submit</th>\n      <th>Time_Set12_Click Count</th>\n    </tr>\n  </thead>\n  <tbody>\n    <tr>\n      <th>2</th>\n      <td>100</td>\n      <td>254</td>\n      <td>R_1pzMUhhsh8aVRYi</td>\n      <td>38</td>\n      <td>Muž</td>\n      <td>€1001 - €1500</td>\n      <td>Nie</td>\n      <td>NaN</td>\n      <td>50</td>\n      <td>Západné Slovensko</td>\n      <td>...</td>\n      <td>KONTRAKT A\\n\\nMesačný poplatok: €$e{q://QID10/...</td>\n      <td>1.879</td>\n      <td>1.879</td>\n      <td>6.359</td>\n      <td>1</td>\n      <td>KONTRAKT A\\n\\nMesačný poplatok: €$e{q://QID10/...</td>\n      <td>7.074</td>\n      <td>7.074</td>\n      <td>8.038</td>\n      <td>1</td>\n    </tr>\n    <tr>\n      <th>3</th>\n      <td>100</td>\n      <td>324</td>\n      <td>R_AmTsD13JmmjO3iV</td>\n      <td>24</td>\n      <td>Muž</td>\n      <td>€1501 - €2000</td>\n      <td>Áno</td>\n      <td>D2</td>\n      <td>33</td>\n      <td>Východné Slovensko</td>\n      <td>...</td>\n      <td>KONTRAKT B\\n\\nMesačný poplatok: €$e{q://QID10/...</td>\n      <td>3.297</td>\n      <td>3.297</td>\n      <td>6.791</td>\n      <td>1</td>\n      <td>KONTRAKT A\\n\\nMesačný poplatok: €$e{q://QID10/...</td>\n      <td>3.5</td>\n      <td>3.5</td>\n      <td>4.798</td>\n      <td>1</td>\n    </tr>\n    <tr>\n      <th>4</th>\n      <td>100</td>\n      <td>242</td>\n      <td>R_21tw9KHb0ML81SJ</td>\n      <td>40</td>\n      <td>Muž</td>\n      <td>€2501+</td>\n      <td>Áno</td>\n      <td>D2</td>\n      <td>11</td>\n      <td>Západné Slovensko</td>\n      <td>...</td>\n      <td>KONTRAKT B\\n\\nMesačný poplatok: €$e{q://QID10/...</td>\n      <td>3.701</td>\n      <td>3.701</td>\n      <td>4.197</td>\n      <td>1</td>\n      <td>KONTRAKT A\\n\\nMesačný poplatok: €$e{q://QID10/...</td>\n      <td>1.943</td>\n      <td>1.943</td>\n      <td>2.784</td>\n      <td>1</td>\n    </tr>\n    <tr>\n      <th>5</th>\n      <td>100</td>\n      <td>598</td>\n      <td>R_1fki1n2Z31QFaAq</td>\n      <td>35</td>\n      <td>Muž</td>\n      <td>€2001 - €2500</td>\n      <td>Áno</td>\n      <td>D2</td>\n      <td>63</td>\n      <td>Západné Slovensko</td>\n      <td>...</td>\n      <td>KONTRAKT B\\n\\nMesačný poplatok: €$e{q://QID10/...</td>\n      <td>7.186</td>\n      <td>7.186</td>\n      <td>8.381</td>\n      <td>1</td>\n      <td>KONTRAKT A\\n\\nMesačný poplatok: €$e{q://QID10/...</td>\n      <td>2.515</td>\n      <td>2.515</td>\n      <td>4.936</td>\n      <td>1</td>\n    </tr>\n    <tr>\n      <th>6</th>\n      <td>100</td>\n      <td>438</td>\n      <td>R_3En9cfWxVnHUMwl</td>\n      <td>25</td>\n      <td>Muž</td>\n      <td>€2001 - €2500</td>\n      <td>Áno</td>\n      <td>D2</td>\n      <td>80</td>\n      <td>Západné Slovensko</td>\n      <td>...</td>\n      <td>KONTRAKT A\\n\\nMesačný poplatok: €$e{q://QID10/...</td>\n      <td>18.755</td>\n      <td>18.755</td>\n      <td>19.74</td>\n      <td>1</td>\n      <td>KONTRAKT A\\n\\nMesačný poplatok: €$e{q://QID10/...</td>\n      <td>4.274</td>\n      <td>4.274</td>\n      <td>5.461</td>\n      <td>1</td>\n    </tr>\n    <tr>\n      <th>...</th>\n      <td>...</td>\n      <td>...</td>\n      <td>...</td>\n      <td>...</td>\n      <td>...</td>\n      <td>...</td>\n      <td>...</td>\n      <td>...</td>\n      <td>...</td>\n      <td>...</td>\n      <td>...</td>\n      <td>...</td>\n      <td>...</td>\n      <td>...</td>\n      <td>...</td>\n      <td>...</td>\n      <td>...</td>\n      <td>...</td>\n      <td>...</td>\n      <td>...</td>\n      <td>...</td>\n    </tr>\n    <tr>\n      <th>109</th>\n      <td>100</td>\n      <td>351</td>\n      <td>R_e3YYeE5sB9xAcSJ</td>\n      <td>58</td>\n      <td>Žena</td>\n      <td>€1501 - €2000</td>\n      <td>Nie</td>\n      <td>NaN</td>\n      <td>26</td>\n      <td>Západné Slovensko</td>\n      <td>...</td>\n      <td>KONTRAKT A\\n\\nMesačný poplatok: €$e{q://QID10/...</td>\n      <td>5.448</td>\n      <td>5.448</td>\n      <td>6.286</td>\n      <td>1</td>\n      <td>KONTRAKT B\\n\\nMesačný poplatok: €$e{q://QID10/...</td>\n      <td>7.7</td>\n      <td>7.7</td>\n      <td>8.776</td>\n      <td>1</td>\n    </tr>\n    <tr>\n      <th>110</th>\n      <td>100</td>\n      <td>321</td>\n      <td>R_3kHPD0vxwbjFq3m</td>\n      <td>18</td>\n      <td>Žena</td>\n      <td>Preferujem neodpovedať</td>\n      <td>Nie</td>\n      <td>NaN</td>\n      <td>151</td>\n      <td>Východné Slovensko</td>\n      <td>...</td>\n      <td>KONTRAKT B\\n\\nMesačný poplatok: €$e{q://QID10/...</td>\n      <td>1.563</td>\n      <td>1.563</td>\n      <td>2.494</td>\n      <td>1</td>\n      <td>KONTRAKT B\\n\\nMesačný poplatok: €$e{q://QID10/...</td>\n      <td>1.62</td>\n      <td>1.62</td>\n      <td>2.167</td>\n      <td>1</td>\n    </tr>\n    <tr>\n      <th>111</th>\n      <td>100</td>\n      <td>1959</td>\n      <td>R_3qx7cCBjdww0Mu8</td>\n      <td>44</td>\n      <td>Žena</td>\n      <td>€501 - €1000</td>\n      <td>Nie</td>\n      <td>NaN</td>\n      <td>60</td>\n      <td>Stredné Slovensko</td>\n      <td>...</td>\n      <td>KONTRAKT A\\n\\nMesačný poplatok: €$e{q://QID10/...</td>\n      <td>2.801</td>\n      <td>2.801</td>\n      <td>3.648</td>\n      <td>1</td>\n      <td>KONTRAKT B\\n\\nMesačný poplatok: €$e{q://QID10/...</td>\n      <td>4.603</td>\n      <td>4.603</td>\n      <td>5.181</td>\n      <td>1</td>\n    </tr>\n    <tr>\n      <th>112</th>\n      <td>100</td>\n      <td>422</td>\n      <td>R_3nSrJLDJiYnhvLz</td>\n      <td>62</td>\n      <td>Žena</td>\n      <td>€501 - €1000</td>\n      <td>Áno</td>\n      <td>D1</td>\n      <td>54</td>\n      <td>Východné Slovensko</td>\n      <td>...</td>\n      <td>KONTRAKT B\\n\\nMesačný poplatok: €$e{q://QID10/...</td>\n      <td>4.201</td>\n      <td>6.367</td>\n      <td>7.192</td>\n      <td>2</td>\n      <td>KONTRAKT A\\n\\nMesačný poplatok: €$e{q://QID10/...</td>\n      <td>2.856</td>\n      <td>10.055</td>\n      <td>10.845</td>\n      <td>2</td>\n    </tr>\n    <tr>\n      <th>113</th>\n      <td>100</td>\n      <td>2115</td>\n      <td>R_2sZ9jGAmaddENVs</td>\n      <td>62</td>\n      <td>Žena</td>\n      <td>€2501+</td>\n      <td>Áno</td>\n      <td>D1</td>\n      <td>75</td>\n      <td>Východné Slovensko</td>\n      <td>...</td>\n      <td>KONTRAKT B\\n\\nMesačný poplatok: €$e{q://QID10/...</td>\n      <td>4.623</td>\n      <td>5.545</td>\n      <td>6.184</td>\n      <td>2</td>\n      <td>KONTRAKT B\\n\\nMesačný poplatok: €$e{q://QID10/...</td>\n      <td>19.003</td>\n      <td>19.917</td>\n      <td>20.522</td>\n      <td>2</td>\n    </tr>\n  </tbody>\n</table>\n<p>112 rows × 83 columns</p>\n</div>"
     },
     "execution_count": 38,
     "metadata": {},
     "output_type": "execute_result"
    }
   ],
   "source": [
    "data_text"
   ],
   "metadata": {
    "collapsed": false,
    "pycharm": {
     "name": "#%%\n"
    }
   }
  },
  {
   "cell_type": "code",
   "execution_count": 39,
   "outputs": [],
   "source": [
    "#Sets encoding\n",
    "sets = ['Set1','Set2','Set3','Set4','Set5','Set6','Set7','Set8','Set9','Set10','Set11','Set12']\n",
    "new_sets = []\n",
    "\n",
    "for i in sets:\n",
    "    a = i+\"_a\"\n",
    "    b = i+\"_b\"\n",
    "    new_sets.append(a)\n",
    "    new_sets.append(b)\n",
    "\n",
    "for i in new_sets:\n",
    "    data_num.insert(len(data_num.columns),i,0)\n"
   ],
   "metadata": {
    "collapsed": false,
    "pycharm": {
     "name": "#%%\n"
    }
   }
  },
  {
   "cell_type": "code",
   "execution_count": 41,
   "outputs": [
    {
     "data": {
      "text/plain": "    Progress Duration (in seconds)         ResponseId Age  Gender_f Income  \\\n2        100                   254  R_1pzMUhhsh8aVRYi  38         0      3   \n3        100                   324  R_AmTsD13JmmjO3iV  24         0      4   \n4        100                   242  R_21tw9KHb0ML81SJ  40         0      6   \n5        100                   598  R_1fki1n2Z31QFaAq  35         0      5   \n6        100                   438  R_3En9cfWxVnHUMwl  25         0      5   \n..       ...                   ...                ...  ..       ...    ...   \n109      100                   351  R_e3YYeE5sB9xAcSJ  58         1      4   \n110      100                   321  R_3kHPD0vxwbjFq3m  18         1      0   \n111      100                  1959  R_3qx7cCBjdww0Mu8  44         1      2   \n112      100                   422  R_3nSrJLDJiYnhvLz  62         1      2   \n113      100                  2115  R_2sZ9jGAmaddENVs  62         1      6   \n\n     No Income  Energy Consumption Tariff payment_1  ... Set8_a  Set8_b  \\\n2            0                   0    NaN        50  ...      0       1   \n3            0                   1      2        33  ...      0       1   \n4            0                   1      2        11  ...      0       1   \n5            0                   1      2        63  ...      0       1   \n6            0                   1      2        80  ...      1       0   \n..         ...                 ...    ...       ...  ...    ...     ...   \n109          0                   0    NaN        26  ...      1       0   \n110          1                   0    NaN       151  ...      1       0   \n111          0                   0    NaN        60  ...      1       0   \n112          0                   1      1        54  ...      0       1   \n113          0                   1      1        75  ...      0       1   \n\n     Set9_a Set9_b Set10_a Set10_b Set11_a  Set11_b  Set12_a Set12_b  \n2         1      0       1       0       1        0        1       0  \n3         0      1       1       0       0        1        1       0  \n4         0      1       1       0       0        1        1       0  \n5         0      1       1       0       0        1        1       0  \n6         0      1       1       0       1        0        1       0  \n..      ...    ...     ...     ...     ...      ...      ...     ...  \n109       1      0       0       1       1        0        0       1  \n110       1      0       1       0       0        1        0       1  \n111       1      0       0       1       1        0        0       1  \n112       0      1       1       0       0        1        1       0  \n113       0      1       1       0       0        1        0       1  \n\n[112 rows x 113 columns]",
      "text/html": "<div>\n<style scoped>\n    .dataframe tbody tr th:only-of-type {\n        vertical-align: middle;\n    }\n\n    .dataframe tbody tr th {\n        vertical-align: top;\n    }\n\n    .dataframe thead th {\n        text-align: right;\n    }\n</style>\n<table border=\"1\" class=\"dataframe\">\n  <thead>\n    <tr style=\"text-align: right;\">\n      <th></th>\n      <th>Progress</th>\n      <th>Duration (in seconds)</th>\n      <th>ResponseId</th>\n      <th>Age</th>\n      <th>Gender_f</th>\n      <th>Income</th>\n      <th>No Income</th>\n      <th>Energy Consumption</th>\n      <th>Tariff</th>\n      <th>payment_1</th>\n      <th>...</th>\n      <th>Set8_a</th>\n      <th>Set8_b</th>\n      <th>Set9_a</th>\n      <th>Set9_b</th>\n      <th>Set10_a</th>\n      <th>Set10_b</th>\n      <th>Set11_a</th>\n      <th>Set11_b</th>\n      <th>Set12_a</th>\n      <th>Set12_b</th>\n    </tr>\n  </thead>\n  <tbody>\n    <tr>\n      <th>2</th>\n      <td>100</td>\n      <td>254</td>\n      <td>R_1pzMUhhsh8aVRYi</td>\n      <td>38</td>\n      <td>0</td>\n      <td>3</td>\n      <td>0</td>\n      <td>0</td>\n      <td>NaN</td>\n      <td>50</td>\n      <td>...</td>\n      <td>0</td>\n      <td>1</td>\n      <td>1</td>\n      <td>0</td>\n      <td>1</td>\n      <td>0</td>\n      <td>1</td>\n      <td>0</td>\n      <td>1</td>\n      <td>0</td>\n    </tr>\n    <tr>\n      <th>3</th>\n      <td>100</td>\n      <td>324</td>\n      <td>R_AmTsD13JmmjO3iV</td>\n      <td>24</td>\n      <td>0</td>\n      <td>4</td>\n      <td>0</td>\n      <td>1</td>\n      <td>2</td>\n      <td>33</td>\n      <td>...</td>\n      <td>0</td>\n      <td>1</td>\n      <td>0</td>\n      <td>1</td>\n      <td>1</td>\n      <td>0</td>\n      <td>0</td>\n      <td>1</td>\n      <td>1</td>\n      <td>0</td>\n    </tr>\n    <tr>\n      <th>4</th>\n      <td>100</td>\n      <td>242</td>\n      <td>R_21tw9KHb0ML81SJ</td>\n      <td>40</td>\n      <td>0</td>\n      <td>6</td>\n      <td>0</td>\n      <td>1</td>\n      <td>2</td>\n      <td>11</td>\n      <td>...</td>\n      <td>0</td>\n      <td>1</td>\n      <td>0</td>\n      <td>1</td>\n      <td>1</td>\n      <td>0</td>\n      <td>0</td>\n      <td>1</td>\n      <td>1</td>\n      <td>0</td>\n    </tr>\n    <tr>\n      <th>5</th>\n      <td>100</td>\n      <td>598</td>\n      <td>R_1fki1n2Z31QFaAq</td>\n      <td>35</td>\n      <td>0</td>\n      <td>5</td>\n      <td>0</td>\n      <td>1</td>\n      <td>2</td>\n      <td>63</td>\n      <td>...</td>\n      <td>0</td>\n      <td>1</td>\n      <td>0</td>\n      <td>1</td>\n      <td>1</td>\n      <td>0</td>\n      <td>0</td>\n      <td>1</td>\n      <td>1</td>\n      <td>0</td>\n    </tr>\n    <tr>\n      <th>6</th>\n      <td>100</td>\n      <td>438</td>\n      <td>R_3En9cfWxVnHUMwl</td>\n      <td>25</td>\n      <td>0</td>\n      <td>5</td>\n      <td>0</td>\n      <td>1</td>\n      <td>2</td>\n      <td>80</td>\n      <td>...</td>\n      <td>1</td>\n      <td>0</td>\n      <td>0</td>\n      <td>1</td>\n      <td>1</td>\n      <td>0</td>\n      <td>1</td>\n      <td>0</td>\n      <td>1</td>\n      <td>0</td>\n    </tr>\n    <tr>\n      <th>...</th>\n      <td>...</td>\n      <td>...</td>\n      <td>...</td>\n      <td>...</td>\n      <td>...</td>\n      <td>...</td>\n      <td>...</td>\n      <td>...</td>\n      <td>...</td>\n      <td>...</td>\n      <td>...</td>\n      <td>...</td>\n      <td>...</td>\n      <td>...</td>\n      <td>...</td>\n      <td>...</td>\n      <td>...</td>\n      <td>...</td>\n      <td>...</td>\n      <td>...</td>\n      <td>...</td>\n    </tr>\n    <tr>\n      <th>109</th>\n      <td>100</td>\n      <td>351</td>\n      <td>R_e3YYeE5sB9xAcSJ</td>\n      <td>58</td>\n      <td>1</td>\n      <td>4</td>\n      <td>0</td>\n      <td>0</td>\n      <td>NaN</td>\n      <td>26</td>\n      <td>...</td>\n      <td>1</td>\n      <td>0</td>\n      <td>1</td>\n      <td>0</td>\n      <td>0</td>\n      <td>1</td>\n      <td>1</td>\n      <td>0</td>\n      <td>0</td>\n      <td>1</td>\n    </tr>\n    <tr>\n      <th>110</th>\n      <td>100</td>\n      <td>321</td>\n      <td>R_3kHPD0vxwbjFq3m</td>\n      <td>18</td>\n      <td>1</td>\n      <td>0</td>\n      <td>1</td>\n      <td>0</td>\n      <td>NaN</td>\n      <td>151</td>\n      <td>...</td>\n      <td>1</td>\n      <td>0</td>\n      <td>1</td>\n      <td>0</td>\n      <td>1</td>\n      <td>0</td>\n      <td>0</td>\n      <td>1</td>\n      <td>0</td>\n      <td>1</td>\n    </tr>\n    <tr>\n      <th>111</th>\n      <td>100</td>\n      <td>1959</td>\n      <td>R_3qx7cCBjdww0Mu8</td>\n      <td>44</td>\n      <td>1</td>\n      <td>2</td>\n      <td>0</td>\n      <td>0</td>\n      <td>NaN</td>\n      <td>60</td>\n      <td>...</td>\n      <td>1</td>\n      <td>0</td>\n      <td>1</td>\n      <td>0</td>\n      <td>0</td>\n      <td>1</td>\n      <td>1</td>\n      <td>0</td>\n      <td>0</td>\n      <td>1</td>\n    </tr>\n    <tr>\n      <th>112</th>\n      <td>100</td>\n      <td>422</td>\n      <td>R_3nSrJLDJiYnhvLz</td>\n      <td>62</td>\n      <td>1</td>\n      <td>2</td>\n      <td>0</td>\n      <td>1</td>\n      <td>1</td>\n      <td>54</td>\n      <td>...</td>\n      <td>0</td>\n      <td>1</td>\n      <td>0</td>\n      <td>1</td>\n      <td>1</td>\n      <td>0</td>\n      <td>0</td>\n      <td>1</td>\n      <td>1</td>\n      <td>0</td>\n    </tr>\n    <tr>\n      <th>113</th>\n      <td>100</td>\n      <td>2115</td>\n      <td>R_2sZ9jGAmaddENVs</td>\n      <td>62</td>\n      <td>1</td>\n      <td>6</td>\n      <td>0</td>\n      <td>1</td>\n      <td>1</td>\n      <td>75</td>\n      <td>...</td>\n      <td>0</td>\n      <td>1</td>\n      <td>0</td>\n      <td>1</td>\n      <td>1</td>\n      <td>0</td>\n      <td>0</td>\n      <td>1</td>\n      <td>0</td>\n      <td>1</td>\n    </tr>\n  </tbody>\n</table>\n<p>112 rows × 113 columns</p>\n</div>"
     },
     "execution_count": 41,
     "metadata": {},
     "output_type": "execute_result"
    }
   ],
   "source": [
    "for column in data_num[sets]:\n",
    "    data_num.loc[data_num[str(column)]=='31', str(column+\"_a\")] = 1\n",
    "    data_num.loc[data_num[str(column)]=='34', str(column+\"_b\")] = 1\n",
    "\n",
    "data_num"
   ],
   "metadata": {
    "collapsed": false,
    "pycharm": {
     "name": "#%%\n"
    }
   }
  },
  {
   "cell_type": "code",
   "execution_count": 42,
   "outputs": [
    {
     "data": {
      "text/plain": "Progress                 object\nDuration (in seconds)    object\nResponseId               object\nAge                      object\nGender_f                  int64\n                          ...  \nSet10_b                   int64\nSet11_a                   int64\nSet11_b                   int64\nSet12_a                   int64\nSet12_b                   int64\nLength: 113, dtype: object"
     },
     "execution_count": 42,
     "metadata": {},
     "output_type": "execute_result"
    }
   ],
   "source": [
    "data_num.dtypes"
   ],
   "metadata": {
    "collapsed": false,
    "pycharm": {
     "name": "#%%\n"
    }
   }
  },
  {
   "cell_type": "code",
   "execution_count": 43,
   "outputs": [],
   "source": [
    "dtype_int = ['Progress', 'Duration (in seconds)','Age','Income','payment_1','Region','Household_size','Concern_1','RES_attitude_1']\n",
    "data_num[dtype_int] = data_num[dtype_int].astype(int)"
   ],
   "metadata": {
    "collapsed": false,
    "pycharm": {
     "name": "#%%\n"
    }
   }
  },
  {
   "cell_type": "code",
   "execution_count": 44,
   "outputs": [],
   "source": [
    "pd.DataFrame.to_csv(data_num.describe(),folder+\"/descriptive_table.csv\")"
   ],
   "metadata": {
    "collapsed": false,
    "pycharm": {
     "name": "#%%\n"
    }
   }
  },
  {
   "cell_type": "code",
   "execution_count": 45,
   "outputs": [
    {
     "data": {
      "text/plain": "               ResponseId Tariff Providers Appliances  \\\ncount                 112     49       112        112   \nunique                112      4        54         28   \ntop     R_sySAfz6mTB8AkI9      2     12,14      1,3,6   \nfreq                    1     25        10         19   \n\n       Time_Explainer_First Click Time_Explainer_Last Click  \\\ncount                         112                       112   \nunique                         87                        87   \ntop                             0                         0   \nfreq                           26                        26   \n\n       Time_Explainer_Page Submit Time_Explainer_Click Count Set1  \\\ncount                         112                        112  112   \nunique                        112                         19    2   \ntop                        70.951                          0   34   \nfreq                            1                         26   58   \n\n       Time_Set1_First Click  ... Set11 Time_Set11_First Click  \\\ncount                    112  ...   112                    112   \nunique                   112  ...     2                    111   \ntop                    0.841  ...    34                  1.357   \nfreq                       1  ...    62                      2   \n\n       Time_Set11_Last Click Time_Set11_Page Submit Time_Set11_Click Count  \\\ncount                    112                    112                    112   \nunique                   111                    112                      5   \ntop                    1.357                 13.132                      1   \nfreq                       2                      1                     87   \n\n       Set12 Time_Set12_First Click Time_Set12_Last Click  \\\ncount    112                    112                   112   \nunique     2                    112                   112   \ntop       31                  3.078                 3.078   \nfreq      74                      1                     1   \n\n       Time_Set12_Page Submit Time_Set12_Click Count  \ncount                     112                    112  \nunique                    111                      5  \ntop                     2.372                      1  \nfreq                        2                     95  \n\n[4 rows x 68 columns]",
      "text/html": "<div>\n<style scoped>\n    .dataframe tbody tr th:only-of-type {\n        vertical-align: middle;\n    }\n\n    .dataframe tbody tr th {\n        vertical-align: top;\n    }\n\n    .dataframe thead th {\n        text-align: right;\n    }\n</style>\n<table border=\"1\" class=\"dataframe\">\n  <thead>\n    <tr style=\"text-align: right;\">\n      <th></th>\n      <th>ResponseId</th>\n      <th>Tariff</th>\n      <th>Providers</th>\n      <th>Appliances</th>\n      <th>Time_Explainer_First Click</th>\n      <th>Time_Explainer_Last Click</th>\n      <th>Time_Explainer_Page Submit</th>\n      <th>Time_Explainer_Click Count</th>\n      <th>Set1</th>\n      <th>Time_Set1_First Click</th>\n      <th>...</th>\n      <th>Set11</th>\n      <th>Time_Set11_First Click</th>\n      <th>Time_Set11_Last Click</th>\n      <th>Time_Set11_Page Submit</th>\n      <th>Time_Set11_Click Count</th>\n      <th>Set12</th>\n      <th>Time_Set12_First Click</th>\n      <th>Time_Set12_Last Click</th>\n      <th>Time_Set12_Page Submit</th>\n      <th>Time_Set12_Click Count</th>\n    </tr>\n  </thead>\n  <tbody>\n    <tr>\n      <th>count</th>\n      <td>112</td>\n      <td>49</td>\n      <td>112</td>\n      <td>112</td>\n      <td>112</td>\n      <td>112</td>\n      <td>112</td>\n      <td>112</td>\n      <td>112</td>\n      <td>112</td>\n      <td>...</td>\n      <td>112</td>\n      <td>112</td>\n      <td>112</td>\n      <td>112</td>\n      <td>112</td>\n      <td>112</td>\n      <td>112</td>\n      <td>112</td>\n      <td>112</td>\n      <td>112</td>\n    </tr>\n    <tr>\n      <th>unique</th>\n      <td>112</td>\n      <td>4</td>\n      <td>54</td>\n      <td>28</td>\n      <td>87</td>\n      <td>87</td>\n      <td>112</td>\n      <td>19</td>\n      <td>2</td>\n      <td>112</td>\n      <td>...</td>\n      <td>2</td>\n      <td>111</td>\n      <td>111</td>\n      <td>112</td>\n      <td>5</td>\n      <td>2</td>\n      <td>112</td>\n      <td>112</td>\n      <td>111</td>\n      <td>5</td>\n    </tr>\n    <tr>\n      <th>top</th>\n      <td>R_sySAfz6mTB8AkI9</td>\n      <td>2</td>\n      <td>12,14</td>\n      <td>1,3,6</td>\n      <td>0</td>\n      <td>0</td>\n      <td>70.951</td>\n      <td>0</td>\n      <td>34</td>\n      <td>0.841</td>\n      <td>...</td>\n      <td>34</td>\n      <td>1.357</td>\n      <td>1.357</td>\n      <td>13.132</td>\n      <td>1</td>\n      <td>31</td>\n      <td>3.078</td>\n      <td>3.078</td>\n      <td>2.372</td>\n      <td>1</td>\n    </tr>\n    <tr>\n      <th>freq</th>\n      <td>1</td>\n      <td>25</td>\n      <td>10</td>\n      <td>19</td>\n      <td>26</td>\n      <td>26</td>\n      <td>1</td>\n      <td>26</td>\n      <td>58</td>\n      <td>1</td>\n      <td>...</td>\n      <td>62</td>\n      <td>2</td>\n      <td>2</td>\n      <td>1</td>\n      <td>87</td>\n      <td>74</td>\n      <td>1</td>\n      <td>1</td>\n      <td>2</td>\n      <td>95</td>\n    </tr>\n  </tbody>\n</table>\n<p>4 rows × 68 columns</p>\n</div>"
     },
     "execution_count": 45,
     "metadata": {},
     "output_type": "execute_result"
    }
   ],
   "source": [
    "data_num.describe(include='object')"
   ],
   "metadata": {
    "collapsed": false,
    "pycharm": {
     "name": "#%%\n"
    }
   }
  },
  {
   "cell_type": "code",
   "execution_count": 46,
   "outputs": [],
   "source": [
    "analysis_columns = new_sets.copy()\n",
    "analysis_columns.append('ResponseId')\n"
   ],
   "metadata": {
    "collapsed": false,
    "pycharm": {
     "name": "#%%\n"
    }
   }
  },
  {
   "cell_type": "code",
   "execution_count": 47,
   "outputs": [],
   "source": [
    "analysis = data_num[analysis_columns]"
   ],
   "metadata": {
    "collapsed": false,
    "pycharm": {
     "name": "#%%\n"
    }
   }
  },
  {
   "cell_type": "code",
   "execution_count": 48,
   "outputs": [
    {
     "data": {
      "text/plain": "            ResponseId  Set1_a  Set1_b  Set2_a  Set2_b  Set3_a  Set3_b  \\\n2    R_1pzMUhhsh8aVRYi       0       1       0       1       0       1   \n3    R_AmTsD13JmmjO3iV       1       0       1       0       1       0   \n4    R_21tw9KHb0ML81SJ       1       0       1       0       1       0   \n5    R_1fki1n2Z31QFaAq       1       0       1       0       0       1   \n6    R_3En9cfWxVnHUMwl       1       0       1       0       1       0   \n..                 ...     ...     ...     ...     ...     ...     ...   \n109  R_e3YYeE5sB9xAcSJ       0       1       0       1       0       1   \n110  R_3kHPD0vxwbjFq3m       0       1       0       1       1       0   \n111  R_3qx7cCBjdww0Mu8       0       1       0       1       1       0   \n112  R_3nSrJLDJiYnhvLz       0       1       0       1       1       0   \n113  R_2sZ9jGAmaddENVs       0       1       0       1       0       1   \n\n     Set4_a  Set4_b  Set5_a  ...  Set8_a  Set8_b  Set9_a  Set9_b  Set10_a  \\\n2         0       1       1  ...       0       1       1       0        1   \n3         0       1       1  ...       0       1       0       1        1   \n4         0       1       1  ...       0       1       0       1        1   \n5         0       1       0  ...       0       1       0       1        1   \n6         0       1       1  ...       1       0       0       1        1   \n..      ...     ...     ...  ...     ...     ...     ...     ...      ...   \n109       0       1       1  ...       1       0       1       0        0   \n110       1       0       1  ...       1       0       1       0        1   \n111       0       1       1  ...       1       0       1       0        0   \n112       0       1       1  ...       0       1       0       1        1   \n113       0       1       0  ...       0       1       0       1        1   \n\n     Set10_b  Set11_a  Set11_b  Set12_a  Set12_b  \n2          0        1        0        1        0  \n3          0        0        1        1        0  \n4          0        0        1        1        0  \n5          0        0        1        1        0  \n6          0        1        0        1        0  \n..       ...      ...      ...      ...      ...  \n109        1        1        0        0        1  \n110        0        0        1        0        1  \n111        1        1        0        0        1  \n112        0        0        1        1        0  \n113        0        0        1        0        1  \n\n[112 rows x 25 columns]",
      "text/html": "<div>\n<style scoped>\n    .dataframe tbody tr th:only-of-type {\n        vertical-align: middle;\n    }\n\n    .dataframe tbody tr th {\n        vertical-align: top;\n    }\n\n    .dataframe thead th {\n        text-align: right;\n    }\n</style>\n<table border=\"1\" class=\"dataframe\">\n  <thead>\n    <tr style=\"text-align: right;\">\n      <th></th>\n      <th>ResponseId</th>\n      <th>Set1_a</th>\n      <th>Set1_b</th>\n      <th>Set2_a</th>\n      <th>Set2_b</th>\n      <th>Set3_a</th>\n      <th>Set3_b</th>\n      <th>Set4_a</th>\n      <th>Set4_b</th>\n      <th>Set5_a</th>\n      <th>...</th>\n      <th>Set8_a</th>\n      <th>Set8_b</th>\n      <th>Set9_a</th>\n      <th>Set9_b</th>\n      <th>Set10_a</th>\n      <th>Set10_b</th>\n      <th>Set11_a</th>\n      <th>Set11_b</th>\n      <th>Set12_a</th>\n      <th>Set12_b</th>\n    </tr>\n  </thead>\n  <tbody>\n    <tr>\n      <th>2</th>\n      <td>R_1pzMUhhsh8aVRYi</td>\n      <td>0</td>\n      <td>1</td>\n      <td>0</td>\n      <td>1</td>\n      <td>0</td>\n      <td>1</td>\n      <td>0</td>\n      <td>1</td>\n      <td>1</td>\n      <td>...</td>\n      <td>0</td>\n      <td>1</td>\n      <td>1</td>\n      <td>0</td>\n      <td>1</td>\n      <td>0</td>\n      <td>1</td>\n      <td>0</td>\n      <td>1</td>\n      <td>0</td>\n    </tr>\n    <tr>\n      <th>3</th>\n      <td>R_AmTsD13JmmjO3iV</td>\n      <td>1</td>\n      <td>0</td>\n      <td>1</td>\n      <td>0</td>\n      <td>1</td>\n      <td>0</td>\n      <td>0</td>\n      <td>1</td>\n      <td>1</td>\n      <td>...</td>\n      <td>0</td>\n      <td>1</td>\n      <td>0</td>\n      <td>1</td>\n      <td>1</td>\n      <td>0</td>\n      <td>0</td>\n      <td>1</td>\n      <td>1</td>\n      <td>0</td>\n    </tr>\n    <tr>\n      <th>4</th>\n      <td>R_21tw9KHb0ML81SJ</td>\n      <td>1</td>\n      <td>0</td>\n      <td>1</td>\n      <td>0</td>\n      <td>1</td>\n      <td>0</td>\n      <td>0</td>\n      <td>1</td>\n      <td>1</td>\n      <td>...</td>\n      <td>0</td>\n      <td>1</td>\n      <td>0</td>\n      <td>1</td>\n      <td>1</td>\n      <td>0</td>\n      <td>0</td>\n      <td>1</td>\n      <td>1</td>\n      <td>0</td>\n    </tr>\n    <tr>\n      <th>5</th>\n      <td>R_1fki1n2Z31QFaAq</td>\n      <td>1</td>\n      <td>0</td>\n      <td>1</td>\n      <td>0</td>\n      <td>0</td>\n      <td>1</td>\n      <td>0</td>\n      <td>1</td>\n      <td>0</td>\n      <td>...</td>\n      <td>0</td>\n      <td>1</td>\n      <td>0</td>\n      <td>1</td>\n      <td>1</td>\n      <td>0</td>\n      <td>0</td>\n      <td>1</td>\n      <td>1</td>\n      <td>0</td>\n    </tr>\n    <tr>\n      <th>6</th>\n      <td>R_3En9cfWxVnHUMwl</td>\n      <td>1</td>\n      <td>0</td>\n      <td>1</td>\n      <td>0</td>\n      <td>1</td>\n      <td>0</td>\n      <td>0</td>\n      <td>1</td>\n      <td>1</td>\n      <td>...</td>\n      <td>1</td>\n      <td>0</td>\n      <td>0</td>\n      <td>1</td>\n      <td>1</td>\n      <td>0</td>\n      <td>1</td>\n      <td>0</td>\n      <td>1</td>\n      <td>0</td>\n    </tr>\n    <tr>\n      <th>...</th>\n      <td>...</td>\n      <td>...</td>\n      <td>...</td>\n      <td>...</td>\n      <td>...</td>\n      <td>...</td>\n      <td>...</td>\n      <td>...</td>\n      <td>...</td>\n      <td>...</td>\n      <td>...</td>\n      <td>...</td>\n      <td>...</td>\n      <td>...</td>\n      <td>...</td>\n      <td>...</td>\n      <td>...</td>\n      <td>...</td>\n      <td>...</td>\n      <td>...</td>\n      <td>...</td>\n    </tr>\n    <tr>\n      <th>109</th>\n      <td>R_e3YYeE5sB9xAcSJ</td>\n      <td>0</td>\n      <td>1</td>\n      <td>0</td>\n      <td>1</td>\n      <td>0</td>\n      <td>1</td>\n      <td>0</td>\n      <td>1</td>\n      <td>1</td>\n      <td>...</td>\n      <td>1</td>\n      <td>0</td>\n      <td>1</td>\n      <td>0</td>\n      <td>0</td>\n      <td>1</td>\n      <td>1</td>\n      <td>0</td>\n      <td>0</td>\n      <td>1</td>\n    </tr>\n    <tr>\n      <th>110</th>\n      <td>R_3kHPD0vxwbjFq3m</td>\n      <td>0</td>\n      <td>1</td>\n      <td>0</td>\n      <td>1</td>\n      <td>1</td>\n      <td>0</td>\n      <td>1</td>\n      <td>0</td>\n      <td>1</td>\n      <td>...</td>\n      <td>1</td>\n      <td>0</td>\n      <td>1</td>\n      <td>0</td>\n      <td>1</td>\n      <td>0</td>\n      <td>0</td>\n      <td>1</td>\n      <td>0</td>\n      <td>1</td>\n    </tr>\n    <tr>\n      <th>111</th>\n      <td>R_3qx7cCBjdww0Mu8</td>\n      <td>0</td>\n      <td>1</td>\n      <td>0</td>\n      <td>1</td>\n      <td>1</td>\n      <td>0</td>\n      <td>0</td>\n      <td>1</td>\n      <td>1</td>\n      <td>...</td>\n      <td>1</td>\n      <td>0</td>\n      <td>1</td>\n      <td>0</td>\n      <td>0</td>\n      <td>1</td>\n      <td>1</td>\n      <td>0</td>\n      <td>0</td>\n      <td>1</td>\n    </tr>\n    <tr>\n      <th>112</th>\n      <td>R_3nSrJLDJiYnhvLz</td>\n      <td>0</td>\n      <td>1</td>\n      <td>0</td>\n      <td>1</td>\n      <td>1</td>\n      <td>0</td>\n      <td>0</td>\n      <td>1</td>\n      <td>1</td>\n      <td>...</td>\n      <td>0</td>\n      <td>1</td>\n      <td>0</td>\n      <td>1</td>\n      <td>1</td>\n      <td>0</td>\n      <td>0</td>\n      <td>1</td>\n      <td>1</td>\n      <td>0</td>\n    </tr>\n    <tr>\n      <th>113</th>\n      <td>R_2sZ9jGAmaddENVs</td>\n      <td>0</td>\n      <td>1</td>\n      <td>0</td>\n      <td>1</td>\n      <td>0</td>\n      <td>1</td>\n      <td>0</td>\n      <td>1</td>\n      <td>0</td>\n      <td>...</td>\n      <td>0</td>\n      <td>1</td>\n      <td>0</td>\n      <td>1</td>\n      <td>1</td>\n      <td>0</td>\n      <td>0</td>\n      <td>1</td>\n      <td>0</td>\n      <td>1</td>\n    </tr>\n  </tbody>\n</table>\n<p>112 rows × 25 columns</p>\n</div>"
     },
     "execution_count": 48,
     "metadata": {},
     "output_type": "execute_result"
    }
   ],
   "source": [
    "df = analysis.pop('ResponseId')\n",
    "analysis.insert(0,'ResponseId',df)\n",
    "\n",
    "analysis"
   ],
   "metadata": {
    "collapsed": false,
    "pycharm": {
     "name": "#%%\n"
    }
   }
  },
  {
   "cell_type": "code",
   "execution_count": 49,
   "outputs": [
    {
     "data": {
      "text/plain": "                   index  Set1_a  Set1_b  Set2_a  Set2_b  Set3_a  Set3_b  \\\nResponseId                                                                 \nR_1pzMUhhsh8aVRYi      2       0       1       0       1       0       1   \nR_AmTsD13JmmjO3iV      3       1       0       1       0       1       0   \nR_21tw9KHb0ML81SJ      4       1       0       1       0       1       0   \nR_1fki1n2Z31QFaAq      5       1       0       1       0       0       1   \nR_3En9cfWxVnHUMwl      6       1       0       1       0       1       0   \n...                  ...     ...     ...     ...     ...     ...     ...   \nR_e3YYeE5sB9xAcSJ    109       0       1       0       1       0       1   \nR_3kHPD0vxwbjFq3m    110       0       1       0       1       1       0   \nR_3qx7cCBjdww0Mu8    111       0       1       0       1       1       0   \nR_3nSrJLDJiYnhvLz    112       0       1       0       1       1       0   \nR_2sZ9jGAmaddENVs    113       0       1       0       1       0       1   \n\n                   Set4_a  Set4_b  Set5_a  ...  Set8_a  Set8_b  Set9_a  \\\nResponseId                                 ...                           \nR_1pzMUhhsh8aVRYi       0       1       1  ...       0       1       1   \nR_AmTsD13JmmjO3iV       0       1       1  ...       0       1       0   \nR_21tw9KHb0ML81SJ       0       1       1  ...       0       1       0   \nR_1fki1n2Z31QFaAq       0       1       0  ...       0       1       0   \nR_3En9cfWxVnHUMwl       0       1       1  ...       1       0       0   \n...                   ...     ...     ...  ...     ...     ...     ...   \nR_e3YYeE5sB9xAcSJ       0       1       1  ...       1       0       1   \nR_3kHPD0vxwbjFq3m       1       0       1  ...       1       0       1   \nR_3qx7cCBjdww0Mu8       0       1       1  ...       1       0       1   \nR_3nSrJLDJiYnhvLz       0       1       1  ...       0       1       0   \nR_2sZ9jGAmaddENVs       0       1       0  ...       0       1       0   \n\n                   Set9_b  Set10_a  Set10_b  Set11_a  Set11_b  Set12_a  \\\nResponseId                                                               \nR_1pzMUhhsh8aVRYi       0        1        0        1        0        1   \nR_AmTsD13JmmjO3iV       1        1        0        0        1        1   \nR_21tw9KHb0ML81SJ       1        1        0        0        1        1   \nR_1fki1n2Z31QFaAq       1        1        0        0        1        1   \nR_3En9cfWxVnHUMwl       1        1        0        1        0        1   \n...                   ...      ...      ...      ...      ...      ...   \nR_e3YYeE5sB9xAcSJ       0        0        1        1        0        0   \nR_3kHPD0vxwbjFq3m       0        1        0        0        1        0   \nR_3qx7cCBjdww0Mu8       0        0        1        1        0        0   \nR_3nSrJLDJiYnhvLz       1        1        0        0        1        1   \nR_2sZ9jGAmaddENVs       1        1        0        0        1        0   \n\n                   Set12_b  \nResponseId                  \nR_1pzMUhhsh8aVRYi        0  \nR_AmTsD13JmmjO3iV        0  \nR_21tw9KHb0ML81SJ        0  \nR_1fki1n2Z31QFaAq        0  \nR_3En9cfWxVnHUMwl        0  \n...                    ...  \nR_e3YYeE5sB9xAcSJ        1  \nR_3kHPD0vxwbjFq3m        1  \nR_3qx7cCBjdww0Mu8        1  \nR_3nSrJLDJiYnhvLz        0  \nR_2sZ9jGAmaddENVs        1  \n\n[112 rows x 25 columns]",
      "text/html": "<div>\n<style scoped>\n    .dataframe tbody tr th:only-of-type {\n        vertical-align: middle;\n    }\n\n    .dataframe tbody tr th {\n        vertical-align: top;\n    }\n\n    .dataframe thead th {\n        text-align: right;\n    }\n</style>\n<table border=\"1\" class=\"dataframe\">\n  <thead>\n    <tr style=\"text-align: right;\">\n      <th></th>\n      <th>index</th>\n      <th>Set1_a</th>\n      <th>Set1_b</th>\n      <th>Set2_a</th>\n      <th>Set2_b</th>\n      <th>Set3_a</th>\n      <th>Set3_b</th>\n      <th>Set4_a</th>\n      <th>Set4_b</th>\n      <th>Set5_a</th>\n      <th>...</th>\n      <th>Set8_a</th>\n      <th>Set8_b</th>\n      <th>Set9_a</th>\n      <th>Set9_b</th>\n      <th>Set10_a</th>\n      <th>Set10_b</th>\n      <th>Set11_a</th>\n      <th>Set11_b</th>\n      <th>Set12_a</th>\n      <th>Set12_b</th>\n    </tr>\n    <tr>\n      <th>ResponseId</th>\n      <th></th>\n      <th></th>\n      <th></th>\n      <th></th>\n      <th></th>\n      <th></th>\n      <th></th>\n      <th></th>\n      <th></th>\n      <th></th>\n      <th></th>\n      <th></th>\n      <th></th>\n      <th></th>\n      <th></th>\n      <th></th>\n      <th></th>\n      <th></th>\n      <th></th>\n      <th></th>\n      <th></th>\n    </tr>\n  </thead>\n  <tbody>\n    <tr>\n      <th>R_1pzMUhhsh8aVRYi</th>\n      <td>2</td>\n      <td>0</td>\n      <td>1</td>\n      <td>0</td>\n      <td>1</td>\n      <td>0</td>\n      <td>1</td>\n      <td>0</td>\n      <td>1</td>\n      <td>1</td>\n      <td>...</td>\n      <td>0</td>\n      <td>1</td>\n      <td>1</td>\n      <td>0</td>\n      <td>1</td>\n      <td>0</td>\n      <td>1</td>\n      <td>0</td>\n      <td>1</td>\n      <td>0</td>\n    </tr>\n    <tr>\n      <th>R_AmTsD13JmmjO3iV</th>\n      <td>3</td>\n      <td>1</td>\n      <td>0</td>\n      <td>1</td>\n      <td>0</td>\n      <td>1</td>\n      <td>0</td>\n      <td>0</td>\n      <td>1</td>\n      <td>1</td>\n      <td>...</td>\n      <td>0</td>\n      <td>1</td>\n      <td>0</td>\n      <td>1</td>\n      <td>1</td>\n      <td>0</td>\n      <td>0</td>\n      <td>1</td>\n      <td>1</td>\n      <td>0</td>\n    </tr>\n    <tr>\n      <th>R_21tw9KHb0ML81SJ</th>\n      <td>4</td>\n      <td>1</td>\n      <td>0</td>\n      <td>1</td>\n      <td>0</td>\n      <td>1</td>\n      <td>0</td>\n      <td>0</td>\n      <td>1</td>\n      <td>1</td>\n      <td>...</td>\n      <td>0</td>\n      <td>1</td>\n      <td>0</td>\n      <td>1</td>\n      <td>1</td>\n      <td>0</td>\n      <td>0</td>\n      <td>1</td>\n      <td>1</td>\n      <td>0</td>\n    </tr>\n    <tr>\n      <th>R_1fki1n2Z31QFaAq</th>\n      <td>5</td>\n      <td>1</td>\n      <td>0</td>\n      <td>1</td>\n      <td>0</td>\n      <td>0</td>\n      <td>1</td>\n      <td>0</td>\n      <td>1</td>\n      <td>0</td>\n      <td>...</td>\n      <td>0</td>\n      <td>1</td>\n      <td>0</td>\n      <td>1</td>\n      <td>1</td>\n      <td>0</td>\n      <td>0</td>\n      <td>1</td>\n      <td>1</td>\n      <td>0</td>\n    </tr>\n    <tr>\n      <th>R_3En9cfWxVnHUMwl</th>\n      <td>6</td>\n      <td>1</td>\n      <td>0</td>\n      <td>1</td>\n      <td>0</td>\n      <td>1</td>\n      <td>0</td>\n      <td>0</td>\n      <td>1</td>\n      <td>1</td>\n      <td>...</td>\n      <td>1</td>\n      <td>0</td>\n      <td>0</td>\n      <td>1</td>\n      <td>1</td>\n      <td>0</td>\n      <td>1</td>\n      <td>0</td>\n      <td>1</td>\n      <td>0</td>\n    </tr>\n    <tr>\n      <th>...</th>\n      <td>...</td>\n      <td>...</td>\n      <td>...</td>\n      <td>...</td>\n      <td>...</td>\n      <td>...</td>\n      <td>...</td>\n      <td>...</td>\n      <td>...</td>\n      <td>...</td>\n      <td>...</td>\n      <td>...</td>\n      <td>...</td>\n      <td>...</td>\n      <td>...</td>\n      <td>...</td>\n      <td>...</td>\n      <td>...</td>\n      <td>...</td>\n      <td>...</td>\n      <td>...</td>\n    </tr>\n    <tr>\n      <th>R_e3YYeE5sB9xAcSJ</th>\n      <td>109</td>\n      <td>0</td>\n      <td>1</td>\n      <td>0</td>\n      <td>1</td>\n      <td>0</td>\n      <td>1</td>\n      <td>0</td>\n      <td>1</td>\n      <td>1</td>\n      <td>...</td>\n      <td>1</td>\n      <td>0</td>\n      <td>1</td>\n      <td>0</td>\n      <td>0</td>\n      <td>1</td>\n      <td>1</td>\n      <td>0</td>\n      <td>0</td>\n      <td>1</td>\n    </tr>\n    <tr>\n      <th>R_3kHPD0vxwbjFq3m</th>\n      <td>110</td>\n      <td>0</td>\n      <td>1</td>\n      <td>0</td>\n      <td>1</td>\n      <td>1</td>\n      <td>0</td>\n      <td>1</td>\n      <td>0</td>\n      <td>1</td>\n      <td>...</td>\n      <td>1</td>\n      <td>0</td>\n      <td>1</td>\n      <td>0</td>\n      <td>1</td>\n      <td>0</td>\n      <td>0</td>\n      <td>1</td>\n      <td>0</td>\n      <td>1</td>\n    </tr>\n    <tr>\n      <th>R_3qx7cCBjdww0Mu8</th>\n      <td>111</td>\n      <td>0</td>\n      <td>1</td>\n      <td>0</td>\n      <td>1</td>\n      <td>1</td>\n      <td>0</td>\n      <td>0</td>\n      <td>1</td>\n      <td>1</td>\n      <td>...</td>\n      <td>1</td>\n      <td>0</td>\n      <td>1</td>\n      <td>0</td>\n      <td>0</td>\n      <td>1</td>\n      <td>1</td>\n      <td>0</td>\n      <td>0</td>\n      <td>1</td>\n    </tr>\n    <tr>\n      <th>R_3nSrJLDJiYnhvLz</th>\n      <td>112</td>\n      <td>0</td>\n      <td>1</td>\n      <td>0</td>\n      <td>1</td>\n      <td>1</td>\n      <td>0</td>\n      <td>0</td>\n      <td>1</td>\n      <td>1</td>\n      <td>...</td>\n      <td>0</td>\n      <td>1</td>\n      <td>0</td>\n      <td>1</td>\n      <td>1</td>\n      <td>0</td>\n      <td>0</td>\n      <td>1</td>\n      <td>1</td>\n      <td>0</td>\n    </tr>\n    <tr>\n      <th>R_2sZ9jGAmaddENVs</th>\n      <td>113</td>\n      <td>0</td>\n      <td>1</td>\n      <td>0</td>\n      <td>1</td>\n      <td>0</td>\n      <td>1</td>\n      <td>0</td>\n      <td>1</td>\n      <td>0</td>\n      <td>...</td>\n      <td>0</td>\n      <td>1</td>\n      <td>0</td>\n      <td>1</td>\n      <td>1</td>\n      <td>0</td>\n      <td>0</td>\n      <td>1</td>\n      <td>0</td>\n      <td>1</td>\n    </tr>\n  </tbody>\n</table>\n<p>112 rows × 25 columns</p>\n</div>"
     },
     "execution_count": 49,
     "metadata": {},
     "output_type": "execute_result"
    }
   ],
   "source": [
    "analysis = analysis.reset_index()\n",
    "analysis = analysis.set_index('ResponseId')\n",
    "analysis"
   ],
   "metadata": {
    "collapsed": false,
    "pycharm": {
     "name": "#%%\n"
    }
   }
  },
  {
   "cell_type": "code",
   "execution_count": 50,
   "outputs": [],
   "source": [
    "analysis = analysis.drop(columns='index')"
   ],
   "metadata": {
    "collapsed": false,
    "pycharm": {
     "name": "#%%\n"
    }
   }
  },
  {
   "cell_type": "code",
   "execution_count": 51,
   "outputs": [],
   "source": [
    "analysis1 = analysis.stack()"
   ],
   "metadata": {
    "collapsed": false,
    "pycharm": {
     "name": "#%%\n"
    }
   }
  },
  {
   "cell_type": "code",
   "execution_count": 52,
   "outputs": [
    {
     "data": {
      "text/plain": "ResponseId                \nR_1pzMUhhsh8aVRYi  Set1_a     0\n                   Set1_b     1\n                   Set2_a     0\n                   Set2_b     1\n                   Set3_a     0\n                   Set3_b     1\n                   Set4_a     0\n                   Set4_b     1\n                   Set5_a     1\n                   Set5_b     0\n                   Set6_a     1\n                   Set6_b     0\n                   Set7_a     1\n                   Set7_b     0\n                   Set8_a     0\n                   Set8_b     1\n                   Set9_a     1\n                   Set9_b     0\n                   Set10_a    1\n                   Set10_b    0\n                   Set11_a    1\n                   Set11_b    0\n                   Set12_a    1\n                   Set12_b    0\nR_AmTsD13JmmjO3iV  Set1_a     1\ndtype: int64"
     },
     "execution_count": 52,
     "metadata": {},
     "output_type": "execute_result"
    }
   ],
   "source": [
    "analysis1.head(25)"
   ],
   "metadata": {
    "collapsed": false,
    "pycharm": {
     "name": "#%%\n"
    }
   }
  },
  {
   "cell_type": "code",
   "execution_count": 53,
   "outputs": [
    {
     "data": {
      "text/plain": "ResponseId                \nR_1pzMUhhsh8aVRYi  Set1_a     0\n                   Set1_b     1\n                   Set2_a     0\n                   Set2_b     1\n                   Set3_a     0\n                             ..\nR_2sZ9jGAmaddENVs  Set10_b    0\n                   Set11_a    0\n                   Set11_b    1\n                   Set12_a    0\n                   Set12_b    1\nLength: 2688, dtype: int64"
     },
     "execution_count": 53,
     "metadata": {},
     "output_type": "execute_result"
    }
   ],
   "source": [
    "analysis1"
   ],
   "metadata": {
    "collapsed": false,
    "pycharm": {
     "name": "#%%\n"
    }
   }
  },
  {
   "cell_type": "code",
   "execution_count": 54,
   "outputs": [
    {
     "data": {
      "text/plain": "     Progress  Duration (in seconds)         ResponseId  Age  Gender_f  \\\n2         100                    254  R_1pzMUhhsh8aVRYi   38         0   \n3         100                    324  R_AmTsD13JmmjO3iV   24         0   \n4         100                    242  R_21tw9KHb0ML81SJ   40         0   \n5         100                    598  R_1fki1n2Z31QFaAq   35         0   \n6         100                    438  R_3En9cfWxVnHUMwl   25         0   \n..        ...                    ...                ...  ...       ...   \n109       100                    351  R_e3YYeE5sB9xAcSJ   58         1   \n110       100                    321  R_3kHPD0vxwbjFq3m   18         1   \n111       100                   1959  R_3qx7cCBjdww0Mu8   44         1   \n112       100                    422  R_3nSrJLDJiYnhvLz   62         1   \n113       100                   2115  R_2sZ9jGAmaddENVs   62         1   \n\n     Income  No Income  Energy Consumption Tariff  payment_1  ...  Set8_a  \\\n2         3          0                   0    NaN         50  ...       0   \n3         4          0                   1      2         33  ...       0   \n4         6          0                   1      2         11  ...       0   \n5         5          0                   1      2         63  ...       0   \n6         5          0                   1      2         80  ...       1   \n..      ...        ...                 ...    ...        ...  ...     ...   \n109       4          0                   0    NaN         26  ...       1   \n110       0          1                   0    NaN        151  ...       1   \n111       2          0                   0    NaN         60  ...       1   \n112       2          0                   1      1         54  ...       0   \n113       6          0                   1      1         75  ...       0   \n\n     Set8_b  Set9_a  Set9_b  Set10_a  Set10_b Set11_a  Set11_b  Set12_a  \\\n2         1       1       0        1        0       1        0        1   \n3         1       0       1        1        0       0        1        1   \n4         1       0       1        1        0       0        1        1   \n5         1       0       1        1        0       0        1        1   \n6         0       0       1        1        0       1        0        1   \n..      ...     ...     ...      ...      ...     ...      ...      ...   \n109       0       1       0        0        1       1        0        0   \n110       0       1       0        1        0       0        1        0   \n111       0       1       0        0        1       1        0        0   \n112       1       0       1        1        0       0        1        1   \n113       1       0       1        1        0       0        1        0   \n\n    Set12_b  \n2         0  \n3         0  \n4         0  \n5         0  \n6         0  \n..      ...  \n109       1  \n110       1  \n111       1  \n112       0  \n113       1  \n\n[112 rows x 113 columns]",
      "text/html": "<div>\n<style scoped>\n    .dataframe tbody tr th:only-of-type {\n        vertical-align: middle;\n    }\n\n    .dataframe tbody tr th {\n        vertical-align: top;\n    }\n\n    .dataframe thead th {\n        text-align: right;\n    }\n</style>\n<table border=\"1\" class=\"dataframe\">\n  <thead>\n    <tr style=\"text-align: right;\">\n      <th></th>\n      <th>Progress</th>\n      <th>Duration (in seconds)</th>\n      <th>ResponseId</th>\n      <th>Age</th>\n      <th>Gender_f</th>\n      <th>Income</th>\n      <th>No Income</th>\n      <th>Energy Consumption</th>\n      <th>Tariff</th>\n      <th>payment_1</th>\n      <th>...</th>\n      <th>Set8_a</th>\n      <th>Set8_b</th>\n      <th>Set9_a</th>\n      <th>Set9_b</th>\n      <th>Set10_a</th>\n      <th>Set10_b</th>\n      <th>Set11_a</th>\n      <th>Set11_b</th>\n      <th>Set12_a</th>\n      <th>Set12_b</th>\n    </tr>\n  </thead>\n  <tbody>\n    <tr>\n      <th>2</th>\n      <td>100</td>\n      <td>254</td>\n      <td>R_1pzMUhhsh8aVRYi</td>\n      <td>38</td>\n      <td>0</td>\n      <td>3</td>\n      <td>0</td>\n      <td>0</td>\n      <td>NaN</td>\n      <td>50</td>\n      <td>...</td>\n      <td>0</td>\n      <td>1</td>\n      <td>1</td>\n      <td>0</td>\n      <td>1</td>\n      <td>0</td>\n      <td>1</td>\n      <td>0</td>\n      <td>1</td>\n      <td>0</td>\n    </tr>\n    <tr>\n      <th>3</th>\n      <td>100</td>\n      <td>324</td>\n      <td>R_AmTsD13JmmjO3iV</td>\n      <td>24</td>\n      <td>0</td>\n      <td>4</td>\n      <td>0</td>\n      <td>1</td>\n      <td>2</td>\n      <td>33</td>\n      <td>...</td>\n      <td>0</td>\n      <td>1</td>\n      <td>0</td>\n      <td>1</td>\n      <td>1</td>\n      <td>0</td>\n      <td>0</td>\n      <td>1</td>\n      <td>1</td>\n      <td>0</td>\n    </tr>\n    <tr>\n      <th>4</th>\n      <td>100</td>\n      <td>242</td>\n      <td>R_21tw9KHb0ML81SJ</td>\n      <td>40</td>\n      <td>0</td>\n      <td>6</td>\n      <td>0</td>\n      <td>1</td>\n      <td>2</td>\n      <td>11</td>\n      <td>...</td>\n      <td>0</td>\n      <td>1</td>\n      <td>0</td>\n      <td>1</td>\n      <td>1</td>\n      <td>0</td>\n      <td>0</td>\n      <td>1</td>\n      <td>1</td>\n      <td>0</td>\n    </tr>\n    <tr>\n      <th>5</th>\n      <td>100</td>\n      <td>598</td>\n      <td>R_1fki1n2Z31QFaAq</td>\n      <td>35</td>\n      <td>0</td>\n      <td>5</td>\n      <td>0</td>\n      <td>1</td>\n      <td>2</td>\n      <td>63</td>\n      <td>...</td>\n      <td>0</td>\n      <td>1</td>\n      <td>0</td>\n      <td>1</td>\n      <td>1</td>\n      <td>0</td>\n      <td>0</td>\n      <td>1</td>\n      <td>1</td>\n      <td>0</td>\n    </tr>\n    <tr>\n      <th>6</th>\n      <td>100</td>\n      <td>438</td>\n      <td>R_3En9cfWxVnHUMwl</td>\n      <td>25</td>\n      <td>0</td>\n      <td>5</td>\n      <td>0</td>\n      <td>1</td>\n      <td>2</td>\n      <td>80</td>\n      <td>...</td>\n      <td>1</td>\n      <td>0</td>\n      <td>0</td>\n      <td>1</td>\n      <td>1</td>\n      <td>0</td>\n      <td>1</td>\n      <td>0</td>\n      <td>1</td>\n      <td>0</td>\n    </tr>\n    <tr>\n      <th>...</th>\n      <td>...</td>\n      <td>...</td>\n      <td>...</td>\n      <td>...</td>\n      <td>...</td>\n      <td>...</td>\n      <td>...</td>\n      <td>...</td>\n      <td>...</td>\n      <td>...</td>\n      <td>...</td>\n      <td>...</td>\n      <td>...</td>\n      <td>...</td>\n      <td>...</td>\n      <td>...</td>\n      <td>...</td>\n      <td>...</td>\n      <td>...</td>\n      <td>...</td>\n      <td>...</td>\n    </tr>\n    <tr>\n      <th>109</th>\n      <td>100</td>\n      <td>351</td>\n      <td>R_e3YYeE5sB9xAcSJ</td>\n      <td>58</td>\n      <td>1</td>\n      <td>4</td>\n      <td>0</td>\n      <td>0</td>\n      <td>NaN</td>\n      <td>26</td>\n      <td>...</td>\n      <td>1</td>\n      <td>0</td>\n      <td>1</td>\n      <td>0</td>\n      <td>0</td>\n      <td>1</td>\n      <td>1</td>\n      <td>0</td>\n      <td>0</td>\n      <td>1</td>\n    </tr>\n    <tr>\n      <th>110</th>\n      <td>100</td>\n      <td>321</td>\n      <td>R_3kHPD0vxwbjFq3m</td>\n      <td>18</td>\n      <td>1</td>\n      <td>0</td>\n      <td>1</td>\n      <td>0</td>\n      <td>NaN</td>\n      <td>151</td>\n      <td>...</td>\n      <td>1</td>\n      <td>0</td>\n      <td>1</td>\n      <td>0</td>\n      <td>1</td>\n      <td>0</td>\n      <td>0</td>\n      <td>1</td>\n      <td>0</td>\n      <td>1</td>\n    </tr>\n    <tr>\n      <th>111</th>\n      <td>100</td>\n      <td>1959</td>\n      <td>R_3qx7cCBjdww0Mu8</td>\n      <td>44</td>\n      <td>1</td>\n      <td>2</td>\n      <td>0</td>\n      <td>0</td>\n      <td>NaN</td>\n      <td>60</td>\n      <td>...</td>\n      <td>1</td>\n      <td>0</td>\n      <td>1</td>\n      <td>0</td>\n      <td>0</td>\n      <td>1</td>\n      <td>1</td>\n      <td>0</td>\n      <td>0</td>\n      <td>1</td>\n    </tr>\n    <tr>\n      <th>112</th>\n      <td>100</td>\n      <td>422</td>\n      <td>R_3nSrJLDJiYnhvLz</td>\n      <td>62</td>\n      <td>1</td>\n      <td>2</td>\n      <td>0</td>\n      <td>1</td>\n      <td>1</td>\n      <td>54</td>\n      <td>...</td>\n      <td>0</td>\n      <td>1</td>\n      <td>0</td>\n      <td>1</td>\n      <td>1</td>\n      <td>0</td>\n      <td>0</td>\n      <td>1</td>\n      <td>1</td>\n      <td>0</td>\n    </tr>\n    <tr>\n      <th>113</th>\n      <td>100</td>\n      <td>2115</td>\n      <td>R_2sZ9jGAmaddENVs</td>\n      <td>62</td>\n      <td>1</td>\n      <td>6</td>\n      <td>0</td>\n      <td>1</td>\n      <td>1</td>\n      <td>75</td>\n      <td>...</td>\n      <td>0</td>\n      <td>1</td>\n      <td>0</td>\n      <td>1</td>\n      <td>1</td>\n      <td>0</td>\n      <td>0</td>\n      <td>1</td>\n      <td>0</td>\n      <td>1</td>\n    </tr>\n  </tbody>\n</table>\n<p>112 rows × 113 columns</p>\n</div>"
     },
     "execution_count": 54,
     "metadata": {},
     "output_type": "execute_result"
    }
   ],
   "source": [
    "data_num"
   ],
   "metadata": {
    "collapsed": false,
    "pycharm": {
     "name": "#%%\n"
    }
   }
  },
  {
   "cell_type": "code",
   "execution_count": 55,
   "outputs": [
    {
     "data": {
      "text/plain": "            ResponseId  Gender_f  Age  Income  No Income  Energy Consumption  \\\n0    R_1pzMUhhsh8aVRYi         0   38       3          0                   0   \n1    R_AmTsD13JmmjO3iV         0   24       4          0                   1   \n2    R_21tw9KHb0ML81SJ         0   40       6          0                   1   \n3    R_1fki1n2Z31QFaAq         0   35       5          0                   1   \n4    R_3En9cfWxVnHUMwl         0   25       5          0                   1   \n..                 ...       ...  ...     ...        ...                 ...   \n107  R_e3YYeE5sB9xAcSJ         1   58       4          0                   0   \n108  R_3kHPD0vxwbjFq3m         1   18       0          1                   0   \n109  R_3qx7cCBjdww0Mu8         1   44       2          0                   0   \n110  R_3nSrJLDJiYnhvLz         1   62       2          0                   1   \n111  R_2sZ9jGAmaddENVs         1   62       6          0                   1   \n\n     payment_1  Region West  Region East  Household_size  Concern_1  \\\n0           50            1            0               1          1   \n1           33            0            1               2          3   \n2           11            1            0               4          4   \n3           63            1            0               4          3   \n4           80            1            0               4          2   \n..         ...          ...          ...             ...        ...   \n107         26            1            0               2          3   \n108        151            0            1               4          3   \n109         60            0            0               6          4   \n110         54            0            1               1          4   \n111         75            0            1               2          2   \n\n     RES_attitude_1  Know_green_provider  Providers_count  Appliance_count  \\\n0                 4                    0                1                4   \n1                 4                    0                6                2   \n2                 4                    0                2                3   \n3                 4                    0                3                1   \n4                 4                    0                2                3   \n..              ...                  ...              ...              ...   \n107               4                    0                2                3   \n108               3                    0                3                4   \n109               4                    0                1                3   \n110               4                    0                5                4   \n111               4                    0                2                4   \n\n     Task_temp  Task_consumption  Task_appliances  Task_source  \n0            4                 5                5            2  \n1            3                 4                3            4  \n2            4                 4                4            2  \n3            1                 4                4            4  \n4            2                 4                2            1  \n..         ...               ...              ...          ...  \n107          4                 4                4            3  \n108          3                 4                3            3  \n109          4                 4                4            4  \n110          4                 4                5            3  \n111          5                 5                5            3  \n\n[112 rows x 19 columns]",
      "text/html": "<div>\n<style scoped>\n    .dataframe tbody tr th:only-of-type {\n        vertical-align: middle;\n    }\n\n    .dataframe tbody tr th {\n        vertical-align: top;\n    }\n\n    .dataframe thead th {\n        text-align: right;\n    }\n</style>\n<table border=\"1\" class=\"dataframe\">\n  <thead>\n    <tr style=\"text-align: right;\">\n      <th></th>\n      <th>ResponseId</th>\n      <th>Gender_f</th>\n      <th>Age</th>\n      <th>Income</th>\n      <th>No Income</th>\n      <th>Energy Consumption</th>\n      <th>payment_1</th>\n      <th>Region West</th>\n      <th>Region East</th>\n      <th>Household_size</th>\n      <th>Concern_1</th>\n      <th>RES_attitude_1</th>\n      <th>Know_green_provider</th>\n      <th>Providers_count</th>\n      <th>Appliance_count</th>\n      <th>Task_temp</th>\n      <th>Task_consumption</th>\n      <th>Task_appliances</th>\n      <th>Task_source</th>\n    </tr>\n  </thead>\n  <tbody>\n    <tr>\n      <th>0</th>\n      <td>R_1pzMUhhsh8aVRYi</td>\n      <td>0</td>\n      <td>38</td>\n      <td>3</td>\n      <td>0</td>\n      <td>0</td>\n      <td>50</td>\n      <td>1</td>\n      <td>0</td>\n      <td>1</td>\n      <td>1</td>\n      <td>4</td>\n      <td>0</td>\n      <td>1</td>\n      <td>4</td>\n      <td>4</td>\n      <td>5</td>\n      <td>5</td>\n      <td>2</td>\n    </tr>\n    <tr>\n      <th>1</th>\n      <td>R_AmTsD13JmmjO3iV</td>\n      <td>0</td>\n      <td>24</td>\n      <td>4</td>\n      <td>0</td>\n      <td>1</td>\n      <td>33</td>\n      <td>0</td>\n      <td>1</td>\n      <td>2</td>\n      <td>3</td>\n      <td>4</td>\n      <td>0</td>\n      <td>6</td>\n      <td>2</td>\n      <td>3</td>\n      <td>4</td>\n      <td>3</td>\n      <td>4</td>\n    </tr>\n    <tr>\n      <th>2</th>\n      <td>R_21tw9KHb0ML81SJ</td>\n      <td>0</td>\n      <td>40</td>\n      <td>6</td>\n      <td>0</td>\n      <td>1</td>\n      <td>11</td>\n      <td>1</td>\n      <td>0</td>\n      <td>4</td>\n      <td>4</td>\n      <td>4</td>\n      <td>0</td>\n      <td>2</td>\n      <td>3</td>\n      <td>4</td>\n      <td>4</td>\n      <td>4</td>\n      <td>2</td>\n    </tr>\n    <tr>\n      <th>3</th>\n      <td>R_1fki1n2Z31QFaAq</td>\n      <td>0</td>\n      <td>35</td>\n      <td>5</td>\n      <td>0</td>\n      <td>1</td>\n      <td>63</td>\n      <td>1</td>\n      <td>0</td>\n      <td>4</td>\n      <td>3</td>\n      <td>4</td>\n      <td>0</td>\n      <td>3</td>\n      <td>1</td>\n      <td>1</td>\n      <td>4</td>\n      <td>4</td>\n      <td>4</td>\n    </tr>\n    <tr>\n      <th>4</th>\n      <td>R_3En9cfWxVnHUMwl</td>\n      <td>0</td>\n      <td>25</td>\n      <td>5</td>\n      <td>0</td>\n      <td>1</td>\n      <td>80</td>\n      <td>1</td>\n      <td>0</td>\n      <td>4</td>\n      <td>2</td>\n      <td>4</td>\n      <td>0</td>\n      <td>2</td>\n      <td>3</td>\n      <td>2</td>\n      <td>4</td>\n      <td>2</td>\n      <td>1</td>\n    </tr>\n    <tr>\n      <th>...</th>\n      <td>...</td>\n      <td>...</td>\n      <td>...</td>\n      <td>...</td>\n      <td>...</td>\n      <td>...</td>\n      <td>...</td>\n      <td>...</td>\n      <td>...</td>\n      <td>...</td>\n      <td>...</td>\n      <td>...</td>\n      <td>...</td>\n      <td>...</td>\n      <td>...</td>\n      <td>...</td>\n      <td>...</td>\n      <td>...</td>\n      <td>...</td>\n    </tr>\n    <tr>\n      <th>107</th>\n      <td>R_e3YYeE5sB9xAcSJ</td>\n      <td>1</td>\n      <td>58</td>\n      <td>4</td>\n      <td>0</td>\n      <td>0</td>\n      <td>26</td>\n      <td>1</td>\n      <td>0</td>\n      <td>2</td>\n      <td>3</td>\n      <td>4</td>\n      <td>0</td>\n      <td>2</td>\n      <td>3</td>\n      <td>4</td>\n      <td>4</td>\n      <td>4</td>\n      <td>3</td>\n    </tr>\n    <tr>\n      <th>108</th>\n      <td>R_3kHPD0vxwbjFq3m</td>\n      <td>1</td>\n      <td>18</td>\n      <td>0</td>\n      <td>1</td>\n      <td>0</td>\n      <td>151</td>\n      <td>0</td>\n      <td>1</td>\n      <td>4</td>\n      <td>3</td>\n      <td>3</td>\n      <td>0</td>\n      <td>3</td>\n      <td>4</td>\n      <td>3</td>\n      <td>4</td>\n      <td>3</td>\n      <td>3</td>\n    </tr>\n    <tr>\n      <th>109</th>\n      <td>R_3qx7cCBjdww0Mu8</td>\n      <td>1</td>\n      <td>44</td>\n      <td>2</td>\n      <td>0</td>\n      <td>0</td>\n      <td>60</td>\n      <td>0</td>\n      <td>0</td>\n      <td>6</td>\n      <td>4</td>\n      <td>4</td>\n      <td>0</td>\n      <td>1</td>\n      <td>3</td>\n      <td>4</td>\n      <td>4</td>\n      <td>4</td>\n      <td>4</td>\n    </tr>\n    <tr>\n      <th>110</th>\n      <td>R_3nSrJLDJiYnhvLz</td>\n      <td>1</td>\n      <td>62</td>\n      <td>2</td>\n      <td>0</td>\n      <td>1</td>\n      <td>54</td>\n      <td>0</td>\n      <td>1</td>\n      <td>1</td>\n      <td>4</td>\n      <td>4</td>\n      <td>0</td>\n      <td>5</td>\n      <td>4</td>\n      <td>4</td>\n      <td>4</td>\n      <td>5</td>\n      <td>3</td>\n    </tr>\n    <tr>\n      <th>111</th>\n      <td>R_2sZ9jGAmaddENVs</td>\n      <td>1</td>\n      <td>62</td>\n      <td>6</td>\n      <td>0</td>\n      <td>1</td>\n      <td>75</td>\n      <td>0</td>\n      <td>1</td>\n      <td>2</td>\n      <td>2</td>\n      <td>4</td>\n      <td>0</td>\n      <td>2</td>\n      <td>4</td>\n      <td>5</td>\n      <td>5</td>\n      <td>5</td>\n      <td>3</td>\n    </tr>\n  </tbody>\n</table>\n<p>112 rows × 19 columns</p>\n</div>"
     },
     "execution_count": 55,
     "metadata": {},
     "output_type": "execute_result"
    }
   ],
   "source": [
    "headers = ['ResponseId','Gender_f','Age','Income','No Income','Energy Consumption','payment_1','Region West','Region East','Household_size','Concern_1','RES_attitude_1','Know_green_provider','Providers_count','Appliance_count','Task_temp','Task_consumption','Task_appliances','Task_source']\n",
    "socio = data_num[headers]\n",
    "socio = socio.reset_index()\n",
    "socio = socio.drop(columns='index')\n",
    "#socio = socio.set_index('ResponseId')\n",
    "socio"
   ],
   "metadata": {
    "collapsed": false,
    "pycharm": {
     "name": "#%%\n"
    }
   }
  },
  {
   "cell_type": "code",
   "execution_count": 73,
   "outputs": [],
   "source": [
    "socio.to_csv(folder+\"/socio.csv\")"
   ],
   "metadata": {
    "collapsed": false,
    "pycharm": {
     "name": "#%%\n"
    }
   }
  },
  {
   "cell_type": "code",
   "execution_count": 56,
   "outputs": [
    {
     "data": {
      "text/plain": "ResponseId                \nR_1pzMUhhsh8aVRYi  Set1_a     0\n                   Set1_b     1\n                   Set2_a     0\n                   Set2_b     1\n                   Set3_a     0\n                             ..\nR_2sZ9jGAmaddENVs  Set10_b    0\n                   Set11_a    0\n                   Set11_b    1\n                   Set12_a    0\n                   Set12_b    1\nLength: 2688, dtype: int64"
     },
     "execution_count": 56,
     "metadata": {},
     "output_type": "execute_result"
    }
   ],
   "source": [
    "analysis1"
   ],
   "metadata": {
    "collapsed": false,
    "pycharm": {
     "name": "#%%\n"
    }
   }
  },
  {
   "cell_type": "code",
   "execution_count": 57,
   "outputs": [],
   "source": [
    "analysis3 = analysis.reset_index()\n",
    "analysis2 = analysis3.melt(id_vars=['ResponseId'],value_vars=new_sets)"
   ],
   "metadata": {
    "collapsed": false,
    "pycharm": {
     "name": "#%%\n"
    }
   }
  },
  {
   "cell_type": "code",
   "execution_count": 58,
   "outputs": [],
   "source": [
    "group = analysis2.groupby(['ResponseId','variable'])\n",
    "df33 = group.apply(lambda x: x['value'].unique())"
   ],
   "metadata": {
    "collapsed": false,
    "pycharm": {
     "name": "#%%\n"
    }
   }
  },
  {
   "cell_type": "code",
   "execution_count": 59,
   "outputs": [
    {
     "data": {
      "text/plain": "ResponseId         variable\nR_00tPAs3hLPhQdZT  Set10_a     [1]\n                   Set10_b     [0]\n                   Set11_a     [1]\n                   Set11_b     [0]\n                   Set12_a     [0]\n                              ... \nR_z6ksZjYpS8zEERr  Set7_b      [1]\n                   Set8_a      [1]\n                   Set8_b      [0]\n                   Set9_a      [0]\n                   Set9_b      [1]\nLength: 2688, dtype: object"
     },
     "execution_count": 59,
     "metadata": {},
     "output_type": "execute_result"
    }
   ],
   "source": [
    "df33"
   ],
   "metadata": {
    "collapsed": false,
    "pycharm": {
     "name": "#%%\n"
    }
   }
  },
  {
   "cell_type": "code",
   "execution_count": 60,
   "outputs": [
    {
     "data": {
      "text/plain": "             ResponseId variable  value\n0     R_1pzMUhhsh8aVRYi   Set1_a      0\n1     R_AmTsD13JmmjO3iV   Set1_a      1\n2     R_21tw9KHb0ML81SJ   Set1_a      1\n3     R_1fki1n2Z31QFaAq   Set1_a      1\n4     R_3En9cfWxVnHUMwl   Set1_a      1\n...                 ...      ...    ...\n2683  R_e3YYeE5sB9xAcSJ  Set12_b      1\n2684  R_3kHPD0vxwbjFq3m  Set12_b      1\n2685  R_3qx7cCBjdww0Mu8  Set12_b      1\n2686  R_3nSrJLDJiYnhvLz  Set12_b      0\n2687  R_2sZ9jGAmaddENVs  Set12_b      1\n\n[2688 rows x 3 columns]",
      "text/html": "<div>\n<style scoped>\n    .dataframe tbody tr th:only-of-type {\n        vertical-align: middle;\n    }\n\n    .dataframe tbody tr th {\n        vertical-align: top;\n    }\n\n    .dataframe thead th {\n        text-align: right;\n    }\n</style>\n<table border=\"1\" class=\"dataframe\">\n  <thead>\n    <tr style=\"text-align: right;\">\n      <th></th>\n      <th>ResponseId</th>\n      <th>variable</th>\n      <th>value</th>\n    </tr>\n  </thead>\n  <tbody>\n    <tr>\n      <th>0</th>\n      <td>R_1pzMUhhsh8aVRYi</td>\n      <td>Set1_a</td>\n      <td>0</td>\n    </tr>\n    <tr>\n      <th>1</th>\n      <td>R_AmTsD13JmmjO3iV</td>\n      <td>Set1_a</td>\n      <td>1</td>\n    </tr>\n    <tr>\n      <th>2</th>\n      <td>R_21tw9KHb0ML81SJ</td>\n      <td>Set1_a</td>\n      <td>1</td>\n    </tr>\n    <tr>\n      <th>3</th>\n      <td>R_1fki1n2Z31QFaAq</td>\n      <td>Set1_a</td>\n      <td>1</td>\n    </tr>\n    <tr>\n      <th>4</th>\n      <td>R_3En9cfWxVnHUMwl</td>\n      <td>Set1_a</td>\n      <td>1</td>\n    </tr>\n    <tr>\n      <th>...</th>\n      <td>...</td>\n      <td>...</td>\n      <td>...</td>\n    </tr>\n    <tr>\n      <th>2683</th>\n      <td>R_e3YYeE5sB9xAcSJ</td>\n      <td>Set12_b</td>\n      <td>1</td>\n    </tr>\n    <tr>\n      <th>2684</th>\n      <td>R_3kHPD0vxwbjFq3m</td>\n      <td>Set12_b</td>\n      <td>1</td>\n    </tr>\n    <tr>\n      <th>2685</th>\n      <td>R_3qx7cCBjdww0Mu8</td>\n      <td>Set12_b</td>\n      <td>1</td>\n    </tr>\n    <tr>\n      <th>2686</th>\n      <td>R_3nSrJLDJiYnhvLz</td>\n      <td>Set12_b</td>\n      <td>0</td>\n    </tr>\n    <tr>\n      <th>2687</th>\n      <td>R_2sZ9jGAmaddENVs</td>\n      <td>Set12_b</td>\n      <td>1</td>\n    </tr>\n  </tbody>\n</table>\n<p>2688 rows × 3 columns</p>\n</div>"
     },
     "execution_count": 60,
     "metadata": {},
     "output_type": "execute_result"
    }
   ],
   "source": [
    "analysis2"
   ],
   "metadata": {
    "collapsed": false,
    "pycharm": {
     "name": "#%%\n"
    }
   }
  },
  {
   "cell_type": "code",
   "execution_count": 61,
   "outputs": [
    {
     "data": {
      "text/plain": "    Unnamed: 0  Var11  Var12  Var13  Var21  Var22  Var23  Var24  Var25  Var31  \\\n0    set1.alt1      1      0      0     -1     -1     -1     -1     -1     -1   \n1    set1.alt2      0      1      0      0      0      0      0      1      1   \n2    set2.alt1      1      0      0     -1     -1     -1     -1     -1     -1   \n3    set2.alt2      0      1      0      0      0      0      1      0      1   \n4    set3.alt1     -1     -1     -1      0      0      1      0      0      1   \n5    set3.alt2     -1     -1     -1      1      0      0      0      0     -1   \n6    set4.alt1     -1     -1     -1      0      0      0      1      0     -1   \n7    set4.alt2     -1     -1     -1      1      0      0      0      0      1   \n8    set5.alt1      0      1      0      0      1      0      0      0      1   \n9    set5.alt2      1      0      0     -1     -1     -1     -1     -1      1   \n10   set6.alt1      0      0      1      1      0      0      0      0     -1   \n11   set6.alt2      1      0      0     -1     -1     -1     -1     -1      1   \n12   set7.alt1     -1     -1     -1      0      0      0      0      1      1   \n13   set7.alt2     -1     -1     -1      0      0      1      0      0      1   \n14   set8.alt1     -1     -1     -1      0      0      1      0      0     -1   \n15   set8.alt2      0      0      1      0      1      0      0      0      1   \n16   set9.alt1      0      1      0      0      0      1      0      0     -1   \n17   set9.alt2     -1     -1     -1      1      0      0      0      0     -1   \n18  set10.alt1      0      0      1      0      0      0      1      0      1   \n19  set10.alt2      0      1      0      0      0      0      0      1      1   \n20  set11.alt1      0      0      1      0      0      0      0      1      1   \n21  set11.alt2      0      1      0      0      0      0      1      0     -1   \n22  set12.alt1      0      0      1      1      0      0      0      0     -1   \n23  set12.alt2     -1     -1     -1      0      1      0      0      0      1   \n\n    Var41  Var51  \n0       1     -1  \n1      -1      1  \n2       1     -1  \n3      -1      1  \n4       1     -1  \n5      -1      1  \n6       1      1  \n7       1     -1  \n8      -1      1  \n9      -1     -1  \n10      1      1  \n11     -1     -1  \n12      1      1  \n13     -1     -1  \n14      1      1  \n15      1     -1  \n16     -1      1  \n17      1     -1  \n18     -1      1  \n19     -1     -1  \n20     -1      1  \n21      1     -1  \n22      1      1  \n23     -1     -1  ",
      "text/html": "<div>\n<style scoped>\n    .dataframe tbody tr th:only-of-type {\n        vertical-align: middle;\n    }\n\n    .dataframe tbody tr th {\n        vertical-align: top;\n    }\n\n    .dataframe thead th {\n        text-align: right;\n    }\n</style>\n<table border=\"1\" class=\"dataframe\">\n  <thead>\n    <tr style=\"text-align: right;\">\n      <th></th>\n      <th>Unnamed: 0</th>\n      <th>Var11</th>\n      <th>Var12</th>\n      <th>Var13</th>\n      <th>Var21</th>\n      <th>Var22</th>\n      <th>Var23</th>\n      <th>Var24</th>\n      <th>Var25</th>\n      <th>Var31</th>\n      <th>Var41</th>\n      <th>Var51</th>\n    </tr>\n  </thead>\n  <tbody>\n    <tr>\n      <th>0</th>\n      <td>set1.alt1</td>\n      <td>1</td>\n      <td>0</td>\n      <td>0</td>\n      <td>-1</td>\n      <td>-1</td>\n      <td>-1</td>\n      <td>-1</td>\n      <td>-1</td>\n      <td>-1</td>\n      <td>1</td>\n      <td>-1</td>\n    </tr>\n    <tr>\n      <th>1</th>\n      <td>set1.alt2</td>\n      <td>0</td>\n      <td>1</td>\n      <td>0</td>\n      <td>0</td>\n      <td>0</td>\n      <td>0</td>\n      <td>0</td>\n      <td>1</td>\n      <td>1</td>\n      <td>-1</td>\n      <td>1</td>\n    </tr>\n    <tr>\n      <th>2</th>\n      <td>set2.alt1</td>\n      <td>1</td>\n      <td>0</td>\n      <td>0</td>\n      <td>-1</td>\n      <td>-1</td>\n      <td>-1</td>\n      <td>-1</td>\n      <td>-1</td>\n      <td>-1</td>\n      <td>1</td>\n      <td>-1</td>\n    </tr>\n    <tr>\n      <th>3</th>\n      <td>set2.alt2</td>\n      <td>0</td>\n      <td>1</td>\n      <td>0</td>\n      <td>0</td>\n      <td>0</td>\n      <td>0</td>\n      <td>1</td>\n      <td>0</td>\n      <td>1</td>\n      <td>-1</td>\n      <td>1</td>\n    </tr>\n    <tr>\n      <th>4</th>\n      <td>set3.alt1</td>\n      <td>-1</td>\n      <td>-1</td>\n      <td>-1</td>\n      <td>0</td>\n      <td>0</td>\n      <td>1</td>\n      <td>0</td>\n      <td>0</td>\n      <td>1</td>\n      <td>1</td>\n      <td>-1</td>\n    </tr>\n    <tr>\n      <th>5</th>\n      <td>set3.alt2</td>\n      <td>-1</td>\n      <td>-1</td>\n      <td>-1</td>\n      <td>1</td>\n      <td>0</td>\n      <td>0</td>\n      <td>0</td>\n      <td>0</td>\n      <td>-1</td>\n      <td>-1</td>\n      <td>1</td>\n    </tr>\n    <tr>\n      <th>6</th>\n      <td>set4.alt1</td>\n      <td>-1</td>\n      <td>-1</td>\n      <td>-1</td>\n      <td>0</td>\n      <td>0</td>\n      <td>0</td>\n      <td>1</td>\n      <td>0</td>\n      <td>-1</td>\n      <td>1</td>\n      <td>1</td>\n    </tr>\n    <tr>\n      <th>7</th>\n      <td>set4.alt2</td>\n      <td>-1</td>\n      <td>-1</td>\n      <td>-1</td>\n      <td>1</td>\n      <td>0</td>\n      <td>0</td>\n      <td>0</td>\n      <td>0</td>\n      <td>1</td>\n      <td>1</td>\n      <td>-1</td>\n    </tr>\n    <tr>\n      <th>8</th>\n      <td>set5.alt1</td>\n      <td>0</td>\n      <td>1</td>\n      <td>0</td>\n      <td>0</td>\n      <td>1</td>\n      <td>0</td>\n      <td>0</td>\n      <td>0</td>\n      <td>1</td>\n      <td>-1</td>\n      <td>1</td>\n    </tr>\n    <tr>\n      <th>9</th>\n      <td>set5.alt2</td>\n      <td>1</td>\n      <td>0</td>\n      <td>0</td>\n      <td>-1</td>\n      <td>-1</td>\n      <td>-1</td>\n      <td>-1</td>\n      <td>-1</td>\n      <td>1</td>\n      <td>-1</td>\n      <td>-1</td>\n    </tr>\n    <tr>\n      <th>10</th>\n      <td>set6.alt1</td>\n      <td>0</td>\n      <td>0</td>\n      <td>1</td>\n      <td>1</td>\n      <td>0</td>\n      <td>0</td>\n      <td>0</td>\n      <td>0</td>\n      <td>-1</td>\n      <td>1</td>\n      <td>1</td>\n    </tr>\n    <tr>\n      <th>11</th>\n      <td>set6.alt2</td>\n      <td>1</td>\n      <td>0</td>\n      <td>0</td>\n      <td>-1</td>\n      <td>-1</td>\n      <td>-1</td>\n      <td>-1</td>\n      <td>-1</td>\n      <td>1</td>\n      <td>-1</td>\n      <td>-1</td>\n    </tr>\n    <tr>\n      <th>12</th>\n      <td>set7.alt1</td>\n      <td>-1</td>\n      <td>-1</td>\n      <td>-1</td>\n      <td>0</td>\n      <td>0</td>\n      <td>0</td>\n      <td>0</td>\n      <td>1</td>\n      <td>1</td>\n      <td>1</td>\n      <td>1</td>\n    </tr>\n    <tr>\n      <th>13</th>\n      <td>set7.alt2</td>\n      <td>-1</td>\n      <td>-1</td>\n      <td>-1</td>\n      <td>0</td>\n      <td>0</td>\n      <td>1</td>\n      <td>0</td>\n      <td>0</td>\n      <td>1</td>\n      <td>-1</td>\n      <td>-1</td>\n    </tr>\n    <tr>\n      <th>14</th>\n      <td>set8.alt1</td>\n      <td>-1</td>\n      <td>-1</td>\n      <td>-1</td>\n      <td>0</td>\n      <td>0</td>\n      <td>1</td>\n      <td>0</td>\n      <td>0</td>\n      <td>-1</td>\n      <td>1</td>\n      <td>1</td>\n    </tr>\n    <tr>\n      <th>15</th>\n      <td>set8.alt2</td>\n      <td>0</td>\n      <td>0</td>\n      <td>1</td>\n      <td>0</td>\n      <td>1</td>\n      <td>0</td>\n      <td>0</td>\n      <td>0</td>\n      <td>1</td>\n      <td>1</td>\n      <td>-1</td>\n    </tr>\n    <tr>\n      <th>16</th>\n      <td>set9.alt1</td>\n      <td>0</td>\n      <td>1</td>\n      <td>0</td>\n      <td>0</td>\n      <td>0</td>\n      <td>1</td>\n      <td>0</td>\n      <td>0</td>\n      <td>-1</td>\n      <td>-1</td>\n      <td>1</td>\n    </tr>\n    <tr>\n      <th>17</th>\n      <td>set9.alt2</td>\n      <td>-1</td>\n      <td>-1</td>\n      <td>-1</td>\n      <td>1</td>\n      <td>0</td>\n      <td>0</td>\n      <td>0</td>\n      <td>0</td>\n      <td>-1</td>\n      <td>1</td>\n      <td>-1</td>\n    </tr>\n    <tr>\n      <th>18</th>\n      <td>set10.alt1</td>\n      <td>0</td>\n      <td>0</td>\n      <td>1</td>\n      <td>0</td>\n      <td>0</td>\n      <td>0</td>\n      <td>1</td>\n      <td>0</td>\n      <td>1</td>\n      <td>-1</td>\n      <td>1</td>\n    </tr>\n    <tr>\n      <th>19</th>\n      <td>set10.alt2</td>\n      <td>0</td>\n      <td>1</td>\n      <td>0</td>\n      <td>0</td>\n      <td>0</td>\n      <td>0</td>\n      <td>0</td>\n      <td>1</td>\n      <td>1</td>\n      <td>-1</td>\n      <td>-1</td>\n    </tr>\n    <tr>\n      <th>20</th>\n      <td>set11.alt1</td>\n      <td>0</td>\n      <td>0</td>\n      <td>1</td>\n      <td>0</td>\n      <td>0</td>\n      <td>0</td>\n      <td>0</td>\n      <td>1</td>\n      <td>1</td>\n      <td>-1</td>\n      <td>1</td>\n    </tr>\n    <tr>\n      <th>21</th>\n      <td>set11.alt2</td>\n      <td>0</td>\n      <td>1</td>\n      <td>0</td>\n      <td>0</td>\n      <td>0</td>\n      <td>0</td>\n      <td>1</td>\n      <td>0</td>\n      <td>-1</td>\n      <td>1</td>\n      <td>-1</td>\n    </tr>\n    <tr>\n      <th>22</th>\n      <td>set12.alt1</td>\n      <td>0</td>\n      <td>0</td>\n      <td>1</td>\n      <td>1</td>\n      <td>0</td>\n      <td>0</td>\n      <td>0</td>\n      <td>0</td>\n      <td>-1</td>\n      <td>1</td>\n      <td>1</td>\n    </tr>\n    <tr>\n      <th>23</th>\n      <td>set12.alt2</td>\n      <td>-1</td>\n      <td>-1</td>\n      <td>-1</td>\n      <td>0</td>\n      <td>1</td>\n      <td>0</td>\n      <td>0</td>\n      <td>0</td>\n      <td>1</td>\n      <td>-1</td>\n      <td>-1</td>\n    </tr>\n  </tbody>\n</table>\n</div>"
     },
     "execution_count": 61,
     "metadata": {},
     "output_type": "execute_result"
    }
   ],
   "source": [
    "#Design Merge\n",
    "design_file = \"/design_final.csv\"\n",
    "design = pd.read_csv(folder+design_file)\n",
    "design"
   ],
   "metadata": {
    "collapsed": false,
    "pycharm": {
     "name": "#%%\n"
    }
   }
  },
  {
   "cell_type": "code",
   "execution_count": 62,
   "outputs": [],
   "source": [
    "#Columns renaming All RES\", \"wind\", \"solar\",\"hydro\",\"biomass\",\"normal\n",
    "design_keys = {'Var11':'PriceMin5','Var12':'Price0','Var13':'Price2','Var21':'All RES','Var22':'wind','Var23':'solar','Var24':'hydro','Var25':'biomass','Var31':'Slovak','Var41':'Can Change','Var51':'No change'}\n",
    "design.rename(columns=design_keys, inplace=True)"
   ],
   "metadata": {
    "collapsed": false,
    "pycharm": {
     "name": "#%%\n"
    }
   }
  },
  {
   "cell_type": "code",
   "execution_count": 63,
   "outputs": [],
   "source": [
    "#Row rename\n",
    "design = design.drop(columns='Unnamed: 0')\n",
    "design['SetID'] = new_sets\n"
   ],
   "metadata": {
    "collapsed": false,
    "pycharm": {
     "name": "#%%\n"
    }
   }
  },
  {
   "cell_type": "code",
   "execution_count": 64,
   "outputs": [
    {
     "data": {
      "text/plain": "             ResponseId    SetID  value\n0     R_1pzMUhhsh8aVRYi   Set1_a      0\n1     R_AmTsD13JmmjO3iV   Set1_a      1\n2     R_21tw9KHb0ML81SJ   Set1_a      1\n3     R_1fki1n2Z31QFaAq   Set1_a      1\n4     R_3En9cfWxVnHUMwl   Set1_a      1\n...                 ...      ...    ...\n2683  R_e3YYeE5sB9xAcSJ  Set12_b      1\n2684  R_3kHPD0vxwbjFq3m  Set12_b      1\n2685  R_3qx7cCBjdww0Mu8  Set12_b      1\n2686  R_3nSrJLDJiYnhvLz  Set12_b      0\n2687  R_2sZ9jGAmaddENVs  Set12_b      1\n\n[2688 rows x 3 columns]",
      "text/html": "<div>\n<style scoped>\n    .dataframe tbody tr th:only-of-type {\n        vertical-align: middle;\n    }\n\n    .dataframe tbody tr th {\n        vertical-align: top;\n    }\n\n    .dataframe thead th {\n        text-align: right;\n    }\n</style>\n<table border=\"1\" class=\"dataframe\">\n  <thead>\n    <tr style=\"text-align: right;\">\n      <th></th>\n      <th>ResponseId</th>\n      <th>SetID</th>\n      <th>value</th>\n    </tr>\n  </thead>\n  <tbody>\n    <tr>\n      <th>0</th>\n      <td>R_1pzMUhhsh8aVRYi</td>\n      <td>Set1_a</td>\n      <td>0</td>\n    </tr>\n    <tr>\n      <th>1</th>\n      <td>R_AmTsD13JmmjO3iV</td>\n      <td>Set1_a</td>\n      <td>1</td>\n    </tr>\n    <tr>\n      <th>2</th>\n      <td>R_21tw9KHb0ML81SJ</td>\n      <td>Set1_a</td>\n      <td>1</td>\n    </tr>\n    <tr>\n      <th>3</th>\n      <td>R_1fki1n2Z31QFaAq</td>\n      <td>Set1_a</td>\n      <td>1</td>\n    </tr>\n    <tr>\n      <th>4</th>\n      <td>R_3En9cfWxVnHUMwl</td>\n      <td>Set1_a</td>\n      <td>1</td>\n    </tr>\n    <tr>\n      <th>...</th>\n      <td>...</td>\n      <td>...</td>\n      <td>...</td>\n    </tr>\n    <tr>\n      <th>2683</th>\n      <td>R_e3YYeE5sB9xAcSJ</td>\n      <td>Set12_b</td>\n      <td>1</td>\n    </tr>\n    <tr>\n      <th>2684</th>\n      <td>R_3kHPD0vxwbjFq3m</td>\n      <td>Set12_b</td>\n      <td>1</td>\n    </tr>\n    <tr>\n      <th>2685</th>\n      <td>R_3qx7cCBjdww0Mu8</td>\n      <td>Set12_b</td>\n      <td>1</td>\n    </tr>\n    <tr>\n      <th>2686</th>\n      <td>R_3nSrJLDJiYnhvLz</td>\n      <td>Set12_b</td>\n      <td>0</td>\n    </tr>\n    <tr>\n      <th>2687</th>\n      <td>R_2sZ9jGAmaddENVs</td>\n      <td>Set12_b</td>\n      <td>1</td>\n    </tr>\n  </tbody>\n</table>\n<p>2688 rows × 3 columns</p>\n</div>"
     },
     "execution_count": 64,
     "metadata": {},
     "output_type": "execute_result"
    }
   ],
   "source": [
    "#rename column analysis 2\n",
    "analysis2.rename(columns={'variable':'SetID'},inplace=True)\n",
    "analysis2"
   ],
   "metadata": {
    "collapsed": false,
    "pycharm": {
     "name": "#%%\n"
    }
   }
  },
  {
   "cell_type": "code",
   "execution_count": 65,
   "outputs": [
    {
     "data": {
      "text/plain": "             ResponseId    SetID  value  PriceMin5  Price0  Price2  All RES  \\\n0     R_1pzMUhhsh8aVRYi   Set1_a      0          1       0       0       -1   \n1     R_AmTsD13JmmjO3iV   Set1_a      1          1       0       0       -1   \n2     R_21tw9KHb0ML81SJ   Set1_a      1          1       0       0       -1   \n3     R_1fki1n2Z31QFaAq   Set1_a      1          1       0       0       -1   \n4     R_3En9cfWxVnHUMwl   Set1_a      1          1       0       0       -1   \n...                 ...      ...    ...        ...     ...     ...      ...   \n2683  R_e3YYeE5sB9xAcSJ  Set12_b      1         -1      -1      -1        0   \n2684  R_3kHPD0vxwbjFq3m  Set12_b      1         -1      -1      -1        0   \n2685  R_3qx7cCBjdww0Mu8  Set12_b      1         -1      -1      -1        0   \n2686  R_3nSrJLDJiYnhvLz  Set12_b      0         -1      -1      -1        0   \n2687  R_2sZ9jGAmaddENVs  Set12_b      1         -1      -1      -1        0   \n\n      wind  solar  hydro  biomass  Slovak  Can Change  No change  \n0       -1     -1     -1       -1      -1           1         -1  \n1       -1     -1     -1       -1      -1           1         -1  \n2       -1     -1     -1       -1      -1           1         -1  \n3       -1     -1     -1       -1      -1           1         -1  \n4       -1     -1     -1       -1      -1           1         -1  \n...    ...    ...    ...      ...     ...         ...        ...  \n2683     1      0      0        0       1          -1         -1  \n2684     1      0      0        0       1          -1         -1  \n2685     1      0      0        0       1          -1         -1  \n2686     1      0      0        0       1          -1         -1  \n2687     1      0      0        0       1          -1         -1  \n\n[2688 rows x 14 columns]",
      "text/html": "<div>\n<style scoped>\n    .dataframe tbody tr th:only-of-type {\n        vertical-align: middle;\n    }\n\n    .dataframe tbody tr th {\n        vertical-align: top;\n    }\n\n    .dataframe thead th {\n        text-align: right;\n    }\n</style>\n<table border=\"1\" class=\"dataframe\">\n  <thead>\n    <tr style=\"text-align: right;\">\n      <th></th>\n      <th>ResponseId</th>\n      <th>SetID</th>\n      <th>value</th>\n      <th>PriceMin5</th>\n      <th>Price0</th>\n      <th>Price2</th>\n      <th>All RES</th>\n      <th>wind</th>\n      <th>solar</th>\n      <th>hydro</th>\n      <th>biomass</th>\n      <th>Slovak</th>\n      <th>Can Change</th>\n      <th>No change</th>\n    </tr>\n  </thead>\n  <tbody>\n    <tr>\n      <th>0</th>\n      <td>R_1pzMUhhsh8aVRYi</td>\n      <td>Set1_a</td>\n      <td>0</td>\n      <td>1</td>\n      <td>0</td>\n      <td>0</td>\n      <td>-1</td>\n      <td>-1</td>\n      <td>-1</td>\n      <td>-1</td>\n      <td>-1</td>\n      <td>-1</td>\n      <td>1</td>\n      <td>-1</td>\n    </tr>\n    <tr>\n      <th>1</th>\n      <td>R_AmTsD13JmmjO3iV</td>\n      <td>Set1_a</td>\n      <td>1</td>\n      <td>1</td>\n      <td>0</td>\n      <td>0</td>\n      <td>-1</td>\n      <td>-1</td>\n      <td>-1</td>\n      <td>-1</td>\n      <td>-1</td>\n      <td>-1</td>\n      <td>1</td>\n      <td>-1</td>\n    </tr>\n    <tr>\n      <th>2</th>\n      <td>R_21tw9KHb0ML81SJ</td>\n      <td>Set1_a</td>\n      <td>1</td>\n      <td>1</td>\n      <td>0</td>\n      <td>0</td>\n      <td>-1</td>\n      <td>-1</td>\n      <td>-1</td>\n      <td>-1</td>\n      <td>-1</td>\n      <td>-1</td>\n      <td>1</td>\n      <td>-1</td>\n    </tr>\n    <tr>\n      <th>3</th>\n      <td>R_1fki1n2Z31QFaAq</td>\n      <td>Set1_a</td>\n      <td>1</td>\n      <td>1</td>\n      <td>0</td>\n      <td>0</td>\n      <td>-1</td>\n      <td>-1</td>\n      <td>-1</td>\n      <td>-1</td>\n      <td>-1</td>\n      <td>-1</td>\n      <td>1</td>\n      <td>-1</td>\n    </tr>\n    <tr>\n      <th>4</th>\n      <td>R_3En9cfWxVnHUMwl</td>\n      <td>Set1_a</td>\n      <td>1</td>\n      <td>1</td>\n      <td>0</td>\n      <td>0</td>\n      <td>-1</td>\n      <td>-1</td>\n      <td>-1</td>\n      <td>-1</td>\n      <td>-1</td>\n      <td>-1</td>\n      <td>1</td>\n      <td>-1</td>\n    </tr>\n    <tr>\n      <th>...</th>\n      <td>...</td>\n      <td>...</td>\n      <td>...</td>\n      <td>...</td>\n      <td>...</td>\n      <td>...</td>\n      <td>...</td>\n      <td>...</td>\n      <td>...</td>\n      <td>...</td>\n      <td>...</td>\n      <td>...</td>\n      <td>...</td>\n      <td>...</td>\n    </tr>\n    <tr>\n      <th>2683</th>\n      <td>R_e3YYeE5sB9xAcSJ</td>\n      <td>Set12_b</td>\n      <td>1</td>\n      <td>-1</td>\n      <td>-1</td>\n      <td>-1</td>\n      <td>0</td>\n      <td>1</td>\n      <td>0</td>\n      <td>0</td>\n      <td>0</td>\n      <td>1</td>\n      <td>-1</td>\n      <td>-1</td>\n    </tr>\n    <tr>\n      <th>2684</th>\n      <td>R_3kHPD0vxwbjFq3m</td>\n      <td>Set12_b</td>\n      <td>1</td>\n      <td>-1</td>\n      <td>-1</td>\n      <td>-1</td>\n      <td>0</td>\n      <td>1</td>\n      <td>0</td>\n      <td>0</td>\n      <td>0</td>\n      <td>1</td>\n      <td>-1</td>\n      <td>-1</td>\n    </tr>\n    <tr>\n      <th>2685</th>\n      <td>R_3qx7cCBjdww0Mu8</td>\n      <td>Set12_b</td>\n      <td>1</td>\n      <td>-1</td>\n      <td>-1</td>\n      <td>-1</td>\n      <td>0</td>\n      <td>1</td>\n      <td>0</td>\n      <td>0</td>\n      <td>0</td>\n      <td>1</td>\n      <td>-1</td>\n      <td>-1</td>\n    </tr>\n    <tr>\n      <th>2686</th>\n      <td>R_3nSrJLDJiYnhvLz</td>\n      <td>Set12_b</td>\n      <td>0</td>\n      <td>-1</td>\n      <td>-1</td>\n      <td>-1</td>\n      <td>0</td>\n      <td>1</td>\n      <td>0</td>\n      <td>0</td>\n      <td>0</td>\n      <td>1</td>\n      <td>-1</td>\n      <td>-1</td>\n    </tr>\n    <tr>\n      <th>2687</th>\n      <td>R_2sZ9jGAmaddENVs</td>\n      <td>Set12_b</td>\n      <td>1</td>\n      <td>-1</td>\n      <td>-1</td>\n      <td>-1</td>\n      <td>0</td>\n      <td>1</td>\n      <td>0</td>\n      <td>0</td>\n      <td>0</td>\n      <td>1</td>\n      <td>-1</td>\n      <td>-1</td>\n    </tr>\n  </tbody>\n</table>\n<p>2688 rows × 14 columns</p>\n</div>"
     },
     "execution_count": 65,
     "metadata": {},
     "output_type": "execute_result"
    }
   ],
   "source": [
    "#Merge responses and sets\n",
    "merged = pd.merge(analysis2, design, on='SetID')\n",
    "merged"
   ],
   "metadata": {
    "collapsed": false,
    "pycharm": {
     "name": "#%%\n"
    }
   }
  },
  {
   "cell_type": "code",
   "execution_count": 66,
   "outputs": [
    {
     "data": {
      "text/plain": "             ResponseId    SetID  value  PriceMin5  Price0  Price2  All RES  \\\n0     R_1pzMUhhsh8aVRYi   Set1_a      0          1       0       0       -1   \n1     R_1pzMUhhsh8aVRYi   Set1_b      1          0       1       0        0   \n2     R_1pzMUhhsh8aVRYi   Set2_a      0          1       0       0       -1   \n3     R_1pzMUhhsh8aVRYi   Set2_b      1          0       1       0        0   \n4     R_1pzMUhhsh8aVRYi   Set3_a      0         -1      -1      -1        0   \n...                 ...      ...    ...        ...     ...     ...      ...   \n2683  R_2sZ9jGAmaddENVs  Set10_b      0          0       1       0        0   \n2684  R_2sZ9jGAmaddENVs  Set11_a      0          0       0       1        0   \n2685  R_2sZ9jGAmaddENVs  Set11_b      1          0       1       0        0   \n2686  R_2sZ9jGAmaddENVs  Set12_a      0          0       0       1        1   \n2687  R_2sZ9jGAmaddENVs  Set12_b      1         -1      -1      -1        0   \n\n      wind  solar  hydro  ...  Household_size  Concern_1  RES_attitude_1  \\\n0       -1     -1     -1  ...               1          1               4   \n1        0      0      0  ...               1          1               4   \n2       -1     -1     -1  ...               1          1               4   \n3        0      0      1  ...               1          1               4   \n4        0      1      0  ...               1          1               4   \n...    ...    ...    ...  ...             ...        ...             ...   \n2683     0      0      0  ...               2          2               4   \n2684     0      0      0  ...               2          2               4   \n2685     0      0      1  ...               2          2               4   \n2686     0      0      0  ...               2          2               4   \n2687     1      0      0  ...               2          2               4   \n\n      Know_green_provider  Providers_count  Appliance_count  Task_temp  \\\n0                       0                1                4          4   \n1                       0                1                4          4   \n2                       0                1                4          4   \n3                       0                1                4          4   \n4                       0                1                4          4   \n...                   ...              ...              ...        ...   \n2683                    0                2                4          5   \n2684                    0                2                4          5   \n2685                    0                2                4          5   \n2686                    0                2                4          5   \n2687                    0                2                4          5   \n\n      Task_consumption  Task_appliances  Task_source  \n0                    5                5            2  \n1                    5                5            2  \n2                    5                5            2  \n3                    5                5            2  \n4                    5                5            2  \n...                ...              ...          ...  \n2683                 5                5            3  \n2684                 5                5            3  \n2685                 5                5            3  \n2686                 5                5            3  \n2687                 5                5            3  \n\n[2688 rows x 32 columns]",
      "text/html": "<div>\n<style scoped>\n    .dataframe tbody tr th:only-of-type {\n        vertical-align: middle;\n    }\n\n    .dataframe tbody tr th {\n        vertical-align: top;\n    }\n\n    .dataframe thead th {\n        text-align: right;\n    }\n</style>\n<table border=\"1\" class=\"dataframe\">\n  <thead>\n    <tr style=\"text-align: right;\">\n      <th></th>\n      <th>ResponseId</th>\n      <th>SetID</th>\n      <th>value</th>\n      <th>PriceMin5</th>\n      <th>Price0</th>\n      <th>Price2</th>\n      <th>All RES</th>\n      <th>wind</th>\n      <th>solar</th>\n      <th>hydro</th>\n      <th>...</th>\n      <th>Household_size</th>\n      <th>Concern_1</th>\n      <th>RES_attitude_1</th>\n      <th>Know_green_provider</th>\n      <th>Providers_count</th>\n      <th>Appliance_count</th>\n      <th>Task_temp</th>\n      <th>Task_consumption</th>\n      <th>Task_appliances</th>\n      <th>Task_source</th>\n    </tr>\n  </thead>\n  <tbody>\n    <tr>\n      <th>0</th>\n      <td>R_1pzMUhhsh8aVRYi</td>\n      <td>Set1_a</td>\n      <td>0</td>\n      <td>1</td>\n      <td>0</td>\n      <td>0</td>\n      <td>-1</td>\n      <td>-1</td>\n      <td>-1</td>\n      <td>-1</td>\n      <td>...</td>\n      <td>1</td>\n      <td>1</td>\n      <td>4</td>\n      <td>0</td>\n      <td>1</td>\n      <td>4</td>\n      <td>4</td>\n      <td>5</td>\n      <td>5</td>\n      <td>2</td>\n    </tr>\n    <tr>\n      <th>1</th>\n      <td>R_1pzMUhhsh8aVRYi</td>\n      <td>Set1_b</td>\n      <td>1</td>\n      <td>0</td>\n      <td>1</td>\n      <td>0</td>\n      <td>0</td>\n      <td>0</td>\n      <td>0</td>\n      <td>0</td>\n      <td>...</td>\n      <td>1</td>\n      <td>1</td>\n      <td>4</td>\n      <td>0</td>\n      <td>1</td>\n      <td>4</td>\n      <td>4</td>\n      <td>5</td>\n      <td>5</td>\n      <td>2</td>\n    </tr>\n    <tr>\n      <th>2</th>\n      <td>R_1pzMUhhsh8aVRYi</td>\n      <td>Set2_a</td>\n      <td>0</td>\n      <td>1</td>\n      <td>0</td>\n      <td>0</td>\n      <td>-1</td>\n      <td>-1</td>\n      <td>-1</td>\n      <td>-1</td>\n      <td>...</td>\n      <td>1</td>\n      <td>1</td>\n      <td>4</td>\n      <td>0</td>\n      <td>1</td>\n      <td>4</td>\n      <td>4</td>\n      <td>5</td>\n      <td>5</td>\n      <td>2</td>\n    </tr>\n    <tr>\n      <th>3</th>\n      <td>R_1pzMUhhsh8aVRYi</td>\n      <td>Set2_b</td>\n      <td>1</td>\n      <td>0</td>\n      <td>1</td>\n      <td>0</td>\n      <td>0</td>\n      <td>0</td>\n      <td>0</td>\n      <td>1</td>\n      <td>...</td>\n      <td>1</td>\n      <td>1</td>\n      <td>4</td>\n      <td>0</td>\n      <td>1</td>\n      <td>4</td>\n      <td>4</td>\n      <td>5</td>\n      <td>5</td>\n      <td>2</td>\n    </tr>\n    <tr>\n      <th>4</th>\n      <td>R_1pzMUhhsh8aVRYi</td>\n      <td>Set3_a</td>\n      <td>0</td>\n      <td>-1</td>\n      <td>-1</td>\n      <td>-1</td>\n      <td>0</td>\n      <td>0</td>\n      <td>1</td>\n      <td>0</td>\n      <td>...</td>\n      <td>1</td>\n      <td>1</td>\n      <td>4</td>\n      <td>0</td>\n      <td>1</td>\n      <td>4</td>\n      <td>4</td>\n      <td>5</td>\n      <td>5</td>\n      <td>2</td>\n    </tr>\n    <tr>\n      <th>...</th>\n      <td>...</td>\n      <td>...</td>\n      <td>...</td>\n      <td>...</td>\n      <td>...</td>\n      <td>...</td>\n      <td>...</td>\n      <td>...</td>\n      <td>...</td>\n      <td>...</td>\n      <td>...</td>\n      <td>...</td>\n      <td>...</td>\n      <td>...</td>\n      <td>...</td>\n      <td>...</td>\n      <td>...</td>\n      <td>...</td>\n      <td>...</td>\n      <td>...</td>\n      <td>...</td>\n    </tr>\n    <tr>\n      <th>2683</th>\n      <td>R_2sZ9jGAmaddENVs</td>\n      <td>Set10_b</td>\n      <td>0</td>\n      <td>0</td>\n      <td>1</td>\n      <td>0</td>\n      <td>0</td>\n      <td>0</td>\n      <td>0</td>\n      <td>0</td>\n      <td>...</td>\n      <td>2</td>\n      <td>2</td>\n      <td>4</td>\n      <td>0</td>\n      <td>2</td>\n      <td>4</td>\n      <td>5</td>\n      <td>5</td>\n      <td>5</td>\n      <td>3</td>\n    </tr>\n    <tr>\n      <th>2684</th>\n      <td>R_2sZ9jGAmaddENVs</td>\n      <td>Set11_a</td>\n      <td>0</td>\n      <td>0</td>\n      <td>0</td>\n      <td>1</td>\n      <td>0</td>\n      <td>0</td>\n      <td>0</td>\n      <td>0</td>\n      <td>...</td>\n      <td>2</td>\n      <td>2</td>\n      <td>4</td>\n      <td>0</td>\n      <td>2</td>\n      <td>4</td>\n      <td>5</td>\n      <td>5</td>\n      <td>5</td>\n      <td>3</td>\n    </tr>\n    <tr>\n      <th>2685</th>\n      <td>R_2sZ9jGAmaddENVs</td>\n      <td>Set11_b</td>\n      <td>1</td>\n      <td>0</td>\n      <td>1</td>\n      <td>0</td>\n      <td>0</td>\n      <td>0</td>\n      <td>0</td>\n      <td>1</td>\n      <td>...</td>\n      <td>2</td>\n      <td>2</td>\n      <td>4</td>\n      <td>0</td>\n      <td>2</td>\n      <td>4</td>\n      <td>5</td>\n      <td>5</td>\n      <td>5</td>\n      <td>3</td>\n    </tr>\n    <tr>\n      <th>2686</th>\n      <td>R_2sZ9jGAmaddENVs</td>\n      <td>Set12_a</td>\n      <td>0</td>\n      <td>0</td>\n      <td>0</td>\n      <td>1</td>\n      <td>1</td>\n      <td>0</td>\n      <td>0</td>\n      <td>0</td>\n      <td>...</td>\n      <td>2</td>\n      <td>2</td>\n      <td>4</td>\n      <td>0</td>\n      <td>2</td>\n      <td>4</td>\n      <td>5</td>\n      <td>5</td>\n      <td>5</td>\n      <td>3</td>\n    </tr>\n    <tr>\n      <th>2687</th>\n      <td>R_2sZ9jGAmaddENVs</td>\n      <td>Set12_b</td>\n      <td>1</td>\n      <td>-1</td>\n      <td>-1</td>\n      <td>-1</td>\n      <td>0</td>\n      <td>1</td>\n      <td>0</td>\n      <td>0</td>\n      <td>...</td>\n      <td>2</td>\n      <td>2</td>\n      <td>4</td>\n      <td>0</td>\n      <td>2</td>\n      <td>4</td>\n      <td>5</td>\n      <td>5</td>\n      <td>5</td>\n      <td>3</td>\n    </tr>\n  </tbody>\n</table>\n<p>2688 rows × 32 columns</p>\n</div>"
     },
     "execution_count": 66,
     "metadata": {},
     "output_type": "execute_result"
    }
   ],
   "source": [
    "merged1 = pd.merge(merged, socio, on='ResponseId')\n",
    "merged1"
   ],
   "metadata": {
    "collapsed": false,
    "pycharm": {
     "name": "#%%\n"
    }
   }
  },
  {
   "cell_type": "code",
   "execution_count": 67,
   "outputs": [],
   "source": [
    "merged1['SetID_1'] = merged1['SetID']"
   ],
   "metadata": {
    "collapsed": false,
    "pycharm": {
     "name": "#%%\n"
    }
   }
  },
  {
   "cell_type": "code",
   "execution_count": 68,
   "outputs": [],
   "source": [
    "merged1['SetID_1'].replace({'Set1_a':1, 'Set1_b':1, 'Set2_a':2, 'Set2_b':2, 'Set3_a':3, 'Set3_b':3, 'Set4_a':4, 'Set4_b':4, 'Set5_a':5, 'Set5_b':5, 'Set6_a':6, 'Set6_b':6, 'Set7_a':7, 'Set7_b':7, 'Set8_a':8, 'Set8_b':8, 'Set9_a':9, 'Set9_b':9, 'Set10_a':10, 'Set10_b':10, 'Set11_a':11, 'Set11_b':11, 'Set12_a':12, 'Set12_b':12},inplace=True)"
   ],
   "metadata": {
    "collapsed": false,
    "pycharm": {
     "name": "#%%\n"
    }
   }
  },
  {
   "cell_type": "code",
   "execution_count": 69,
   "outputs": [],
   "source": [
    "#Price Continuous\n",
    "price_cont = np.where(merged1['PriceMin5']==1,-5,np.where(merged1['Price0']==1,0,np.where(merged1['Price2']==1,2,5)))\n",
    "merged1.insert(merged1.columns.get_loc('PriceMin5'),'Price Cont',price_cont)"
   ],
   "metadata": {
    "collapsed": false,
    "pycharm": {
     "name": "#%%\n"
    }
   }
  },
  {
   "cell_type": "code",
   "execution_count": 70,
   "outputs": [],
   "source": [
    "merged1['Price Cont'] = merged1['Price Cont'].astype(int)\n",
    "merged1['payment_1'] = merged1['payment_1'].astype(int)"
   ],
   "metadata": {
    "collapsed": false,
    "pycharm": {
     "name": "#%%\n"
    }
   }
  },
  {
   "cell_type": "code",
   "execution_count": 71,
   "outputs": [],
   "source": [
    "#Price Real\n",
    "price_real = merged1['Price Cont'] + merged1['payment_1']\n",
    "merged1.insert(merged1.columns.get_loc('Price Cont'),'Real Price',price_real)"
   ],
   "metadata": {
    "collapsed": false,
    "pycharm": {
     "name": "#%%\n"
    }
   }
  },
  {
   "cell_type": "code",
   "execution_count": 72,
   "outputs": [
    {
     "data": {
      "text/plain": "             ResponseId    SetID  value  Real Price  Price Cont  PriceMin5  \\\n0     R_1pzMUhhsh8aVRYi   Set1_a      0          45          -5          1   \n1     R_1pzMUhhsh8aVRYi   Set1_b      1          50           0          0   \n2     R_1pzMUhhsh8aVRYi   Set2_a      0          45          -5          1   \n3     R_1pzMUhhsh8aVRYi   Set2_b      1          50           0          0   \n4     R_1pzMUhhsh8aVRYi   Set3_a      0          55           5         -1   \n...                 ...      ...    ...         ...         ...        ...   \n2683  R_2sZ9jGAmaddENVs  Set10_b      0          75           0          0   \n2684  R_2sZ9jGAmaddENVs  Set11_a      0          77           2          0   \n2685  R_2sZ9jGAmaddENVs  Set11_b      1          75           0          0   \n2686  R_2sZ9jGAmaddENVs  Set12_a      0          77           2          0   \n2687  R_2sZ9jGAmaddENVs  Set12_b      1          80           5         -1   \n\n      Price0  Price2  All RES  wind  ...  Concern_1  RES_attitude_1  \\\n0          0       0       -1    -1  ...          1               4   \n1          1       0        0     0  ...          1               4   \n2          0       0       -1    -1  ...          1               4   \n3          1       0        0     0  ...          1               4   \n4         -1      -1        0     0  ...          1               4   \n...      ...     ...      ...   ...  ...        ...             ...   \n2683       1       0        0     0  ...          2               4   \n2684       0       1        0     0  ...          2               4   \n2685       1       0        0     0  ...          2               4   \n2686       0       1        1     0  ...          2               4   \n2687      -1      -1        0     1  ...          2               4   \n\n      Know_green_provider  Providers_count  Appliance_count  Task_temp  \\\n0                       0                1                4          4   \n1                       0                1                4          4   \n2                       0                1                4          4   \n3                       0                1                4          4   \n4                       0                1                4          4   \n...                   ...              ...              ...        ...   \n2683                    0                2                4          5   \n2684                    0                2                4          5   \n2685                    0                2                4          5   \n2686                    0                2                4          5   \n2687                    0                2                4          5   \n\n      Task_consumption  Task_appliances  Task_source  SetID_1  \n0                    5                5            2        1  \n1                    5                5            2        1  \n2                    5                5            2        2  \n3                    5                5            2        2  \n4                    5                5            2        3  \n...                ...              ...          ...      ...  \n2683                 5                5            3       10  \n2684                 5                5            3       11  \n2685                 5                5            3       11  \n2686                 5                5            3       12  \n2687                 5                5            3       12  \n\n[2688 rows x 35 columns]",
      "text/html": "<div>\n<style scoped>\n    .dataframe tbody tr th:only-of-type {\n        vertical-align: middle;\n    }\n\n    .dataframe tbody tr th {\n        vertical-align: top;\n    }\n\n    .dataframe thead th {\n        text-align: right;\n    }\n</style>\n<table border=\"1\" class=\"dataframe\">\n  <thead>\n    <tr style=\"text-align: right;\">\n      <th></th>\n      <th>ResponseId</th>\n      <th>SetID</th>\n      <th>value</th>\n      <th>Real Price</th>\n      <th>Price Cont</th>\n      <th>PriceMin5</th>\n      <th>Price0</th>\n      <th>Price2</th>\n      <th>All RES</th>\n      <th>wind</th>\n      <th>...</th>\n      <th>Concern_1</th>\n      <th>RES_attitude_1</th>\n      <th>Know_green_provider</th>\n      <th>Providers_count</th>\n      <th>Appliance_count</th>\n      <th>Task_temp</th>\n      <th>Task_consumption</th>\n      <th>Task_appliances</th>\n      <th>Task_source</th>\n      <th>SetID_1</th>\n    </tr>\n  </thead>\n  <tbody>\n    <tr>\n      <th>0</th>\n      <td>R_1pzMUhhsh8aVRYi</td>\n      <td>Set1_a</td>\n      <td>0</td>\n      <td>45</td>\n      <td>-5</td>\n      <td>1</td>\n      <td>0</td>\n      <td>0</td>\n      <td>-1</td>\n      <td>-1</td>\n      <td>...</td>\n      <td>1</td>\n      <td>4</td>\n      <td>0</td>\n      <td>1</td>\n      <td>4</td>\n      <td>4</td>\n      <td>5</td>\n      <td>5</td>\n      <td>2</td>\n      <td>1</td>\n    </tr>\n    <tr>\n      <th>1</th>\n      <td>R_1pzMUhhsh8aVRYi</td>\n      <td>Set1_b</td>\n      <td>1</td>\n      <td>50</td>\n      <td>0</td>\n      <td>0</td>\n      <td>1</td>\n      <td>0</td>\n      <td>0</td>\n      <td>0</td>\n      <td>...</td>\n      <td>1</td>\n      <td>4</td>\n      <td>0</td>\n      <td>1</td>\n      <td>4</td>\n      <td>4</td>\n      <td>5</td>\n      <td>5</td>\n      <td>2</td>\n      <td>1</td>\n    </tr>\n    <tr>\n      <th>2</th>\n      <td>R_1pzMUhhsh8aVRYi</td>\n      <td>Set2_a</td>\n      <td>0</td>\n      <td>45</td>\n      <td>-5</td>\n      <td>1</td>\n      <td>0</td>\n      <td>0</td>\n      <td>-1</td>\n      <td>-1</td>\n      <td>...</td>\n      <td>1</td>\n      <td>4</td>\n      <td>0</td>\n      <td>1</td>\n      <td>4</td>\n      <td>4</td>\n      <td>5</td>\n      <td>5</td>\n      <td>2</td>\n      <td>2</td>\n    </tr>\n    <tr>\n      <th>3</th>\n      <td>R_1pzMUhhsh8aVRYi</td>\n      <td>Set2_b</td>\n      <td>1</td>\n      <td>50</td>\n      <td>0</td>\n      <td>0</td>\n      <td>1</td>\n      <td>0</td>\n      <td>0</td>\n      <td>0</td>\n      <td>...</td>\n      <td>1</td>\n      <td>4</td>\n      <td>0</td>\n      <td>1</td>\n      <td>4</td>\n      <td>4</td>\n      <td>5</td>\n      <td>5</td>\n      <td>2</td>\n      <td>2</td>\n    </tr>\n    <tr>\n      <th>4</th>\n      <td>R_1pzMUhhsh8aVRYi</td>\n      <td>Set3_a</td>\n      <td>0</td>\n      <td>55</td>\n      <td>5</td>\n      <td>-1</td>\n      <td>-1</td>\n      <td>-1</td>\n      <td>0</td>\n      <td>0</td>\n      <td>...</td>\n      <td>1</td>\n      <td>4</td>\n      <td>0</td>\n      <td>1</td>\n      <td>4</td>\n      <td>4</td>\n      <td>5</td>\n      <td>5</td>\n      <td>2</td>\n      <td>3</td>\n    </tr>\n    <tr>\n      <th>...</th>\n      <td>...</td>\n      <td>...</td>\n      <td>...</td>\n      <td>...</td>\n      <td>...</td>\n      <td>...</td>\n      <td>...</td>\n      <td>...</td>\n      <td>...</td>\n      <td>...</td>\n      <td>...</td>\n      <td>...</td>\n      <td>...</td>\n      <td>...</td>\n      <td>...</td>\n      <td>...</td>\n      <td>...</td>\n      <td>...</td>\n      <td>...</td>\n      <td>...</td>\n      <td>...</td>\n    </tr>\n    <tr>\n      <th>2683</th>\n      <td>R_2sZ9jGAmaddENVs</td>\n      <td>Set10_b</td>\n      <td>0</td>\n      <td>75</td>\n      <td>0</td>\n      <td>0</td>\n      <td>1</td>\n      <td>0</td>\n      <td>0</td>\n      <td>0</td>\n      <td>...</td>\n      <td>2</td>\n      <td>4</td>\n      <td>0</td>\n      <td>2</td>\n      <td>4</td>\n      <td>5</td>\n      <td>5</td>\n      <td>5</td>\n      <td>3</td>\n      <td>10</td>\n    </tr>\n    <tr>\n      <th>2684</th>\n      <td>R_2sZ9jGAmaddENVs</td>\n      <td>Set11_a</td>\n      <td>0</td>\n      <td>77</td>\n      <td>2</td>\n      <td>0</td>\n      <td>0</td>\n      <td>1</td>\n      <td>0</td>\n      <td>0</td>\n      <td>...</td>\n      <td>2</td>\n      <td>4</td>\n      <td>0</td>\n      <td>2</td>\n      <td>4</td>\n      <td>5</td>\n      <td>5</td>\n      <td>5</td>\n      <td>3</td>\n      <td>11</td>\n    </tr>\n    <tr>\n      <th>2685</th>\n      <td>R_2sZ9jGAmaddENVs</td>\n      <td>Set11_b</td>\n      <td>1</td>\n      <td>75</td>\n      <td>0</td>\n      <td>0</td>\n      <td>1</td>\n      <td>0</td>\n      <td>0</td>\n      <td>0</td>\n      <td>...</td>\n      <td>2</td>\n      <td>4</td>\n      <td>0</td>\n      <td>2</td>\n      <td>4</td>\n      <td>5</td>\n      <td>5</td>\n      <td>5</td>\n      <td>3</td>\n      <td>11</td>\n    </tr>\n    <tr>\n      <th>2686</th>\n      <td>R_2sZ9jGAmaddENVs</td>\n      <td>Set12_a</td>\n      <td>0</td>\n      <td>77</td>\n      <td>2</td>\n      <td>0</td>\n      <td>0</td>\n      <td>1</td>\n      <td>1</td>\n      <td>0</td>\n      <td>...</td>\n      <td>2</td>\n      <td>4</td>\n      <td>0</td>\n      <td>2</td>\n      <td>4</td>\n      <td>5</td>\n      <td>5</td>\n      <td>5</td>\n      <td>3</td>\n      <td>12</td>\n    </tr>\n    <tr>\n      <th>2687</th>\n      <td>R_2sZ9jGAmaddENVs</td>\n      <td>Set12_b</td>\n      <td>1</td>\n      <td>80</td>\n      <td>5</td>\n      <td>-1</td>\n      <td>-1</td>\n      <td>-1</td>\n      <td>0</td>\n      <td>1</td>\n      <td>...</td>\n      <td>2</td>\n      <td>4</td>\n      <td>0</td>\n      <td>2</td>\n      <td>4</td>\n      <td>5</td>\n      <td>5</td>\n      <td>5</td>\n      <td>3</td>\n      <td>12</td>\n    </tr>\n  </tbody>\n</table>\n<p>2688 rows × 35 columns</p>\n</div>"
     },
     "execution_count": 72,
     "metadata": {},
     "output_type": "execute_result"
    }
   ],
   "source": [
    "merged1"
   ],
   "metadata": {
    "collapsed": false,
    "pycharm": {
     "name": "#%%\n"
    }
   }
  },
  {
   "cell_type": "code",
   "execution_count": 48,
   "outputs": [
    {
     "data": {
      "text/plain": "       Price Cont  PriceMin5   Price0   Price2  All RES     wind    solar  \\\ncount     2688.00    2688.00  2688.00  2688.00  2688.00  2688.00  2688.00   \nmean         1.46      -0.21    -0.12    -0.17     0.04    -0.04     0.00   \nstd          3.50       0.71     0.78     0.75     0.61     0.54     0.58   \nmin         -5.00      -1.00    -1.00    -1.00    -1.00    -1.00    -1.00   \n25%          0.00      -1.00    -1.00    -1.00     0.00     0.00     0.00   \n50%          2.00       0.00     0.00     0.00     0.00     0.00     0.00   \n75%          5.00       0.00     0.25     0.00     0.00     0.00     0.00   \nmax          5.00       1.00     1.00     1.00     1.00     1.00     1.00   \n\n         hydro  biomass   Slovak  Can Change  No change  \ncount  2688.00  2688.00  2688.00      2688.0     2688.0  \nmean      0.00     0.00     0.17         0.0        0.0  \nstd       0.58     0.58     0.99         1.0        1.0  \nmin      -1.00    -1.00    -1.00        -1.0       -1.0  \n25%       0.00     0.00    -1.00        -1.0       -1.0  \n50%       0.00     0.00     1.00         0.0        0.0  \n75%       0.00     0.00     1.00         1.0        1.0  \nmax       1.00     1.00     1.00         1.0        1.0  ",
      "text/html": "<div>\n<style scoped>\n    .dataframe tbody tr th:only-of-type {\n        vertical-align: middle;\n    }\n\n    .dataframe tbody tr th {\n        vertical-align: top;\n    }\n\n    .dataframe thead th {\n        text-align: right;\n    }\n</style>\n<table border=\"1\" class=\"dataframe\">\n  <thead>\n    <tr style=\"text-align: right;\">\n      <th></th>\n      <th>Price Cont</th>\n      <th>PriceMin5</th>\n      <th>Price0</th>\n      <th>Price2</th>\n      <th>All RES</th>\n      <th>wind</th>\n      <th>solar</th>\n      <th>hydro</th>\n      <th>biomass</th>\n      <th>Slovak</th>\n      <th>Can Change</th>\n      <th>No change</th>\n    </tr>\n  </thead>\n  <tbody>\n    <tr>\n      <th>count</th>\n      <td>2688.00</td>\n      <td>2688.00</td>\n      <td>2688.00</td>\n      <td>2688.00</td>\n      <td>2688.00</td>\n      <td>2688.00</td>\n      <td>2688.00</td>\n      <td>2688.00</td>\n      <td>2688.00</td>\n      <td>2688.00</td>\n      <td>2688.0</td>\n      <td>2688.0</td>\n    </tr>\n    <tr>\n      <th>mean</th>\n      <td>1.46</td>\n      <td>-0.21</td>\n      <td>-0.12</td>\n      <td>-0.17</td>\n      <td>0.04</td>\n      <td>-0.04</td>\n      <td>0.00</td>\n      <td>0.00</td>\n      <td>0.00</td>\n      <td>0.17</td>\n      <td>0.0</td>\n      <td>0.0</td>\n    </tr>\n    <tr>\n      <th>std</th>\n      <td>3.50</td>\n      <td>0.71</td>\n      <td>0.78</td>\n      <td>0.75</td>\n      <td>0.61</td>\n      <td>0.54</td>\n      <td>0.58</td>\n      <td>0.58</td>\n      <td>0.58</td>\n      <td>0.99</td>\n      <td>1.0</td>\n      <td>1.0</td>\n    </tr>\n    <tr>\n      <th>min</th>\n      <td>-5.00</td>\n      <td>-1.00</td>\n      <td>-1.00</td>\n      <td>-1.00</td>\n      <td>-1.00</td>\n      <td>-1.00</td>\n      <td>-1.00</td>\n      <td>-1.00</td>\n      <td>-1.00</td>\n      <td>-1.00</td>\n      <td>-1.0</td>\n      <td>-1.0</td>\n    </tr>\n    <tr>\n      <th>25%</th>\n      <td>0.00</td>\n      <td>-1.00</td>\n      <td>-1.00</td>\n      <td>-1.00</td>\n      <td>0.00</td>\n      <td>0.00</td>\n      <td>0.00</td>\n      <td>0.00</td>\n      <td>0.00</td>\n      <td>-1.00</td>\n      <td>-1.0</td>\n      <td>-1.0</td>\n    </tr>\n    <tr>\n      <th>50%</th>\n      <td>2.00</td>\n      <td>0.00</td>\n      <td>0.00</td>\n      <td>0.00</td>\n      <td>0.00</td>\n      <td>0.00</td>\n      <td>0.00</td>\n      <td>0.00</td>\n      <td>0.00</td>\n      <td>1.00</td>\n      <td>0.0</td>\n      <td>0.0</td>\n    </tr>\n    <tr>\n      <th>75%</th>\n      <td>5.00</td>\n      <td>0.00</td>\n      <td>0.25</td>\n      <td>0.00</td>\n      <td>0.00</td>\n      <td>0.00</td>\n      <td>0.00</td>\n      <td>0.00</td>\n      <td>0.00</td>\n      <td>1.00</td>\n      <td>1.0</td>\n      <td>1.0</td>\n    </tr>\n    <tr>\n      <th>max</th>\n      <td>5.00</td>\n      <td>1.00</td>\n      <td>1.00</td>\n      <td>1.00</td>\n      <td>1.00</td>\n      <td>1.00</td>\n      <td>1.00</td>\n      <td>1.00</td>\n      <td>1.00</td>\n      <td>1.00</td>\n      <td>1.0</td>\n      <td>1.0</td>\n    </tr>\n  </tbody>\n</table>\n</div>"
     },
     "execution_count": 48,
     "metadata": {},
     "output_type": "execute_result"
    }
   ],
   "source": [
    "round(merged1.iloc[:,4:16].describe(),2)"
   ],
   "metadata": {
    "collapsed": false,
    "pycharm": {
     "name": "#%%\n"
    }
   }
  },
  {
   "cell_type": "code",
   "execution_count": 49,
   "outputs": [
    {
     "data": {
      "text/plain": "            Price Cont  All RES  wind  solar  hydro  biomass  Slovak  \\\nPrice Cont        1.00     0.73  0.63   0.72   0.56     0.56    0.01   \nAll RES           0.73     1.00  0.51   0.47   0.47     0.47   -0.22   \nwind              0.63     0.51  1.00   0.54   0.54     0.54    0.25   \nsolar             0.72     0.47  0.54   1.00   0.50     0.50   -0.00   \nhydro             0.56     0.47  0.54   0.50   1.00     0.50   -0.00   \nbiomass           0.56     0.47  0.54   0.50   0.50     1.00    0.29   \nSlovak            0.01    -0.22  0.25  -0.00  -0.00     0.29    1.00   \nCan Change        0.20     0.20 -0.08   0.00   0.00    -0.14   -0.51   \nNo change         0.25     0.34  0.23   0.29   0.43     0.43   -0.17   \n\n            Can Change  No change  \nPrice Cont        0.20       0.25  \nAll RES           0.20       0.34  \nwind             -0.08       0.23  \nsolar             0.00       0.29  \nhydro             0.00       0.43  \nbiomass          -0.14       0.43  \nSlovak           -0.51      -0.17  \nCan Change        1.00      -0.17  \nNo change        -0.17       1.00  ",
      "text/html": "<div>\n<style scoped>\n    .dataframe tbody tr th:only-of-type {\n        vertical-align: middle;\n    }\n\n    .dataframe tbody tr th {\n        vertical-align: top;\n    }\n\n    .dataframe thead th {\n        text-align: right;\n    }\n</style>\n<table border=\"1\" class=\"dataframe\">\n  <thead>\n    <tr style=\"text-align: right;\">\n      <th></th>\n      <th>Price Cont</th>\n      <th>All RES</th>\n      <th>wind</th>\n      <th>solar</th>\n      <th>hydro</th>\n      <th>biomass</th>\n      <th>Slovak</th>\n      <th>Can Change</th>\n      <th>No change</th>\n    </tr>\n  </thead>\n  <tbody>\n    <tr>\n      <th>Price Cont</th>\n      <td>1.00</td>\n      <td>0.73</td>\n      <td>0.63</td>\n      <td>0.72</td>\n      <td>0.56</td>\n      <td>0.56</td>\n      <td>0.01</td>\n      <td>0.20</td>\n      <td>0.25</td>\n    </tr>\n    <tr>\n      <th>All RES</th>\n      <td>0.73</td>\n      <td>1.00</td>\n      <td>0.51</td>\n      <td>0.47</td>\n      <td>0.47</td>\n      <td>0.47</td>\n      <td>-0.22</td>\n      <td>0.20</td>\n      <td>0.34</td>\n    </tr>\n    <tr>\n      <th>wind</th>\n      <td>0.63</td>\n      <td>0.51</td>\n      <td>1.00</td>\n      <td>0.54</td>\n      <td>0.54</td>\n      <td>0.54</td>\n      <td>0.25</td>\n      <td>-0.08</td>\n      <td>0.23</td>\n    </tr>\n    <tr>\n      <th>solar</th>\n      <td>0.72</td>\n      <td>0.47</td>\n      <td>0.54</td>\n      <td>1.00</td>\n      <td>0.50</td>\n      <td>0.50</td>\n      <td>-0.00</td>\n      <td>0.00</td>\n      <td>0.29</td>\n    </tr>\n    <tr>\n      <th>hydro</th>\n      <td>0.56</td>\n      <td>0.47</td>\n      <td>0.54</td>\n      <td>0.50</td>\n      <td>1.00</td>\n      <td>0.50</td>\n      <td>-0.00</td>\n      <td>0.00</td>\n      <td>0.43</td>\n    </tr>\n    <tr>\n      <th>biomass</th>\n      <td>0.56</td>\n      <td>0.47</td>\n      <td>0.54</td>\n      <td>0.50</td>\n      <td>0.50</td>\n      <td>1.00</td>\n      <td>0.29</td>\n      <td>-0.14</td>\n      <td>0.43</td>\n    </tr>\n    <tr>\n      <th>Slovak</th>\n      <td>0.01</td>\n      <td>-0.22</td>\n      <td>0.25</td>\n      <td>-0.00</td>\n      <td>-0.00</td>\n      <td>0.29</td>\n      <td>1.00</td>\n      <td>-0.51</td>\n      <td>-0.17</td>\n    </tr>\n    <tr>\n      <th>Can Change</th>\n      <td>0.20</td>\n      <td>0.20</td>\n      <td>-0.08</td>\n      <td>0.00</td>\n      <td>0.00</td>\n      <td>-0.14</td>\n      <td>-0.51</td>\n      <td>1.00</td>\n      <td>-0.17</td>\n    </tr>\n    <tr>\n      <th>No change</th>\n      <td>0.25</td>\n      <td>0.34</td>\n      <td>0.23</td>\n      <td>0.29</td>\n      <td>0.43</td>\n      <td>0.43</td>\n      <td>-0.17</td>\n      <td>-0.17</td>\n      <td>1.00</td>\n    </tr>\n  </tbody>\n</table>\n</div>"
     },
     "execution_count": 49,
     "metadata": {},
     "output_type": "execute_result"
    }
   ],
   "source": [
    "corr_col = ['Price Cont','All RES','wind','solar','hydro','biomass','Slovak','Can Change','No change']\n",
    "round(merged1[corr_col].corr(),2)"
   ],
   "metadata": {
    "collapsed": false,
    "pycharm": {
     "name": "#%%\n"
    }
   }
  },
  {
   "cell_type": "code",
   "execution_count": 47,
   "outputs": [],
   "source": [
    "merged1.to_csv(folder+\"/final_cleaned.csv\")"
   ],
   "metadata": {
    "collapsed": false,
    "pycharm": {
     "name": "#%%\n"
    }
   }
  },
  {
   "cell_type": "markdown",
   "source": [
    "## MACHINE LEARNING TRAINING PART DO NOT USE"
   ],
   "metadata": {
    "collapsed": false,
    "pycharm": {
     "name": "#%% md\n"
    }
   }
  },
  {
   "cell_type": "code",
   "execution_count": 50,
   "outputs": [],
   "source": [
    "from sklearn.model_selection import train_test_split\n",
    "from matplotlib import pyplot as plt\n",
    "\n",
    "from sklearn.linear_model import LogisticRegression\n",
    "from sklearn import tree\n",
    "from sklearn.tree import DecisionTreeClassifier"
   ],
   "metadata": {
    "collapsed": false,
    "pycharm": {
     "name": "#%%\n"
    }
   }
  },
  {
   "cell_type": "markdown",
   "source": [
    "Data Cleaning"
   ],
   "metadata": {
    "collapsed": false,
    "pycharm": {
     "name": "#%% md\n"
    }
   }
  },
  {
   "cell_type": "code",
   "execution_count": 51,
   "outputs": [],
   "source": [
    "#Define X & Y\n",
    "x_var = merged1.iloc[:,3:16]\n",
    "x_char = merged1.iloc[:,16:-1]\n",
    "y_var = merged.value\n",
    "x_char = x_char.astype(int)"
   ],
   "metadata": {
    "collapsed": false,
    "pycharm": {
     "name": "#%%\n"
    }
   }
  },
  {
   "cell_type": "code",
   "execution_count": 52,
   "outputs": [],
   "source": [
    "x_var_drop=['PriceMin5','Price0','Price2','Price Cont']\n",
    "x_var = x_var.drop(columns=x_var_drop)"
   ],
   "metadata": {
    "collapsed": false,
    "pycharm": {
     "name": "#%%\n"
    }
   }
  },
  {
   "cell_type": "code",
   "execution_count": 53,
   "outputs": [
    {
     "data": {
      "text/plain": "      Real Price  All RES  wind  solar  hydro  biomass  Slovak  Can Change  \\\n0             45       -1    -1     -1     -1       -1      -1           1   \n1             50        0     0      0      0        1       1          -1   \n2             45       -1    -1     -1     -1       -1      -1           1   \n3             50        0     0      0      1        0       1          -1   \n4             55        0     0      1      0        0       1           1   \n...          ...      ...   ...    ...    ...      ...     ...         ...   \n2683          75        0     0      0      0        1       1          -1   \n2684          77        0     0      0      0        1       1          -1   \n2685          75        0     0      0      1        0      -1           1   \n2686          77        1     0      0      0        0      -1           1   \n2687          80        0     1      0      0        0       1          -1   \n\n      No change  \n0            -1  \n1             1  \n2            -1  \n3             1  \n4            -1  \n...         ...  \n2683         -1  \n2684          1  \n2685         -1  \n2686          1  \n2687         -1  \n\n[2688 rows x 9 columns]",
      "text/html": "<div>\n<style scoped>\n    .dataframe tbody tr th:only-of-type {\n        vertical-align: middle;\n    }\n\n    .dataframe tbody tr th {\n        vertical-align: top;\n    }\n\n    .dataframe thead th {\n        text-align: right;\n    }\n</style>\n<table border=\"1\" class=\"dataframe\">\n  <thead>\n    <tr style=\"text-align: right;\">\n      <th></th>\n      <th>Real Price</th>\n      <th>All RES</th>\n      <th>wind</th>\n      <th>solar</th>\n      <th>hydro</th>\n      <th>biomass</th>\n      <th>Slovak</th>\n      <th>Can Change</th>\n      <th>No change</th>\n    </tr>\n  </thead>\n  <tbody>\n    <tr>\n      <th>0</th>\n      <td>45</td>\n      <td>-1</td>\n      <td>-1</td>\n      <td>-1</td>\n      <td>-1</td>\n      <td>-1</td>\n      <td>-1</td>\n      <td>1</td>\n      <td>-1</td>\n    </tr>\n    <tr>\n      <th>1</th>\n      <td>50</td>\n      <td>0</td>\n      <td>0</td>\n      <td>0</td>\n      <td>0</td>\n      <td>1</td>\n      <td>1</td>\n      <td>-1</td>\n      <td>1</td>\n    </tr>\n    <tr>\n      <th>2</th>\n      <td>45</td>\n      <td>-1</td>\n      <td>-1</td>\n      <td>-1</td>\n      <td>-1</td>\n      <td>-1</td>\n      <td>-1</td>\n      <td>1</td>\n      <td>-1</td>\n    </tr>\n    <tr>\n      <th>3</th>\n      <td>50</td>\n      <td>0</td>\n      <td>0</td>\n      <td>0</td>\n      <td>1</td>\n      <td>0</td>\n      <td>1</td>\n      <td>-1</td>\n      <td>1</td>\n    </tr>\n    <tr>\n      <th>4</th>\n      <td>55</td>\n      <td>0</td>\n      <td>0</td>\n      <td>1</td>\n      <td>0</td>\n      <td>0</td>\n      <td>1</td>\n      <td>1</td>\n      <td>-1</td>\n    </tr>\n    <tr>\n      <th>...</th>\n      <td>...</td>\n      <td>...</td>\n      <td>...</td>\n      <td>...</td>\n      <td>...</td>\n      <td>...</td>\n      <td>...</td>\n      <td>...</td>\n      <td>...</td>\n    </tr>\n    <tr>\n      <th>2683</th>\n      <td>75</td>\n      <td>0</td>\n      <td>0</td>\n      <td>0</td>\n      <td>0</td>\n      <td>1</td>\n      <td>1</td>\n      <td>-1</td>\n      <td>-1</td>\n    </tr>\n    <tr>\n      <th>2684</th>\n      <td>77</td>\n      <td>0</td>\n      <td>0</td>\n      <td>0</td>\n      <td>0</td>\n      <td>1</td>\n      <td>1</td>\n      <td>-1</td>\n      <td>1</td>\n    </tr>\n    <tr>\n      <th>2685</th>\n      <td>75</td>\n      <td>0</td>\n      <td>0</td>\n      <td>0</td>\n      <td>1</td>\n      <td>0</td>\n      <td>-1</td>\n      <td>1</td>\n      <td>-1</td>\n    </tr>\n    <tr>\n      <th>2686</th>\n      <td>77</td>\n      <td>1</td>\n      <td>0</td>\n      <td>0</td>\n      <td>0</td>\n      <td>0</td>\n      <td>-1</td>\n      <td>1</td>\n      <td>1</td>\n    </tr>\n    <tr>\n      <th>2687</th>\n      <td>80</td>\n      <td>0</td>\n      <td>1</td>\n      <td>0</td>\n      <td>0</td>\n      <td>0</td>\n      <td>1</td>\n      <td>-1</td>\n      <td>-1</td>\n    </tr>\n  </tbody>\n</table>\n<p>2688 rows × 9 columns</p>\n</div>"
     },
     "execution_count": 53,
     "metadata": {},
     "output_type": "execute_result"
    }
   ],
   "source": [
    "x_var"
   ],
   "metadata": {
    "collapsed": false,
    "pycharm": {
     "name": "#%%\n"
    }
   }
  },
  {
   "cell_type": "code",
   "execution_count": 54,
   "outputs": [],
   "source": [
    "x_char_drop=['payment_1']\n",
    "x_char = x_char.drop(columns=x_char_drop)"
   ],
   "metadata": {
    "collapsed": false,
    "pycharm": {
     "name": "#%%\n"
    }
   }
  },
  {
   "cell_type": "code",
   "execution_count": 55,
   "outputs": [
    {
     "data": {
      "text/plain": "      Gender_f  Age  Income  No Income  Energy Consumption  Region West  \\\n0            0   38       3          0                   0            1   \n1            0   38       3          0                   0            1   \n2            0   38       3          0                   0            1   \n3            0   38       3          0                   0            1   \n4            0   38       3          0                   0            1   \n...        ...  ...     ...        ...                 ...          ...   \n2683         1   62       6          0                   1            0   \n2684         1   62       6          0                   1            0   \n2685         1   62       6          0                   1            0   \n2686         1   62       6          0                   1            0   \n2687         1   62       6          0                   1            0   \n\n      Region East  Household_size  Concern_1  RES_attitude_1  \\\n0               0               1          1               4   \n1               0               1          1               4   \n2               0               1          1               4   \n3               0               1          1               4   \n4               0               1          1               4   \n...           ...             ...        ...             ...   \n2683            1               2          2               4   \n2684            1               2          2               4   \n2685            1               2          2               4   \n2686            1               2          2               4   \n2687            1               2          2               4   \n\n      Know_green_provider  Providers_count  Appliance_count  Task_temp  \\\n0                       0                1                4          4   \n1                       0                1                4          4   \n2                       0                1                4          4   \n3                       0                1                4          4   \n4                       0                1                4          4   \n...                   ...              ...              ...        ...   \n2683                    0                2                4          5   \n2684                    0                2                4          5   \n2685                    0                2                4          5   \n2686                    0                2                4          5   \n2687                    0                2                4          5   \n\n      Task_consumption  Task_appliances  Task_source  \n0                    5                5            2  \n1                    5                5            2  \n2                    5                5            2  \n3                    5                5            2  \n4                    5                5            2  \n...                ...              ...          ...  \n2683                 5                5            3  \n2684                 5                5            3  \n2685                 5                5            3  \n2686                 5                5            3  \n2687                 5                5            3  \n\n[2688 rows x 17 columns]",
      "text/html": "<div>\n<style scoped>\n    .dataframe tbody tr th:only-of-type {\n        vertical-align: middle;\n    }\n\n    .dataframe tbody tr th {\n        vertical-align: top;\n    }\n\n    .dataframe thead th {\n        text-align: right;\n    }\n</style>\n<table border=\"1\" class=\"dataframe\">\n  <thead>\n    <tr style=\"text-align: right;\">\n      <th></th>\n      <th>Gender_f</th>\n      <th>Age</th>\n      <th>Income</th>\n      <th>No Income</th>\n      <th>Energy Consumption</th>\n      <th>Region West</th>\n      <th>Region East</th>\n      <th>Household_size</th>\n      <th>Concern_1</th>\n      <th>RES_attitude_1</th>\n      <th>Know_green_provider</th>\n      <th>Providers_count</th>\n      <th>Appliance_count</th>\n      <th>Task_temp</th>\n      <th>Task_consumption</th>\n      <th>Task_appliances</th>\n      <th>Task_source</th>\n    </tr>\n  </thead>\n  <tbody>\n    <tr>\n      <th>0</th>\n      <td>0</td>\n      <td>38</td>\n      <td>3</td>\n      <td>0</td>\n      <td>0</td>\n      <td>1</td>\n      <td>0</td>\n      <td>1</td>\n      <td>1</td>\n      <td>4</td>\n      <td>0</td>\n      <td>1</td>\n      <td>4</td>\n      <td>4</td>\n      <td>5</td>\n      <td>5</td>\n      <td>2</td>\n    </tr>\n    <tr>\n      <th>1</th>\n      <td>0</td>\n      <td>38</td>\n      <td>3</td>\n      <td>0</td>\n      <td>0</td>\n      <td>1</td>\n      <td>0</td>\n      <td>1</td>\n      <td>1</td>\n      <td>4</td>\n      <td>0</td>\n      <td>1</td>\n      <td>4</td>\n      <td>4</td>\n      <td>5</td>\n      <td>5</td>\n      <td>2</td>\n    </tr>\n    <tr>\n      <th>2</th>\n      <td>0</td>\n      <td>38</td>\n      <td>3</td>\n      <td>0</td>\n      <td>0</td>\n      <td>1</td>\n      <td>0</td>\n      <td>1</td>\n      <td>1</td>\n      <td>4</td>\n      <td>0</td>\n      <td>1</td>\n      <td>4</td>\n      <td>4</td>\n      <td>5</td>\n      <td>5</td>\n      <td>2</td>\n    </tr>\n    <tr>\n      <th>3</th>\n      <td>0</td>\n      <td>38</td>\n      <td>3</td>\n      <td>0</td>\n      <td>0</td>\n      <td>1</td>\n      <td>0</td>\n      <td>1</td>\n      <td>1</td>\n      <td>4</td>\n      <td>0</td>\n      <td>1</td>\n      <td>4</td>\n      <td>4</td>\n      <td>5</td>\n      <td>5</td>\n      <td>2</td>\n    </tr>\n    <tr>\n      <th>4</th>\n      <td>0</td>\n      <td>38</td>\n      <td>3</td>\n      <td>0</td>\n      <td>0</td>\n      <td>1</td>\n      <td>0</td>\n      <td>1</td>\n      <td>1</td>\n      <td>4</td>\n      <td>0</td>\n      <td>1</td>\n      <td>4</td>\n      <td>4</td>\n      <td>5</td>\n      <td>5</td>\n      <td>2</td>\n    </tr>\n    <tr>\n      <th>...</th>\n      <td>...</td>\n      <td>...</td>\n      <td>...</td>\n      <td>...</td>\n      <td>...</td>\n      <td>...</td>\n      <td>...</td>\n      <td>...</td>\n      <td>...</td>\n      <td>...</td>\n      <td>...</td>\n      <td>...</td>\n      <td>...</td>\n      <td>...</td>\n      <td>...</td>\n      <td>...</td>\n      <td>...</td>\n    </tr>\n    <tr>\n      <th>2683</th>\n      <td>1</td>\n      <td>62</td>\n      <td>6</td>\n      <td>0</td>\n      <td>1</td>\n      <td>0</td>\n      <td>1</td>\n      <td>2</td>\n      <td>2</td>\n      <td>4</td>\n      <td>0</td>\n      <td>2</td>\n      <td>4</td>\n      <td>5</td>\n      <td>5</td>\n      <td>5</td>\n      <td>3</td>\n    </tr>\n    <tr>\n      <th>2684</th>\n      <td>1</td>\n      <td>62</td>\n      <td>6</td>\n      <td>0</td>\n      <td>1</td>\n      <td>0</td>\n      <td>1</td>\n      <td>2</td>\n      <td>2</td>\n      <td>4</td>\n      <td>0</td>\n      <td>2</td>\n      <td>4</td>\n      <td>5</td>\n      <td>5</td>\n      <td>5</td>\n      <td>3</td>\n    </tr>\n    <tr>\n      <th>2685</th>\n      <td>1</td>\n      <td>62</td>\n      <td>6</td>\n      <td>0</td>\n      <td>1</td>\n      <td>0</td>\n      <td>1</td>\n      <td>2</td>\n      <td>2</td>\n      <td>4</td>\n      <td>0</td>\n      <td>2</td>\n      <td>4</td>\n      <td>5</td>\n      <td>5</td>\n      <td>5</td>\n      <td>3</td>\n    </tr>\n    <tr>\n      <th>2686</th>\n      <td>1</td>\n      <td>62</td>\n      <td>6</td>\n      <td>0</td>\n      <td>1</td>\n      <td>0</td>\n      <td>1</td>\n      <td>2</td>\n      <td>2</td>\n      <td>4</td>\n      <td>0</td>\n      <td>2</td>\n      <td>4</td>\n      <td>5</td>\n      <td>5</td>\n      <td>5</td>\n      <td>3</td>\n    </tr>\n    <tr>\n      <th>2687</th>\n      <td>1</td>\n      <td>62</td>\n      <td>6</td>\n      <td>0</td>\n      <td>1</td>\n      <td>0</td>\n      <td>1</td>\n      <td>2</td>\n      <td>2</td>\n      <td>4</td>\n      <td>0</td>\n      <td>2</td>\n      <td>4</td>\n      <td>5</td>\n      <td>5</td>\n      <td>5</td>\n      <td>3</td>\n    </tr>\n  </tbody>\n</table>\n<p>2688 rows × 17 columns</p>\n</div>"
     },
     "execution_count": 55,
     "metadata": {},
     "output_type": "execute_result"
    }
   ],
   "source": [
    "x_char"
   ],
   "metadata": {
    "collapsed": false,
    "pycharm": {
     "name": "#%%\n"
    }
   }
  },
  {
   "cell_type": "markdown",
   "source": [
    "Logistic Regression"
   ],
   "metadata": {
    "collapsed": false,
    "pycharm": {
     "name": "#%% md\n"
    }
   }
  },
  {
   "cell_type": "code",
   "execution_count": 56,
   "outputs": [],
   "source": [
    "#Data Transformations\n",
    "x_log = x_var.copy()"
   ],
   "metadata": {
    "collapsed": false,
    "pycharm": {
     "name": "#%%\n"
    }
   }
  },
  {
   "cell_type": "code",
   "execution_count": 57,
   "outputs": [],
   "source": [
    "i = 1\n",
    "for char in x_char.columns:\n",
    "    i = 1\n",
    "    while i<10:\n",
    "        x_log[char+\"*\"+x_var.columns[i-1]] = x_char[char]*x_var[x_var.columns[i-1]]\n",
    "        i = i+1"
   ],
   "metadata": {
    "collapsed": false,
    "pycharm": {
     "name": "#%%\n"
    }
   }
  },
  {
   "cell_type": "code",
   "execution_count": 58,
   "outputs": [
    {
     "data": {
      "text/plain": "      Real Price  All RES  wind  solar  hydro  biomass  Slovak  Can Change  \\\n0             45       -1    -1     -1     -1       -1      -1           1   \n1             50        0     0      0      0        1       1          -1   \n2             45       -1    -1     -1     -1       -1      -1           1   \n3             50        0     0      0      1        0       1          -1   \n4             55        0     0      1      0        0       1           1   \n...          ...      ...   ...    ...    ...      ...     ...         ...   \n2683          75        0     0      0      0        1       1          -1   \n2684          77        0     0      0      0        1       1          -1   \n2685          75        0     0      0      1        0      -1           1   \n2686          77        1     0      0      0        0      -1           1   \n2687          80        0     1      0      0        0       1          -1   \n\n      No change  Gender_f*Real Price  ...  Task_appliances*No change  \\\n0            -1                    0  ...                         -5   \n1             1                    0  ...                          5   \n2            -1                    0  ...                         -5   \n3             1                    0  ...                          5   \n4            -1                    0  ...                         -5   \n...         ...                  ...  ...                        ...   \n2683         -1                   75  ...                         -5   \n2684          1                   77  ...                          5   \n2685         -1                   75  ...                         -5   \n2686          1                   77  ...                          5   \n2687         -1                   80  ...                         -5   \n\n      Task_source*Real Price  Task_source*All RES  Task_source*wind  \\\n0                         90                   -2                -2   \n1                        100                    0                 0   \n2                         90                   -2                -2   \n3                        100                    0                 0   \n4                        110                    0                 0   \n...                      ...                  ...               ...   \n2683                     225                    0                 0   \n2684                     231                    0                 0   \n2685                     225                    0                 0   \n2686                     231                    3                 0   \n2687                     240                    0                 3   \n\n      Task_source*solar  Task_source*hydro  Task_source*biomass  \\\n0                    -2                 -2                   -2   \n1                     0                  0                    2   \n2                    -2                 -2                   -2   \n3                     0                  2                    0   \n4                     2                  0                    0   \n...                 ...                ...                  ...   \n2683                  0                  0                    3   \n2684                  0                  0                    3   \n2685                  0                  3                    0   \n2686                  0                  0                    0   \n2687                  0                  0                    0   \n\n      Task_source*Slovak  Task_source*Can Change  Task_source*No change  \n0                     -2                       2                     -2  \n1                      2                      -2                      2  \n2                     -2                       2                     -2  \n3                      2                      -2                      2  \n4                      2                       2                     -2  \n...                  ...                     ...                    ...  \n2683                   3                      -3                     -3  \n2684                   3                      -3                      3  \n2685                  -3                       3                     -3  \n2686                  -3                       3                      3  \n2687                   3                      -3                     -3  \n\n[2688 rows x 162 columns]",
      "text/html": "<div>\n<style scoped>\n    .dataframe tbody tr th:only-of-type {\n        vertical-align: middle;\n    }\n\n    .dataframe tbody tr th {\n        vertical-align: top;\n    }\n\n    .dataframe thead th {\n        text-align: right;\n    }\n</style>\n<table border=\"1\" class=\"dataframe\">\n  <thead>\n    <tr style=\"text-align: right;\">\n      <th></th>\n      <th>Real Price</th>\n      <th>All RES</th>\n      <th>wind</th>\n      <th>solar</th>\n      <th>hydro</th>\n      <th>biomass</th>\n      <th>Slovak</th>\n      <th>Can Change</th>\n      <th>No change</th>\n      <th>Gender_f*Real Price</th>\n      <th>...</th>\n      <th>Task_appliances*No change</th>\n      <th>Task_source*Real Price</th>\n      <th>Task_source*All RES</th>\n      <th>Task_source*wind</th>\n      <th>Task_source*solar</th>\n      <th>Task_source*hydro</th>\n      <th>Task_source*biomass</th>\n      <th>Task_source*Slovak</th>\n      <th>Task_source*Can Change</th>\n      <th>Task_source*No change</th>\n    </tr>\n  </thead>\n  <tbody>\n    <tr>\n      <th>0</th>\n      <td>45</td>\n      <td>-1</td>\n      <td>-1</td>\n      <td>-1</td>\n      <td>-1</td>\n      <td>-1</td>\n      <td>-1</td>\n      <td>1</td>\n      <td>-1</td>\n      <td>0</td>\n      <td>...</td>\n      <td>-5</td>\n      <td>90</td>\n      <td>-2</td>\n      <td>-2</td>\n      <td>-2</td>\n      <td>-2</td>\n      <td>-2</td>\n      <td>-2</td>\n      <td>2</td>\n      <td>-2</td>\n    </tr>\n    <tr>\n      <th>1</th>\n      <td>50</td>\n      <td>0</td>\n      <td>0</td>\n      <td>0</td>\n      <td>0</td>\n      <td>1</td>\n      <td>1</td>\n      <td>-1</td>\n      <td>1</td>\n      <td>0</td>\n      <td>...</td>\n      <td>5</td>\n      <td>100</td>\n      <td>0</td>\n      <td>0</td>\n      <td>0</td>\n      <td>0</td>\n      <td>2</td>\n      <td>2</td>\n      <td>-2</td>\n      <td>2</td>\n    </tr>\n    <tr>\n      <th>2</th>\n      <td>45</td>\n      <td>-1</td>\n      <td>-1</td>\n      <td>-1</td>\n      <td>-1</td>\n      <td>-1</td>\n      <td>-1</td>\n      <td>1</td>\n      <td>-1</td>\n      <td>0</td>\n      <td>...</td>\n      <td>-5</td>\n      <td>90</td>\n      <td>-2</td>\n      <td>-2</td>\n      <td>-2</td>\n      <td>-2</td>\n      <td>-2</td>\n      <td>-2</td>\n      <td>2</td>\n      <td>-2</td>\n    </tr>\n    <tr>\n      <th>3</th>\n      <td>50</td>\n      <td>0</td>\n      <td>0</td>\n      <td>0</td>\n      <td>1</td>\n      <td>0</td>\n      <td>1</td>\n      <td>-1</td>\n      <td>1</td>\n      <td>0</td>\n      <td>...</td>\n      <td>5</td>\n      <td>100</td>\n      <td>0</td>\n      <td>0</td>\n      <td>0</td>\n      <td>2</td>\n      <td>0</td>\n      <td>2</td>\n      <td>-2</td>\n      <td>2</td>\n    </tr>\n    <tr>\n      <th>4</th>\n      <td>55</td>\n      <td>0</td>\n      <td>0</td>\n      <td>1</td>\n      <td>0</td>\n      <td>0</td>\n      <td>1</td>\n      <td>1</td>\n      <td>-1</td>\n      <td>0</td>\n      <td>...</td>\n      <td>-5</td>\n      <td>110</td>\n      <td>0</td>\n      <td>0</td>\n      <td>2</td>\n      <td>0</td>\n      <td>0</td>\n      <td>2</td>\n      <td>2</td>\n      <td>-2</td>\n    </tr>\n    <tr>\n      <th>...</th>\n      <td>...</td>\n      <td>...</td>\n      <td>...</td>\n      <td>...</td>\n      <td>...</td>\n      <td>...</td>\n      <td>...</td>\n      <td>...</td>\n      <td>...</td>\n      <td>...</td>\n      <td>...</td>\n      <td>...</td>\n      <td>...</td>\n      <td>...</td>\n      <td>...</td>\n      <td>...</td>\n      <td>...</td>\n      <td>...</td>\n      <td>...</td>\n      <td>...</td>\n      <td>...</td>\n    </tr>\n    <tr>\n      <th>2683</th>\n      <td>75</td>\n      <td>0</td>\n      <td>0</td>\n      <td>0</td>\n      <td>0</td>\n      <td>1</td>\n      <td>1</td>\n      <td>-1</td>\n      <td>-1</td>\n      <td>75</td>\n      <td>...</td>\n      <td>-5</td>\n      <td>225</td>\n      <td>0</td>\n      <td>0</td>\n      <td>0</td>\n      <td>0</td>\n      <td>3</td>\n      <td>3</td>\n      <td>-3</td>\n      <td>-3</td>\n    </tr>\n    <tr>\n      <th>2684</th>\n      <td>77</td>\n      <td>0</td>\n      <td>0</td>\n      <td>0</td>\n      <td>0</td>\n      <td>1</td>\n      <td>1</td>\n      <td>-1</td>\n      <td>1</td>\n      <td>77</td>\n      <td>...</td>\n      <td>5</td>\n      <td>231</td>\n      <td>0</td>\n      <td>0</td>\n      <td>0</td>\n      <td>0</td>\n      <td>3</td>\n      <td>3</td>\n      <td>-3</td>\n      <td>3</td>\n    </tr>\n    <tr>\n      <th>2685</th>\n      <td>75</td>\n      <td>0</td>\n      <td>0</td>\n      <td>0</td>\n      <td>1</td>\n      <td>0</td>\n      <td>-1</td>\n      <td>1</td>\n      <td>-1</td>\n      <td>75</td>\n      <td>...</td>\n      <td>-5</td>\n      <td>225</td>\n      <td>0</td>\n      <td>0</td>\n      <td>0</td>\n      <td>3</td>\n      <td>0</td>\n      <td>-3</td>\n      <td>3</td>\n      <td>-3</td>\n    </tr>\n    <tr>\n      <th>2686</th>\n      <td>77</td>\n      <td>1</td>\n      <td>0</td>\n      <td>0</td>\n      <td>0</td>\n      <td>0</td>\n      <td>-1</td>\n      <td>1</td>\n      <td>1</td>\n      <td>77</td>\n      <td>...</td>\n      <td>5</td>\n      <td>231</td>\n      <td>3</td>\n      <td>0</td>\n      <td>0</td>\n      <td>0</td>\n      <td>0</td>\n      <td>-3</td>\n      <td>3</td>\n      <td>3</td>\n    </tr>\n    <tr>\n      <th>2687</th>\n      <td>80</td>\n      <td>0</td>\n      <td>1</td>\n      <td>0</td>\n      <td>0</td>\n      <td>0</td>\n      <td>1</td>\n      <td>-1</td>\n      <td>-1</td>\n      <td>80</td>\n      <td>...</td>\n      <td>-5</td>\n      <td>240</td>\n      <td>0</td>\n      <td>3</td>\n      <td>0</td>\n      <td>0</td>\n      <td>0</td>\n      <td>3</td>\n      <td>-3</td>\n      <td>-3</td>\n    </tr>\n  </tbody>\n</table>\n<p>2688 rows × 162 columns</p>\n</div>"
     },
     "execution_count": 58,
     "metadata": {},
     "output_type": "execute_result"
    }
   ],
   "source": [
    "x_log"
   ],
   "metadata": {
    "collapsed": false,
    "pycharm": {
     "name": "#%%\n"
    }
   }
  },
  {
   "cell_type": "code",
   "execution_count": 68,
   "outputs": [
    {
     "data": {
      "text/plain": "Real Price                int64\nAll RES                   int64\nwind                      int64\nsolar                     int64\nhydro                     int64\n                          ...  \nTask_source*hydro         int64\nTask_source*biomass       int64\nTask_source*Slovak        int64\nTask_source*Can Change    int64\nTask_source*No change     int64\nLength: 162, dtype: object"
     },
     "execution_count": 68,
     "metadata": {},
     "output_type": "execute_result"
    }
   ],
   "source": [
    "x_log.dtypes"
   ],
   "metadata": {
    "collapsed": false,
    "pycharm": {
     "name": "#%%\n"
    }
   }
  },
  {
   "cell_type": "code",
   "execution_count": 66,
   "outputs": [
    {
     "name": "stdout",
     "output_type": "stream",
     "text": [
      "Real Price\n",
      "All RES\n",
      "wind\n",
      "solar\n",
      "hydro\n",
      "biomass\n",
      "Slovak\n",
      "Can Change\n",
      "No change\n",
      "Gender_f*Real Price\n",
      "Gender_f*All RES\n",
      "Gender_f*wind\n",
      "Gender_f*solar\n",
      "Gender_f*hydro\n",
      "Gender_f*biomass\n",
      "Gender_f*Slovak\n",
      "Gender_f*Can Change\n",
      "Gender_f*No change\n",
      "Age*Real Price\n",
      "Age*All RES\n",
      "Age*wind\n",
      "Age*solar\n",
      "Age*hydro\n",
      "Age*biomass\n",
      "Age*Slovak\n",
      "Age*Can Change\n",
      "Age*No change\n",
      "Income*Real Price\n",
      "Income*All RES\n",
      "Income*wind\n",
      "Income*solar\n",
      "Income*hydro\n",
      "Income*biomass\n",
      "Income*Slovak\n",
      "Income*Can Change\n",
      "Income*No change\n",
      "No Income*Real Price\n",
      "No Income*All RES\n",
      "No Income*wind\n",
      "No Income*solar\n",
      "No Income*hydro\n",
      "No Income*biomass\n",
      "No Income*Slovak\n",
      "No Income*Can Change\n",
      "No Income*No change\n",
      "Energy Consumption*Real Price\n",
      "Energy Consumption*All RES\n",
      "Energy Consumption*wind\n",
      "Energy Consumption*solar\n",
      "Energy Consumption*hydro\n",
      "Energy Consumption*biomass\n",
      "Energy Consumption*Slovak\n",
      "Energy Consumption*Can Change\n",
      "Energy Consumption*No change\n",
      "Region West*Real Price\n",
      "Region West*All RES\n",
      "Region West*wind\n",
      "Region West*solar\n",
      "Region West*hydro\n",
      "Region West*biomass\n",
      "Region West*Slovak\n",
      "Region West*Can Change\n",
      "Region West*No change\n",
      "Region East*Real Price\n",
      "Region East*All RES\n",
      "Region East*wind\n",
      "Region East*solar\n",
      "Region East*hydro\n",
      "Region East*biomass\n",
      "Region East*Slovak\n",
      "Region East*Can Change\n",
      "Region East*No change\n",
      "Household_size*Real Price\n",
      "Household_size*All RES\n",
      "Household_size*wind\n",
      "Household_size*solar\n",
      "Household_size*hydro\n",
      "Household_size*biomass\n",
      "Household_size*Slovak\n",
      "Household_size*Can Change\n",
      "Household_size*No change\n",
      "Concern_1*Real Price\n",
      "Concern_1*All RES\n",
      "Concern_1*wind\n",
      "Concern_1*solar\n",
      "Concern_1*hydro\n",
      "Concern_1*biomass\n",
      "Concern_1*Slovak\n",
      "Concern_1*Can Change\n",
      "Concern_1*No change\n",
      "RES_attitude_1*Real Price\n",
      "RES_attitude_1*All RES\n",
      "RES_attitude_1*wind\n",
      "RES_attitude_1*solar\n",
      "RES_attitude_1*hydro\n",
      "RES_attitude_1*biomass\n",
      "RES_attitude_1*Slovak\n",
      "RES_attitude_1*Can Change\n",
      "RES_attitude_1*No change\n",
      "Know_green_provider*Real Price\n",
      "Know_green_provider*All RES\n",
      "Know_green_provider*wind\n",
      "Know_green_provider*solar\n",
      "Know_green_provider*hydro\n",
      "Know_green_provider*biomass\n",
      "Know_green_provider*Slovak\n",
      "Know_green_provider*Can Change\n",
      "Know_green_provider*No change\n",
      "Providers_count*Real Price\n",
      "Providers_count*All RES\n",
      "Providers_count*wind\n",
      "Providers_count*solar\n",
      "Providers_count*hydro\n",
      "Providers_count*biomass\n",
      "Providers_count*Slovak\n",
      "Providers_count*Can Change\n",
      "Providers_count*No change\n",
      "Appliance_count*Real Price\n",
      "Appliance_count*All RES\n",
      "Appliance_count*wind\n",
      "Appliance_count*solar\n",
      "Appliance_count*hydro\n",
      "Appliance_count*biomass\n",
      "Appliance_count*Slovak\n",
      "Appliance_count*Can Change\n",
      "Appliance_count*No change\n",
      "Task_temp*Real Price\n",
      "Task_temp*All RES\n",
      "Task_temp*wind\n",
      "Task_temp*solar\n",
      "Task_temp*hydro\n",
      "Task_temp*biomass\n",
      "Task_temp*Slovak\n",
      "Task_temp*Can Change\n",
      "Task_temp*No change\n",
      "Task_consumption*Real Price\n",
      "Task_consumption*All RES\n",
      "Task_consumption*wind\n",
      "Task_consumption*solar\n",
      "Task_consumption*hydro\n",
      "Task_consumption*biomass\n",
      "Task_consumption*Slovak\n",
      "Task_consumption*Can Change\n",
      "Task_consumption*No change\n",
      "Task_appliances*Real Price\n",
      "Task_appliances*All RES\n",
      "Task_appliances*wind\n",
      "Task_appliances*solar\n",
      "Task_appliances*hydro\n",
      "Task_appliances*biomass\n",
      "Task_appliances*Slovak\n",
      "Task_appliances*Can Change\n",
      "Task_appliances*No change\n",
      "Task_source*Real Price\n",
      "Task_source*All RES\n",
      "Task_source*wind\n",
      "Task_source*solar\n",
      "Task_source*hydro\n",
      "Task_source*biomass\n",
      "Task_source*Slovak\n",
      "Task_source*Can Change\n",
      "Task_source*No change\n"
     ]
    }
   ],
   "source": [
    "# Get all names\n",
    "for col_name in x_log.columns:\n",
    "    print(col_name)"
   ],
   "metadata": {
    "collapsed": false,
    "pycharm": {
     "name": "#%%\n"
    }
   }
  },
  {
   "cell_type": "code",
   "execution_count": 67,
   "outputs": [],
   "source": [
    "x_log.to_csv(\"/Users/dominikmecko/Work/Bachelor's Thesis/Data/x.csv\")"
   ],
   "metadata": {
    "collapsed": false,
    "pycharm": {
     "name": "#%%\n"
    }
   }
  },
  {
   "cell_type": "markdown",
   "source": [
    "LOGISTIC REGRESSION USING INTERACTED DATA"
   ],
   "metadata": {
    "collapsed": false,
    "pycharm": {
     "name": "#%% md\n"
    }
   }
  },
  {
   "cell_type": "code",
   "execution_count": 205,
   "outputs": [],
   "source": [
    "#Logistic Regression\n",
    "x_train_log, x_test_log, y_train_log, y_test_log = train_test_split(x_log, y_var, train_size=0.8, random_state=3)\n",
    "\n",
    "# standardize data (axis=0 means over the columns)\n",
    "x_train_std_log = (x_train_log - x_train_log.min(axis=0)) / (x_train_log.max(axis=0) - x_train_log.min(axis=0))\n",
    "x_test_std_log = (x_test_log - x_test_log.min(axis=0)) / (x_test_log.max(axis=0) - x_test_log.min(axis=0))"
   ],
   "metadata": {
    "collapsed": false,
    "pycharm": {
     "name": "#%%\n"
    }
   }
  },
  {
   "cell_type": "code",
   "execution_count": 206,
   "outputs": [],
   "source": [
    "modelLR = LogisticRegression(max_iter= 10000, multi_class= 'multinomial', random_state=3)  # create the logistic regression object\n",
    "modelLR = modelLR.fit(x_train_std_log, y_train_log)  # fit on trainings data"
   ],
   "metadata": {
    "collapsed": false,
    "pycharm": {
     "name": "#%%\n"
    }
   }
  },
  {
   "cell_type": "code",
   "execution_count": 207,
   "outputs": [
    {
     "data": {
      "text/plain": "(array([-0.81136516]),\n array([[ 6.27519478e-01, -5.76400619e-01, -1.28449349e-01,\n          9.29387819e-02, -5.14360719e-02, -1.99689162e-01,\n         -2.00144433e-01, -9.91078964e-02, -7.15900161e-02,\n         -4.32087784e-01, -6.26643299e-02,  7.42738141e-02,\n         -1.84813918e-01, -6.76166896e-03,  2.88537849e-01,\n          1.27304535e-02,  3.58190453e-02, -2.01776264e-02,\n          5.83620421e-01, -4.71822472e-01,  5.66738570e-01,\n         -3.51947054e-01,  2.28840300e-01,  4.00154060e-01,\n         -4.16012702e-01,  3.81883725e-02, -2.51684560e-01,\n          7.67002298e-01,  2.26027997e-01, -3.21815845e-01,\n         -1.40441667e-01,  2.96504060e-02,  2.66601963e-01,\n         -1.67505895e-01, -4.73581092e-01,  2.08521566e-01,\n         -2.29284373e-02,  4.56360149e-01, -3.25479810e-01,\n          5.79345928e-02, -1.07422690e-01,  6.18656538e-01,\n         -2.11122263e-01, -2.24739368e-01,  2.13626771e-01,\n         -7.09127268e-01,  8.44130347e-02, -6.00428664e-02,\n          6.52890439e-02, -4.51957901e-04,  5.92240666e-02,\n          8.60645150e-02,  1.24120791e-01,  1.28306402e-01,\n         -5.12569875e-01,  5.40253436e-01, -1.22966119e-01,\n         -3.89545230e-01,  1.61319335e-01, -1.48395139e-02,\n          1.58931646e-01, -9.57952326e-02,  3.22528821e-02,\n          1.44542937e-01,  1.31235878e-01, -2.01698186e-01,\n          6.92412604e-02, -1.26764335e-01,  4.81261966e-01,\n         -1.89593982e-01, -2.74504838e-01, -8.22514563e-02,\n         -5.54424319e-01,  5.49013399e-01, -5.65607225e-01,\n         -2.00839079e-01, -3.99084585e-01,  1.72511663e-01,\n         -1.41674734e-01,  6.08761945e-02,  1.51430092e-03,\n          2.16388191e-01,  2.94480833e-01,  7.59147136e-01,\n         -1.32603456e-02,  7.23164202e-04, -7.41352815e-02,\n         -4.75453960e-02,  1.55576748e-01, -9.01424040e-02,\n         -1.05042705e+00,  6.16751464e-01, -1.98609714e-01,\n         -9.29698417e-02, -4.35631362e-01, -1.91085299e-01,\n          4.01702046e-01,  4.05642922e-01,  3.02349419e-01,\n         -5.56439894e-02,  7.21460689e-02,  1.62586466e-01,\n         -6.07213430e-02, -9.22590181e-02,  1.02205179e-01,\n          1.32924704e-01,  1.79125246e-01, -2.35281556e-02,\n          2.94755864e-01,  1.12064043e-01,  3.52543806e-01,\n          2.75492746e-01,  3.80207217e-01, -1.09011598e-01,\n          1.84238734e-01, -2.61295545e-01, -5.78972886e-01,\n         -7.72594097e-01, -3.37373150e-02,  6.28360246e-02,\n          6.11247705e-01,  5.98888024e-02, -5.87219702e-03,\n         -4.07892944e-02,  1.34964392e-01, -2.66491807e-01,\n          2.69143359e-01, -2.08075553e-01, -2.80595400e-01,\n          1.80755769e-01,  9.18354030e-02, -4.87544475e-01,\n          1.63648106e-01,  2.18751366e-01,  2.49926944e-01,\n          4.90758593e-01, -4.01454644e-01,  2.46168071e-01,\n         -2.98085109e-01,  6.33275374e-01, -4.12841987e-02,\n         -1.65622686e-01, -4.78260292e-01, -1.23250161e-01,\n         -3.27025611e-02,  7.81284596e-02,  8.49858627e-02,\n          3.36244637e-02, -2.22267205e-01,  2.44148545e-01,\n          2.29181127e-01,  6.15925367e-01, -8.65455142e-02,\n          1.12153791e-01, -1.27030566e-01, -3.53613026e-01,\n          1.02343899e-01, -1.97151283e-01, -3.20267120e-01,\n          9.96978912e-02, -3.56858729e-01,  3.63171524e-01]]))"
     },
     "execution_count": 207,
     "metadata": {},
     "output_type": "execute_result"
    }
   ],
   "source": [
    "modelLR.intercept_, modelLR.coef_"
   ],
   "metadata": {
    "collapsed": false,
    "pycharm": {
     "name": "#%%\n"
    }
   }
  },
  {
   "cell_type": "code",
   "execution_count": 208,
   "outputs": [
    {
     "data": {
      "text/plain": "[0.75, 0.59, 0.44, 0.51, 0.56, 0.47, 0.35, 0.16, 0.61, 0.5]"
     },
     "execution_count": 208,
     "metadata": {},
     "output_type": "execute_result"
    }
   ],
   "source": [
    "# prediction of probabilities\n",
    "y_pred_log = modelLR.predict_proba(x_test_std_log)  # make predictions using test data\n",
    "y_pred_log = y_pred_log[0:10]\n",
    "y_pred_log_arr = [round(item[1],2) for item in y_pred_log]\n",
    "y_pred_log_arr"
   ],
   "metadata": {
    "collapsed": false,
    "pycharm": {
     "name": "#%%\n"
    }
   }
  },
  {
   "cell_type": "code",
   "execution_count": 209,
   "outputs": [
    {
     "data": {
      "text/plain": "array([1, 1, 0, 1, 1, 0, 0, 0, 1, 0, 0, 0, 0, 1, 0, 0, 1, 1, 1, 0, 1, 0,\n       1, 1, 1, 0, 0, 0, 0, 0, 0, 1, 0, 1, 1, 1, 0, 0, 0, 0, 0, 1, 0, 1,\n       1, 0, 1, 1, 0, 0, 0, 0, 0, 0, 0, 0, 1, 1, 1, 0, 1, 0, 0, 0, 1, 1,\n       0, 0, 1, 0, 0, 0, 0, 1, 1, 0, 1, 0, 0, 0, 1, 0, 0, 1, 1, 1, 0, 0,\n       1, 1, 1, 1, 0, 0, 0, 0, 1, 1, 1, 1, 0, 1, 0, 0, 1, 1, 0, 0, 0, 0,\n       1, 1, 0, 1, 1, 1, 1, 0, 0, 0, 1, 0, 1, 0, 1, 1, 0, 1, 1, 0, 1, 0,\n       1, 1, 1, 1, 0, 1, 0, 1, 0, 0, 0, 0, 1, 0, 0, 0, 0, 0, 0, 0, 0, 0,\n       1, 1, 1, 0, 0, 0, 0, 0, 1, 1, 0, 0, 0, 0, 1, 1, 1, 0, 0, 0, 1, 0,\n       0, 0, 1, 1, 0, 0, 1, 0, 1, 0, 0, 0, 0, 1, 1, 0, 0, 0, 1, 0, 0, 0,\n       0, 0, 0, 0, 0, 0, 1, 0, 1, 0, 0, 0, 0, 0, 0, 1, 1, 1, 1, 1, 1, 0,\n       1, 0, 0, 1, 1, 1, 0, 1, 0, 1, 1, 1, 0, 0, 0, 1, 0, 0, 1, 1, 0, 1,\n       1, 0, 1, 0, 0, 1, 0, 0, 1, 1, 0, 1, 0, 1, 1, 0, 0, 1, 0, 0, 1, 1,\n       1, 0, 0, 1, 0, 1, 0, 0, 1, 0, 0, 0, 0, 1, 0, 0, 1, 1, 1, 0, 0, 0,\n       1, 1, 0, 0, 1, 0, 0, 1, 0, 0, 0, 0, 0, 0, 1, 1, 0, 0, 0, 1, 1, 1,\n       0, 1, 0, 1, 0, 1, 0, 0, 0, 0, 1, 1, 1, 0, 1, 1, 0, 0, 0, 0, 1, 1,\n       1, 0, 0, 0, 0, 1, 0, 0, 0, 0, 0, 1, 1, 0, 1, 0, 1, 0, 0, 0, 0, 1,\n       0, 1, 0, 1, 0, 0, 0, 0, 1, 1, 0, 0, 1, 1, 0, 0, 0, 0, 1, 1, 0, 1,\n       1, 1, 1, 0, 1, 0, 0, 1, 0, 1, 0, 0, 1, 1, 0, 1, 1, 0, 1, 1, 1, 0,\n       1, 0, 0, 0, 0, 0, 1, 1, 1, 0, 0, 1, 0, 0, 1, 0, 0, 0, 0, 0, 0, 0,\n       0, 0, 1, 1, 0, 1, 1, 0, 1, 0, 1, 0, 1, 0, 0, 0, 1, 0, 1, 0, 0, 0,\n       0, 0, 0, 0, 0, 0, 0, 0, 0, 0, 0, 0, 0, 0, 1, 0, 1, 0, 1, 0, 0, 0,\n       1, 0, 0, 1, 0, 0, 0, 1, 0, 0, 1, 1, 1, 0, 0, 1, 1, 0, 0, 0, 0, 1,\n       1, 0, 0, 0, 0, 0, 0, 1, 0, 1, 0, 1, 1, 0, 1, 0, 1, 0, 1, 1, 0, 0,\n       1, 1, 0, 0, 1, 0, 0, 1, 0, 1, 0, 0, 0, 0, 1, 0, 1, 0, 0, 1, 0, 1,\n       1, 1, 0, 0, 0, 0, 0, 0, 1, 1])"
     },
     "execution_count": 209,
     "metadata": {},
     "output_type": "execute_result"
    }
   ],
   "source": [
    "# categorisation: binary prediction\n",
    "y_pred_log = modelLR.predict(x_test_std_log)  # make predictions using test data\n",
    "y_pred_log"
   ],
   "metadata": {
    "collapsed": false,
    "pycharm": {
     "name": "#%%\n"
    }
   }
  },
  {
   "cell_type": "code",
   "execution_count": 210,
   "outputs": [
    {
     "data": {
      "text/plain": "0.5390334572490706"
     },
     "execution_count": 210,
     "metadata": {},
     "output_type": "execute_result"
    }
   ],
   "source": [
    "from sklearn.metrics import accuracy_score\n",
    "accuracy_log = accuracy_score(y_test_log, y_pred_log)\n",
    "accuracy_log"
   ],
   "metadata": {
    "collapsed": false,
    "pycharm": {
     "name": "#%%\n"
    }
   }
  },
  {
   "cell_type": "code",
   "execution_count": 211,
   "outputs": [
    {
     "data": {
      "text/plain": "<sklearn.metrics._plot.confusion_matrix.ConfusionMatrixDisplay at 0x7fc02a9c7610>"
     },
     "execution_count": 211,
     "metadata": {},
     "output_type": "execute_result"
    },
    {
     "data": {
      "text/plain": "<Figure size 432x288 with 2 Axes>",
      "image/png": "[encoded data removed]"
     },
     "metadata": {
      "needs_background": "light"
     },
     "output_type": "display_data"
    }
   ],
   "source": [
    "from sklearn.metrics import plot_confusion_matrix\n",
    "\n",
    "## Plot confusion matrix\n",
    "conf_matrix_log = plot_confusion_matrix(modelLR, x_test_std_log, y_test_log,\n",
    "                                    display_labels=[\"No Choice\", \"Choice\"])\n",
    "conf_matrix_log.ax_.set_title(\"Confusion matrix logistic regression\")\n",
    "conf_matrix_log"
   ],
   "metadata": {
    "collapsed": false,
    "pycharm": {
     "name": "#%%\n"
    }
   }
  },
  {
   "cell_type": "markdown",
   "source": [
    "RANDOM FOREST USING INTERACTED DATA"
   ],
   "metadata": {
    "collapsed": false,
    "pycharm": {
     "name": "#%% md\n"
    }
   }
  },
  {
   "cell_type": "code",
   "execution_count": 241,
   "outputs": [
    {
     "data": {
      "text/plain": "      Real Price  All RES  wind  solar  hydro  biomass  Slovak  Can Change  \\\n0             45       -1    -1     -1     -1       -1      -1           1   \n1             50        0     0      0      0        1       1          -1   \n2             45       -1    -1     -1     -1       -1      -1           1   \n3             50        0     0      0      1        0       1          -1   \n4             55        0     0      1      0        0       1           1   \n...          ...      ...   ...    ...    ...      ...     ...         ...   \n2683          75        0     0      0      0        1       1          -1   \n2684          77        0     0      0      0        1       1          -1   \n2685          75        0     0      0      1        0      -1           1   \n2686          77        1     0      0      0        0      -1           1   \n2687          80        0     1      0      0        0       1          -1   \n\n      No change  Gender_f*Real Price  ...  Task_appliances*No change  \\\n0            -1                    0  ...                         -5   \n1             1                    0  ...                          5   \n2            -1                    0  ...                         -5   \n3             1                    0  ...                          5   \n4            -1                    0  ...                         -5   \n...         ...                  ...  ...                        ...   \n2683         -1                   75  ...                         -5   \n2684          1                   77  ...                          5   \n2685         -1                   75  ...                         -5   \n2686          1                   77  ...                          5   \n2687         -1                   80  ...                         -5   \n\n      Task_source*Real Price  Task_source*All RES  Task_source*wind  \\\n0                         90                   -2                -2   \n1                        100                    0                 0   \n2                         90                   -2                -2   \n3                        100                    0                 0   \n4                        110                    0                 0   \n...                      ...                  ...               ...   \n2683                     225                    0                 0   \n2684                     231                    0                 0   \n2685                     225                    0                 0   \n2686                     231                    3                 0   \n2687                     240                    0                 3   \n\n      Task_source*solar  Task_source*hydro  Task_source*biomass  \\\n0                    -2                 -2                   -2   \n1                     0                  0                    2   \n2                    -2                 -2                   -2   \n3                     0                  2                    0   \n4                     2                  0                    0   \n...                 ...                ...                  ...   \n2683                  0                  0                    3   \n2684                  0                  0                    3   \n2685                  0                  3                    0   \n2686                  0                  0                    0   \n2687                  0                  0                    0   \n\n      Task_source*Slovak  Task_source*Can Change  Task_source*No change  \n0                     -2                       2                     -2  \n1                      2                      -2                      2  \n2                     -2                       2                     -2  \n3                      2                      -2                      2  \n4                      2                       2                     -2  \n...                  ...                     ...                    ...  \n2683                   3                      -3                     -3  \n2684                   3                      -3                      3  \n2685                  -3                       3                     -3  \n2686                  -3                       3                      3  \n2687                   3                      -3                     -3  \n\n[2688 rows x 162 columns]",
      "text/html": "<div>\n<style scoped>\n    .dataframe tbody tr th:only-of-type {\n        vertical-align: middle;\n    }\n\n    .dataframe tbody tr th {\n        vertical-align: top;\n    }\n\n    .dataframe thead th {\n        text-align: right;\n    }\n</style>\n<table border=\"1\" class=\"dataframe\">\n  <thead>\n    <tr style=\"text-align: right;\">\n      <th></th>\n      <th>Real Price</th>\n      <th>All RES</th>\n      <th>wind</th>\n      <th>solar</th>\n      <th>hydro</th>\n      <th>biomass</th>\n      <th>Slovak</th>\n      <th>Can Change</th>\n      <th>No change</th>\n      <th>Gender_f*Real Price</th>\n      <th>...</th>\n      <th>Task_appliances*No change</th>\n      <th>Task_source*Real Price</th>\n      <th>Task_source*All RES</th>\n      <th>Task_source*wind</th>\n      <th>Task_source*solar</th>\n      <th>Task_source*hydro</th>\n      <th>Task_source*biomass</th>\n      <th>Task_source*Slovak</th>\n      <th>Task_source*Can Change</th>\n      <th>Task_source*No change</th>\n    </tr>\n  </thead>\n  <tbody>\n    <tr>\n      <th>0</th>\n      <td>45</td>\n      <td>-1</td>\n      <td>-1</td>\n      <td>-1</td>\n      <td>-1</td>\n      <td>-1</td>\n      <td>-1</td>\n      <td>1</td>\n      <td>-1</td>\n      <td>0</td>\n      <td>...</td>\n      <td>-5</td>\n      <td>90</td>\n      <td>-2</td>\n      <td>-2</td>\n      <td>-2</td>\n      <td>-2</td>\n      <td>-2</td>\n      <td>-2</td>\n      <td>2</td>\n      <td>-2</td>\n    </tr>\n    <tr>\n      <th>1</th>\n      <td>50</td>\n      <td>0</td>\n      <td>0</td>\n      <td>0</td>\n      <td>0</td>\n      <td>1</td>\n      <td>1</td>\n      <td>-1</td>\n      <td>1</td>\n      <td>0</td>\n      <td>...</td>\n      <td>5</td>\n      <td>100</td>\n      <td>0</td>\n      <td>0</td>\n      <td>0</td>\n      <td>0</td>\n      <td>2</td>\n      <td>2</td>\n      <td>-2</td>\n      <td>2</td>\n    </tr>\n    <tr>\n      <th>2</th>\n      <td>45</td>\n      <td>-1</td>\n      <td>-1</td>\n      <td>-1</td>\n      <td>-1</td>\n      <td>-1</td>\n      <td>-1</td>\n      <td>1</td>\n      <td>-1</td>\n      <td>0</td>\n      <td>...</td>\n      <td>-5</td>\n      <td>90</td>\n      <td>-2</td>\n      <td>-2</td>\n      <td>-2</td>\n      <td>-2</td>\n      <td>-2</td>\n      <td>-2</td>\n      <td>2</td>\n      <td>-2</td>\n    </tr>\n    <tr>\n      <th>3</th>\n      <td>50</td>\n      <td>0</td>\n      <td>0</td>\n      <td>0</td>\n      <td>1</td>\n      <td>0</td>\n      <td>1</td>\n      <td>-1</td>\n      <td>1</td>\n      <td>0</td>\n      <td>...</td>\n      <td>5</td>\n      <td>100</td>\n      <td>0</td>\n      <td>0</td>\n      <td>0</td>\n      <td>2</td>\n      <td>0</td>\n      <td>2</td>\n      <td>-2</td>\n      <td>2</td>\n    </tr>\n    <tr>\n      <th>4</th>\n      <td>55</td>\n      <td>0</td>\n      <td>0</td>\n      <td>1</td>\n      <td>0</td>\n      <td>0</td>\n      <td>1</td>\n      <td>1</td>\n      <td>-1</td>\n      <td>0</td>\n      <td>...</td>\n      <td>-5</td>\n      <td>110</td>\n      <td>0</td>\n      <td>0</td>\n      <td>2</td>\n      <td>0</td>\n      <td>0</td>\n      <td>2</td>\n      <td>2</td>\n      <td>-2</td>\n    </tr>\n    <tr>\n      <th>...</th>\n      <td>...</td>\n      <td>...</td>\n      <td>...</td>\n      <td>...</td>\n      <td>...</td>\n      <td>...</td>\n      <td>...</td>\n      <td>...</td>\n      <td>...</td>\n      <td>...</td>\n      <td>...</td>\n      <td>...</td>\n      <td>...</td>\n      <td>...</td>\n      <td>...</td>\n      <td>...</td>\n      <td>...</td>\n      <td>...</td>\n      <td>...</td>\n      <td>...</td>\n      <td>...</td>\n    </tr>\n    <tr>\n      <th>2683</th>\n      <td>75</td>\n      <td>0</td>\n      <td>0</td>\n      <td>0</td>\n      <td>0</td>\n      <td>1</td>\n      <td>1</td>\n      <td>-1</td>\n      <td>-1</td>\n      <td>75</td>\n      <td>...</td>\n      <td>-5</td>\n      <td>225</td>\n      <td>0</td>\n      <td>0</td>\n      <td>0</td>\n      <td>0</td>\n      <td>3</td>\n      <td>3</td>\n      <td>-3</td>\n      <td>-3</td>\n    </tr>\n    <tr>\n      <th>2684</th>\n      <td>77</td>\n      <td>0</td>\n      <td>0</td>\n      <td>0</td>\n      <td>0</td>\n      <td>1</td>\n      <td>1</td>\n      <td>-1</td>\n      <td>1</td>\n      <td>77</td>\n      <td>...</td>\n      <td>5</td>\n      <td>231</td>\n      <td>0</td>\n      <td>0</td>\n      <td>0</td>\n      <td>0</td>\n      <td>3</td>\n      <td>3</td>\n      <td>-3</td>\n      <td>3</td>\n    </tr>\n    <tr>\n      <th>2685</th>\n      <td>75</td>\n      <td>0</td>\n      <td>0</td>\n      <td>0</td>\n      <td>1</td>\n      <td>0</td>\n      <td>-1</td>\n      <td>1</td>\n      <td>-1</td>\n      <td>75</td>\n      <td>...</td>\n      <td>-5</td>\n      <td>225</td>\n      <td>0</td>\n      <td>0</td>\n      <td>0</td>\n      <td>3</td>\n      <td>0</td>\n      <td>-3</td>\n      <td>3</td>\n      <td>-3</td>\n    </tr>\n    <tr>\n      <th>2686</th>\n      <td>77</td>\n      <td>1</td>\n      <td>0</td>\n      <td>0</td>\n      <td>0</td>\n      <td>0</td>\n      <td>-1</td>\n      <td>1</td>\n      <td>1</td>\n      <td>77</td>\n      <td>...</td>\n      <td>5</td>\n      <td>231</td>\n      <td>3</td>\n      <td>0</td>\n      <td>0</td>\n      <td>0</td>\n      <td>0</td>\n      <td>-3</td>\n      <td>3</td>\n      <td>3</td>\n    </tr>\n    <tr>\n      <th>2687</th>\n      <td>80</td>\n      <td>0</td>\n      <td>1</td>\n      <td>0</td>\n      <td>0</td>\n      <td>0</td>\n      <td>1</td>\n      <td>-1</td>\n      <td>-1</td>\n      <td>80</td>\n      <td>...</td>\n      <td>-5</td>\n      <td>240</td>\n      <td>0</td>\n      <td>3</td>\n      <td>0</td>\n      <td>0</td>\n      <td>0</td>\n      <td>3</td>\n      <td>-3</td>\n      <td>-3</td>\n    </tr>\n  </tbody>\n</table>\n<p>2688 rows × 162 columns</p>\n</div>"
     },
     "execution_count": 241,
     "metadata": {},
     "output_type": "execute_result"
    }
   ],
   "source": [
    "x_log"
   ],
   "metadata": {
    "collapsed": false,
    "pycharm": {
     "name": "#%%\n"
    }
   }
  },
  {
   "cell_type": "code",
   "execution_count": 261,
   "outputs": [],
   "source": [
    "x_log_2 = x_log.copy()\n",
    "x_log_2 = x_log_2.drop(columns=x_log_2.iloc[:1,x_log_2.columns.get_loc('Gender_f*Real Price'):x_log_2.columns.get_loc('Household_size*No change')+1])"
   ],
   "metadata": {
    "collapsed": false,
    "pycharm": {
     "name": "#%%\n"
    }
   }
  },
  {
   "cell_type": "code",
   "execution_count": 262,
   "outputs": [],
   "source": [
    "x_log_2['Set_Id'] = merged1['SetID_1']"
   ],
   "metadata": {
    "collapsed": false,
    "pycharm": {
     "name": "#%%\n"
    }
   }
  },
  {
   "cell_type": "code",
   "execution_count": 263,
   "outputs": [
    {
     "data": {
      "text/plain": "      Real Price  All RES  wind  solar  hydro  biomass  Slovak  Can Change  \\\n0             45       -1    -1     -1     -1       -1      -1           1   \n1             50        0     0      0      0        1       1          -1   \n2             45       -1    -1     -1     -1       -1      -1           1   \n3             50        0     0      0      1        0       1          -1   \n4             55        0     0      1      0        0       1           1   \n...          ...      ...   ...    ...    ...      ...     ...         ...   \n2683          75        0     0      0      0        1       1          -1   \n2684          77        0     0      0      0        1       1          -1   \n2685          75        0     0      0      1        0      -1           1   \n2686          77        1     0      0      0        0      -1           1   \n2687          80        0     1      0      0        0       1          -1   \n\n      No change  Concern_1*Real Price  ...  Task_source*Real Price  \\\n0            -1                    45  ...                      90   \n1             1                    50  ...                     100   \n2            -1                    45  ...                      90   \n3             1                    50  ...                     100   \n4            -1                    55  ...                     110   \n...         ...                   ...  ...                     ...   \n2683         -1                   150  ...                     225   \n2684          1                   154  ...                     231   \n2685         -1                   150  ...                     225   \n2686          1                   154  ...                     231   \n2687         -1                   160  ...                     240   \n\n      Task_source*All RES  Task_source*wind  Task_source*solar  \\\n0                      -2                -2                 -2   \n1                       0                 0                  0   \n2                      -2                -2                 -2   \n3                       0                 0                  0   \n4                       0                 0                  2   \n...                   ...               ...                ...   \n2683                    0                 0                  0   \n2684                    0                 0                  0   \n2685                    0                 0                  0   \n2686                    3                 0                  0   \n2687                    0                 3                  0   \n\n      Task_source*hydro  Task_source*biomass  Task_source*Slovak  \\\n0                    -2                   -2                  -2   \n1                     0                    2                   2   \n2                    -2                   -2                  -2   \n3                     2                    0                   2   \n4                     0                    0                   2   \n...                 ...                  ...                 ...   \n2683                  0                    3                   3   \n2684                  0                    3                   3   \n2685                  3                    0                  -3   \n2686                  0                    0                  -3   \n2687                  0                    0                   3   \n\n      Task_source*Can Change  Task_source*No change  Set_Id  \n0                          2                     -2       1  \n1                         -2                      2       1  \n2                          2                     -2       2  \n3                         -2                      2       2  \n4                          2                     -2       3  \n...                      ...                    ...     ...  \n2683                      -3                     -3      10  \n2684                      -3                      3      11  \n2685                       3                     -3      11  \n2686                       3                      3      12  \n2687                      -3                     -3      12  \n\n[2688 rows x 91 columns]",
      "text/html": "<div>\n<style scoped>\n    .dataframe tbody tr th:only-of-type {\n        vertical-align: middle;\n    }\n\n    .dataframe tbody tr th {\n        vertical-align: top;\n    }\n\n    .dataframe thead th {\n        text-align: right;\n    }\n</style>\n<table border=\"1\" class=\"dataframe\">\n  <thead>\n    <tr style=\"text-align: right;\">\n      <th></th>\n      <th>Real Price</th>\n      <th>All RES</th>\n      <th>wind</th>\n      <th>solar</th>\n      <th>hydro</th>\n      <th>biomass</th>\n      <th>Slovak</th>\n      <th>Can Change</th>\n      <th>No change</th>\n      <th>Concern_1*Real Price</th>\n      <th>...</th>\n      <th>Task_source*Real Price</th>\n      <th>Task_source*All RES</th>\n      <th>Task_source*wind</th>\n      <th>Task_source*solar</th>\n      <th>Task_source*hydro</th>\n      <th>Task_source*biomass</th>\n      <th>Task_source*Slovak</th>\n      <th>Task_source*Can Change</th>\n      <th>Task_source*No change</th>\n      <th>Set_Id</th>\n    </tr>\n  </thead>\n  <tbody>\n    <tr>\n      <th>0</th>\n      <td>45</td>\n      <td>-1</td>\n      <td>-1</td>\n      <td>-1</td>\n      <td>-1</td>\n      <td>-1</td>\n      <td>-1</td>\n      <td>1</td>\n      <td>-1</td>\n      <td>45</td>\n      <td>...</td>\n      <td>90</td>\n      <td>-2</td>\n      <td>-2</td>\n      <td>-2</td>\n      <td>-2</td>\n      <td>-2</td>\n      <td>-2</td>\n      <td>2</td>\n      <td>-2</td>\n      <td>1</td>\n    </tr>\n    <tr>\n      <th>1</th>\n      <td>50</td>\n      <td>0</td>\n      <td>0</td>\n      <td>0</td>\n      <td>0</td>\n      <td>1</td>\n      <td>1</td>\n      <td>-1</td>\n      <td>1</td>\n      <td>50</td>\n      <td>...</td>\n      <td>100</td>\n      <td>0</td>\n      <td>0</td>\n      <td>0</td>\n      <td>0</td>\n      <td>2</td>\n      <td>2</td>\n      <td>-2</td>\n      <td>2</td>\n      <td>1</td>\n    </tr>\n    <tr>\n      <th>2</th>\n      <td>45</td>\n      <td>-1</td>\n      <td>-1</td>\n      <td>-1</td>\n      <td>-1</td>\n      <td>-1</td>\n      <td>-1</td>\n      <td>1</td>\n      <td>-1</td>\n      <td>45</td>\n      <td>...</td>\n      <td>90</td>\n      <td>-2</td>\n      <td>-2</td>\n      <td>-2</td>\n      <td>-2</td>\n      <td>-2</td>\n      <td>-2</td>\n      <td>2</td>\n      <td>-2</td>\n      <td>2</td>\n    </tr>\n    <tr>\n      <th>3</th>\n      <td>50</td>\n      <td>0</td>\n      <td>0</td>\n      <td>0</td>\n      <td>1</td>\n      <td>0</td>\n      <td>1</td>\n      <td>-1</td>\n      <td>1</td>\n      <td>50</td>\n      <td>...</td>\n      <td>100</td>\n      <td>0</td>\n      <td>0</td>\n      <td>0</td>\n      <td>2</td>\n      <td>0</td>\n      <td>2</td>\n      <td>-2</td>\n      <td>2</td>\n      <td>2</td>\n    </tr>\n    <tr>\n      <th>4</th>\n      <td>55</td>\n      <td>0</td>\n      <td>0</td>\n      <td>1</td>\n      <td>0</td>\n      <td>0</td>\n      <td>1</td>\n      <td>1</td>\n      <td>-1</td>\n      <td>55</td>\n      <td>...</td>\n      <td>110</td>\n      <td>0</td>\n      <td>0</td>\n      <td>2</td>\n      <td>0</td>\n      <td>0</td>\n      <td>2</td>\n      <td>2</td>\n      <td>-2</td>\n      <td>3</td>\n    </tr>\n    <tr>\n      <th>...</th>\n      <td>...</td>\n      <td>...</td>\n      <td>...</td>\n      <td>...</td>\n      <td>...</td>\n      <td>...</td>\n      <td>...</td>\n      <td>...</td>\n      <td>...</td>\n      <td>...</td>\n      <td>...</td>\n      <td>...</td>\n      <td>...</td>\n      <td>...</td>\n      <td>...</td>\n      <td>...</td>\n      <td>...</td>\n      <td>...</td>\n      <td>...</td>\n      <td>...</td>\n      <td>...</td>\n    </tr>\n    <tr>\n      <th>2683</th>\n      <td>75</td>\n      <td>0</td>\n      <td>0</td>\n      <td>0</td>\n      <td>0</td>\n      <td>1</td>\n      <td>1</td>\n      <td>-1</td>\n      <td>-1</td>\n      <td>150</td>\n      <td>...</td>\n      <td>225</td>\n      <td>0</td>\n      <td>0</td>\n      <td>0</td>\n      <td>0</td>\n      <td>3</td>\n      <td>3</td>\n      <td>-3</td>\n      <td>-3</td>\n      <td>10</td>\n    </tr>\n    <tr>\n      <th>2684</th>\n      <td>77</td>\n      <td>0</td>\n      <td>0</td>\n      <td>0</td>\n      <td>0</td>\n      <td>1</td>\n      <td>1</td>\n      <td>-1</td>\n      <td>1</td>\n      <td>154</td>\n      <td>...</td>\n      <td>231</td>\n      <td>0</td>\n      <td>0</td>\n      <td>0</td>\n      <td>0</td>\n      <td>3</td>\n      <td>3</td>\n      <td>-3</td>\n      <td>3</td>\n      <td>11</td>\n    </tr>\n    <tr>\n      <th>2685</th>\n      <td>75</td>\n      <td>0</td>\n      <td>0</td>\n      <td>0</td>\n      <td>1</td>\n      <td>0</td>\n      <td>-1</td>\n      <td>1</td>\n      <td>-1</td>\n      <td>150</td>\n      <td>...</td>\n      <td>225</td>\n      <td>0</td>\n      <td>0</td>\n      <td>0</td>\n      <td>3</td>\n      <td>0</td>\n      <td>-3</td>\n      <td>3</td>\n      <td>-3</td>\n      <td>11</td>\n    </tr>\n    <tr>\n      <th>2686</th>\n      <td>77</td>\n      <td>1</td>\n      <td>0</td>\n      <td>0</td>\n      <td>0</td>\n      <td>0</td>\n      <td>-1</td>\n      <td>1</td>\n      <td>1</td>\n      <td>154</td>\n      <td>...</td>\n      <td>231</td>\n      <td>3</td>\n      <td>0</td>\n      <td>0</td>\n      <td>0</td>\n      <td>0</td>\n      <td>-3</td>\n      <td>3</td>\n      <td>3</td>\n      <td>12</td>\n    </tr>\n    <tr>\n      <th>2687</th>\n      <td>80</td>\n      <td>0</td>\n      <td>1</td>\n      <td>0</td>\n      <td>0</td>\n      <td>0</td>\n      <td>1</td>\n      <td>-1</td>\n      <td>-1</td>\n      <td>160</td>\n      <td>...</td>\n      <td>240</td>\n      <td>0</td>\n      <td>3</td>\n      <td>0</td>\n      <td>0</td>\n      <td>0</td>\n      <td>3</td>\n      <td>-3</td>\n      <td>-3</td>\n      <td>12</td>\n    </tr>\n  </tbody>\n</table>\n<p>2688 rows × 91 columns</p>\n</div>"
     },
     "execution_count": 263,
     "metadata": {},
     "output_type": "execute_result"
    }
   ],
   "source": [
    "x_log_2"
   ],
   "metadata": {
    "collapsed": false,
    "pycharm": {
     "name": "#%%\n"
    }
   }
  },
  {
   "cell_type": "code",
   "execution_count": 273,
   "outputs": [],
   "source": [
    "from sklearn.preprocessing import StandardScaler, normalize\n",
    "\n",
    "#Random Forest\n",
    "x_train_for, x_test_for, y_train_for, y_test_for = train_test_split(x_log_2, y_var, train_size=0.8,random_state=3)\n",
    "\n",
    "# standardize data (axis=0 means over the columns)\n",
    "sc = StandardScaler()\n",
    "x_train_for_std = sc.fit_transform(x_train_for)\n",
    "x_test_for_std = sc.fit_transform(x_test_for) #Standardizes data to remove biases\n",
    "\n",
    "from sklearn.ensemble import RandomForestClassifier as RFC\n",
    "\n",
    "for_model=RFC(random_state=3)"
   ],
   "metadata": {
    "collapsed": false,
    "pycharm": {
     "name": "#%%\n"
    }
   }
  },
  {
   "cell_type": "code",
   "execution_count": 146,
   "outputs": [],
   "source": [
    "#grid search CV\n",
    "\n",
    "from sklearn.model_selection import GridSearchCV\n",
    "\n",
    "for_parameters = {'n_estimators': [50,100,200,500,750,1000],\n",
    "                 'max_features': [3,4,5], 'max_depth': [10,15,20,25],'min_samples_leaf': [5,10,15]}\n",
    "\n",
    "optimal_for = GridSearchCV(estimator=for_model,param_grid=for_parameters,cv=5,scoring='recall',verbose=0, n_jobs=-1 )"
   ],
   "metadata": {
    "collapsed": false,
    "pycharm": {
     "name": "#%%\n"
    }
   }
  },
  {
   "cell_type": "code",
   "execution_count": 147,
   "outputs": [
    {
     "ename": "KeyboardInterrupt",
     "evalue": "",
     "output_type": "error",
     "traceback": [
      "\u001B[0;31m---------------------------------------------------------------------------\u001B[0m",
      "\u001B[0;31mKeyboardInterrupt\u001B[0m                         Traceback (most recent call last)",
      "\u001B[0;32m<ipython-input-147-4b0c2521242b>\u001B[0m in \u001B[0;36m<module>\u001B[0;34m\u001B[0m\n\u001B[0;32m----> 1\u001B[0;31m \u001B[0moptimal_for\u001B[0m\u001B[0;34m.\u001B[0m\u001B[0mfit\u001B[0m\u001B[0;34m(\u001B[0m\u001B[0mx_train_for_std\u001B[0m\u001B[0;34m,\u001B[0m\u001B[0my_train_for\u001B[0m\u001B[0;34m)\u001B[0m\u001B[0;34m\u001B[0m\u001B[0;34m\u001B[0m\u001B[0m\n\u001B[0m",
      "\u001B[0;32m~/opt/anaconda3/lib/python3.8/site-packages/sklearn/utils/validation.py\u001B[0m in \u001B[0;36minner_f\u001B[0;34m(*args, **kwargs)\u001B[0m\n\u001B[1;32m     61\u001B[0m             \u001B[0mextra_args\u001B[0m \u001B[0;34m=\u001B[0m \u001B[0mlen\u001B[0m\u001B[0;34m(\u001B[0m\u001B[0margs\u001B[0m\u001B[0;34m)\u001B[0m \u001B[0;34m-\u001B[0m \u001B[0mlen\u001B[0m\u001B[0;34m(\u001B[0m\u001B[0mall_args\u001B[0m\u001B[0;34m)\u001B[0m\u001B[0;34m\u001B[0m\u001B[0;34m\u001B[0m\u001B[0m\n\u001B[1;32m     62\u001B[0m             \u001B[0;32mif\u001B[0m \u001B[0mextra_args\u001B[0m \u001B[0;34m<=\u001B[0m \u001B[0;36m0\u001B[0m\u001B[0;34m:\u001B[0m\u001B[0;34m\u001B[0m\u001B[0;34m\u001B[0m\u001B[0m\n\u001B[0;32m---> 63\u001B[0;31m                 \u001B[0;32mreturn\u001B[0m \u001B[0mf\u001B[0m\u001B[0;34m(\u001B[0m\u001B[0;34m*\u001B[0m\u001B[0margs\u001B[0m\u001B[0;34m,\u001B[0m \u001B[0;34m**\u001B[0m\u001B[0mkwargs\u001B[0m\u001B[0;34m)\u001B[0m\u001B[0;34m\u001B[0m\u001B[0;34m\u001B[0m\u001B[0m\n\u001B[0m\u001B[1;32m     64\u001B[0m \u001B[0;34m\u001B[0m\u001B[0m\n\u001B[1;32m     65\u001B[0m             \u001B[0;31m# extra_args > 0\u001B[0m\u001B[0;34m\u001B[0m\u001B[0;34m\u001B[0m\u001B[0;34m\u001B[0m\u001B[0m\n",
      "\u001B[0;32m~/opt/anaconda3/lib/python3.8/site-packages/sklearn/model_selection/_search.py\u001B[0m in \u001B[0;36mfit\u001B[0;34m(self, X, y, groups, **fit_params)\u001B[0m\n\u001B[1;32m    839\u001B[0m                 \u001B[0;32mreturn\u001B[0m \u001B[0mresults\u001B[0m\u001B[0;34m\u001B[0m\u001B[0;34m\u001B[0m\u001B[0m\n\u001B[1;32m    840\u001B[0m \u001B[0;34m\u001B[0m\u001B[0m\n\u001B[0;32m--> 841\u001B[0;31m             \u001B[0mself\u001B[0m\u001B[0;34m.\u001B[0m\u001B[0m_run_search\u001B[0m\u001B[0;34m(\u001B[0m\u001B[0mevaluate_candidates\u001B[0m\u001B[0;34m)\u001B[0m\u001B[0;34m\u001B[0m\u001B[0;34m\u001B[0m\u001B[0m\n\u001B[0m\u001B[1;32m    842\u001B[0m \u001B[0;34m\u001B[0m\u001B[0m\n\u001B[1;32m    843\u001B[0m             \u001B[0;31m# multimetric is determined here because in the case of a callable\u001B[0m\u001B[0;34m\u001B[0m\u001B[0;34m\u001B[0m\u001B[0;34m\u001B[0m\u001B[0m\n",
      "\u001B[0;32m~/opt/anaconda3/lib/python3.8/site-packages/sklearn/model_selection/_search.py\u001B[0m in \u001B[0;36m_run_search\u001B[0;34m(self, evaluate_candidates)\u001B[0m\n\u001B[1;32m   1286\u001B[0m     \u001B[0;32mdef\u001B[0m \u001B[0m_run_search\u001B[0m\u001B[0;34m(\u001B[0m\u001B[0mself\u001B[0m\u001B[0;34m,\u001B[0m \u001B[0mevaluate_candidates\u001B[0m\u001B[0;34m)\u001B[0m\u001B[0;34m:\u001B[0m\u001B[0;34m\u001B[0m\u001B[0;34m\u001B[0m\u001B[0m\n\u001B[1;32m   1287\u001B[0m         \u001B[0;34m\"\"\"Search all candidates in param_grid\"\"\"\u001B[0m\u001B[0;34m\u001B[0m\u001B[0;34m\u001B[0m\u001B[0m\n\u001B[0;32m-> 1288\u001B[0;31m         \u001B[0mevaluate_candidates\u001B[0m\u001B[0;34m(\u001B[0m\u001B[0mParameterGrid\u001B[0m\u001B[0;34m(\u001B[0m\u001B[0mself\u001B[0m\u001B[0;34m.\u001B[0m\u001B[0mparam_grid\u001B[0m\u001B[0;34m)\u001B[0m\u001B[0;34m)\u001B[0m\u001B[0;34m\u001B[0m\u001B[0;34m\u001B[0m\u001B[0m\n\u001B[0m\u001B[1;32m   1289\u001B[0m \u001B[0;34m\u001B[0m\u001B[0m\n\u001B[1;32m   1290\u001B[0m \u001B[0;34m\u001B[0m\u001B[0m\n",
      "\u001B[0;32m~/opt/anaconda3/lib/python3.8/site-packages/sklearn/model_selection/_search.py\u001B[0m in \u001B[0;36mevaluate_candidates\u001B[0;34m(candidate_params, cv, more_results)\u001B[0m\n\u001B[1;32m    793\u001B[0m                               n_splits, n_candidates, n_candidates * n_splits))\n\u001B[1;32m    794\u001B[0m \u001B[0;34m\u001B[0m\u001B[0m\n\u001B[0;32m--> 795\u001B[0;31m                 out = parallel(delayed(_fit_and_score)(clone(base_estimator),\n\u001B[0m\u001B[1;32m    796\u001B[0m                                                        \u001B[0mX\u001B[0m\u001B[0;34m,\u001B[0m \u001B[0my\u001B[0m\u001B[0;34m,\u001B[0m\u001B[0;34m\u001B[0m\u001B[0;34m\u001B[0m\u001B[0m\n\u001B[1;32m    797\u001B[0m                                                        \u001B[0mtrain\u001B[0m\u001B[0;34m=\u001B[0m\u001B[0mtrain\u001B[0m\u001B[0;34m,\u001B[0m \u001B[0mtest\u001B[0m\u001B[0;34m=\u001B[0m\u001B[0mtest\u001B[0m\u001B[0;34m,\u001B[0m\u001B[0;34m\u001B[0m\u001B[0;34m\u001B[0m\u001B[0m\n",
      "\u001B[0;32m~/opt/anaconda3/lib/python3.8/site-packages/joblib/parallel.py\u001B[0m in \u001B[0;36m__call__\u001B[0;34m(self, iterable)\u001B[0m\n\u001B[1;32m   1052\u001B[0m \u001B[0;34m\u001B[0m\u001B[0m\n\u001B[1;32m   1053\u001B[0m             \u001B[0;32mwith\u001B[0m \u001B[0mself\u001B[0m\u001B[0;34m.\u001B[0m\u001B[0m_backend\u001B[0m\u001B[0;34m.\u001B[0m\u001B[0mretrieval_context\u001B[0m\u001B[0;34m(\u001B[0m\u001B[0;34m)\u001B[0m\u001B[0;34m:\u001B[0m\u001B[0;34m\u001B[0m\u001B[0;34m\u001B[0m\u001B[0m\n\u001B[0;32m-> 1054\u001B[0;31m                 \u001B[0mself\u001B[0m\u001B[0;34m.\u001B[0m\u001B[0mretrieve\u001B[0m\u001B[0;34m(\u001B[0m\u001B[0;34m)\u001B[0m\u001B[0;34m\u001B[0m\u001B[0;34m\u001B[0m\u001B[0m\n\u001B[0m\u001B[1;32m   1055\u001B[0m             \u001B[0;31m# Make sure that we get a last message telling us we are done\u001B[0m\u001B[0;34m\u001B[0m\u001B[0;34m\u001B[0m\u001B[0;34m\u001B[0m\u001B[0m\n\u001B[1;32m   1056\u001B[0m             \u001B[0melapsed_time\u001B[0m \u001B[0;34m=\u001B[0m \u001B[0mtime\u001B[0m\u001B[0;34m.\u001B[0m\u001B[0mtime\u001B[0m\u001B[0;34m(\u001B[0m\u001B[0;34m)\u001B[0m \u001B[0;34m-\u001B[0m \u001B[0mself\u001B[0m\u001B[0;34m.\u001B[0m\u001B[0m_start_time\u001B[0m\u001B[0;34m\u001B[0m\u001B[0;34m\u001B[0m\u001B[0m\n",
      "\u001B[0;32m~/opt/anaconda3/lib/python3.8/site-packages/joblib/parallel.py\u001B[0m in \u001B[0;36mretrieve\u001B[0;34m(self)\u001B[0m\n\u001B[1;32m    931\u001B[0m             \u001B[0;32mtry\u001B[0m\u001B[0;34m:\u001B[0m\u001B[0;34m\u001B[0m\u001B[0;34m\u001B[0m\u001B[0m\n\u001B[1;32m    932\u001B[0m                 \u001B[0;32mif\u001B[0m \u001B[0mgetattr\u001B[0m\u001B[0;34m(\u001B[0m\u001B[0mself\u001B[0m\u001B[0;34m.\u001B[0m\u001B[0m_backend\u001B[0m\u001B[0;34m,\u001B[0m \u001B[0;34m'supports_timeout'\u001B[0m\u001B[0;34m,\u001B[0m \u001B[0;32mFalse\u001B[0m\u001B[0;34m)\u001B[0m\u001B[0;34m:\u001B[0m\u001B[0;34m\u001B[0m\u001B[0;34m\u001B[0m\u001B[0m\n\u001B[0;32m--> 933\u001B[0;31m                     \u001B[0mself\u001B[0m\u001B[0;34m.\u001B[0m\u001B[0m_output\u001B[0m\u001B[0;34m.\u001B[0m\u001B[0mextend\u001B[0m\u001B[0;34m(\u001B[0m\u001B[0mjob\u001B[0m\u001B[0;34m.\u001B[0m\u001B[0mget\u001B[0m\u001B[0;34m(\u001B[0m\u001B[0mtimeout\u001B[0m\u001B[0;34m=\u001B[0m\u001B[0mself\u001B[0m\u001B[0;34m.\u001B[0m\u001B[0mtimeout\u001B[0m\u001B[0;34m)\u001B[0m\u001B[0;34m)\u001B[0m\u001B[0;34m\u001B[0m\u001B[0;34m\u001B[0m\u001B[0m\n\u001B[0m\u001B[1;32m    934\u001B[0m                 \u001B[0;32melse\u001B[0m\u001B[0;34m:\u001B[0m\u001B[0;34m\u001B[0m\u001B[0;34m\u001B[0m\u001B[0m\n\u001B[1;32m    935\u001B[0m                     \u001B[0mself\u001B[0m\u001B[0;34m.\u001B[0m\u001B[0m_output\u001B[0m\u001B[0;34m.\u001B[0m\u001B[0mextend\u001B[0m\u001B[0;34m(\u001B[0m\u001B[0mjob\u001B[0m\u001B[0;34m.\u001B[0m\u001B[0mget\u001B[0m\u001B[0;34m(\u001B[0m\u001B[0;34m)\u001B[0m\u001B[0;34m)\u001B[0m\u001B[0;34m\u001B[0m\u001B[0;34m\u001B[0m\u001B[0m\n",
      "\u001B[0;32m~/opt/anaconda3/lib/python3.8/site-packages/joblib/_parallel_backends.py\u001B[0m in \u001B[0;36mwrap_future_result\u001B[0;34m(future, timeout)\u001B[0m\n\u001B[1;32m    540\u001B[0m         AsyncResults.get from multiprocessing.\"\"\"\n\u001B[1;32m    541\u001B[0m         \u001B[0;32mtry\u001B[0m\u001B[0;34m:\u001B[0m\u001B[0;34m\u001B[0m\u001B[0;34m\u001B[0m\u001B[0m\n\u001B[0;32m--> 542\u001B[0;31m             \u001B[0;32mreturn\u001B[0m \u001B[0mfuture\u001B[0m\u001B[0;34m.\u001B[0m\u001B[0mresult\u001B[0m\u001B[0;34m(\u001B[0m\u001B[0mtimeout\u001B[0m\u001B[0;34m=\u001B[0m\u001B[0mtimeout\u001B[0m\u001B[0;34m)\u001B[0m\u001B[0;34m\u001B[0m\u001B[0;34m\u001B[0m\u001B[0m\n\u001B[0m\u001B[1;32m    543\u001B[0m         \u001B[0;32mexcept\u001B[0m \u001B[0mCfTimeoutError\u001B[0m \u001B[0;32mas\u001B[0m \u001B[0me\u001B[0m\u001B[0;34m:\u001B[0m\u001B[0;34m\u001B[0m\u001B[0;34m\u001B[0m\u001B[0m\n\u001B[1;32m    544\u001B[0m             \u001B[0;32mraise\u001B[0m \u001B[0mTimeoutError\u001B[0m \u001B[0;32mfrom\u001B[0m \u001B[0me\u001B[0m\u001B[0;34m\u001B[0m\u001B[0;34m\u001B[0m\u001B[0m\n",
      "\u001B[0;32m~/opt/anaconda3/lib/python3.8/concurrent/futures/_base.py\u001B[0m in \u001B[0;36mresult\u001B[0;34m(self, timeout)\u001B[0m\n\u001B[1;32m    432\u001B[0m                 \u001B[0;32mreturn\u001B[0m \u001B[0mself\u001B[0m\u001B[0;34m.\u001B[0m\u001B[0m__get_result\u001B[0m\u001B[0;34m(\u001B[0m\u001B[0;34m)\u001B[0m\u001B[0;34m\u001B[0m\u001B[0;34m\u001B[0m\u001B[0m\n\u001B[1;32m    433\u001B[0m \u001B[0;34m\u001B[0m\u001B[0m\n\u001B[0;32m--> 434\u001B[0;31m             \u001B[0mself\u001B[0m\u001B[0;34m.\u001B[0m\u001B[0m_condition\u001B[0m\u001B[0;34m.\u001B[0m\u001B[0mwait\u001B[0m\u001B[0;34m(\u001B[0m\u001B[0mtimeout\u001B[0m\u001B[0;34m)\u001B[0m\u001B[0;34m\u001B[0m\u001B[0;34m\u001B[0m\u001B[0m\n\u001B[0m\u001B[1;32m    435\u001B[0m \u001B[0;34m\u001B[0m\u001B[0m\n\u001B[1;32m    436\u001B[0m             \u001B[0;32mif\u001B[0m \u001B[0mself\u001B[0m\u001B[0;34m.\u001B[0m\u001B[0m_state\u001B[0m \u001B[0;32min\u001B[0m \u001B[0;34m[\u001B[0m\u001B[0mCANCELLED\u001B[0m\u001B[0;34m,\u001B[0m \u001B[0mCANCELLED_AND_NOTIFIED\u001B[0m\u001B[0;34m]\u001B[0m\u001B[0;34m:\u001B[0m\u001B[0;34m\u001B[0m\u001B[0;34m\u001B[0m\u001B[0m\n",
      "\u001B[0;32m~/opt/anaconda3/lib/python3.8/threading.py\u001B[0m in \u001B[0;36mwait\u001B[0;34m(self, timeout)\u001B[0m\n\u001B[1;32m    300\u001B[0m         \u001B[0;32mtry\u001B[0m\u001B[0;34m:\u001B[0m    \u001B[0;31m# restore state no matter what (e.g., KeyboardInterrupt)\u001B[0m\u001B[0;34m\u001B[0m\u001B[0;34m\u001B[0m\u001B[0m\n\u001B[1;32m    301\u001B[0m             \u001B[0;32mif\u001B[0m \u001B[0mtimeout\u001B[0m \u001B[0;32mis\u001B[0m \u001B[0;32mNone\u001B[0m\u001B[0;34m:\u001B[0m\u001B[0;34m\u001B[0m\u001B[0;34m\u001B[0m\u001B[0m\n\u001B[0;32m--> 302\u001B[0;31m                 \u001B[0mwaiter\u001B[0m\u001B[0;34m.\u001B[0m\u001B[0macquire\u001B[0m\u001B[0;34m(\u001B[0m\u001B[0;34m)\u001B[0m\u001B[0;34m\u001B[0m\u001B[0;34m\u001B[0m\u001B[0m\n\u001B[0m\u001B[1;32m    303\u001B[0m                 \u001B[0mgotit\u001B[0m \u001B[0;34m=\u001B[0m \u001B[0;32mTrue\u001B[0m\u001B[0;34m\u001B[0m\u001B[0;34m\u001B[0m\u001B[0m\n\u001B[1;32m    304\u001B[0m             \u001B[0;32melse\u001B[0m\u001B[0;34m:\u001B[0m\u001B[0;34m\u001B[0m\u001B[0;34m\u001B[0m\u001B[0m\n",
      "\u001B[0;31mKeyboardInterrupt\u001B[0m: "
     ]
    }
   ],
   "source": [
    "optimal_for.fit(x_train_for_std,y_train_for)"
   ],
   "metadata": {
    "collapsed": false,
    "pycharm": {
     "name": "#%%\n"
    }
   }
  },
  {
   "cell_type": "code",
   "execution_count": null,
   "outputs": [],
   "source": [
    "print(optimal_for.best_params_,optimal_for.best_score_)"
   ],
   "metadata": {
    "collapsed": false,
    "pycharm": {
     "name": "#%%\n"
    }
   }
  },
  {
   "cell_type": "code",
   "execution_count": 213,
   "outputs": [
    {
     "ename": "AttributeError",
     "evalue": "'GridSearchCV' object has no attribute 'best_params_'",
     "output_type": "error",
     "traceback": [
      "\u001B[0;31m---------------------------------------------------------------------------\u001B[0m",
      "\u001B[0;31mAttributeError\u001B[0m                            Traceback (most recent call last)",
      "\u001B[0;32m<ipython-input-213-5c2af3840f40>\u001B[0m in \u001B[0;36m<module>\u001B[0;34m\u001B[0m\n\u001B[0;32m----> 1\u001B[0;31m for_best_model = RFC(n_estimators=optimal_for.best_params_['n_estimators'], max_depth=optimal_for.best_params_['max_depth'],\n\u001B[0m\u001B[1;32m      2\u001B[0m                     max_features=optimal_for.best_params_['max_features'], min_samples_leaf=optimal_for.best_params_['min_samples_leaf'], random_state=3)\n\u001B[1;32m      3\u001B[0m \u001B[0;34m\u001B[0m\u001B[0m\n\u001B[1;32m      4\u001B[0m \u001B[0mfor_best_model\u001B[0m \u001B[0;34m=\u001B[0m \u001B[0mfor_best_model\u001B[0m\u001B[0;34m.\u001B[0m\u001B[0mfit\u001B[0m\u001B[0;34m(\u001B[0m\u001B[0mx_train_for_std\u001B[0m\u001B[0;34m,\u001B[0m\u001B[0my_train_for\u001B[0m\u001B[0;34m)\u001B[0m\u001B[0;34m\u001B[0m\u001B[0;34m\u001B[0m\u001B[0m\n\u001B[1;32m      5\u001B[0m \u001B[0mfor_pred_best\u001B[0m \u001B[0;34m=\u001B[0m \u001B[0mfor_best_model\u001B[0m\u001B[0;34m.\u001B[0m\u001B[0mpredict\u001B[0m\u001B[0;34m(\u001B[0m\u001B[0mx_test_for_std\u001B[0m\u001B[0;34m)\u001B[0m\u001B[0;34m\u001B[0m\u001B[0;34m\u001B[0m\u001B[0m\n",
      "\u001B[0;31mAttributeError\u001B[0m: 'GridSearchCV' object has no attribute 'best_params_'"
     ]
    }
   ],
   "source": [
    "for_best_model = RFC(n_estimators=optimal_for.best_params_['n_estimators'], max_depth=optimal_for.best_params_['max_depth'],\n",
    "                    max_features=optimal_for.best_params_['max_features'], min_samples_leaf=optimal_for.best_params_['min_samples_leaf'], random_state=3)\n",
    "\n",
    "for_best_model = for_best_model.fit(x_train_for_std,y_train_for)\n",
    "for_pred_best = for_best_model.predict(x_test_for_std)"
   ],
   "metadata": {
    "collapsed": false,
    "pycharm": {
     "name": "#%%\n"
    }
   }
  },
  {
   "cell_type": "code",
   "execution_count": 274,
   "outputs": [],
   "source": [
    "for_best_model = RFC(n_estimators=200, max_depth=20,\n",
    "                     max_features=4, min_samples_leaf=10, random_state=3)\n",
    "\n",
    "for_best_model = for_best_model.fit(x_train_for_std,y_train_for)\n",
    "for_pred_best = for_best_model.predict(x_test_for_std)"
   ],
   "metadata": {
    "collapsed": false,
    "pycharm": {
     "name": "#%%\n"
    }
   }
  },
  {
   "cell_type": "code",
   "execution_count": 275,
   "outputs": [
    {
     "name": "stdout",
     "output_type": "stream",
     "text": [
      "0.5594795539033457\n"
     ]
    }
   ],
   "source": [
    "from sklearn.metrics import accuracy_score\n",
    "print(accuracy_score(y_test_for, for_pred_best))"
   ],
   "metadata": {
    "collapsed": false,
    "pycharm": {
     "name": "#%%\n"
    }
   }
  },
  {
   "cell_type": "code",
   "execution_count": 276,
   "outputs": [
    {
     "data": {
      "text/plain": "<sklearn.metrics._plot.confusion_matrix.ConfusionMatrixDisplay at 0x7fbcc8acd970>"
     },
     "execution_count": 276,
     "metadata": {},
     "output_type": "execute_result"
    },
    {
     "data": {
      "text/plain": "<Figure size 432x288 with 2 Axes>",
      "image/png": "[encoded data removed]"
     },
     "metadata": {
      "needs_background": "light"
     },
     "output_type": "display_data"
    }
   ],
   "source": [
    "## Plot confusion matrix\n",
    "conf_matrix_for = plot_confusion_matrix(for_best_model, x_test_for_std, y_test_for,\n",
    "                                        display_labels=[\"No Choice\", \"Choice\"])\n",
    "conf_matrix_for.ax_.set_title(\"Confusion matrix  forest\")\n",
    "conf_matrix_for"
   ],
   "metadata": {
    "collapsed": false,
    "pycharm": {
     "name": "#%%\n"
    }
   }
  },
  {
   "cell_type": "markdown",
   "source": [
    "RANDOM FOREST USING NORMAL DATA"
   ],
   "metadata": {
    "collapsed": false,
    "pycharm": {
     "name": "#%% md\n"
    }
   }
  },
  {
   "cell_type": "code",
   "execution_count": 479,
   "outputs": [],
   "source": [
    "#mergedY = merged1[(merged1['SetID_1']==1) | (merged1['SetID_1']==6)]\n",
    "mergedY = merged1[(merged1['SetID_1']==10)]\n",
    "x = mergedY.iloc[:,3:-1]"
   ],
   "metadata": {
    "collapsed": false,
    "pycharm": {
     "name": "#%%\n"
    }
   }
  },
  {
   "cell_type": "code",
   "execution_count": 480,
   "outputs": [],
   "source": [
    "x_drop=['PriceMin5','Price0','Price2','Price Cont','payment_1','Gender_f','Age','Energy Consumption','Region West','Region East','Household_size','Appliance_count']\n",
    "x = x.drop(columns=x_drop)\n",
    "#x = x.iloc[:,9:]"
   ],
   "metadata": {
    "collapsed": false,
    "pycharm": {
     "name": "#%%\n"
    }
   }
  },
  {
   "cell_type": "code",
   "execution_count": 481,
   "outputs": [],
   "source": [
    "y_var1 = mergedY['value']"
   ],
   "metadata": {
    "collapsed": false,
    "pycharm": {
     "name": "#%%\n"
    }
   }
  },
  {
   "cell_type": "code",
   "execution_count": 482,
   "outputs": [
    {
     "data": {
      "text/plain": "      Real Price  All RES  wind  solar  hydro  biomass  Slovak  Can Change  \\\n18            52        0     0      0      1        0       1          -1   \n19            50        0     0      0      0        1       1          -1   \n42            35        0     0      0      1        0       1          -1   \n43            33        0     0      0      0        1       1          -1   \n66            13        0     0      0      1        0       1          -1   \n...          ...      ...   ...    ...    ...      ...     ...         ...   \n2635          60        0     0      0      0        1       1          -1   \n2658          56        0     0      0      1        0       1          -1   \n2659          54        0     0      0      0        1       1          -1   \n2682          77        0     0      0      1        0       1          -1   \n2683          75        0     0      0      0        1       1          -1   \n\n      No change Income  No Income Concern_1 RES_attitude_1  \\\n18            1      3          0         1              4   \n19           -1      3          0         1              4   \n42            1      4          0         3              4   \n43           -1      4          0         3              4   \n66            1      6          0         4              4   \n...         ...    ...        ...       ...            ...   \n2635         -1      2          0         4              4   \n2658          1      2          0         4              4   \n2659         -1      2          0         4              4   \n2682          1      6          0         2              4   \n2683         -1      6          0         2              4   \n\n      Know_green_provider  Providers_count  Task_temp  Task_consumption  \\\n18                      0                1          4                 5   \n19                      0                1          4                 5   \n42                      0                6          3                 4   \n43                      0                6          3                 4   \n66                      0                2          4                 4   \n...                   ...              ...        ...               ...   \n2635                    0                1          4                 4   \n2658                    0                5          4                 4   \n2659                    0                5          4                 4   \n2682                    0                2          5                 5   \n2683                    0                2          5                 5   \n\n      Task_appliances  Task_source  \n18                  5            2  \n19                  5            2  \n42                  3            4  \n43                  3            4  \n66                  4            2  \n...               ...          ...  \n2635                4            4  \n2658                5            3  \n2659                5            3  \n2682                5            3  \n2683                5            3  \n\n[224 rows x 19 columns]",
      "text/html": "<div>\n<style scoped>\n    .dataframe tbody tr th:only-of-type {\n        vertical-align: middle;\n    }\n\n    .dataframe tbody tr th {\n        vertical-align: top;\n    }\n\n    .dataframe thead th {\n        text-align: right;\n    }\n</style>\n<table border=\"1\" class=\"dataframe\">\n  <thead>\n    <tr style=\"text-align: right;\">\n      <th></th>\n      <th>Real Price</th>\n      <th>All RES</th>\n      <th>wind</th>\n      <th>solar</th>\n      <th>hydro</th>\n      <th>biomass</th>\n      <th>Slovak</th>\n      <th>Can Change</th>\n      <th>No change</th>\n      <th>Income</th>\n      <th>No Income</th>\n      <th>Concern_1</th>\n      <th>RES_attitude_1</th>\n      <th>Know_green_provider</th>\n      <th>Providers_count</th>\n      <th>Task_temp</th>\n      <th>Task_consumption</th>\n      <th>Task_appliances</th>\n      <th>Task_source</th>\n    </tr>\n  </thead>\n  <tbody>\n    <tr>\n      <th>18</th>\n      <td>52</td>\n      <td>0</td>\n      <td>0</td>\n      <td>0</td>\n      <td>1</td>\n      <td>0</td>\n      <td>1</td>\n      <td>-1</td>\n      <td>1</td>\n      <td>3</td>\n      <td>0</td>\n      <td>1</td>\n      <td>4</td>\n      <td>0</td>\n      <td>1</td>\n      <td>4</td>\n      <td>5</td>\n      <td>5</td>\n      <td>2</td>\n    </tr>\n    <tr>\n      <th>19</th>\n      <td>50</td>\n      <td>0</td>\n      <td>0</td>\n      <td>0</td>\n      <td>0</td>\n      <td>1</td>\n      <td>1</td>\n      <td>-1</td>\n      <td>-1</td>\n      <td>3</td>\n      <td>0</td>\n      <td>1</td>\n      <td>4</td>\n      <td>0</td>\n      <td>1</td>\n      <td>4</td>\n      <td>5</td>\n      <td>5</td>\n      <td>2</td>\n    </tr>\n    <tr>\n      <th>42</th>\n      <td>35</td>\n      <td>0</td>\n      <td>0</td>\n      <td>0</td>\n      <td>1</td>\n      <td>0</td>\n      <td>1</td>\n      <td>-1</td>\n      <td>1</td>\n      <td>4</td>\n      <td>0</td>\n      <td>3</td>\n      <td>4</td>\n      <td>0</td>\n      <td>6</td>\n      <td>3</td>\n      <td>4</td>\n      <td>3</td>\n      <td>4</td>\n    </tr>\n    <tr>\n      <th>43</th>\n      <td>33</td>\n      <td>0</td>\n      <td>0</td>\n      <td>0</td>\n      <td>0</td>\n      <td>1</td>\n      <td>1</td>\n      <td>-1</td>\n      <td>-1</td>\n      <td>4</td>\n      <td>0</td>\n      <td>3</td>\n      <td>4</td>\n      <td>0</td>\n      <td>6</td>\n      <td>3</td>\n      <td>4</td>\n      <td>3</td>\n      <td>4</td>\n    </tr>\n    <tr>\n      <th>66</th>\n      <td>13</td>\n      <td>0</td>\n      <td>0</td>\n      <td>0</td>\n      <td>1</td>\n      <td>0</td>\n      <td>1</td>\n      <td>-1</td>\n      <td>1</td>\n      <td>6</td>\n      <td>0</td>\n      <td>4</td>\n      <td>4</td>\n      <td>0</td>\n      <td>2</td>\n      <td>4</td>\n      <td>4</td>\n      <td>4</td>\n      <td>2</td>\n    </tr>\n    <tr>\n      <th>...</th>\n      <td>...</td>\n      <td>...</td>\n      <td>...</td>\n      <td>...</td>\n      <td>...</td>\n      <td>...</td>\n      <td>...</td>\n      <td>...</td>\n      <td>...</td>\n      <td>...</td>\n      <td>...</td>\n      <td>...</td>\n      <td>...</td>\n      <td>...</td>\n      <td>...</td>\n      <td>...</td>\n      <td>...</td>\n      <td>...</td>\n      <td>...</td>\n    </tr>\n    <tr>\n      <th>2635</th>\n      <td>60</td>\n      <td>0</td>\n      <td>0</td>\n      <td>0</td>\n      <td>0</td>\n      <td>1</td>\n      <td>1</td>\n      <td>-1</td>\n      <td>-1</td>\n      <td>2</td>\n      <td>0</td>\n      <td>4</td>\n      <td>4</td>\n      <td>0</td>\n      <td>1</td>\n      <td>4</td>\n      <td>4</td>\n      <td>4</td>\n      <td>4</td>\n    </tr>\n    <tr>\n      <th>2658</th>\n      <td>56</td>\n      <td>0</td>\n      <td>0</td>\n      <td>0</td>\n      <td>1</td>\n      <td>0</td>\n      <td>1</td>\n      <td>-1</td>\n      <td>1</td>\n      <td>2</td>\n      <td>0</td>\n      <td>4</td>\n      <td>4</td>\n      <td>0</td>\n      <td>5</td>\n      <td>4</td>\n      <td>4</td>\n      <td>5</td>\n      <td>3</td>\n    </tr>\n    <tr>\n      <th>2659</th>\n      <td>54</td>\n      <td>0</td>\n      <td>0</td>\n      <td>0</td>\n      <td>0</td>\n      <td>1</td>\n      <td>1</td>\n      <td>-1</td>\n      <td>-1</td>\n      <td>2</td>\n      <td>0</td>\n      <td>4</td>\n      <td>4</td>\n      <td>0</td>\n      <td>5</td>\n      <td>4</td>\n      <td>4</td>\n      <td>5</td>\n      <td>3</td>\n    </tr>\n    <tr>\n      <th>2682</th>\n      <td>77</td>\n      <td>0</td>\n      <td>0</td>\n      <td>0</td>\n      <td>1</td>\n      <td>0</td>\n      <td>1</td>\n      <td>-1</td>\n      <td>1</td>\n      <td>6</td>\n      <td>0</td>\n      <td>2</td>\n      <td>4</td>\n      <td>0</td>\n      <td>2</td>\n      <td>5</td>\n      <td>5</td>\n      <td>5</td>\n      <td>3</td>\n    </tr>\n    <tr>\n      <th>2683</th>\n      <td>75</td>\n      <td>0</td>\n      <td>0</td>\n      <td>0</td>\n      <td>0</td>\n      <td>1</td>\n      <td>1</td>\n      <td>-1</td>\n      <td>-1</td>\n      <td>6</td>\n      <td>0</td>\n      <td>2</td>\n      <td>4</td>\n      <td>0</td>\n      <td>2</td>\n      <td>5</td>\n      <td>5</td>\n      <td>5</td>\n      <td>3</td>\n    </tr>\n  </tbody>\n</table>\n<p>224 rows × 19 columns</p>\n</div>"
     },
     "execution_count": 482,
     "metadata": {},
     "output_type": "execute_result"
    }
   ],
   "source": [
    "x"
   ],
   "metadata": {
    "collapsed": false,
    "pycharm": {
     "name": "#%%\n"
    }
   }
  },
  {
   "cell_type": "code",
   "execution_count": 483,
   "outputs": [
    {
     "data": {
      "text/plain": "18      1\n19      0\n42      1\n43      0\n66      1\n       ..\n2635    1\n2658    1\n2659    0\n2682    1\n2683    0\nName: value, Length: 224, dtype: int64"
     },
     "execution_count": 483,
     "metadata": {},
     "output_type": "execute_result"
    }
   ],
   "source": [
    "y_var1"
   ],
   "metadata": {
    "collapsed": false,
    "pycharm": {
     "name": "#%%\n"
    }
   }
  },
  {
   "cell_type": "code",
   "execution_count": 484,
   "outputs": [],
   "source": [
    "from sklearn.preprocessing import StandardScaler, normalize\n",
    "\n",
    "#Random Forest\n",
    "x_train_for2, x_test_for2, y_train_for2, y_test_for2 = train_test_split(x, y_var1, train_size=0.8, random_state=3)\n",
    "\n",
    "# standardize data (axis=0 means over the columns)\n",
    "sc = StandardScaler()\n",
    "x_train_for2_std = sc.fit_transform(x_train_for2)\n",
    "x_test_for2_std = sc.fit_transform(x_test_for2)  #Standardizes data to remove biases\n",
    "\n",
    "from sklearn.ensemble import RandomForestClassifier as RFC\n",
    "\n",
    "for2_model = RFC(random_state=3)"
   ],
   "metadata": {
    "collapsed": false,
    "pycharm": {
     "name": "#%%\n"
    }
   }
  },
  {
   "cell_type": "code",
   "execution_count": 485,
   "outputs": [
    {
     "ename": "KeyboardInterrupt",
     "evalue": "",
     "output_type": "error",
     "traceback": [
      "\u001B[0;31m---------------------------------------------------------------------------\u001B[0m",
      "\u001B[0;31mKeyboardInterrupt\u001B[0m                         Traceback (most recent call last)",
      "\u001B[0;32m<ipython-input-485-911be74382ca>\u001B[0m in \u001B[0;36m<module>\u001B[0;34m\u001B[0m\n\u001B[1;32m      7\u001B[0m \u001B[0;34m\u001B[0m\u001B[0m\n\u001B[1;32m      8\u001B[0m \u001B[0moptimal_for2\u001B[0m \u001B[0;34m=\u001B[0m \u001B[0mGridSearchCV\u001B[0m\u001B[0;34m(\u001B[0m\u001B[0mestimator\u001B[0m\u001B[0;34m=\u001B[0m\u001B[0mfor2_model\u001B[0m\u001B[0;34m,\u001B[0m \u001B[0mparam_grid\u001B[0m\u001B[0;34m=\u001B[0m\u001B[0mfor2_parameters\u001B[0m\u001B[0;34m,\u001B[0m \u001B[0mcv\u001B[0m\u001B[0;34m=\u001B[0m\u001B[0;36m5\u001B[0m\u001B[0;34m,\u001B[0m \u001B[0mscoring\u001B[0m\u001B[0;34m=\u001B[0m\u001B[0;34m'recall'\u001B[0m\u001B[0;34m,\u001B[0m \u001B[0mverbose\u001B[0m\u001B[0;34m=\u001B[0m\u001B[0;36m0\u001B[0m\u001B[0;34m,\u001B[0m \u001B[0mn_jobs\u001B[0m\u001B[0;34m=\u001B[0m\u001B[0;34m-\u001B[0m\u001B[0;36m1\u001B[0m\u001B[0;34m)\u001B[0m\u001B[0;34m\u001B[0m\u001B[0;34m\u001B[0m\u001B[0m\n\u001B[0;32m----> 9\u001B[0;31m \u001B[0moptimal_for2\u001B[0m\u001B[0;34m.\u001B[0m\u001B[0mfit\u001B[0m\u001B[0;34m(\u001B[0m\u001B[0mx_train_for2_std\u001B[0m\u001B[0;34m,\u001B[0m \u001B[0my_train_for2\u001B[0m\u001B[0;34m)\u001B[0m\u001B[0;34m\u001B[0m\u001B[0;34m\u001B[0m\u001B[0m\n\u001B[0m\u001B[1;32m     10\u001B[0m \u001B[0mprint\u001B[0m\u001B[0;34m(\u001B[0m\u001B[0moptimal_for2\u001B[0m\u001B[0;34m.\u001B[0m\u001B[0mbest_params_\u001B[0m\u001B[0;34m,\u001B[0m \u001B[0moptimal_for2\u001B[0m\u001B[0;34m.\u001B[0m\u001B[0mbest_score_\u001B[0m\u001B[0;34m)\u001B[0m\u001B[0;34m\u001B[0m\u001B[0;34m\u001B[0m\u001B[0m\n\u001B[1;32m     11\u001B[0m for2_best_model = RFC(n_estimators=optimal_for2.best_params_['n_estimators'],\n",
      "\u001B[0;32m~/opt/anaconda3/lib/python3.8/site-packages/sklearn/utils/validation.py\u001B[0m in \u001B[0;36minner_f\u001B[0;34m(*args, **kwargs)\u001B[0m\n\u001B[1;32m     61\u001B[0m             \u001B[0mextra_args\u001B[0m \u001B[0;34m=\u001B[0m \u001B[0mlen\u001B[0m\u001B[0;34m(\u001B[0m\u001B[0margs\u001B[0m\u001B[0;34m)\u001B[0m \u001B[0;34m-\u001B[0m \u001B[0mlen\u001B[0m\u001B[0;34m(\u001B[0m\u001B[0mall_args\u001B[0m\u001B[0;34m)\u001B[0m\u001B[0;34m\u001B[0m\u001B[0;34m\u001B[0m\u001B[0m\n\u001B[1;32m     62\u001B[0m             \u001B[0;32mif\u001B[0m \u001B[0mextra_args\u001B[0m \u001B[0;34m<=\u001B[0m \u001B[0;36m0\u001B[0m\u001B[0;34m:\u001B[0m\u001B[0;34m\u001B[0m\u001B[0;34m\u001B[0m\u001B[0m\n\u001B[0;32m---> 63\u001B[0;31m                 \u001B[0;32mreturn\u001B[0m \u001B[0mf\u001B[0m\u001B[0;34m(\u001B[0m\u001B[0;34m*\u001B[0m\u001B[0margs\u001B[0m\u001B[0;34m,\u001B[0m \u001B[0;34m**\u001B[0m\u001B[0mkwargs\u001B[0m\u001B[0;34m)\u001B[0m\u001B[0;34m\u001B[0m\u001B[0;34m\u001B[0m\u001B[0m\n\u001B[0m\u001B[1;32m     64\u001B[0m \u001B[0;34m\u001B[0m\u001B[0m\n\u001B[1;32m     65\u001B[0m             \u001B[0;31m# extra_args > 0\u001B[0m\u001B[0;34m\u001B[0m\u001B[0;34m\u001B[0m\u001B[0;34m\u001B[0m\u001B[0m\n",
      "\u001B[0;32m~/opt/anaconda3/lib/python3.8/site-packages/sklearn/model_selection/_search.py\u001B[0m in \u001B[0;36mfit\u001B[0;34m(self, X, y, groups, **fit_params)\u001B[0m\n\u001B[1;32m    839\u001B[0m                 \u001B[0;32mreturn\u001B[0m \u001B[0mresults\u001B[0m\u001B[0;34m\u001B[0m\u001B[0;34m\u001B[0m\u001B[0m\n\u001B[1;32m    840\u001B[0m \u001B[0;34m\u001B[0m\u001B[0m\n\u001B[0;32m--> 841\u001B[0;31m             \u001B[0mself\u001B[0m\u001B[0;34m.\u001B[0m\u001B[0m_run_search\u001B[0m\u001B[0;34m(\u001B[0m\u001B[0mevaluate_candidates\u001B[0m\u001B[0;34m)\u001B[0m\u001B[0;34m\u001B[0m\u001B[0;34m\u001B[0m\u001B[0m\n\u001B[0m\u001B[1;32m    842\u001B[0m \u001B[0;34m\u001B[0m\u001B[0m\n\u001B[1;32m    843\u001B[0m             \u001B[0;31m# multimetric is determined here because in the case of a callable\u001B[0m\u001B[0;34m\u001B[0m\u001B[0;34m\u001B[0m\u001B[0;34m\u001B[0m\u001B[0m\n",
      "\u001B[0;32m~/opt/anaconda3/lib/python3.8/site-packages/sklearn/model_selection/_search.py\u001B[0m in \u001B[0;36m_run_search\u001B[0;34m(self, evaluate_candidates)\u001B[0m\n\u001B[1;32m   1286\u001B[0m     \u001B[0;32mdef\u001B[0m \u001B[0m_run_search\u001B[0m\u001B[0;34m(\u001B[0m\u001B[0mself\u001B[0m\u001B[0;34m,\u001B[0m \u001B[0mevaluate_candidates\u001B[0m\u001B[0;34m)\u001B[0m\u001B[0;34m:\u001B[0m\u001B[0;34m\u001B[0m\u001B[0;34m\u001B[0m\u001B[0m\n\u001B[1;32m   1287\u001B[0m         \u001B[0;34m\"\"\"Search all candidates in param_grid\"\"\"\u001B[0m\u001B[0;34m\u001B[0m\u001B[0;34m\u001B[0m\u001B[0m\n\u001B[0;32m-> 1288\u001B[0;31m         \u001B[0mevaluate_candidates\u001B[0m\u001B[0;34m(\u001B[0m\u001B[0mParameterGrid\u001B[0m\u001B[0;34m(\u001B[0m\u001B[0mself\u001B[0m\u001B[0;34m.\u001B[0m\u001B[0mparam_grid\u001B[0m\u001B[0;34m)\u001B[0m\u001B[0;34m)\u001B[0m\u001B[0;34m\u001B[0m\u001B[0;34m\u001B[0m\u001B[0m\n\u001B[0m\u001B[1;32m   1289\u001B[0m \u001B[0;34m\u001B[0m\u001B[0m\n\u001B[1;32m   1290\u001B[0m \u001B[0;34m\u001B[0m\u001B[0m\n",
      "\u001B[0;32m~/opt/anaconda3/lib/python3.8/site-packages/sklearn/model_selection/_search.py\u001B[0m in \u001B[0;36mevaluate_candidates\u001B[0;34m(candidate_params, cv, more_results)\u001B[0m\n\u001B[1;32m    793\u001B[0m                               n_splits, n_candidates, n_candidates * n_splits))\n\u001B[1;32m    794\u001B[0m \u001B[0;34m\u001B[0m\u001B[0m\n\u001B[0;32m--> 795\u001B[0;31m                 out = parallel(delayed(_fit_and_score)(clone(base_estimator),\n\u001B[0m\u001B[1;32m    796\u001B[0m                                                        \u001B[0mX\u001B[0m\u001B[0;34m,\u001B[0m \u001B[0my\u001B[0m\u001B[0;34m,\u001B[0m\u001B[0;34m\u001B[0m\u001B[0;34m\u001B[0m\u001B[0m\n\u001B[1;32m    797\u001B[0m                                                        \u001B[0mtrain\u001B[0m\u001B[0;34m=\u001B[0m\u001B[0mtrain\u001B[0m\u001B[0;34m,\u001B[0m \u001B[0mtest\u001B[0m\u001B[0;34m=\u001B[0m\u001B[0mtest\u001B[0m\u001B[0;34m,\u001B[0m\u001B[0;34m\u001B[0m\u001B[0;34m\u001B[0m\u001B[0m\n",
      "\u001B[0;32m~/opt/anaconda3/lib/python3.8/site-packages/joblib/parallel.py\u001B[0m in \u001B[0;36m__call__\u001B[0;34m(self, iterable)\u001B[0m\n\u001B[1;32m   1052\u001B[0m \u001B[0;34m\u001B[0m\u001B[0m\n\u001B[1;32m   1053\u001B[0m             \u001B[0;32mwith\u001B[0m \u001B[0mself\u001B[0m\u001B[0;34m.\u001B[0m\u001B[0m_backend\u001B[0m\u001B[0;34m.\u001B[0m\u001B[0mretrieval_context\u001B[0m\u001B[0;34m(\u001B[0m\u001B[0;34m)\u001B[0m\u001B[0;34m:\u001B[0m\u001B[0;34m\u001B[0m\u001B[0;34m\u001B[0m\u001B[0m\n\u001B[0;32m-> 1054\u001B[0;31m                 \u001B[0mself\u001B[0m\u001B[0;34m.\u001B[0m\u001B[0mretrieve\u001B[0m\u001B[0;34m(\u001B[0m\u001B[0;34m)\u001B[0m\u001B[0;34m\u001B[0m\u001B[0;34m\u001B[0m\u001B[0m\n\u001B[0m\u001B[1;32m   1055\u001B[0m             \u001B[0;31m# Make sure that we get a last message telling us we are done\u001B[0m\u001B[0;34m\u001B[0m\u001B[0;34m\u001B[0m\u001B[0;34m\u001B[0m\u001B[0m\n\u001B[1;32m   1056\u001B[0m             \u001B[0melapsed_time\u001B[0m \u001B[0;34m=\u001B[0m \u001B[0mtime\u001B[0m\u001B[0;34m.\u001B[0m\u001B[0mtime\u001B[0m\u001B[0;34m(\u001B[0m\u001B[0;34m)\u001B[0m \u001B[0;34m-\u001B[0m \u001B[0mself\u001B[0m\u001B[0;34m.\u001B[0m\u001B[0m_start_time\u001B[0m\u001B[0;34m\u001B[0m\u001B[0;34m\u001B[0m\u001B[0m\n",
      "\u001B[0;32m~/opt/anaconda3/lib/python3.8/site-packages/joblib/parallel.py\u001B[0m in \u001B[0;36mretrieve\u001B[0;34m(self)\u001B[0m\n\u001B[1;32m    931\u001B[0m             \u001B[0;32mtry\u001B[0m\u001B[0;34m:\u001B[0m\u001B[0;34m\u001B[0m\u001B[0;34m\u001B[0m\u001B[0m\n\u001B[1;32m    932\u001B[0m                 \u001B[0;32mif\u001B[0m \u001B[0mgetattr\u001B[0m\u001B[0;34m(\u001B[0m\u001B[0mself\u001B[0m\u001B[0;34m.\u001B[0m\u001B[0m_backend\u001B[0m\u001B[0;34m,\u001B[0m \u001B[0;34m'supports_timeout'\u001B[0m\u001B[0;34m,\u001B[0m \u001B[0;32mFalse\u001B[0m\u001B[0;34m)\u001B[0m\u001B[0;34m:\u001B[0m\u001B[0;34m\u001B[0m\u001B[0;34m\u001B[0m\u001B[0m\n\u001B[0;32m--> 933\u001B[0;31m                     \u001B[0mself\u001B[0m\u001B[0;34m.\u001B[0m\u001B[0m_output\u001B[0m\u001B[0;34m.\u001B[0m\u001B[0mextend\u001B[0m\u001B[0;34m(\u001B[0m\u001B[0mjob\u001B[0m\u001B[0;34m.\u001B[0m\u001B[0mget\u001B[0m\u001B[0;34m(\u001B[0m\u001B[0mtimeout\u001B[0m\u001B[0;34m=\u001B[0m\u001B[0mself\u001B[0m\u001B[0;34m.\u001B[0m\u001B[0mtimeout\u001B[0m\u001B[0;34m)\u001B[0m\u001B[0;34m)\u001B[0m\u001B[0;34m\u001B[0m\u001B[0;34m\u001B[0m\u001B[0m\n\u001B[0m\u001B[1;32m    934\u001B[0m                 \u001B[0;32melse\u001B[0m\u001B[0;34m:\u001B[0m\u001B[0;34m\u001B[0m\u001B[0;34m\u001B[0m\u001B[0m\n\u001B[1;32m    935\u001B[0m                     \u001B[0mself\u001B[0m\u001B[0;34m.\u001B[0m\u001B[0m_output\u001B[0m\u001B[0;34m.\u001B[0m\u001B[0mextend\u001B[0m\u001B[0;34m(\u001B[0m\u001B[0mjob\u001B[0m\u001B[0;34m.\u001B[0m\u001B[0mget\u001B[0m\u001B[0;34m(\u001B[0m\u001B[0;34m)\u001B[0m\u001B[0;34m)\u001B[0m\u001B[0;34m\u001B[0m\u001B[0;34m\u001B[0m\u001B[0m\n",
      "\u001B[0;32m~/opt/anaconda3/lib/python3.8/site-packages/joblib/_parallel_backends.py\u001B[0m in \u001B[0;36mwrap_future_result\u001B[0;34m(future, timeout)\u001B[0m\n\u001B[1;32m    540\u001B[0m         AsyncResults.get from multiprocessing.\"\"\"\n\u001B[1;32m    541\u001B[0m         \u001B[0;32mtry\u001B[0m\u001B[0;34m:\u001B[0m\u001B[0;34m\u001B[0m\u001B[0;34m\u001B[0m\u001B[0m\n\u001B[0;32m--> 542\u001B[0;31m             \u001B[0;32mreturn\u001B[0m \u001B[0mfuture\u001B[0m\u001B[0;34m.\u001B[0m\u001B[0mresult\u001B[0m\u001B[0;34m(\u001B[0m\u001B[0mtimeout\u001B[0m\u001B[0;34m=\u001B[0m\u001B[0mtimeout\u001B[0m\u001B[0;34m)\u001B[0m\u001B[0;34m\u001B[0m\u001B[0;34m\u001B[0m\u001B[0m\n\u001B[0m\u001B[1;32m    543\u001B[0m         \u001B[0;32mexcept\u001B[0m \u001B[0mCfTimeoutError\u001B[0m \u001B[0;32mas\u001B[0m \u001B[0me\u001B[0m\u001B[0;34m:\u001B[0m\u001B[0;34m\u001B[0m\u001B[0;34m\u001B[0m\u001B[0m\n\u001B[1;32m    544\u001B[0m             \u001B[0;32mraise\u001B[0m \u001B[0mTimeoutError\u001B[0m \u001B[0;32mfrom\u001B[0m \u001B[0me\u001B[0m\u001B[0;34m\u001B[0m\u001B[0;34m\u001B[0m\u001B[0m\n",
      "\u001B[0;32m~/opt/anaconda3/lib/python3.8/concurrent/futures/_base.py\u001B[0m in \u001B[0;36mresult\u001B[0;34m(self, timeout)\u001B[0m\n\u001B[1;32m    432\u001B[0m                 \u001B[0;32mreturn\u001B[0m \u001B[0mself\u001B[0m\u001B[0;34m.\u001B[0m\u001B[0m__get_result\u001B[0m\u001B[0;34m(\u001B[0m\u001B[0;34m)\u001B[0m\u001B[0;34m\u001B[0m\u001B[0;34m\u001B[0m\u001B[0m\n\u001B[1;32m    433\u001B[0m \u001B[0;34m\u001B[0m\u001B[0m\n\u001B[0;32m--> 434\u001B[0;31m             \u001B[0mself\u001B[0m\u001B[0;34m.\u001B[0m\u001B[0m_condition\u001B[0m\u001B[0;34m.\u001B[0m\u001B[0mwait\u001B[0m\u001B[0;34m(\u001B[0m\u001B[0mtimeout\u001B[0m\u001B[0;34m)\u001B[0m\u001B[0;34m\u001B[0m\u001B[0;34m\u001B[0m\u001B[0m\n\u001B[0m\u001B[1;32m    435\u001B[0m \u001B[0;34m\u001B[0m\u001B[0m\n\u001B[1;32m    436\u001B[0m             \u001B[0;32mif\u001B[0m \u001B[0mself\u001B[0m\u001B[0;34m.\u001B[0m\u001B[0m_state\u001B[0m \u001B[0;32min\u001B[0m \u001B[0;34m[\u001B[0m\u001B[0mCANCELLED\u001B[0m\u001B[0;34m,\u001B[0m \u001B[0mCANCELLED_AND_NOTIFIED\u001B[0m\u001B[0;34m]\u001B[0m\u001B[0;34m:\u001B[0m\u001B[0;34m\u001B[0m\u001B[0;34m\u001B[0m\u001B[0m\n",
      "\u001B[0;32m~/opt/anaconda3/lib/python3.8/threading.py\u001B[0m in \u001B[0;36mwait\u001B[0;34m(self, timeout)\u001B[0m\n\u001B[1;32m    300\u001B[0m         \u001B[0;32mtry\u001B[0m\u001B[0;34m:\u001B[0m    \u001B[0;31m# restore state no matter what (e.g., KeyboardInterrupt)\u001B[0m\u001B[0;34m\u001B[0m\u001B[0;34m\u001B[0m\u001B[0m\n\u001B[1;32m    301\u001B[0m             \u001B[0;32mif\u001B[0m \u001B[0mtimeout\u001B[0m \u001B[0;32mis\u001B[0m \u001B[0;32mNone\u001B[0m\u001B[0;34m:\u001B[0m\u001B[0;34m\u001B[0m\u001B[0;34m\u001B[0m\u001B[0m\n\u001B[0;32m--> 302\u001B[0;31m                 \u001B[0mwaiter\u001B[0m\u001B[0;34m.\u001B[0m\u001B[0macquire\u001B[0m\u001B[0;34m(\u001B[0m\u001B[0;34m)\u001B[0m\u001B[0;34m\u001B[0m\u001B[0;34m\u001B[0m\u001B[0m\n\u001B[0m\u001B[1;32m    303\u001B[0m                 \u001B[0mgotit\u001B[0m \u001B[0;34m=\u001B[0m \u001B[0;32mTrue\u001B[0m\u001B[0;34m\u001B[0m\u001B[0;34m\u001B[0m\u001B[0m\n\u001B[1;32m    304\u001B[0m             \u001B[0;32melse\u001B[0m\u001B[0;34m:\u001B[0m\u001B[0;34m\u001B[0m\u001B[0;34m\u001B[0m\u001B[0m\n",
      "\u001B[0;31mKeyboardInterrupt\u001B[0m: "
     ]
    }
   ],
   "source": [
    "#grid search CV\n",
    "\n",
    "from sklearn.model_selection import GridSearchCV\n",
    "\n",
    "for2_parameters = {'n_estimators': [180, 200, 220],\n",
    "                  'max_features': [3, 4, 5], 'max_depth': [20, 25], 'min_samples_leaf': [3, 5, 7]}\n",
    "\n",
    "optimal_for2 = GridSearchCV(estimator=for2_model, param_grid=for2_parameters, cv=5, scoring='recall', verbose=0, n_jobs=-1)\n",
    "optimal_for2.fit(x_train_for2_std, y_train_for2)\n",
    "print(optimal_for2.best_params_, optimal_for2.best_score_)\n",
    "for2_best_model = RFC(n_estimators=optimal_for2.best_params_['n_estimators'],\n",
    "                     max_depth=optimal_for2.best_params_['max_depth'],\n",
    "                     max_features=optimal_for2.best_params_['max_features'],\n",
    "                     min_samples_leaf=optimal_for2.best_params_['min_samples_leaf'], random_state=3)\n",
    "\n",
    "for2_best_model = for2_best_model.fit(x_train_for2_std, y_train_for2)\n",
    "for2_pred_best = for2_best_model.predict(x_test_for2_std)"
   ],
   "metadata": {
    "collapsed": false,
    "pycharm": {
     "name": "#%%\n"
    }
   }
  },
  {
   "cell_type": "code",
   "execution_count": 486,
   "outputs": [
    {
     "name": "stdout",
     "output_type": "stream",
     "text": [
      "0.7111111111111111\n"
     ]
    },
    {
     "data": {
      "text/plain": "<sklearn.metrics._plot.confusion_matrix.ConfusionMatrixDisplay at 0x7fbcd0e4eaf0>"
     },
     "execution_count": 486,
     "metadata": {},
     "output_type": "execute_result"
    },
    {
     "data": {
      "text/plain": "<Figure size 432x288 with 2 Axes>",
      "image/png": "[encoded data removed]"
     },
     "metadata": {
      "needs_background": "light"
     },
     "output_type": "display_data"
    }
   ],
   "source": [
    "for2_best_model = RFC(n_estimators=180, max_depth=20,\n",
    "                     max_features=3, min_samples_leaf=7,random_state=3)\n",
    "\n",
    "for2_best_model = for2_best_model.fit(x_train_for2_std, y_train_for2)\n",
    "for2_pred_best = for2_best_model.predict(x_test_for2_std)\n",
    "from sklearn.metrics import accuracy_score\n",
    "\n",
    "print(accuracy_score(y_test_for2, for2_pred_best))\n",
    "## Plot confusion matrix\n",
    "conf_matrix_for2 = plot_confusion_matrix(for2_best_model, x_test_for2_std, y_test_for2,\n",
    "                                        display_labels=[\"No Choice\", \"Choice\"])\n",
    "conf_matrix_for2.ax_.set_title(\"Confusion matrix  forest\")\n",
    "conf_matrix_for2"
   ],
   "metadata": {
    "collapsed": false,
    "pycharm": {
     "name": "#%%\n"
    }
   }
  },
  {
   "cell_type": "markdown",
   "source": [
    "# PREDICTION FROM UNSEEN DATA"
   ],
   "metadata": {
    "collapsed": false,
    "pycharm": {
     "name": "#%% md\n"
    }
   }
  },
  {
   "cell_type": "code",
   "execution_count": 58,
   "outputs": [],
   "source": [
    "predict_data = pd.read_csv(folder+'/predict_cleaned.csv')\n",
    "predict_data = predict_data.drop(columns='Unnamed: 0')"
   ],
   "metadata": {
    "collapsed": false,
    "pycharm": {
     "name": "#%%\n"
    }
   }
  },
  {
   "cell_type": "code",
   "execution_count": 59,
   "outputs": [],
   "source": [
    "x_predict = predict_data.iloc[:, 3:-1]\n",
    "x_drop = ['PriceMin5', 'Price0', 'Price2', 'Real Price', 'payment_1', 'Gender_f', 'Age', 'Energy Consumption',\n",
    "          'Region West', 'Region East', 'Household_size', 'Appliance_count', ]\n",
    "x_predict = x_predict.drop(columns=x_drop)\n",
    "\n",
    "y_predict = predict_data['value']"
   ],
   "metadata": {
    "collapsed": false,
    "pycharm": {
     "name": "#%%\n"
    }
   }
  },
  {
   "cell_type": "code",
   "execution_count": 404,
   "outputs": [],
   "source": [
    "x_predict_sc =sc.fit_transform(x_predict)"
   ],
   "metadata": {
    "collapsed": false,
    "pycharm": {
     "name": "#%%\n"
    }
   }
  },
  {
   "cell_type": "code",
   "execution_count": 414,
   "outputs": [
    {
     "name": "stdout",
     "output_type": "stream",
     "text": [
      "0.5277777777777778\n"
     ]
    },
    {
     "data": {
      "text/plain": "<sklearn.metrics._plot.confusion_matrix.ConfusionMatrixDisplay at 0x7fbcd0e32940>"
     },
     "execution_count": 414,
     "metadata": {},
     "output_type": "execute_result"
    },
    {
     "data": {
      "text/plain": "<Figure size 432x288 with 2 Axes>",
      "image/png": "[encoded data removed]"
     },
     "metadata": {
      "needs_background": "light"
     },
     "output_type": "display_data"
    }
   ],
   "source": [
    "predict_unseen = for2_best_model.predict(x_predict_sc)\n",
    "\n",
    "print(accuracy_score(y_predict, predict_unseen))\n",
    "## Plot confusion matrix\n",
    "conf_matrix_for3 = plot_confusion_matrix(for2_best_model, x_predict_sc, y_predict,\n",
    "                                         display_labels=[\"No Choice\", \"Choice\"])\n",
    "conf_matrix_for3.ax_.set_title(\"Confusion matrix  forest\")\n",
    "conf_matrix_for3"
   ],
   "metadata": {
    "collapsed": false,
    "pycharm": {
     "name": "#%%\n"
    }
   }
  },
  {
   "cell_type": "code",
   "execution_count": 60,
   "outputs": [
    {
     "data": {
      "text/plain": "     Price Cont  All RES  wind  solar  hydro  biomass  Slovak  Can Change  \\\n0            -5       -1    -1     -1     -1       -1      -1           1   \n1             0        0     0      0      0        1       1          -1   \n2            -5       -1    -1     -1     -1       -1      -1           1   \n3             0        0     0      0      1        0       1          -1   \n4             5        0     0      1      0        0       1           1   \n..          ...      ...   ...    ...    ...      ...     ...         ...   \n355           0        0     0      0      0        1       1          -1   \n356           2        0     0      0      0        1       1          -1   \n357           0        0     0      0      1        0      -1           1   \n358           2        1     0      0      0        0      -1           1   \n359           5        0     1      0      0        0       1          -1   \n\n     No change  \n0           -1  \n1            1  \n2           -1  \n3            1  \n4           -1  \n..         ...  \n355         -1  \n356          1  \n357         -1  \n358          1  \n359         -1  \n\n[360 rows x 9 columns]",
      "text/html": "<div>\n<style scoped>\n    .dataframe tbody tr th:only-of-type {\n        vertical-align: middle;\n    }\n\n    .dataframe tbody tr th {\n        vertical-align: top;\n    }\n\n    .dataframe thead th {\n        text-align: right;\n    }\n</style>\n<table border=\"1\" class=\"dataframe\">\n  <thead>\n    <tr style=\"text-align: right;\">\n      <th></th>\n      <th>Price Cont</th>\n      <th>All RES</th>\n      <th>wind</th>\n      <th>solar</th>\n      <th>hydro</th>\n      <th>biomass</th>\n      <th>Slovak</th>\n      <th>Can Change</th>\n      <th>No change</th>\n    </tr>\n  </thead>\n  <tbody>\n    <tr>\n      <th>0</th>\n      <td>-5</td>\n      <td>-1</td>\n      <td>-1</td>\n      <td>-1</td>\n      <td>-1</td>\n      <td>-1</td>\n      <td>-1</td>\n      <td>1</td>\n      <td>-1</td>\n    </tr>\n    <tr>\n      <th>1</th>\n      <td>0</td>\n      <td>0</td>\n      <td>0</td>\n      <td>0</td>\n      <td>0</td>\n      <td>1</td>\n      <td>1</td>\n      <td>-1</td>\n      <td>1</td>\n    </tr>\n    <tr>\n      <th>2</th>\n      <td>-5</td>\n      <td>-1</td>\n      <td>-1</td>\n      <td>-1</td>\n      <td>-1</td>\n      <td>-1</td>\n      <td>-1</td>\n      <td>1</td>\n      <td>-1</td>\n    </tr>\n    <tr>\n      <th>3</th>\n      <td>0</td>\n      <td>0</td>\n      <td>0</td>\n      <td>0</td>\n      <td>1</td>\n      <td>0</td>\n      <td>1</td>\n      <td>-1</td>\n      <td>1</td>\n    </tr>\n    <tr>\n      <th>4</th>\n      <td>5</td>\n      <td>0</td>\n      <td>0</td>\n      <td>1</td>\n      <td>0</td>\n      <td>0</td>\n      <td>1</td>\n      <td>1</td>\n      <td>-1</td>\n    </tr>\n    <tr>\n      <th>...</th>\n      <td>...</td>\n      <td>...</td>\n      <td>...</td>\n      <td>...</td>\n      <td>...</td>\n      <td>...</td>\n      <td>...</td>\n      <td>...</td>\n      <td>...</td>\n    </tr>\n    <tr>\n      <th>355</th>\n      <td>0</td>\n      <td>0</td>\n      <td>0</td>\n      <td>0</td>\n      <td>0</td>\n      <td>1</td>\n      <td>1</td>\n      <td>-1</td>\n      <td>-1</td>\n    </tr>\n    <tr>\n      <th>356</th>\n      <td>2</td>\n      <td>0</td>\n      <td>0</td>\n      <td>0</td>\n      <td>0</td>\n      <td>1</td>\n      <td>1</td>\n      <td>-1</td>\n      <td>1</td>\n    </tr>\n    <tr>\n      <th>357</th>\n      <td>0</td>\n      <td>0</td>\n      <td>0</td>\n      <td>0</td>\n      <td>1</td>\n      <td>0</td>\n      <td>-1</td>\n      <td>1</td>\n      <td>-1</td>\n    </tr>\n    <tr>\n      <th>358</th>\n      <td>2</td>\n      <td>1</td>\n      <td>0</td>\n      <td>0</td>\n      <td>0</td>\n      <td>0</td>\n      <td>-1</td>\n      <td>1</td>\n      <td>1</td>\n    </tr>\n    <tr>\n      <th>359</th>\n      <td>5</td>\n      <td>0</td>\n      <td>1</td>\n      <td>0</td>\n      <td>0</td>\n      <td>0</td>\n      <td>1</td>\n      <td>-1</td>\n      <td>-1</td>\n    </tr>\n  </tbody>\n</table>\n<p>360 rows × 9 columns</p>\n</div>"
     },
     "execution_count": 60,
     "metadata": {},
     "output_type": "execute_result"
    }
   ],
   "source": [
    "x_predict_regress = x_predict.iloc[:,:9]\n",
    "x_predict_regress"
   ],
   "metadata": {
    "collapsed": false,
    "pycharm": {
     "name": "#%%\n"
    }
   }
  },
  {
   "cell_type": "code",
   "execution_count": 61,
   "outputs": [
    {
     "data": {
      "text/plain": "     Price Cont  All RES   wind  solar  hydro  biomass  Slovak  Can Change  \\\n0         0.675   -0.346  0.016 -0.448 -0.063    0.411  -0.408       0.256   \n1        -0.000    0.000 -0.000  0.000  0.000   -0.411   0.408      -0.256   \n2         0.675   -0.346  0.016 -0.448 -0.063    0.411  -0.408       0.256   \n3        -0.000    0.000 -0.000  0.000  0.063   -0.000   0.408      -0.256   \n4        -0.675    0.000 -0.000  0.448  0.000   -0.000   0.408       0.256   \n..          ...      ...    ...    ...    ...      ...     ...         ...   \n355      -0.000    0.000 -0.000  0.000  0.000   -0.411   0.408      -0.256   \n356      -0.270    0.000 -0.000  0.000  0.000   -0.411   0.408      -0.256   \n357      -0.000    0.000 -0.000  0.000  0.063   -0.000  -0.408       0.256   \n358      -0.270    0.346 -0.000  0.000  0.000   -0.000  -0.408       0.256   \n359      -0.675    0.000 -0.016  0.000  0.000   -0.000   0.408      -0.256   \n\n     No change  \n0        -0.18  \n1         0.18  \n2        -0.18  \n3         0.18  \n4        -0.18  \n..         ...  \n355      -0.18  \n356       0.18  \n357      -0.18  \n358       0.18  \n359      -0.18  \n\n[360 rows x 9 columns]",
      "text/html": "<div>\n<style scoped>\n    .dataframe tbody tr th:only-of-type {\n        vertical-align: middle;\n    }\n\n    .dataframe tbody tr th {\n        vertical-align: top;\n    }\n\n    .dataframe thead th {\n        text-align: right;\n    }\n</style>\n<table border=\"1\" class=\"dataframe\">\n  <thead>\n    <tr style=\"text-align: right;\">\n      <th></th>\n      <th>Price Cont</th>\n      <th>All RES</th>\n      <th>wind</th>\n      <th>solar</th>\n      <th>hydro</th>\n      <th>biomass</th>\n      <th>Slovak</th>\n      <th>Can Change</th>\n      <th>No change</th>\n    </tr>\n  </thead>\n  <tbody>\n    <tr>\n      <th>0</th>\n      <td>0.675</td>\n      <td>-0.346</td>\n      <td>0.016</td>\n      <td>-0.448</td>\n      <td>-0.063</td>\n      <td>0.411</td>\n      <td>-0.408</td>\n      <td>0.256</td>\n      <td>-0.18</td>\n    </tr>\n    <tr>\n      <th>1</th>\n      <td>-0.000</td>\n      <td>0.000</td>\n      <td>-0.000</td>\n      <td>0.000</td>\n      <td>0.000</td>\n      <td>-0.411</td>\n      <td>0.408</td>\n      <td>-0.256</td>\n      <td>0.18</td>\n    </tr>\n    <tr>\n      <th>2</th>\n      <td>0.675</td>\n      <td>-0.346</td>\n      <td>0.016</td>\n      <td>-0.448</td>\n      <td>-0.063</td>\n      <td>0.411</td>\n      <td>-0.408</td>\n      <td>0.256</td>\n      <td>-0.18</td>\n    </tr>\n    <tr>\n      <th>3</th>\n      <td>-0.000</td>\n      <td>0.000</td>\n      <td>-0.000</td>\n      <td>0.000</td>\n      <td>0.063</td>\n      <td>-0.000</td>\n      <td>0.408</td>\n      <td>-0.256</td>\n      <td>0.18</td>\n    </tr>\n    <tr>\n      <th>4</th>\n      <td>-0.675</td>\n      <td>0.000</td>\n      <td>-0.000</td>\n      <td>0.448</td>\n      <td>0.000</td>\n      <td>-0.000</td>\n      <td>0.408</td>\n      <td>0.256</td>\n      <td>-0.18</td>\n    </tr>\n    <tr>\n      <th>...</th>\n      <td>...</td>\n      <td>...</td>\n      <td>...</td>\n      <td>...</td>\n      <td>...</td>\n      <td>...</td>\n      <td>...</td>\n      <td>...</td>\n      <td>...</td>\n    </tr>\n    <tr>\n      <th>355</th>\n      <td>-0.000</td>\n      <td>0.000</td>\n      <td>-0.000</td>\n      <td>0.000</td>\n      <td>0.000</td>\n      <td>-0.411</td>\n      <td>0.408</td>\n      <td>-0.256</td>\n      <td>-0.18</td>\n    </tr>\n    <tr>\n      <th>356</th>\n      <td>-0.270</td>\n      <td>0.000</td>\n      <td>-0.000</td>\n      <td>0.000</td>\n      <td>0.000</td>\n      <td>-0.411</td>\n      <td>0.408</td>\n      <td>-0.256</td>\n      <td>0.18</td>\n    </tr>\n    <tr>\n      <th>357</th>\n      <td>-0.000</td>\n      <td>0.000</td>\n      <td>-0.000</td>\n      <td>0.000</td>\n      <td>0.063</td>\n      <td>-0.000</td>\n      <td>-0.408</td>\n      <td>0.256</td>\n      <td>-0.18</td>\n    </tr>\n    <tr>\n      <th>358</th>\n      <td>-0.270</td>\n      <td>0.346</td>\n      <td>-0.000</td>\n      <td>0.000</td>\n      <td>0.000</td>\n      <td>-0.000</td>\n      <td>-0.408</td>\n      <td>0.256</td>\n      <td>0.18</td>\n    </tr>\n    <tr>\n      <th>359</th>\n      <td>-0.675</td>\n      <td>0.000</td>\n      <td>-0.016</td>\n      <td>0.000</td>\n      <td>0.000</td>\n      <td>-0.000</td>\n      <td>0.408</td>\n      <td>-0.256</td>\n      <td>-0.18</td>\n    </tr>\n  </tbody>\n</table>\n<p>360 rows × 9 columns</p>\n</div>"
     },
     "execution_count": 61,
     "metadata": {},
     "output_type": "execute_result"
    }
   ],
   "source": [
    "x_predict_regress_1 =  x_predict_regress * [-0.135,0.346,-0.016,0.448,0.063,-0.411,0.408,0.256,0.180]\n",
    "x_predict_regress_1"
   ],
   "metadata": {
    "collapsed": false,
    "pycharm": {
     "name": "#%%\n"
    }
   }
  },
  {
   "cell_type": "code",
   "execution_count": 62,
   "outputs": [
    {
     "data": {
      "text/plain": "0     -0.087\n1     -0.079\n2     -0.087\n3      0.395\n4      0.257\n       ...  \n355   -0.439\n356   -0.349\n357   -0.269\n358    0.104\n359   -0.719\nLength: 360, dtype: float64"
     },
     "execution_count": 62,
     "metadata": {},
     "output_type": "execute_result"
    }
   ],
   "source": [
    "y_predict_regress = x_predict_regress_1.sum(axis=1)\n",
    "y_predict_regress"
   ],
   "metadata": {
    "collapsed": false,
    "pycharm": {
     "name": "#%%\n"
    }
   }
  },
  {
   "cell_type": "code",
   "execution_count": 64,
   "outputs": [
    {
     "data": {
      "text/plain": "         0\n0   -0.087\n1   -0.079\n2   -0.087\n3    0.395\n4    0.257\n..     ...\n355 -0.439\n356 -0.349\n357 -0.269\n358  0.104\n359 -0.719\n\n[360 rows x 1 columns]",
      "text/html": "<div>\n<style scoped>\n    .dataframe tbody tr th:only-of-type {\n        vertical-align: middle;\n    }\n\n    .dataframe tbody tr th {\n        vertical-align: top;\n    }\n\n    .dataframe thead th {\n        text-align: right;\n    }\n</style>\n<table border=\"1\" class=\"dataframe\">\n  <thead>\n    <tr style=\"text-align: right;\">\n      <th></th>\n      <th>0</th>\n    </tr>\n  </thead>\n  <tbody>\n    <tr>\n      <th>0</th>\n      <td>-0.087</td>\n    </tr>\n    <tr>\n      <th>1</th>\n      <td>-0.079</td>\n    </tr>\n    <tr>\n      <th>2</th>\n      <td>-0.087</td>\n    </tr>\n    <tr>\n      <th>3</th>\n      <td>0.395</td>\n    </tr>\n    <tr>\n      <th>4</th>\n      <td>0.257</td>\n    </tr>\n    <tr>\n      <th>...</th>\n      <td>...</td>\n    </tr>\n    <tr>\n      <th>355</th>\n      <td>-0.439</td>\n    </tr>\n    <tr>\n      <th>356</th>\n      <td>-0.349</td>\n    </tr>\n    <tr>\n      <th>357</th>\n      <td>-0.269</td>\n    </tr>\n    <tr>\n      <th>358</th>\n      <td>0.104</td>\n    </tr>\n    <tr>\n      <th>359</th>\n      <td>-0.719</td>\n    </tr>\n  </tbody>\n</table>\n<p>360 rows × 1 columns</p>\n</div>"
     },
     "execution_count": 64,
     "metadata": {},
     "output_type": "execute_result"
    }
   ],
   "source": [
    "y_predict_regress_df = pd.DataFrame(y_predict_regress)\n",
    "y_predict_regress_df"
   ],
   "metadata": {
    "collapsed": false,
    "pycharm": {
     "name": "#%%\n"
    }
   }
  },
  {
   "cell_type": "code",
   "execution_count": 73,
   "outputs": [],
   "source": [
    "def compare(x,y):\n",
    "    x_val = 0\n",
    "    y_val = 0\n",
    "    if x > y:\n",
    "        x_val = 1\n",
    "    else:\n",
    "        y_val = 1\n",
    "    return x_val, y_val"
   ],
   "metadata": {
    "collapsed": false,
    "pycharm": {
     "name": "#%%\n"
    }
   }
  },
  {
   "cell_type": "code",
   "execution_count": 102,
   "outputs": [],
   "source": [
    "output = []\n",
    "index = 0\n",
    "while index <= (len(y_predict_regress_df)-1):\n",
    "    values = compare(y_predict_regress_df[0].iloc[index],y_predict_regress_df[0].iloc[index+1])\n",
    "    output.append(values[0])\n",
    "    output.append(values[1])\n",
    "    index = index + 2"
   ],
   "metadata": {
    "collapsed": false,
    "pycharm": {
     "name": "#%%\n"
    }
   }
  },
  {
   "cell_type": "code",
   "execution_count": 105,
   "outputs": [
    {
     "data": {
      "text/plain": "         0  predicted\n0   -0.087          0\n1   -0.079          1\n2   -0.087          0\n3    0.395          1\n4    0.257          1\n..     ...        ...\n355 -0.439          0\n356 -0.349          0\n357 -0.269          1\n358  0.104          1\n359 -0.719          0\n\n[360 rows x 2 columns]",
      "text/html": "<div>\n<style scoped>\n    .dataframe tbody tr th:only-of-type {\n        vertical-align: middle;\n    }\n\n    .dataframe tbody tr th {\n        vertical-align: top;\n    }\n\n    .dataframe thead th {\n        text-align: right;\n    }\n</style>\n<table border=\"1\" class=\"dataframe\">\n  <thead>\n    <tr style=\"text-align: right;\">\n      <th></th>\n      <th>0</th>\n      <th>predicted</th>\n    </tr>\n  </thead>\n  <tbody>\n    <tr>\n      <th>0</th>\n      <td>-0.087</td>\n      <td>0</td>\n    </tr>\n    <tr>\n      <th>1</th>\n      <td>-0.079</td>\n      <td>1</td>\n    </tr>\n    <tr>\n      <th>2</th>\n      <td>-0.087</td>\n      <td>0</td>\n    </tr>\n    <tr>\n      <th>3</th>\n      <td>0.395</td>\n      <td>1</td>\n    </tr>\n    <tr>\n      <th>4</th>\n      <td>0.257</td>\n      <td>1</td>\n    </tr>\n    <tr>\n      <th>...</th>\n      <td>...</td>\n      <td>...</td>\n    </tr>\n    <tr>\n      <th>355</th>\n      <td>-0.439</td>\n      <td>0</td>\n    </tr>\n    <tr>\n      <th>356</th>\n      <td>-0.349</td>\n      <td>0</td>\n    </tr>\n    <tr>\n      <th>357</th>\n      <td>-0.269</td>\n      <td>1</td>\n    </tr>\n    <tr>\n      <th>358</th>\n      <td>0.104</td>\n      <td>1</td>\n    </tr>\n    <tr>\n      <th>359</th>\n      <td>-0.719</td>\n      <td>0</td>\n    </tr>\n  </tbody>\n</table>\n<p>360 rows × 2 columns</p>\n</div>"
     },
     "execution_count": 105,
     "metadata": {},
     "output_type": "execute_result"
    }
   ],
   "source": [
    "y_predict_regress_df['predicted'] = output\n",
    "y_predict_regress_df"
   ],
   "metadata": {
    "collapsed": false,
    "pycharm": {
     "name": "#%%\n"
    }
   }
  },
  {
   "cell_type": "code",
   "execution_count": 106,
   "outputs": [
    {
     "name": "stdout",
     "output_type": "stream",
     "text": [
      "0.5277777777777778\n"
     ]
    }
   ],
   "source": [
    "print(accuracy_score(y_predict, y_predict_regress_df['predicted']))"
   ],
   "metadata": {
    "collapsed": false,
    "pycharm": {
     "name": "#%%\n"
    }
   }
  },
  {
   "cell_type": "markdown",
   "source": [
    "MIXED EFFECTS RANDOM FOREST"
   ],
   "metadata": {
    "collapsed": false,
    "pycharm": {
     "name": "#%% md\n"
    }
   }
  },
  {
   "cell_type": "code",
   "execution_count": 277,
   "outputs": [
    {
     "name": "stdout",
     "output_type": "stream",
     "text": [
      "Collecting merf\r\n",
      "  Downloading merf-1.0-py3-none-any.whl (14 kB)\r\n",
      "Requirement already satisfied: numpy in /Users/dominikmecko/opt/anaconda3/lib/python3.8/site-packages (from merf) (1.20.1)\r\n",
      "Requirement already satisfied: scikit-learn in /Users/dominikmecko/opt/anaconda3/lib/python3.8/site-packages (from merf) (0.24.1)\r\n",
      "Requirement already satisfied: pandas>=1.0 in /Users/dominikmecko/opt/anaconda3/lib/python3.8/site-packages (from merf) (1.2.4)\r\n",
      "Requirement already satisfied: matplotlib>=3.0 in /Users/dominikmecko/opt/anaconda3/lib/python3.8/site-packages (from merf) (3.3.4)\r\n",
      "Requirement already satisfied: cycler>=0.10 in /Users/dominikmecko/opt/anaconda3/lib/python3.8/site-packages (from matplotlib>=3.0->merf) (0.10.0)\r\n",
      "Requirement already satisfied: kiwisolver>=1.0.1 in /Users/dominikmecko/opt/anaconda3/lib/python3.8/site-packages (from matplotlib>=3.0->merf) (1.3.1)\r\n",
      "Requirement already satisfied: pyparsing!=2.0.4,!=2.1.2,!=2.1.6,>=2.0.3 in /Users/dominikmecko/opt/anaconda3/lib/python3.8/site-packages (from matplotlib>=3.0->merf) (2.4.7)\r\n",
      "Requirement already satisfied: pillow>=6.2.0 in /Users/dominikmecko/opt/anaconda3/lib/python3.8/site-packages (from matplotlib>=3.0->merf) (8.2.0)\r\n",
      "Requirement already satisfied: python-dateutil>=2.1 in /Users/dominikmecko/opt/anaconda3/lib/python3.8/site-packages (from matplotlib>=3.0->merf) (2.8.1)\r\n",
      "Requirement already satisfied: pytz>=2017.3 in /Users/dominikmecko/opt/anaconda3/lib/python3.8/site-packages (from pandas>=1.0->merf) (2021.1)\r\n",
      "Requirement already satisfied: joblib>=0.11 in /Users/dominikmecko/opt/anaconda3/lib/python3.8/site-packages (from scikit-learn->merf) (1.0.1)\r\n",
      "Requirement already satisfied: threadpoolctl>=2.0.0 in /Users/dominikmecko/opt/anaconda3/lib/python3.8/site-packages (from scikit-learn->merf) (2.1.0)\r\n",
      "Requirement already satisfied: scipy>=0.19.1 in /Users/dominikmecko/opt/anaconda3/lib/python3.8/site-packages (from scikit-learn->merf) (1.6.2)\r\n",
      "Requirement already satisfied: six in /Users/dominikmecko/opt/anaconda3/lib/python3.8/site-packages (from cycler>=0.10->matplotlib>=3.0->merf) (1.15.0)\r\n",
      "Installing collected packages: merf\r\n",
      "Successfully installed merf-1.0\r\n",
      "\u001B[33mWARNING: You are using pip version 21.3.1; however, version 22.1.1 is available.\r\n",
      "You should consider upgrading via the '/Users/dominikmecko/opt/anaconda3/bin/python -m pip install --upgrade pip' command.\u001B[0m\r\n",
      "Note: you may need to restart the kernel to use updated packages.\n"
     ]
    }
   ],
   "source": [
    "pip install merf"
   ],
   "metadata": {
    "collapsed": false,
    "pycharm": {
     "name": "#%%\n"
    }
   }
  },
  {
   "cell_type": "code",
   "execution_count": 122,
   "outputs": [],
   "source": [
    "from merf.merf import MERF\n",
    "from merf.viz import plot_merf_training_stats"
   ],
   "metadata": {
    "collapsed": false,
    "pycharm": {
     "name": "#%%\n"
    }
   }
  },
  {
   "cell_type": "code",
   "execution_count": 154,
   "outputs": [],
   "source": [
    "respondents = pd.DataFrame(merged1['ResponseId'].unique())"
   ],
   "metadata": {
    "collapsed": false,
    "pycharm": {
     "name": "#%%\n"
    }
   }
  },
  {
   "cell_type": "code",
   "execution_count": 200,
   "outputs": [
    {
     "name": "stdout",
     "output_type": "stream",
     "text": [
      "[29, 74, 68, 15, 46, 76, 59, 79, 73, 7, 106, 0, 105, 32, 69, 28, 23, 90, 99, 109, 97, 93, 49, 80, 18, 96, 88, 87, 65, 48, 100, 102, 19, 110, 4, 37, 2, 33, 94, 82, 53, 89, 55, 16, 45, 11, 3, 92, 62, 26, 108, 60, 42, 63, 72, 39, 71, 84, 25, 31, 95, 35, 21, 78, 36, 91, 47, 13, 20, 103, 81, 64, 101, 9, 104, 57, 50, 5, 12, 40, 17, 6, 1, 14, 58, 56, 86, 111, 10, 24]\n"
     ]
    }
   ],
   "source": [
    "import random\n",
    "#Generate 5 random numbers between 10 and 30\n",
    "random.seed(3)\n",
    "random_x = random.sample(range(-1, 112), int(113*0.8))\n",
    "print(random_x)"
   ],
   "metadata": {
    "collapsed": false,
    "pycharm": {
     "name": "#%%\n"
    }
   }
  },
  {
   "cell_type": "code",
   "execution_count": 201,
   "outputs": [
    {
     "name": "stdout",
     "output_type": "stream",
     "text": [
      "[8, 22, 27, 30, 34, 38, 41, 43, 44, 51, 52, 54, 61, 66, 67, 70, 75, 77, 83, 85, 98, 107]\n"
     ]
    }
   ],
   "source": [
    "random_x.sort()\n",
    "random_y = [item for item in range(random_x[0], random_x[-1]+1) if item not in random_x]\n",
    "print(random_y)"
   ],
   "metadata": {
    "collapsed": false,
    "pycharm": {
     "name": "#%%\n"
    }
   }
  },
  {
   "cell_type": "code",
   "execution_count": 202,
   "outputs": [
    {
     "name": "stdout",
     "output_type": "stream",
     "text": [
      "90 22\n"
     ]
    }
   ],
   "source": [
    "print(len(random_x),len(random_y))"
   ],
   "metadata": {
    "collapsed": false,
    "pycharm": {
     "name": "#%%\n"
    }
   }
  },
  {
   "cell_type": "code",
   "execution_count": 216,
   "outputs": [],
   "source": [
    "#Random Xs\n",
    "resp_x = respondents.iloc[random_x]\n",
    "\n",
    "resp_x_list = resp_x[0].values.tolist()\n",
    "\n",
    "merged1_train = merged1[merged1['ResponseId'].isin(resp_x_list)]"
   ],
   "metadata": {
    "collapsed": false,
    "pycharm": {
     "name": "#%%\n"
    }
   }
  },
  {
   "cell_type": "code",
   "execution_count": 217,
   "outputs": [],
   "source": [
    "#Random Ys\n",
    "resp_y = respondents.iloc[random_y]\n",
    "\n",
    "resp_y_list = resp_y[0].values.tolist()\n",
    "\n",
    "merged1_test = merged1[merged1['ResponseId'].isin(resp_y_list)]"
   ],
   "metadata": {
    "collapsed": false,
    "pycharm": {
     "name": "#%%\n"
    }
   }
  },
  {
   "cell_type": "code",
   "execution_count": 219,
   "outputs": [
    {
     "data": {
      "text/plain": "             ResponseId    SetID  value  Real Price  Price Cont  PriceMin5  \\\n0     R_1pzMUhhsh8aVRYi   Set1_a      0          45          -5          1   \n1     R_1pzMUhhsh8aVRYi   Set1_b      1          50           0          0   \n2     R_1pzMUhhsh8aVRYi   Set2_a      0          45          -5          1   \n3     R_1pzMUhhsh8aVRYi   Set2_b      1          50           0          0   \n4     R_1pzMUhhsh8aVRYi   Set3_a      0          55           5         -1   \n...                 ...      ...    ...         ...         ...        ...   \n2683  R_2sZ9jGAmaddENVs  Set10_b      0          75           0          0   \n2684  R_2sZ9jGAmaddENVs  Set11_a      0          77           2          0   \n2685  R_2sZ9jGAmaddENVs  Set11_b      1          75           0          0   \n2686  R_2sZ9jGAmaddENVs  Set12_a      0          77           2          0   \n2687  R_2sZ9jGAmaddENVs  Set12_b      1          80           5         -1   \n\n      Price0  Price2  All RES  wind  ...  Concern_1  RES_attitude_1  \\\n0          0       0       -1    -1  ...          1               4   \n1          1       0        0     0  ...          1               4   \n2          0       0       -1    -1  ...          1               4   \n3          1       0        0     0  ...          1               4   \n4         -1      -1        0     0  ...          1               4   \n...      ...     ...      ...   ...  ...        ...             ...   \n2683       1       0        0     0  ...          2               4   \n2684       0       1        0     0  ...          2               4   \n2685       1       0        0     0  ...          2               4   \n2686       0       1        1     0  ...          2               4   \n2687      -1      -1        0     1  ...          2               4   \n\n      Know_green_provider  Providers_count  Appliance_count  Task_temp  \\\n0                       0                1                4          4   \n1                       0                1                4          4   \n2                       0                1                4          4   \n3                       0                1                4          4   \n4                       0                1                4          4   \n...                   ...              ...              ...        ...   \n2683                    0                2                4          5   \n2684                    0                2                4          5   \n2685                    0                2                4          5   \n2686                    0                2                4          5   \n2687                    0                2                4          5   \n\n      Task_consumption Task_appliances Task_source  SetID_1  \n0                    5               5           2        1  \n1                    5               5           2        1  \n2                    5               5           2        2  \n3                    5               5           2        2  \n4                    5               5           2        3  \n...                ...             ...         ...      ...  \n2683                 5               5           3       10  \n2684                 5               5           3       11  \n2685                 5               5           3       11  \n2686                 5               5           3       12  \n2687                 5               5           3       12  \n\n[2160 rows x 35 columns]",
      "text/html": "<div>\n<style scoped>\n    .dataframe tbody tr th:only-of-type {\n        vertical-align: middle;\n    }\n\n    .dataframe tbody tr th {\n        vertical-align: top;\n    }\n\n    .dataframe thead th {\n        text-align: right;\n    }\n</style>\n<table border=\"1\" class=\"dataframe\">\n  <thead>\n    <tr style=\"text-align: right;\">\n      <th></th>\n      <th>ResponseId</th>\n      <th>SetID</th>\n      <th>value</th>\n      <th>Real Price</th>\n      <th>Price Cont</th>\n      <th>PriceMin5</th>\n      <th>Price0</th>\n      <th>Price2</th>\n      <th>All RES</th>\n      <th>wind</th>\n      <th>...</th>\n      <th>Concern_1</th>\n      <th>RES_attitude_1</th>\n      <th>Know_green_provider</th>\n      <th>Providers_count</th>\n      <th>Appliance_count</th>\n      <th>Task_temp</th>\n      <th>Task_consumption</th>\n      <th>Task_appliances</th>\n      <th>Task_source</th>\n      <th>SetID_1</th>\n    </tr>\n  </thead>\n  <tbody>\n    <tr>\n      <th>0</th>\n      <td>R_1pzMUhhsh8aVRYi</td>\n      <td>Set1_a</td>\n      <td>0</td>\n      <td>45</td>\n      <td>-5</td>\n      <td>1</td>\n      <td>0</td>\n      <td>0</td>\n      <td>-1</td>\n      <td>-1</td>\n      <td>...</td>\n      <td>1</td>\n      <td>4</td>\n      <td>0</td>\n      <td>1</td>\n      <td>4</td>\n      <td>4</td>\n      <td>5</td>\n      <td>5</td>\n      <td>2</td>\n      <td>1</td>\n    </tr>\n    <tr>\n      <th>1</th>\n      <td>R_1pzMUhhsh8aVRYi</td>\n      <td>Set1_b</td>\n      <td>1</td>\n      <td>50</td>\n      <td>0</td>\n      <td>0</td>\n      <td>1</td>\n      <td>0</td>\n      <td>0</td>\n      <td>0</td>\n      <td>...</td>\n      <td>1</td>\n      <td>4</td>\n      <td>0</td>\n      <td>1</td>\n      <td>4</td>\n      <td>4</td>\n      <td>5</td>\n      <td>5</td>\n      <td>2</td>\n      <td>1</td>\n    </tr>\n    <tr>\n      <th>2</th>\n      <td>R_1pzMUhhsh8aVRYi</td>\n      <td>Set2_a</td>\n      <td>0</td>\n      <td>45</td>\n      <td>-5</td>\n      <td>1</td>\n      <td>0</td>\n      <td>0</td>\n      <td>-1</td>\n      <td>-1</td>\n      <td>...</td>\n      <td>1</td>\n      <td>4</td>\n      <td>0</td>\n      <td>1</td>\n      <td>4</td>\n      <td>4</td>\n      <td>5</td>\n      <td>5</td>\n      <td>2</td>\n      <td>2</td>\n    </tr>\n    <tr>\n      <th>3</th>\n      <td>R_1pzMUhhsh8aVRYi</td>\n      <td>Set2_b</td>\n      <td>1</td>\n      <td>50</td>\n      <td>0</td>\n      <td>0</td>\n      <td>1</td>\n      <td>0</td>\n      <td>0</td>\n      <td>0</td>\n      <td>...</td>\n      <td>1</td>\n      <td>4</td>\n      <td>0</td>\n      <td>1</td>\n      <td>4</td>\n      <td>4</td>\n      <td>5</td>\n      <td>5</td>\n      <td>2</td>\n      <td>2</td>\n    </tr>\n    <tr>\n      <th>4</th>\n      <td>R_1pzMUhhsh8aVRYi</td>\n      <td>Set3_a</td>\n      <td>0</td>\n      <td>55</td>\n      <td>5</td>\n      <td>-1</td>\n      <td>-1</td>\n      <td>-1</td>\n      <td>0</td>\n      <td>0</td>\n      <td>...</td>\n      <td>1</td>\n      <td>4</td>\n      <td>0</td>\n      <td>1</td>\n      <td>4</td>\n      <td>4</td>\n      <td>5</td>\n      <td>5</td>\n      <td>2</td>\n      <td>3</td>\n    </tr>\n    <tr>\n      <th>...</th>\n      <td>...</td>\n      <td>...</td>\n      <td>...</td>\n      <td>...</td>\n      <td>...</td>\n      <td>...</td>\n      <td>...</td>\n      <td>...</td>\n      <td>...</td>\n      <td>...</td>\n      <td>...</td>\n      <td>...</td>\n      <td>...</td>\n      <td>...</td>\n      <td>...</td>\n      <td>...</td>\n      <td>...</td>\n      <td>...</td>\n      <td>...</td>\n      <td>...</td>\n      <td>...</td>\n    </tr>\n    <tr>\n      <th>2683</th>\n      <td>R_2sZ9jGAmaddENVs</td>\n      <td>Set10_b</td>\n      <td>0</td>\n      <td>75</td>\n      <td>0</td>\n      <td>0</td>\n      <td>1</td>\n      <td>0</td>\n      <td>0</td>\n      <td>0</td>\n      <td>...</td>\n      <td>2</td>\n      <td>4</td>\n      <td>0</td>\n      <td>2</td>\n      <td>4</td>\n      <td>5</td>\n      <td>5</td>\n      <td>5</td>\n      <td>3</td>\n      <td>10</td>\n    </tr>\n    <tr>\n      <th>2684</th>\n      <td>R_2sZ9jGAmaddENVs</td>\n      <td>Set11_a</td>\n      <td>0</td>\n      <td>77</td>\n      <td>2</td>\n      <td>0</td>\n      <td>0</td>\n      <td>1</td>\n      <td>0</td>\n      <td>0</td>\n      <td>...</td>\n      <td>2</td>\n      <td>4</td>\n      <td>0</td>\n      <td>2</td>\n      <td>4</td>\n      <td>5</td>\n      <td>5</td>\n      <td>5</td>\n      <td>3</td>\n      <td>11</td>\n    </tr>\n    <tr>\n      <th>2685</th>\n      <td>R_2sZ9jGAmaddENVs</td>\n      <td>Set11_b</td>\n      <td>1</td>\n      <td>75</td>\n      <td>0</td>\n      <td>0</td>\n      <td>1</td>\n      <td>0</td>\n      <td>0</td>\n      <td>0</td>\n      <td>...</td>\n      <td>2</td>\n      <td>4</td>\n      <td>0</td>\n      <td>2</td>\n      <td>4</td>\n      <td>5</td>\n      <td>5</td>\n      <td>5</td>\n      <td>3</td>\n      <td>11</td>\n    </tr>\n    <tr>\n      <th>2686</th>\n      <td>R_2sZ9jGAmaddENVs</td>\n      <td>Set12_a</td>\n      <td>0</td>\n      <td>77</td>\n      <td>2</td>\n      <td>0</td>\n      <td>0</td>\n      <td>1</td>\n      <td>1</td>\n      <td>0</td>\n      <td>...</td>\n      <td>2</td>\n      <td>4</td>\n      <td>0</td>\n      <td>2</td>\n      <td>4</td>\n      <td>5</td>\n      <td>5</td>\n      <td>5</td>\n      <td>3</td>\n      <td>12</td>\n    </tr>\n    <tr>\n      <th>2687</th>\n      <td>R_2sZ9jGAmaddENVs</td>\n      <td>Set12_b</td>\n      <td>1</td>\n      <td>80</td>\n      <td>5</td>\n      <td>-1</td>\n      <td>-1</td>\n      <td>-1</td>\n      <td>0</td>\n      <td>1</td>\n      <td>...</td>\n      <td>2</td>\n      <td>4</td>\n      <td>0</td>\n      <td>2</td>\n      <td>4</td>\n      <td>5</td>\n      <td>5</td>\n      <td>5</td>\n      <td>3</td>\n      <td>12</td>\n    </tr>\n  </tbody>\n</table>\n<p>2160 rows × 35 columns</p>\n</div>"
     },
     "execution_count": 219,
     "metadata": {},
     "output_type": "execute_result"
    }
   ],
   "source": [
    "merged1_train"
   ],
   "metadata": {
    "collapsed": false,
    "pycharm": {
     "name": "#%%\n"
    }
   }
  },
  {
   "cell_type": "code",
   "execution_count": 220,
   "outputs": [
    {
     "data": {
      "text/plain": "             ResponseId    SetID  value  Real Price  Price Cont  PriceMin5  \\\n192   R_WfIQ2lp0BvRxXkl   Set1_a      0          25          -5          1   \n193   R_WfIQ2lp0BvRxXkl   Set1_b      1          30           0          0   \n194   R_WfIQ2lp0BvRxXkl   Set2_a      0          25          -5          1   \n195   R_WfIQ2lp0BvRxXkl   Set2_b      1          30           0          0   \n196   R_WfIQ2lp0BvRxXkl   Set3_a      1          35           5         -1   \n...                 ...      ...    ...         ...         ...        ...   \n2587  R_e3YYeE5sB9xAcSJ  Set10_b      1          26           0          0   \n2588  R_e3YYeE5sB9xAcSJ  Set11_a      1          28           2          0   \n2589  R_e3YYeE5sB9xAcSJ  Set11_b      0          26           0          0   \n2590  R_e3YYeE5sB9xAcSJ  Set12_a      0          28           2          0   \n2591  R_e3YYeE5sB9xAcSJ  Set12_b      1          31           5         -1   \n\n      Price0  Price2  All RES  wind  ...  Concern_1  RES_attitude_1  \\\n192        0       0       -1    -1  ...          3               4   \n193        1       0        0     0  ...          3               4   \n194        0       0       -1    -1  ...          3               4   \n195        1       0        0     0  ...          3               4   \n196       -1      -1        0     0  ...          3               4   \n...      ...     ...      ...   ...  ...        ...             ...   \n2587       1       0        0     0  ...          3               4   \n2588       0       1        0     0  ...          3               4   \n2589       1       0        0     0  ...          3               4   \n2590       0       1        1     0  ...          3               4   \n2591      -1      -1        0     1  ...          3               4   \n\n      Know_green_provider  Providers_count  Appliance_count  Task_temp  \\\n192                     0                5                3          1   \n193                     0                5                3          1   \n194                     0                5                3          1   \n195                     0                5                3          1   \n196                     0                5                3          1   \n...                   ...              ...              ...        ...   \n2587                    0                2                3          4   \n2588                    0                2                3          4   \n2589                    0                2                3          4   \n2590                    0                2                3          4   \n2591                    0                2                3          4   \n\n      Task_consumption Task_appliances Task_source  SetID_1  \n192                  5               4           2        1  \n193                  5               4           2        1  \n194                  5               4           2        2  \n195                  5               4           2        2  \n196                  5               4           2        3  \n...                ...             ...         ...      ...  \n2587                 4               4           3       10  \n2588                 4               4           3       11  \n2589                 4               4           3       11  \n2590                 4               4           3       12  \n2591                 4               4           3       12  \n\n[528 rows x 35 columns]",
      "text/html": "<div>\n<style scoped>\n    .dataframe tbody tr th:only-of-type {\n        vertical-align: middle;\n    }\n\n    .dataframe tbody tr th {\n        vertical-align: top;\n    }\n\n    .dataframe thead th {\n        text-align: right;\n    }\n</style>\n<table border=\"1\" class=\"dataframe\">\n  <thead>\n    <tr style=\"text-align: right;\">\n      <th></th>\n      <th>ResponseId</th>\n      <th>SetID</th>\n      <th>value</th>\n      <th>Real Price</th>\n      <th>Price Cont</th>\n      <th>PriceMin5</th>\n      <th>Price0</th>\n      <th>Price2</th>\n      <th>All RES</th>\n      <th>wind</th>\n      <th>...</th>\n      <th>Concern_1</th>\n      <th>RES_attitude_1</th>\n      <th>Know_green_provider</th>\n      <th>Providers_count</th>\n      <th>Appliance_count</th>\n      <th>Task_temp</th>\n      <th>Task_consumption</th>\n      <th>Task_appliances</th>\n      <th>Task_source</th>\n      <th>SetID_1</th>\n    </tr>\n  </thead>\n  <tbody>\n    <tr>\n      <th>192</th>\n      <td>R_WfIQ2lp0BvRxXkl</td>\n      <td>Set1_a</td>\n      <td>0</td>\n      <td>25</td>\n      <td>-5</td>\n      <td>1</td>\n      <td>0</td>\n      <td>0</td>\n      <td>-1</td>\n      <td>-1</td>\n      <td>...</td>\n      <td>3</td>\n      <td>4</td>\n      <td>0</td>\n      <td>5</td>\n      <td>3</td>\n      <td>1</td>\n      <td>5</td>\n      <td>4</td>\n      <td>2</td>\n      <td>1</td>\n    </tr>\n    <tr>\n      <th>193</th>\n      <td>R_WfIQ2lp0BvRxXkl</td>\n      <td>Set1_b</td>\n      <td>1</td>\n      <td>30</td>\n      <td>0</td>\n      <td>0</td>\n      <td>1</td>\n      <td>0</td>\n      <td>0</td>\n      <td>0</td>\n      <td>...</td>\n      <td>3</td>\n      <td>4</td>\n      <td>0</td>\n      <td>5</td>\n      <td>3</td>\n      <td>1</td>\n      <td>5</td>\n      <td>4</td>\n      <td>2</td>\n      <td>1</td>\n    </tr>\n    <tr>\n      <th>194</th>\n      <td>R_WfIQ2lp0BvRxXkl</td>\n      <td>Set2_a</td>\n      <td>0</td>\n      <td>25</td>\n      <td>-5</td>\n      <td>1</td>\n      <td>0</td>\n      <td>0</td>\n      <td>-1</td>\n      <td>-1</td>\n      <td>...</td>\n      <td>3</td>\n      <td>4</td>\n      <td>0</td>\n      <td>5</td>\n      <td>3</td>\n      <td>1</td>\n      <td>5</td>\n      <td>4</td>\n      <td>2</td>\n      <td>2</td>\n    </tr>\n    <tr>\n      <th>195</th>\n      <td>R_WfIQ2lp0BvRxXkl</td>\n      <td>Set2_b</td>\n      <td>1</td>\n      <td>30</td>\n      <td>0</td>\n      <td>0</td>\n      <td>1</td>\n      <td>0</td>\n      <td>0</td>\n      <td>0</td>\n      <td>...</td>\n      <td>3</td>\n      <td>4</td>\n      <td>0</td>\n      <td>5</td>\n      <td>3</td>\n      <td>1</td>\n      <td>5</td>\n      <td>4</td>\n      <td>2</td>\n      <td>2</td>\n    </tr>\n    <tr>\n      <th>196</th>\n      <td>R_WfIQ2lp0BvRxXkl</td>\n      <td>Set3_a</td>\n      <td>1</td>\n      <td>35</td>\n      <td>5</td>\n      <td>-1</td>\n      <td>-1</td>\n      <td>-1</td>\n      <td>0</td>\n      <td>0</td>\n      <td>...</td>\n      <td>3</td>\n      <td>4</td>\n      <td>0</td>\n      <td>5</td>\n      <td>3</td>\n      <td>1</td>\n      <td>5</td>\n      <td>4</td>\n      <td>2</td>\n      <td>3</td>\n    </tr>\n    <tr>\n      <th>...</th>\n      <td>...</td>\n      <td>...</td>\n      <td>...</td>\n      <td>...</td>\n      <td>...</td>\n      <td>...</td>\n      <td>...</td>\n      <td>...</td>\n      <td>...</td>\n      <td>...</td>\n      <td>...</td>\n      <td>...</td>\n      <td>...</td>\n      <td>...</td>\n      <td>...</td>\n      <td>...</td>\n      <td>...</td>\n      <td>...</td>\n      <td>...</td>\n      <td>...</td>\n      <td>...</td>\n    </tr>\n    <tr>\n      <th>2587</th>\n      <td>R_e3YYeE5sB9xAcSJ</td>\n      <td>Set10_b</td>\n      <td>1</td>\n      <td>26</td>\n      <td>0</td>\n      <td>0</td>\n      <td>1</td>\n      <td>0</td>\n      <td>0</td>\n      <td>0</td>\n      <td>...</td>\n      <td>3</td>\n      <td>4</td>\n      <td>0</td>\n      <td>2</td>\n      <td>3</td>\n      <td>4</td>\n      <td>4</td>\n      <td>4</td>\n      <td>3</td>\n      <td>10</td>\n    </tr>\n    <tr>\n      <th>2588</th>\n      <td>R_e3YYeE5sB9xAcSJ</td>\n      <td>Set11_a</td>\n      <td>1</td>\n      <td>28</td>\n      <td>2</td>\n      <td>0</td>\n      <td>0</td>\n      <td>1</td>\n      <td>0</td>\n      <td>0</td>\n      <td>...</td>\n      <td>3</td>\n      <td>4</td>\n      <td>0</td>\n      <td>2</td>\n      <td>3</td>\n      <td>4</td>\n      <td>4</td>\n      <td>4</td>\n      <td>3</td>\n      <td>11</td>\n    </tr>\n    <tr>\n      <th>2589</th>\n      <td>R_e3YYeE5sB9xAcSJ</td>\n      <td>Set11_b</td>\n      <td>0</td>\n      <td>26</td>\n      <td>0</td>\n      <td>0</td>\n      <td>1</td>\n      <td>0</td>\n      <td>0</td>\n      <td>0</td>\n      <td>...</td>\n      <td>3</td>\n      <td>4</td>\n      <td>0</td>\n      <td>2</td>\n      <td>3</td>\n      <td>4</td>\n      <td>4</td>\n      <td>4</td>\n      <td>3</td>\n      <td>11</td>\n    </tr>\n    <tr>\n      <th>2590</th>\n      <td>R_e3YYeE5sB9xAcSJ</td>\n      <td>Set12_a</td>\n      <td>0</td>\n      <td>28</td>\n      <td>2</td>\n      <td>0</td>\n      <td>0</td>\n      <td>1</td>\n      <td>1</td>\n      <td>0</td>\n      <td>...</td>\n      <td>3</td>\n      <td>4</td>\n      <td>0</td>\n      <td>2</td>\n      <td>3</td>\n      <td>4</td>\n      <td>4</td>\n      <td>4</td>\n      <td>3</td>\n      <td>12</td>\n    </tr>\n    <tr>\n      <th>2591</th>\n      <td>R_e3YYeE5sB9xAcSJ</td>\n      <td>Set12_b</td>\n      <td>1</td>\n      <td>31</td>\n      <td>5</td>\n      <td>-1</td>\n      <td>-1</td>\n      <td>-1</td>\n      <td>0</td>\n      <td>1</td>\n      <td>...</td>\n      <td>3</td>\n      <td>4</td>\n      <td>0</td>\n      <td>2</td>\n      <td>3</td>\n      <td>4</td>\n      <td>4</td>\n      <td>4</td>\n      <td>3</td>\n      <td>12</td>\n    </tr>\n  </tbody>\n</table>\n<p>528 rows × 35 columns</p>\n</div>"
     },
     "execution_count": 220,
     "metadata": {},
     "output_type": "execute_result"
    }
   ],
   "source": [
    "merged1_test"
   ],
   "metadata": {
    "collapsed": false,
    "pycharm": {
     "name": "#%%\n"
    }
   }
  },
  {
   "cell_type": "code",
   "execution_count": 179,
   "outputs": [
    {
     "data": {
      "text/plain": "             ResponseId    SetID  value  Real Price  Price Cont  PriceMin5  \\\n0     R_1pzMUhhsh8aVRYi   Set1_a      0          45          -5          1   \n1     R_1pzMUhhsh8aVRYi   Set1_b      1          50           0          0   \n2     R_1pzMUhhsh8aVRYi   Set2_a      0          45          -5          1   \n3     R_1pzMUhhsh8aVRYi   Set2_b      1          50           0          0   \n4     R_1pzMUhhsh8aVRYi   Set3_a      0          55           5         -1   \n...                 ...      ...    ...         ...         ...        ...   \n2683  R_2sZ9jGAmaddENVs  Set10_b      0          75           0          0   \n2684  R_2sZ9jGAmaddENVs  Set11_a      0          77           2          0   \n2685  R_2sZ9jGAmaddENVs  Set11_b      1          75           0          0   \n2686  R_2sZ9jGAmaddENVs  Set12_a      0          77           2          0   \n2687  R_2sZ9jGAmaddENVs  Set12_b      1          80           5         -1   \n\n      Price0  Price2  All RES  wind  ...  Concern_1  RES_attitude_1  \\\n0          0       0       -1    -1  ...          1               4   \n1          1       0        0     0  ...          1               4   \n2          0       0       -1    -1  ...          1               4   \n3          1       0        0     0  ...          1               4   \n4         -1      -1        0     0  ...          1               4   \n...      ...     ...      ...   ...  ...        ...             ...   \n2683       1       0        0     0  ...          2               4   \n2684       0       1        0     0  ...          2               4   \n2685       1       0        0     0  ...          2               4   \n2686       0       1        1     0  ...          2               4   \n2687      -1      -1        0     1  ...          2               4   \n\n      Know_green_provider  Providers_count  Appliance_count  Task_temp  \\\n0                       0                1                4          4   \n1                       0                1                4          4   \n2                       0                1                4          4   \n3                       0                1                4          4   \n4                       0                1                4          4   \n...                   ...              ...              ...        ...   \n2683                    0                2                4          5   \n2684                    0                2                4          5   \n2685                    0                2                4          5   \n2686                    0                2                4          5   \n2687                    0                2                4          5   \n\n      Task_consumption Task_appliances Task_source  SetID_1  \n0                    5               5           2        1  \n1                    5               5           2        1  \n2                    5               5           2        2  \n3                    5               5           2        2  \n4                    5               5           2        3  \n...                ...             ...         ...      ...  \n2683                 5               5           3       10  \n2684                 5               5           3       11  \n2685                 5               5           3       11  \n2686                 5               5           3       12  \n2687                 5               5           3       12  \n\n[2688 rows x 35 columns]",
      "text/html": "<div>\n<style scoped>\n    .dataframe tbody tr th:only-of-type {\n        vertical-align: middle;\n    }\n\n    .dataframe tbody tr th {\n        vertical-align: top;\n    }\n\n    .dataframe thead th {\n        text-align: right;\n    }\n</style>\n<table border=\"1\" class=\"dataframe\">\n  <thead>\n    <tr style=\"text-align: right;\">\n      <th></th>\n      <th>ResponseId</th>\n      <th>SetID</th>\n      <th>value</th>\n      <th>Real Price</th>\n      <th>Price Cont</th>\n      <th>PriceMin5</th>\n      <th>Price0</th>\n      <th>Price2</th>\n      <th>All RES</th>\n      <th>wind</th>\n      <th>...</th>\n      <th>Concern_1</th>\n      <th>RES_attitude_1</th>\n      <th>Know_green_provider</th>\n      <th>Providers_count</th>\n      <th>Appliance_count</th>\n      <th>Task_temp</th>\n      <th>Task_consumption</th>\n      <th>Task_appliances</th>\n      <th>Task_source</th>\n      <th>SetID_1</th>\n    </tr>\n  </thead>\n  <tbody>\n    <tr>\n      <th>0</th>\n      <td>R_1pzMUhhsh8aVRYi</td>\n      <td>Set1_a</td>\n      <td>0</td>\n      <td>45</td>\n      <td>-5</td>\n      <td>1</td>\n      <td>0</td>\n      <td>0</td>\n      <td>-1</td>\n      <td>-1</td>\n      <td>...</td>\n      <td>1</td>\n      <td>4</td>\n      <td>0</td>\n      <td>1</td>\n      <td>4</td>\n      <td>4</td>\n      <td>5</td>\n      <td>5</td>\n      <td>2</td>\n      <td>1</td>\n    </tr>\n    <tr>\n      <th>1</th>\n      <td>R_1pzMUhhsh8aVRYi</td>\n      <td>Set1_b</td>\n      <td>1</td>\n      <td>50</td>\n      <td>0</td>\n      <td>0</td>\n      <td>1</td>\n      <td>0</td>\n      <td>0</td>\n      <td>0</td>\n      <td>...</td>\n      <td>1</td>\n      <td>4</td>\n      <td>0</td>\n      <td>1</td>\n      <td>4</td>\n      <td>4</td>\n      <td>5</td>\n      <td>5</td>\n      <td>2</td>\n      <td>1</td>\n    </tr>\n    <tr>\n      <th>2</th>\n      <td>R_1pzMUhhsh8aVRYi</td>\n      <td>Set2_a</td>\n      <td>0</td>\n      <td>45</td>\n      <td>-5</td>\n      <td>1</td>\n      <td>0</td>\n      <td>0</td>\n      <td>-1</td>\n      <td>-1</td>\n      <td>...</td>\n      <td>1</td>\n      <td>4</td>\n      <td>0</td>\n      <td>1</td>\n      <td>4</td>\n      <td>4</td>\n      <td>5</td>\n      <td>5</td>\n      <td>2</td>\n      <td>2</td>\n    </tr>\n    <tr>\n      <th>3</th>\n      <td>R_1pzMUhhsh8aVRYi</td>\n      <td>Set2_b</td>\n      <td>1</td>\n      <td>50</td>\n      <td>0</td>\n      <td>0</td>\n      <td>1</td>\n      <td>0</td>\n      <td>0</td>\n      <td>0</td>\n      <td>...</td>\n      <td>1</td>\n      <td>4</td>\n      <td>0</td>\n      <td>1</td>\n      <td>4</td>\n      <td>4</td>\n      <td>5</td>\n      <td>5</td>\n      <td>2</td>\n      <td>2</td>\n    </tr>\n    <tr>\n      <th>4</th>\n      <td>R_1pzMUhhsh8aVRYi</td>\n      <td>Set3_a</td>\n      <td>0</td>\n      <td>55</td>\n      <td>5</td>\n      <td>-1</td>\n      <td>-1</td>\n      <td>-1</td>\n      <td>0</td>\n      <td>0</td>\n      <td>...</td>\n      <td>1</td>\n      <td>4</td>\n      <td>0</td>\n      <td>1</td>\n      <td>4</td>\n      <td>4</td>\n      <td>5</td>\n      <td>5</td>\n      <td>2</td>\n      <td>3</td>\n    </tr>\n    <tr>\n      <th>...</th>\n      <td>...</td>\n      <td>...</td>\n      <td>...</td>\n      <td>...</td>\n      <td>...</td>\n      <td>...</td>\n      <td>...</td>\n      <td>...</td>\n      <td>...</td>\n      <td>...</td>\n      <td>...</td>\n      <td>...</td>\n      <td>...</td>\n      <td>...</td>\n      <td>...</td>\n      <td>...</td>\n      <td>...</td>\n      <td>...</td>\n      <td>...</td>\n      <td>...</td>\n      <td>...</td>\n    </tr>\n    <tr>\n      <th>2683</th>\n      <td>R_2sZ9jGAmaddENVs</td>\n      <td>Set10_b</td>\n      <td>0</td>\n      <td>75</td>\n      <td>0</td>\n      <td>0</td>\n      <td>1</td>\n      <td>0</td>\n      <td>0</td>\n      <td>0</td>\n      <td>...</td>\n      <td>2</td>\n      <td>4</td>\n      <td>0</td>\n      <td>2</td>\n      <td>4</td>\n      <td>5</td>\n      <td>5</td>\n      <td>5</td>\n      <td>3</td>\n      <td>10</td>\n    </tr>\n    <tr>\n      <th>2684</th>\n      <td>R_2sZ9jGAmaddENVs</td>\n      <td>Set11_a</td>\n      <td>0</td>\n      <td>77</td>\n      <td>2</td>\n      <td>0</td>\n      <td>0</td>\n      <td>1</td>\n      <td>0</td>\n      <td>0</td>\n      <td>...</td>\n      <td>2</td>\n      <td>4</td>\n      <td>0</td>\n      <td>2</td>\n      <td>4</td>\n      <td>5</td>\n      <td>5</td>\n      <td>5</td>\n      <td>3</td>\n      <td>11</td>\n    </tr>\n    <tr>\n      <th>2685</th>\n      <td>R_2sZ9jGAmaddENVs</td>\n      <td>Set11_b</td>\n      <td>1</td>\n      <td>75</td>\n      <td>0</td>\n      <td>0</td>\n      <td>1</td>\n      <td>0</td>\n      <td>0</td>\n      <td>0</td>\n      <td>...</td>\n      <td>2</td>\n      <td>4</td>\n      <td>0</td>\n      <td>2</td>\n      <td>4</td>\n      <td>5</td>\n      <td>5</td>\n      <td>5</td>\n      <td>3</td>\n      <td>11</td>\n    </tr>\n    <tr>\n      <th>2686</th>\n      <td>R_2sZ9jGAmaddENVs</td>\n      <td>Set12_a</td>\n      <td>0</td>\n      <td>77</td>\n      <td>2</td>\n      <td>0</td>\n      <td>0</td>\n      <td>1</td>\n      <td>1</td>\n      <td>0</td>\n      <td>...</td>\n      <td>2</td>\n      <td>4</td>\n      <td>0</td>\n      <td>2</td>\n      <td>4</td>\n      <td>5</td>\n      <td>5</td>\n      <td>5</td>\n      <td>3</td>\n      <td>12</td>\n    </tr>\n    <tr>\n      <th>2687</th>\n      <td>R_2sZ9jGAmaddENVs</td>\n      <td>Set12_b</td>\n      <td>1</td>\n      <td>80</td>\n      <td>5</td>\n      <td>-1</td>\n      <td>-1</td>\n      <td>-1</td>\n      <td>0</td>\n      <td>1</td>\n      <td>...</td>\n      <td>2</td>\n      <td>4</td>\n      <td>0</td>\n      <td>2</td>\n      <td>4</td>\n      <td>5</td>\n      <td>5</td>\n      <td>5</td>\n      <td>3</td>\n      <td>12</td>\n    </tr>\n  </tbody>\n</table>\n<p>2688 rows × 35 columns</p>\n</div>"
     },
     "execution_count": 179,
     "metadata": {},
     "output_type": "execute_result"
    }
   ],
   "source": [
    "merged1"
   ],
   "metadata": {
    "collapsed": false,
    "pycharm": {
     "name": "#%%\n"
    }
   }
  },
  {
   "cell_type": "code",
   "execution_count": 362,
   "outputs": [],
   "source": [
    "train_x = merged1_train.iloc[:, 3:-1]\n",
    "train_y = merged1_train['value']\n",
    "test_x = merged1_test.iloc[:, 3:-1]\n",
    "test_y = merged1_test['value']"
   ],
   "metadata": {
    "collapsed": false,
    "pycharm": {
     "name": "#%%\n"
    }
   }
  },
  {
   "cell_type": "code",
   "execution_count": 363,
   "outputs": [],
   "source": [
    "x3_drop = ['PriceMin5', 'Price0', 'Price2', 'Real Price', 'payment_1', 'No Income',\n",
    "          'Energy Consumption', 'Region West', 'Region East', 'Household_size', 'Appliance_count','Providers_count','Know_green_provider']\n",
    "train_x = train_x.drop(columns=x3_drop)\n",
    "test_x = test_x.drop(columns=x3_drop)"
   ],
   "metadata": {
    "collapsed": false,
    "pycharm": {
     "name": "#%%\n"
    }
   }
  },
  {
   "cell_type": "code",
   "execution_count": 364,
   "outputs": [],
   "source": [
    "train_x['Age'] = train_x['Age'].astype(int)\n",
    "test_x['Age'] = test_x['Age'].astype(int)\n",
    "train_x['Income'] = train_x['Income'].astype(int)\n",
    "test_x['Income'] = test_x['Income'].astype(int)"
   ],
   "metadata": {
    "collapsed": false,
    "pycharm": {
     "name": "#%%\n"
    }
   }
  },
  {
   "cell_type": "code",
   "execution_count": 365,
   "outputs": [],
   "source": [
    "train_x['Set_Id'] = merged1_train['SetID_1']\n",
    "test_x['Set_Id'] = merged1_test['SetID_1']"
   ],
   "metadata": {
    "collapsed": false,
    "pycharm": {
     "name": "#%%\n"
    }
   }
  },
  {
   "cell_type": "code",
   "execution_count": 348,
   "outputs": [
    {
     "data": {
      "text/plain": "Price Cont    int64\nAll RES       int64\nwind          int64\nsolar         int64\nhydro         int64\nbiomass       int64\nSlovak        int64\nCan Change    int64\nNo change     int64\nGender_f      int64\nAge           int64\nIncome        int64\ndtype: object"
     },
     "execution_count": 348,
     "metadata": {},
     "output_type": "execute_result"
    }
   ],
   "source": [
    "train_x.dtypes"
   ],
   "metadata": {
    "collapsed": false,
    "pycharm": {
     "name": "#%%\n"
    }
   }
  },
  {
   "cell_type": "code",
   "execution_count": 366,
   "outputs": [],
   "source": [
    "#\n",
    "train_x['Concern_1'] = train_x['Concern_1'].astype(int)\n",
    "train_x['RES_attitude_1'] = train_x['RES_attitude_1'].astype(int)\n",
    "train_x['Income'] = train_x['Income'].astype(int)\n",
    "#\n",
    "test_x['Concern_1'] = test_x['Concern_1'].astype(int)\n",
    "test_x['RES_attitude_1'] = test_x['RES_attitude_1'].astype(int)\n",
    "test_x['Income'] = test_x['Income'].astype(int)"
   ],
   "metadata": {
    "collapsed": false,
    "pycharm": {
     "name": "#%%\n"
    }
   }
  },
  {
   "cell_type": "code",
   "execution_count": 367,
   "outputs": [],
   "source": [
    "train_x['Res Score'] = train_x['Concern_1']*train_x['RES_attitude_1']\n",
    "test_x['Res Score'] = test_x['Concern_1']*test_x['RES_attitude_1']\n",
    "train_x['Task Score'] = train_x['Task_temp']*train_x['Task_consumption']*train_x['Task_appliances']*train_x['Task_source']\n",
    "test_x['Task Score'] = test_x['Task_temp']*test_x['Task_consumption']*test_x['Task_appliances']*test_x['Task_source']\n",
    "\n",
    "drop5 = ['Concern_1','RES_attitude_1','Task_temp','Task_consumption','Task_appliances','Task_source']\n",
    "train_x = train_x.drop(columns=drop5)\n",
    "test_x = test_x.drop(columns=drop5)"
   ],
   "metadata": {
    "collapsed": false,
    "pycharm": {
     "name": "#%%\n"
    }
   }
  },
  {
   "cell_type": "code",
   "execution_count": 368,
   "outputs": [],
   "source": [
    "# Standardize\n",
    "train_x = (train_x - train_x.min(axis=0)) / (train_x.max(axis=0) - train_x.min(axis=0))\n",
    "test_x = (test_x - test_x.min(axis=0)) / (test_x.max(axis=0) - test_x.min(axis=0))"
   ],
   "metadata": {
    "collapsed": false,
    "pycharm": {
     "name": "#%%\n"
    }
   }
  },
  {
   "cell_type": "code",
   "execution_count": 270,
   "outputs": [],
   "source": [
    "#Split\n",
    "#x3_train, x3_test, y3_train, y3_test = train_test_split(x3, y_var, train_size=0.8, random_state=3)"
   ],
   "metadata": {
    "collapsed": false,
    "pycharm": {
     "name": "#%%\n"
    }
   }
  },
  {
   "cell_type": "code",
   "execution_count": 2,
   "outputs": [
    {
     "ename": "NameError",
     "evalue": "name 'train_x' is not defined",
     "output_type": "error",
     "traceback": [
      "\u001B[0;31m---------------------------------------------------------------------------\u001B[0m",
      "\u001B[0;31mNameError\u001B[0m                                 Traceback (most recent call last)",
      "\u001B[0;32m<ipython-input-2-6a793dfc2654>\u001B[0m in \u001B[0;36m<module>\u001B[0;34m\u001B[0m\n\u001B[1;32m      1\u001B[0m \u001B[0;31m#FIXED EFFECTS\u001B[0m\u001B[0;34m\u001B[0m\u001B[0;34m\u001B[0m\u001B[0;34m\u001B[0m\u001B[0m\n\u001B[0;32m----> 2\u001B[0;31m \u001B[0mfe_train\u001B[0m \u001B[0;34m=\u001B[0m \u001B[0mtrain_x\u001B[0m\u001B[0;34m.\u001B[0m\u001B[0miloc\u001B[0m\u001B[0;34m[\u001B[0m\u001B[0;34m:\u001B[0m\u001B[0;34m,\u001B[0m\u001B[0;36m0\u001B[0m\u001B[0;34m:\u001B[0m\u001B[0;36m9\u001B[0m\u001B[0;34m]\u001B[0m\u001B[0;34m\u001B[0m\u001B[0;34m\u001B[0m\u001B[0m\n\u001B[0m\u001B[1;32m      3\u001B[0m \u001B[0mfe_test\u001B[0m \u001B[0;34m=\u001B[0m \u001B[0mtest_x\u001B[0m\u001B[0;34m.\u001B[0m\u001B[0miloc\u001B[0m\u001B[0;34m[\u001B[0m\u001B[0;34m:\u001B[0m\u001B[0;34m,\u001B[0m\u001B[0;36m0\u001B[0m\u001B[0;34m:\u001B[0m\u001B[0;36m9\u001B[0m\u001B[0;34m]\u001B[0m\u001B[0;34m\u001B[0m\u001B[0;34m\u001B[0m\u001B[0m\n\u001B[1;32m      4\u001B[0m \u001B[0;34m\u001B[0m\u001B[0m\n\u001B[1;32m      5\u001B[0m \u001B[0;31m#Mixed Effects\u001B[0m\u001B[0;34m\u001B[0m\u001B[0;34m\u001B[0m\u001B[0;34m\u001B[0m\u001B[0m\n",
      "\u001B[0;31mNameError\u001B[0m: name 'train_x' is not defined"
     ]
    }
   ],
   "source": [
    "#FIXED EFFECTS\n",
    "fe_train = train_x.iloc[:,0:9]\n",
    "fe_test = test_x.iloc[:,0:9]\n",
    "\n",
    "#Mixed Effects\n",
    "#me_train = train_x.iloc[:,9:-1]\n",
    "#me_test = test_x.iloc[:,9:-1]\n",
    "me_train = train_x[['Income','Res Score','Task Score','Gender_f','Age']]\n",
    "me_test = test_x[['Income','Res Score','Task Score','Gender_f','Age']]\n",
    "\n",
    "#Cluster\n",
    "cid_train = train_x['Set_Id']\n",
    "cid_test = test_x['Set_Id']"
   ],
   "metadata": {
    "collapsed": false,
    "pycharm": {
     "name": "#%%\n"
    }
   }
  },
  {
   "cell_type": "code",
   "execution_count": 1,
   "outputs": [
    {
     "ename": "NameError",
     "evalue": "name 'me_train' is not defined",
     "output_type": "error",
     "traceback": [
      "\u001B[0;31m---------------------------------------------------------------------------\u001B[0m",
      "\u001B[0;31mNameError\u001B[0m                                 Traceback (most recent call last)",
      "\u001B[0;32m<ipython-input-1-f7ed35c1fd31>\u001B[0m in \u001B[0;36m<module>\u001B[0;34m\u001B[0m\n\u001B[0;32m----> 1\u001B[0;31m \u001B[0mme_train\u001B[0m\u001B[0;34m\u001B[0m\u001B[0;34m\u001B[0m\u001B[0m\n\u001B[0m",
      "\u001B[0;31mNameError\u001B[0m: name 'me_train' is not defined"
     ]
    }
   ],
   "source": [
    "me_train"
   ],
   "metadata": {
    "collapsed": false,
    "pycharm": {
     "name": "#%%\n"
    }
   }
  },
  {
   "cell_type": "code",
   "execution_count": 371,
   "outputs": [
    {
     "name": "stderr",
     "output_type": "stream",
     "text": [
      "INFO     [merf.py:307] Training GLL is -1150.5223471950264 at iteration 1.\n",
      "INFO     [merf.py:328] Validation MSE Loss is 0.22941444691595045 at iteration 1.\n",
      "INFO     [merf.py:307] Training GLL is -1248.7282242701076 at iteration 2.\n",
      "INFO     [merf.py:328] Validation MSE Loss is 0.22889248905361387 at iteration 2.\n",
      "INFO     [merf.py:307] Training GLL is -1284.55248777769 at iteration 3.\n",
      "INFO     [merf.py:328] Validation MSE Loss is 0.22895784949114834 at iteration 3.\n",
      "INFO     [merf.py:307] Training GLL is -1307.373874324098 at iteration 4.\n",
      "INFO     [merf.py:328] Validation MSE Loss is 0.22934286435294565 at iteration 4.\n",
      "INFO     [merf.py:307] Training GLL is -1324.0926812498537 at iteration 5.\n",
      "INFO     [merf.py:328] Validation MSE Loss is 0.22939624672505043 at iteration 5.\n",
      "INFO     [merf.py:307] Training GLL is -1337.235724439232 at iteration 6.\n",
      "INFO     [merf.py:328] Validation MSE Loss is 0.22945877421202357 at iteration 6.\n",
      "INFO     [merf.py:307] Training GLL is -1348.0236998430278 at iteration 7.\n",
      "INFO     [merf.py:328] Validation MSE Loss is 0.22953848985937333 at iteration 7.\n",
      "INFO     [merf.py:307] Training GLL is -1357.2418234394318 at iteration 8.\n",
      "INFO     [merf.py:328] Validation MSE Loss is 0.2296161004795727 at iteration 8.\n",
      "INFO     [merf.py:307] Training GLL is -1365.2217150375845 at iteration 9.\n",
      "INFO     [merf.py:328] Validation MSE Loss is 0.22971895774356993 at iteration 9.\n",
      "INFO     [merf.py:307] Training GLL is -1372.1916603120414 at iteration 10.\n",
      "INFO     [merf.py:328] Validation MSE Loss is 0.22947509846797523 at iteration 10.\n",
      "INFO     [merf.py:307] Training GLL is -1378.4820997246866 at iteration 11.\n",
      "INFO     [merf.py:328] Validation MSE Loss is 0.22979973992291944 at iteration 11.\n",
      "INFO     [merf.py:307] Training GLL is -1384.1281711835884 at iteration 12.\n",
      "INFO     [merf.py:328] Validation MSE Loss is 0.22961460992530866 at iteration 12.\n",
      "INFO     [merf.py:307] Training GLL is -1389.3947071234925 at iteration 13.\n",
      "INFO     [merf.py:328] Validation MSE Loss is 0.2297185424512546 at iteration 13.\n",
      "INFO     [merf.py:307] Training GLL is -1394.1699405841814 at iteration 14.\n",
      "INFO     [merf.py:328] Validation MSE Loss is 0.22969213818062112 at iteration 14.\n",
      "INFO     [merf.py:307] Training GLL is -1398.5762921573469 at iteration 15.\n",
      "INFO     [merf.py:328] Validation MSE Loss is 0.22952808424874382 at iteration 15.\n"
     ]
    },
    {
     "data": {
      "text/plain": "<merf.merf.MERF at 0x7fb50ee1edf0>"
     },
     "execution_count": 371,
     "metadata": {},
     "output_type": "execute_result"
    }
   ],
   "source": [
    "#Default MERF\n",
    "mrf = MERF(max_iterations=15)\n",
    "mrf.fit(fe_train, me_train, cid_train, train_y, fe_test, me_test, cid_test, test_y)"
   ],
   "metadata": {
    "collapsed": false,
    "pycharm": {
     "name": "#%%\n"
    }
   }
  },
  {
   "cell_type": "code",
   "execution_count": 372,
   "outputs": [
    {
     "name": "stderr",
     "output_type": "stream",
     "text": [
      "/Users/dominikmecko/opt/anaconda3/lib/python3.8/site-packages/merf/viz.py:65: UserWarning: To output multiple subplots, the figure containing the passed axes is being cleared\n",
      "  model.trained_b.hist(bins=15, ax=ax)\n"
     ]
    },
    {
     "data": {
      "text/plain": "<Figure size 1080x1080 with 7 Axes>",
      "image/png": "[encoded data removed]"
     },
     "metadata": {
      "needs_background": "light"
     },
     "output_type": "display_data"
    }
   ],
   "source": [
    "plot_merf_training_stats(mrf)"
   ],
   "metadata": {
    "collapsed": false,
    "pycharm": {
     "name": "#%%\n"
    }
   }
  },
  {
   "cell_type": "code",
   "execution_count": 373,
   "outputs": [
    {
     "data": {
      "text/plain": "array([0.43749923, 0.51901485, 0.43506943, 0.61007567, 0.73030264,\n       0.26614959, 0.30139637, 0.69910086, 0.50634738, 0.50642277,\n       0.54863416, 0.50529441, 0.5253965 , 0.47539442, 0.4201207 ,\n       0.57629886, 0.67535382, 0.32167143, 0.64213759, 0.36179461,\n       0.43658968, 0.56470986, 0.55226099, 0.36937323, 0.43820446,\n       0.51972008, 0.43433729, 0.60934353, 0.73036018, 0.26620712,\n       0.30138831, 0.69909279, 0.50614028, 0.50621567, 0.54775958,\n       0.50441983, 0.52538368, 0.47538159, 0.42017876, 0.57635693,\n       0.67540207, 0.32171967, 0.64207382, 0.36173084, 0.43656861,\n       0.56468879, 0.55353188, 0.37064413, 0.43868161, 0.52019723,\n       0.43384193, 0.60884818, 0.73039911, 0.26624605, 0.30138285,\n       0.69908734, 0.50600016, 0.50607554, 0.54716785, 0.5038281 ,\n       0.525375  , 0.47537292, 0.42021805, 0.57639622, 0.67543471,\n       0.32175231, 0.64203067, 0.3616877 , 0.43655435, 0.56467453,\n       0.55439175, 0.371504  , 0.43773787, 0.51925349, 0.43482168,\n       0.60982793, 0.73032211, 0.26616906, 0.30139364, 0.69909813,\n       0.5062773 , 0.50635269, 0.54833822, 0.50499847, 0.52539216,\n       0.47539008, 0.42014035, 0.57631851, 0.67537015, 0.32168775,\n       0.64211601, 0.36177303, 0.43658255, 0.56470273, 0.55269104,\n       0.36980329, 0.4382808 , 0.51979642, 0.43425803, 0.60926428,\n       0.73036641, 0.26621335, 0.30138743, 0.69909192, 0.50611787,\n       0.50619325, 0.54766491, 0.50432516, 0.52538229, 0.47538021,\n       0.42018505, 0.57636322, 0.67540729, 0.32172489, 0.64206692,\n       0.36172394, 0.43656632, 0.5646865 , 0.55366946, 0.3707817 ,\n       0.43790622, 0.51942185, 0.4346469 , 0.60965315, 0.73033585,\n       0.26618279, 0.30139172, 0.6990962 , 0.50622786, 0.50630325,\n       0.54812943, 0.50478968, 0.5253891 , 0.47538702, 0.42015421,\n       0.57633238, 0.67538166, 0.32169927, 0.64210079, 0.36175781,\n       0.43657752, 0.5646977 , 0.55299444, 0.37010668, 0.43838811,\n       0.51990373, 0.43414663, 0.60915288, 0.73037516, 0.26622211,\n       0.30138621, 0.69909069, 0.50608635, 0.50616173, 0.54753183,\n       0.50419208, 0.52538034, 0.47537825, 0.42019389, 0.57637205,\n       0.67541463, 0.32173223, 0.64205721, 0.36171424, 0.43656312,\n       0.5646833 , 0.55386284, 0.37097508, 0.43809379, 0.51960941,\n       0.43445218, 0.60945843, 0.73035115, 0.2661981 , 0.30138957,\n       0.69909406, 0.50617278, 0.50624816, 0.54789682, 0.50455707,\n       0.52538569, 0.47538361, 0.42016965, 0.57634782, 0.6753945 ,\n       0.3217121 , 0.64208383, 0.36174085, 0.43657191, 0.56469209,\n       0.55333245, 0.37044469, 0.43725322, 0.51876884, 0.43532482,\n       0.61033107, 0.73028257, 0.26612952, 0.30139918, 0.69910367,\n       0.50641963, 0.50649501, 0.54893925, 0.5055995 , 0.52540098,\n       0.4753989 , 0.42010044, 0.57627861, 0.67533699, 0.3216546 ,\n       0.64215983, 0.36181686, 0.43659703, 0.56471721, 0.55181765,\n       0.3689299 , 0.43848573, 0.52000136, 0.43404528, 0.60905153,\n       0.73038313, 0.26623007, 0.30138509, 0.69908958, 0.50605768,\n       0.50613307, 0.54741076, 0.50407101, 0.52537856, 0.47537648,\n       0.42020192, 0.57638009, 0.67542131, 0.32173891, 0.64204839,\n       0.36170541, 0.4365602 , 0.56468038, 0.55403876, 0.37115101,\n       0.43799538, 0.519511  , 0.43455434, 0.60956059, 0.73034312,\n       0.26619007, 0.3013907 , 0.69909518, 0.50620168, 0.50627706,\n       0.54801887, 0.50467912, 0.52538748, 0.4753854 , 0.42016155,\n       0.57633972, 0.67538776, 0.32170537, 0.64209273, 0.36174975,\n       0.43657485, 0.56469503, 0.5531551 , 0.37026734, 0.43868256,\n       0.52019819, 0.43384094, 0.60884719, 0.73039919, 0.26624613,\n       0.30138284, 0.69908733, 0.50599988, 0.50607527, 0.54716667,\n       0.50382692, 0.52537498, 0.4753729 , 0.42021813, 0.5763963 ,\n       0.67543477, 0.32175237, 0.64203059, 0.36168761, 0.43655432,\n       0.5646745 , 0.55439347, 0.37150571, 0.43852963, 0.52004525,\n       0.43399971, 0.60900596, 0.73038671, 0.26623365, 0.30138459,\n       0.69908908, 0.50604479, 0.50612018, 0.54735633, 0.50401658,\n       0.52537776, 0.47537568, 0.42020554, 0.5763837 , 0.67542431,\n       0.32174191, 0.64204442, 0.36170144, 0.43655889, 0.56467907,\n       0.55411787, 0.37123011, 0.43744651, 0.51896214, 0.43512415,\n       0.6101304 , 0.73029834, 0.26614529, 0.30139697, 0.69910146,\n       0.50636286, 0.50643825, 0.54869954, 0.50535979, 0.52539746,\n       0.47539538, 0.42011636, 0.57629452, 0.67535022, 0.32166782,\n       0.64214236, 0.36179938, 0.43659126, 0.56471144, 0.55216599,\n       0.36927824, 0.43772679, 0.51924242, 0.43483318, 0.60983943,\n       0.73032121, 0.26616815, 0.30139377, 0.69909826, 0.50628056,\n       0.50635594, 0.54835195, 0.5050122 , 0.52539237, 0.47539028,\n       0.42013944, 0.5763176 , 0.67536939, 0.32168699, 0.64211701,\n       0.36177404, 0.43658288, 0.56470306, 0.55267108, 0.36978332,\n       0.43765018, 0.51916581, 0.43491271, 0.60991896, 0.73031496,\n       0.2661619 , 0.30139465, 0.69909913, 0.50630305, 0.50637843,\n       0.54844696, 0.50510721, 0.52539376, 0.47539168, 0.42013313,\n       0.57631129, 0.67536415, 0.32168175, 0.64212394, 0.36178096,\n       0.43658517, 0.56470535, 0.55253303, 0.36964527, 0.43855244,\n       0.52006806, 0.43397603, 0.60898228, 0.73038857, 0.26623551,\n       0.30138433, 0.69908882, 0.5060381 , 0.50611348, 0.54732804,\n       0.50398829, 0.52537735, 0.47537527, 0.42020742, 0.57638558,\n       0.67542587, 0.32174347, 0.64204235, 0.36169938, 0.43655821,\n       0.56467839, 0.55415898, 0.37127122, 0.43814619, 0.51966182,\n       0.43439778, 0.60940402, 0.73035543, 0.26620237, 0.30138897,\n       0.69909346, 0.50615739, 0.50623278, 0.54783184, 0.50449209,\n       0.52538474, 0.47538265, 0.42017397, 0.57635213, 0.67539808,\n       0.32171568, 0.64207909, 0.36173611, 0.43657035, 0.56469053,\n       0.55342688, 0.37053912, 0.43750996, 0.51902558, 0.43505829,\n       0.61006453, 0.73030352, 0.26615046, 0.30139625, 0.69910074,\n       0.50634423, 0.50641961, 0.54862086, 0.50528111, 0.52539631,\n       0.47539423, 0.42012158, 0.57629975, 0.67535456, 0.32167216,\n       0.64213662, 0.36179364, 0.43658936, 0.56470954, 0.55228032,\n       0.36939257, 0.43841423, 0.51992985, 0.43411952, 0.60912576,\n       0.73037729, 0.26622424, 0.30138591, 0.6990904 , 0.50607868,\n       0.50615406, 0.54749944, 0.50415969, 0.52537986, 0.47537778,\n       0.42019604, 0.5763742 , 0.67541642, 0.32173402, 0.64205485,\n       0.36171187, 0.43656234, 0.56468252, 0.5539099 , 0.37102215,\n       0.43866579, 0.52018141, 0.43385835, 0.6088646 , 0.73039782,\n       0.26624476, 0.30138303, 0.69908752, 0.50600481, 0.50608019,\n       0.54718747, 0.50384772, 0.52537529, 0.4753732 , 0.42021675,\n       0.57639491, 0.67543362, 0.32175123, 0.6420321 , 0.36168913,\n       0.43655482, 0.564675  , 0.55436324, 0.37147549, 0.43876393,\n       0.52027955, 0.43375647, 0.60876272, 0.73040582, 0.26625277,\n       0.30138191, 0.6990864 , 0.50597599, 0.50605137, 0.54706576,\n       0.50372601, 0.5253735 , 0.47537142, 0.42022483, 0.57640299,\n       0.67544034, 0.32175794, 0.64202323, 0.36168025, 0.43655189,\n       0.56467207, 0.5545401 , 0.37165235])"
     },
     "execution_count": 373,
     "metadata": {},
     "output_type": "execute_result"
    }
   ],
   "source": [
    "y3_predict = mrf.predict(fe_test, me_test, cid_test)\n",
    "y3_predict"
   ],
   "metadata": {
    "collapsed": false,
    "pycharm": {
     "name": "#%%\n"
    }
   }
  },
  {
   "cell_type": "code",
   "execution_count": 374,
   "outputs": [],
   "source": [
    "y3_predict_df = pd.DataFrame(y3_predict)\n",
    "\n",
    "def compare(x, y):\n",
    "    x_val = 0\n",
    "    y_val = 0\n",
    "    if x > y:\n",
    "        x_val = 1\n",
    "    else:\n",
    "        y_val = 1\n",
    "    return x_val, y_val\n",
    "\n",
    "\n",
    "output = []\n",
    "index = 0\n",
    "while index <= (len(y3_predict_df) - 1):\n",
    "    values = compare(y3_predict_df[0].iloc[index], y3_predict_df[0].iloc[index + 1])\n",
    "    output.append(values[0])\n",
    "    output.append(values[1])\n",
    "    index = index + 2"
   ],
   "metadata": {
    "collapsed": false,
    "pycharm": {
     "name": "#%%\n"
    }
   }
  },
  {
   "cell_type": "code",
   "execution_count": 375,
   "outputs": [
    {
     "data": {
      "text/plain": "     value\n0        0\n1        1\n2        0\n3        1\n4        1\n..     ...\n523      1\n524      1\n525      0\n526      0\n527      1\n\n[528 rows x 1 columns]",
      "text/html": "<div>\n<style scoped>\n    .dataframe tbody tr th:only-of-type {\n        vertical-align: middle;\n    }\n\n    .dataframe tbody tr th {\n        vertical-align: top;\n    }\n\n    .dataframe thead th {\n        text-align: right;\n    }\n</style>\n<table border=\"1\" class=\"dataframe\">\n  <thead>\n    <tr style=\"text-align: right;\">\n      <th></th>\n      <th>value</th>\n    </tr>\n  </thead>\n  <tbody>\n    <tr>\n      <th>0</th>\n      <td>0</td>\n    </tr>\n    <tr>\n      <th>1</th>\n      <td>1</td>\n    </tr>\n    <tr>\n      <th>2</th>\n      <td>0</td>\n    </tr>\n    <tr>\n      <th>3</th>\n      <td>1</td>\n    </tr>\n    <tr>\n      <th>4</th>\n      <td>1</td>\n    </tr>\n    <tr>\n      <th>...</th>\n      <td>...</td>\n    </tr>\n    <tr>\n      <th>523</th>\n      <td>1</td>\n    </tr>\n    <tr>\n      <th>524</th>\n      <td>1</td>\n    </tr>\n    <tr>\n      <th>525</th>\n      <td>0</td>\n    </tr>\n    <tr>\n      <th>526</th>\n      <td>0</td>\n    </tr>\n    <tr>\n      <th>527</th>\n      <td>1</td>\n    </tr>\n  </tbody>\n</table>\n<p>528 rows × 1 columns</p>\n</div>"
     },
     "execution_count": 375,
     "metadata": {},
     "output_type": "execute_result"
    }
   ],
   "source": [
    "test_y_df = test_y\n",
    "test_y_df = test_y_df.reset_index()\n",
    "test_y_df = test_y_df.drop(columns='index')\n",
    "test_y_df"
   ],
   "metadata": {
    "collapsed": false,
    "pycharm": {
     "name": "#%%\n"
    }
   }
  },
  {
   "cell_type": "code",
   "execution_count": 376,
   "outputs": [
    {
     "data": {
      "text/plain": "            0  predicted  real\n0    0.437499          0     0\n1    0.519015          1     1\n2    0.435069          0     0\n3    0.610076          1     1\n4    0.730303          1     1\n..        ...        ...   ...\n523  0.361680          0     1\n524  0.436552          0     1\n525  0.564672          1     0\n526  0.554540          1     0\n527  0.371652          0     1\n\n[528 rows x 3 columns]",
      "text/html": "<div>\n<style scoped>\n    .dataframe tbody tr th:only-of-type {\n        vertical-align: middle;\n    }\n\n    .dataframe tbody tr th {\n        vertical-align: top;\n    }\n\n    .dataframe thead th {\n        text-align: right;\n    }\n</style>\n<table border=\"1\" class=\"dataframe\">\n  <thead>\n    <tr style=\"text-align: right;\">\n      <th></th>\n      <th>0</th>\n      <th>predicted</th>\n      <th>real</th>\n    </tr>\n  </thead>\n  <tbody>\n    <tr>\n      <th>0</th>\n      <td>0.437499</td>\n      <td>0</td>\n      <td>0</td>\n    </tr>\n    <tr>\n      <th>1</th>\n      <td>0.519015</td>\n      <td>1</td>\n      <td>1</td>\n    </tr>\n    <tr>\n      <th>2</th>\n      <td>0.435069</td>\n      <td>0</td>\n      <td>0</td>\n    </tr>\n    <tr>\n      <th>3</th>\n      <td>0.610076</td>\n      <td>1</td>\n      <td>1</td>\n    </tr>\n    <tr>\n      <th>4</th>\n      <td>0.730303</td>\n      <td>1</td>\n      <td>1</td>\n    </tr>\n    <tr>\n      <th>...</th>\n      <td>...</td>\n      <td>...</td>\n      <td>...</td>\n    </tr>\n    <tr>\n      <th>523</th>\n      <td>0.361680</td>\n      <td>0</td>\n      <td>1</td>\n    </tr>\n    <tr>\n      <th>524</th>\n      <td>0.436552</td>\n      <td>0</td>\n      <td>1</td>\n    </tr>\n    <tr>\n      <th>525</th>\n      <td>0.564672</td>\n      <td>1</td>\n      <td>0</td>\n    </tr>\n    <tr>\n      <th>526</th>\n      <td>0.554540</td>\n      <td>1</td>\n      <td>0</td>\n    </tr>\n    <tr>\n      <th>527</th>\n      <td>0.371652</td>\n      <td>0</td>\n      <td>1</td>\n    </tr>\n  </tbody>\n</table>\n<p>528 rows × 3 columns</p>\n</div>"
     },
     "execution_count": 376,
     "metadata": {},
     "output_type": "execute_result"
    }
   ],
   "source": [
    "y3_predict_df['predicted'] = output\n",
    "y3_predict_df['real'] = test_y_df['value']\n",
    "y3_predict_df"
   ],
   "metadata": {
    "collapsed": false,
    "pycharm": {
     "name": "#%%\n"
    }
   }
  },
  {
   "cell_type": "code",
   "execution_count": 377,
   "outputs": [
    {
     "name": "stdout",
     "output_type": "stream",
     "text": [
      "0.6212121212121212\n"
     ]
    }
   ],
   "source": [
    "print(accuracy_score(test_y, y3_predict_df['predicted']))"
   ],
   "metadata": {
    "collapsed": false,
    "pycharm": {
     "name": "#%%\n"
    }
   }
  },
  {
   "cell_type": "code",
   "execution_count": 96,
   "outputs": [],
   "source": [
    "y4_predict = y3_predict.round(decimals=0)"
   ],
   "metadata": {
    "collapsed": false,
    "pycharm": {
     "name": "#%%\n"
    }
   }
  },
  {
   "cell_type": "code",
   "execution_count": 97,
   "outputs": [],
   "source": [
    "y4_predict = y4_predict.astype(int)"
   ],
   "metadata": {
    "collapsed": false,
    "pycharm": {
     "name": "#%%\n"
    }
   }
  },
  {
   "cell_type": "code",
   "execution_count": 98,
   "outputs": [
    {
     "data": {
      "text/plain": "array([1, 0, 0, 0, 1, 1, 1, 1, 0, 0, 0, 1, 0, 1, 0, 0, 0, 1, 1, 0, 1, 1,\n       0, 0, 1, 0, 0, 1, 1, 0, 1, 1, 0, 1, 1, 1, 1, 1, 0, 1, 1, 1, 1, 1,\n       1, 0, 0, 0, 0, 0, 1, 1, 1, 0, 0, 1, 0, 0, 1, 0, 1, 0, 1, 0, 0, 1,\n       1, 0, 1, 0, 1, 0, 1, 0, 1, 0, 0, 1, 1, 0, 0, 0, 0, 1, 1, 1, 1, 1,\n       1, 1, 1, 1, 0, 1, 1, 0, 0, 1, 1, 1, 1, 0, 0, 1, 0, 1, 0, 0, 0, 1,\n       0, 0, 0, 0, 1, 1, 1, 0, 1, 0, 1, 1, 0, 0, 1, 1, 0, 1, 1, 0, 1, 0,\n       1, 0, 0, 1, 0, 0, 1, 1, 0, 1, 0, 1, 1, 0, 1, 1, 0, 0, 0, 0, 0, 1,\n       0, 0, 1, 0, 1, 1, 0, 0, 0, 0, 0, 1, 0, 0, 1, 0, 0, 0, 1, 1, 1, 0,\n       0, 1, 1, 0, 1, 1, 1, 1, 0, 1, 0, 1, 1, 0, 1, 0, 0, 1, 1, 1, 0, 0,\n       0, 0, 0, 1, 0, 0, 0, 1, 1, 0, 0, 0, 1, 0, 1, 1, 1, 1, 1, 1, 1, 1,\n       1, 0, 1, 1, 0, 1, 1, 1, 0, 1, 0, 0, 0, 0, 0, 1, 1, 1, 0, 0, 0, 0,\n       0, 1, 1, 0, 1, 0, 0, 1, 1, 1, 0, 1, 0, 1, 0, 1, 1, 0, 1, 0, 1, 1,\n       1, 1, 1, 1, 1, 0, 0, 1, 0, 0, 0, 0, 1, 0, 0, 1, 1, 1, 1, 0, 1, 0,\n       1, 1, 0, 0, 0, 1, 1, 1, 1, 1, 0, 0, 0, 0, 0, 1, 1, 0, 0, 0, 1, 1,\n       0, 1, 1, 0, 0, 0, 0, 1, 0, 0, 0, 1, 1, 0, 0, 1, 1, 0, 0, 0, 0, 0,\n       0, 1, 0, 0, 0, 1, 0, 0, 0, 0, 0, 0, 0, 1, 0, 1, 1, 0, 0, 0, 0, 1,\n       0, 1, 1, 1, 1, 1, 1, 0, 1, 1, 1, 0, 0, 1, 0, 1, 0, 0, 1, 0, 1, 1,\n       0, 1, 1, 0, 1, 1, 1, 0, 0, 1, 0, 1, 1, 1, 1, 0, 1, 1, 1, 0, 1, 0,\n       1, 1, 0, 1, 1, 1, 0, 1, 0, 1, 0, 0, 1, 0, 1, 1, 0, 1, 0, 0, 0, 1,\n       0, 1, 0, 0, 0, 0, 1, 1, 0, 0, 1, 0, 1, 0, 0, 0, 1, 0, 1, 1, 0, 0,\n       0, 0, 0, 0, 1, 0, 0, 0, 0, 0, 1, 0, 1, 1, 1, 1, 1, 0, 1, 0, 1, 0,\n       1, 1, 0, 1, 0, 1, 0, 1, 0, 0, 0, 0, 1, 1, 1, 0, 1, 0, 0, 0, 0, 1,\n       1, 0, 0, 0, 1, 0, 1, 1, 1, 0, 1, 1, 0, 0, 1, 0, 0, 0, 1, 0, 0, 1,\n       1, 1, 0, 0, 0, 1, 0, 0, 0, 0, 1, 0, 1, 1, 1, 0, 0, 1, 1, 0, 0, 0,\n       0, 0, 0, 0, 1, 0, 1, 0, 0, 0])"
     },
     "execution_count": 98,
     "metadata": {},
     "output_type": "execute_result"
    }
   ],
   "source": [
    "y4_predict"
   ],
   "metadata": {
    "collapsed": false,
    "pycharm": {
     "name": "#%%\n"
    }
   }
  },
  {
   "cell_type": "code",
   "execution_count": 107,
   "outputs": [
    {
     "ename": "NameError",
     "evalue": "name 'cid_test' is not defined",
     "output_type": "error",
     "traceback": [
      "\u001B[0;31m---------------------------------------------------------------------------\u001B[0m",
      "\u001B[0;31mNameError\u001B[0m                                 Traceback (most recent call last)",
      "\u001B[0;32m<ipython-input-107-b6b48d46a2ed>\u001B[0m in \u001B[0;36m<module>\u001B[0;34m\u001B[0m\n\u001B[0;32m----> 1\u001B[0;31m \u001B[0mcid_test\u001B[0m\u001B[0;34m\u001B[0m\u001B[0;34m\u001B[0m\u001B[0m\n\u001B[0m",
      "\u001B[0;31mNameError\u001B[0m: name 'cid_test' is not defined"
     ]
    }
   ],
   "source": [
    "cid_test"
   ],
   "metadata": {
    "collapsed": false,
    "pycharm": {
     "name": "#%%\n"
    }
   }
  },
  {
   "cell_type": "code",
   "execution_count": 99,
   "outputs": [
    {
     "name": "stdout",
     "output_type": "stream",
     "text": [
      "0.3070578515367239\n"
     ]
    }
   ],
   "source": [
    "from sklearn.metrics import mean_squared_error\n",
    "print(mean_squared_error(y3_test, y3_predict))"
   ],
   "metadata": {
    "collapsed": false,
    "pycharm": {
     "name": "#%%\n"
    }
   }
  },
  {
   "cell_type": "markdown",
   "source": [
    "DECISION TREE"
   ],
   "metadata": {
    "collapsed": false,
    "pycharm": {
     "name": "#%% md\n"
    }
   }
  },
  {
   "cell_type": "code",
   "execution_count": null,
   "outputs": [],
   "source": [
    "param_grid_dt = [\n",
    "    {'max_depth': [3,4,5,6,7,8,9,10]}\n",
    "]"
   ],
   "metadata": {
    "collapsed": false,
    "pycharm": {
     "name": "#%%\n"
    }
   }
  },
  {
   "cell_type": "code",
   "execution_count": null,
   "outputs": [],
   "source": [
    "from sklearn.model_selection import GridSearchCV\n",
    "from sklearn import tree\n",
    "\n",
    "# create the cross-validation object\n",
    "optimal_params_dt = GridSearchCV(\n",
    "    estimator = tree.DecisionTreeClassifier(random_state=3),  # DT instance\n",
    "    param_grid = param_grid_dt,                               # grid search\n",
    "    cv = 5,                                                   # k=5 CV\n",
    "    scoring='accuracy'                                        # use accuracy measure\n",
    ")"
   ],
   "metadata": {
    "collapsed": false,
    "pycharm": {
     "name": "#%%\n"
    }
   }
  },
  {
   "cell_type": "code",
   "execution_count": null,
   "outputs": [],
   "source": [
    "# perfrom the grid search on the trainings data\n",
    "optimal_params_dt.fit(X_train, y_train)\n",
    "\n",
    "# what is the best hyper parameter?\n",
    "optimal_params_dt.best_params_"
   ],
   "metadata": {
    "collapsed": false,
    "pycharm": {
     "name": "#%%\n"
    }
   }
  }
 ],
 "metadata": {
  "kernelspec": {
   "display_name": "Python 3",
   "language": "python",
   "name": "python3"
  },
  "language_info": {
   "codemirror_mode": {
    "name": "ipython",
    "version": 2
   },
   "file_extension": ".py",
   "mimetype": "text/x-python",
   "name": "python",
   "nbconvert_exporter": "python",
   "pygments_lexer": "ipython2",
   "version": "2.7.6"
  }
 },
 "nbformat": 4,
 "nbformat_minor": 0
}