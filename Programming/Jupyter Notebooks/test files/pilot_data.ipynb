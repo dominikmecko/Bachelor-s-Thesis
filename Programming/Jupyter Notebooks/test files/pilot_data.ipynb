{
 "cells": [
  {
   "cell_type": "code",
   "execution_count": 1,
   "metadata": {
    "collapsed": true,
    "pycharm": {
     "name": "#%%\n"
    }
   },
   "outputs": [],
   "source": [
    "import pandas as pd"
   ]
  },
  {
   "cell_type": "code",
   "execution_count": 4,
   "outputs": [],
   "source": [
    "folder = \"/Users/dominikmecko/Work/Bachelor's Thesis/Data/Pilot\"\n",
    "text_path = \"/text1.csv\"\n",
    "numeric_path = \"/numeric2.csv\"\n",
    "data_text = pd.read_csv(folder+text_path)\n",
    "data_num = pd.read_csv(folder+numeric_path)"
   ],
   "metadata": {
    "collapsed": false,
    "pycharm": {
     "name": "#%%\n"
    }
   }
  },
  {
   "cell_type": "code",
   "execution_count": 3,
   "outputs": [
    {
     "data": {
      "text/plain": "                                           StartDate  \\\n0                                         Start Date   \n1  {\"ImportId\":\"startDate\",\"timeZone\":\"America/De...   \n2                                2022-05-11 11:52:06   \n3                                2022-05-11 11:53:17   \n4                                2022-05-11 12:10:49   \n5                                2022-05-12 13:57:09   \n6                                2022-05-12 13:55:34   \n7                                2022-05-12 14:10:39   \n\n                                             EndDate                 Status  \\\n0                                           End Date          Response Type   \n1  {\"ImportId\":\"endDate\",\"timeZone\":\"America/Denv...  {\"ImportId\":\"status\"}   \n2                                2022-05-11 11:58:41             IP Address   \n3                                2022-05-11 12:03:09             IP Address   \n4                                2022-05-11 12:24:48             IP Address   \n5                                2022-05-12 14:01:10             IP Address   \n6                                2022-05-12 14:01:20             IP Address   \n7                                2022-05-12 14:18:42             IP Address   \n\n                  Progress    Duration (in seconds)                 Finished  \\\n0                 Progress    Duration (in seconds)                 Finished   \n1  {\"ImportId\":\"progress\"}  {\"ImportId\":\"duration\"}  {\"ImportId\":\"finished\"}   \n2                      100                      395                     True   \n3                      100                      592                     True   \n4                      100                      839                     True   \n5                      100                      240                     True   \n6                      100                      345                     True   \n7                      100                      482                     True   \n\n                                        RecordedDate  \\\n0                                      Recorded Date   \n1  {\"ImportId\":\"recordedDate\",\"timeZone\":\"America...   \n2                                2022-05-11 11:58:43   \n3                                2022-05-11 12:18:13   \n4                                2022-05-11 12:24:50   \n5                                2022-05-12 14:01:11   \n6                                2022-05-12 14:01:22   \n7                                2022-05-12 14:18:44   \n\n                 ResponseId                 DistributionChannel  \\\n0               Response ID                Distribution Channel   \n1  {\"ImportId\":\"_recordId\"}  {\"ImportId\":\"distributionChannel\"}   \n2         R_3MT1M3RGIptBp7p                           anonymous   \n3         R_1DToeJUVStjMAtO                           anonymous   \n4         R_2BzEib2HRgW3hSU                           anonymous   \n5         R_paVBddl8ds6hOO5                           anonymous   \n6         R_10MnS2PtSYnSXx9                           anonymous   \n7         R_2OT1ukc71EmK2AT                           anonymous   \n\n                  UserLanguage  ...            Time_Set11_First Click  \\\n0                User Language  ...              Timing - First Click   \n1  {\"ImportId\":\"userLanguage\"}  ...  {\"ImportId\":\"QID48_FIRST_CLICK\"}   \n2                           SK  ...                             2.101   \n3                           SK  ...                            11.332   \n4                           SK  ...                             4.504   \n5                           SK  ...                             1.607   \n6                           SK  ...                            10.536   \n7                           SK  ...                             8.175   \n\n             Time_Set11_Last Click            Time_Set11_Page Submit  \\\n0              Timing - Last Click              Timing - Page Submit   \n1  {\"ImportId\":\"QID48_LAST_CLICK\"}  {\"ImportId\":\"QID48_PAGE_SUBMIT\"}   \n2                            2.101                             4.201   \n3                           11.332                            12.606   \n4                            4.504                             6.046   \n5                            1.607                             2.273   \n6                           10.536                            11.779   \n7                            8.175                             9.061   \n\n             Time_Set11_Click Count  \\\n0              Timing - Click Count   \n1  {\"ImportId\":\"QID48_CLICK_COUNT\"}   \n2                                 1   \n3                                 1   \n4                                 1   \n5                                 1   \n6                                 1   \n7                                 1   \n\n                                               Set12  \\\n0  Ktorý z plánov elektrickej energie by ste si z...   \n1                               {\"ImportId\":\"QID49\"}   \n2  KONTRAKT B\\n\\nMesačný poplatok: €$e{q://QID10/...   \n3  KONTRAKT B\\n\\nMesačný poplatok: €$e{q://QID10/...   \n4  KONTRAKT A\\n\\nMesačný poplatok: €$e{q://QID10/...   \n5  KONTRAKT B\\n\\nMesačný poplatok: €$e{q://QID10/...   \n6  KONTRAKT A\\n\\nMesačný poplatok: €$e{q://QID10/...   \n7  KONTRAKT B\\n\\nMesačný poplatok: €$e{q://QID10/...   \n\n             Time_Set12_First Click            Time_Set12_Last Click  \\\n0              Timing - First Click              Timing - Last Click   \n1  {\"ImportId\":\"QID50_FIRST_CLICK\"}  {\"ImportId\":\"QID50_LAST_CLICK\"}   \n2                            11.948                           11.948   \n3                            12.492                           12.492   \n4                             4.715                            4.715   \n5                             1.471                            1.471   \n6                             7.405                             8.12   \n7                             9.579                            9.579   \n\n             Time_Set12_Page Submit            Time_Set12_Click Count  \\\n0              Timing - Page Submit              Timing - Click Count   \n1  {\"ImportId\":\"QID50_PAGE_SUBMIT\"}  {\"ImportId\":\"QID50_CLICK_COUNT\"}   \n2                            12.801                                 1   \n3                            15.232                                 1   \n4                             6.572                                 1   \n5                             5.045                                 1   \n6                             9.267                                 2   \n7                            10.413                                 1   \n\n                                            Comments  \n0  Ďakujem Vám veľmi pekne za vyplnenie prieskumu...  \n1                          {\"ImportId\":\"QID53_TEXT\"}  \n2                                                NaN  \n3                                                NaN  \n4                                                NaN  \n5                                                NaN  \n6                                                NaN  \n7                                                NaN  \n\n[8 rows x 88 columns]",
      "text/html": "<div>\n<style scoped>\n    .dataframe tbody tr th:only-of-type {\n        vertical-align: middle;\n    }\n\n    .dataframe tbody tr th {\n        vertical-align: top;\n    }\n\n    .dataframe thead th {\n        text-align: right;\n    }\n</style>\n<table border=\"1\" class=\"dataframe\">\n  <thead>\n    <tr style=\"text-align: right;\">\n      <th></th>\n      <th>StartDate</th>\n      <th>EndDate</th>\n      <th>Status</th>\n      <th>Progress</th>\n      <th>Duration (in seconds)</th>\n      <th>Finished</th>\n      <th>RecordedDate</th>\n      <th>ResponseId</th>\n      <th>DistributionChannel</th>\n      <th>UserLanguage</th>\n      <th>...</th>\n      <th>Time_Set11_First Click</th>\n      <th>Time_Set11_Last Click</th>\n      <th>Time_Set11_Page Submit</th>\n      <th>Time_Set11_Click Count</th>\n      <th>Set12</th>\n      <th>Time_Set12_First Click</th>\n      <th>Time_Set12_Last Click</th>\n      <th>Time_Set12_Page Submit</th>\n      <th>Time_Set12_Click Count</th>\n      <th>Comments</th>\n    </tr>\n  </thead>\n  <tbody>\n    <tr>\n      <th>0</th>\n      <td>Start Date</td>\n      <td>End Date</td>\n      <td>Response Type</td>\n      <td>Progress</td>\n      <td>Duration (in seconds)</td>\n      <td>Finished</td>\n      <td>Recorded Date</td>\n      <td>Response ID</td>\n      <td>Distribution Channel</td>\n      <td>User Language</td>\n      <td>...</td>\n      <td>Timing - First Click</td>\n      <td>Timing - Last Click</td>\n      <td>Timing - Page Submit</td>\n      <td>Timing - Click Count</td>\n      <td>Ktorý z plánov elektrickej energie by ste si z...</td>\n      <td>Timing - First Click</td>\n      <td>Timing - Last Click</td>\n      <td>Timing - Page Submit</td>\n      <td>Timing - Click Count</td>\n      <td>Ďakujem Vám veľmi pekne za vyplnenie prieskumu...</td>\n    </tr>\n    <tr>\n      <th>1</th>\n      <td>{\"ImportId\":\"startDate\",\"timeZone\":\"America/De...</td>\n      <td>{\"ImportId\":\"endDate\",\"timeZone\":\"America/Denv...</td>\n      <td>{\"ImportId\":\"status\"}</td>\n      <td>{\"ImportId\":\"progress\"}</td>\n      <td>{\"ImportId\":\"duration\"}</td>\n      <td>{\"ImportId\":\"finished\"}</td>\n      <td>{\"ImportId\":\"recordedDate\",\"timeZone\":\"America...</td>\n      <td>{\"ImportId\":\"_recordId\"}</td>\n      <td>{\"ImportId\":\"distributionChannel\"}</td>\n      <td>{\"ImportId\":\"userLanguage\"}</td>\n      <td>...</td>\n      <td>{\"ImportId\":\"QID48_FIRST_CLICK\"}</td>\n      <td>{\"ImportId\":\"QID48_LAST_CLICK\"}</td>\n      <td>{\"ImportId\":\"QID48_PAGE_SUBMIT\"}</td>\n      <td>{\"ImportId\":\"QID48_CLICK_COUNT\"}</td>\n      <td>{\"ImportId\":\"QID49\"}</td>\n      <td>{\"ImportId\":\"QID50_FIRST_CLICK\"}</td>\n      <td>{\"ImportId\":\"QID50_LAST_CLICK\"}</td>\n      <td>{\"ImportId\":\"QID50_PAGE_SUBMIT\"}</td>\n      <td>{\"ImportId\":\"QID50_CLICK_COUNT\"}</td>\n      <td>{\"ImportId\":\"QID53_TEXT\"}</td>\n    </tr>\n    <tr>\n      <th>2</th>\n      <td>2022-05-11 11:52:06</td>\n      <td>2022-05-11 11:58:41</td>\n      <td>IP Address</td>\n      <td>100</td>\n      <td>395</td>\n      <td>True</td>\n      <td>2022-05-11 11:58:43</td>\n      <td>R_3MT1M3RGIptBp7p</td>\n      <td>anonymous</td>\n      <td>SK</td>\n      <td>...</td>\n      <td>2.101</td>\n      <td>2.101</td>\n      <td>4.201</td>\n      <td>1</td>\n      <td>KONTRAKT B\\n\\nMesačný poplatok: €$e{q://QID10/...</td>\n      <td>11.948</td>\n      <td>11.948</td>\n      <td>12.801</td>\n      <td>1</td>\n      <td>NaN</td>\n    </tr>\n    <tr>\n      <th>3</th>\n      <td>2022-05-11 11:53:17</td>\n      <td>2022-05-11 12:03:09</td>\n      <td>IP Address</td>\n      <td>100</td>\n      <td>592</td>\n      <td>True</td>\n      <td>2022-05-11 12:18:13</td>\n      <td>R_1DToeJUVStjMAtO</td>\n      <td>anonymous</td>\n      <td>SK</td>\n      <td>...</td>\n      <td>11.332</td>\n      <td>11.332</td>\n      <td>12.606</td>\n      <td>1</td>\n      <td>KONTRAKT B\\n\\nMesačný poplatok: €$e{q://QID10/...</td>\n      <td>12.492</td>\n      <td>12.492</td>\n      <td>15.232</td>\n      <td>1</td>\n      <td>NaN</td>\n    </tr>\n    <tr>\n      <th>4</th>\n      <td>2022-05-11 12:10:49</td>\n      <td>2022-05-11 12:24:48</td>\n      <td>IP Address</td>\n      <td>100</td>\n      <td>839</td>\n      <td>True</td>\n      <td>2022-05-11 12:24:50</td>\n      <td>R_2BzEib2HRgW3hSU</td>\n      <td>anonymous</td>\n      <td>SK</td>\n      <td>...</td>\n      <td>4.504</td>\n      <td>4.504</td>\n      <td>6.046</td>\n      <td>1</td>\n      <td>KONTRAKT A\\n\\nMesačný poplatok: €$e{q://QID10/...</td>\n      <td>4.715</td>\n      <td>4.715</td>\n      <td>6.572</td>\n      <td>1</td>\n      <td>NaN</td>\n    </tr>\n    <tr>\n      <th>5</th>\n      <td>2022-05-12 13:57:09</td>\n      <td>2022-05-12 14:01:10</td>\n      <td>IP Address</td>\n      <td>100</td>\n      <td>240</td>\n      <td>True</td>\n      <td>2022-05-12 14:01:11</td>\n      <td>R_paVBddl8ds6hOO5</td>\n      <td>anonymous</td>\n      <td>SK</td>\n      <td>...</td>\n      <td>1.607</td>\n      <td>1.607</td>\n      <td>2.273</td>\n      <td>1</td>\n      <td>KONTRAKT B\\n\\nMesačný poplatok: €$e{q://QID10/...</td>\n      <td>1.471</td>\n      <td>1.471</td>\n      <td>5.045</td>\n      <td>1</td>\n      <td>NaN</td>\n    </tr>\n    <tr>\n      <th>6</th>\n      <td>2022-05-12 13:55:34</td>\n      <td>2022-05-12 14:01:20</td>\n      <td>IP Address</td>\n      <td>100</td>\n      <td>345</td>\n      <td>True</td>\n      <td>2022-05-12 14:01:22</td>\n      <td>R_10MnS2PtSYnSXx9</td>\n      <td>anonymous</td>\n      <td>SK</td>\n      <td>...</td>\n      <td>10.536</td>\n      <td>10.536</td>\n      <td>11.779</td>\n      <td>1</td>\n      <td>KONTRAKT A\\n\\nMesačný poplatok: €$e{q://QID10/...</td>\n      <td>7.405</td>\n      <td>8.12</td>\n      <td>9.267</td>\n      <td>2</td>\n      <td>NaN</td>\n    </tr>\n    <tr>\n      <th>7</th>\n      <td>2022-05-12 14:10:39</td>\n      <td>2022-05-12 14:18:42</td>\n      <td>IP Address</td>\n      <td>100</td>\n      <td>482</td>\n      <td>True</td>\n      <td>2022-05-12 14:18:44</td>\n      <td>R_2OT1ukc71EmK2AT</td>\n      <td>anonymous</td>\n      <td>SK</td>\n      <td>...</td>\n      <td>8.175</td>\n      <td>8.175</td>\n      <td>9.061</td>\n      <td>1</td>\n      <td>KONTRAKT B\\n\\nMesačný poplatok: €$e{q://QID10/...</td>\n      <td>9.579</td>\n      <td>9.579</td>\n      <td>10.413</td>\n      <td>1</td>\n      <td>NaN</td>\n    </tr>\n  </tbody>\n</table>\n<p>8 rows × 88 columns</p>\n</div>"
     },
     "execution_count": 3,
     "metadata": {},
     "output_type": "execute_result"
    }
   ],
   "source": [
    "data_text"
   ],
   "metadata": {
    "collapsed": false,
    "pycharm": {
     "name": "#%%\n"
    }
   }
  },
  {
   "cell_type": "code",
   "execution_count": 5,
   "outputs": [
    {
     "data": {
      "text/plain": "                                           StartDate  \\\n0                                         Start Date   \n1  {\"ImportId\":\"startDate\",\"timeZone\":\"America/De...   \n2                                2022-05-11 11:52:06   \n3                                2022-05-11 11:53:17   \n4                                2022-05-11 12:10:49   \n\n                                             EndDate                 Status  \\\n0                                           End Date          Response Type   \n1  {\"ImportId\":\"endDate\",\"timeZone\":\"America/Denv...  {\"ImportId\":\"status\"}   \n2                                2022-05-11 11:58:41                      0   \n3                                2022-05-11 12:03:09                      0   \n4                                2022-05-11 12:24:48                      0   \n\n                  Progress    Duration (in seconds)                 Finished  \\\n0                 Progress    Duration (in seconds)                 Finished   \n1  {\"ImportId\":\"progress\"}  {\"ImportId\":\"duration\"}  {\"ImportId\":\"finished\"}   \n2                      100                      395                        1   \n3                      100                      592                        1   \n4                      100                      839                        1   \n\n                                        RecordedDate  \\\n0                                      Recorded Date   \n1  {\"ImportId\":\"recordedDate\",\"timeZone\":\"America...   \n2                                2022-05-11 11:58:43   \n3                                2022-05-11 12:18:13   \n4                                2022-05-11 12:24:50   \n\n                 ResponseId                 DistributionChannel  \\\n0               Response ID                Distribution Channel   \n1  {\"ImportId\":\"_recordId\"}  {\"ImportId\":\"distributionChannel\"}   \n2         R_3MT1M3RGIptBp7p                           anonymous   \n3         R_1DToeJUVStjMAtO                           anonymous   \n4         R_2BzEib2HRgW3hSU                           anonymous   \n\n                  UserLanguage  ...            Time_Set11_First Click  \\\n0                User Language  ...              Timing - First Click   \n1  {\"ImportId\":\"userLanguage\"}  ...  {\"ImportId\":\"QID48_FIRST_CLICK\"}   \n2                           SK  ...                             2.101   \n3                           SK  ...                            11.332   \n4                           SK  ...                             4.504   \n\n             Time_Set11_Last Click            Time_Set11_Page Submit  \\\n0              Timing - Last Click              Timing - Page Submit   \n1  {\"ImportId\":\"QID48_LAST_CLICK\"}  {\"ImportId\":\"QID48_PAGE_SUBMIT\"}   \n2                            2.101                             4.201   \n3                           11.332                            12.606   \n4                            4.504                             6.046   \n\n             Time_Set11_Click Count  \\\n0              Timing - Click Count   \n1  {\"ImportId\":\"QID48_CLICK_COUNT\"}   \n2                                 1   \n3                                 1   \n4                                 1   \n\n                                               Set12  \\\n0  Ktorý z plánov elektrickej energie by ste si z...   \n1                               {\"ImportId\":\"QID49\"}   \n2                                                 34   \n3                                                 34   \n4                                                 31   \n\n             Time_Set12_First Click            Time_Set12_Last Click  \\\n0              Timing - First Click              Timing - Last Click   \n1  {\"ImportId\":\"QID50_FIRST_CLICK\"}  {\"ImportId\":\"QID50_LAST_CLICK\"}   \n2                            11.948                           11.948   \n3                            12.492                           12.492   \n4                             4.715                            4.715   \n\n             Time_Set12_Page Submit            Time_Set12_Click Count  \\\n0              Timing - Page Submit              Timing - Click Count   \n1  {\"ImportId\":\"QID50_PAGE_SUBMIT\"}  {\"ImportId\":\"QID50_CLICK_COUNT\"}   \n2                            12.801                                 1   \n3                            15.232                                 1   \n4                             6.572                                 1   \n\n                                            Comments  \n0  Ďakujem Vám veľmi pekne za vyplnenie prieskumu...  \n1                          {\"ImportId\":\"QID53_TEXT\"}  \n2                                                NaN  \n3                                                NaN  \n4                                                NaN  \n\n[5 rows x 88 columns]",
      "text/html": "<div>\n<style scoped>\n    .dataframe tbody tr th:only-of-type {\n        vertical-align: middle;\n    }\n\n    .dataframe tbody tr th {\n        vertical-align: top;\n    }\n\n    .dataframe thead th {\n        text-align: right;\n    }\n</style>\n<table border=\"1\" class=\"dataframe\">\n  <thead>\n    <tr style=\"text-align: right;\">\n      <th></th>\n      <th>StartDate</th>\n      <th>EndDate</th>\n      <th>Status</th>\n      <th>Progress</th>\n      <th>Duration (in seconds)</th>\n      <th>Finished</th>\n      <th>RecordedDate</th>\n      <th>ResponseId</th>\n      <th>DistributionChannel</th>\n      <th>UserLanguage</th>\n      <th>...</th>\n      <th>Time_Set11_First Click</th>\n      <th>Time_Set11_Last Click</th>\n      <th>Time_Set11_Page Submit</th>\n      <th>Time_Set11_Click Count</th>\n      <th>Set12</th>\n      <th>Time_Set12_First Click</th>\n      <th>Time_Set12_Last Click</th>\n      <th>Time_Set12_Page Submit</th>\n      <th>Time_Set12_Click Count</th>\n      <th>Comments</th>\n    </tr>\n  </thead>\n  <tbody>\n    <tr>\n      <th>0</th>\n      <td>Start Date</td>\n      <td>End Date</td>\n      <td>Response Type</td>\n      <td>Progress</td>\n      <td>Duration (in seconds)</td>\n      <td>Finished</td>\n      <td>Recorded Date</td>\n      <td>Response ID</td>\n      <td>Distribution Channel</td>\n      <td>User Language</td>\n      <td>...</td>\n      <td>Timing - First Click</td>\n      <td>Timing - Last Click</td>\n      <td>Timing - Page Submit</td>\n      <td>Timing - Click Count</td>\n      <td>Ktorý z plánov elektrickej energie by ste si z...</td>\n      <td>Timing - First Click</td>\n      <td>Timing - Last Click</td>\n      <td>Timing - Page Submit</td>\n      <td>Timing - Click Count</td>\n      <td>Ďakujem Vám veľmi pekne za vyplnenie prieskumu...</td>\n    </tr>\n    <tr>\n      <th>1</th>\n      <td>{\"ImportId\":\"startDate\",\"timeZone\":\"America/De...</td>\n      <td>{\"ImportId\":\"endDate\",\"timeZone\":\"America/Denv...</td>\n      <td>{\"ImportId\":\"status\"}</td>\n      <td>{\"ImportId\":\"progress\"}</td>\n      <td>{\"ImportId\":\"duration\"}</td>\n      <td>{\"ImportId\":\"finished\"}</td>\n      <td>{\"ImportId\":\"recordedDate\",\"timeZone\":\"America...</td>\n      <td>{\"ImportId\":\"_recordId\"}</td>\n      <td>{\"ImportId\":\"distributionChannel\"}</td>\n      <td>{\"ImportId\":\"userLanguage\"}</td>\n      <td>...</td>\n      <td>{\"ImportId\":\"QID48_FIRST_CLICK\"}</td>\n      <td>{\"ImportId\":\"QID48_LAST_CLICK\"}</td>\n      <td>{\"ImportId\":\"QID48_PAGE_SUBMIT\"}</td>\n      <td>{\"ImportId\":\"QID48_CLICK_COUNT\"}</td>\n      <td>{\"ImportId\":\"QID49\"}</td>\n      <td>{\"ImportId\":\"QID50_FIRST_CLICK\"}</td>\n      <td>{\"ImportId\":\"QID50_LAST_CLICK\"}</td>\n      <td>{\"ImportId\":\"QID50_PAGE_SUBMIT\"}</td>\n      <td>{\"ImportId\":\"QID50_CLICK_COUNT\"}</td>\n      <td>{\"ImportId\":\"QID53_TEXT\"}</td>\n    </tr>\n    <tr>\n      <th>2</th>\n      <td>2022-05-11 11:52:06</td>\n      <td>2022-05-11 11:58:41</td>\n      <td>0</td>\n      <td>100</td>\n      <td>395</td>\n      <td>1</td>\n      <td>2022-05-11 11:58:43</td>\n      <td>R_3MT1M3RGIptBp7p</td>\n      <td>anonymous</td>\n      <td>SK</td>\n      <td>...</td>\n      <td>2.101</td>\n      <td>2.101</td>\n      <td>4.201</td>\n      <td>1</td>\n      <td>34</td>\n      <td>11.948</td>\n      <td>11.948</td>\n      <td>12.801</td>\n      <td>1</td>\n      <td>NaN</td>\n    </tr>\n    <tr>\n      <th>3</th>\n      <td>2022-05-11 11:53:17</td>\n      <td>2022-05-11 12:03:09</td>\n      <td>0</td>\n      <td>100</td>\n      <td>592</td>\n      <td>1</td>\n      <td>2022-05-11 12:18:13</td>\n      <td>R_1DToeJUVStjMAtO</td>\n      <td>anonymous</td>\n      <td>SK</td>\n      <td>...</td>\n      <td>11.332</td>\n      <td>11.332</td>\n      <td>12.606</td>\n      <td>1</td>\n      <td>34</td>\n      <td>12.492</td>\n      <td>12.492</td>\n      <td>15.232</td>\n      <td>1</td>\n      <td>NaN</td>\n    </tr>\n    <tr>\n      <th>4</th>\n      <td>2022-05-11 12:10:49</td>\n      <td>2022-05-11 12:24:48</td>\n      <td>0</td>\n      <td>100</td>\n      <td>839</td>\n      <td>1</td>\n      <td>2022-05-11 12:24:50</td>\n      <td>R_2BzEib2HRgW3hSU</td>\n      <td>anonymous</td>\n      <td>SK</td>\n      <td>...</td>\n      <td>4.504</td>\n      <td>4.504</td>\n      <td>6.046</td>\n      <td>1</td>\n      <td>31</td>\n      <td>4.715</td>\n      <td>4.715</td>\n      <td>6.572</td>\n      <td>1</td>\n      <td>NaN</td>\n    </tr>\n  </tbody>\n</table>\n<p>5 rows × 88 columns</p>\n</div>"
     },
     "execution_count": 5,
     "metadata": {},
     "output_type": "execute_result"
    }
   ],
   "source": [
    "data_num.head()"
   ],
   "metadata": {
    "collapsed": false,
    "pycharm": {
     "name": "#%%\n"
    }
   }
  },
  {
   "cell_type": "code",
   "execution_count": 6,
   "outputs": [],
   "source": [
    "#Data Cleaning\n",
    "data_num = data_num.drop(index=[0,1],axis=1) #run only once\n",
    "columns_drop=['StartDate','EndDate','Status','Progress','Finished','RecordedDate','DistributionChannel','UserLanguage','Data Agreement','Comments']\n",
    "data_num = data_num.drop(columns=columns_drop)"
   ],
   "metadata": {
    "collapsed": false,
    "pycharm": {
     "name": "#%%\n"
    }
   }
  },
  {
   "cell_type": "code",
   "execution_count": 7,
   "outputs": [],
   "source": [
    "#Columns_rename\n",
    "columns_rename = {'Task1_1':'Task_temp','Task1_2':'Task_source','Task1_3':'Task_consumption','Task1_4':'Task_appliances'}\n",
    "data_num.rename(columns=columns_rename, inplace=True)"
   ],
   "metadata": {
    "collapsed": false,
    "pycharm": {
     "name": "#%%\n"
    }
   }
  },
  {
   "cell_type": "code",
   "execution_count": 8,
   "outputs": [],
   "source": [
    "#Providers & Appliances\n",
    "providers_count =  data_num['Providers'].str.count('\\w+')\n",
    "data_num.insert(13,'Providers_count', providers_count)\n",
    "appliances_count = data_num['Appliances'].str.count('\\w+')\n",
    "data_num.insert(15,'Appliance_count',appliances_count)      #count # of providers and appliances\n",
    "\n",
    "#see if green providers\n",
    "#data_num['Know_green_provider'] = data_num['Know_green_provider']==1 if ((data_num['Providers'].str.contains('2')  | data_num['Providers'].str.count('7')==1"
   ],
   "metadata": {
    "collapsed": false,
    "pycharm": {
     "name": "#%%\n"
    }
   }
  },
  {
   "cell_type": "code",
   "execution_count": 9,
   "outputs": [
    {
     "data": {
      "text/plain": "   Duration (in seconds)         ResponseId Age Gender Income  \\\n2                    395  R_3MT1M3RGIptBp7p  53      2      5   \n3                    592  R_1DToeJUVStjMAtO  47      2      4   \n4                    839  R_2BzEib2HRgW3hSU  56      1      5   \n5                    240  R_paVBddl8ds6hOO5  38      2      3   \n6                    345  R_10MnS2PtSYnSXx9  23      1      3   \n7                    482  R_2OT1ukc71EmK2AT  36      2      6   \n8                    505  R_RPPPUFPva0I0g6d  23      1      6   \n9                   1481  R_tRnGvEI06RwLbsB  32      1      5   \n10                  1182  R_d9V6boP8R1mKdtT  30      1      6   \n11                193793  R_3nvFpVCe1qYXVkb  21      1      4   \n12                246230  R_ROYtLuakH8DHea5  26      2      3   \n\n   Energy Consumption Tariff payment_1 Region Household_size  ... Set11  \\\n2                   2    NaN        67      3              3  ...    34   \n3                   1      1        47      3              4  ...    31   \n4                   1      1        41      3              4  ...    31   \n5                   2    NaN        25      3              1  ...    31   \n6                   2    NaN        38      3              1  ...    31   \n7                   1      4        48      3              4  ...    31   \n8                   2    NaN        50      3              2  ...    31   \n9                   2    NaN         5      1              2  ...    34   \n10                  2    NaN        82      3              2  ...    31   \n11                  2    NaN       157      2              3  ...    31   \n12                  2    NaN        30      3              2  ...    34   \n\n   Time_Set11_First Click Time_Set11_Last Click  Time_Set11_Page Submit  \\\n2                   2.101                 2.101                   4.201   \n3                  11.332                11.332                  12.606   \n4                   4.504                 4.504                   6.046   \n5                   1.607                 1.607                   2.273   \n6                  10.536                10.536                  11.779   \n7                   8.175                 8.175                   9.061   \n8                   7.407                 7.407                  11.933   \n9                  13.593                13.593                  14.481   \n10                  7.719                 8.817                  10.946   \n11                  4.227                 4.741                   6.748   \n12                  4.074                 4.074                    6.42   \n\n   Time_Set11_Click Count  Set12 Time_Set12_First Click Time_Set12_Last Click  \\\n2                       1     34                 11.948                11.948   \n3                       1     34                 12.492                12.492   \n4                       1     31                  4.715                 4.715   \n5                       1     34                  1.471                 1.471   \n6                       1     31                  7.405                  8.12   \n7                       1     34                  9.579                 9.579   \n8                       1     34                 14.419                14.419   \n9                       1     34                  2.284                 2.284   \n10                      2     31                  11.25                 11.91   \n11                      2     31                  4.405                 4.405   \n12                      1     31                  1.351                 2.889   \n\n   Time_Set12_Page Submit Time_Set12_Click Count  \n2                  12.801                      1  \n3                  15.232                      1  \n4                   6.572                      1  \n5                   5.045                      1  \n6                   9.267                      2  \n7                  10.413                      1  \n8                  15.136                      1  \n9                   2.991                      1  \n10                 12.495                      2  \n11                  5.098                      1  \n12                  4.201                      2  \n\n[11 rows x 80 columns]",
      "text/html": "<div>\n<style scoped>\n    .dataframe tbody tr th:only-of-type {\n        vertical-align: middle;\n    }\n\n    .dataframe tbody tr th {\n        vertical-align: top;\n    }\n\n    .dataframe thead th {\n        text-align: right;\n    }\n</style>\n<table border=\"1\" class=\"dataframe\">\n  <thead>\n    <tr style=\"text-align: right;\">\n      <th></th>\n      <th>Duration (in seconds)</th>\n      <th>ResponseId</th>\n      <th>Age</th>\n      <th>Gender</th>\n      <th>Income</th>\n      <th>Energy Consumption</th>\n      <th>Tariff</th>\n      <th>payment_1</th>\n      <th>Region</th>\n      <th>Household_size</th>\n      <th>...</th>\n      <th>Set11</th>\n      <th>Time_Set11_First Click</th>\n      <th>Time_Set11_Last Click</th>\n      <th>Time_Set11_Page Submit</th>\n      <th>Time_Set11_Click Count</th>\n      <th>Set12</th>\n      <th>Time_Set12_First Click</th>\n      <th>Time_Set12_Last Click</th>\n      <th>Time_Set12_Page Submit</th>\n      <th>Time_Set12_Click Count</th>\n    </tr>\n  </thead>\n  <tbody>\n    <tr>\n      <th>2</th>\n      <td>395</td>\n      <td>R_3MT1M3RGIptBp7p</td>\n      <td>53</td>\n      <td>2</td>\n      <td>5</td>\n      <td>2</td>\n      <td>NaN</td>\n      <td>67</td>\n      <td>3</td>\n      <td>3</td>\n      <td>...</td>\n      <td>34</td>\n      <td>2.101</td>\n      <td>2.101</td>\n      <td>4.201</td>\n      <td>1</td>\n      <td>34</td>\n      <td>11.948</td>\n      <td>11.948</td>\n      <td>12.801</td>\n      <td>1</td>\n    </tr>\n    <tr>\n      <th>3</th>\n      <td>592</td>\n      <td>R_1DToeJUVStjMAtO</td>\n      <td>47</td>\n      <td>2</td>\n      <td>4</td>\n      <td>1</td>\n      <td>1</td>\n      <td>47</td>\n      <td>3</td>\n      <td>4</td>\n      <td>...</td>\n      <td>31</td>\n      <td>11.332</td>\n      <td>11.332</td>\n      <td>12.606</td>\n      <td>1</td>\n      <td>34</td>\n      <td>12.492</td>\n      <td>12.492</td>\n      <td>15.232</td>\n      <td>1</td>\n    </tr>\n    <tr>\n      <th>4</th>\n      <td>839</td>\n      <td>R_2BzEib2HRgW3hSU</td>\n      <td>56</td>\n      <td>1</td>\n      <td>5</td>\n      <td>1</td>\n      <td>1</td>\n      <td>41</td>\n      <td>3</td>\n      <td>4</td>\n      <td>...</td>\n      <td>31</td>\n      <td>4.504</td>\n      <td>4.504</td>\n      <td>6.046</td>\n      <td>1</td>\n      <td>31</td>\n      <td>4.715</td>\n      <td>4.715</td>\n      <td>6.572</td>\n      <td>1</td>\n    </tr>\n    <tr>\n      <th>5</th>\n      <td>240</td>\n      <td>R_paVBddl8ds6hOO5</td>\n      <td>38</td>\n      <td>2</td>\n      <td>3</td>\n      <td>2</td>\n      <td>NaN</td>\n      <td>25</td>\n      <td>3</td>\n      <td>1</td>\n      <td>...</td>\n      <td>31</td>\n      <td>1.607</td>\n      <td>1.607</td>\n      <td>2.273</td>\n      <td>1</td>\n      <td>34</td>\n      <td>1.471</td>\n      <td>1.471</td>\n      <td>5.045</td>\n      <td>1</td>\n    </tr>\n    <tr>\n      <th>6</th>\n      <td>345</td>\n      <td>R_10MnS2PtSYnSXx9</td>\n      <td>23</td>\n      <td>1</td>\n      <td>3</td>\n      <td>2</td>\n      <td>NaN</td>\n      <td>38</td>\n      <td>3</td>\n      <td>1</td>\n      <td>...</td>\n      <td>31</td>\n      <td>10.536</td>\n      <td>10.536</td>\n      <td>11.779</td>\n      <td>1</td>\n      <td>31</td>\n      <td>7.405</td>\n      <td>8.12</td>\n      <td>9.267</td>\n      <td>2</td>\n    </tr>\n    <tr>\n      <th>7</th>\n      <td>482</td>\n      <td>R_2OT1ukc71EmK2AT</td>\n      <td>36</td>\n      <td>2</td>\n      <td>6</td>\n      <td>1</td>\n      <td>4</td>\n      <td>48</td>\n      <td>3</td>\n      <td>4</td>\n      <td>...</td>\n      <td>31</td>\n      <td>8.175</td>\n      <td>8.175</td>\n      <td>9.061</td>\n      <td>1</td>\n      <td>34</td>\n      <td>9.579</td>\n      <td>9.579</td>\n      <td>10.413</td>\n      <td>1</td>\n    </tr>\n    <tr>\n      <th>8</th>\n      <td>505</td>\n      <td>R_RPPPUFPva0I0g6d</td>\n      <td>23</td>\n      <td>1</td>\n      <td>6</td>\n      <td>2</td>\n      <td>NaN</td>\n      <td>50</td>\n      <td>3</td>\n      <td>2</td>\n      <td>...</td>\n      <td>31</td>\n      <td>7.407</td>\n      <td>7.407</td>\n      <td>11.933</td>\n      <td>1</td>\n      <td>34</td>\n      <td>14.419</td>\n      <td>14.419</td>\n      <td>15.136</td>\n      <td>1</td>\n    </tr>\n    <tr>\n      <th>9</th>\n      <td>1481</td>\n      <td>R_tRnGvEI06RwLbsB</td>\n      <td>32</td>\n      <td>1</td>\n      <td>5</td>\n      <td>2</td>\n      <td>NaN</td>\n      <td>5</td>\n      <td>1</td>\n      <td>2</td>\n      <td>...</td>\n      <td>34</td>\n      <td>13.593</td>\n      <td>13.593</td>\n      <td>14.481</td>\n      <td>1</td>\n      <td>34</td>\n      <td>2.284</td>\n      <td>2.284</td>\n      <td>2.991</td>\n      <td>1</td>\n    </tr>\n    <tr>\n      <th>10</th>\n      <td>1182</td>\n      <td>R_d9V6boP8R1mKdtT</td>\n      <td>30</td>\n      <td>1</td>\n      <td>6</td>\n      <td>2</td>\n      <td>NaN</td>\n      <td>82</td>\n      <td>3</td>\n      <td>2</td>\n      <td>...</td>\n      <td>31</td>\n      <td>7.719</td>\n      <td>8.817</td>\n      <td>10.946</td>\n      <td>2</td>\n      <td>31</td>\n      <td>11.25</td>\n      <td>11.91</td>\n      <td>12.495</td>\n      <td>2</td>\n    </tr>\n    <tr>\n      <th>11</th>\n      <td>193793</td>\n      <td>R_3nvFpVCe1qYXVkb</td>\n      <td>21</td>\n      <td>1</td>\n      <td>4</td>\n      <td>2</td>\n      <td>NaN</td>\n      <td>157</td>\n      <td>2</td>\n      <td>3</td>\n      <td>...</td>\n      <td>31</td>\n      <td>4.227</td>\n      <td>4.741</td>\n      <td>6.748</td>\n      <td>2</td>\n      <td>31</td>\n      <td>4.405</td>\n      <td>4.405</td>\n      <td>5.098</td>\n      <td>1</td>\n    </tr>\n    <tr>\n      <th>12</th>\n      <td>246230</td>\n      <td>R_ROYtLuakH8DHea5</td>\n      <td>26</td>\n      <td>2</td>\n      <td>3</td>\n      <td>2</td>\n      <td>NaN</td>\n      <td>30</td>\n      <td>3</td>\n      <td>2</td>\n      <td>...</td>\n      <td>34</td>\n      <td>4.074</td>\n      <td>4.074</td>\n      <td>6.42</td>\n      <td>1</td>\n      <td>31</td>\n      <td>1.351</td>\n      <td>2.889</td>\n      <td>4.201</td>\n      <td>2</td>\n    </tr>\n  </tbody>\n</table>\n<p>11 rows × 80 columns</p>\n</div>"
     },
     "execution_count": 9,
     "metadata": {},
     "output_type": "execute_result"
    }
   ],
   "source": [
    "data_num"
   ],
   "metadata": {
    "collapsed": false,
    "pycharm": {
     "name": "#%%\n"
    }
   }
  },
  {
   "cell_type": "code",
   "execution_count": 10,
   "outputs": [],
   "source": [
    "#Sets encoding\n",
    "sets = ['Set1','Set2','Set3','Set4','Set5','Set6','Set7','Set8','Set9','Set10','Set11','Set12']\n",
    "new_sets = []\n",
    "\n",
    "for i in sets:\n",
    "    a = i+\"_a\"\n",
    "    b = i+\"_b\"\n",
    "    new_sets.append(a)\n",
    "    new_sets.append(b)\n",
    "\n",
    "for i in new_sets:\n",
    "    data_num.insert(len(data_num.columns),i,0)\n"
   ],
   "metadata": {
    "collapsed": false,
    "pycharm": {
     "name": "#%%\n"
    }
   }
  },
  {
   "cell_type": "code",
   "execution_count": 11,
   "outputs": [
    {
     "data": {
      "text/plain": "   Duration (in seconds)         ResponseId Age Gender Income  \\\n2                    395  R_3MT1M3RGIptBp7p  53      2      5   \n3                    592  R_1DToeJUVStjMAtO  47      2      4   \n4                    839  R_2BzEib2HRgW3hSU  56      1      5   \n5                    240  R_paVBddl8ds6hOO5  38      2      3   \n6                    345  R_10MnS2PtSYnSXx9  23      1      3   \n7                    482  R_2OT1ukc71EmK2AT  36      2      6   \n8                    505  R_RPPPUFPva0I0g6d  23      1      6   \n9                   1481  R_tRnGvEI06RwLbsB  32      1      5   \n10                  1182  R_d9V6boP8R1mKdtT  30      1      6   \n11                193793  R_3nvFpVCe1qYXVkb  21      1      4   \n12                246230  R_ROYtLuakH8DHea5  26      2      3   \n\n   Energy Consumption Tariff payment_1 Region Household_size  ... Set8_a  \\\n2                   2    NaN        67      3              3  ...      1   \n3                   1      1        47      3              4  ...      0   \n4                   1      1        41      3              4  ...      1   \n5                   2    NaN        25      3              1  ...      1   \n6                   2    NaN        38      3              1  ...      1   \n7                   1      4        48      3              4  ...      1   \n8                   2    NaN        50      3              2  ...      1   \n9                   2    NaN         5      1              2  ...      1   \n10                  2    NaN        82      3              2  ...      0   \n11                  2    NaN       157      2              3  ...      1   \n12                  2    NaN        30      3              2  ...      1   \n\n   Set8_b Set9_a  Set9_b Set10_a  Set10_b Set11_a Set11_b Set12_a Set12_b  \n2       0      0       1       1        0       0       1       0       1  \n3       1      0       1       0        1       1       0       0       1  \n4       0      1       0       1        0       1       0       1       0  \n5       0      1       0       1        0       1       0       0       1  \n6       0      0       1       0        1       1       0       1       0  \n7       0      1       0       0        1       1       0       0       1  \n8       0      0       1       1        0       1       0       0       1  \n9       0      0       1       0        1       0       1       0       1  \n10      1      0       1       0        1       1       0       1       0  \n11      0      0       1       0        1       1       0       1       0  \n12      0      0       1       0        1       0       1       1       0  \n\n[11 rows x 104 columns]",
      "text/html": "<div>\n<style scoped>\n    .dataframe tbody tr th:only-of-type {\n        vertical-align: middle;\n    }\n\n    .dataframe tbody tr th {\n        vertical-align: top;\n    }\n\n    .dataframe thead th {\n        text-align: right;\n    }\n</style>\n<table border=\"1\" class=\"dataframe\">\n  <thead>\n    <tr style=\"text-align: right;\">\n      <th></th>\n      <th>Duration (in seconds)</th>\n      <th>ResponseId</th>\n      <th>Age</th>\n      <th>Gender</th>\n      <th>Income</th>\n      <th>Energy Consumption</th>\n      <th>Tariff</th>\n      <th>payment_1</th>\n      <th>Region</th>\n      <th>Household_size</th>\n      <th>...</th>\n      <th>Set8_a</th>\n      <th>Set8_b</th>\n      <th>Set9_a</th>\n      <th>Set9_b</th>\n      <th>Set10_a</th>\n      <th>Set10_b</th>\n      <th>Set11_a</th>\n      <th>Set11_b</th>\n      <th>Set12_a</th>\n      <th>Set12_b</th>\n    </tr>\n  </thead>\n  <tbody>\n    <tr>\n      <th>2</th>\n      <td>395</td>\n      <td>R_3MT1M3RGIptBp7p</td>\n      <td>53</td>\n      <td>2</td>\n      <td>5</td>\n      <td>2</td>\n      <td>NaN</td>\n      <td>67</td>\n      <td>3</td>\n      <td>3</td>\n      <td>...</td>\n      <td>1</td>\n      <td>0</td>\n      <td>0</td>\n      <td>1</td>\n      <td>1</td>\n      <td>0</td>\n      <td>0</td>\n      <td>1</td>\n      <td>0</td>\n      <td>1</td>\n    </tr>\n    <tr>\n      <th>3</th>\n      <td>592</td>\n      <td>R_1DToeJUVStjMAtO</td>\n      <td>47</td>\n      <td>2</td>\n      <td>4</td>\n      <td>1</td>\n      <td>1</td>\n      <td>47</td>\n      <td>3</td>\n      <td>4</td>\n      <td>...</td>\n      <td>0</td>\n      <td>1</td>\n      <td>0</td>\n      <td>1</td>\n      <td>0</td>\n      <td>1</td>\n      <td>1</td>\n      <td>0</td>\n      <td>0</td>\n      <td>1</td>\n    </tr>\n    <tr>\n      <th>4</th>\n      <td>839</td>\n      <td>R_2BzEib2HRgW3hSU</td>\n      <td>56</td>\n      <td>1</td>\n      <td>5</td>\n      <td>1</td>\n      <td>1</td>\n      <td>41</td>\n      <td>3</td>\n      <td>4</td>\n      <td>...</td>\n      <td>1</td>\n      <td>0</td>\n      <td>1</td>\n      <td>0</td>\n      <td>1</td>\n      <td>0</td>\n      <td>1</td>\n      <td>0</td>\n      <td>1</td>\n      <td>0</td>\n    </tr>\n    <tr>\n      <th>5</th>\n      <td>240</td>\n      <td>R_paVBddl8ds6hOO5</td>\n      <td>38</td>\n      <td>2</td>\n      <td>3</td>\n      <td>2</td>\n      <td>NaN</td>\n      <td>25</td>\n      <td>3</td>\n      <td>1</td>\n      <td>...</td>\n      <td>1</td>\n      <td>0</td>\n      <td>1</td>\n      <td>0</td>\n      <td>1</td>\n      <td>0</td>\n      <td>1</td>\n      <td>0</td>\n      <td>0</td>\n      <td>1</td>\n    </tr>\n    <tr>\n      <th>6</th>\n      <td>345</td>\n      <td>R_10MnS2PtSYnSXx9</td>\n      <td>23</td>\n      <td>1</td>\n      <td>3</td>\n      <td>2</td>\n      <td>NaN</td>\n      <td>38</td>\n      <td>3</td>\n      <td>1</td>\n      <td>...</td>\n      <td>1</td>\n      <td>0</td>\n      <td>0</td>\n      <td>1</td>\n      <td>0</td>\n      <td>1</td>\n      <td>1</td>\n      <td>0</td>\n      <td>1</td>\n      <td>0</td>\n    </tr>\n    <tr>\n      <th>7</th>\n      <td>482</td>\n      <td>R_2OT1ukc71EmK2AT</td>\n      <td>36</td>\n      <td>2</td>\n      <td>6</td>\n      <td>1</td>\n      <td>4</td>\n      <td>48</td>\n      <td>3</td>\n      <td>4</td>\n      <td>...</td>\n      <td>1</td>\n      <td>0</td>\n      <td>1</td>\n      <td>0</td>\n      <td>0</td>\n      <td>1</td>\n      <td>1</td>\n      <td>0</td>\n      <td>0</td>\n      <td>1</td>\n    </tr>\n    <tr>\n      <th>8</th>\n      <td>505</td>\n      <td>R_RPPPUFPva0I0g6d</td>\n      <td>23</td>\n      <td>1</td>\n      <td>6</td>\n      <td>2</td>\n      <td>NaN</td>\n      <td>50</td>\n      <td>3</td>\n      <td>2</td>\n      <td>...</td>\n      <td>1</td>\n      <td>0</td>\n      <td>0</td>\n      <td>1</td>\n      <td>1</td>\n      <td>0</td>\n      <td>1</td>\n      <td>0</td>\n      <td>0</td>\n      <td>1</td>\n    </tr>\n    <tr>\n      <th>9</th>\n      <td>1481</td>\n      <td>R_tRnGvEI06RwLbsB</td>\n      <td>32</td>\n      <td>1</td>\n      <td>5</td>\n      <td>2</td>\n      <td>NaN</td>\n      <td>5</td>\n      <td>1</td>\n      <td>2</td>\n      <td>...</td>\n      <td>1</td>\n      <td>0</td>\n      <td>0</td>\n      <td>1</td>\n      <td>0</td>\n      <td>1</td>\n      <td>0</td>\n      <td>1</td>\n      <td>0</td>\n      <td>1</td>\n    </tr>\n    <tr>\n      <th>10</th>\n      <td>1182</td>\n      <td>R_d9V6boP8R1mKdtT</td>\n      <td>30</td>\n      <td>1</td>\n      <td>6</td>\n      <td>2</td>\n      <td>NaN</td>\n      <td>82</td>\n      <td>3</td>\n      <td>2</td>\n      <td>...</td>\n      <td>0</td>\n      <td>1</td>\n      <td>0</td>\n      <td>1</td>\n      <td>0</td>\n      <td>1</td>\n      <td>1</td>\n      <td>0</td>\n      <td>1</td>\n      <td>0</td>\n    </tr>\n    <tr>\n      <th>11</th>\n      <td>193793</td>\n      <td>R_3nvFpVCe1qYXVkb</td>\n      <td>21</td>\n      <td>1</td>\n      <td>4</td>\n      <td>2</td>\n      <td>NaN</td>\n      <td>157</td>\n      <td>2</td>\n      <td>3</td>\n      <td>...</td>\n      <td>1</td>\n      <td>0</td>\n      <td>0</td>\n      <td>1</td>\n      <td>0</td>\n      <td>1</td>\n      <td>1</td>\n      <td>0</td>\n      <td>1</td>\n      <td>0</td>\n    </tr>\n    <tr>\n      <th>12</th>\n      <td>246230</td>\n      <td>R_ROYtLuakH8DHea5</td>\n      <td>26</td>\n      <td>2</td>\n      <td>3</td>\n      <td>2</td>\n      <td>NaN</td>\n      <td>30</td>\n      <td>3</td>\n      <td>2</td>\n      <td>...</td>\n      <td>1</td>\n      <td>0</td>\n      <td>0</td>\n      <td>1</td>\n      <td>0</td>\n      <td>1</td>\n      <td>0</td>\n      <td>1</td>\n      <td>1</td>\n      <td>0</td>\n    </tr>\n  </tbody>\n</table>\n<p>11 rows × 104 columns</p>\n</div>"
     },
     "execution_count": 11,
     "metadata": {},
     "output_type": "execute_result"
    }
   ],
   "source": [
    "for column in data_num[sets]:\n",
    "    data_num.loc[data_num[str(column)]=='31', str(column+\"_a\")] = 1\n",
    "    data_num.loc[data_num[str(column)]=='34', str(column+\"_b\")] = 1\n",
    "\n",
    "data_num"
   ],
   "metadata": {
    "collapsed": false,
    "pycharm": {
     "name": "#%%\n"
    }
   }
  },
  {
   "cell_type": "code",
   "execution_count": 12,
   "outputs": [],
   "source": [
    "analysis_columns = new_sets.copy()\n",
    "analysis_columns.append('ResponseId')\n"
   ],
   "metadata": {
    "collapsed": false,
    "pycharm": {
     "name": "#%%\n"
    }
   }
  },
  {
   "cell_type": "code",
   "execution_count": 13,
   "outputs": [],
   "source": [
    "analysis = data_num[analysis_columns]"
   ],
   "metadata": {
    "collapsed": false,
    "pycharm": {
     "name": "#%%\n"
    }
   }
  },
  {
   "cell_type": "code",
   "execution_count": 14,
   "outputs": [
    {
     "data": {
      "text/plain": "           ResponseId  Set1_a  Set1_b  Set2_a  Set2_b  Set3_a  Set3_b  Set4_a  \\\n2   R_3MT1M3RGIptBp7p       0       1       0       1       0       1       0   \n3   R_1DToeJUVStjMAtO       0       1       0       1       1       0       0   \n4   R_2BzEib2HRgW3hSU       0       1       1       0       0       1       0   \n5   R_paVBddl8ds6hOO5       0       1       1       0       1       0       0   \n6   R_10MnS2PtSYnSXx9       0       1       0       1       1       0       0   \n7   R_2OT1ukc71EmK2AT       1       0       0       1       0       1       0   \n8   R_RPPPUFPva0I0g6d       0       1       0       1       1       0       0   \n9   R_tRnGvEI06RwLbsB       0       1       0       1       1       0       0   \n10  R_d9V6boP8R1mKdtT       0       1       1       0       1       0       0   \n11  R_3nvFpVCe1qYXVkb       0       1       1       0       0       1       0   \n12  R_ROYtLuakH8DHea5       0       1       0       1       1       0       1   \n\n    Set4_b  Set5_a  ...  Set8_a  Set8_b  Set9_a  Set9_b  Set10_a  Set10_b  \\\n2        1       0  ...       1       0       0       1        1        0   \n3        1       0  ...       0       1       0       1        0        1   \n4        1       1  ...       1       0       1       0        1        0   \n5        1       1  ...       1       0       1       0        1        0   \n6        1       0  ...       1       0       0       1        0        1   \n7        1       0  ...       1       0       1       0        0        1   \n8        1       0  ...       1       0       0       1        1        0   \n9        1       0  ...       1       0       0       1        0        1   \n10       1       0  ...       0       1       0       1        0        1   \n11       1       1  ...       1       0       0       1        0        1   \n12       0       0  ...       1       0       0       1        0        1   \n\n    Set11_a  Set11_b  Set12_a  Set12_b  \n2         0        1        0        1  \n3         1        0        0        1  \n4         1        0        1        0  \n5         1        0        0        1  \n6         1        0        1        0  \n7         1        0        0        1  \n8         1        0        0        1  \n9         0        1        0        1  \n10        1        0        1        0  \n11        1        0        1        0  \n12        0        1        1        0  \n\n[11 rows x 25 columns]",
      "text/html": "<div>\n<style scoped>\n    .dataframe tbody tr th:only-of-type {\n        vertical-align: middle;\n    }\n\n    .dataframe tbody tr th {\n        vertical-align: top;\n    }\n\n    .dataframe thead th {\n        text-align: right;\n    }\n</style>\n<table border=\"1\" class=\"dataframe\">\n  <thead>\n    <tr style=\"text-align: right;\">\n      <th></th>\n      <th>ResponseId</th>\n      <th>Set1_a</th>\n      <th>Set1_b</th>\n      <th>Set2_a</th>\n      <th>Set2_b</th>\n      <th>Set3_a</th>\n      <th>Set3_b</th>\n      <th>Set4_a</th>\n      <th>Set4_b</th>\n      <th>Set5_a</th>\n      <th>...</th>\n      <th>Set8_a</th>\n      <th>Set8_b</th>\n      <th>Set9_a</th>\n      <th>Set9_b</th>\n      <th>Set10_a</th>\n      <th>Set10_b</th>\n      <th>Set11_a</th>\n      <th>Set11_b</th>\n      <th>Set12_a</th>\n      <th>Set12_b</th>\n    </tr>\n  </thead>\n  <tbody>\n    <tr>\n      <th>2</th>\n      <td>R_3MT1M3RGIptBp7p</td>\n      <td>0</td>\n      <td>1</td>\n      <td>0</td>\n      <td>1</td>\n      <td>0</td>\n      <td>1</td>\n      <td>0</td>\n      <td>1</td>\n      <td>0</td>\n      <td>...</td>\n      <td>1</td>\n      <td>0</td>\n      <td>0</td>\n      <td>1</td>\n      <td>1</td>\n      <td>0</td>\n      <td>0</td>\n      <td>1</td>\n      <td>0</td>\n      <td>1</td>\n    </tr>\n    <tr>\n      <th>3</th>\n      <td>R_1DToeJUVStjMAtO</td>\n      <td>0</td>\n      <td>1</td>\n      <td>0</td>\n      <td>1</td>\n      <td>1</td>\n      <td>0</td>\n      <td>0</td>\n      <td>1</td>\n      <td>0</td>\n      <td>...</td>\n      <td>0</td>\n      <td>1</td>\n      <td>0</td>\n      <td>1</td>\n      <td>0</td>\n      <td>1</td>\n      <td>1</td>\n      <td>0</td>\n      <td>0</td>\n      <td>1</td>\n    </tr>\n    <tr>\n      <th>4</th>\n      <td>R_2BzEib2HRgW3hSU</td>\n      <td>0</td>\n      <td>1</td>\n      <td>1</td>\n      <td>0</td>\n      <td>0</td>\n      <td>1</td>\n      <td>0</td>\n      <td>1</td>\n      <td>1</td>\n      <td>...</td>\n      <td>1</td>\n      <td>0</td>\n      <td>1</td>\n      <td>0</td>\n      <td>1</td>\n      <td>0</td>\n      <td>1</td>\n      <td>0</td>\n      <td>1</td>\n      <td>0</td>\n    </tr>\n    <tr>\n      <th>5</th>\n      <td>R_paVBddl8ds6hOO5</td>\n      <td>0</td>\n      <td>1</td>\n      <td>1</td>\n      <td>0</td>\n      <td>1</td>\n      <td>0</td>\n      <td>0</td>\n      <td>1</td>\n      <td>1</td>\n      <td>...</td>\n      <td>1</td>\n      <td>0</td>\n      <td>1</td>\n      <td>0</td>\n      <td>1</td>\n      <td>0</td>\n      <td>1</td>\n      <td>0</td>\n      <td>0</td>\n      <td>1</td>\n    </tr>\n    <tr>\n      <th>6</th>\n      <td>R_10MnS2PtSYnSXx9</td>\n      <td>0</td>\n      <td>1</td>\n      <td>0</td>\n      <td>1</td>\n      <td>1</td>\n      <td>0</td>\n      <td>0</td>\n      <td>1</td>\n      <td>0</td>\n      <td>...</td>\n      <td>1</td>\n      <td>0</td>\n      <td>0</td>\n      <td>1</td>\n      <td>0</td>\n      <td>1</td>\n      <td>1</td>\n      <td>0</td>\n      <td>1</td>\n      <td>0</td>\n    </tr>\n    <tr>\n      <th>7</th>\n      <td>R_2OT1ukc71EmK2AT</td>\n      <td>1</td>\n      <td>0</td>\n      <td>0</td>\n      <td>1</td>\n      <td>0</td>\n      <td>1</td>\n      <td>0</td>\n      <td>1</td>\n      <td>0</td>\n      <td>...</td>\n      <td>1</td>\n      <td>0</td>\n      <td>1</td>\n      <td>0</td>\n      <td>0</td>\n      <td>1</td>\n      <td>1</td>\n      <td>0</td>\n      <td>0</td>\n      <td>1</td>\n    </tr>\n    <tr>\n      <th>8</th>\n      <td>R_RPPPUFPva0I0g6d</td>\n      <td>0</td>\n      <td>1</td>\n      <td>0</td>\n      <td>1</td>\n      <td>1</td>\n      <td>0</td>\n      <td>0</td>\n      <td>1</td>\n      <td>0</td>\n      <td>...</td>\n      <td>1</td>\n      <td>0</td>\n      <td>0</td>\n      <td>1</td>\n      <td>1</td>\n      <td>0</td>\n      <td>1</td>\n      <td>0</td>\n      <td>0</td>\n      <td>1</td>\n    </tr>\n    <tr>\n      <th>9</th>\n      <td>R_tRnGvEI06RwLbsB</td>\n      <td>0</td>\n      <td>1</td>\n      <td>0</td>\n      <td>1</td>\n      <td>1</td>\n      <td>0</td>\n      <td>0</td>\n      <td>1</td>\n      <td>0</td>\n      <td>...</td>\n      <td>1</td>\n      <td>0</td>\n      <td>0</td>\n      <td>1</td>\n      <td>0</td>\n      <td>1</td>\n      <td>0</td>\n      <td>1</td>\n      <td>0</td>\n      <td>1</td>\n    </tr>\n    <tr>\n      <th>10</th>\n      <td>R_d9V6boP8R1mKdtT</td>\n      <td>0</td>\n      <td>1</td>\n      <td>1</td>\n      <td>0</td>\n      <td>1</td>\n      <td>0</td>\n      <td>0</td>\n      <td>1</td>\n      <td>0</td>\n      <td>...</td>\n      <td>0</td>\n      <td>1</td>\n      <td>0</td>\n      <td>1</td>\n      <td>0</td>\n      <td>1</td>\n      <td>1</td>\n      <td>0</td>\n      <td>1</td>\n      <td>0</td>\n    </tr>\n    <tr>\n      <th>11</th>\n      <td>R_3nvFpVCe1qYXVkb</td>\n      <td>0</td>\n      <td>1</td>\n      <td>1</td>\n      <td>0</td>\n      <td>0</td>\n      <td>1</td>\n      <td>0</td>\n      <td>1</td>\n      <td>1</td>\n      <td>...</td>\n      <td>1</td>\n      <td>0</td>\n      <td>0</td>\n      <td>1</td>\n      <td>0</td>\n      <td>1</td>\n      <td>1</td>\n      <td>0</td>\n      <td>1</td>\n      <td>0</td>\n    </tr>\n    <tr>\n      <th>12</th>\n      <td>R_ROYtLuakH8DHea5</td>\n      <td>0</td>\n      <td>1</td>\n      <td>0</td>\n      <td>1</td>\n      <td>1</td>\n      <td>0</td>\n      <td>1</td>\n      <td>0</td>\n      <td>0</td>\n      <td>...</td>\n      <td>1</td>\n      <td>0</td>\n      <td>0</td>\n      <td>1</td>\n      <td>0</td>\n      <td>1</td>\n      <td>0</td>\n      <td>1</td>\n      <td>1</td>\n      <td>0</td>\n    </tr>\n  </tbody>\n</table>\n<p>11 rows × 25 columns</p>\n</div>"
     },
     "execution_count": 14,
     "metadata": {},
     "output_type": "execute_result"
    }
   ],
   "source": [
    "df = analysis.pop('ResponseId')\n",
    "analysis.insert(0,'ResponseId',df)\n",
    "\n",
    "analysis"
   ],
   "metadata": {
    "collapsed": false,
    "pycharm": {
     "name": "#%%\n"
    }
   }
  },
  {
   "cell_type": "code",
   "execution_count": 15,
   "outputs": [
    {
     "data": {
      "text/plain": "                   index  Set1_a  Set1_b  Set2_a  Set2_b  Set3_a  Set3_b  \\\nResponseId                                                                 \nR_3MT1M3RGIptBp7p      2       0       1       0       1       0       1   \nR_1DToeJUVStjMAtO      3       0       1       0       1       1       0   \nR_2BzEib2HRgW3hSU      4       0       1       1       0       0       1   \nR_paVBddl8ds6hOO5      5       0       1       1       0       1       0   \nR_10MnS2PtSYnSXx9      6       0       1       0       1       1       0   \nR_2OT1ukc71EmK2AT      7       1       0       0       1       0       1   \nR_RPPPUFPva0I0g6d      8       0       1       0       1       1       0   \nR_tRnGvEI06RwLbsB      9       0       1       0       1       1       0   \nR_d9V6boP8R1mKdtT     10       0       1       1       0       1       0   \nR_3nvFpVCe1qYXVkb     11       0       1       1       0       0       1   \nR_ROYtLuakH8DHea5     12       0       1       0       1       1       0   \n\n                   Set4_a  Set4_b  Set5_a  ...  Set8_a  Set8_b  Set9_a  \\\nResponseId                                 ...                           \nR_3MT1M3RGIptBp7p       0       1       0  ...       1       0       0   \nR_1DToeJUVStjMAtO       0       1       0  ...       0       1       0   \nR_2BzEib2HRgW3hSU       0       1       1  ...       1       0       1   \nR_paVBddl8ds6hOO5       0       1       1  ...       1       0       1   \nR_10MnS2PtSYnSXx9       0       1       0  ...       1       0       0   \nR_2OT1ukc71EmK2AT       0       1       0  ...       1       0       1   \nR_RPPPUFPva0I0g6d       0       1       0  ...       1       0       0   \nR_tRnGvEI06RwLbsB       0       1       0  ...       1       0       0   \nR_d9V6boP8R1mKdtT       0       1       0  ...       0       1       0   \nR_3nvFpVCe1qYXVkb       0       1       1  ...       1       0       0   \nR_ROYtLuakH8DHea5       1       0       0  ...       1       0       0   \n\n                   Set9_b  Set10_a  Set10_b  Set11_a  Set11_b  Set12_a  \\\nResponseId                                                               \nR_3MT1M3RGIptBp7p       1        1        0        0        1        0   \nR_1DToeJUVStjMAtO       1        0        1        1        0        0   \nR_2BzEib2HRgW3hSU       0        1        0        1        0        1   \nR_paVBddl8ds6hOO5       0        1        0        1        0        0   \nR_10MnS2PtSYnSXx9       1        0        1        1        0        1   \nR_2OT1ukc71EmK2AT       0        0        1        1        0        0   \nR_RPPPUFPva0I0g6d       1        1        0        1        0        0   \nR_tRnGvEI06RwLbsB       1        0        1        0        1        0   \nR_d9V6boP8R1mKdtT       1        0        1        1        0        1   \nR_3nvFpVCe1qYXVkb       1        0        1        1        0        1   \nR_ROYtLuakH8DHea5       1        0        1        0        1        1   \n\n                   Set12_b  \nResponseId                  \nR_3MT1M3RGIptBp7p        1  \nR_1DToeJUVStjMAtO        1  \nR_2BzEib2HRgW3hSU        0  \nR_paVBddl8ds6hOO5        1  \nR_10MnS2PtSYnSXx9        0  \nR_2OT1ukc71EmK2AT        1  \nR_RPPPUFPva0I0g6d        1  \nR_tRnGvEI06RwLbsB        1  \nR_d9V6boP8R1mKdtT        0  \nR_3nvFpVCe1qYXVkb        0  \nR_ROYtLuakH8DHea5        0  \n\n[11 rows x 25 columns]",
      "text/html": "<div>\n<style scoped>\n    .dataframe tbody tr th:only-of-type {\n        vertical-align: middle;\n    }\n\n    .dataframe tbody tr th {\n        vertical-align: top;\n    }\n\n    .dataframe thead th {\n        text-align: right;\n    }\n</style>\n<table border=\"1\" class=\"dataframe\">\n  <thead>\n    <tr style=\"text-align: right;\">\n      <th></th>\n      <th>index</th>\n      <th>Set1_a</th>\n      <th>Set1_b</th>\n      <th>Set2_a</th>\n      <th>Set2_b</th>\n      <th>Set3_a</th>\n      <th>Set3_b</th>\n      <th>Set4_a</th>\n      <th>Set4_b</th>\n      <th>Set5_a</th>\n      <th>...</th>\n      <th>Set8_a</th>\n      <th>Set8_b</th>\n      <th>Set9_a</th>\n      <th>Set9_b</th>\n      <th>Set10_a</th>\n      <th>Set10_b</th>\n      <th>Set11_a</th>\n      <th>Set11_b</th>\n      <th>Set12_a</th>\n      <th>Set12_b</th>\n    </tr>\n    <tr>\n      <th>ResponseId</th>\n      <th></th>\n      <th></th>\n      <th></th>\n      <th></th>\n      <th></th>\n      <th></th>\n      <th></th>\n      <th></th>\n      <th></th>\n      <th></th>\n      <th></th>\n      <th></th>\n      <th></th>\n      <th></th>\n      <th></th>\n      <th></th>\n      <th></th>\n      <th></th>\n      <th></th>\n      <th></th>\n      <th></th>\n    </tr>\n  </thead>\n  <tbody>\n    <tr>\n      <th>R_3MT1M3RGIptBp7p</th>\n      <td>2</td>\n      <td>0</td>\n      <td>1</td>\n      <td>0</td>\n      <td>1</td>\n      <td>0</td>\n      <td>1</td>\n      <td>0</td>\n      <td>1</td>\n      <td>0</td>\n      <td>...</td>\n      <td>1</td>\n      <td>0</td>\n      <td>0</td>\n      <td>1</td>\n      <td>1</td>\n      <td>0</td>\n      <td>0</td>\n      <td>1</td>\n      <td>0</td>\n      <td>1</td>\n    </tr>\n    <tr>\n      <th>R_1DToeJUVStjMAtO</th>\n      <td>3</td>\n      <td>0</td>\n      <td>1</td>\n      <td>0</td>\n      <td>1</td>\n      <td>1</td>\n      <td>0</td>\n      <td>0</td>\n      <td>1</td>\n      <td>0</td>\n      <td>...</td>\n      <td>0</td>\n      <td>1</td>\n      <td>0</td>\n      <td>1</td>\n      <td>0</td>\n      <td>1</td>\n      <td>1</td>\n      <td>0</td>\n      <td>0</td>\n      <td>1</td>\n    </tr>\n    <tr>\n      <th>R_2BzEib2HRgW3hSU</th>\n      <td>4</td>\n      <td>0</td>\n      <td>1</td>\n      <td>1</td>\n      <td>0</td>\n      <td>0</td>\n      <td>1</td>\n      <td>0</td>\n      <td>1</td>\n      <td>1</td>\n      <td>...</td>\n      <td>1</td>\n      <td>0</td>\n      <td>1</td>\n      <td>0</td>\n      <td>1</td>\n      <td>0</td>\n      <td>1</td>\n      <td>0</td>\n      <td>1</td>\n      <td>0</td>\n    </tr>\n    <tr>\n      <th>R_paVBddl8ds6hOO5</th>\n      <td>5</td>\n      <td>0</td>\n      <td>1</td>\n      <td>1</td>\n      <td>0</td>\n      <td>1</td>\n      <td>0</td>\n      <td>0</td>\n      <td>1</td>\n      <td>1</td>\n      <td>...</td>\n      <td>1</td>\n      <td>0</td>\n      <td>1</td>\n      <td>0</td>\n      <td>1</td>\n      <td>0</td>\n      <td>1</td>\n      <td>0</td>\n      <td>0</td>\n      <td>1</td>\n    </tr>\n    <tr>\n      <th>R_10MnS2PtSYnSXx9</th>\n      <td>6</td>\n      <td>0</td>\n      <td>1</td>\n      <td>0</td>\n      <td>1</td>\n      <td>1</td>\n      <td>0</td>\n      <td>0</td>\n      <td>1</td>\n      <td>0</td>\n      <td>...</td>\n      <td>1</td>\n      <td>0</td>\n      <td>0</td>\n      <td>1</td>\n      <td>0</td>\n      <td>1</td>\n      <td>1</td>\n      <td>0</td>\n      <td>1</td>\n      <td>0</td>\n    </tr>\n    <tr>\n      <th>R_2OT1ukc71EmK2AT</th>\n      <td>7</td>\n      <td>1</td>\n      <td>0</td>\n      <td>0</td>\n      <td>1</td>\n      <td>0</td>\n      <td>1</td>\n      <td>0</td>\n      <td>1</td>\n      <td>0</td>\n      <td>...</td>\n      <td>1</td>\n      <td>0</td>\n      <td>1</td>\n      <td>0</td>\n      <td>0</td>\n      <td>1</td>\n      <td>1</td>\n      <td>0</td>\n      <td>0</td>\n      <td>1</td>\n    </tr>\n    <tr>\n      <th>R_RPPPUFPva0I0g6d</th>\n      <td>8</td>\n      <td>0</td>\n      <td>1</td>\n      <td>0</td>\n      <td>1</td>\n      <td>1</td>\n      <td>0</td>\n      <td>0</td>\n      <td>1</td>\n      <td>0</td>\n      <td>...</td>\n      <td>1</td>\n      <td>0</td>\n      <td>0</td>\n      <td>1</td>\n      <td>1</td>\n      <td>0</td>\n      <td>1</td>\n      <td>0</td>\n      <td>0</td>\n      <td>1</td>\n    </tr>\n    <tr>\n      <th>R_tRnGvEI06RwLbsB</th>\n      <td>9</td>\n      <td>0</td>\n      <td>1</td>\n      <td>0</td>\n      <td>1</td>\n      <td>1</td>\n      <td>0</td>\n      <td>0</td>\n      <td>1</td>\n      <td>0</td>\n      <td>...</td>\n      <td>1</td>\n      <td>0</td>\n      <td>0</td>\n      <td>1</td>\n      <td>0</td>\n      <td>1</td>\n      <td>0</td>\n      <td>1</td>\n      <td>0</td>\n      <td>1</td>\n    </tr>\n    <tr>\n      <th>R_d9V6boP8R1mKdtT</th>\n      <td>10</td>\n      <td>0</td>\n      <td>1</td>\n      <td>1</td>\n      <td>0</td>\n      <td>1</td>\n      <td>0</td>\n      <td>0</td>\n      <td>1</td>\n      <td>0</td>\n      <td>...</td>\n      <td>0</td>\n      <td>1</td>\n      <td>0</td>\n      <td>1</td>\n      <td>0</td>\n      <td>1</td>\n      <td>1</td>\n      <td>0</td>\n      <td>1</td>\n      <td>0</td>\n    </tr>\n    <tr>\n      <th>R_3nvFpVCe1qYXVkb</th>\n      <td>11</td>\n      <td>0</td>\n      <td>1</td>\n      <td>1</td>\n      <td>0</td>\n      <td>0</td>\n      <td>1</td>\n      <td>0</td>\n      <td>1</td>\n      <td>1</td>\n      <td>...</td>\n      <td>1</td>\n      <td>0</td>\n      <td>0</td>\n      <td>1</td>\n      <td>0</td>\n      <td>1</td>\n      <td>1</td>\n      <td>0</td>\n      <td>1</td>\n      <td>0</td>\n    </tr>\n    <tr>\n      <th>R_ROYtLuakH8DHea5</th>\n      <td>12</td>\n      <td>0</td>\n      <td>1</td>\n      <td>0</td>\n      <td>1</td>\n      <td>1</td>\n      <td>0</td>\n      <td>1</td>\n      <td>0</td>\n      <td>0</td>\n      <td>...</td>\n      <td>1</td>\n      <td>0</td>\n      <td>0</td>\n      <td>1</td>\n      <td>0</td>\n      <td>1</td>\n      <td>0</td>\n      <td>1</td>\n      <td>1</td>\n      <td>0</td>\n    </tr>\n  </tbody>\n</table>\n<p>11 rows × 25 columns</p>\n</div>"
     },
     "execution_count": 15,
     "metadata": {},
     "output_type": "execute_result"
    }
   ],
   "source": [
    "analysis = analysis.reset_index()\n",
    "analysis = analysis.set_index('ResponseId')\n",
    "analysis"
   ],
   "metadata": {
    "collapsed": false,
    "pycharm": {
     "name": "#%%\n"
    }
   }
  },
  {
   "cell_type": "code",
   "execution_count": 16,
   "outputs": [],
   "source": [
    "analysis = analysis.drop(columns='index')"
   ],
   "metadata": {
    "collapsed": false,
    "pycharm": {
     "name": "#%%\n"
    }
   }
  },
  {
   "cell_type": "code",
   "execution_count": 17,
   "outputs": [],
   "source": [
    "analysis1 = analysis.stack()"
   ],
   "metadata": {
    "collapsed": false,
    "pycharm": {
     "name": "#%%\n"
    }
   }
  },
  {
   "cell_type": "code",
   "execution_count": 18,
   "outputs": [
    {
     "data": {
      "text/plain": "ResponseId                \nR_3MT1M3RGIptBp7p  Set1_a     0\n                   Set1_b     1\n                   Set2_a     0\n                   Set2_b     1\n                   Set3_a     0\n                   Set3_b     1\n                   Set4_a     0\n                   Set4_b     1\n                   Set5_a     0\n                   Set5_b     1\n                   Set6_a     0\n                   Set6_b     1\n                   Set7_a     1\n                   Set7_b     0\n                   Set8_a     1\n                   Set8_b     0\n                   Set9_a     0\n                   Set9_b     1\n                   Set10_a    1\n                   Set10_b    0\n                   Set11_a    0\n                   Set11_b    1\n                   Set12_a    0\n                   Set12_b    1\nR_1DToeJUVStjMAtO  Set1_a     0\ndtype: int64"
     },
     "execution_count": 18,
     "metadata": {},
     "output_type": "execute_result"
    }
   ],
   "source": [
    "analysis1.head(25)"
   ],
   "metadata": {
    "collapsed": false,
    "pycharm": {
     "name": "#%%\n"
    }
   }
  },
  {
   "cell_type": "code",
   "execution_count": 19,
   "outputs": [
    {
     "data": {
      "text/plain": "ResponseId                \nR_3MT1M3RGIptBp7p  Set1_a     0\n                   Set1_b     1\n                   Set2_a     0\n                   Set2_b     1\n                   Set3_a     0\n                             ..\nR_ROYtLuakH8DHea5  Set10_b    1\n                   Set11_a    0\n                   Set11_b    1\n                   Set12_a    1\n                   Set12_b    0\nLength: 264, dtype: int64"
     },
     "execution_count": 19,
     "metadata": {},
     "output_type": "execute_result"
    }
   ],
   "source": [
    "analysis1"
   ],
   "metadata": {
    "collapsed": false,
    "pycharm": {
     "name": "#%%\n"
    }
   }
  },
  {
   "cell_type": "code",
   "execution_count": 20,
   "outputs": [
    {
     "data": {
      "text/plain": "           ResponseId Gender Age\n0   R_3MT1M3RGIptBp7p      2  53\n1   R_1DToeJUVStjMAtO      2  47\n2   R_2BzEib2HRgW3hSU      1  56\n3   R_paVBddl8ds6hOO5      2  38\n4   R_10MnS2PtSYnSXx9      1  23\n5   R_2OT1ukc71EmK2AT      2  36\n6   R_RPPPUFPva0I0g6d      1  23\n7   R_tRnGvEI06RwLbsB      1  32\n8   R_d9V6boP8R1mKdtT      1  30\n9   R_3nvFpVCe1qYXVkb      1  21\n10  R_ROYtLuakH8DHea5      2  26",
      "text/html": "<div>\n<style scoped>\n    .dataframe tbody tr th:only-of-type {\n        vertical-align: middle;\n    }\n\n    .dataframe tbody tr th {\n        vertical-align: top;\n    }\n\n    .dataframe thead th {\n        text-align: right;\n    }\n</style>\n<table border=\"1\" class=\"dataframe\">\n  <thead>\n    <tr style=\"text-align: right;\">\n      <th></th>\n      <th>ResponseId</th>\n      <th>Gender</th>\n      <th>Age</th>\n    </tr>\n  </thead>\n  <tbody>\n    <tr>\n      <th>0</th>\n      <td>R_3MT1M3RGIptBp7p</td>\n      <td>2</td>\n      <td>53</td>\n    </tr>\n    <tr>\n      <th>1</th>\n      <td>R_1DToeJUVStjMAtO</td>\n      <td>2</td>\n      <td>47</td>\n    </tr>\n    <tr>\n      <th>2</th>\n      <td>R_2BzEib2HRgW3hSU</td>\n      <td>1</td>\n      <td>56</td>\n    </tr>\n    <tr>\n      <th>3</th>\n      <td>R_paVBddl8ds6hOO5</td>\n      <td>2</td>\n      <td>38</td>\n    </tr>\n    <tr>\n      <th>4</th>\n      <td>R_10MnS2PtSYnSXx9</td>\n      <td>1</td>\n      <td>23</td>\n    </tr>\n    <tr>\n      <th>5</th>\n      <td>R_2OT1ukc71EmK2AT</td>\n      <td>2</td>\n      <td>36</td>\n    </tr>\n    <tr>\n      <th>6</th>\n      <td>R_RPPPUFPva0I0g6d</td>\n      <td>1</td>\n      <td>23</td>\n    </tr>\n    <tr>\n      <th>7</th>\n      <td>R_tRnGvEI06RwLbsB</td>\n      <td>1</td>\n      <td>32</td>\n    </tr>\n    <tr>\n      <th>8</th>\n      <td>R_d9V6boP8R1mKdtT</td>\n      <td>1</td>\n      <td>30</td>\n    </tr>\n    <tr>\n      <th>9</th>\n      <td>R_3nvFpVCe1qYXVkb</td>\n      <td>1</td>\n      <td>21</td>\n    </tr>\n    <tr>\n      <th>10</th>\n      <td>R_ROYtLuakH8DHea5</td>\n      <td>2</td>\n      <td>26</td>\n    </tr>\n  </tbody>\n</table>\n</div>"
     },
     "execution_count": 20,
     "metadata": {},
     "output_type": "execute_result"
    }
   ],
   "source": [
    "headers = ['ResponseId','Gender','Age']\n",
    "socio = data_num[headers]\n",
    "socio = socio.reset_index()\n",
    "socio = socio.drop(columns='index')\n",
    "#socio = socio.set_index('ResponseId')\n",
    "socio"
   ],
   "metadata": {
    "collapsed": false,
    "pycharm": {
     "name": "#%%\n"
    }
   }
  },
  {
   "cell_type": "code",
   "execution_count": 21,
   "outputs": [
    {
     "data": {
      "text/plain": "ResponseId                \nR_3MT1M3RGIptBp7p  Set1_a     0\n                   Set1_b     1\n                   Set2_a     0\n                   Set2_b     1\n                   Set3_a     0\n                             ..\nR_ROYtLuakH8DHea5  Set10_b    1\n                   Set11_a    0\n                   Set11_b    1\n                   Set12_a    1\n                   Set12_b    0\nLength: 264, dtype: int64"
     },
     "execution_count": 21,
     "metadata": {},
     "output_type": "execute_result"
    }
   ],
   "source": [
    "analysis1"
   ],
   "metadata": {
    "collapsed": false,
    "pycharm": {
     "name": "#%%\n"
    }
   }
  },
  {
   "cell_type": "code",
   "execution_count": 22,
   "outputs": [],
   "source": [
    "analysis3 = analysis.reset_index()\n",
    "analysis2 = analysis3.melt(id_vars=['ResponseId'],value_vars=new_sets)"
   ],
   "metadata": {
    "collapsed": false,
    "pycharm": {
     "name": "#%%\n"
    }
   }
  },
  {
   "cell_type": "code",
   "execution_count": 23,
   "outputs": [],
   "source": [
    "group = analysis2.groupby(['ResponseId','variable'])\n",
    "df33 = group.apply(lambda x: x['value'].unique())"
   ],
   "metadata": {
    "collapsed": false,
    "pycharm": {
     "name": "#%%\n"
    }
   }
  },
  {
   "cell_type": "code",
   "execution_count": null,
   "outputs": [],
   "source": [
    "df33"
   ],
   "metadata": {
    "collapsed": false,
    "pycharm": {
     "name": "#%%\n"
    }
   }
  },
  {
   "cell_type": "code",
   "execution_count": 25,
   "outputs": [
    {
     "data": {
      "text/plain": "            ResponseId variable  value\n0    R_3MT1M3RGIptBp7p   Set1_a      0\n1    R_1DToeJUVStjMAtO   Set1_a      0\n2    R_2BzEib2HRgW3hSU   Set1_a      0\n3    R_paVBddl8ds6hOO5   Set1_a      0\n4    R_10MnS2PtSYnSXx9   Set1_a      0\n..                 ...      ...    ...\n259  R_RPPPUFPva0I0g6d  Set12_b      1\n260  R_tRnGvEI06RwLbsB  Set12_b      1\n261  R_d9V6boP8R1mKdtT  Set12_b      0\n262  R_3nvFpVCe1qYXVkb  Set12_b      0\n263  R_ROYtLuakH8DHea5  Set12_b      0\n\n[264 rows x 3 columns]",
      "text/html": "<div>\n<style scoped>\n    .dataframe tbody tr th:only-of-type {\n        vertical-align: middle;\n    }\n\n    .dataframe tbody tr th {\n        vertical-align: top;\n    }\n\n    .dataframe thead th {\n        text-align: right;\n    }\n</style>\n<table border=\"1\" class=\"dataframe\">\n  <thead>\n    <tr style=\"text-align: right;\">\n      <th></th>\n      <th>ResponseId</th>\n      <th>variable</th>\n      <th>value</th>\n    </tr>\n  </thead>\n  <tbody>\n    <tr>\n      <th>0</th>\n      <td>R_3MT1M3RGIptBp7p</td>\n      <td>Set1_a</td>\n      <td>0</td>\n    </tr>\n    <tr>\n      <th>1</th>\n      <td>R_1DToeJUVStjMAtO</td>\n      <td>Set1_a</td>\n      <td>0</td>\n    </tr>\n    <tr>\n      <th>2</th>\n      <td>R_2BzEib2HRgW3hSU</td>\n      <td>Set1_a</td>\n      <td>0</td>\n    </tr>\n    <tr>\n      <th>3</th>\n      <td>R_paVBddl8ds6hOO5</td>\n      <td>Set1_a</td>\n      <td>0</td>\n    </tr>\n    <tr>\n      <th>4</th>\n      <td>R_10MnS2PtSYnSXx9</td>\n      <td>Set1_a</td>\n      <td>0</td>\n    </tr>\n    <tr>\n      <th>...</th>\n      <td>...</td>\n      <td>...</td>\n      <td>...</td>\n    </tr>\n    <tr>\n      <th>259</th>\n      <td>R_RPPPUFPva0I0g6d</td>\n      <td>Set12_b</td>\n      <td>1</td>\n    </tr>\n    <tr>\n      <th>260</th>\n      <td>R_tRnGvEI06RwLbsB</td>\n      <td>Set12_b</td>\n      <td>1</td>\n    </tr>\n    <tr>\n      <th>261</th>\n      <td>R_d9V6boP8R1mKdtT</td>\n      <td>Set12_b</td>\n      <td>0</td>\n    </tr>\n    <tr>\n      <th>262</th>\n      <td>R_3nvFpVCe1qYXVkb</td>\n      <td>Set12_b</td>\n      <td>0</td>\n    </tr>\n    <tr>\n      <th>263</th>\n      <td>R_ROYtLuakH8DHea5</td>\n      <td>Set12_b</td>\n      <td>0</td>\n    </tr>\n  </tbody>\n</table>\n<p>264 rows × 3 columns</p>\n</div>"
     },
     "execution_count": 25,
     "metadata": {},
     "output_type": "execute_result"
    }
   ],
   "source": [
    "analysis2"
   ],
   "metadata": {
    "collapsed": false,
    "pycharm": {
     "name": "#%%\n"
    }
   }
  },
  {
   "cell_type": "code",
   "execution_count": 26,
   "outputs": [
    {
     "data": {
      "text/plain": "    Unnamed: 0  Var11  Var12  Var13  Var21  Var22  Var23  Var24  Var25  Var31  \\\n0    set1.alt1      1      0      0     -1     -1     -1     -1     -1     -1   \n1    set1.alt2      0      1      0      0      0      1      0      0      1   \n2    set2.alt1     -1     -1     -1      0      1      0      0      0     -1   \n3    set2.alt2     -1     -1     -1      0      0      0      1      0      1   \n4    set3.alt1      0      0      1      0      0      0      0      1     -1   \n5    set3.alt2     -1     -1     -1      0      0      0      1      0     -1   \n6    set4.alt1     -1     -1     -1      1      0      0      0      0     -1   \n7    set4.alt2     -1     -1     -1      0      1      0      0      0      1   \n8    set5.alt1     -1     -1     -1      0      0      1      0      0     -1   \n9    set5.alt2     -1     -1     -1      0      0      0      0      1      1   \n10   set6.alt1      0      0      1      0      0      1      0      0     -1   \n11   set6.alt2      0      1      0      0      1      0      0      0     -1   \n12   set7.alt1      0      1      0      1      0      0      0      0      1   \n13   set7.alt2      0      0      1      0      0      0      1      0     -1   \n14   set8.alt1      0      0      1      0      0      0      1      0      1   \n15   set8.alt2     -1     -1     -1      0      0      0      0      1     -1   \n16   set9.alt1     -1     -1     -1      0      0      0      1      0     -1   \n17   set9.alt2      0      1      0      0      0      0      0      1      1   \n18  set10.alt1      0      0      1      0      1      0      0      0      1   \n19  set10.alt2      1      0      0     -1     -1     -1     -1     -1     -1   \n20  set11.alt1     -1     -1     -1      1      0      0      0      0     -1   \n21  set11.alt2     -1     -1     -1      0      0      0      0      1      1   \n22  set12.alt1      0      0      1      0      1      0      0      0     -1   \n23  set12.alt2     -1     -1     -1      0      0      1      0      0      1   \n\n    Var41  Var51  \n0      -1     -1  \n1       1      1  \n2      -1      1  \n3      -1     -1  \n4       1     -1  \n5       1      1  \n6       1     -1  \n7      -1      1  \n8      -1     -1  \n9       1      1  \n10     -1      1  \n11      1     -1  \n12     -1      1  \n13      1     -1  \n14      1     -1  \n15      1     -1  \n16      1      1  \n17      1     -1  \n18     -1     -1  \n19      1     -1  \n20      1      1  \n21     -1     -1  \n22      1      1  \n23      1     -1  ",
      "text/html": "<div>\n<style scoped>\n    .dataframe tbody tr th:only-of-type {\n        vertical-align: middle;\n    }\n\n    .dataframe tbody tr th {\n        vertical-align: top;\n    }\n\n    .dataframe thead th {\n        text-align: right;\n    }\n</style>\n<table border=\"1\" class=\"dataframe\">\n  <thead>\n    <tr style=\"text-align: right;\">\n      <th></th>\n      <th>Unnamed: 0</th>\n      <th>Var11</th>\n      <th>Var12</th>\n      <th>Var13</th>\n      <th>Var21</th>\n      <th>Var22</th>\n      <th>Var23</th>\n      <th>Var24</th>\n      <th>Var25</th>\n      <th>Var31</th>\n      <th>Var41</th>\n      <th>Var51</th>\n    </tr>\n  </thead>\n  <tbody>\n    <tr>\n      <th>0</th>\n      <td>set1.alt1</td>\n      <td>1</td>\n      <td>0</td>\n      <td>0</td>\n      <td>-1</td>\n      <td>-1</td>\n      <td>-1</td>\n      <td>-1</td>\n      <td>-1</td>\n      <td>-1</td>\n      <td>-1</td>\n      <td>-1</td>\n    </tr>\n    <tr>\n      <th>1</th>\n      <td>set1.alt2</td>\n      <td>0</td>\n      <td>1</td>\n      <td>0</td>\n      <td>0</td>\n      <td>0</td>\n      <td>1</td>\n      <td>0</td>\n      <td>0</td>\n      <td>1</td>\n      <td>1</td>\n      <td>1</td>\n    </tr>\n    <tr>\n      <th>2</th>\n      <td>set2.alt1</td>\n      <td>-1</td>\n      <td>-1</td>\n      <td>-1</td>\n      <td>0</td>\n      <td>1</td>\n      <td>0</td>\n      <td>0</td>\n      <td>0</td>\n      <td>-1</td>\n      <td>-1</td>\n      <td>1</td>\n    </tr>\n    <tr>\n      <th>3</th>\n      <td>set2.alt2</td>\n      <td>-1</td>\n      <td>-1</td>\n      <td>-1</td>\n      <td>0</td>\n      <td>0</td>\n      <td>0</td>\n      <td>1</td>\n      <td>0</td>\n      <td>1</td>\n      <td>-1</td>\n      <td>-1</td>\n    </tr>\n    <tr>\n      <th>4</th>\n      <td>set3.alt1</td>\n      <td>0</td>\n      <td>0</td>\n      <td>1</td>\n      <td>0</td>\n      <td>0</td>\n      <td>0</td>\n      <td>0</td>\n      <td>1</td>\n      <td>-1</td>\n      <td>1</td>\n      <td>-1</td>\n    </tr>\n    <tr>\n      <th>5</th>\n      <td>set3.alt2</td>\n      <td>-1</td>\n      <td>-1</td>\n      <td>-1</td>\n      <td>0</td>\n      <td>0</td>\n      <td>0</td>\n      <td>1</td>\n      <td>0</td>\n      <td>-1</td>\n      <td>1</td>\n      <td>1</td>\n    </tr>\n    <tr>\n      <th>6</th>\n      <td>set4.alt1</td>\n      <td>-1</td>\n      <td>-1</td>\n      <td>-1</td>\n      <td>1</td>\n      <td>0</td>\n      <td>0</td>\n      <td>0</td>\n      <td>0</td>\n      <td>-1</td>\n      <td>1</td>\n      <td>-1</td>\n    </tr>\n    <tr>\n      <th>7</th>\n      <td>set4.alt2</td>\n      <td>-1</td>\n      <td>-1</td>\n      <td>-1</td>\n      <td>0</td>\n      <td>1</td>\n      <td>0</td>\n      <td>0</td>\n      <td>0</td>\n      <td>1</td>\n      <td>-1</td>\n      <td>1</td>\n    </tr>\n    <tr>\n      <th>8</th>\n      <td>set5.alt1</td>\n      <td>-1</td>\n      <td>-1</td>\n      <td>-1</td>\n      <td>0</td>\n      <td>0</td>\n      <td>1</td>\n      <td>0</td>\n      <td>0</td>\n      <td>-1</td>\n      <td>-1</td>\n      <td>-1</td>\n    </tr>\n    <tr>\n      <th>9</th>\n      <td>set5.alt2</td>\n      <td>-1</td>\n      <td>-1</td>\n      <td>-1</td>\n      <td>0</td>\n      <td>0</td>\n      <td>0</td>\n      <td>0</td>\n      <td>1</td>\n      <td>1</td>\n      <td>1</td>\n      <td>1</td>\n    </tr>\n    <tr>\n      <th>10</th>\n      <td>set6.alt1</td>\n      <td>0</td>\n      <td>0</td>\n      <td>1</td>\n      <td>0</td>\n      <td>0</td>\n      <td>1</td>\n      <td>0</td>\n      <td>0</td>\n      <td>-1</td>\n      <td>-1</td>\n      <td>1</td>\n    </tr>\n    <tr>\n      <th>11</th>\n      <td>set6.alt2</td>\n      <td>0</td>\n      <td>1</td>\n      <td>0</td>\n      <td>0</td>\n      <td>1</td>\n      <td>0</td>\n      <td>0</td>\n      <td>0</td>\n      <td>-1</td>\n      <td>1</td>\n      <td>-1</td>\n    </tr>\n    <tr>\n      <th>12</th>\n      <td>set7.alt1</td>\n      <td>0</td>\n      <td>1</td>\n      <td>0</td>\n      <td>1</td>\n      <td>0</td>\n      <td>0</td>\n      <td>0</td>\n      <td>0</td>\n      <td>1</td>\n      <td>-1</td>\n      <td>1</td>\n    </tr>\n    <tr>\n      <th>13</th>\n      <td>set7.alt2</td>\n      <td>0</td>\n      <td>0</td>\n      <td>1</td>\n      <td>0</td>\n      <td>0</td>\n      <td>0</td>\n      <td>1</td>\n      <td>0</td>\n      <td>-1</td>\n      <td>1</td>\n      <td>-1</td>\n    </tr>\n    <tr>\n      <th>14</th>\n      <td>set8.alt1</td>\n      <td>0</td>\n      <td>0</td>\n      <td>1</td>\n      <td>0</td>\n      <td>0</td>\n      <td>0</td>\n      <td>1</td>\n      <td>0</td>\n      <td>1</td>\n      <td>1</td>\n      <td>-1</td>\n    </tr>\n    <tr>\n      <th>15</th>\n      <td>set8.alt2</td>\n      <td>-1</td>\n      <td>-1</td>\n      <td>-1</td>\n      <td>0</td>\n      <td>0</td>\n      <td>0</td>\n      <td>0</td>\n      <td>1</td>\n      <td>-1</td>\n      <td>1</td>\n      <td>-1</td>\n    </tr>\n    <tr>\n      <th>16</th>\n      <td>set9.alt1</td>\n      <td>-1</td>\n      <td>-1</td>\n      <td>-1</td>\n      <td>0</td>\n      <td>0</td>\n      <td>0</td>\n      <td>1</td>\n      <td>0</td>\n      <td>-1</td>\n      <td>1</td>\n      <td>1</td>\n    </tr>\n    <tr>\n      <th>17</th>\n      <td>set9.alt2</td>\n      <td>0</td>\n      <td>1</td>\n      <td>0</td>\n      <td>0</td>\n      <td>0</td>\n      <td>0</td>\n      <td>0</td>\n      <td>1</td>\n      <td>1</td>\n      <td>1</td>\n      <td>-1</td>\n    </tr>\n    <tr>\n      <th>18</th>\n      <td>set10.alt1</td>\n      <td>0</td>\n      <td>0</td>\n      <td>1</td>\n      <td>0</td>\n      <td>1</td>\n      <td>0</td>\n      <td>0</td>\n      <td>0</td>\n      <td>1</td>\n      <td>-1</td>\n      <td>-1</td>\n    </tr>\n    <tr>\n      <th>19</th>\n      <td>set10.alt2</td>\n      <td>1</td>\n      <td>0</td>\n      <td>0</td>\n      <td>-1</td>\n      <td>-1</td>\n      <td>-1</td>\n      <td>-1</td>\n      <td>-1</td>\n      <td>-1</td>\n      <td>1</td>\n      <td>-1</td>\n    </tr>\n    <tr>\n      <th>20</th>\n      <td>set11.alt1</td>\n      <td>-1</td>\n      <td>-1</td>\n      <td>-1</td>\n      <td>1</td>\n      <td>0</td>\n      <td>0</td>\n      <td>0</td>\n      <td>0</td>\n      <td>-1</td>\n      <td>1</td>\n      <td>1</td>\n    </tr>\n    <tr>\n      <th>21</th>\n      <td>set11.alt2</td>\n      <td>-1</td>\n      <td>-1</td>\n      <td>-1</td>\n      <td>0</td>\n      <td>0</td>\n      <td>0</td>\n      <td>0</td>\n      <td>1</td>\n      <td>1</td>\n      <td>-1</td>\n      <td>-1</td>\n    </tr>\n    <tr>\n      <th>22</th>\n      <td>set12.alt1</td>\n      <td>0</td>\n      <td>0</td>\n      <td>1</td>\n      <td>0</td>\n      <td>1</td>\n      <td>0</td>\n      <td>0</td>\n      <td>0</td>\n      <td>-1</td>\n      <td>1</td>\n      <td>1</td>\n    </tr>\n    <tr>\n      <th>23</th>\n      <td>set12.alt2</td>\n      <td>-1</td>\n      <td>-1</td>\n      <td>-1</td>\n      <td>0</td>\n      <td>0</td>\n      <td>1</td>\n      <td>0</td>\n      <td>0</td>\n      <td>1</td>\n      <td>1</td>\n      <td>-1</td>\n    </tr>\n  </tbody>\n</table>\n</div>"
     },
     "execution_count": 26,
     "metadata": {},
     "output_type": "execute_result"
    }
   ],
   "source": [
    "#Design Merge\n",
    "design_file = \"/design.csv\"\n",
    "design = pd.read_csv(folder+design_file)\n",
    "design"
   ],
   "metadata": {
    "collapsed": false,
    "pycharm": {
     "name": "#%%\n"
    }
   }
  },
  {
   "cell_type": "code",
   "execution_count": 27,
   "outputs": [],
   "source": [
    "#Columns renaming All RES\", \"wind\", \"solar\",\"hydro\",\"biomass\",\"normal\n",
    "design_keys = {'Var11':'PriceMin5','Var12':'Price0','Var13':'Price2','Var21':'All RES','Var22':'wind','Var23':'solar','Var24':'hydro','Var25':'biomass','Var31':'Slovak','Var41':'Can Change','Var51':'No change'}\n",
    "design.rename(columns=design_keys, inplace=True)"
   ],
   "metadata": {
    "collapsed": false,
    "pycharm": {
     "name": "#%%\n"
    }
   }
  },
  {
   "cell_type": "code",
   "execution_count": 28,
   "outputs": [],
   "source": [
    "#Row rename\n",
    "design = design.drop(columns='Unnamed: 0')\n",
    "design['SetID'] = new_sets\n"
   ],
   "metadata": {
    "collapsed": false,
    "pycharm": {
     "name": "#%%\n"
    }
   }
  },
  {
   "cell_type": "code",
   "execution_count": 29,
   "outputs": [
    {
     "data": {
      "text/plain": "            ResponseId    SetID  value\n0    R_3MT1M3RGIptBp7p   Set1_a      0\n1    R_1DToeJUVStjMAtO   Set1_a      0\n2    R_2BzEib2HRgW3hSU   Set1_a      0\n3    R_paVBddl8ds6hOO5   Set1_a      0\n4    R_10MnS2PtSYnSXx9   Set1_a      0\n..                 ...      ...    ...\n259  R_RPPPUFPva0I0g6d  Set12_b      1\n260  R_tRnGvEI06RwLbsB  Set12_b      1\n261  R_d9V6boP8R1mKdtT  Set12_b      0\n262  R_3nvFpVCe1qYXVkb  Set12_b      0\n263  R_ROYtLuakH8DHea5  Set12_b      0\n\n[264 rows x 3 columns]",
      "text/html": "<div>\n<style scoped>\n    .dataframe tbody tr th:only-of-type {\n        vertical-align: middle;\n    }\n\n    .dataframe tbody tr th {\n        vertical-align: top;\n    }\n\n    .dataframe thead th {\n        text-align: right;\n    }\n</style>\n<table border=\"1\" class=\"dataframe\">\n  <thead>\n    <tr style=\"text-align: right;\">\n      <th></th>\n      <th>ResponseId</th>\n      <th>SetID</th>\n      <th>value</th>\n    </tr>\n  </thead>\n  <tbody>\n    <tr>\n      <th>0</th>\n      <td>R_3MT1M3RGIptBp7p</td>\n      <td>Set1_a</td>\n      <td>0</td>\n    </tr>\n    <tr>\n      <th>1</th>\n      <td>R_1DToeJUVStjMAtO</td>\n      <td>Set1_a</td>\n      <td>0</td>\n    </tr>\n    <tr>\n      <th>2</th>\n      <td>R_2BzEib2HRgW3hSU</td>\n      <td>Set1_a</td>\n      <td>0</td>\n    </tr>\n    <tr>\n      <th>3</th>\n      <td>R_paVBddl8ds6hOO5</td>\n      <td>Set1_a</td>\n      <td>0</td>\n    </tr>\n    <tr>\n      <th>4</th>\n      <td>R_10MnS2PtSYnSXx9</td>\n      <td>Set1_a</td>\n      <td>0</td>\n    </tr>\n    <tr>\n      <th>...</th>\n      <td>...</td>\n      <td>...</td>\n      <td>...</td>\n    </tr>\n    <tr>\n      <th>259</th>\n      <td>R_RPPPUFPva0I0g6d</td>\n      <td>Set12_b</td>\n      <td>1</td>\n    </tr>\n    <tr>\n      <th>260</th>\n      <td>R_tRnGvEI06RwLbsB</td>\n      <td>Set12_b</td>\n      <td>1</td>\n    </tr>\n    <tr>\n      <th>261</th>\n      <td>R_d9V6boP8R1mKdtT</td>\n      <td>Set12_b</td>\n      <td>0</td>\n    </tr>\n    <tr>\n      <th>262</th>\n      <td>R_3nvFpVCe1qYXVkb</td>\n      <td>Set12_b</td>\n      <td>0</td>\n    </tr>\n    <tr>\n      <th>263</th>\n      <td>R_ROYtLuakH8DHea5</td>\n      <td>Set12_b</td>\n      <td>0</td>\n    </tr>\n  </tbody>\n</table>\n<p>264 rows × 3 columns</p>\n</div>"
     },
     "execution_count": 29,
     "metadata": {},
     "output_type": "execute_result"
    }
   ],
   "source": [
    "#rename column analysis 2\n",
    "analysis2.rename(columns={'variable':'SetID'},inplace=True)\n",
    "analysis2"
   ],
   "metadata": {
    "collapsed": false,
    "pycharm": {
     "name": "#%%\n"
    }
   }
  },
  {
   "cell_type": "code",
   "execution_count": 30,
   "outputs": [
    {
     "data": {
      "text/plain": "            ResponseId    SetID  value  PriceMin5  Price0  Price2  All RES  \\\n0    R_3MT1M3RGIptBp7p   Set1_a      0          1       0       0       -1   \n1    R_1DToeJUVStjMAtO   Set1_a      0          1       0       0       -1   \n2    R_2BzEib2HRgW3hSU   Set1_a      0          1       0       0       -1   \n3    R_paVBddl8ds6hOO5   Set1_a      0          1       0       0       -1   \n4    R_10MnS2PtSYnSXx9   Set1_a      0          1       0       0       -1   \n..                 ...      ...    ...        ...     ...     ...      ...   \n259  R_RPPPUFPva0I0g6d  Set12_b      1         -1      -1      -1        0   \n260  R_tRnGvEI06RwLbsB  Set12_b      1         -1      -1      -1        0   \n261  R_d9V6boP8R1mKdtT  Set12_b      0         -1      -1      -1        0   \n262  R_3nvFpVCe1qYXVkb  Set12_b      0         -1      -1      -1        0   \n263  R_ROYtLuakH8DHea5  Set12_b      0         -1      -1      -1        0   \n\n     wind  solar  hydro  biomass  Slovak  Can Change  No change  \n0      -1     -1     -1       -1      -1          -1         -1  \n1      -1     -1     -1       -1      -1          -1         -1  \n2      -1     -1     -1       -1      -1          -1         -1  \n3      -1     -1     -1       -1      -1          -1         -1  \n4      -1     -1     -1       -1      -1          -1         -1  \n..    ...    ...    ...      ...     ...         ...        ...  \n259     0      1      0        0       1           1         -1  \n260     0      1      0        0       1           1         -1  \n261     0      1      0        0       1           1         -1  \n262     0      1      0        0       1           1         -1  \n263     0      1      0        0       1           1         -1  \n\n[264 rows x 14 columns]",
      "text/html": "<div>\n<style scoped>\n    .dataframe tbody tr th:only-of-type {\n        vertical-align: middle;\n    }\n\n    .dataframe tbody tr th {\n        vertical-align: top;\n    }\n\n    .dataframe thead th {\n        text-align: right;\n    }\n</style>\n<table border=\"1\" class=\"dataframe\">\n  <thead>\n    <tr style=\"text-align: right;\">\n      <th></th>\n      <th>ResponseId</th>\n      <th>SetID</th>\n      <th>value</th>\n      <th>PriceMin5</th>\n      <th>Price0</th>\n      <th>Price2</th>\n      <th>All RES</th>\n      <th>wind</th>\n      <th>solar</th>\n      <th>hydro</th>\n      <th>biomass</th>\n      <th>Slovak</th>\n      <th>Can Change</th>\n      <th>No change</th>\n    </tr>\n  </thead>\n  <tbody>\n    <tr>\n      <th>0</th>\n      <td>R_3MT1M3RGIptBp7p</td>\n      <td>Set1_a</td>\n      <td>0</td>\n      <td>1</td>\n      <td>0</td>\n      <td>0</td>\n      <td>-1</td>\n      <td>-1</td>\n      <td>-1</td>\n      <td>-1</td>\n      <td>-1</td>\n      <td>-1</td>\n      <td>-1</td>\n      <td>-1</td>\n    </tr>\n    <tr>\n      <th>1</th>\n      <td>R_1DToeJUVStjMAtO</td>\n      <td>Set1_a</td>\n      <td>0</td>\n      <td>1</td>\n      <td>0</td>\n      <td>0</td>\n      <td>-1</td>\n      <td>-1</td>\n      <td>-1</td>\n      <td>-1</td>\n      <td>-1</td>\n      <td>-1</td>\n      <td>-1</td>\n      <td>-1</td>\n    </tr>\n    <tr>\n      <th>2</th>\n      <td>R_2BzEib2HRgW3hSU</td>\n      <td>Set1_a</td>\n      <td>0</td>\n      <td>1</td>\n      <td>0</td>\n      <td>0</td>\n      <td>-1</td>\n      <td>-1</td>\n      <td>-1</td>\n      <td>-1</td>\n      <td>-1</td>\n      <td>-1</td>\n      <td>-1</td>\n      <td>-1</td>\n    </tr>\n    <tr>\n      <th>3</th>\n      <td>R_paVBddl8ds6hOO5</td>\n      <td>Set1_a</td>\n      <td>0</td>\n      <td>1</td>\n      <td>0</td>\n      <td>0</td>\n      <td>-1</td>\n      <td>-1</td>\n      <td>-1</td>\n      <td>-1</td>\n      <td>-1</td>\n      <td>-1</td>\n      <td>-1</td>\n      <td>-1</td>\n    </tr>\n    <tr>\n      <th>4</th>\n      <td>R_10MnS2PtSYnSXx9</td>\n      <td>Set1_a</td>\n      <td>0</td>\n      <td>1</td>\n      <td>0</td>\n      <td>0</td>\n      <td>-1</td>\n      <td>-1</td>\n      <td>-1</td>\n      <td>-1</td>\n      <td>-1</td>\n      <td>-1</td>\n      <td>-1</td>\n      <td>-1</td>\n    </tr>\n    <tr>\n      <th>...</th>\n      <td>...</td>\n      <td>...</td>\n      <td>...</td>\n      <td>...</td>\n      <td>...</td>\n      <td>...</td>\n      <td>...</td>\n      <td>...</td>\n      <td>...</td>\n      <td>...</td>\n      <td>...</td>\n      <td>...</td>\n      <td>...</td>\n      <td>...</td>\n    </tr>\n    <tr>\n      <th>259</th>\n      <td>R_RPPPUFPva0I0g6d</td>\n      <td>Set12_b</td>\n      <td>1</td>\n      <td>-1</td>\n      <td>-1</td>\n      <td>-1</td>\n      <td>0</td>\n      <td>0</td>\n      <td>1</td>\n      <td>0</td>\n      <td>0</td>\n      <td>1</td>\n      <td>1</td>\n      <td>-1</td>\n    </tr>\n    <tr>\n      <th>260</th>\n      <td>R_tRnGvEI06RwLbsB</td>\n      <td>Set12_b</td>\n      <td>1</td>\n      <td>-1</td>\n      <td>-1</td>\n      <td>-1</td>\n      <td>0</td>\n      <td>0</td>\n      <td>1</td>\n      <td>0</td>\n      <td>0</td>\n      <td>1</td>\n      <td>1</td>\n      <td>-1</td>\n    </tr>\n    <tr>\n      <th>261</th>\n      <td>R_d9V6boP8R1mKdtT</td>\n      <td>Set12_b</td>\n      <td>0</td>\n      <td>-1</td>\n      <td>-1</td>\n      <td>-1</td>\n      <td>0</td>\n      <td>0</td>\n      <td>1</td>\n      <td>0</td>\n      <td>0</td>\n      <td>1</td>\n      <td>1</td>\n      <td>-1</td>\n    </tr>\n    <tr>\n      <th>262</th>\n      <td>R_3nvFpVCe1qYXVkb</td>\n      <td>Set12_b</td>\n      <td>0</td>\n      <td>-1</td>\n      <td>-1</td>\n      <td>-1</td>\n      <td>0</td>\n      <td>0</td>\n      <td>1</td>\n      <td>0</td>\n      <td>0</td>\n      <td>1</td>\n      <td>1</td>\n      <td>-1</td>\n    </tr>\n    <tr>\n      <th>263</th>\n      <td>R_ROYtLuakH8DHea5</td>\n      <td>Set12_b</td>\n      <td>0</td>\n      <td>-1</td>\n      <td>-1</td>\n      <td>-1</td>\n      <td>0</td>\n      <td>0</td>\n      <td>1</td>\n      <td>0</td>\n      <td>0</td>\n      <td>1</td>\n      <td>1</td>\n      <td>-1</td>\n    </tr>\n  </tbody>\n</table>\n<p>264 rows × 14 columns</p>\n</div>"
     },
     "execution_count": 30,
     "metadata": {},
     "output_type": "execute_result"
    }
   ],
   "source": [
    "#Merge responses and sets\n",
    "merged = pd.merge(analysis2, design, on='SetID')\n",
    "merged"
   ],
   "metadata": {
    "collapsed": false,
    "pycharm": {
     "name": "#%%\n"
    }
   }
  },
  {
   "cell_type": "code",
   "execution_count": 31,
   "outputs": [
    {
     "data": {
      "text/plain": "            ResponseId    SetID  value  PriceMin5  Price0  Price2  All RES  \\\n0    R_3MT1M3RGIptBp7p   Set1_a      0          1       0       0       -1   \n1    R_3MT1M3RGIptBp7p   Set1_b      1          0       1       0        0   \n2    R_3MT1M3RGIptBp7p   Set2_a      0         -1      -1      -1        0   \n3    R_3MT1M3RGIptBp7p   Set2_b      1         -1      -1      -1        0   \n4    R_3MT1M3RGIptBp7p   Set3_a      0          0       0       1        0   \n..                 ...      ...    ...        ...     ...     ...      ...   \n259  R_ROYtLuakH8DHea5  Set10_b      1          1       0       0       -1   \n260  R_ROYtLuakH8DHea5  Set11_a      0         -1      -1      -1        1   \n261  R_ROYtLuakH8DHea5  Set11_b      1         -1      -1      -1        0   \n262  R_ROYtLuakH8DHea5  Set12_a      1          0       0       1        0   \n263  R_ROYtLuakH8DHea5  Set12_b      0         -1      -1      -1        0   \n\n     wind  solar  hydro  biomass  Slovak  Can Change  No change Gender Age  \n0      -1     -1     -1       -1      -1          -1         -1      2  53  \n1       0      1      0        0       1           1          1      2  53  \n2       1      0      0        0      -1          -1          1      2  53  \n3       0      0      1        0       1          -1         -1      2  53  \n4       0      0      0        1      -1           1         -1      2  53  \n..    ...    ...    ...      ...     ...         ...        ...    ...  ..  \n259    -1     -1     -1       -1      -1           1         -1      2  26  \n260     0      0      0        0      -1           1          1      2  26  \n261     0      0      0        1       1          -1         -1      2  26  \n262     1      0      0        0      -1           1          1      2  26  \n263     0      1      0        0       1           1         -1      2  26  \n\n[264 rows x 16 columns]",
      "text/html": "<div>\n<style scoped>\n    .dataframe tbody tr th:only-of-type {\n        vertical-align: middle;\n    }\n\n    .dataframe tbody tr th {\n        vertical-align: top;\n    }\n\n    .dataframe thead th {\n        text-align: right;\n    }\n</style>\n<table border=\"1\" class=\"dataframe\">\n  <thead>\n    <tr style=\"text-align: right;\">\n      <th></th>\n      <th>ResponseId</th>\n      <th>SetID</th>\n      <th>value</th>\n      <th>PriceMin5</th>\n      <th>Price0</th>\n      <th>Price2</th>\n      <th>All RES</th>\n      <th>wind</th>\n      <th>solar</th>\n      <th>hydro</th>\n      <th>biomass</th>\n      <th>Slovak</th>\n      <th>Can Change</th>\n      <th>No change</th>\n      <th>Gender</th>\n      <th>Age</th>\n    </tr>\n  </thead>\n  <tbody>\n    <tr>\n      <th>0</th>\n      <td>R_3MT1M3RGIptBp7p</td>\n      <td>Set1_a</td>\n      <td>0</td>\n      <td>1</td>\n      <td>0</td>\n      <td>0</td>\n      <td>-1</td>\n      <td>-1</td>\n      <td>-1</td>\n      <td>-1</td>\n      <td>-1</td>\n      <td>-1</td>\n      <td>-1</td>\n      <td>-1</td>\n      <td>2</td>\n      <td>53</td>\n    </tr>\n    <tr>\n      <th>1</th>\n      <td>R_3MT1M3RGIptBp7p</td>\n      <td>Set1_b</td>\n      <td>1</td>\n      <td>0</td>\n      <td>1</td>\n      <td>0</td>\n      <td>0</td>\n      <td>0</td>\n      <td>1</td>\n      <td>0</td>\n      <td>0</td>\n      <td>1</td>\n      <td>1</td>\n      <td>1</td>\n      <td>2</td>\n      <td>53</td>\n    </tr>\n    <tr>\n      <th>2</th>\n      <td>R_3MT1M3RGIptBp7p</td>\n      <td>Set2_a</td>\n      <td>0</td>\n      <td>-1</td>\n      <td>-1</td>\n      <td>-1</td>\n      <td>0</td>\n      <td>1</td>\n      <td>0</td>\n      <td>0</td>\n      <td>0</td>\n      <td>-1</td>\n      <td>-1</td>\n      <td>1</td>\n      <td>2</td>\n      <td>53</td>\n    </tr>\n    <tr>\n      <th>3</th>\n      <td>R_3MT1M3RGIptBp7p</td>\n      <td>Set2_b</td>\n      <td>1</td>\n      <td>-1</td>\n      <td>-1</td>\n      <td>-1</td>\n      <td>0</td>\n      <td>0</td>\n      <td>0</td>\n      <td>1</td>\n      <td>0</td>\n      <td>1</td>\n      <td>-1</td>\n      <td>-1</td>\n      <td>2</td>\n      <td>53</td>\n    </tr>\n    <tr>\n      <th>4</th>\n      <td>R_3MT1M3RGIptBp7p</td>\n      <td>Set3_a</td>\n      <td>0</td>\n      <td>0</td>\n      <td>0</td>\n      <td>1</td>\n      <td>0</td>\n      <td>0</td>\n      <td>0</td>\n      <td>0</td>\n      <td>1</td>\n      <td>-1</td>\n      <td>1</td>\n      <td>-1</td>\n      <td>2</td>\n      <td>53</td>\n    </tr>\n    <tr>\n      <th>...</th>\n      <td>...</td>\n      <td>...</td>\n      <td>...</td>\n      <td>...</td>\n      <td>...</td>\n      <td>...</td>\n      <td>...</td>\n      <td>...</td>\n      <td>...</td>\n      <td>...</td>\n      <td>...</td>\n      <td>...</td>\n      <td>...</td>\n      <td>...</td>\n      <td>...</td>\n      <td>...</td>\n    </tr>\n    <tr>\n      <th>259</th>\n      <td>R_ROYtLuakH8DHea5</td>\n      <td>Set10_b</td>\n      <td>1</td>\n      <td>1</td>\n      <td>0</td>\n      <td>0</td>\n      <td>-1</td>\n      <td>-1</td>\n      <td>-1</td>\n      <td>-1</td>\n      <td>-1</td>\n      <td>-1</td>\n      <td>1</td>\n      <td>-1</td>\n      <td>2</td>\n      <td>26</td>\n    </tr>\n    <tr>\n      <th>260</th>\n      <td>R_ROYtLuakH8DHea5</td>\n      <td>Set11_a</td>\n      <td>0</td>\n      <td>-1</td>\n      <td>-1</td>\n      <td>-1</td>\n      <td>1</td>\n      <td>0</td>\n      <td>0</td>\n      <td>0</td>\n      <td>0</td>\n      <td>-1</td>\n      <td>1</td>\n      <td>1</td>\n      <td>2</td>\n      <td>26</td>\n    </tr>\n    <tr>\n      <th>261</th>\n      <td>R_ROYtLuakH8DHea5</td>\n      <td>Set11_b</td>\n      <td>1</td>\n      <td>-1</td>\n      <td>-1</td>\n      <td>-1</td>\n      <td>0</td>\n      <td>0</td>\n      <td>0</td>\n      <td>0</td>\n      <td>1</td>\n      <td>1</td>\n      <td>-1</td>\n      <td>-1</td>\n      <td>2</td>\n      <td>26</td>\n    </tr>\n    <tr>\n      <th>262</th>\n      <td>R_ROYtLuakH8DHea5</td>\n      <td>Set12_a</td>\n      <td>1</td>\n      <td>0</td>\n      <td>0</td>\n      <td>1</td>\n      <td>0</td>\n      <td>1</td>\n      <td>0</td>\n      <td>0</td>\n      <td>0</td>\n      <td>-1</td>\n      <td>1</td>\n      <td>1</td>\n      <td>2</td>\n      <td>26</td>\n    </tr>\n    <tr>\n      <th>263</th>\n      <td>R_ROYtLuakH8DHea5</td>\n      <td>Set12_b</td>\n      <td>0</td>\n      <td>-1</td>\n      <td>-1</td>\n      <td>-1</td>\n      <td>0</td>\n      <td>0</td>\n      <td>1</td>\n      <td>0</td>\n      <td>0</td>\n      <td>1</td>\n      <td>1</td>\n      <td>-1</td>\n      <td>2</td>\n      <td>26</td>\n    </tr>\n  </tbody>\n</table>\n<p>264 rows × 16 columns</p>\n</div>"
     },
     "execution_count": 31,
     "metadata": {},
     "output_type": "execute_result"
    }
   ],
   "source": [
    "merged1 = pd.merge(merged, socio, on='ResponseId')\n",
    "merged1"
   ],
   "metadata": {
    "collapsed": false,
    "pycharm": {
     "name": "#%%\n"
    }
   }
  },
  {
   "cell_type": "code",
   "execution_count": 32,
   "outputs": [],
   "source": [
    "merged1.to_csv(folder+\"cleaned.csv\")"
   ],
   "metadata": {
    "collapsed": false,
    "pycharm": {
     "name": "#%%\n"
    }
   }
  },
  {
   "cell_type": "code",
   "execution_count": null,
   "outputs": [],
   "source": [],
   "metadata": {
    "collapsed": false,
    "pycharm": {
     "name": "#%%\n"
    }
   }
  }
 ],
 "metadata": {
  "kernelspec": {
   "display_name": "Python 3",
   "language": "python",
   "name": "python3"
  },
  "language_info": {
   "codemirror_mode": {
    "name": "ipython",
    "version": 2
   },
   "file_extension": ".py",
   "mimetype": "text/x-python",
   "name": "python",
   "nbconvert_exporter": "python",
   "pygments_lexer": "ipython2",
   "version": "2.7.6"
  }
 },
 "nbformat": 4,
 "nbformat_minor": 0
}