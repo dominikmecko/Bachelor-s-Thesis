{
 "cells": [
  {
   "cell_type": "code",
   "execution_count": 3,
   "metadata": {
    "collapsed": true,
    "pycharm": {
     "name": "#%%\n"
    }
   },
   "outputs": [],
   "source": [
    "import pandas as pd\n",
    "\n",
    "df= pd.read_csv(\"/Users/dominikmecko/Dropbox (Milk)/Folk/Internship research/estat_urb_percep_en.csv\")\n",
    "\n",
    "\n",
    "df.drop(['DATAFLOW', 'LAST UPDATE', 'freq','unit','OBS_FLAG'],axis=1,inplace=True)\n",
    "\n",
    "df = df.drop(df[df.TIME_PERIOD != 2015].index)\n",
    "\n",
    "#df = df.fillna(0)\n",
    "\n",
    "df.drop(['TIME_PERIOD'],axis=1,inplace=True)"
   ]
  },
  {
   "cell_type": "code",
   "execution_count": 4,
   "outputs": [
    {
     "data": {
      "text/plain": "      indic_ur   cities  OBS_VALUE\n4      PS1012V  AT001C1       72.0\n9      PS1012V  AT002C1       39.0\n15     PS1012V  BE001C1       19.0\n21     PS1012V  BE002C1       24.0\n27     PS1012V  BE005C1       14.0\n...        ...      ...        ...\n73821  PS9392V  UK008C1       73.0\n73822  PS9392V  UK008K1       73.0\n73823  PS9392V  UK009C1       79.0\n73824  PS9392V  UK012C2       79.0\n73825  PS9392V  UK013K1       78.0\n\n[17835 rows x 3 columns]",
      "text/html": "<div>\n<style scoped>\n    .dataframe tbody tr th:only-of-type {\n        vertical-align: middle;\n    }\n\n    .dataframe tbody tr th {\n        vertical-align: top;\n    }\n\n    .dataframe thead th {\n        text-align: right;\n    }\n</style>\n<table border=\"1\" class=\"dataframe\">\n  <thead>\n    <tr style=\"text-align: right;\">\n      <th></th>\n      <th>indic_ur</th>\n      <th>cities</th>\n      <th>OBS_VALUE</th>\n    </tr>\n  </thead>\n  <tbody>\n    <tr>\n      <th>4</th>\n      <td>PS1012V</td>\n      <td>AT001C1</td>\n      <td>72.0</td>\n    </tr>\n    <tr>\n      <th>9</th>\n      <td>PS1012V</td>\n      <td>AT002C1</td>\n      <td>39.0</td>\n    </tr>\n    <tr>\n      <th>15</th>\n      <td>PS1012V</td>\n      <td>BE001C1</td>\n      <td>19.0</td>\n    </tr>\n    <tr>\n      <th>21</th>\n      <td>PS1012V</td>\n      <td>BE002C1</td>\n      <td>24.0</td>\n    </tr>\n    <tr>\n      <th>27</th>\n      <td>PS1012V</td>\n      <td>BE005C1</td>\n      <td>14.0</td>\n    </tr>\n    <tr>\n      <th>...</th>\n      <td>...</td>\n      <td>...</td>\n      <td>...</td>\n    </tr>\n    <tr>\n      <th>73821</th>\n      <td>PS9392V</td>\n      <td>UK008C1</td>\n      <td>73.0</td>\n    </tr>\n    <tr>\n      <th>73822</th>\n      <td>PS9392V</td>\n      <td>UK008K1</td>\n      <td>73.0</td>\n    </tr>\n    <tr>\n      <th>73823</th>\n      <td>PS9392V</td>\n      <td>UK009C1</td>\n      <td>79.0</td>\n    </tr>\n    <tr>\n      <th>73824</th>\n      <td>PS9392V</td>\n      <td>UK012C2</td>\n      <td>79.0</td>\n    </tr>\n    <tr>\n      <th>73825</th>\n      <td>PS9392V</td>\n      <td>UK013K1</td>\n      <td>78.0</td>\n    </tr>\n  </tbody>\n</table>\n<p>17835 rows × 3 columns</p>\n</div>"
     },
     "execution_count": 4,
     "metadata": {},
     "output_type": "execute_result"
    }
   ],
   "source": [
    "df"
   ],
   "metadata": {
    "collapsed": false,
    "pycharm": {
     "name": "#%%\n"
    }
   }
  },
  {
   "cell_type": "code",
   "execution_count": 6,
   "outputs": [],
   "source": [
    "group = df.groupby(['cities','indic_ur'])"
   ],
   "metadata": {
    "collapsed": false,
    "pycharm": {
     "name": "#%%\n"
    }
   }
  },
  {
   "cell_type": "code",
   "execution_count": 7,
   "outputs": [],
   "source": [
    "df2 = group.apply(lambda x: x['OBS_VALUE'].unique())"
   ],
   "metadata": {
    "collapsed": false,
    "pycharm": {
     "name": "#%%\n"
    }
   }
  },
  {
   "cell_type": "code",
   "execution_count": 8,
   "outputs": [
    {
     "data": {
      "text/plain": "cities   indic_ur\nAT001C1  PS1012V     [72.0]\n         PS1013V     [23.0]\n         PS1014V      [3.0]\n         PS1015V      [1.0]\n         PS1016V      [1.0]\n                      ...  \nUK013K1  PS9340V     [84.0]\n         PS9342V     [86.0]\n         PS9370V     [87.0]\n         PS9382V     [71.0]\n         PS9392V     [78.0]\nLength: 17835, dtype: object"
     },
     "execution_count": 8,
     "metadata": {},
     "output_type": "execute_result"
    }
   ],
   "source": [
    "df2"
   ],
   "metadata": {
    "collapsed": false,
    "pycharm": {
     "name": "#%%\n"
    }
   }
  },
  {
   "cell_type": "code",
   "execution_count": 9,
   "outputs": [
    {
     "name": "stdout",
     "output_type": "stream",
     "text": [
      "<pandas.core.groupby.generic.DataFrameGroupBy object at 0x7f7dcfd404f0>\n"
     ]
    }
   ],
   "source": [
    "print(group)"
   ],
   "metadata": {
    "collapsed": false,
    "pycharm": {
     "name": "#%%\n"
    }
   }
  },
  {
   "cell_type": "code",
   "execution_count": null,
   "outputs": [],
   "source": [
    "\n",
    "df2 = df2.apply(pd.Series)\n",
    "df2=df2.reset_index()\n",
    "df2=df2.rename({0: 'value'},axis=1)\n",
    "\n",
    "df3=df2.pivot(index='cities', columns='indic_ur',values='value')\n",
    "\n",
    "\n",
    "df3.to_csv(\"/Users/dominikmecko/Folk Dropbox/Dominik Mecko/Folk/Internship research/USE THIS DATA/exported_data3.csv\")"
   ],
   "metadata": {
    "collapsed": false,
    "pycharm": {
     "name": "#%%\n"
    }
   }
  }
 ],
 "metadata": {
  "kernelspec": {
   "display_name": "Python 3",
   "language": "python",
   "name": "python3"
  },
  "language_info": {
   "codemirror_mode": {
    "name": "ipython",
    "version": 2
   },
   "file_extension": ".py",
   "mimetype": "text/x-python",
   "name": "python",
   "nbconvert_exporter": "python",
   "pygments_lexer": "ipython2",
   "version": "2.7.6"
  }
 },
 "nbformat": 4,
 "nbformat_minor": 0
}