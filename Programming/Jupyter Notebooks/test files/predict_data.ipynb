{
 "cells": [
  {
   "cell_type": "code",
   "execution_count": 1,
   "metadata": {
    "collapsed": true,
    "pycharm": {
     "name": "#%%\n"
    }
   },
   "outputs": [],
   "source": [
    "import pandas\n",
    "import pandas as pd\n",
    "import numpy as np"
   ]
  },
  {
   "cell_type": "code",
   "execution_count": 2,
   "outputs": [],
   "source": [
    "folder = \"/Users/dominikmecko/Work/Bachelor's Thesis/Data\"\n",
    "text_path = \"/predict_text.csv\"\n",
    "numeric_path = \"/predict_numeric.csv\"\n",
    "data_text = pd.read_csv(folder+text_path)\n",
    "data_num = pd.read_csv(folder+numeric_path)"
   ],
   "metadata": {
    "collapsed": false,
    "pycharm": {
     "name": "#%%\n"
    }
   }
  },
  {
   "cell_type": "code",
   "execution_count": 3,
   "outputs": [
    {
     "data": {
      "text/plain": "                                            StartDate  \\\n0                                          Start Date   \n1   {\"ImportId\":\"startDate\",\"timeZone\":\"Europe/Ber...   \n2                                 2022-05-18 09:38:36   \n3                                 2022-05-18 20:24:10   \n4                                 2022-05-18 20:13:54   \n5                                 2022-05-19 11:15:22   \n6                                 2022-05-19 17:10:47   \n7                                 2022-05-19 18:35:00   \n8                                 2022-05-20 06:03:27   \n9                                 2022-05-20 18:11:01   \n10                                2022-05-20 18:34:48   \n11                                2022-05-30 22:27:32   \n12                                2022-05-30 12:40:32   \n13                                2022-05-30 11:19:33   \n14                                2022-05-30 09:14:54   \n15                                2022-05-30 09:05:27   \n16                                2022-05-30 08:05:48   \n\n                                              EndDate                 Status  \\\n0                                            End Date          Response Type   \n1   {\"ImportId\":\"endDate\",\"timeZone\":\"Europe/Berlin\"}  {\"ImportId\":\"status\"}   \n2                                 2022-05-18 09:46:24             IP Address   \n3                                 2022-05-18 20:27:00             IP Address   \n4                                 2022-05-18 20:21:09             IP Address   \n5                                 2022-05-19 11:20:22             IP Address   \n6                                 2022-05-19 17:18:52             IP Address   \n7                                 2022-05-19 18:42:54             IP Address   \n8                                 2022-05-20 06:10:20             IP Address   \n9                                 2022-05-20 18:16:03             IP Address   \n10                                2022-05-20 18:39:56             IP Address   \n11                                2022-05-30 22:30:37             IP Address   \n12                                2022-05-30 13:47:16             IP Address   \n13                                2022-05-30 11:23:55             IP Address   \n14                                2022-05-30 09:21:08             IP Address   \n15                                2022-05-30 09:08:20             IP Address   \n16                                2022-05-30 08:09:17             IP Address   \n\n                   Progress    Duration (in seconds)                 Finished  \\\n0                  Progress    Duration (in seconds)                 Finished   \n1   {\"ImportId\":\"progress\"}  {\"ImportId\":\"duration\"}  {\"ImportId\":\"finished\"}   \n2                        79                      467                    False   \n3                        83                      170                    False   \n4                        93                      434                    False   \n5                        50                      299                    False   \n6                        79                      485                    False   \n7                        60                      473                    False   \n8                        50                      413                    False   \n9                        50                      302                    False   \n10                       88                      308                    False   \n11                       93                      184                    False   \n12                       55                     4003                    False   \n13                       50                      261                    False   \n14                       55                      374                    False   \n15                       74                      172                    False   \n16                       69                      208                    False   \n\n                                         RecordedDate  \\\n0                                       Recorded Date   \n1   {\"ImportId\":\"recordedDate\",\"timeZone\":\"Europe/...   \n2                                 2022-05-25 09:46:58   \n3                                 2022-05-25 20:27:09   \n4                                 2022-05-25 23:52:24   \n5                                 2022-05-26 11:20:27   \n6                                 2022-05-26 18:36:27   \n7                                 2022-05-26 18:42:55   \n8                                 2022-05-27 06:10:25   \n9                                 2022-05-27 18:16:07   \n10                                2022-05-27 19:50:40   \n11                                2022-06-03 14:56:46   \n12                                2022-06-03 14:56:53   \n13                                2022-06-03 14:56:54   \n14                                2022-06-03 14:57:06   \n15                                2022-06-03 14:57:08   \n16                                2022-06-03 14:57:11   \n\n                  ResponseId                 DistributionChannel  \\\n0                Response ID                Distribution Channel   \n1   {\"ImportId\":\"_recordId\"}  {\"ImportId\":\"distributionChannel\"}   \n2          R_2QhVhS7x3hq6XKf                           anonymous   \n3          R_1nUxCAfYXJc9EUW                           anonymous   \n4          R_3EnDsvWAIogkXzz                           anonymous   \n5          R_2EnQRnC5z6MEkB0                           anonymous   \n6          R_2trGXz4cYEDIRpV                           anonymous   \n7          R_3Don6Yln25DC0o5                           anonymous   \n8          R_3kMrDfvEZspW2kd                           anonymous   \n9          R_3Mg26j5vNy3yWt8                           anonymous   \n10         R_UDE1Xrj0UjDvJUB                           anonymous   \n11         R_2aY7R6KLtMHfqlA                           anonymous   \n12         R_r8bb9T6nYZTIRfr                           anonymous   \n13         R_3HqcKQZSgll15IK                           anonymous   \n14         R_2OZ9GbFDzgwVRGa                           anonymous   \n15         R_9yhYqtUm0FEkOJj                           anonymous   \n16         R_3PiZs2PUpimz4mE                           anonymous   \n\n                   UserLanguage  ...            Time_Set11_First Click  \\\n0                 User Language  ...              Timing - First Click   \n1   {\"ImportId\":\"userLanguage\"}  ...  {\"ImportId\":\"QID48_FIRST_CLICK\"}   \n2                            SK  ...                               NaN   \n3                            SK  ...                               NaN   \n4                            SK  ...                             5.177   \n5                            SK  ...                               NaN   \n6                            SK  ...                               NaN   \n7                            SK  ...                               NaN   \n8                            SK  ...                               NaN   \n9                            SK  ...                               NaN   \n10                           SK  ...                               NaN   \n11                           SK  ...                             1.028   \n12                           SK  ...                               NaN   \n13                           SK  ...                               NaN   \n14                           SK  ...                               NaN   \n15                           SK  ...                               NaN   \n16                           SK  ...                               NaN   \n\n              Time_Set11_Last Click            Time_Set11_Page Submit  \\\n0               Timing - Last Click              Timing - Page Submit   \n1   {\"ImportId\":\"QID48_LAST_CLICK\"}  {\"ImportId\":\"QID48_PAGE_SUBMIT\"}   \n2                               NaN                               NaN   \n3                               NaN                               NaN   \n4                            11.979                            12.652   \n5                               NaN                               NaN   \n6                               NaN                               NaN   \n7                               NaN                               NaN   \n8                               NaN                               NaN   \n9                               NaN                               NaN   \n10                              NaN                               NaN   \n11                            1.028                             1.485   \n12                              NaN                               NaN   \n13                              NaN                               NaN   \n14                              NaN                               NaN   \n15                              NaN                               NaN   \n16                              NaN                               NaN   \n\n              Time_Set11_Click Count  \\\n0               Timing - Click Count   \n1   {\"ImportId\":\"QID48_CLICK_COUNT\"}   \n2                                NaN   \n3                                NaN   \n4                                  8   \n5                                NaN   \n6                                NaN   \n7                                NaN   \n8                                NaN   \n9                                NaN   \n10                               NaN   \n11                                 1   \n12                               NaN   \n13                               NaN   \n14                               NaN   \n15                               NaN   \n16                               NaN   \n\n                                                Set12  \\\n0   Ktorý z plánov elektrickej energie by ste si z...   \n1                                {\"ImportId\":\"QID49\"}   \n2                                                 NaN   \n3                                                 NaN   \n4                                                 NaN   \n5                                                 NaN   \n6                                                 NaN   \n7                                                 NaN   \n8                                                 NaN   \n9                                                 NaN   \n10                                                NaN   \n11                                                NaN   \n12                                                NaN   \n13                                                NaN   \n14                                                NaN   \n15                                                NaN   \n16                                                NaN   \n\n              Time_Set12_First Click            Time_Set12_Last Click  \\\n0               Timing - First Click              Timing - Last Click   \n1   {\"ImportId\":\"QID50_FIRST_CLICK\"}  {\"ImportId\":\"QID50_LAST_CLICK\"}   \n2                                NaN                              NaN   \n3                                NaN                              NaN   \n4                                NaN                              NaN   \n5                                NaN                              NaN   \n6                                NaN                              NaN   \n7                                NaN                              NaN   \n8                                NaN                              NaN   \n9                                NaN                              NaN   \n10                               NaN                              NaN   \n11                               NaN                              NaN   \n12                               NaN                              NaN   \n13                               NaN                              NaN   \n14                               NaN                              NaN   \n15                               NaN                              NaN   \n16                               NaN                              NaN   \n\n              Time_Set12_Page Submit            Time_Set12_Click Count  \\\n0               Timing - Page Submit              Timing - Click Count   \n1   {\"ImportId\":\"QID50_PAGE_SUBMIT\"}  {\"ImportId\":\"QID50_CLICK_COUNT\"}   \n2                                NaN                               NaN   \n3                                NaN                               NaN   \n4                                NaN                               NaN   \n5                                NaN                               NaN   \n6                                NaN                               NaN   \n7                                NaN                               NaN   \n8                                NaN                               NaN   \n9                                NaN                               NaN   \n10                               NaN                               NaN   \n11                               NaN                               NaN   \n12                               NaN                               NaN   \n13                               NaN                               NaN   \n14                               NaN                               NaN   \n15                               NaN                               NaN   \n16                               NaN                               NaN   \n\n                                             Comments  \n0   Ďakujem Vám veľmi pekne za vyplnenie prieskumu...  \n1                           {\"ImportId\":\"QID53_TEXT\"}  \n2                                                 NaN  \n3                                                 NaN  \n4                                                 NaN  \n5                                                 NaN  \n6                                                 NaN  \n7                                                 NaN  \n8                                                 NaN  \n9                                                 NaN  \n10                                                NaN  \n11                                                NaN  \n12                                                NaN  \n13                                                NaN  \n14                                                NaN  \n15                                                NaN  \n16                                                NaN  \n\n[17 rows x 92 columns]",
      "text/html": "<div>\n<style scoped>\n    .dataframe tbody tr th:only-of-type {\n        vertical-align: middle;\n    }\n\n    .dataframe tbody tr th {\n        vertical-align: top;\n    }\n\n    .dataframe thead th {\n        text-align: right;\n    }\n</style>\n<table border=\"1\" class=\"dataframe\">\n  <thead>\n    <tr style=\"text-align: right;\">\n      <th></th>\n      <th>StartDate</th>\n      <th>EndDate</th>\n      <th>Status</th>\n      <th>Progress</th>\n      <th>Duration (in seconds)</th>\n      <th>Finished</th>\n      <th>RecordedDate</th>\n      <th>ResponseId</th>\n      <th>DistributionChannel</th>\n      <th>UserLanguage</th>\n      <th>...</th>\n      <th>Time_Set11_First Click</th>\n      <th>Time_Set11_Last Click</th>\n      <th>Time_Set11_Page Submit</th>\n      <th>Time_Set11_Click Count</th>\n      <th>Set12</th>\n      <th>Time_Set12_First Click</th>\n      <th>Time_Set12_Last Click</th>\n      <th>Time_Set12_Page Submit</th>\n      <th>Time_Set12_Click Count</th>\n      <th>Comments</th>\n    </tr>\n  </thead>\n  <tbody>\n    <tr>\n      <th>0</th>\n      <td>Start Date</td>\n      <td>End Date</td>\n      <td>Response Type</td>\n      <td>Progress</td>\n      <td>Duration (in seconds)</td>\n      <td>Finished</td>\n      <td>Recorded Date</td>\n      <td>Response ID</td>\n      <td>Distribution Channel</td>\n      <td>User Language</td>\n      <td>...</td>\n      <td>Timing - First Click</td>\n      <td>Timing - Last Click</td>\n      <td>Timing - Page Submit</td>\n      <td>Timing - Click Count</td>\n      <td>Ktorý z plánov elektrickej energie by ste si z...</td>\n      <td>Timing - First Click</td>\n      <td>Timing - Last Click</td>\n      <td>Timing - Page Submit</td>\n      <td>Timing - Click Count</td>\n      <td>Ďakujem Vám veľmi pekne za vyplnenie prieskumu...</td>\n    </tr>\n    <tr>\n      <th>1</th>\n      <td>{\"ImportId\":\"startDate\",\"timeZone\":\"Europe/Ber...</td>\n      <td>{\"ImportId\":\"endDate\",\"timeZone\":\"Europe/Berlin\"}</td>\n      <td>{\"ImportId\":\"status\"}</td>\n      <td>{\"ImportId\":\"progress\"}</td>\n      <td>{\"ImportId\":\"duration\"}</td>\n      <td>{\"ImportId\":\"finished\"}</td>\n      <td>{\"ImportId\":\"recordedDate\",\"timeZone\":\"Europe/...</td>\n      <td>{\"ImportId\":\"_recordId\"}</td>\n      <td>{\"ImportId\":\"distributionChannel\"}</td>\n      <td>{\"ImportId\":\"userLanguage\"}</td>\n      <td>...</td>\n      <td>{\"ImportId\":\"QID48_FIRST_CLICK\"}</td>\n      <td>{\"ImportId\":\"QID48_LAST_CLICK\"}</td>\n      <td>{\"ImportId\":\"QID48_PAGE_SUBMIT\"}</td>\n      <td>{\"ImportId\":\"QID48_CLICK_COUNT\"}</td>\n      <td>{\"ImportId\":\"QID49\"}</td>\n      <td>{\"ImportId\":\"QID50_FIRST_CLICK\"}</td>\n      <td>{\"ImportId\":\"QID50_LAST_CLICK\"}</td>\n      <td>{\"ImportId\":\"QID50_PAGE_SUBMIT\"}</td>\n      <td>{\"ImportId\":\"QID50_CLICK_COUNT\"}</td>\n      <td>{\"ImportId\":\"QID53_TEXT\"}</td>\n    </tr>\n    <tr>\n      <th>2</th>\n      <td>2022-05-18 09:38:36</td>\n      <td>2022-05-18 09:46:24</td>\n      <td>IP Address</td>\n      <td>79</td>\n      <td>467</td>\n      <td>False</td>\n      <td>2022-05-25 09:46:58</td>\n      <td>R_2QhVhS7x3hq6XKf</td>\n      <td>anonymous</td>\n      <td>SK</td>\n      <td>...</td>\n      <td>NaN</td>\n      <td>NaN</td>\n      <td>NaN</td>\n      <td>NaN</td>\n      <td>NaN</td>\n      <td>NaN</td>\n      <td>NaN</td>\n      <td>NaN</td>\n      <td>NaN</td>\n      <td>NaN</td>\n    </tr>\n    <tr>\n      <th>3</th>\n      <td>2022-05-18 20:24:10</td>\n      <td>2022-05-18 20:27:00</td>\n      <td>IP Address</td>\n      <td>83</td>\n      <td>170</td>\n      <td>False</td>\n      <td>2022-05-25 20:27:09</td>\n      <td>R_1nUxCAfYXJc9EUW</td>\n      <td>anonymous</td>\n      <td>SK</td>\n      <td>...</td>\n      <td>NaN</td>\n      <td>NaN</td>\n      <td>NaN</td>\n      <td>NaN</td>\n      <td>NaN</td>\n      <td>NaN</td>\n      <td>NaN</td>\n      <td>NaN</td>\n      <td>NaN</td>\n      <td>NaN</td>\n    </tr>\n    <tr>\n      <th>4</th>\n      <td>2022-05-18 20:13:54</td>\n      <td>2022-05-18 20:21:09</td>\n      <td>IP Address</td>\n      <td>93</td>\n      <td>434</td>\n      <td>False</td>\n      <td>2022-05-25 23:52:24</td>\n      <td>R_3EnDsvWAIogkXzz</td>\n      <td>anonymous</td>\n      <td>SK</td>\n      <td>...</td>\n      <td>5.177</td>\n      <td>11.979</td>\n      <td>12.652</td>\n      <td>8</td>\n      <td>NaN</td>\n      <td>NaN</td>\n      <td>NaN</td>\n      <td>NaN</td>\n      <td>NaN</td>\n      <td>NaN</td>\n    </tr>\n    <tr>\n      <th>5</th>\n      <td>2022-05-19 11:15:22</td>\n      <td>2022-05-19 11:20:22</td>\n      <td>IP Address</td>\n      <td>50</td>\n      <td>299</td>\n      <td>False</td>\n      <td>2022-05-26 11:20:27</td>\n      <td>R_2EnQRnC5z6MEkB0</td>\n      <td>anonymous</td>\n      <td>SK</td>\n      <td>...</td>\n      <td>NaN</td>\n      <td>NaN</td>\n      <td>NaN</td>\n      <td>NaN</td>\n      <td>NaN</td>\n      <td>NaN</td>\n      <td>NaN</td>\n      <td>NaN</td>\n      <td>NaN</td>\n      <td>NaN</td>\n    </tr>\n    <tr>\n      <th>6</th>\n      <td>2022-05-19 17:10:47</td>\n      <td>2022-05-19 17:18:52</td>\n      <td>IP Address</td>\n      <td>79</td>\n      <td>485</td>\n      <td>False</td>\n      <td>2022-05-26 18:36:27</td>\n      <td>R_2trGXz4cYEDIRpV</td>\n      <td>anonymous</td>\n      <td>SK</td>\n      <td>...</td>\n      <td>NaN</td>\n      <td>NaN</td>\n      <td>NaN</td>\n      <td>NaN</td>\n      <td>NaN</td>\n      <td>NaN</td>\n      <td>NaN</td>\n      <td>NaN</td>\n      <td>NaN</td>\n      <td>NaN</td>\n    </tr>\n    <tr>\n      <th>7</th>\n      <td>2022-05-19 18:35:00</td>\n      <td>2022-05-19 18:42:54</td>\n      <td>IP Address</td>\n      <td>60</td>\n      <td>473</td>\n      <td>False</td>\n      <td>2022-05-26 18:42:55</td>\n      <td>R_3Don6Yln25DC0o5</td>\n      <td>anonymous</td>\n      <td>SK</td>\n      <td>...</td>\n      <td>NaN</td>\n      <td>NaN</td>\n      <td>NaN</td>\n      <td>NaN</td>\n      <td>NaN</td>\n      <td>NaN</td>\n      <td>NaN</td>\n      <td>NaN</td>\n      <td>NaN</td>\n      <td>NaN</td>\n    </tr>\n    <tr>\n      <th>8</th>\n      <td>2022-05-20 06:03:27</td>\n      <td>2022-05-20 06:10:20</td>\n      <td>IP Address</td>\n      <td>50</td>\n      <td>413</td>\n      <td>False</td>\n      <td>2022-05-27 06:10:25</td>\n      <td>R_3kMrDfvEZspW2kd</td>\n      <td>anonymous</td>\n      <td>SK</td>\n      <td>...</td>\n      <td>NaN</td>\n      <td>NaN</td>\n      <td>NaN</td>\n      <td>NaN</td>\n      <td>NaN</td>\n      <td>NaN</td>\n      <td>NaN</td>\n      <td>NaN</td>\n      <td>NaN</td>\n      <td>NaN</td>\n    </tr>\n    <tr>\n      <th>9</th>\n      <td>2022-05-20 18:11:01</td>\n      <td>2022-05-20 18:16:03</td>\n      <td>IP Address</td>\n      <td>50</td>\n      <td>302</td>\n      <td>False</td>\n      <td>2022-05-27 18:16:07</td>\n      <td>R_3Mg26j5vNy3yWt8</td>\n      <td>anonymous</td>\n      <td>SK</td>\n      <td>...</td>\n      <td>NaN</td>\n      <td>NaN</td>\n      <td>NaN</td>\n      <td>NaN</td>\n      <td>NaN</td>\n      <td>NaN</td>\n      <td>NaN</td>\n      <td>NaN</td>\n      <td>NaN</td>\n      <td>NaN</td>\n    </tr>\n    <tr>\n      <th>10</th>\n      <td>2022-05-20 18:34:48</td>\n      <td>2022-05-20 18:39:56</td>\n      <td>IP Address</td>\n      <td>88</td>\n      <td>308</td>\n      <td>False</td>\n      <td>2022-05-27 19:50:40</td>\n      <td>R_UDE1Xrj0UjDvJUB</td>\n      <td>anonymous</td>\n      <td>SK</td>\n      <td>...</td>\n      <td>NaN</td>\n      <td>NaN</td>\n      <td>NaN</td>\n      <td>NaN</td>\n      <td>NaN</td>\n      <td>NaN</td>\n      <td>NaN</td>\n      <td>NaN</td>\n      <td>NaN</td>\n      <td>NaN</td>\n    </tr>\n    <tr>\n      <th>11</th>\n      <td>2022-05-30 22:27:32</td>\n      <td>2022-05-30 22:30:37</td>\n      <td>IP Address</td>\n      <td>93</td>\n      <td>184</td>\n      <td>False</td>\n      <td>2022-06-03 14:56:46</td>\n      <td>R_2aY7R6KLtMHfqlA</td>\n      <td>anonymous</td>\n      <td>SK</td>\n      <td>...</td>\n      <td>1.028</td>\n      <td>1.028</td>\n      <td>1.485</td>\n      <td>1</td>\n      <td>NaN</td>\n      <td>NaN</td>\n      <td>NaN</td>\n      <td>NaN</td>\n      <td>NaN</td>\n      <td>NaN</td>\n    </tr>\n    <tr>\n      <th>12</th>\n      <td>2022-05-30 12:40:32</td>\n      <td>2022-05-30 13:47:16</td>\n      <td>IP Address</td>\n      <td>55</td>\n      <td>4003</td>\n      <td>False</td>\n      <td>2022-06-03 14:56:53</td>\n      <td>R_r8bb9T6nYZTIRfr</td>\n      <td>anonymous</td>\n      <td>SK</td>\n      <td>...</td>\n      <td>NaN</td>\n      <td>NaN</td>\n      <td>NaN</td>\n      <td>NaN</td>\n      <td>NaN</td>\n      <td>NaN</td>\n      <td>NaN</td>\n      <td>NaN</td>\n      <td>NaN</td>\n      <td>NaN</td>\n    </tr>\n    <tr>\n      <th>13</th>\n      <td>2022-05-30 11:19:33</td>\n      <td>2022-05-30 11:23:55</td>\n      <td>IP Address</td>\n      <td>50</td>\n      <td>261</td>\n      <td>False</td>\n      <td>2022-06-03 14:56:54</td>\n      <td>R_3HqcKQZSgll15IK</td>\n      <td>anonymous</td>\n      <td>SK</td>\n      <td>...</td>\n      <td>NaN</td>\n      <td>NaN</td>\n      <td>NaN</td>\n      <td>NaN</td>\n      <td>NaN</td>\n      <td>NaN</td>\n      <td>NaN</td>\n      <td>NaN</td>\n      <td>NaN</td>\n      <td>NaN</td>\n    </tr>\n    <tr>\n      <th>14</th>\n      <td>2022-05-30 09:14:54</td>\n      <td>2022-05-30 09:21:08</td>\n      <td>IP Address</td>\n      <td>55</td>\n      <td>374</td>\n      <td>False</td>\n      <td>2022-06-03 14:57:06</td>\n      <td>R_2OZ9GbFDzgwVRGa</td>\n      <td>anonymous</td>\n      <td>SK</td>\n      <td>...</td>\n      <td>NaN</td>\n      <td>NaN</td>\n      <td>NaN</td>\n      <td>NaN</td>\n      <td>NaN</td>\n      <td>NaN</td>\n      <td>NaN</td>\n      <td>NaN</td>\n      <td>NaN</td>\n      <td>NaN</td>\n    </tr>\n    <tr>\n      <th>15</th>\n      <td>2022-05-30 09:05:27</td>\n      <td>2022-05-30 09:08:20</td>\n      <td>IP Address</td>\n      <td>74</td>\n      <td>172</td>\n      <td>False</td>\n      <td>2022-06-03 14:57:08</td>\n      <td>R_9yhYqtUm0FEkOJj</td>\n      <td>anonymous</td>\n      <td>SK</td>\n      <td>...</td>\n      <td>NaN</td>\n      <td>NaN</td>\n      <td>NaN</td>\n      <td>NaN</td>\n      <td>NaN</td>\n      <td>NaN</td>\n      <td>NaN</td>\n      <td>NaN</td>\n      <td>NaN</td>\n      <td>NaN</td>\n    </tr>\n    <tr>\n      <th>16</th>\n      <td>2022-05-30 08:05:48</td>\n      <td>2022-05-30 08:09:17</td>\n      <td>IP Address</td>\n      <td>69</td>\n      <td>208</td>\n      <td>False</td>\n      <td>2022-06-03 14:57:11</td>\n      <td>R_3PiZs2PUpimz4mE</td>\n      <td>anonymous</td>\n      <td>SK</td>\n      <td>...</td>\n      <td>NaN</td>\n      <td>NaN</td>\n      <td>NaN</td>\n      <td>NaN</td>\n      <td>NaN</td>\n      <td>NaN</td>\n      <td>NaN</td>\n      <td>NaN</td>\n      <td>NaN</td>\n      <td>NaN</td>\n    </tr>\n  </tbody>\n</table>\n<p>17 rows × 92 columns</p>\n</div>"
     },
     "execution_count": 3,
     "metadata": {},
     "output_type": "execute_result"
    }
   ],
   "source": [
    "data_text"
   ],
   "metadata": {
    "collapsed": false,
    "pycharm": {
     "name": "#%%\n"
    }
   }
  },
  {
   "cell_type": "code",
   "execution_count": 4,
   "outputs": [
    {
     "data": {
      "text/plain": "                                            StartDate  \\\n0                                          Start Date   \n1   {\"ImportId\":\"startDate\",\"timeZone\":\"Europe/Ber...   \n2                                 2022-05-18 09:38:36   \n3                                 2022-05-18 20:24:10   \n4                                 2022-05-18 20:13:54   \n5                                 2022-05-19 11:15:22   \n6                                 2022-05-19 17:10:47   \n7                                 2022-05-19 18:35:00   \n8                                 2022-05-20 06:03:27   \n9                                 2022-05-20 18:11:01   \n10                                2022-05-20 18:34:48   \n11                                2022-05-30 22:27:32   \n12                                2022-05-30 12:40:32   \n13                                2022-05-30 11:19:33   \n14                                2022-05-30 09:14:54   \n15                                2022-05-30 09:05:27   \n16                                2022-05-30 08:05:48   \n\n                                              EndDate                 Status  \\\n0                                            End Date          Response Type   \n1   {\"ImportId\":\"endDate\",\"timeZone\":\"Europe/Berlin\"}  {\"ImportId\":\"status\"}   \n2                                 2022-05-18 09:46:24                      0   \n3                                 2022-05-18 20:27:00                      0   \n4                                 2022-05-18 20:21:09                      0   \n5                                 2022-05-19 11:20:22                      0   \n6                                 2022-05-19 17:18:52                      0   \n7                                 2022-05-19 18:42:54                      0   \n8                                 2022-05-20 06:10:20                      0   \n9                                 2022-05-20 18:16:03                      0   \n10                                2022-05-20 18:39:56                      0   \n11                                2022-05-30 22:30:37                      0   \n12                                2022-05-30 13:47:16                      0   \n13                                2022-05-30 11:23:55                      0   \n14                                2022-05-30 09:21:08                      0   \n15                                2022-05-30 09:08:20                      0   \n16                                2022-05-30 08:09:17                      0   \n\n                   Progress    Duration (in seconds)                 Finished  \\\n0                  Progress    Duration (in seconds)                 Finished   \n1   {\"ImportId\":\"progress\"}  {\"ImportId\":\"duration\"}  {\"ImportId\":\"finished\"}   \n2                        79                      467                        0   \n3                        83                      170                        0   \n4                        93                      434                        0   \n5                        50                      299                        0   \n6                        79                      485                        0   \n7                        60                      473                        0   \n8                        50                      413                        0   \n9                        50                      302                        0   \n10                       88                      308                        0   \n11                       93                      184                        0   \n12                       55                     4003                        0   \n13                       50                      261                        0   \n14                       55                      374                        0   \n15                       74                      172                        0   \n16                       69                      208                        0   \n\n                                         RecordedDate  \\\n0                                       Recorded Date   \n1   {\"ImportId\":\"recordedDate\",\"timeZone\":\"Europe/...   \n2                                 2022-05-25 09:46:58   \n3                                 2022-05-25 20:27:09   \n4                                 2022-05-25 23:52:24   \n5                                 2022-05-26 11:20:27   \n6                                 2022-05-26 18:36:27   \n7                                 2022-05-26 18:42:55   \n8                                 2022-05-27 06:10:25   \n9                                 2022-05-27 18:16:07   \n10                                2022-05-27 19:50:40   \n11                                2022-06-03 14:56:46   \n12                                2022-06-03 14:56:53   \n13                                2022-06-03 14:56:54   \n14                                2022-06-03 14:57:06   \n15                                2022-06-03 14:57:08   \n16                                2022-06-03 14:57:11   \n\n                  ResponseId                 DistributionChannel  \\\n0                Response ID                Distribution Channel   \n1   {\"ImportId\":\"_recordId\"}  {\"ImportId\":\"distributionChannel\"}   \n2          R_2QhVhS7x3hq6XKf                           anonymous   \n3          R_1nUxCAfYXJc9EUW                           anonymous   \n4          R_3EnDsvWAIogkXzz                           anonymous   \n5          R_2EnQRnC5z6MEkB0                           anonymous   \n6          R_2trGXz4cYEDIRpV                           anonymous   \n7          R_3Don6Yln25DC0o5                           anonymous   \n8          R_3kMrDfvEZspW2kd                           anonymous   \n9          R_3Mg26j5vNy3yWt8                           anonymous   \n10         R_UDE1Xrj0UjDvJUB                           anonymous   \n11         R_2aY7R6KLtMHfqlA                           anonymous   \n12         R_r8bb9T6nYZTIRfr                           anonymous   \n13         R_3HqcKQZSgll15IK                           anonymous   \n14         R_2OZ9GbFDzgwVRGa                           anonymous   \n15         R_9yhYqtUm0FEkOJj                           anonymous   \n16         R_3PiZs2PUpimz4mE                           anonymous   \n\n                   UserLanguage  ...            Time_Set11_First Click  \\\n0                 User Language  ...              Timing - First Click   \n1   {\"ImportId\":\"userLanguage\"}  ...  {\"ImportId\":\"QID48_FIRST_CLICK\"}   \n2                            SK  ...                               NaN   \n3                            SK  ...                               NaN   \n4                            SK  ...                             5.177   \n5                            SK  ...                               NaN   \n6                            SK  ...                               NaN   \n7                            SK  ...                               NaN   \n8                            SK  ...                               NaN   \n9                            SK  ...                               NaN   \n10                           SK  ...                               NaN   \n11                           SK  ...                             1.028   \n12                           SK  ...                               NaN   \n13                           SK  ...                               NaN   \n14                           SK  ...                               NaN   \n15                           SK  ...                               NaN   \n16                           SK  ...                               NaN   \n\n              Time_Set11_Last Click            Time_Set11_Page Submit  \\\n0               Timing - Last Click              Timing - Page Submit   \n1   {\"ImportId\":\"QID48_LAST_CLICK\"}  {\"ImportId\":\"QID48_PAGE_SUBMIT\"}   \n2                               NaN                               NaN   \n3                               NaN                               NaN   \n4                            11.979                            12.652   \n5                               NaN                               NaN   \n6                               NaN                               NaN   \n7                               NaN                               NaN   \n8                               NaN                               NaN   \n9                               NaN                               NaN   \n10                              NaN                               NaN   \n11                            1.028                             1.485   \n12                              NaN                               NaN   \n13                              NaN                               NaN   \n14                              NaN                               NaN   \n15                              NaN                               NaN   \n16                              NaN                               NaN   \n\n              Time_Set11_Click Count  \\\n0               Timing - Click Count   \n1   {\"ImportId\":\"QID48_CLICK_COUNT\"}   \n2                                NaN   \n3                                NaN   \n4                                  8   \n5                                NaN   \n6                                NaN   \n7                                NaN   \n8                                NaN   \n9                                NaN   \n10                               NaN   \n11                                 1   \n12                               NaN   \n13                               NaN   \n14                               NaN   \n15                               NaN   \n16                               NaN   \n\n                                                Set12  \\\n0   Ktorý z plánov elektrickej energie by ste si z...   \n1                                {\"ImportId\":\"QID49\"}   \n2                                                 NaN   \n3                                                 NaN   \n4                                                 NaN   \n5                                                 NaN   \n6                                                 NaN   \n7                                                 NaN   \n8                                                 NaN   \n9                                                 NaN   \n10                                                NaN   \n11                                                NaN   \n12                                                NaN   \n13                                                NaN   \n14                                                NaN   \n15                                                NaN   \n16                                                NaN   \n\n              Time_Set12_First Click            Time_Set12_Last Click  \\\n0               Timing - First Click              Timing - Last Click   \n1   {\"ImportId\":\"QID50_FIRST_CLICK\"}  {\"ImportId\":\"QID50_LAST_CLICK\"}   \n2                                NaN                              NaN   \n3                                NaN                              NaN   \n4                                NaN                              NaN   \n5                                NaN                              NaN   \n6                                NaN                              NaN   \n7                                NaN                              NaN   \n8                                NaN                              NaN   \n9                                NaN                              NaN   \n10                               NaN                              NaN   \n11                               NaN                              NaN   \n12                               NaN                              NaN   \n13                               NaN                              NaN   \n14                               NaN                              NaN   \n15                               NaN                              NaN   \n16                               NaN                              NaN   \n\n              Time_Set12_Page Submit            Time_Set12_Click Count  \\\n0               Timing - Page Submit              Timing - Click Count   \n1   {\"ImportId\":\"QID50_PAGE_SUBMIT\"}  {\"ImportId\":\"QID50_CLICK_COUNT\"}   \n2                                NaN                               NaN   \n3                                NaN                               NaN   \n4                                NaN                               NaN   \n5                                NaN                               NaN   \n6                                NaN                               NaN   \n7                                NaN                               NaN   \n8                                NaN                               NaN   \n9                                NaN                               NaN   \n10                               NaN                               NaN   \n11                               NaN                               NaN   \n12                               NaN                               NaN   \n13                               NaN                               NaN   \n14                               NaN                               NaN   \n15                               NaN                               NaN   \n16                               NaN                               NaN   \n\n                                             Comments  \n0   Ďakujem Vám veľmi pekne za vyplnenie prieskumu...  \n1                           {\"ImportId\":\"QID53_TEXT\"}  \n2                                                 NaN  \n3                                                 NaN  \n4                                                 NaN  \n5                                                 NaN  \n6                                                 NaN  \n7                                                 NaN  \n8                                                 NaN  \n9                                                 NaN  \n10                                                NaN  \n11                                                NaN  \n12                                                NaN  \n13                                                NaN  \n14                                                NaN  \n15                                                NaN  \n16                                                NaN  \n\n[17 rows x 92 columns]",
      "text/html": "<div>\n<style scoped>\n    .dataframe tbody tr th:only-of-type {\n        vertical-align: middle;\n    }\n\n    .dataframe tbody tr th {\n        vertical-align: top;\n    }\n\n    .dataframe thead th {\n        text-align: right;\n    }\n</style>\n<table border=\"1\" class=\"dataframe\">\n  <thead>\n    <tr style=\"text-align: right;\">\n      <th></th>\n      <th>StartDate</th>\n      <th>EndDate</th>\n      <th>Status</th>\n      <th>Progress</th>\n      <th>Duration (in seconds)</th>\n      <th>Finished</th>\n      <th>RecordedDate</th>\n      <th>ResponseId</th>\n      <th>DistributionChannel</th>\n      <th>UserLanguage</th>\n      <th>...</th>\n      <th>Time_Set11_First Click</th>\n      <th>Time_Set11_Last Click</th>\n      <th>Time_Set11_Page Submit</th>\n      <th>Time_Set11_Click Count</th>\n      <th>Set12</th>\n      <th>Time_Set12_First Click</th>\n      <th>Time_Set12_Last Click</th>\n      <th>Time_Set12_Page Submit</th>\n      <th>Time_Set12_Click Count</th>\n      <th>Comments</th>\n    </tr>\n  </thead>\n  <tbody>\n    <tr>\n      <th>0</th>\n      <td>Start Date</td>\n      <td>End Date</td>\n      <td>Response Type</td>\n      <td>Progress</td>\n      <td>Duration (in seconds)</td>\n      <td>Finished</td>\n      <td>Recorded Date</td>\n      <td>Response ID</td>\n      <td>Distribution Channel</td>\n      <td>User Language</td>\n      <td>...</td>\n      <td>Timing - First Click</td>\n      <td>Timing - Last Click</td>\n      <td>Timing - Page Submit</td>\n      <td>Timing - Click Count</td>\n      <td>Ktorý z plánov elektrickej energie by ste si z...</td>\n      <td>Timing - First Click</td>\n      <td>Timing - Last Click</td>\n      <td>Timing - Page Submit</td>\n      <td>Timing - Click Count</td>\n      <td>Ďakujem Vám veľmi pekne za vyplnenie prieskumu...</td>\n    </tr>\n    <tr>\n      <th>1</th>\n      <td>{\"ImportId\":\"startDate\",\"timeZone\":\"Europe/Ber...</td>\n      <td>{\"ImportId\":\"endDate\",\"timeZone\":\"Europe/Berlin\"}</td>\n      <td>{\"ImportId\":\"status\"}</td>\n      <td>{\"ImportId\":\"progress\"}</td>\n      <td>{\"ImportId\":\"duration\"}</td>\n      <td>{\"ImportId\":\"finished\"}</td>\n      <td>{\"ImportId\":\"recordedDate\",\"timeZone\":\"Europe/...</td>\n      <td>{\"ImportId\":\"_recordId\"}</td>\n      <td>{\"ImportId\":\"distributionChannel\"}</td>\n      <td>{\"ImportId\":\"userLanguage\"}</td>\n      <td>...</td>\n      <td>{\"ImportId\":\"QID48_FIRST_CLICK\"}</td>\n      <td>{\"ImportId\":\"QID48_LAST_CLICK\"}</td>\n      <td>{\"ImportId\":\"QID48_PAGE_SUBMIT\"}</td>\n      <td>{\"ImportId\":\"QID48_CLICK_COUNT\"}</td>\n      <td>{\"ImportId\":\"QID49\"}</td>\n      <td>{\"ImportId\":\"QID50_FIRST_CLICK\"}</td>\n      <td>{\"ImportId\":\"QID50_LAST_CLICK\"}</td>\n      <td>{\"ImportId\":\"QID50_PAGE_SUBMIT\"}</td>\n      <td>{\"ImportId\":\"QID50_CLICK_COUNT\"}</td>\n      <td>{\"ImportId\":\"QID53_TEXT\"}</td>\n    </tr>\n    <tr>\n      <th>2</th>\n      <td>2022-05-18 09:38:36</td>\n      <td>2022-05-18 09:46:24</td>\n      <td>0</td>\n      <td>79</td>\n      <td>467</td>\n      <td>0</td>\n      <td>2022-05-25 09:46:58</td>\n      <td>R_2QhVhS7x3hq6XKf</td>\n      <td>anonymous</td>\n      <td>SK</td>\n      <td>...</td>\n      <td>NaN</td>\n      <td>NaN</td>\n      <td>NaN</td>\n      <td>NaN</td>\n      <td>NaN</td>\n      <td>NaN</td>\n      <td>NaN</td>\n      <td>NaN</td>\n      <td>NaN</td>\n      <td>NaN</td>\n    </tr>\n    <tr>\n      <th>3</th>\n      <td>2022-05-18 20:24:10</td>\n      <td>2022-05-18 20:27:00</td>\n      <td>0</td>\n      <td>83</td>\n      <td>170</td>\n      <td>0</td>\n      <td>2022-05-25 20:27:09</td>\n      <td>R_1nUxCAfYXJc9EUW</td>\n      <td>anonymous</td>\n      <td>SK</td>\n      <td>...</td>\n      <td>NaN</td>\n      <td>NaN</td>\n      <td>NaN</td>\n      <td>NaN</td>\n      <td>NaN</td>\n      <td>NaN</td>\n      <td>NaN</td>\n      <td>NaN</td>\n      <td>NaN</td>\n      <td>NaN</td>\n    </tr>\n    <tr>\n      <th>4</th>\n      <td>2022-05-18 20:13:54</td>\n      <td>2022-05-18 20:21:09</td>\n      <td>0</td>\n      <td>93</td>\n      <td>434</td>\n      <td>0</td>\n      <td>2022-05-25 23:52:24</td>\n      <td>R_3EnDsvWAIogkXzz</td>\n      <td>anonymous</td>\n      <td>SK</td>\n      <td>...</td>\n      <td>5.177</td>\n      <td>11.979</td>\n      <td>12.652</td>\n      <td>8</td>\n      <td>NaN</td>\n      <td>NaN</td>\n      <td>NaN</td>\n      <td>NaN</td>\n      <td>NaN</td>\n      <td>NaN</td>\n    </tr>\n    <tr>\n      <th>5</th>\n      <td>2022-05-19 11:15:22</td>\n      <td>2022-05-19 11:20:22</td>\n      <td>0</td>\n      <td>50</td>\n      <td>299</td>\n      <td>0</td>\n      <td>2022-05-26 11:20:27</td>\n      <td>R_2EnQRnC5z6MEkB0</td>\n      <td>anonymous</td>\n      <td>SK</td>\n      <td>...</td>\n      <td>NaN</td>\n      <td>NaN</td>\n      <td>NaN</td>\n      <td>NaN</td>\n      <td>NaN</td>\n      <td>NaN</td>\n      <td>NaN</td>\n      <td>NaN</td>\n      <td>NaN</td>\n      <td>NaN</td>\n    </tr>\n    <tr>\n      <th>6</th>\n      <td>2022-05-19 17:10:47</td>\n      <td>2022-05-19 17:18:52</td>\n      <td>0</td>\n      <td>79</td>\n      <td>485</td>\n      <td>0</td>\n      <td>2022-05-26 18:36:27</td>\n      <td>R_2trGXz4cYEDIRpV</td>\n      <td>anonymous</td>\n      <td>SK</td>\n      <td>...</td>\n      <td>NaN</td>\n      <td>NaN</td>\n      <td>NaN</td>\n      <td>NaN</td>\n      <td>NaN</td>\n      <td>NaN</td>\n      <td>NaN</td>\n      <td>NaN</td>\n      <td>NaN</td>\n      <td>NaN</td>\n    </tr>\n    <tr>\n      <th>7</th>\n      <td>2022-05-19 18:35:00</td>\n      <td>2022-05-19 18:42:54</td>\n      <td>0</td>\n      <td>60</td>\n      <td>473</td>\n      <td>0</td>\n      <td>2022-05-26 18:42:55</td>\n      <td>R_3Don6Yln25DC0o5</td>\n      <td>anonymous</td>\n      <td>SK</td>\n      <td>...</td>\n      <td>NaN</td>\n      <td>NaN</td>\n      <td>NaN</td>\n      <td>NaN</td>\n      <td>NaN</td>\n      <td>NaN</td>\n      <td>NaN</td>\n      <td>NaN</td>\n      <td>NaN</td>\n      <td>NaN</td>\n    </tr>\n    <tr>\n      <th>8</th>\n      <td>2022-05-20 06:03:27</td>\n      <td>2022-05-20 06:10:20</td>\n      <td>0</td>\n      <td>50</td>\n      <td>413</td>\n      <td>0</td>\n      <td>2022-05-27 06:10:25</td>\n      <td>R_3kMrDfvEZspW2kd</td>\n      <td>anonymous</td>\n      <td>SK</td>\n      <td>...</td>\n      <td>NaN</td>\n      <td>NaN</td>\n      <td>NaN</td>\n      <td>NaN</td>\n      <td>NaN</td>\n      <td>NaN</td>\n      <td>NaN</td>\n      <td>NaN</td>\n      <td>NaN</td>\n      <td>NaN</td>\n    </tr>\n    <tr>\n      <th>9</th>\n      <td>2022-05-20 18:11:01</td>\n      <td>2022-05-20 18:16:03</td>\n      <td>0</td>\n      <td>50</td>\n      <td>302</td>\n      <td>0</td>\n      <td>2022-05-27 18:16:07</td>\n      <td>R_3Mg26j5vNy3yWt8</td>\n      <td>anonymous</td>\n      <td>SK</td>\n      <td>...</td>\n      <td>NaN</td>\n      <td>NaN</td>\n      <td>NaN</td>\n      <td>NaN</td>\n      <td>NaN</td>\n      <td>NaN</td>\n      <td>NaN</td>\n      <td>NaN</td>\n      <td>NaN</td>\n      <td>NaN</td>\n    </tr>\n    <tr>\n      <th>10</th>\n      <td>2022-05-20 18:34:48</td>\n      <td>2022-05-20 18:39:56</td>\n      <td>0</td>\n      <td>88</td>\n      <td>308</td>\n      <td>0</td>\n      <td>2022-05-27 19:50:40</td>\n      <td>R_UDE1Xrj0UjDvJUB</td>\n      <td>anonymous</td>\n      <td>SK</td>\n      <td>...</td>\n      <td>NaN</td>\n      <td>NaN</td>\n      <td>NaN</td>\n      <td>NaN</td>\n      <td>NaN</td>\n      <td>NaN</td>\n      <td>NaN</td>\n      <td>NaN</td>\n      <td>NaN</td>\n      <td>NaN</td>\n    </tr>\n    <tr>\n      <th>11</th>\n      <td>2022-05-30 22:27:32</td>\n      <td>2022-05-30 22:30:37</td>\n      <td>0</td>\n      <td>93</td>\n      <td>184</td>\n      <td>0</td>\n      <td>2022-06-03 14:56:46</td>\n      <td>R_2aY7R6KLtMHfqlA</td>\n      <td>anonymous</td>\n      <td>SK</td>\n      <td>...</td>\n      <td>1.028</td>\n      <td>1.028</td>\n      <td>1.485</td>\n      <td>1</td>\n      <td>NaN</td>\n      <td>NaN</td>\n      <td>NaN</td>\n      <td>NaN</td>\n      <td>NaN</td>\n      <td>NaN</td>\n    </tr>\n    <tr>\n      <th>12</th>\n      <td>2022-05-30 12:40:32</td>\n      <td>2022-05-30 13:47:16</td>\n      <td>0</td>\n      <td>55</td>\n      <td>4003</td>\n      <td>0</td>\n      <td>2022-06-03 14:56:53</td>\n      <td>R_r8bb9T6nYZTIRfr</td>\n      <td>anonymous</td>\n      <td>SK</td>\n      <td>...</td>\n      <td>NaN</td>\n      <td>NaN</td>\n      <td>NaN</td>\n      <td>NaN</td>\n      <td>NaN</td>\n      <td>NaN</td>\n      <td>NaN</td>\n      <td>NaN</td>\n      <td>NaN</td>\n      <td>NaN</td>\n    </tr>\n    <tr>\n      <th>13</th>\n      <td>2022-05-30 11:19:33</td>\n      <td>2022-05-30 11:23:55</td>\n      <td>0</td>\n      <td>50</td>\n      <td>261</td>\n      <td>0</td>\n      <td>2022-06-03 14:56:54</td>\n      <td>R_3HqcKQZSgll15IK</td>\n      <td>anonymous</td>\n      <td>SK</td>\n      <td>...</td>\n      <td>NaN</td>\n      <td>NaN</td>\n      <td>NaN</td>\n      <td>NaN</td>\n      <td>NaN</td>\n      <td>NaN</td>\n      <td>NaN</td>\n      <td>NaN</td>\n      <td>NaN</td>\n      <td>NaN</td>\n    </tr>\n    <tr>\n      <th>14</th>\n      <td>2022-05-30 09:14:54</td>\n      <td>2022-05-30 09:21:08</td>\n      <td>0</td>\n      <td>55</td>\n      <td>374</td>\n      <td>0</td>\n      <td>2022-06-03 14:57:06</td>\n      <td>R_2OZ9GbFDzgwVRGa</td>\n      <td>anonymous</td>\n      <td>SK</td>\n      <td>...</td>\n      <td>NaN</td>\n      <td>NaN</td>\n      <td>NaN</td>\n      <td>NaN</td>\n      <td>NaN</td>\n      <td>NaN</td>\n      <td>NaN</td>\n      <td>NaN</td>\n      <td>NaN</td>\n      <td>NaN</td>\n    </tr>\n    <tr>\n      <th>15</th>\n      <td>2022-05-30 09:05:27</td>\n      <td>2022-05-30 09:08:20</td>\n      <td>0</td>\n      <td>74</td>\n      <td>172</td>\n      <td>0</td>\n      <td>2022-06-03 14:57:08</td>\n      <td>R_9yhYqtUm0FEkOJj</td>\n      <td>anonymous</td>\n      <td>SK</td>\n      <td>...</td>\n      <td>NaN</td>\n      <td>NaN</td>\n      <td>NaN</td>\n      <td>NaN</td>\n      <td>NaN</td>\n      <td>NaN</td>\n      <td>NaN</td>\n      <td>NaN</td>\n      <td>NaN</td>\n      <td>NaN</td>\n    </tr>\n    <tr>\n      <th>16</th>\n      <td>2022-05-30 08:05:48</td>\n      <td>2022-05-30 08:09:17</td>\n      <td>0</td>\n      <td>69</td>\n      <td>208</td>\n      <td>0</td>\n      <td>2022-06-03 14:57:11</td>\n      <td>R_3PiZs2PUpimz4mE</td>\n      <td>anonymous</td>\n      <td>SK</td>\n      <td>...</td>\n      <td>NaN</td>\n      <td>NaN</td>\n      <td>NaN</td>\n      <td>NaN</td>\n      <td>NaN</td>\n      <td>NaN</td>\n      <td>NaN</td>\n      <td>NaN</td>\n      <td>NaN</td>\n      <td>NaN</td>\n    </tr>\n  </tbody>\n</table>\n<p>17 rows × 92 columns</p>\n</div>"
     },
     "execution_count": 4,
     "metadata": {},
     "output_type": "execute_result"
    }
   ],
   "source": [
    "data_num"
   ],
   "metadata": {
    "collapsed": false,
    "pycharm": {
     "name": "#%%\n"
    }
   }
  },
  {
   "cell_type": "code",
   "execution_count": 5,
   "outputs": [],
   "source": [
    "#Data Cleaning\n",
    "data_num = data_num.drop(index=[0,1],axis=1) #run only once\n",
    "columns_drop=['StartDate','EndDate','Status','Finished','RecordedDate','DistributionChannel','UserLanguage','Data Agreement','Comments']\n",
    "data_num = data_num.drop(columns=columns_drop)\n",
    "\n",
    "data_text = data_text.drop(index=[0,1],axis=1) #run only once\n",
    "data_text = data_text.drop(columns=columns_drop)"
   ],
   "metadata": {
    "collapsed": false,
    "pycharm": {
     "name": "#%%\n"
    }
   }
  },
  {
   "cell_type": "code",
   "execution_count": 6,
   "outputs": [],
   "source": [
    "#Columns_rename\n",
    "columns_rename = {'Task1_1':'Task_temp','Task1_2':'Task_source','Task1_3':'Task_consumption','Task1_4':'Task_appliances','Gender':'Gender_f'}\n",
    "data_num.rename(columns=columns_rename, inplace=True)\n",
    "data_text.rename(columns=columns_rename, inplace=True)"
   ],
   "metadata": {
    "collapsed": false,
    "pycharm": {
     "name": "#%%\n"
    }
   }
  },
  {
   "cell_type": "code",
   "execution_count": 7,
   "outputs": [],
   "source": [
    "#Providers & Appliances\n",
    "providers_count =  data_num['Providers'].str.count('\\w+')\n",
    "data_num.insert(data_num.columns.get_loc('Providers')+1,'Providers_count', providers_count)\n",
    "appliances_count = data_num['Appliances'].str.count('\\w+')\n",
    "data_num.insert(data_num.columns.get_loc('Appliances')+1,'Appliance_count',appliances_count)      #count # of providers and appliances"
   ],
   "metadata": {
    "collapsed": false,
    "pycharm": {
     "name": "#%%\n"
    }
   }
  },
  {
   "cell_type": "code",
   "execution_count": 8,
   "outputs": [],
   "source": [
    "#see if green providers\n",
    "know_green_provider = np.where((data_text['Providers'].str.contains('RIGHT POWER') | data_text['Providers'].str.contains('Greenlogy')), 1, 0)\n",
    "data_num.insert(data_num.columns.get_loc('Providers')+1,'Know_green_provider',know_green_provider)"
   ],
   "metadata": {
    "collapsed": false,
    "pycharm": {
     "name": "#%%\n"
    }
   }
  },
  {
   "cell_type": "code",
   "execution_count": 9,
   "outputs": [],
   "source": [
    "#One-hot energy consumption\n",
    "data_num['Energy Consumption'] = np.where(data_num['Energy Consumption']=='2',0,1)"
   ],
   "metadata": {
    "collapsed": false,
    "pycharm": {
     "name": "#%%\n"
    }
   }
  },
  {
   "cell_type": "code",
   "execution_count": 10,
   "outputs": [],
   "source": [
    "#One-hot gender\n",
    "data_num['Gender_f'] = np.where(data_num['Gender_f']=='2',1,0)\n",
    "\n",
    "#One-hot income\n",
    "no_income = np.where(data_num['Income']=='7',1,0)\n",
    "data_num.insert(data_num.columns.get_loc('Income')+1,'No Income',no_income)\n",
    "data_num['Income'].replace({\"7\": \"0\"}, inplace=True)"
   ],
   "metadata": {
    "collapsed": false,
    "pycharm": {
     "name": "#%%\n"
    }
   }
  },
  {
   "cell_type": "code",
   "execution_count": 11,
   "outputs": [],
   "source": [
    "#One-hot Region\n",
    "region_west = np.where(data_num['Region']=='1',1,0)\n",
    "region_east = np.where(data_num['Region']=='3',1,0)\n",
    "data_num.insert(data_num.columns.get_loc('Region')+1,'Region East',region_east)\n",
    "data_num.insert(data_num.columns.get_loc('Region')+1,'Region West',region_west)"
   ],
   "metadata": {
    "collapsed": false,
    "pycharm": {
     "name": "#%%\n"
    }
   }
  },
  {
   "cell_type": "code",
   "execution_count": 12,
   "outputs": [],
   "source": [
    "#Replace tasks\n",
    "data_num['Task_temp'].replace({\"1\": 1, \"2\": 2, \"4\": 3,\"5\":4,\"6\":5}, inplace=True)\n",
    "data_num['Task_source'].replace({\"1\": 1, \"2\": 2, \"4\": 3,\"5\":4,\"6\":5}, inplace=True)\n",
    "data_num['Task_consumption'].replace({\"1\": 1, \"2\": 2, \"4\": 3,\"5\":4,\"6\":5}, inplace=True)\n",
    "data_num['Task_appliances'].replace({\"1\": 1, \"2\": 2, \"4\": 3,\"5\":4,\"6\":5}, inplace=True)"
   ],
   "metadata": {
    "collapsed": false,
    "pycharm": {
     "name": "#%%\n"
    }
   }
  },
  {
   "cell_type": "code",
   "execution_count": 13,
   "outputs": [
    {
     "data": {
      "text/plain": "   Progress Duration (in seconds)         ResponseId Age  Gender_f Income  \\\n2        79                   467  R_2QhVhS7x3hq6XKf  36         0      5   \n3        83                   170  R_1nUxCAfYXJc9EUW  44         1      5   \n4        93                   434  R_3EnDsvWAIogkXzz  50         0      4   \n5        50                   299  R_2EnQRnC5z6MEkB0  40         0      3   \n6        79                   485  R_2trGXz4cYEDIRpV  48         0      3   \n7        60                   473  R_3Don6Yln25DC0o5  66         1      1   \n8        50                   413  R_3kMrDfvEZspW2kd  31         0      2   \n9        50                   302  R_3Mg26j5vNy3yWt8  48         0      5   \n10       88                   308  R_UDE1Xrj0UjDvJUB  57         0      3   \n11       93                   184  R_2aY7R6KLtMHfqlA  20         1      6   \n12       55                  4003  R_r8bb9T6nYZTIRfr  45         0      6   \n13       50                   261  R_3HqcKQZSgll15IK  25         1      6   \n14       55                   374  R_2OZ9GbFDzgwVRGa  65         1      1   \n15       74                   172  R_9yhYqtUm0FEkOJj  25         0      6   \n16       69                   208  R_3PiZs2PUpimz4mE  27         1      6   \n\n    No Income  Energy Consumption Tariff payment_1  ... Set11  \\\n2           0                   0    NaN        29  ...   NaN   \n3           0                   0    NaN        29  ...   NaN   \n4           0                   1      1       131  ...    31   \n5           0                   1      1        21  ...   NaN   \n6           0                   1      2        42  ...   NaN   \n7           0                   0    NaN        58  ...   NaN   \n8           0                   1      2        20  ...   NaN   \n9           0                   1      4        87  ...   NaN   \n10          0                   1      2        35  ...   NaN   \n11          0                   0    NaN       200  ...    34   \n12          0                   1      2        60  ...   NaN   \n13          0                   1      5       105  ...   NaN   \n14          0                   1      1        75  ...   NaN   \n15          0                   0    NaN        99  ...   NaN   \n16          0                   0    NaN        29  ...   NaN   \n\n    Time_Set11_First Click  Time_Set11_Last Click Time_Set11_Page Submit  \\\n2                      NaN                    NaN                    NaN   \n3                      NaN                    NaN                    NaN   \n4                    5.177                 11.979                 12.652   \n5                      NaN                    NaN                    NaN   \n6                      NaN                    NaN                    NaN   \n7                      NaN                    NaN                    NaN   \n8                      NaN                    NaN                    NaN   \n9                      NaN                    NaN                    NaN   \n10                     NaN                    NaN                    NaN   \n11                   1.028                  1.028                  1.485   \n12                     NaN                    NaN                    NaN   \n13                     NaN                    NaN                    NaN   \n14                     NaN                    NaN                    NaN   \n15                     NaN                    NaN                    NaN   \n16                     NaN                    NaN                    NaN   \n\n   Time_Set11_Click Count Set12 Time_Set12_First Click  Time_Set12_Last Click  \\\n2                     NaN   NaN                    NaN                    NaN   \n3                     NaN   NaN                    NaN                    NaN   \n4                       8   NaN                    NaN                    NaN   \n5                     NaN   NaN                    NaN                    NaN   \n6                     NaN   NaN                    NaN                    NaN   \n7                     NaN   NaN                    NaN                    NaN   \n8                     NaN   NaN                    NaN                    NaN   \n9                     NaN   NaN                    NaN                    NaN   \n10                    NaN   NaN                    NaN                    NaN   \n11                      1   NaN                    NaN                    NaN   \n12                    NaN   NaN                    NaN                    NaN   \n13                    NaN   NaN                    NaN                    NaN   \n14                    NaN   NaN                    NaN                    NaN   \n15                    NaN   NaN                    NaN                    NaN   \n16                    NaN   NaN                    NaN                    NaN   \n\n    Time_Set12_Page Submit Time_Set12_Click Count  \n2                      NaN                    NaN  \n3                      NaN                    NaN  \n4                      NaN                    NaN  \n5                      NaN                    NaN  \n6                      NaN                    NaN  \n7                      NaN                    NaN  \n8                      NaN                    NaN  \n9                      NaN                    NaN  \n10                     NaN                    NaN  \n11                     NaN                    NaN  \n12                     NaN                    NaN  \n13                     NaN                    NaN  \n14                     NaN                    NaN  \n15                     NaN                    NaN  \n16                     NaN                    NaN  \n\n[15 rows x 89 columns]",
      "text/html": "<div>\n<style scoped>\n    .dataframe tbody tr th:only-of-type {\n        vertical-align: middle;\n    }\n\n    .dataframe tbody tr th {\n        vertical-align: top;\n    }\n\n    .dataframe thead th {\n        text-align: right;\n    }\n</style>\n<table border=\"1\" class=\"dataframe\">\n  <thead>\n    <tr style=\"text-align: right;\">\n      <th></th>\n      <th>Progress</th>\n      <th>Duration (in seconds)</th>\n      <th>ResponseId</th>\n      <th>Age</th>\n      <th>Gender_f</th>\n      <th>Income</th>\n      <th>No Income</th>\n      <th>Energy Consumption</th>\n      <th>Tariff</th>\n      <th>payment_1</th>\n      <th>...</th>\n      <th>Set11</th>\n      <th>Time_Set11_First Click</th>\n      <th>Time_Set11_Last Click</th>\n      <th>Time_Set11_Page Submit</th>\n      <th>Time_Set11_Click Count</th>\n      <th>Set12</th>\n      <th>Time_Set12_First Click</th>\n      <th>Time_Set12_Last Click</th>\n      <th>Time_Set12_Page Submit</th>\n      <th>Time_Set12_Click Count</th>\n    </tr>\n  </thead>\n  <tbody>\n    <tr>\n      <th>2</th>\n      <td>79</td>\n      <td>467</td>\n      <td>R_2QhVhS7x3hq6XKf</td>\n      <td>36</td>\n      <td>0</td>\n      <td>5</td>\n      <td>0</td>\n      <td>0</td>\n      <td>NaN</td>\n      <td>29</td>\n      <td>...</td>\n      <td>NaN</td>\n      <td>NaN</td>\n      <td>NaN</td>\n      <td>NaN</td>\n      <td>NaN</td>\n      <td>NaN</td>\n      <td>NaN</td>\n      <td>NaN</td>\n      <td>NaN</td>\n      <td>NaN</td>\n    </tr>\n    <tr>\n      <th>3</th>\n      <td>83</td>\n      <td>170</td>\n      <td>R_1nUxCAfYXJc9EUW</td>\n      <td>44</td>\n      <td>1</td>\n      <td>5</td>\n      <td>0</td>\n      <td>0</td>\n      <td>NaN</td>\n      <td>29</td>\n      <td>...</td>\n      <td>NaN</td>\n      <td>NaN</td>\n      <td>NaN</td>\n      <td>NaN</td>\n      <td>NaN</td>\n      <td>NaN</td>\n      <td>NaN</td>\n      <td>NaN</td>\n      <td>NaN</td>\n      <td>NaN</td>\n    </tr>\n    <tr>\n      <th>4</th>\n      <td>93</td>\n      <td>434</td>\n      <td>R_3EnDsvWAIogkXzz</td>\n      <td>50</td>\n      <td>0</td>\n      <td>4</td>\n      <td>0</td>\n      <td>1</td>\n      <td>1</td>\n      <td>131</td>\n      <td>...</td>\n      <td>31</td>\n      <td>5.177</td>\n      <td>11.979</td>\n      <td>12.652</td>\n      <td>8</td>\n      <td>NaN</td>\n      <td>NaN</td>\n      <td>NaN</td>\n      <td>NaN</td>\n      <td>NaN</td>\n    </tr>\n    <tr>\n      <th>5</th>\n      <td>50</td>\n      <td>299</td>\n      <td>R_2EnQRnC5z6MEkB0</td>\n      <td>40</td>\n      <td>0</td>\n      <td>3</td>\n      <td>0</td>\n      <td>1</td>\n      <td>1</td>\n      <td>21</td>\n      <td>...</td>\n      <td>NaN</td>\n      <td>NaN</td>\n      <td>NaN</td>\n      <td>NaN</td>\n      <td>NaN</td>\n      <td>NaN</td>\n      <td>NaN</td>\n      <td>NaN</td>\n      <td>NaN</td>\n      <td>NaN</td>\n    </tr>\n    <tr>\n      <th>6</th>\n      <td>79</td>\n      <td>485</td>\n      <td>R_2trGXz4cYEDIRpV</td>\n      <td>48</td>\n      <td>0</td>\n      <td>3</td>\n      <td>0</td>\n      <td>1</td>\n      <td>2</td>\n      <td>42</td>\n      <td>...</td>\n      <td>NaN</td>\n      <td>NaN</td>\n      <td>NaN</td>\n      <td>NaN</td>\n      <td>NaN</td>\n      <td>NaN</td>\n      <td>NaN</td>\n      <td>NaN</td>\n      <td>NaN</td>\n      <td>NaN</td>\n    </tr>\n    <tr>\n      <th>7</th>\n      <td>60</td>\n      <td>473</td>\n      <td>R_3Don6Yln25DC0o5</td>\n      <td>66</td>\n      <td>1</td>\n      <td>1</td>\n      <td>0</td>\n      <td>0</td>\n      <td>NaN</td>\n      <td>58</td>\n      <td>...</td>\n      <td>NaN</td>\n      <td>NaN</td>\n      <td>NaN</td>\n      <td>NaN</td>\n      <td>NaN</td>\n      <td>NaN</td>\n      <td>NaN</td>\n      <td>NaN</td>\n      <td>NaN</td>\n      <td>NaN</td>\n    </tr>\n    <tr>\n      <th>8</th>\n      <td>50</td>\n      <td>413</td>\n      <td>R_3kMrDfvEZspW2kd</td>\n      <td>31</td>\n      <td>0</td>\n      <td>2</td>\n      <td>0</td>\n      <td>1</td>\n      <td>2</td>\n      <td>20</td>\n      <td>...</td>\n      <td>NaN</td>\n      <td>NaN</td>\n      <td>NaN</td>\n      <td>NaN</td>\n      <td>NaN</td>\n      <td>NaN</td>\n      <td>NaN</td>\n      <td>NaN</td>\n      <td>NaN</td>\n      <td>NaN</td>\n    </tr>\n    <tr>\n      <th>9</th>\n      <td>50</td>\n      <td>302</td>\n      <td>R_3Mg26j5vNy3yWt8</td>\n      <td>48</td>\n      <td>0</td>\n      <td>5</td>\n      <td>0</td>\n      <td>1</td>\n      <td>4</td>\n      <td>87</td>\n      <td>...</td>\n      <td>NaN</td>\n      <td>NaN</td>\n      <td>NaN</td>\n      <td>NaN</td>\n      <td>NaN</td>\n      <td>NaN</td>\n      <td>NaN</td>\n      <td>NaN</td>\n      <td>NaN</td>\n      <td>NaN</td>\n    </tr>\n    <tr>\n      <th>10</th>\n      <td>88</td>\n      <td>308</td>\n      <td>R_UDE1Xrj0UjDvJUB</td>\n      <td>57</td>\n      <td>0</td>\n      <td>3</td>\n      <td>0</td>\n      <td>1</td>\n      <td>2</td>\n      <td>35</td>\n      <td>...</td>\n      <td>NaN</td>\n      <td>NaN</td>\n      <td>NaN</td>\n      <td>NaN</td>\n      <td>NaN</td>\n      <td>NaN</td>\n      <td>NaN</td>\n      <td>NaN</td>\n      <td>NaN</td>\n      <td>NaN</td>\n    </tr>\n    <tr>\n      <th>11</th>\n      <td>93</td>\n      <td>184</td>\n      <td>R_2aY7R6KLtMHfqlA</td>\n      <td>20</td>\n      <td>1</td>\n      <td>6</td>\n      <td>0</td>\n      <td>0</td>\n      <td>NaN</td>\n      <td>200</td>\n      <td>...</td>\n      <td>34</td>\n      <td>1.028</td>\n      <td>1.028</td>\n      <td>1.485</td>\n      <td>1</td>\n      <td>NaN</td>\n      <td>NaN</td>\n      <td>NaN</td>\n      <td>NaN</td>\n      <td>NaN</td>\n    </tr>\n    <tr>\n      <th>12</th>\n      <td>55</td>\n      <td>4003</td>\n      <td>R_r8bb9T6nYZTIRfr</td>\n      <td>45</td>\n      <td>0</td>\n      <td>6</td>\n      <td>0</td>\n      <td>1</td>\n      <td>2</td>\n      <td>60</td>\n      <td>...</td>\n      <td>NaN</td>\n      <td>NaN</td>\n      <td>NaN</td>\n      <td>NaN</td>\n      <td>NaN</td>\n      <td>NaN</td>\n      <td>NaN</td>\n      <td>NaN</td>\n      <td>NaN</td>\n      <td>NaN</td>\n    </tr>\n    <tr>\n      <th>13</th>\n      <td>50</td>\n      <td>261</td>\n      <td>R_3HqcKQZSgll15IK</td>\n      <td>25</td>\n      <td>1</td>\n      <td>6</td>\n      <td>0</td>\n      <td>1</td>\n      <td>5</td>\n      <td>105</td>\n      <td>...</td>\n      <td>NaN</td>\n      <td>NaN</td>\n      <td>NaN</td>\n      <td>NaN</td>\n      <td>NaN</td>\n      <td>NaN</td>\n      <td>NaN</td>\n      <td>NaN</td>\n      <td>NaN</td>\n      <td>NaN</td>\n    </tr>\n    <tr>\n      <th>14</th>\n      <td>55</td>\n      <td>374</td>\n      <td>R_2OZ9GbFDzgwVRGa</td>\n      <td>65</td>\n      <td>1</td>\n      <td>1</td>\n      <td>0</td>\n      <td>1</td>\n      <td>1</td>\n      <td>75</td>\n      <td>...</td>\n      <td>NaN</td>\n      <td>NaN</td>\n      <td>NaN</td>\n      <td>NaN</td>\n      <td>NaN</td>\n      <td>NaN</td>\n      <td>NaN</td>\n      <td>NaN</td>\n      <td>NaN</td>\n      <td>NaN</td>\n    </tr>\n    <tr>\n      <th>15</th>\n      <td>74</td>\n      <td>172</td>\n      <td>R_9yhYqtUm0FEkOJj</td>\n      <td>25</td>\n      <td>0</td>\n      <td>6</td>\n      <td>0</td>\n      <td>0</td>\n      <td>NaN</td>\n      <td>99</td>\n      <td>...</td>\n      <td>NaN</td>\n      <td>NaN</td>\n      <td>NaN</td>\n      <td>NaN</td>\n      <td>NaN</td>\n      <td>NaN</td>\n      <td>NaN</td>\n      <td>NaN</td>\n      <td>NaN</td>\n      <td>NaN</td>\n    </tr>\n    <tr>\n      <th>16</th>\n      <td>69</td>\n      <td>208</td>\n      <td>R_3PiZs2PUpimz4mE</td>\n      <td>27</td>\n      <td>1</td>\n      <td>6</td>\n      <td>0</td>\n      <td>0</td>\n      <td>NaN</td>\n      <td>29</td>\n      <td>...</td>\n      <td>NaN</td>\n      <td>NaN</td>\n      <td>NaN</td>\n      <td>NaN</td>\n      <td>NaN</td>\n      <td>NaN</td>\n      <td>NaN</td>\n      <td>NaN</td>\n      <td>NaN</td>\n      <td>NaN</td>\n    </tr>\n  </tbody>\n</table>\n<p>15 rows × 89 columns</p>\n</div>"
     },
     "execution_count": 13,
     "metadata": {},
     "output_type": "execute_result"
    }
   ],
   "source": [
    "data_num"
   ],
   "metadata": {
    "collapsed": false,
    "pycharm": {
     "name": "#%%\n"
    }
   }
  },
  {
   "cell_type": "code",
   "execution_count": 14,
   "outputs": [
    {
     "data": {
      "text/plain": "   Progress Duration (in seconds)         ResponseId Age Gender_f  \\\n2        79                   467  R_2QhVhS7x3hq6XKf  36      Muž   \n3        83                   170  R_1nUxCAfYXJc9EUW  44     Žena   \n4        93                   434  R_3EnDsvWAIogkXzz  50      Muž   \n5        50                   299  R_2EnQRnC5z6MEkB0  40      Muž   \n6        79                   485  R_2trGXz4cYEDIRpV  48      Muž   \n7        60                   473  R_3Don6Yln25DC0o5  66     Žena   \n8        50                   413  R_3kMrDfvEZspW2kd  31      Muž   \n9        50                   302  R_3Mg26j5vNy3yWt8  48      Muž   \n10       88                   308  R_UDE1Xrj0UjDvJUB  57      Muž   \n11       93                   184  R_2aY7R6KLtMHfqlA  20     Žena   \n12       55                  4003  R_r8bb9T6nYZTIRfr  45      Muž   \n13       50                   261  R_3HqcKQZSgll15IK  25     Žena   \n14       55                   374  R_2OZ9GbFDzgwVRGa  65     Žena   \n15       74                   172  R_9yhYqtUm0FEkOJj  25      Muž   \n16       69                   208  R_3PiZs2PUpimz4mE  27     Žena   \n\n           Income Energy Consumption Tariff payment_1              Region  \\\n2   €2001 - €2500                Nie    NaN        29   Stredné Slovensko   \n3   €2001 - €2500                Nie    NaN        29  Východné Slovensko   \n4   €1501 - €2000                Áno     D1       131  Východné Slovensko   \n5   €1001 - €1500                Áno     D1        21   Západné Slovensko   \n6   €1001 - €1500                Áno     D2        42   Západné Slovensko   \n7           ≤€500                Nie    NaN        58  Východné Slovensko   \n8    €501 - €1000                Áno     D2        20  Východné Slovensko   \n9   €2001 - €2500                Áno     D4        87   Západné Slovensko   \n10  €1001 - €1500                Áno     D2        35   Stredné Slovensko   \n11         €2501+                Nie    NaN       200  Východné Slovensko   \n12         €2501+                Áno     D2        60   Západné Slovensko   \n13         €2501+                Áno     D5       105  Východné Slovensko   \n14          ≤€500                Áno     D1        75   Stredné Slovensko   \n15         €2501+                Nie    NaN        99  Východné Slovensko   \n16         €2501+                Nie    NaN        29   Západné Slovensko   \n\n    ...                                              Set11  \\\n2   ...                                                NaN   \n3   ...                                                NaN   \n4   ...  KONTRAKT A\\n\\nMesačný poplatok: €$e{q://QID10/...   \n5   ...                                                NaN   \n6   ...                                                NaN   \n7   ...                                                NaN   \n8   ...                                                NaN   \n9   ...                                                NaN   \n10  ...                                                NaN   \n11  ...  KONTRAKT B\\n\\nMesačný poplatok: €$e{q://QID10/...   \n12  ...                                                NaN   \n13  ...                                                NaN   \n14  ...                                                NaN   \n15  ...                                                NaN   \n16  ...                                                NaN   \n\n   Time_Set11_First Click Time_Set11_Last Click Time_Set11_Page Submit  \\\n2                     NaN                   NaN                    NaN   \n3                     NaN                   NaN                    NaN   \n4                   5.177                11.979                 12.652   \n5                     NaN                   NaN                    NaN   \n6                     NaN                   NaN                    NaN   \n7                     NaN                   NaN                    NaN   \n8                     NaN                   NaN                    NaN   \n9                     NaN                   NaN                    NaN   \n10                    NaN                   NaN                    NaN   \n11                  1.028                 1.028                  1.485   \n12                    NaN                   NaN                    NaN   \n13                    NaN                   NaN                    NaN   \n14                    NaN                   NaN                    NaN   \n15                    NaN                   NaN                    NaN   \n16                    NaN                   NaN                    NaN   \n\n   Time_Set11_Click Count Set12 Time_Set12_First Click Time_Set12_Last Click  \\\n2                     NaN   NaN                    NaN                   NaN   \n3                     NaN   NaN                    NaN                   NaN   \n4                       8   NaN                    NaN                   NaN   \n5                     NaN   NaN                    NaN                   NaN   \n6                     NaN   NaN                    NaN                   NaN   \n7                     NaN   NaN                    NaN                   NaN   \n8                     NaN   NaN                    NaN                   NaN   \n9                     NaN   NaN                    NaN                   NaN   \n10                    NaN   NaN                    NaN                   NaN   \n11                      1   NaN                    NaN                   NaN   \n12                    NaN   NaN                    NaN                   NaN   \n13                    NaN   NaN                    NaN                   NaN   \n14                    NaN   NaN                    NaN                   NaN   \n15                    NaN   NaN                    NaN                   NaN   \n16                    NaN   NaN                    NaN                   NaN   \n\n   Time_Set12_Page Submit Time_Set12_Click Count  \n2                     NaN                    NaN  \n3                     NaN                    NaN  \n4                     NaN                    NaN  \n5                     NaN                    NaN  \n6                     NaN                    NaN  \n7                     NaN                    NaN  \n8                     NaN                    NaN  \n9                     NaN                    NaN  \n10                    NaN                    NaN  \n11                    NaN                    NaN  \n12                    NaN                    NaN  \n13                    NaN                    NaN  \n14                    NaN                    NaN  \n15                    NaN                    NaN  \n16                    NaN                    NaN  \n\n[15 rows x 83 columns]",
      "text/html": "<div>\n<style scoped>\n    .dataframe tbody tr th:only-of-type {\n        vertical-align: middle;\n    }\n\n    .dataframe tbody tr th {\n        vertical-align: top;\n    }\n\n    .dataframe thead th {\n        text-align: right;\n    }\n</style>\n<table border=\"1\" class=\"dataframe\">\n  <thead>\n    <tr style=\"text-align: right;\">\n      <th></th>\n      <th>Progress</th>\n      <th>Duration (in seconds)</th>\n      <th>ResponseId</th>\n      <th>Age</th>\n      <th>Gender_f</th>\n      <th>Income</th>\n      <th>Energy Consumption</th>\n      <th>Tariff</th>\n      <th>payment_1</th>\n      <th>Region</th>\n      <th>...</th>\n      <th>Set11</th>\n      <th>Time_Set11_First Click</th>\n      <th>Time_Set11_Last Click</th>\n      <th>Time_Set11_Page Submit</th>\n      <th>Time_Set11_Click Count</th>\n      <th>Set12</th>\n      <th>Time_Set12_First Click</th>\n      <th>Time_Set12_Last Click</th>\n      <th>Time_Set12_Page Submit</th>\n      <th>Time_Set12_Click Count</th>\n    </tr>\n  </thead>\n  <tbody>\n    <tr>\n      <th>2</th>\n      <td>79</td>\n      <td>467</td>\n      <td>R_2QhVhS7x3hq6XKf</td>\n      <td>36</td>\n      <td>Muž</td>\n      <td>€2001 - €2500</td>\n      <td>Nie</td>\n      <td>NaN</td>\n      <td>29</td>\n      <td>Stredné Slovensko</td>\n      <td>...</td>\n      <td>NaN</td>\n      <td>NaN</td>\n      <td>NaN</td>\n      <td>NaN</td>\n      <td>NaN</td>\n      <td>NaN</td>\n      <td>NaN</td>\n      <td>NaN</td>\n      <td>NaN</td>\n      <td>NaN</td>\n    </tr>\n    <tr>\n      <th>3</th>\n      <td>83</td>\n      <td>170</td>\n      <td>R_1nUxCAfYXJc9EUW</td>\n      <td>44</td>\n      <td>Žena</td>\n      <td>€2001 - €2500</td>\n      <td>Nie</td>\n      <td>NaN</td>\n      <td>29</td>\n      <td>Východné Slovensko</td>\n      <td>...</td>\n      <td>NaN</td>\n      <td>NaN</td>\n      <td>NaN</td>\n      <td>NaN</td>\n      <td>NaN</td>\n      <td>NaN</td>\n      <td>NaN</td>\n      <td>NaN</td>\n      <td>NaN</td>\n      <td>NaN</td>\n    </tr>\n    <tr>\n      <th>4</th>\n      <td>93</td>\n      <td>434</td>\n      <td>R_3EnDsvWAIogkXzz</td>\n      <td>50</td>\n      <td>Muž</td>\n      <td>€1501 - €2000</td>\n      <td>Áno</td>\n      <td>D1</td>\n      <td>131</td>\n      <td>Východné Slovensko</td>\n      <td>...</td>\n      <td>KONTRAKT A\\n\\nMesačný poplatok: €$e{q://QID10/...</td>\n      <td>5.177</td>\n      <td>11.979</td>\n      <td>12.652</td>\n      <td>8</td>\n      <td>NaN</td>\n      <td>NaN</td>\n      <td>NaN</td>\n      <td>NaN</td>\n      <td>NaN</td>\n    </tr>\n    <tr>\n      <th>5</th>\n      <td>50</td>\n      <td>299</td>\n      <td>R_2EnQRnC5z6MEkB0</td>\n      <td>40</td>\n      <td>Muž</td>\n      <td>€1001 - €1500</td>\n      <td>Áno</td>\n      <td>D1</td>\n      <td>21</td>\n      <td>Západné Slovensko</td>\n      <td>...</td>\n      <td>NaN</td>\n      <td>NaN</td>\n      <td>NaN</td>\n      <td>NaN</td>\n      <td>NaN</td>\n      <td>NaN</td>\n      <td>NaN</td>\n      <td>NaN</td>\n      <td>NaN</td>\n      <td>NaN</td>\n    </tr>\n    <tr>\n      <th>6</th>\n      <td>79</td>\n      <td>485</td>\n      <td>R_2trGXz4cYEDIRpV</td>\n      <td>48</td>\n      <td>Muž</td>\n      <td>€1001 - €1500</td>\n      <td>Áno</td>\n      <td>D2</td>\n      <td>42</td>\n      <td>Západné Slovensko</td>\n      <td>...</td>\n      <td>NaN</td>\n      <td>NaN</td>\n      <td>NaN</td>\n      <td>NaN</td>\n      <td>NaN</td>\n      <td>NaN</td>\n      <td>NaN</td>\n      <td>NaN</td>\n      <td>NaN</td>\n      <td>NaN</td>\n    </tr>\n    <tr>\n      <th>7</th>\n      <td>60</td>\n      <td>473</td>\n      <td>R_3Don6Yln25DC0o5</td>\n      <td>66</td>\n      <td>Žena</td>\n      <td>≤€500</td>\n      <td>Nie</td>\n      <td>NaN</td>\n      <td>58</td>\n      <td>Východné Slovensko</td>\n      <td>...</td>\n      <td>NaN</td>\n      <td>NaN</td>\n      <td>NaN</td>\n      <td>NaN</td>\n      <td>NaN</td>\n      <td>NaN</td>\n      <td>NaN</td>\n      <td>NaN</td>\n      <td>NaN</td>\n      <td>NaN</td>\n    </tr>\n    <tr>\n      <th>8</th>\n      <td>50</td>\n      <td>413</td>\n      <td>R_3kMrDfvEZspW2kd</td>\n      <td>31</td>\n      <td>Muž</td>\n      <td>€501 - €1000</td>\n      <td>Áno</td>\n      <td>D2</td>\n      <td>20</td>\n      <td>Východné Slovensko</td>\n      <td>...</td>\n      <td>NaN</td>\n      <td>NaN</td>\n      <td>NaN</td>\n      <td>NaN</td>\n      <td>NaN</td>\n      <td>NaN</td>\n      <td>NaN</td>\n      <td>NaN</td>\n      <td>NaN</td>\n      <td>NaN</td>\n    </tr>\n    <tr>\n      <th>9</th>\n      <td>50</td>\n      <td>302</td>\n      <td>R_3Mg26j5vNy3yWt8</td>\n      <td>48</td>\n      <td>Muž</td>\n      <td>€2001 - €2500</td>\n      <td>Áno</td>\n      <td>D4</td>\n      <td>87</td>\n      <td>Západné Slovensko</td>\n      <td>...</td>\n      <td>NaN</td>\n      <td>NaN</td>\n      <td>NaN</td>\n      <td>NaN</td>\n      <td>NaN</td>\n      <td>NaN</td>\n      <td>NaN</td>\n      <td>NaN</td>\n      <td>NaN</td>\n      <td>NaN</td>\n    </tr>\n    <tr>\n      <th>10</th>\n      <td>88</td>\n      <td>308</td>\n      <td>R_UDE1Xrj0UjDvJUB</td>\n      <td>57</td>\n      <td>Muž</td>\n      <td>€1001 - €1500</td>\n      <td>Áno</td>\n      <td>D2</td>\n      <td>35</td>\n      <td>Stredné Slovensko</td>\n      <td>...</td>\n      <td>NaN</td>\n      <td>NaN</td>\n      <td>NaN</td>\n      <td>NaN</td>\n      <td>NaN</td>\n      <td>NaN</td>\n      <td>NaN</td>\n      <td>NaN</td>\n      <td>NaN</td>\n      <td>NaN</td>\n    </tr>\n    <tr>\n      <th>11</th>\n      <td>93</td>\n      <td>184</td>\n      <td>R_2aY7R6KLtMHfqlA</td>\n      <td>20</td>\n      <td>Žena</td>\n      <td>€2501+</td>\n      <td>Nie</td>\n      <td>NaN</td>\n      <td>200</td>\n      <td>Východné Slovensko</td>\n      <td>...</td>\n      <td>KONTRAKT B\\n\\nMesačný poplatok: €$e{q://QID10/...</td>\n      <td>1.028</td>\n      <td>1.028</td>\n      <td>1.485</td>\n      <td>1</td>\n      <td>NaN</td>\n      <td>NaN</td>\n      <td>NaN</td>\n      <td>NaN</td>\n      <td>NaN</td>\n    </tr>\n    <tr>\n      <th>12</th>\n      <td>55</td>\n      <td>4003</td>\n      <td>R_r8bb9T6nYZTIRfr</td>\n      <td>45</td>\n      <td>Muž</td>\n      <td>€2501+</td>\n      <td>Áno</td>\n      <td>D2</td>\n      <td>60</td>\n      <td>Západné Slovensko</td>\n      <td>...</td>\n      <td>NaN</td>\n      <td>NaN</td>\n      <td>NaN</td>\n      <td>NaN</td>\n      <td>NaN</td>\n      <td>NaN</td>\n      <td>NaN</td>\n      <td>NaN</td>\n      <td>NaN</td>\n      <td>NaN</td>\n    </tr>\n    <tr>\n      <th>13</th>\n      <td>50</td>\n      <td>261</td>\n      <td>R_3HqcKQZSgll15IK</td>\n      <td>25</td>\n      <td>Žena</td>\n      <td>€2501+</td>\n      <td>Áno</td>\n      <td>D5</td>\n      <td>105</td>\n      <td>Východné Slovensko</td>\n      <td>...</td>\n      <td>NaN</td>\n      <td>NaN</td>\n      <td>NaN</td>\n      <td>NaN</td>\n      <td>NaN</td>\n      <td>NaN</td>\n      <td>NaN</td>\n      <td>NaN</td>\n      <td>NaN</td>\n      <td>NaN</td>\n    </tr>\n    <tr>\n      <th>14</th>\n      <td>55</td>\n      <td>374</td>\n      <td>R_2OZ9GbFDzgwVRGa</td>\n      <td>65</td>\n      <td>Žena</td>\n      <td>≤€500</td>\n      <td>Áno</td>\n      <td>D1</td>\n      <td>75</td>\n      <td>Stredné Slovensko</td>\n      <td>...</td>\n      <td>NaN</td>\n      <td>NaN</td>\n      <td>NaN</td>\n      <td>NaN</td>\n      <td>NaN</td>\n      <td>NaN</td>\n      <td>NaN</td>\n      <td>NaN</td>\n      <td>NaN</td>\n      <td>NaN</td>\n    </tr>\n    <tr>\n      <th>15</th>\n      <td>74</td>\n      <td>172</td>\n      <td>R_9yhYqtUm0FEkOJj</td>\n      <td>25</td>\n      <td>Muž</td>\n      <td>€2501+</td>\n      <td>Nie</td>\n      <td>NaN</td>\n      <td>99</td>\n      <td>Východné Slovensko</td>\n      <td>...</td>\n      <td>NaN</td>\n      <td>NaN</td>\n      <td>NaN</td>\n      <td>NaN</td>\n      <td>NaN</td>\n      <td>NaN</td>\n      <td>NaN</td>\n      <td>NaN</td>\n      <td>NaN</td>\n      <td>NaN</td>\n    </tr>\n    <tr>\n      <th>16</th>\n      <td>69</td>\n      <td>208</td>\n      <td>R_3PiZs2PUpimz4mE</td>\n      <td>27</td>\n      <td>Žena</td>\n      <td>€2501+</td>\n      <td>Nie</td>\n      <td>NaN</td>\n      <td>29</td>\n      <td>Západné Slovensko</td>\n      <td>...</td>\n      <td>NaN</td>\n      <td>NaN</td>\n      <td>NaN</td>\n      <td>NaN</td>\n      <td>NaN</td>\n      <td>NaN</td>\n      <td>NaN</td>\n      <td>NaN</td>\n      <td>NaN</td>\n      <td>NaN</td>\n    </tr>\n  </tbody>\n</table>\n<p>15 rows × 83 columns</p>\n</div>"
     },
     "execution_count": 14,
     "metadata": {},
     "output_type": "execute_result"
    }
   ],
   "source": [
    "data_text"
   ],
   "metadata": {
    "collapsed": false,
    "pycharm": {
     "name": "#%%\n"
    }
   }
  },
  {
   "cell_type": "code",
   "execution_count": 15,
   "outputs": [],
   "source": [
    "#Sets encoding\n",
    "sets = ['Set1','Set2','Set3','Set4','Set5','Set6','Set7','Set8','Set9','Set10','Set11','Set12']\n",
    "new_sets = []\n",
    "\n",
    "for i in sets:\n",
    "    a = i+\"_a\"\n",
    "    b = i+\"_b\"\n",
    "    new_sets.append(a)\n",
    "    new_sets.append(b)\n",
    "\n",
    "for i in new_sets:\n",
    "    data_num.insert(len(data_num.columns),i,0)\n"
   ],
   "metadata": {
    "collapsed": false,
    "pycharm": {
     "name": "#%%\n"
    }
   }
  },
  {
   "cell_type": "code",
   "execution_count": 16,
   "outputs": [
    {
     "data": {
      "text/plain": "   Progress Duration (in seconds)         ResponseId Age  Gender_f Income  \\\n2        79                   467  R_2QhVhS7x3hq6XKf  36         0      5   \n3        83                   170  R_1nUxCAfYXJc9EUW  44         1      5   \n4        93                   434  R_3EnDsvWAIogkXzz  50         0      4   \n5        50                   299  R_2EnQRnC5z6MEkB0  40         0      3   \n6        79                   485  R_2trGXz4cYEDIRpV  48         0      3   \n7        60                   473  R_3Don6Yln25DC0o5  66         1      1   \n8        50                   413  R_3kMrDfvEZspW2kd  31         0      2   \n9        50                   302  R_3Mg26j5vNy3yWt8  48         0      5   \n10       88                   308  R_UDE1Xrj0UjDvJUB  57         0      3   \n11       93                   184  R_2aY7R6KLtMHfqlA  20         1      6   \n12       55                  4003  R_r8bb9T6nYZTIRfr  45         0      6   \n13       50                   261  R_3HqcKQZSgll15IK  25         1      6   \n14       55                   374  R_2OZ9GbFDzgwVRGa  65         1      1   \n15       74                   172  R_9yhYqtUm0FEkOJj  25         0      6   \n16       69                   208  R_3PiZs2PUpimz4mE  27         1      6   \n\n    No Income  Energy Consumption Tariff payment_1  ... Set8_a  Set8_b  \\\n2           0                   0    NaN        29  ...      0       1   \n3           0                   0    NaN        29  ...      0       1   \n4           0                   1      1       131  ...      1       0   \n5           0                   1      1        21  ...      0       0   \n6           0                   1      2        42  ...      0       1   \n7           0                   0    NaN        58  ...      0       0   \n8           0                   1      2        20  ...      0       0   \n9           0                   1      4        87  ...      0       0   \n10          0                   1      2        35  ...      1       0   \n11          0                   0    NaN       200  ...      0       1   \n12          0                   1      2        60  ...      0       0   \n13          0                   1      5       105  ...      0       0   \n14          0                   1      1        75  ...      0       0   \n15          0                   0    NaN        99  ...      0       0   \n16          0                   0    NaN        29  ...      0       0   \n\n    Set9_a Set9_b Set10_a Set10_b Set11_a  Set11_b  Set12_a Set12_b  \n2        0      0       0       0       0        0        0       0  \n3        1      0       0       0       0        0        0       0  \n4        0      1       0       1       1        0        0       0  \n5        0      0       0       0       0        0        0       0  \n6        0      0       0       0       0        0        0       0  \n7        0      0       0       0       0        0        0       0  \n8        0      0       0       0       0        0        0       0  \n9        0      0       0       0       0        0        0       0  \n10       1      0       1       0       0        0        0       0  \n11       1      0       0       1       0        1        0       0  \n12       0      0       0       0       0        0        0       0  \n13       0      0       0       0       0        0        0       0  \n14       0      0       0       0       0        0        0       0  \n15       0      0       0       0       0        0        0       0  \n16       0      0       0       0       0        0        0       0  \n\n[15 rows x 113 columns]",
      "text/html": "<div>\n<style scoped>\n    .dataframe tbody tr th:only-of-type {\n        vertical-align: middle;\n    }\n\n    .dataframe tbody tr th {\n        vertical-align: top;\n    }\n\n    .dataframe thead th {\n        text-align: right;\n    }\n</style>\n<table border=\"1\" class=\"dataframe\">\n  <thead>\n    <tr style=\"text-align: right;\">\n      <th></th>\n      <th>Progress</th>\n      <th>Duration (in seconds)</th>\n      <th>ResponseId</th>\n      <th>Age</th>\n      <th>Gender_f</th>\n      <th>Income</th>\n      <th>No Income</th>\n      <th>Energy Consumption</th>\n      <th>Tariff</th>\n      <th>payment_1</th>\n      <th>...</th>\n      <th>Set8_a</th>\n      <th>Set8_b</th>\n      <th>Set9_a</th>\n      <th>Set9_b</th>\n      <th>Set10_a</th>\n      <th>Set10_b</th>\n      <th>Set11_a</th>\n      <th>Set11_b</th>\n      <th>Set12_a</th>\n      <th>Set12_b</th>\n    </tr>\n  </thead>\n  <tbody>\n    <tr>\n      <th>2</th>\n      <td>79</td>\n      <td>467</td>\n      <td>R_2QhVhS7x3hq6XKf</td>\n      <td>36</td>\n      <td>0</td>\n      <td>5</td>\n      <td>0</td>\n      <td>0</td>\n      <td>NaN</td>\n      <td>29</td>\n      <td>...</td>\n      <td>0</td>\n      <td>1</td>\n      <td>0</td>\n      <td>0</td>\n      <td>0</td>\n      <td>0</td>\n      <td>0</td>\n      <td>0</td>\n      <td>0</td>\n      <td>0</td>\n    </tr>\n    <tr>\n      <th>3</th>\n      <td>83</td>\n      <td>170</td>\n      <td>R_1nUxCAfYXJc9EUW</td>\n      <td>44</td>\n      <td>1</td>\n      <td>5</td>\n      <td>0</td>\n      <td>0</td>\n      <td>NaN</td>\n      <td>29</td>\n      <td>...</td>\n      <td>0</td>\n      <td>1</td>\n      <td>1</td>\n      <td>0</td>\n      <td>0</td>\n      <td>0</td>\n      <td>0</td>\n      <td>0</td>\n      <td>0</td>\n      <td>0</td>\n    </tr>\n    <tr>\n      <th>4</th>\n      <td>93</td>\n      <td>434</td>\n      <td>R_3EnDsvWAIogkXzz</td>\n      <td>50</td>\n      <td>0</td>\n      <td>4</td>\n      <td>0</td>\n      <td>1</td>\n      <td>1</td>\n      <td>131</td>\n      <td>...</td>\n      <td>1</td>\n      <td>0</td>\n      <td>0</td>\n      <td>1</td>\n      <td>0</td>\n      <td>1</td>\n      <td>1</td>\n      <td>0</td>\n      <td>0</td>\n      <td>0</td>\n    </tr>\n    <tr>\n      <th>5</th>\n      <td>50</td>\n      <td>299</td>\n      <td>R_2EnQRnC5z6MEkB0</td>\n      <td>40</td>\n      <td>0</td>\n      <td>3</td>\n      <td>0</td>\n      <td>1</td>\n      <td>1</td>\n      <td>21</td>\n      <td>...</td>\n      <td>0</td>\n      <td>0</td>\n      <td>0</td>\n      <td>0</td>\n      <td>0</td>\n      <td>0</td>\n      <td>0</td>\n      <td>0</td>\n      <td>0</td>\n      <td>0</td>\n    </tr>\n    <tr>\n      <th>6</th>\n      <td>79</td>\n      <td>485</td>\n      <td>R_2trGXz4cYEDIRpV</td>\n      <td>48</td>\n      <td>0</td>\n      <td>3</td>\n      <td>0</td>\n      <td>1</td>\n      <td>2</td>\n      <td>42</td>\n      <td>...</td>\n      <td>0</td>\n      <td>1</td>\n      <td>0</td>\n      <td>0</td>\n      <td>0</td>\n      <td>0</td>\n      <td>0</td>\n      <td>0</td>\n      <td>0</td>\n      <td>0</td>\n    </tr>\n    <tr>\n      <th>7</th>\n      <td>60</td>\n      <td>473</td>\n      <td>R_3Don6Yln25DC0o5</td>\n      <td>66</td>\n      <td>1</td>\n      <td>1</td>\n      <td>0</td>\n      <td>0</td>\n      <td>NaN</td>\n      <td>58</td>\n      <td>...</td>\n      <td>0</td>\n      <td>0</td>\n      <td>0</td>\n      <td>0</td>\n      <td>0</td>\n      <td>0</td>\n      <td>0</td>\n      <td>0</td>\n      <td>0</td>\n      <td>0</td>\n    </tr>\n    <tr>\n      <th>8</th>\n      <td>50</td>\n      <td>413</td>\n      <td>R_3kMrDfvEZspW2kd</td>\n      <td>31</td>\n      <td>0</td>\n      <td>2</td>\n      <td>0</td>\n      <td>1</td>\n      <td>2</td>\n      <td>20</td>\n      <td>...</td>\n      <td>0</td>\n      <td>0</td>\n      <td>0</td>\n      <td>0</td>\n      <td>0</td>\n      <td>0</td>\n      <td>0</td>\n      <td>0</td>\n      <td>0</td>\n      <td>0</td>\n    </tr>\n    <tr>\n      <th>9</th>\n      <td>50</td>\n      <td>302</td>\n      <td>R_3Mg26j5vNy3yWt8</td>\n      <td>48</td>\n      <td>0</td>\n      <td>5</td>\n      <td>0</td>\n      <td>1</td>\n      <td>4</td>\n      <td>87</td>\n      <td>...</td>\n      <td>0</td>\n      <td>0</td>\n      <td>0</td>\n      <td>0</td>\n      <td>0</td>\n      <td>0</td>\n      <td>0</td>\n      <td>0</td>\n      <td>0</td>\n      <td>0</td>\n    </tr>\n    <tr>\n      <th>10</th>\n      <td>88</td>\n      <td>308</td>\n      <td>R_UDE1Xrj0UjDvJUB</td>\n      <td>57</td>\n      <td>0</td>\n      <td>3</td>\n      <td>0</td>\n      <td>1</td>\n      <td>2</td>\n      <td>35</td>\n      <td>...</td>\n      <td>1</td>\n      <td>0</td>\n      <td>1</td>\n      <td>0</td>\n      <td>1</td>\n      <td>0</td>\n      <td>0</td>\n      <td>0</td>\n      <td>0</td>\n      <td>0</td>\n    </tr>\n    <tr>\n      <th>11</th>\n      <td>93</td>\n      <td>184</td>\n      <td>R_2aY7R6KLtMHfqlA</td>\n      <td>20</td>\n      <td>1</td>\n      <td>6</td>\n      <td>0</td>\n      <td>0</td>\n      <td>NaN</td>\n      <td>200</td>\n      <td>...</td>\n      <td>0</td>\n      <td>1</td>\n      <td>1</td>\n      <td>0</td>\n      <td>0</td>\n      <td>1</td>\n      <td>0</td>\n      <td>1</td>\n      <td>0</td>\n      <td>0</td>\n    </tr>\n    <tr>\n      <th>12</th>\n      <td>55</td>\n      <td>4003</td>\n      <td>R_r8bb9T6nYZTIRfr</td>\n      <td>45</td>\n      <td>0</td>\n      <td>6</td>\n      <td>0</td>\n      <td>1</td>\n      <td>2</td>\n      <td>60</td>\n      <td>...</td>\n      <td>0</td>\n      <td>0</td>\n      <td>0</td>\n      <td>0</td>\n      <td>0</td>\n      <td>0</td>\n      <td>0</td>\n      <td>0</td>\n      <td>0</td>\n      <td>0</td>\n    </tr>\n    <tr>\n      <th>13</th>\n      <td>50</td>\n      <td>261</td>\n      <td>R_3HqcKQZSgll15IK</td>\n      <td>25</td>\n      <td>1</td>\n      <td>6</td>\n      <td>0</td>\n      <td>1</td>\n      <td>5</td>\n      <td>105</td>\n      <td>...</td>\n      <td>0</td>\n      <td>0</td>\n      <td>0</td>\n      <td>0</td>\n      <td>0</td>\n      <td>0</td>\n      <td>0</td>\n      <td>0</td>\n      <td>0</td>\n      <td>0</td>\n    </tr>\n    <tr>\n      <th>14</th>\n      <td>55</td>\n      <td>374</td>\n      <td>R_2OZ9GbFDzgwVRGa</td>\n      <td>65</td>\n      <td>1</td>\n      <td>1</td>\n      <td>0</td>\n      <td>1</td>\n      <td>1</td>\n      <td>75</td>\n      <td>...</td>\n      <td>0</td>\n      <td>0</td>\n      <td>0</td>\n      <td>0</td>\n      <td>0</td>\n      <td>0</td>\n      <td>0</td>\n      <td>0</td>\n      <td>0</td>\n      <td>0</td>\n    </tr>\n    <tr>\n      <th>15</th>\n      <td>74</td>\n      <td>172</td>\n      <td>R_9yhYqtUm0FEkOJj</td>\n      <td>25</td>\n      <td>0</td>\n      <td>6</td>\n      <td>0</td>\n      <td>0</td>\n      <td>NaN</td>\n      <td>99</td>\n      <td>...</td>\n      <td>0</td>\n      <td>0</td>\n      <td>0</td>\n      <td>0</td>\n      <td>0</td>\n      <td>0</td>\n      <td>0</td>\n      <td>0</td>\n      <td>0</td>\n      <td>0</td>\n    </tr>\n    <tr>\n      <th>16</th>\n      <td>69</td>\n      <td>208</td>\n      <td>R_3PiZs2PUpimz4mE</td>\n      <td>27</td>\n      <td>1</td>\n      <td>6</td>\n      <td>0</td>\n      <td>0</td>\n      <td>NaN</td>\n      <td>29</td>\n      <td>...</td>\n      <td>0</td>\n      <td>0</td>\n      <td>0</td>\n      <td>0</td>\n      <td>0</td>\n      <td>0</td>\n      <td>0</td>\n      <td>0</td>\n      <td>0</td>\n      <td>0</td>\n    </tr>\n  </tbody>\n</table>\n<p>15 rows × 113 columns</p>\n</div>"
     },
     "execution_count": 16,
     "metadata": {},
     "output_type": "execute_result"
    }
   ],
   "source": [
    "for column in data_num[sets]:\n",
    "    data_num.loc[data_num[str(column)]=='31', str(column+\"_a\")] = 1\n",
    "    data_num.loc[data_num[str(column)]=='34', str(column+\"_b\")] = 1\n",
    "\n",
    "data_num"
   ],
   "metadata": {
    "collapsed": false,
    "pycharm": {
     "name": "#%%\n"
    }
   }
  },
  {
   "cell_type": "code",
   "execution_count": 17,
   "outputs": [],
   "source": [
    "analysis_columns = new_sets.copy()\n",
    "analysis_columns.append('ResponseId')\n"
   ],
   "metadata": {
    "collapsed": false,
    "pycharm": {
     "name": "#%%\n"
    }
   }
  },
  {
   "cell_type": "code",
   "execution_count": 18,
   "outputs": [],
   "source": [
    "analysis = data_num[analysis_columns]"
   ],
   "metadata": {
    "collapsed": false,
    "pycharm": {
     "name": "#%%\n"
    }
   }
  },
  {
   "cell_type": "code",
   "execution_count": 19,
   "outputs": [
    {
     "data": {
      "text/plain": "           ResponseId  Set1_a  Set1_b  Set2_a  Set2_b  Set3_a  Set3_b  Set4_a  \\\n2   R_2QhVhS7x3hq6XKf       1       0       1       0       1       0       1   \n3   R_1nUxCAfYXJc9EUW       0       1       0       1       1       0       0   \n4   R_3EnDsvWAIogkXzz       1       0       1       0       1       0       1   \n5   R_2EnQRnC5z6MEkB0       1       0       1       0       0       0       0   \n6   R_2trGXz4cYEDIRpV       0       1       0       1       0       1       0   \n7   R_3Don6Yln25DC0o5       1       0       0       1       1       0       1   \n8   R_3kMrDfvEZspW2kd       0       1       0       1       0       0       0   \n9   R_3Mg26j5vNy3yWt8       0       1       0       1       0       0       0   \n10  R_UDE1Xrj0UjDvJUB       1       0       0       1       1       0       0   \n11  R_2aY7R6KLtMHfqlA       1       0       1       0       1       0       0   \n12  R_r8bb9T6nYZTIRfr       1       0       1       0       1       0       0   \n13  R_3HqcKQZSgll15IK       0       1       1       0       0       0       0   \n14  R_2OZ9GbFDzgwVRGa       1       0       1       0       1       0       0   \n15  R_9yhYqtUm0FEkOJj       0       1       0       1       1       0       0   \n16  R_3PiZs2PUpimz4mE       0       1       1       0       1       0       0   \n\n    Set4_b  Set5_a  ...  Set8_a  Set8_b  Set9_a  Set9_b  Set10_a  Set10_b  \\\n2        0       0  ...       0       1       0       0        0        0   \n3        1       1  ...       0       1       1       0        0        0   \n4        0       0  ...       1       0       0       1        0        1   \n5        0       0  ...       0       0       0       0        0        0   \n6        1       0  ...       0       1       0       0        0        0   \n7        0       0  ...       0       0       0       0        0        0   \n8        0       0  ...       0       0       0       0        0        0   \n9        0       0  ...       0       0       0       0        0        0   \n10       1       0  ...       1       0       1       0        1        0   \n11       1       0  ...       0       1       1       0        0        1   \n12       0       0  ...       0       0       0       0        0        0   \n13       0       0  ...       0       0       0       0        0        0   \n14       0       0  ...       0       0       0       0        0        0   \n15       1       1  ...       0       0       0       0        0        0   \n16       1       1  ...       0       0       0       0        0        0   \n\n    Set11_a  Set11_b  Set12_a  Set12_b  \n2         0        0        0        0  \n3         0        0        0        0  \n4         1        0        0        0  \n5         0        0        0        0  \n6         0        0        0        0  \n7         0        0        0        0  \n8         0        0        0        0  \n9         0        0        0        0  \n10        0        0        0        0  \n11        0        1        0        0  \n12        0        0        0        0  \n13        0        0        0        0  \n14        0        0        0        0  \n15        0        0        0        0  \n16        0        0        0        0  \n\n[15 rows x 25 columns]",
      "text/html": "<div>\n<style scoped>\n    .dataframe tbody tr th:only-of-type {\n        vertical-align: middle;\n    }\n\n    .dataframe tbody tr th {\n        vertical-align: top;\n    }\n\n    .dataframe thead th {\n        text-align: right;\n    }\n</style>\n<table border=\"1\" class=\"dataframe\">\n  <thead>\n    <tr style=\"text-align: right;\">\n      <th></th>\n      <th>ResponseId</th>\n      <th>Set1_a</th>\n      <th>Set1_b</th>\n      <th>Set2_a</th>\n      <th>Set2_b</th>\n      <th>Set3_a</th>\n      <th>Set3_b</th>\n      <th>Set4_a</th>\n      <th>Set4_b</th>\n      <th>Set5_a</th>\n      <th>...</th>\n      <th>Set8_a</th>\n      <th>Set8_b</th>\n      <th>Set9_a</th>\n      <th>Set9_b</th>\n      <th>Set10_a</th>\n      <th>Set10_b</th>\n      <th>Set11_a</th>\n      <th>Set11_b</th>\n      <th>Set12_a</th>\n      <th>Set12_b</th>\n    </tr>\n  </thead>\n  <tbody>\n    <tr>\n      <th>2</th>\n      <td>R_2QhVhS7x3hq6XKf</td>\n      <td>1</td>\n      <td>0</td>\n      <td>1</td>\n      <td>0</td>\n      <td>1</td>\n      <td>0</td>\n      <td>1</td>\n      <td>0</td>\n      <td>0</td>\n      <td>...</td>\n      <td>0</td>\n      <td>1</td>\n      <td>0</td>\n      <td>0</td>\n      <td>0</td>\n      <td>0</td>\n      <td>0</td>\n      <td>0</td>\n      <td>0</td>\n      <td>0</td>\n    </tr>\n    <tr>\n      <th>3</th>\n      <td>R_1nUxCAfYXJc9EUW</td>\n      <td>0</td>\n      <td>1</td>\n      <td>0</td>\n      <td>1</td>\n      <td>1</td>\n      <td>0</td>\n      <td>0</td>\n      <td>1</td>\n      <td>1</td>\n      <td>...</td>\n      <td>0</td>\n      <td>1</td>\n      <td>1</td>\n      <td>0</td>\n      <td>0</td>\n      <td>0</td>\n      <td>0</td>\n      <td>0</td>\n      <td>0</td>\n      <td>0</td>\n    </tr>\n    <tr>\n      <th>4</th>\n      <td>R_3EnDsvWAIogkXzz</td>\n      <td>1</td>\n      <td>0</td>\n      <td>1</td>\n      <td>0</td>\n      <td>1</td>\n      <td>0</td>\n      <td>1</td>\n      <td>0</td>\n      <td>0</td>\n      <td>...</td>\n      <td>1</td>\n      <td>0</td>\n      <td>0</td>\n      <td>1</td>\n      <td>0</td>\n      <td>1</td>\n      <td>1</td>\n      <td>0</td>\n      <td>0</td>\n      <td>0</td>\n    </tr>\n    <tr>\n      <th>5</th>\n      <td>R_2EnQRnC5z6MEkB0</td>\n      <td>1</td>\n      <td>0</td>\n      <td>1</td>\n      <td>0</td>\n      <td>0</td>\n      <td>0</td>\n      <td>0</td>\n      <td>0</td>\n      <td>0</td>\n      <td>...</td>\n      <td>0</td>\n      <td>0</td>\n      <td>0</td>\n      <td>0</td>\n      <td>0</td>\n      <td>0</td>\n      <td>0</td>\n      <td>0</td>\n      <td>0</td>\n      <td>0</td>\n    </tr>\n    <tr>\n      <th>6</th>\n      <td>R_2trGXz4cYEDIRpV</td>\n      <td>0</td>\n      <td>1</td>\n      <td>0</td>\n      <td>1</td>\n      <td>0</td>\n      <td>1</td>\n      <td>0</td>\n      <td>1</td>\n      <td>0</td>\n      <td>...</td>\n      <td>0</td>\n      <td>1</td>\n      <td>0</td>\n      <td>0</td>\n      <td>0</td>\n      <td>0</td>\n      <td>0</td>\n      <td>0</td>\n      <td>0</td>\n      <td>0</td>\n    </tr>\n    <tr>\n      <th>7</th>\n      <td>R_3Don6Yln25DC0o5</td>\n      <td>1</td>\n      <td>0</td>\n      <td>0</td>\n      <td>1</td>\n      <td>1</td>\n      <td>0</td>\n      <td>1</td>\n      <td>0</td>\n      <td>0</td>\n      <td>...</td>\n      <td>0</td>\n      <td>0</td>\n      <td>0</td>\n      <td>0</td>\n      <td>0</td>\n      <td>0</td>\n      <td>0</td>\n      <td>0</td>\n      <td>0</td>\n      <td>0</td>\n    </tr>\n    <tr>\n      <th>8</th>\n      <td>R_3kMrDfvEZspW2kd</td>\n      <td>0</td>\n      <td>1</td>\n      <td>0</td>\n      <td>1</td>\n      <td>0</td>\n      <td>0</td>\n      <td>0</td>\n      <td>0</td>\n      <td>0</td>\n      <td>...</td>\n      <td>0</td>\n      <td>0</td>\n      <td>0</td>\n      <td>0</td>\n      <td>0</td>\n      <td>0</td>\n      <td>0</td>\n      <td>0</td>\n      <td>0</td>\n      <td>0</td>\n    </tr>\n    <tr>\n      <th>9</th>\n      <td>R_3Mg26j5vNy3yWt8</td>\n      <td>0</td>\n      <td>1</td>\n      <td>0</td>\n      <td>1</td>\n      <td>0</td>\n      <td>0</td>\n      <td>0</td>\n      <td>0</td>\n      <td>0</td>\n      <td>...</td>\n      <td>0</td>\n      <td>0</td>\n      <td>0</td>\n      <td>0</td>\n      <td>0</td>\n      <td>0</td>\n      <td>0</td>\n      <td>0</td>\n      <td>0</td>\n      <td>0</td>\n    </tr>\n    <tr>\n      <th>10</th>\n      <td>R_UDE1Xrj0UjDvJUB</td>\n      <td>1</td>\n      <td>0</td>\n      <td>0</td>\n      <td>1</td>\n      <td>1</td>\n      <td>0</td>\n      <td>0</td>\n      <td>1</td>\n      <td>0</td>\n      <td>...</td>\n      <td>1</td>\n      <td>0</td>\n      <td>1</td>\n      <td>0</td>\n      <td>1</td>\n      <td>0</td>\n      <td>0</td>\n      <td>0</td>\n      <td>0</td>\n      <td>0</td>\n    </tr>\n    <tr>\n      <th>11</th>\n      <td>R_2aY7R6KLtMHfqlA</td>\n      <td>1</td>\n      <td>0</td>\n      <td>1</td>\n      <td>0</td>\n      <td>1</td>\n      <td>0</td>\n      <td>0</td>\n      <td>1</td>\n      <td>0</td>\n      <td>...</td>\n      <td>0</td>\n      <td>1</td>\n      <td>1</td>\n      <td>0</td>\n      <td>0</td>\n      <td>1</td>\n      <td>0</td>\n      <td>1</td>\n      <td>0</td>\n      <td>0</td>\n    </tr>\n    <tr>\n      <th>12</th>\n      <td>R_r8bb9T6nYZTIRfr</td>\n      <td>1</td>\n      <td>0</td>\n      <td>1</td>\n      <td>0</td>\n      <td>1</td>\n      <td>0</td>\n      <td>0</td>\n      <td>0</td>\n      <td>0</td>\n      <td>...</td>\n      <td>0</td>\n      <td>0</td>\n      <td>0</td>\n      <td>0</td>\n      <td>0</td>\n      <td>0</td>\n      <td>0</td>\n      <td>0</td>\n      <td>0</td>\n      <td>0</td>\n    </tr>\n    <tr>\n      <th>13</th>\n      <td>R_3HqcKQZSgll15IK</td>\n      <td>0</td>\n      <td>1</td>\n      <td>1</td>\n      <td>0</td>\n      <td>0</td>\n      <td>0</td>\n      <td>0</td>\n      <td>0</td>\n      <td>0</td>\n      <td>...</td>\n      <td>0</td>\n      <td>0</td>\n      <td>0</td>\n      <td>0</td>\n      <td>0</td>\n      <td>0</td>\n      <td>0</td>\n      <td>0</td>\n      <td>0</td>\n      <td>0</td>\n    </tr>\n    <tr>\n      <th>14</th>\n      <td>R_2OZ9GbFDzgwVRGa</td>\n      <td>1</td>\n      <td>0</td>\n      <td>1</td>\n      <td>0</td>\n      <td>1</td>\n      <td>0</td>\n      <td>0</td>\n      <td>0</td>\n      <td>0</td>\n      <td>...</td>\n      <td>0</td>\n      <td>0</td>\n      <td>0</td>\n      <td>0</td>\n      <td>0</td>\n      <td>0</td>\n      <td>0</td>\n      <td>0</td>\n      <td>0</td>\n      <td>0</td>\n    </tr>\n    <tr>\n      <th>15</th>\n      <td>R_9yhYqtUm0FEkOJj</td>\n      <td>0</td>\n      <td>1</td>\n      <td>0</td>\n      <td>1</td>\n      <td>1</td>\n      <td>0</td>\n      <td>0</td>\n      <td>1</td>\n      <td>1</td>\n      <td>...</td>\n      <td>0</td>\n      <td>0</td>\n      <td>0</td>\n      <td>0</td>\n      <td>0</td>\n      <td>0</td>\n      <td>0</td>\n      <td>0</td>\n      <td>0</td>\n      <td>0</td>\n    </tr>\n    <tr>\n      <th>16</th>\n      <td>R_3PiZs2PUpimz4mE</td>\n      <td>0</td>\n      <td>1</td>\n      <td>1</td>\n      <td>0</td>\n      <td>1</td>\n      <td>0</td>\n      <td>0</td>\n      <td>1</td>\n      <td>1</td>\n      <td>...</td>\n      <td>0</td>\n      <td>0</td>\n      <td>0</td>\n      <td>0</td>\n      <td>0</td>\n      <td>0</td>\n      <td>0</td>\n      <td>0</td>\n      <td>0</td>\n      <td>0</td>\n    </tr>\n  </tbody>\n</table>\n<p>15 rows × 25 columns</p>\n</div>"
     },
     "execution_count": 19,
     "metadata": {},
     "output_type": "execute_result"
    }
   ],
   "source": [
    "df = analysis.pop('ResponseId')\n",
    "analysis.insert(0,'ResponseId',df)\n",
    "\n",
    "analysis"
   ],
   "metadata": {
    "collapsed": false,
    "pycharm": {
     "name": "#%%\n"
    }
   }
  },
  {
   "cell_type": "code",
   "execution_count": 20,
   "outputs": [
    {
     "data": {
      "text/plain": "                   index  Set1_a  Set1_b  Set2_a  Set2_b  Set3_a  Set3_b  \\\nResponseId                                                                 \nR_2QhVhS7x3hq6XKf      2       1       0       1       0       1       0   \nR_1nUxCAfYXJc9EUW      3       0       1       0       1       1       0   \nR_3EnDsvWAIogkXzz      4       1       0       1       0       1       0   \nR_2EnQRnC5z6MEkB0      5       1       0       1       0       0       0   \nR_2trGXz4cYEDIRpV      6       0       1       0       1       0       1   \nR_3Don6Yln25DC0o5      7       1       0       0       1       1       0   \nR_3kMrDfvEZspW2kd      8       0       1       0       1       0       0   \nR_3Mg26j5vNy3yWt8      9       0       1       0       1       0       0   \nR_UDE1Xrj0UjDvJUB     10       1       0       0       1       1       0   \nR_2aY7R6KLtMHfqlA     11       1       0       1       0       1       0   \nR_r8bb9T6nYZTIRfr     12       1       0       1       0       1       0   \nR_3HqcKQZSgll15IK     13       0       1       1       0       0       0   \nR_2OZ9GbFDzgwVRGa     14       1       0       1       0       1       0   \nR_9yhYqtUm0FEkOJj     15       0       1       0       1       1       0   \nR_3PiZs2PUpimz4mE     16       0       1       1       0       1       0   \n\n                   Set4_a  Set4_b  Set5_a  ...  Set8_a  Set8_b  Set9_a  \\\nResponseId                                 ...                           \nR_2QhVhS7x3hq6XKf       1       0       0  ...       0       1       0   \nR_1nUxCAfYXJc9EUW       0       1       1  ...       0       1       1   \nR_3EnDsvWAIogkXzz       1       0       0  ...       1       0       0   \nR_2EnQRnC5z6MEkB0       0       0       0  ...       0       0       0   \nR_2trGXz4cYEDIRpV       0       1       0  ...       0       1       0   \nR_3Don6Yln25DC0o5       1       0       0  ...       0       0       0   \nR_3kMrDfvEZspW2kd       0       0       0  ...       0       0       0   \nR_3Mg26j5vNy3yWt8       0       0       0  ...       0       0       0   \nR_UDE1Xrj0UjDvJUB       0       1       0  ...       1       0       1   \nR_2aY7R6KLtMHfqlA       0       1       0  ...       0       1       1   \nR_r8bb9T6nYZTIRfr       0       0       0  ...       0       0       0   \nR_3HqcKQZSgll15IK       0       0       0  ...       0       0       0   \nR_2OZ9GbFDzgwVRGa       0       0       0  ...       0       0       0   \nR_9yhYqtUm0FEkOJj       0       1       1  ...       0       0       0   \nR_3PiZs2PUpimz4mE       0       1       1  ...       0       0       0   \n\n                   Set9_b  Set10_a  Set10_b  Set11_a  Set11_b  Set12_a  \\\nResponseId                                                               \nR_2QhVhS7x3hq6XKf       0        0        0        0        0        0   \nR_1nUxCAfYXJc9EUW       0        0        0        0        0        0   \nR_3EnDsvWAIogkXzz       1        0        1        1        0        0   \nR_2EnQRnC5z6MEkB0       0        0        0        0        0        0   \nR_2trGXz4cYEDIRpV       0        0        0        0        0        0   \nR_3Don6Yln25DC0o5       0        0        0        0        0        0   \nR_3kMrDfvEZspW2kd       0        0        0        0        0        0   \nR_3Mg26j5vNy3yWt8       0        0        0        0        0        0   \nR_UDE1Xrj0UjDvJUB       0        1        0        0        0        0   \nR_2aY7R6KLtMHfqlA       0        0        1        0        1        0   \nR_r8bb9T6nYZTIRfr       0        0        0        0        0        0   \nR_3HqcKQZSgll15IK       0        0        0        0        0        0   \nR_2OZ9GbFDzgwVRGa       0        0        0        0        0        0   \nR_9yhYqtUm0FEkOJj       0        0        0        0        0        0   \nR_3PiZs2PUpimz4mE       0        0        0        0        0        0   \n\n                   Set12_b  \nResponseId                  \nR_2QhVhS7x3hq6XKf        0  \nR_1nUxCAfYXJc9EUW        0  \nR_3EnDsvWAIogkXzz        0  \nR_2EnQRnC5z6MEkB0        0  \nR_2trGXz4cYEDIRpV        0  \nR_3Don6Yln25DC0o5        0  \nR_3kMrDfvEZspW2kd        0  \nR_3Mg26j5vNy3yWt8        0  \nR_UDE1Xrj0UjDvJUB        0  \nR_2aY7R6KLtMHfqlA        0  \nR_r8bb9T6nYZTIRfr        0  \nR_3HqcKQZSgll15IK        0  \nR_2OZ9GbFDzgwVRGa        0  \nR_9yhYqtUm0FEkOJj        0  \nR_3PiZs2PUpimz4mE        0  \n\n[15 rows x 25 columns]",
      "text/html": "<div>\n<style scoped>\n    .dataframe tbody tr th:only-of-type {\n        vertical-align: middle;\n    }\n\n    .dataframe tbody tr th {\n        vertical-align: top;\n    }\n\n    .dataframe thead th {\n        text-align: right;\n    }\n</style>\n<table border=\"1\" class=\"dataframe\">\n  <thead>\n    <tr style=\"text-align: right;\">\n      <th></th>\n      <th>index</th>\n      <th>Set1_a</th>\n      <th>Set1_b</th>\n      <th>Set2_a</th>\n      <th>Set2_b</th>\n      <th>Set3_a</th>\n      <th>Set3_b</th>\n      <th>Set4_a</th>\n      <th>Set4_b</th>\n      <th>Set5_a</th>\n      <th>...</th>\n      <th>Set8_a</th>\n      <th>Set8_b</th>\n      <th>Set9_a</th>\n      <th>Set9_b</th>\n      <th>Set10_a</th>\n      <th>Set10_b</th>\n      <th>Set11_a</th>\n      <th>Set11_b</th>\n      <th>Set12_a</th>\n      <th>Set12_b</th>\n    </tr>\n    <tr>\n      <th>ResponseId</th>\n      <th></th>\n      <th></th>\n      <th></th>\n      <th></th>\n      <th></th>\n      <th></th>\n      <th></th>\n      <th></th>\n      <th></th>\n      <th></th>\n      <th></th>\n      <th></th>\n      <th></th>\n      <th></th>\n      <th></th>\n      <th></th>\n      <th></th>\n      <th></th>\n      <th></th>\n      <th></th>\n      <th></th>\n    </tr>\n  </thead>\n  <tbody>\n    <tr>\n      <th>R_2QhVhS7x3hq6XKf</th>\n      <td>2</td>\n      <td>1</td>\n      <td>0</td>\n      <td>1</td>\n      <td>0</td>\n      <td>1</td>\n      <td>0</td>\n      <td>1</td>\n      <td>0</td>\n      <td>0</td>\n      <td>...</td>\n      <td>0</td>\n      <td>1</td>\n      <td>0</td>\n      <td>0</td>\n      <td>0</td>\n      <td>0</td>\n      <td>0</td>\n      <td>0</td>\n      <td>0</td>\n      <td>0</td>\n    </tr>\n    <tr>\n      <th>R_1nUxCAfYXJc9EUW</th>\n      <td>3</td>\n      <td>0</td>\n      <td>1</td>\n      <td>0</td>\n      <td>1</td>\n      <td>1</td>\n      <td>0</td>\n      <td>0</td>\n      <td>1</td>\n      <td>1</td>\n      <td>...</td>\n      <td>0</td>\n      <td>1</td>\n      <td>1</td>\n      <td>0</td>\n      <td>0</td>\n      <td>0</td>\n      <td>0</td>\n      <td>0</td>\n      <td>0</td>\n      <td>0</td>\n    </tr>\n    <tr>\n      <th>R_3EnDsvWAIogkXzz</th>\n      <td>4</td>\n      <td>1</td>\n      <td>0</td>\n      <td>1</td>\n      <td>0</td>\n      <td>1</td>\n      <td>0</td>\n      <td>1</td>\n      <td>0</td>\n      <td>0</td>\n      <td>...</td>\n      <td>1</td>\n      <td>0</td>\n      <td>0</td>\n      <td>1</td>\n      <td>0</td>\n      <td>1</td>\n      <td>1</td>\n      <td>0</td>\n      <td>0</td>\n      <td>0</td>\n    </tr>\n    <tr>\n      <th>R_2EnQRnC5z6MEkB0</th>\n      <td>5</td>\n      <td>1</td>\n      <td>0</td>\n      <td>1</td>\n      <td>0</td>\n      <td>0</td>\n      <td>0</td>\n      <td>0</td>\n      <td>0</td>\n      <td>0</td>\n      <td>...</td>\n      <td>0</td>\n      <td>0</td>\n      <td>0</td>\n      <td>0</td>\n      <td>0</td>\n      <td>0</td>\n      <td>0</td>\n      <td>0</td>\n      <td>0</td>\n      <td>0</td>\n    </tr>\n    <tr>\n      <th>R_2trGXz4cYEDIRpV</th>\n      <td>6</td>\n      <td>0</td>\n      <td>1</td>\n      <td>0</td>\n      <td>1</td>\n      <td>0</td>\n      <td>1</td>\n      <td>0</td>\n      <td>1</td>\n      <td>0</td>\n      <td>...</td>\n      <td>0</td>\n      <td>1</td>\n      <td>0</td>\n      <td>0</td>\n      <td>0</td>\n      <td>0</td>\n      <td>0</td>\n      <td>0</td>\n      <td>0</td>\n      <td>0</td>\n    </tr>\n    <tr>\n      <th>R_3Don6Yln25DC0o5</th>\n      <td>7</td>\n      <td>1</td>\n      <td>0</td>\n      <td>0</td>\n      <td>1</td>\n      <td>1</td>\n      <td>0</td>\n      <td>1</td>\n      <td>0</td>\n      <td>0</td>\n      <td>...</td>\n      <td>0</td>\n      <td>0</td>\n      <td>0</td>\n      <td>0</td>\n      <td>0</td>\n      <td>0</td>\n      <td>0</td>\n      <td>0</td>\n      <td>0</td>\n      <td>0</td>\n    </tr>\n    <tr>\n      <th>R_3kMrDfvEZspW2kd</th>\n      <td>8</td>\n      <td>0</td>\n      <td>1</td>\n      <td>0</td>\n      <td>1</td>\n      <td>0</td>\n      <td>0</td>\n      <td>0</td>\n      <td>0</td>\n      <td>0</td>\n      <td>...</td>\n      <td>0</td>\n      <td>0</td>\n      <td>0</td>\n      <td>0</td>\n      <td>0</td>\n      <td>0</td>\n      <td>0</td>\n      <td>0</td>\n      <td>0</td>\n      <td>0</td>\n    </tr>\n    <tr>\n      <th>R_3Mg26j5vNy3yWt8</th>\n      <td>9</td>\n      <td>0</td>\n      <td>1</td>\n      <td>0</td>\n      <td>1</td>\n      <td>0</td>\n      <td>0</td>\n      <td>0</td>\n      <td>0</td>\n      <td>0</td>\n      <td>...</td>\n      <td>0</td>\n      <td>0</td>\n      <td>0</td>\n      <td>0</td>\n      <td>0</td>\n      <td>0</td>\n      <td>0</td>\n      <td>0</td>\n      <td>0</td>\n      <td>0</td>\n    </tr>\n    <tr>\n      <th>R_UDE1Xrj0UjDvJUB</th>\n      <td>10</td>\n      <td>1</td>\n      <td>0</td>\n      <td>0</td>\n      <td>1</td>\n      <td>1</td>\n      <td>0</td>\n      <td>0</td>\n      <td>1</td>\n      <td>0</td>\n      <td>...</td>\n      <td>1</td>\n      <td>0</td>\n      <td>1</td>\n      <td>0</td>\n      <td>1</td>\n      <td>0</td>\n      <td>0</td>\n      <td>0</td>\n      <td>0</td>\n      <td>0</td>\n    </tr>\n    <tr>\n      <th>R_2aY7R6KLtMHfqlA</th>\n      <td>11</td>\n      <td>1</td>\n      <td>0</td>\n      <td>1</td>\n      <td>0</td>\n      <td>1</td>\n      <td>0</td>\n      <td>0</td>\n      <td>1</td>\n      <td>0</td>\n      <td>...</td>\n      <td>0</td>\n      <td>1</td>\n      <td>1</td>\n      <td>0</td>\n      <td>0</td>\n      <td>1</td>\n      <td>0</td>\n      <td>1</td>\n      <td>0</td>\n      <td>0</td>\n    </tr>\n    <tr>\n      <th>R_r8bb9T6nYZTIRfr</th>\n      <td>12</td>\n      <td>1</td>\n      <td>0</td>\n      <td>1</td>\n      <td>0</td>\n      <td>1</td>\n      <td>0</td>\n      <td>0</td>\n      <td>0</td>\n      <td>0</td>\n      <td>...</td>\n      <td>0</td>\n      <td>0</td>\n      <td>0</td>\n      <td>0</td>\n      <td>0</td>\n      <td>0</td>\n      <td>0</td>\n      <td>0</td>\n      <td>0</td>\n      <td>0</td>\n    </tr>\n    <tr>\n      <th>R_3HqcKQZSgll15IK</th>\n      <td>13</td>\n      <td>0</td>\n      <td>1</td>\n      <td>1</td>\n      <td>0</td>\n      <td>0</td>\n      <td>0</td>\n      <td>0</td>\n      <td>0</td>\n      <td>0</td>\n      <td>...</td>\n      <td>0</td>\n      <td>0</td>\n      <td>0</td>\n      <td>0</td>\n      <td>0</td>\n      <td>0</td>\n      <td>0</td>\n      <td>0</td>\n      <td>0</td>\n      <td>0</td>\n    </tr>\n    <tr>\n      <th>R_2OZ9GbFDzgwVRGa</th>\n      <td>14</td>\n      <td>1</td>\n      <td>0</td>\n      <td>1</td>\n      <td>0</td>\n      <td>1</td>\n      <td>0</td>\n      <td>0</td>\n      <td>0</td>\n      <td>0</td>\n      <td>...</td>\n      <td>0</td>\n      <td>0</td>\n      <td>0</td>\n      <td>0</td>\n      <td>0</td>\n      <td>0</td>\n      <td>0</td>\n      <td>0</td>\n      <td>0</td>\n      <td>0</td>\n    </tr>\n    <tr>\n      <th>R_9yhYqtUm0FEkOJj</th>\n      <td>15</td>\n      <td>0</td>\n      <td>1</td>\n      <td>0</td>\n      <td>1</td>\n      <td>1</td>\n      <td>0</td>\n      <td>0</td>\n      <td>1</td>\n      <td>1</td>\n      <td>...</td>\n      <td>0</td>\n      <td>0</td>\n      <td>0</td>\n      <td>0</td>\n      <td>0</td>\n      <td>0</td>\n      <td>0</td>\n      <td>0</td>\n      <td>0</td>\n      <td>0</td>\n    </tr>\n    <tr>\n      <th>R_3PiZs2PUpimz4mE</th>\n      <td>16</td>\n      <td>0</td>\n      <td>1</td>\n      <td>1</td>\n      <td>0</td>\n      <td>1</td>\n      <td>0</td>\n      <td>0</td>\n      <td>1</td>\n      <td>1</td>\n      <td>...</td>\n      <td>0</td>\n      <td>0</td>\n      <td>0</td>\n      <td>0</td>\n      <td>0</td>\n      <td>0</td>\n      <td>0</td>\n      <td>0</td>\n      <td>0</td>\n      <td>0</td>\n    </tr>\n  </tbody>\n</table>\n<p>15 rows × 25 columns</p>\n</div>"
     },
     "execution_count": 20,
     "metadata": {},
     "output_type": "execute_result"
    }
   ],
   "source": [
    "analysis = analysis.reset_index()\n",
    "analysis = analysis.set_index('ResponseId')\n",
    "analysis"
   ],
   "metadata": {
    "collapsed": false,
    "pycharm": {
     "name": "#%%\n"
    }
   }
  },
  {
   "cell_type": "code",
   "execution_count": 21,
   "outputs": [],
   "source": [
    "analysis = analysis.drop(columns='index')"
   ],
   "metadata": {
    "collapsed": false,
    "pycharm": {
     "name": "#%%\n"
    }
   }
  },
  {
   "cell_type": "code",
   "execution_count": 22,
   "outputs": [],
   "source": [
    "analysis1 = analysis.stack()"
   ],
   "metadata": {
    "collapsed": false,
    "pycharm": {
     "name": "#%%\n"
    }
   }
  },
  {
   "cell_type": "code",
   "execution_count": 23,
   "outputs": [
    {
     "data": {
      "text/plain": "ResponseId                \nR_2QhVhS7x3hq6XKf  Set1_a     1\n                   Set1_b     0\n                   Set2_a     1\n                   Set2_b     0\n                   Set3_a     1\n                   Set3_b     0\n                   Set4_a     1\n                   Set4_b     0\n                   Set5_a     0\n                   Set5_b     1\n                   Set6_a     1\n                   Set6_b     0\n                   Set7_a     1\n                   Set7_b     0\n                   Set8_a     0\n                   Set8_b     1\n                   Set9_a     0\n                   Set9_b     0\n                   Set10_a    0\n                   Set10_b    0\n                   Set11_a    0\n                   Set11_b    0\n                   Set12_a    0\n                   Set12_b    0\nR_1nUxCAfYXJc9EUW  Set1_a     0\ndtype: int64"
     },
     "execution_count": 23,
     "metadata": {},
     "output_type": "execute_result"
    }
   ],
   "source": [
    "analysis1.head(25)"
   ],
   "metadata": {
    "collapsed": false,
    "pycharm": {
     "name": "#%%\n"
    }
   }
  },
  {
   "cell_type": "code",
   "execution_count": 24,
   "outputs": [
    {
     "data": {
      "text/plain": "ResponseId                \nR_2QhVhS7x3hq6XKf  Set1_a     1\n                   Set1_b     0\n                   Set2_a     1\n                   Set2_b     0\n                   Set3_a     1\n                             ..\nR_3PiZs2PUpimz4mE  Set10_b    0\n                   Set11_a    0\n                   Set11_b    0\n                   Set12_a    0\n                   Set12_b    0\nLength: 360, dtype: int64"
     },
     "execution_count": 24,
     "metadata": {},
     "output_type": "execute_result"
    }
   ],
   "source": [
    "analysis1"
   ],
   "metadata": {
    "collapsed": false,
    "pycharm": {
     "name": "#%%\n"
    }
   }
  },
  {
   "cell_type": "code",
   "execution_count": 25,
   "outputs": [
    {
     "data": {
      "text/plain": "   Progress Duration (in seconds)         ResponseId Age  Gender_f Income  \\\n2        79                   467  R_2QhVhS7x3hq6XKf  36         0      5   \n3        83                   170  R_1nUxCAfYXJc9EUW  44         1      5   \n4        93                   434  R_3EnDsvWAIogkXzz  50         0      4   \n5        50                   299  R_2EnQRnC5z6MEkB0  40         0      3   \n6        79                   485  R_2trGXz4cYEDIRpV  48         0      3   \n7        60                   473  R_3Don6Yln25DC0o5  66         1      1   \n8        50                   413  R_3kMrDfvEZspW2kd  31         0      2   \n9        50                   302  R_3Mg26j5vNy3yWt8  48         0      5   \n10       88                   308  R_UDE1Xrj0UjDvJUB  57         0      3   \n11       93                   184  R_2aY7R6KLtMHfqlA  20         1      6   \n12       55                  4003  R_r8bb9T6nYZTIRfr  45         0      6   \n13       50                   261  R_3HqcKQZSgll15IK  25         1      6   \n14       55                   374  R_2OZ9GbFDzgwVRGa  65         1      1   \n15       74                   172  R_9yhYqtUm0FEkOJj  25         0      6   \n16       69                   208  R_3PiZs2PUpimz4mE  27         1      6   \n\n    No Income  Energy Consumption Tariff payment_1  ... Set8_a  Set8_b  \\\n2           0                   0    NaN        29  ...      0       1   \n3           0                   0    NaN        29  ...      0       1   \n4           0                   1      1       131  ...      1       0   \n5           0                   1      1        21  ...      0       0   \n6           0                   1      2        42  ...      0       1   \n7           0                   0    NaN        58  ...      0       0   \n8           0                   1      2        20  ...      0       0   \n9           0                   1      4        87  ...      0       0   \n10          0                   1      2        35  ...      1       0   \n11          0                   0    NaN       200  ...      0       1   \n12          0                   1      2        60  ...      0       0   \n13          0                   1      5       105  ...      0       0   \n14          0                   1      1        75  ...      0       0   \n15          0                   0    NaN        99  ...      0       0   \n16          0                   0    NaN        29  ...      0       0   \n\n    Set9_a Set9_b Set10_a Set10_b Set11_a  Set11_b  Set12_a Set12_b  \n2        0      0       0       0       0        0        0       0  \n3        1      0       0       0       0        0        0       0  \n4        0      1       0       1       1        0        0       0  \n5        0      0       0       0       0        0        0       0  \n6        0      0       0       0       0        0        0       0  \n7        0      0       0       0       0        0        0       0  \n8        0      0       0       0       0        0        0       0  \n9        0      0       0       0       0        0        0       0  \n10       1      0       1       0       0        0        0       0  \n11       1      0       0       1       0        1        0       0  \n12       0      0       0       0       0        0        0       0  \n13       0      0       0       0       0        0        0       0  \n14       0      0       0       0       0        0        0       0  \n15       0      0       0       0       0        0        0       0  \n16       0      0       0       0       0        0        0       0  \n\n[15 rows x 113 columns]",
      "text/html": "<div>\n<style scoped>\n    .dataframe tbody tr th:only-of-type {\n        vertical-align: middle;\n    }\n\n    .dataframe tbody tr th {\n        vertical-align: top;\n    }\n\n    .dataframe thead th {\n        text-align: right;\n    }\n</style>\n<table border=\"1\" class=\"dataframe\">\n  <thead>\n    <tr style=\"text-align: right;\">\n      <th></th>\n      <th>Progress</th>\n      <th>Duration (in seconds)</th>\n      <th>ResponseId</th>\n      <th>Age</th>\n      <th>Gender_f</th>\n      <th>Income</th>\n      <th>No Income</th>\n      <th>Energy Consumption</th>\n      <th>Tariff</th>\n      <th>payment_1</th>\n      <th>...</th>\n      <th>Set8_a</th>\n      <th>Set8_b</th>\n      <th>Set9_a</th>\n      <th>Set9_b</th>\n      <th>Set10_a</th>\n      <th>Set10_b</th>\n      <th>Set11_a</th>\n      <th>Set11_b</th>\n      <th>Set12_a</th>\n      <th>Set12_b</th>\n    </tr>\n  </thead>\n  <tbody>\n    <tr>\n      <th>2</th>\n      <td>79</td>\n      <td>467</td>\n      <td>R_2QhVhS7x3hq6XKf</td>\n      <td>36</td>\n      <td>0</td>\n      <td>5</td>\n      <td>0</td>\n      <td>0</td>\n      <td>NaN</td>\n      <td>29</td>\n      <td>...</td>\n      <td>0</td>\n      <td>1</td>\n      <td>0</td>\n      <td>0</td>\n      <td>0</td>\n      <td>0</td>\n      <td>0</td>\n      <td>0</td>\n      <td>0</td>\n      <td>0</td>\n    </tr>\n    <tr>\n      <th>3</th>\n      <td>83</td>\n      <td>170</td>\n      <td>R_1nUxCAfYXJc9EUW</td>\n      <td>44</td>\n      <td>1</td>\n      <td>5</td>\n      <td>0</td>\n      <td>0</td>\n      <td>NaN</td>\n      <td>29</td>\n      <td>...</td>\n      <td>0</td>\n      <td>1</td>\n      <td>1</td>\n      <td>0</td>\n      <td>0</td>\n      <td>0</td>\n      <td>0</td>\n      <td>0</td>\n      <td>0</td>\n      <td>0</td>\n    </tr>\n    <tr>\n      <th>4</th>\n      <td>93</td>\n      <td>434</td>\n      <td>R_3EnDsvWAIogkXzz</td>\n      <td>50</td>\n      <td>0</td>\n      <td>4</td>\n      <td>0</td>\n      <td>1</td>\n      <td>1</td>\n      <td>131</td>\n      <td>...</td>\n      <td>1</td>\n      <td>0</td>\n      <td>0</td>\n      <td>1</td>\n      <td>0</td>\n      <td>1</td>\n      <td>1</td>\n      <td>0</td>\n      <td>0</td>\n      <td>0</td>\n    </tr>\n    <tr>\n      <th>5</th>\n      <td>50</td>\n      <td>299</td>\n      <td>R_2EnQRnC5z6MEkB0</td>\n      <td>40</td>\n      <td>0</td>\n      <td>3</td>\n      <td>0</td>\n      <td>1</td>\n      <td>1</td>\n      <td>21</td>\n      <td>...</td>\n      <td>0</td>\n      <td>0</td>\n      <td>0</td>\n      <td>0</td>\n      <td>0</td>\n      <td>0</td>\n      <td>0</td>\n      <td>0</td>\n      <td>0</td>\n      <td>0</td>\n    </tr>\n    <tr>\n      <th>6</th>\n      <td>79</td>\n      <td>485</td>\n      <td>R_2trGXz4cYEDIRpV</td>\n      <td>48</td>\n      <td>0</td>\n      <td>3</td>\n      <td>0</td>\n      <td>1</td>\n      <td>2</td>\n      <td>42</td>\n      <td>...</td>\n      <td>0</td>\n      <td>1</td>\n      <td>0</td>\n      <td>0</td>\n      <td>0</td>\n      <td>0</td>\n      <td>0</td>\n      <td>0</td>\n      <td>0</td>\n      <td>0</td>\n    </tr>\n    <tr>\n      <th>7</th>\n      <td>60</td>\n      <td>473</td>\n      <td>R_3Don6Yln25DC0o5</td>\n      <td>66</td>\n      <td>1</td>\n      <td>1</td>\n      <td>0</td>\n      <td>0</td>\n      <td>NaN</td>\n      <td>58</td>\n      <td>...</td>\n      <td>0</td>\n      <td>0</td>\n      <td>0</td>\n      <td>0</td>\n      <td>0</td>\n      <td>0</td>\n      <td>0</td>\n      <td>0</td>\n      <td>0</td>\n      <td>0</td>\n    </tr>\n    <tr>\n      <th>8</th>\n      <td>50</td>\n      <td>413</td>\n      <td>R_3kMrDfvEZspW2kd</td>\n      <td>31</td>\n      <td>0</td>\n      <td>2</td>\n      <td>0</td>\n      <td>1</td>\n      <td>2</td>\n      <td>20</td>\n      <td>...</td>\n      <td>0</td>\n      <td>0</td>\n      <td>0</td>\n      <td>0</td>\n      <td>0</td>\n      <td>0</td>\n      <td>0</td>\n      <td>0</td>\n      <td>0</td>\n      <td>0</td>\n    </tr>\n    <tr>\n      <th>9</th>\n      <td>50</td>\n      <td>302</td>\n      <td>R_3Mg26j5vNy3yWt8</td>\n      <td>48</td>\n      <td>0</td>\n      <td>5</td>\n      <td>0</td>\n      <td>1</td>\n      <td>4</td>\n      <td>87</td>\n      <td>...</td>\n      <td>0</td>\n      <td>0</td>\n      <td>0</td>\n      <td>0</td>\n      <td>0</td>\n      <td>0</td>\n      <td>0</td>\n      <td>0</td>\n      <td>0</td>\n      <td>0</td>\n    </tr>\n    <tr>\n      <th>10</th>\n      <td>88</td>\n      <td>308</td>\n      <td>R_UDE1Xrj0UjDvJUB</td>\n      <td>57</td>\n      <td>0</td>\n      <td>3</td>\n      <td>0</td>\n      <td>1</td>\n      <td>2</td>\n      <td>35</td>\n      <td>...</td>\n      <td>1</td>\n      <td>0</td>\n      <td>1</td>\n      <td>0</td>\n      <td>1</td>\n      <td>0</td>\n      <td>0</td>\n      <td>0</td>\n      <td>0</td>\n      <td>0</td>\n    </tr>\n    <tr>\n      <th>11</th>\n      <td>93</td>\n      <td>184</td>\n      <td>R_2aY7R6KLtMHfqlA</td>\n      <td>20</td>\n      <td>1</td>\n      <td>6</td>\n      <td>0</td>\n      <td>0</td>\n      <td>NaN</td>\n      <td>200</td>\n      <td>...</td>\n      <td>0</td>\n      <td>1</td>\n      <td>1</td>\n      <td>0</td>\n      <td>0</td>\n      <td>1</td>\n      <td>0</td>\n      <td>1</td>\n      <td>0</td>\n      <td>0</td>\n    </tr>\n    <tr>\n      <th>12</th>\n      <td>55</td>\n      <td>4003</td>\n      <td>R_r8bb9T6nYZTIRfr</td>\n      <td>45</td>\n      <td>0</td>\n      <td>6</td>\n      <td>0</td>\n      <td>1</td>\n      <td>2</td>\n      <td>60</td>\n      <td>...</td>\n      <td>0</td>\n      <td>0</td>\n      <td>0</td>\n      <td>0</td>\n      <td>0</td>\n      <td>0</td>\n      <td>0</td>\n      <td>0</td>\n      <td>0</td>\n      <td>0</td>\n    </tr>\n    <tr>\n      <th>13</th>\n      <td>50</td>\n      <td>261</td>\n      <td>R_3HqcKQZSgll15IK</td>\n      <td>25</td>\n      <td>1</td>\n      <td>6</td>\n      <td>0</td>\n      <td>1</td>\n      <td>5</td>\n      <td>105</td>\n      <td>...</td>\n      <td>0</td>\n      <td>0</td>\n      <td>0</td>\n      <td>0</td>\n      <td>0</td>\n      <td>0</td>\n      <td>0</td>\n      <td>0</td>\n      <td>0</td>\n      <td>0</td>\n    </tr>\n    <tr>\n      <th>14</th>\n      <td>55</td>\n      <td>374</td>\n      <td>R_2OZ9GbFDzgwVRGa</td>\n      <td>65</td>\n      <td>1</td>\n      <td>1</td>\n      <td>0</td>\n      <td>1</td>\n      <td>1</td>\n      <td>75</td>\n      <td>...</td>\n      <td>0</td>\n      <td>0</td>\n      <td>0</td>\n      <td>0</td>\n      <td>0</td>\n      <td>0</td>\n      <td>0</td>\n      <td>0</td>\n      <td>0</td>\n      <td>0</td>\n    </tr>\n    <tr>\n      <th>15</th>\n      <td>74</td>\n      <td>172</td>\n      <td>R_9yhYqtUm0FEkOJj</td>\n      <td>25</td>\n      <td>0</td>\n      <td>6</td>\n      <td>0</td>\n      <td>0</td>\n      <td>NaN</td>\n      <td>99</td>\n      <td>...</td>\n      <td>0</td>\n      <td>0</td>\n      <td>0</td>\n      <td>0</td>\n      <td>0</td>\n      <td>0</td>\n      <td>0</td>\n      <td>0</td>\n      <td>0</td>\n      <td>0</td>\n    </tr>\n    <tr>\n      <th>16</th>\n      <td>69</td>\n      <td>208</td>\n      <td>R_3PiZs2PUpimz4mE</td>\n      <td>27</td>\n      <td>1</td>\n      <td>6</td>\n      <td>0</td>\n      <td>0</td>\n      <td>NaN</td>\n      <td>29</td>\n      <td>...</td>\n      <td>0</td>\n      <td>0</td>\n      <td>0</td>\n      <td>0</td>\n      <td>0</td>\n      <td>0</td>\n      <td>0</td>\n      <td>0</td>\n      <td>0</td>\n      <td>0</td>\n    </tr>\n  </tbody>\n</table>\n<p>15 rows × 113 columns</p>\n</div>"
     },
     "execution_count": 25,
     "metadata": {},
     "output_type": "execute_result"
    }
   ],
   "source": [
    "data_num"
   ],
   "metadata": {
    "collapsed": false,
    "pycharm": {
     "name": "#%%\n"
    }
   }
  },
  {
   "cell_type": "code",
   "execution_count": 26,
   "outputs": [
    {
     "data": {
      "text/plain": "           ResponseId  Gender_f Age Income  No Income  Energy Consumption  \\\n0   R_2QhVhS7x3hq6XKf         0  36      5          0                   0   \n1   R_1nUxCAfYXJc9EUW         1  44      5          0                   0   \n2   R_3EnDsvWAIogkXzz         0  50      4          0                   1   \n3   R_2EnQRnC5z6MEkB0         0  40      3          0                   1   \n4   R_2trGXz4cYEDIRpV         0  48      3          0                   1   \n5   R_3Don6Yln25DC0o5         1  66      1          0                   0   \n6   R_3kMrDfvEZspW2kd         0  31      2          0                   1   \n7   R_3Mg26j5vNy3yWt8         0  48      5          0                   1   \n8   R_UDE1Xrj0UjDvJUB         0  57      3          0                   1   \n9   R_2aY7R6KLtMHfqlA         1  20      6          0                   0   \n10  R_r8bb9T6nYZTIRfr         0  45      6          0                   1   \n11  R_3HqcKQZSgll15IK         1  25      6          0                   1   \n12  R_2OZ9GbFDzgwVRGa         1  65      1          0                   1   \n13  R_9yhYqtUm0FEkOJj         0  25      6          0                   0   \n14  R_3PiZs2PUpimz4mE         1  27      6          0                   0   \n\n   payment_1  Region West  Region East Household_size Concern_1  \\\n0         29            0            0              3         3   \n1         29            0            1              4         2   \n2        131            0            1              2         1   \n3         21            1            0              1         5   \n4         42            1            0              4         4   \n5         58            0            1              1         3   \n6         20            0            1              2         2   \n7         87            1            0              7         2   \n8         35            0            0              2         2   \n9        200            0            1              3         3   \n10        60            1            0              3         2   \n11       105            0            1              5         3   \n12        75            0            0              1         2   \n13        99            0            1              4         3   \n14        29            1            0              2         4   \n\n   RES_attitude_1  Know_green_provider  Providers_count  Appliance_count  \\\n0               3                    0                5                3   \n1               4                    0                1                4   \n2               4                    0                2                6   \n3               2                    0                4                4   \n4               2                    0                4                3   \n5               3                    0                1                3   \n6               4                    0                2                4   \n7               4                    0                3                5   \n8               5                    0                4                4   \n9               4                    0                3                7   \n10              4                    0                2                6   \n11              3                    0                1                6   \n12              4                    0                4                4   \n13              5                    1                7                6   \n14              5                    0                5                4   \n\n    Task_temp  Task_consumption  Task_appliances  Task_source  \n0           3                 4                5            3  \n1           4                 4                4            4  \n2           2                 4                4            2  \n3           2                 5                5            1  \n4           4                 3                4            3  \n5           3                 5                5            1  \n6           1                 5                5            1  \n7           2                 4                5            3  \n8           3                 5                5            2  \n9           3                 5                3            1  \n10          3                 4                5            3  \n11          2                 1                5            3  \n12          4                 5                4            2  \n13          1                 4                4            1  \n14          3                 5                4            3  ",
      "text/html": "<div>\n<style scoped>\n    .dataframe tbody tr th:only-of-type {\n        vertical-align: middle;\n    }\n\n    .dataframe tbody tr th {\n        vertical-align: top;\n    }\n\n    .dataframe thead th {\n        text-align: right;\n    }\n</style>\n<table border=\"1\" class=\"dataframe\">\n  <thead>\n    <tr style=\"text-align: right;\">\n      <th></th>\n      <th>ResponseId</th>\n      <th>Gender_f</th>\n      <th>Age</th>\n      <th>Income</th>\n      <th>No Income</th>\n      <th>Energy Consumption</th>\n      <th>payment_1</th>\n      <th>Region West</th>\n      <th>Region East</th>\n      <th>Household_size</th>\n      <th>Concern_1</th>\n      <th>RES_attitude_1</th>\n      <th>Know_green_provider</th>\n      <th>Providers_count</th>\n      <th>Appliance_count</th>\n      <th>Task_temp</th>\n      <th>Task_consumption</th>\n      <th>Task_appliances</th>\n      <th>Task_source</th>\n    </tr>\n  </thead>\n  <tbody>\n    <tr>\n      <th>0</th>\n      <td>R_2QhVhS7x3hq6XKf</td>\n      <td>0</td>\n      <td>36</td>\n      <td>5</td>\n      <td>0</td>\n      <td>0</td>\n      <td>29</td>\n      <td>0</td>\n      <td>0</td>\n      <td>3</td>\n      <td>3</td>\n      <td>3</td>\n      <td>0</td>\n      <td>5</td>\n      <td>3</td>\n      <td>3</td>\n      <td>4</td>\n      <td>5</td>\n      <td>3</td>\n    </tr>\n    <tr>\n      <th>1</th>\n      <td>R_1nUxCAfYXJc9EUW</td>\n      <td>1</td>\n      <td>44</td>\n      <td>5</td>\n      <td>0</td>\n      <td>0</td>\n      <td>29</td>\n      <td>0</td>\n      <td>1</td>\n      <td>4</td>\n      <td>2</td>\n      <td>4</td>\n      <td>0</td>\n      <td>1</td>\n      <td>4</td>\n      <td>4</td>\n      <td>4</td>\n      <td>4</td>\n      <td>4</td>\n    </tr>\n    <tr>\n      <th>2</th>\n      <td>R_3EnDsvWAIogkXzz</td>\n      <td>0</td>\n      <td>50</td>\n      <td>4</td>\n      <td>0</td>\n      <td>1</td>\n      <td>131</td>\n      <td>0</td>\n      <td>1</td>\n      <td>2</td>\n      <td>1</td>\n      <td>4</td>\n      <td>0</td>\n      <td>2</td>\n      <td>6</td>\n      <td>2</td>\n      <td>4</td>\n      <td>4</td>\n      <td>2</td>\n    </tr>\n    <tr>\n      <th>3</th>\n      <td>R_2EnQRnC5z6MEkB0</td>\n      <td>0</td>\n      <td>40</td>\n      <td>3</td>\n      <td>0</td>\n      <td>1</td>\n      <td>21</td>\n      <td>1</td>\n      <td>0</td>\n      <td>1</td>\n      <td>5</td>\n      <td>2</td>\n      <td>0</td>\n      <td>4</td>\n      <td>4</td>\n      <td>2</td>\n      <td>5</td>\n      <td>5</td>\n      <td>1</td>\n    </tr>\n    <tr>\n      <th>4</th>\n      <td>R_2trGXz4cYEDIRpV</td>\n      <td>0</td>\n      <td>48</td>\n      <td>3</td>\n      <td>0</td>\n      <td>1</td>\n      <td>42</td>\n      <td>1</td>\n      <td>0</td>\n      <td>4</td>\n      <td>4</td>\n      <td>2</td>\n      <td>0</td>\n      <td>4</td>\n      <td>3</td>\n      <td>4</td>\n      <td>3</td>\n      <td>4</td>\n      <td>3</td>\n    </tr>\n    <tr>\n      <th>5</th>\n      <td>R_3Don6Yln25DC0o5</td>\n      <td>1</td>\n      <td>66</td>\n      <td>1</td>\n      <td>0</td>\n      <td>0</td>\n      <td>58</td>\n      <td>0</td>\n      <td>1</td>\n      <td>1</td>\n      <td>3</td>\n      <td>3</td>\n      <td>0</td>\n      <td>1</td>\n      <td>3</td>\n      <td>3</td>\n      <td>5</td>\n      <td>5</td>\n      <td>1</td>\n    </tr>\n    <tr>\n      <th>6</th>\n      <td>R_3kMrDfvEZspW2kd</td>\n      <td>0</td>\n      <td>31</td>\n      <td>2</td>\n      <td>0</td>\n      <td>1</td>\n      <td>20</td>\n      <td>0</td>\n      <td>1</td>\n      <td>2</td>\n      <td>2</td>\n      <td>4</td>\n      <td>0</td>\n      <td>2</td>\n      <td>4</td>\n      <td>1</td>\n      <td>5</td>\n      <td>5</td>\n      <td>1</td>\n    </tr>\n    <tr>\n      <th>7</th>\n      <td>R_3Mg26j5vNy3yWt8</td>\n      <td>0</td>\n      <td>48</td>\n      <td>5</td>\n      <td>0</td>\n      <td>1</td>\n      <td>87</td>\n      <td>1</td>\n      <td>0</td>\n      <td>7</td>\n      <td>2</td>\n      <td>4</td>\n      <td>0</td>\n      <td>3</td>\n      <td>5</td>\n      <td>2</td>\n      <td>4</td>\n      <td>5</td>\n      <td>3</td>\n    </tr>\n    <tr>\n      <th>8</th>\n      <td>R_UDE1Xrj0UjDvJUB</td>\n      <td>0</td>\n      <td>57</td>\n      <td>3</td>\n      <td>0</td>\n      <td>1</td>\n      <td>35</td>\n      <td>0</td>\n      <td>0</td>\n      <td>2</td>\n      <td>2</td>\n      <td>5</td>\n      <td>0</td>\n      <td>4</td>\n      <td>4</td>\n      <td>3</td>\n      <td>5</td>\n      <td>5</td>\n      <td>2</td>\n    </tr>\n    <tr>\n      <th>9</th>\n      <td>R_2aY7R6KLtMHfqlA</td>\n      <td>1</td>\n      <td>20</td>\n      <td>6</td>\n      <td>0</td>\n      <td>0</td>\n      <td>200</td>\n      <td>0</td>\n      <td>1</td>\n      <td>3</td>\n      <td>3</td>\n      <td>4</td>\n      <td>0</td>\n      <td>3</td>\n      <td>7</td>\n      <td>3</td>\n      <td>5</td>\n      <td>3</td>\n      <td>1</td>\n    </tr>\n    <tr>\n      <th>10</th>\n      <td>R_r8bb9T6nYZTIRfr</td>\n      <td>0</td>\n      <td>45</td>\n      <td>6</td>\n      <td>0</td>\n      <td>1</td>\n      <td>60</td>\n      <td>1</td>\n      <td>0</td>\n      <td>3</td>\n      <td>2</td>\n      <td>4</td>\n      <td>0</td>\n      <td>2</td>\n      <td>6</td>\n      <td>3</td>\n      <td>4</td>\n      <td>5</td>\n      <td>3</td>\n    </tr>\n    <tr>\n      <th>11</th>\n      <td>R_3HqcKQZSgll15IK</td>\n      <td>1</td>\n      <td>25</td>\n      <td>6</td>\n      <td>0</td>\n      <td>1</td>\n      <td>105</td>\n      <td>0</td>\n      <td>1</td>\n      <td>5</td>\n      <td>3</td>\n      <td>3</td>\n      <td>0</td>\n      <td>1</td>\n      <td>6</td>\n      <td>2</td>\n      <td>1</td>\n      <td>5</td>\n      <td>3</td>\n    </tr>\n    <tr>\n      <th>12</th>\n      <td>R_2OZ9GbFDzgwVRGa</td>\n      <td>1</td>\n      <td>65</td>\n      <td>1</td>\n      <td>0</td>\n      <td>1</td>\n      <td>75</td>\n      <td>0</td>\n      <td>0</td>\n      <td>1</td>\n      <td>2</td>\n      <td>4</td>\n      <td>0</td>\n      <td>4</td>\n      <td>4</td>\n      <td>4</td>\n      <td>5</td>\n      <td>4</td>\n      <td>2</td>\n    </tr>\n    <tr>\n      <th>13</th>\n      <td>R_9yhYqtUm0FEkOJj</td>\n      <td>0</td>\n      <td>25</td>\n      <td>6</td>\n      <td>0</td>\n      <td>0</td>\n      <td>99</td>\n      <td>0</td>\n      <td>1</td>\n      <td>4</td>\n      <td>3</td>\n      <td>5</td>\n      <td>1</td>\n      <td>7</td>\n      <td>6</td>\n      <td>1</td>\n      <td>4</td>\n      <td>4</td>\n      <td>1</td>\n    </tr>\n    <tr>\n      <th>14</th>\n      <td>R_3PiZs2PUpimz4mE</td>\n      <td>1</td>\n      <td>27</td>\n      <td>6</td>\n      <td>0</td>\n      <td>0</td>\n      <td>29</td>\n      <td>1</td>\n      <td>0</td>\n      <td>2</td>\n      <td>4</td>\n      <td>5</td>\n      <td>0</td>\n      <td>5</td>\n      <td>4</td>\n      <td>3</td>\n      <td>5</td>\n      <td>4</td>\n      <td>3</td>\n    </tr>\n  </tbody>\n</table>\n</div>"
     },
     "execution_count": 26,
     "metadata": {},
     "output_type": "execute_result"
    }
   ],
   "source": [
    "headers = ['ResponseId','Gender_f','Age','Income','No Income','Energy Consumption','payment_1','Region West','Region East','Household_size','Concern_1','RES_attitude_1','Know_green_provider','Providers_count','Appliance_count','Task_temp','Task_consumption','Task_appliances','Task_source']\n",
    "socio = data_num[headers]\n",
    "socio = socio.reset_index()\n",
    "socio = socio.drop(columns='index')\n",
    "#socio = socio.set_index('ResponseId')\n",
    "socio"
   ],
   "metadata": {
    "collapsed": false,
    "pycharm": {
     "name": "#%%\n"
    }
   }
  },
  {
   "cell_type": "code",
   "execution_count": 27,
   "outputs": [
    {
     "data": {
      "text/plain": "ResponseId                \nR_2QhVhS7x3hq6XKf  Set1_a     1\n                   Set1_b     0\n                   Set2_a     1\n                   Set2_b     0\n                   Set3_a     1\n                             ..\nR_3PiZs2PUpimz4mE  Set10_b    0\n                   Set11_a    0\n                   Set11_b    0\n                   Set12_a    0\n                   Set12_b    0\nLength: 360, dtype: int64"
     },
     "execution_count": 27,
     "metadata": {},
     "output_type": "execute_result"
    }
   ],
   "source": [
    "analysis1"
   ],
   "metadata": {
    "collapsed": false,
    "pycharm": {
     "name": "#%%\n"
    }
   }
  },
  {
   "cell_type": "code",
   "execution_count": 28,
   "outputs": [],
   "source": [
    "analysis3 = analysis.reset_index()\n",
    "analysis2 = analysis3.melt(id_vars=['ResponseId'],value_vars=new_sets)"
   ],
   "metadata": {
    "collapsed": false,
    "pycharm": {
     "name": "#%%\n"
    }
   }
  },
  {
   "cell_type": "code",
   "execution_count": 29,
   "outputs": [],
   "source": [
    "group = analysis2.groupby(['ResponseId','variable'])\n",
    "df33 = group.apply(lambda x: x['value'].unique())"
   ],
   "metadata": {
    "collapsed": false,
    "pycharm": {
     "name": "#%%\n"
    }
   }
  },
  {
   "cell_type": "code",
   "execution_count": 30,
   "outputs": [
    {
     "data": {
      "text/plain": "ResponseId         variable\nR_1nUxCAfYXJc9EUW  Set10_a     [0]\n                   Set10_b     [0]\n                   Set11_a     [0]\n                   Set11_b     [0]\n                   Set12_a     [0]\n                              ... \nR_r8bb9T6nYZTIRfr  Set7_b      [0]\n                   Set8_a      [0]\n                   Set8_b      [0]\n                   Set9_a      [0]\n                   Set9_b      [0]\nLength: 360, dtype: object"
     },
     "execution_count": 30,
     "metadata": {},
     "output_type": "execute_result"
    }
   ],
   "source": [
    "df33"
   ],
   "metadata": {
    "collapsed": false,
    "pycharm": {
     "name": "#%%\n"
    }
   }
  },
  {
   "cell_type": "code",
   "execution_count": 31,
   "outputs": [
    {
     "data": {
      "text/plain": "            ResponseId variable  value\n0    R_2QhVhS7x3hq6XKf   Set1_a      1\n1    R_1nUxCAfYXJc9EUW   Set1_a      0\n2    R_3EnDsvWAIogkXzz   Set1_a      1\n3    R_2EnQRnC5z6MEkB0   Set1_a      1\n4    R_2trGXz4cYEDIRpV   Set1_a      0\n..                 ...      ...    ...\n355  R_r8bb9T6nYZTIRfr  Set12_b      0\n356  R_3HqcKQZSgll15IK  Set12_b      0\n357  R_2OZ9GbFDzgwVRGa  Set12_b      0\n358  R_9yhYqtUm0FEkOJj  Set12_b      0\n359  R_3PiZs2PUpimz4mE  Set12_b      0\n\n[360 rows x 3 columns]",
      "text/html": "<div>\n<style scoped>\n    .dataframe tbody tr th:only-of-type {\n        vertical-align: middle;\n    }\n\n    .dataframe tbody tr th {\n        vertical-align: top;\n    }\n\n    .dataframe thead th {\n        text-align: right;\n    }\n</style>\n<table border=\"1\" class=\"dataframe\">\n  <thead>\n    <tr style=\"text-align: right;\">\n      <th></th>\n      <th>ResponseId</th>\n      <th>variable</th>\n      <th>value</th>\n    </tr>\n  </thead>\n  <tbody>\n    <tr>\n      <th>0</th>\n      <td>R_2QhVhS7x3hq6XKf</td>\n      <td>Set1_a</td>\n      <td>1</td>\n    </tr>\n    <tr>\n      <th>1</th>\n      <td>R_1nUxCAfYXJc9EUW</td>\n      <td>Set1_a</td>\n      <td>0</td>\n    </tr>\n    <tr>\n      <th>2</th>\n      <td>R_3EnDsvWAIogkXzz</td>\n      <td>Set1_a</td>\n      <td>1</td>\n    </tr>\n    <tr>\n      <th>3</th>\n      <td>R_2EnQRnC5z6MEkB0</td>\n      <td>Set1_a</td>\n      <td>1</td>\n    </tr>\n    <tr>\n      <th>4</th>\n      <td>R_2trGXz4cYEDIRpV</td>\n      <td>Set1_a</td>\n      <td>0</td>\n    </tr>\n    <tr>\n      <th>...</th>\n      <td>...</td>\n      <td>...</td>\n      <td>...</td>\n    </tr>\n    <tr>\n      <th>355</th>\n      <td>R_r8bb9T6nYZTIRfr</td>\n      <td>Set12_b</td>\n      <td>0</td>\n    </tr>\n    <tr>\n      <th>356</th>\n      <td>R_3HqcKQZSgll15IK</td>\n      <td>Set12_b</td>\n      <td>0</td>\n    </tr>\n    <tr>\n      <th>357</th>\n      <td>R_2OZ9GbFDzgwVRGa</td>\n      <td>Set12_b</td>\n      <td>0</td>\n    </tr>\n    <tr>\n      <th>358</th>\n      <td>R_9yhYqtUm0FEkOJj</td>\n      <td>Set12_b</td>\n      <td>0</td>\n    </tr>\n    <tr>\n      <th>359</th>\n      <td>R_3PiZs2PUpimz4mE</td>\n      <td>Set12_b</td>\n      <td>0</td>\n    </tr>\n  </tbody>\n</table>\n<p>360 rows × 3 columns</p>\n</div>"
     },
     "execution_count": 31,
     "metadata": {},
     "output_type": "execute_result"
    }
   ],
   "source": [
    "analysis2"
   ],
   "metadata": {
    "collapsed": false,
    "pycharm": {
     "name": "#%%\n"
    }
   }
  },
  {
   "cell_type": "code",
   "execution_count": 32,
   "outputs": [
    {
     "data": {
      "text/plain": "    Unnamed: 0  Var11  Var12  Var13  Var21  Var22  Var23  Var24  Var25  Var31  \\\n0    set1.alt1      1      0      0     -1     -1     -1     -1     -1     -1   \n1    set1.alt2      0      1      0      0      0      0      0      1      1   \n2    set2.alt1      1      0      0     -1     -1     -1     -1     -1     -1   \n3    set2.alt2      0      1      0      0      0      0      1      0      1   \n4    set3.alt1     -1     -1     -1      0      0      1      0      0      1   \n5    set3.alt2     -1     -1     -1      1      0      0      0      0     -1   \n6    set4.alt1     -1     -1     -1      0      0      0      1      0     -1   \n7    set4.alt2     -1     -1     -1      1      0      0      0      0      1   \n8    set5.alt1      0      1      0      0      1      0      0      0      1   \n9    set5.alt2      1      0      0     -1     -1     -1     -1     -1      1   \n10   set6.alt1      0      0      1      1      0      0      0      0     -1   \n11   set6.alt2      1      0      0     -1     -1     -1     -1     -1      1   \n12   set7.alt1     -1     -1     -1      0      0      0      0      1      1   \n13   set7.alt2     -1     -1     -1      0      0      1      0      0      1   \n14   set8.alt1     -1     -1     -1      0      0      1      0      0     -1   \n15   set8.alt2      0      0      1      0      1      0      0      0      1   \n16   set9.alt1      0      1      0      0      0      1      0      0     -1   \n17   set9.alt2     -1     -1     -1      1      0      0      0      0     -1   \n18  set10.alt1      0      0      1      0      0      0      1      0      1   \n19  set10.alt2      0      1      0      0      0      0      0      1      1   \n20  set11.alt1      0      0      1      0      0      0      0      1      1   \n21  set11.alt2      0      1      0      0      0      0      1      0     -1   \n22  set12.alt1      0      0      1      1      0      0      0      0     -1   \n23  set12.alt2     -1     -1     -1      0      1      0      0      0      1   \n\n    Var41  Var51  \n0       1     -1  \n1      -1      1  \n2       1     -1  \n3      -1      1  \n4       1     -1  \n5      -1      1  \n6       1      1  \n7       1     -1  \n8      -1      1  \n9      -1     -1  \n10      1      1  \n11     -1     -1  \n12      1      1  \n13     -1     -1  \n14      1      1  \n15      1     -1  \n16     -1      1  \n17      1     -1  \n18     -1      1  \n19     -1     -1  \n20     -1      1  \n21      1     -1  \n22      1      1  \n23     -1     -1  ",
      "text/html": "<div>\n<style scoped>\n    .dataframe tbody tr th:only-of-type {\n        vertical-align: middle;\n    }\n\n    .dataframe tbody tr th {\n        vertical-align: top;\n    }\n\n    .dataframe thead th {\n        text-align: right;\n    }\n</style>\n<table border=\"1\" class=\"dataframe\">\n  <thead>\n    <tr style=\"text-align: right;\">\n      <th></th>\n      <th>Unnamed: 0</th>\n      <th>Var11</th>\n      <th>Var12</th>\n      <th>Var13</th>\n      <th>Var21</th>\n      <th>Var22</th>\n      <th>Var23</th>\n      <th>Var24</th>\n      <th>Var25</th>\n      <th>Var31</th>\n      <th>Var41</th>\n      <th>Var51</th>\n    </tr>\n  </thead>\n  <tbody>\n    <tr>\n      <th>0</th>\n      <td>set1.alt1</td>\n      <td>1</td>\n      <td>0</td>\n      <td>0</td>\n      <td>-1</td>\n      <td>-1</td>\n      <td>-1</td>\n      <td>-1</td>\n      <td>-1</td>\n      <td>-1</td>\n      <td>1</td>\n      <td>-1</td>\n    </tr>\n    <tr>\n      <th>1</th>\n      <td>set1.alt2</td>\n      <td>0</td>\n      <td>1</td>\n      <td>0</td>\n      <td>0</td>\n      <td>0</td>\n      <td>0</td>\n      <td>0</td>\n      <td>1</td>\n      <td>1</td>\n      <td>-1</td>\n      <td>1</td>\n    </tr>\n    <tr>\n      <th>2</th>\n      <td>set2.alt1</td>\n      <td>1</td>\n      <td>0</td>\n      <td>0</td>\n      <td>-1</td>\n      <td>-1</td>\n      <td>-1</td>\n      <td>-1</td>\n      <td>-1</td>\n      <td>-1</td>\n      <td>1</td>\n      <td>-1</td>\n    </tr>\n    <tr>\n      <th>3</th>\n      <td>set2.alt2</td>\n      <td>0</td>\n      <td>1</td>\n      <td>0</td>\n      <td>0</td>\n      <td>0</td>\n      <td>0</td>\n      <td>1</td>\n      <td>0</td>\n      <td>1</td>\n      <td>-1</td>\n      <td>1</td>\n    </tr>\n    <tr>\n      <th>4</th>\n      <td>set3.alt1</td>\n      <td>-1</td>\n      <td>-1</td>\n      <td>-1</td>\n      <td>0</td>\n      <td>0</td>\n      <td>1</td>\n      <td>0</td>\n      <td>0</td>\n      <td>1</td>\n      <td>1</td>\n      <td>-1</td>\n    </tr>\n    <tr>\n      <th>5</th>\n      <td>set3.alt2</td>\n      <td>-1</td>\n      <td>-1</td>\n      <td>-1</td>\n      <td>1</td>\n      <td>0</td>\n      <td>0</td>\n      <td>0</td>\n      <td>0</td>\n      <td>-1</td>\n      <td>-1</td>\n      <td>1</td>\n    </tr>\n    <tr>\n      <th>6</th>\n      <td>set4.alt1</td>\n      <td>-1</td>\n      <td>-1</td>\n      <td>-1</td>\n      <td>0</td>\n      <td>0</td>\n      <td>0</td>\n      <td>1</td>\n      <td>0</td>\n      <td>-1</td>\n      <td>1</td>\n      <td>1</td>\n    </tr>\n    <tr>\n      <th>7</th>\n      <td>set4.alt2</td>\n      <td>-1</td>\n      <td>-1</td>\n      <td>-1</td>\n      <td>1</td>\n      <td>0</td>\n      <td>0</td>\n      <td>0</td>\n      <td>0</td>\n      <td>1</td>\n      <td>1</td>\n      <td>-1</td>\n    </tr>\n    <tr>\n      <th>8</th>\n      <td>set5.alt1</td>\n      <td>0</td>\n      <td>1</td>\n      <td>0</td>\n      <td>0</td>\n      <td>1</td>\n      <td>0</td>\n      <td>0</td>\n      <td>0</td>\n      <td>1</td>\n      <td>-1</td>\n      <td>1</td>\n    </tr>\n    <tr>\n      <th>9</th>\n      <td>set5.alt2</td>\n      <td>1</td>\n      <td>0</td>\n      <td>0</td>\n      <td>-1</td>\n      <td>-1</td>\n      <td>-1</td>\n      <td>-1</td>\n      <td>-1</td>\n      <td>1</td>\n      <td>-1</td>\n      <td>-1</td>\n    </tr>\n    <tr>\n      <th>10</th>\n      <td>set6.alt1</td>\n      <td>0</td>\n      <td>0</td>\n      <td>1</td>\n      <td>1</td>\n      <td>0</td>\n      <td>0</td>\n      <td>0</td>\n      <td>0</td>\n      <td>-1</td>\n      <td>1</td>\n      <td>1</td>\n    </tr>\n    <tr>\n      <th>11</th>\n      <td>set6.alt2</td>\n      <td>1</td>\n      <td>0</td>\n      <td>0</td>\n      <td>-1</td>\n      <td>-1</td>\n      <td>-1</td>\n      <td>-1</td>\n      <td>-1</td>\n      <td>1</td>\n      <td>-1</td>\n      <td>-1</td>\n    </tr>\n    <tr>\n      <th>12</th>\n      <td>set7.alt1</td>\n      <td>-1</td>\n      <td>-1</td>\n      <td>-1</td>\n      <td>0</td>\n      <td>0</td>\n      <td>0</td>\n      <td>0</td>\n      <td>1</td>\n      <td>1</td>\n      <td>1</td>\n      <td>1</td>\n    </tr>\n    <tr>\n      <th>13</th>\n      <td>set7.alt2</td>\n      <td>-1</td>\n      <td>-1</td>\n      <td>-1</td>\n      <td>0</td>\n      <td>0</td>\n      <td>1</td>\n      <td>0</td>\n      <td>0</td>\n      <td>1</td>\n      <td>-1</td>\n      <td>-1</td>\n    </tr>\n    <tr>\n      <th>14</th>\n      <td>set8.alt1</td>\n      <td>-1</td>\n      <td>-1</td>\n      <td>-1</td>\n      <td>0</td>\n      <td>0</td>\n      <td>1</td>\n      <td>0</td>\n      <td>0</td>\n      <td>-1</td>\n      <td>1</td>\n      <td>1</td>\n    </tr>\n    <tr>\n      <th>15</th>\n      <td>set8.alt2</td>\n      <td>0</td>\n      <td>0</td>\n      <td>1</td>\n      <td>0</td>\n      <td>1</td>\n      <td>0</td>\n      <td>0</td>\n      <td>0</td>\n      <td>1</td>\n      <td>1</td>\n      <td>-1</td>\n    </tr>\n    <tr>\n      <th>16</th>\n      <td>set9.alt1</td>\n      <td>0</td>\n      <td>1</td>\n      <td>0</td>\n      <td>0</td>\n      <td>0</td>\n      <td>1</td>\n      <td>0</td>\n      <td>0</td>\n      <td>-1</td>\n      <td>-1</td>\n      <td>1</td>\n    </tr>\n    <tr>\n      <th>17</th>\n      <td>set9.alt2</td>\n      <td>-1</td>\n      <td>-1</td>\n      <td>-1</td>\n      <td>1</td>\n      <td>0</td>\n      <td>0</td>\n      <td>0</td>\n      <td>0</td>\n      <td>-1</td>\n      <td>1</td>\n      <td>-1</td>\n    </tr>\n    <tr>\n      <th>18</th>\n      <td>set10.alt1</td>\n      <td>0</td>\n      <td>0</td>\n      <td>1</td>\n      <td>0</td>\n      <td>0</td>\n      <td>0</td>\n      <td>1</td>\n      <td>0</td>\n      <td>1</td>\n      <td>-1</td>\n      <td>1</td>\n    </tr>\n    <tr>\n      <th>19</th>\n      <td>set10.alt2</td>\n      <td>0</td>\n      <td>1</td>\n      <td>0</td>\n      <td>0</td>\n      <td>0</td>\n      <td>0</td>\n      <td>0</td>\n      <td>1</td>\n      <td>1</td>\n      <td>-1</td>\n      <td>-1</td>\n    </tr>\n    <tr>\n      <th>20</th>\n      <td>set11.alt1</td>\n      <td>0</td>\n      <td>0</td>\n      <td>1</td>\n      <td>0</td>\n      <td>0</td>\n      <td>0</td>\n      <td>0</td>\n      <td>1</td>\n      <td>1</td>\n      <td>-1</td>\n      <td>1</td>\n    </tr>\n    <tr>\n      <th>21</th>\n      <td>set11.alt2</td>\n      <td>0</td>\n      <td>1</td>\n      <td>0</td>\n      <td>0</td>\n      <td>0</td>\n      <td>0</td>\n      <td>1</td>\n      <td>0</td>\n      <td>-1</td>\n      <td>1</td>\n      <td>-1</td>\n    </tr>\n    <tr>\n      <th>22</th>\n      <td>set12.alt1</td>\n      <td>0</td>\n      <td>0</td>\n      <td>1</td>\n      <td>1</td>\n      <td>0</td>\n      <td>0</td>\n      <td>0</td>\n      <td>0</td>\n      <td>-1</td>\n      <td>1</td>\n      <td>1</td>\n    </tr>\n    <tr>\n      <th>23</th>\n      <td>set12.alt2</td>\n      <td>-1</td>\n      <td>-1</td>\n      <td>-1</td>\n      <td>0</td>\n      <td>1</td>\n      <td>0</td>\n      <td>0</td>\n      <td>0</td>\n      <td>1</td>\n      <td>-1</td>\n      <td>-1</td>\n    </tr>\n  </tbody>\n</table>\n</div>"
     },
     "execution_count": 32,
     "metadata": {},
     "output_type": "execute_result"
    }
   ],
   "source": [
    "#Design Merge\n",
    "design_file = \"/design_final.csv\"\n",
    "design = pd.read_csv(folder+design_file)\n",
    "design"
   ],
   "metadata": {
    "collapsed": false,
    "pycharm": {
     "name": "#%%\n"
    }
   }
  },
  {
   "cell_type": "code",
   "execution_count": 33,
   "outputs": [],
   "source": [
    "#Columns renaming All RES\", \"wind\", \"solar\",\"hydro\",\"biomass\",\"normal\n",
    "design_keys = {'Var11':'PriceMin5','Var12':'Price0','Var13':'Price2','Var21':'All RES','Var22':'wind','Var23':'solar','Var24':'hydro','Var25':'biomass','Var31':'Slovak','Var41':'Can Change','Var51':'No change'}\n",
    "design.rename(columns=design_keys, inplace=True)"
   ],
   "metadata": {
    "collapsed": false,
    "pycharm": {
     "name": "#%%\n"
    }
   }
  },
  {
   "cell_type": "code",
   "execution_count": 34,
   "outputs": [],
   "source": [
    "#Row rename\n",
    "design = design.drop(columns='Unnamed: 0')\n",
    "design['SetID'] = new_sets\n"
   ],
   "metadata": {
    "collapsed": false,
    "pycharm": {
     "name": "#%%\n"
    }
   }
  },
  {
   "cell_type": "code",
   "execution_count": 35,
   "outputs": [
    {
     "data": {
      "text/plain": "            ResponseId    SetID  value\n0    R_2QhVhS7x3hq6XKf   Set1_a      1\n1    R_1nUxCAfYXJc9EUW   Set1_a      0\n2    R_3EnDsvWAIogkXzz   Set1_a      1\n3    R_2EnQRnC5z6MEkB0   Set1_a      1\n4    R_2trGXz4cYEDIRpV   Set1_a      0\n..                 ...      ...    ...\n355  R_r8bb9T6nYZTIRfr  Set12_b      0\n356  R_3HqcKQZSgll15IK  Set12_b      0\n357  R_2OZ9GbFDzgwVRGa  Set12_b      0\n358  R_9yhYqtUm0FEkOJj  Set12_b      0\n359  R_3PiZs2PUpimz4mE  Set12_b      0\n\n[360 rows x 3 columns]",
      "text/html": "<div>\n<style scoped>\n    .dataframe tbody tr th:only-of-type {\n        vertical-align: middle;\n    }\n\n    .dataframe tbody tr th {\n        vertical-align: top;\n    }\n\n    .dataframe thead th {\n        text-align: right;\n    }\n</style>\n<table border=\"1\" class=\"dataframe\">\n  <thead>\n    <tr style=\"text-align: right;\">\n      <th></th>\n      <th>ResponseId</th>\n      <th>SetID</th>\n      <th>value</th>\n    </tr>\n  </thead>\n  <tbody>\n    <tr>\n      <th>0</th>\n      <td>R_2QhVhS7x3hq6XKf</td>\n      <td>Set1_a</td>\n      <td>1</td>\n    </tr>\n    <tr>\n      <th>1</th>\n      <td>R_1nUxCAfYXJc9EUW</td>\n      <td>Set1_a</td>\n      <td>0</td>\n    </tr>\n    <tr>\n      <th>2</th>\n      <td>R_3EnDsvWAIogkXzz</td>\n      <td>Set1_a</td>\n      <td>1</td>\n    </tr>\n    <tr>\n      <th>3</th>\n      <td>R_2EnQRnC5z6MEkB0</td>\n      <td>Set1_a</td>\n      <td>1</td>\n    </tr>\n    <tr>\n      <th>4</th>\n      <td>R_2trGXz4cYEDIRpV</td>\n      <td>Set1_a</td>\n      <td>0</td>\n    </tr>\n    <tr>\n      <th>...</th>\n      <td>...</td>\n      <td>...</td>\n      <td>...</td>\n    </tr>\n    <tr>\n      <th>355</th>\n      <td>R_r8bb9T6nYZTIRfr</td>\n      <td>Set12_b</td>\n      <td>0</td>\n    </tr>\n    <tr>\n      <th>356</th>\n      <td>R_3HqcKQZSgll15IK</td>\n      <td>Set12_b</td>\n      <td>0</td>\n    </tr>\n    <tr>\n      <th>357</th>\n      <td>R_2OZ9GbFDzgwVRGa</td>\n      <td>Set12_b</td>\n      <td>0</td>\n    </tr>\n    <tr>\n      <th>358</th>\n      <td>R_9yhYqtUm0FEkOJj</td>\n      <td>Set12_b</td>\n      <td>0</td>\n    </tr>\n    <tr>\n      <th>359</th>\n      <td>R_3PiZs2PUpimz4mE</td>\n      <td>Set12_b</td>\n      <td>0</td>\n    </tr>\n  </tbody>\n</table>\n<p>360 rows × 3 columns</p>\n</div>"
     },
     "execution_count": 35,
     "metadata": {},
     "output_type": "execute_result"
    }
   ],
   "source": [
    "#rename column analysis 2\n",
    "analysis2.rename(columns={'variable':'SetID'},inplace=True)\n",
    "analysis2"
   ],
   "metadata": {
    "collapsed": false,
    "pycharm": {
     "name": "#%%\n"
    }
   }
  },
  {
   "cell_type": "code",
   "execution_count": 36,
   "outputs": [
    {
     "data": {
      "text/plain": "            ResponseId    SetID  value  PriceMin5  Price0  Price2  All RES  \\\n0    R_2QhVhS7x3hq6XKf   Set1_a      1          1       0       0       -1   \n1    R_1nUxCAfYXJc9EUW   Set1_a      0          1       0       0       -1   \n2    R_3EnDsvWAIogkXzz   Set1_a      1          1       0       0       -1   \n3    R_2EnQRnC5z6MEkB0   Set1_a      1          1       0       0       -1   \n4    R_2trGXz4cYEDIRpV   Set1_a      0          1       0       0       -1   \n..                 ...      ...    ...        ...     ...     ...      ...   \n355  R_r8bb9T6nYZTIRfr  Set12_b      0         -1      -1      -1        0   \n356  R_3HqcKQZSgll15IK  Set12_b      0         -1      -1      -1        0   \n357  R_2OZ9GbFDzgwVRGa  Set12_b      0         -1      -1      -1        0   \n358  R_9yhYqtUm0FEkOJj  Set12_b      0         -1      -1      -1        0   \n359  R_3PiZs2PUpimz4mE  Set12_b      0         -1      -1      -1        0   \n\n     wind  solar  hydro  biomass  Slovak  Can Change  No change  \n0      -1     -1     -1       -1      -1           1         -1  \n1      -1     -1     -1       -1      -1           1         -1  \n2      -1     -1     -1       -1      -1           1         -1  \n3      -1     -1     -1       -1      -1           1         -1  \n4      -1     -1     -1       -1      -1           1         -1  \n..    ...    ...    ...      ...     ...         ...        ...  \n355     1      0      0        0       1          -1         -1  \n356     1      0      0        0       1          -1         -1  \n357     1      0      0        0       1          -1         -1  \n358     1      0      0        0       1          -1         -1  \n359     1      0      0        0       1          -1         -1  \n\n[360 rows x 14 columns]",
      "text/html": "<div>\n<style scoped>\n    .dataframe tbody tr th:only-of-type {\n        vertical-align: middle;\n    }\n\n    .dataframe tbody tr th {\n        vertical-align: top;\n    }\n\n    .dataframe thead th {\n        text-align: right;\n    }\n</style>\n<table border=\"1\" class=\"dataframe\">\n  <thead>\n    <tr style=\"text-align: right;\">\n      <th></th>\n      <th>ResponseId</th>\n      <th>SetID</th>\n      <th>value</th>\n      <th>PriceMin5</th>\n      <th>Price0</th>\n      <th>Price2</th>\n      <th>All RES</th>\n      <th>wind</th>\n      <th>solar</th>\n      <th>hydro</th>\n      <th>biomass</th>\n      <th>Slovak</th>\n      <th>Can Change</th>\n      <th>No change</th>\n    </tr>\n  </thead>\n  <tbody>\n    <tr>\n      <th>0</th>\n      <td>R_2QhVhS7x3hq6XKf</td>\n      <td>Set1_a</td>\n      <td>1</td>\n      <td>1</td>\n      <td>0</td>\n      <td>0</td>\n      <td>-1</td>\n      <td>-1</td>\n      <td>-1</td>\n      <td>-1</td>\n      <td>-1</td>\n      <td>-1</td>\n      <td>1</td>\n      <td>-1</td>\n    </tr>\n    <tr>\n      <th>1</th>\n      <td>R_1nUxCAfYXJc9EUW</td>\n      <td>Set1_a</td>\n      <td>0</td>\n      <td>1</td>\n      <td>0</td>\n      <td>0</td>\n      <td>-1</td>\n      <td>-1</td>\n      <td>-1</td>\n      <td>-1</td>\n      <td>-1</td>\n      <td>-1</td>\n      <td>1</td>\n      <td>-1</td>\n    </tr>\n    <tr>\n      <th>2</th>\n      <td>R_3EnDsvWAIogkXzz</td>\n      <td>Set1_a</td>\n      <td>1</td>\n      <td>1</td>\n      <td>0</td>\n      <td>0</td>\n      <td>-1</td>\n      <td>-1</td>\n      <td>-1</td>\n      <td>-1</td>\n      <td>-1</td>\n      <td>-1</td>\n      <td>1</td>\n      <td>-1</td>\n    </tr>\n    <tr>\n      <th>3</th>\n      <td>R_2EnQRnC5z6MEkB0</td>\n      <td>Set1_a</td>\n      <td>1</td>\n      <td>1</td>\n      <td>0</td>\n      <td>0</td>\n      <td>-1</td>\n      <td>-1</td>\n      <td>-1</td>\n      <td>-1</td>\n      <td>-1</td>\n      <td>-1</td>\n      <td>1</td>\n      <td>-1</td>\n    </tr>\n    <tr>\n      <th>4</th>\n      <td>R_2trGXz4cYEDIRpV</td>\n      <td>Set1_a</td>\n      <td>0</td>\n      <td>1</td>\n      <td>0</td>\n      <td>0</td>\n      <td>-1</td>\n      <td>-1</td>\n      <td>-1</td>\n      <td>-1</td>\n      <td>-1</td>\n      <td>-1</td>\n      <td>1</td>\n      <td>-1</td>\n    </tr>\n    <tr>\n      <th>...</th>\n      <td>...</td>\n      <td>...</td>\n      <td>...</td>\n      <td>...</td>\n      <td>...</td>\n      <td>...</td>\n      <td>...</td>\n      <td>...</td>\n      <td>...</td>\n      <td>...</td>\n      <td>...</td>\n      <td>...</td>\n      <td>...</td>\n      <td>...</td>\n    </tr>\n    <tr>\n      <th>355</th>\n      <td>R_r8bb9T6nYZTIRfr</td>\n      <td>Set12_b</td>\n      <td>0</td>\n      <td>-1</td>\n      <td>-1</td>\n      <td>-1</td>\n      <td>0</td>\n      <td>1</td>\n      <td>0</td>\n      <td>0</td>\n      <td>0</td>\n      <td>1</td>\n      <td>-1</td>\n      <td>-1</td>\n    </tr>\n    <tr>\n      <th>356</th>\n      <td>R_3HqcKQZSgll15IK</td>\n      <td>Set12_b</td>\n      <td>0</td>\n      <td>-1</td>\n      <td>-1</td>\n      <td>-1</td>\n      <td>0</td>\n      <td>1</td>\n      <td>0</td>\n      <td>0</td>\n      <td>0</td>\n      <td>1</td>\n      <td>-1</td>\n      <td>-1</td>\n    </tr>\n    <tr>\n      <th>357</th>\n      <td>R_2OZ9GbFDzgwVRGa</td>\n      <td>Set12_b</td>\n      <td>0</td>\n      <td>-1</td>\n      <td>-1</td>\n      <td>-1</td>\n      <td>0</td>\n      <td>1</td>\n      <td>0</td>\n      <td>0</td>\n      <td>0</td>\n      <td>1</td>\n      <td>-1</td>\n      <td>-1</td>\n    </tr>\n    <tr>\n      <th>358</th>\n      <td>R_9yhYqtUm0FEkOJj</td>\n      <td>Set12_b</td>\n      <td>0</td>\n      <td>-1</td>\n      <td>-1</td>\n      <td>-1</td>\n      <td>0</td>\n      <td>1</td>\n      <td>0</td>\n      <td>0</td>\n      <td>0</td>\n      <td>1</td>\n      <td>-1</td>\n      <td>-1</td>\n    </tr>\n    <tr>\n      <th>359</th>\n      <td>R_3PiZs2PUpimz4mE</td>\n      <td>Set12_b</td>\n      <td>0</td>\n      <td>-1</td>\n      <td>-1</td>\n      <td>-1</td>\n      <td>0</td>\n      <td>1</td>\n      <td>0</td>\n      <td>0</td>\n      <td>0</td>\n      <td>1</td>\n      <td>-1</td>\n      <td>-1</td>\n    </tr>\n  </tbody>\n</table>\n<p>360 rows × 14 columns</p>\n</div>"
     },
     "execution_count": 36,
     "metadata": {},
     "output_type": "execute_result"
    }
   ],
   "source": [
    "#Merge responses and sets\n",
    "merged = pd.merge(analysis2, design, on='SetID')\n",
    "merged"
   ],
   "metadata": {
    "collapsed": false,
    "pycharm": {
     "name": "#%%\n"
    }
   }
  },
  {
   "cell_type": "code",
   "execution_count": 37,
   "outputs": [
    {
     "data": {
      "text/plain": "            ResponseId    SetID  value  PriceMin5  Price0  Price2  All RES  \\\n0    R_2QhVhS7x3hq6XKf   Set1_a      1          1       0       0       -1   \n1    R_2QhVhS7x3hq6XKf   Set1_b      0          0       1       0        0   \n2    R_2QhVhS7x3hq6XKf   Set2_a      1          1       0       0       -1   \n3    R_2QhVhS7x3hq6XKf   Set2_b      0          0       1       0        0   \n4    R_2QhVhS7x3hq6XKf   Set3_a      1         -1      -1      -1        0   \n..                 ...      ...    ...        ...     ...     ...      ...   \n355  R_3PiZs2PUpimz4mE  Set10_b      0          0       1       0        0   \n356  R_3PiZs2PUpimz4mE  Set11_a      0          0       0       1        0   \n357  R_3PiZs2PUpimz4mE  Set11_b      0          0       1       0        0   \n358  R_3PiZs2PUpimz4mE  Set12_a      0          0       0       1        1   \n359  R_3PiZs2PUpimz4mE  Set12_b      0         -1      -1      -1        0   \n\n     wind  solar  hydro  ...  Household_size  Concern_1  RES_attitude_1  \\\n0      -1     -1     -1  ...               3          3               3   \n1       0      0      0  ...               3          3               3   \n2      -1     -1     -1  ...               3          3               3   \n3       0      0      1  ...               3          3               3   \n4       0      1      0  ...               3          3               3   \n..    ...    ...    ...  ...             ...        ...             ...   \n355     0      0      0  ...               2          4               5   \n356     0      0      0  ...               2          4               5   \n357     0      0      1  ...               2          4               5   \n358     0      0      0  ...               2          4               5   \n359     1      0      0  ...               2          4               5   \n\n     Know_green_provider  Providers_count Appliance_count Task_temp  \\\n0                      0                5               3         3   \n1                      0                5               3         3   \n2                      0                5               3         3   \n3                      0                5               3         3   \n4                      0                5               3         3   \n..                   ...              ...             ...       ...   \n355                    0                5               4         3   \n356                    0                5               4         3   \n357                    0                5               4         3   \n358                    0                5               4         3   \n359                    0                5               4         3   \n\n     Task_consumption  Task_appliances Task_source  \n0                   4                5           3  \n1                   4                5           3  \n2                   4                5           3  \n3                   4                5           3  \n4                   4                5           3  \n..                ...              ...         ...  \n355                 5                4           3  \n356                 5                4           3  \n357                 5                4           3  \n358                 5                4           3  \n359                 5                4           3  \n\n[360 rows x 32 columns]",
      "text/html": "<div>\n<style scoped>\n    .dataframe tbody tr th:only-of-type {\n        vertical-align: middle;\n    }\n\n    .dataframe tbody tr th {\n        vertical-align: top;\n    }\n\n    .dataframe thead th {\n        text-align: right;\n    }\n</style>\n<table border=\"1\" class=\"dataframe\">\n  <thead>\n    <tr style=\"text-align: right;\">\n      <th></th>\n      <th>ResponseId</th>\n      <th>SetID</th>\n      <th>value</th>\n      <th>PriceMin5</th>\n      <th>Price0</th>\n      <th>Price2</th>\n      <th>All RES</th>\n      <th>wind</th>\n      <th>solar</th>\n      <th>hydro</th>\n      <th>...</th>\n      <th>Household_size</th>\n      <th>Concern_1</th>\n      <th>RES_attitude_1</th>\n      <th>Know_green_provider</th>\n      <th>Providers_count</th>\n      <th>Appliance_count</th>\n      <th>Task_temp</th>\n      <th>Task_consumption</th>\n      <th>Task_appliances</th>\n      <th>Task_source</th>\n    </tr>\n  </thead>\n  <tbody>\n    <tr>\n      <th>0</th>\n      <td>R_2QhVhS7x3hq6XKf</td>\n      <td>Set1_a</td>\n      <td>1</td>\n      <td>1</td>\n      <td>0</td>\n      <td>0</td>\n      <td>-1</td>\n      <td>-1</td>\n      <td>-1</td>\n      <td>-1</td>\n      <td>...</td>\n      <td>3</td>\n      <td>3</td>\n      <td>3</td>\n      <td>0</td>\n      <td>5</td>\n      <td>3</td>\n      <td>3</td>\n      <td>4</td>\n      <td>5</td>\n      <td>3</td>\n    </tr>\n    <tr>\n      <th>1</th>\n      <td>R_2QhVhS7x3hq6XKf</td>\n      <td>Set1_b</td>\n      <td>0</td>\n      <td>0</td>\n      <td>1</td>\n      <td>0</td>\n      <td>0</td>\n      <td>0</td>\n      <td>0</td>\n      <td>0</td>\n      <td>...</td>\n      <td>3</td>\n      <td>3</td>\n      <td>3</td>\n      <td>0</td>\n      <td>5</td>\n      <td>3</td>\n      <td>3</td>\n      <td>4</td>\n      <td>5</td>\n      <td>3</td>\n    </tr>\n    <tr>\n      <th>2</th>\n      <td>R_2QhVhS7x3hq6XKf</td>\n      <td>Set2_a</td>\n      <td>1</td>\n      <td>1</td>\n      <td>0</td>\n      <td>0</td>\n      <td>-1</td>\n      <td>-1</td>\n      <td>-1</td>\n      <td>-1</td>\n      <td>...</td>\n      <td>3</td>\n      <td>3</td>\n      <td>3</td>\n      <td>0</td>\n      <td>5</td>\n      <td>3</td>\n      <td>3</td>\n      <td>4</td>\n      <td>5</td>\n      <td>3</td>\n    </tr>\n    <tr>\n      <th>3</th>\n      <td>R_2QhVhS7x3hq6XKf</td>\n      <td>Set2_b</td>\n      <td>0</td>\n      <td>0</td>\n      <td>1</td>\n      <td>0</td>\n      <td>0</td>\n      <td>0</td>\n      <td>0</td>\n      <td>1</td>\n      <td>...</td>\n      <td>3</td>\n      <td>3</td>\n      <td>3</td>\n      <td>0</td>\n      <td>5</td>\n      <td>3</td>\n      <td>3</td>\n      <td>4</td>\n      <td>5</td>\n      <td>3</td>\n    </tr>\n    <tr>\n      <th>4</th>\n      <td>R_2QhVhS7x3hq6XKf</td>\n      <td>Set3_a</td>\n      <td>1</td>\n      <td>-1</td>\n      <td>-1</td>\n      <td>-1</td>\n      <td>0</td>\n      <td>0</td>\n      <td>1</td>\n      <td>0</td>\n      <td>...</td>\n      <td>3</td>\n      <td>3</td>\n      <td>3</td>\n      <td>0</td>\n      <td>5</td>\n      <td>3</td>\n      <td>3</td>\n      <td>4</td>\n      <td>5</td>\n      <td>3</td>\n    </tr>\n    <tr>\n      <th>...</th>\n      <td>...</td>\n      <td>...</td>\n      <td>...</td>\n      <td>...</td>\n      <td>...</td>\n      <td>...</td>\n      <td>...</td>\n      <td>...</td>\n      <td>...</td>\n      <td>...</td>\n      <td>...</td>\n      <td>...</td>\n      <td>...</td>\n      <td>...</td>\n      <td>...</td>\n      <td>...</td>\n      <td>...</td>\n      <td>...</td>\n      <td>...</td>\n      <td>...</td>\n      <td>...</td>\n    </tr>\n    <tr>\n      <th>355</th>\n      <td>R_3PiZs2PUpimz4mE</td>\n      <td>Set10_b</td>\n      <td>0</td>\n      <td>0</td>\n      <td>1</td>\n      <td>0</td>\n      <td>0</td>\n      <td>0</td>\n      <td>0</td>\n      <td>0</td>\n      <td>...</td>\n      <td>2</td>\n      <td>4</td>\n      <td>5</td>\n      <td>0</td>\n      <td>5</td>\n      <td>4</td>\n      <td>3</td>\n      <td>5</td>\n      <td>4</td>\n      <td>3</td>\n    </tr>\n    <tr>\n      <th>356</th>\n      <td>R_3PiZs2PUpimz4mE</td>\n      <td>Set11_a</td>\n      <td>0</td>\n      <td>0</td>\n      <td>0</td>\n      <td>1</td>\n      <td>0</td>\n      <td>0</td>\n      <td>0</td>\n      <td>0</td>\n      <td>...</td>\n      <td>2</td>\n      <td>4</td>\n      <td>5</td>\n      <td>0</td>\n      <td>5</td>\n      <td>4</td>\n      <td>3</td>\n      <td>5</td>\n      <td>4</td>\n      <td>3</td>\n    </tr>\n    <tr>\n      <th>357</th>\n      <td>R_3PiZs2PUpimz4mE</td>\n      <td>Set11_b</td>\n      <td>0</td>\n      <td>0</td>\n      <td>1</td>\n      <td>0</td>\n      <td>0</td>\n      <td>0</td>\n      <td>0</td>\n      <td>1</td>\n      <td>...</td>\n      <td>2</td>\n      <td>4</td>\n      <td>5</td>\n      <td>0</td>\n      <td>5</td>\n      <td>4</td>\n      <td>3</td>\n      <td>5</td>\n      <td>4</td>\n      <td>3</td>\n    </tr>\n    <tr>\n      <th>358</th>\n      <td>R_3PiZs2PUpimz4mE</td>\n      <td>Set12_a</td>\n      <td>0</td>\n      <td>0</td>\n      <td>0</td>\n      <td>1</td>\n      <td>1</td>\n      <td>0</td>\n      <td>0</td>\n      <td>0</td>\n      <td>...</td>\n      <td>2</td>\n      <td>4</td>\n      <td>5</td>\n      <td>0</td>\n      <td>5</td>\n      <td>4</td>\n      <td>3</td>\n      <td>5</td>\n      <td>4</td>\n      <td>3</td>\n    </tr>\n    <tr>\n      <th>359</th>\n      <td>R_3PiZs2PUpimz4mE</td>\n      <td>Set12_b</td>\n      <td>0</td>\n      <td>-1</td>\n      <td>-1</td>\n      <td>-1</td>\n      <td>0</td>\n      <td>1</td>\n      <td>0</td>\n      <td>0</td>\n      <td>...</td>\n      <td>2</td>\n      <td>4</td>\n      <td>5</td>\n      <td>0</td>\n      <td>5</td>\n      <td>4</td>\n      <td>3</td>\n      <td>5</td>\n      <td>4</td>\n      <td>3</td>\n    </tr>\n  </tbody>\n</table>\n<p>360 rows × 32 columns</p>\n</div>"
     },
     "execution_count": 37,
     "metadata": {},
     "output_type": "execute_result"
    }
   ],
   "source": [
    "merged1 = pd.merge(merged, socio, on='ResponseId')\n",
    "merged1"
   ],
   "metadata": {
    "collapsed": false,
    "pycharm": {
     "name": "#%%\n"
    }
   }
  },
  {
   "cell_type": "code",
   "execution_count": 38,
   "outputs": [],
   "source": [
    "merged1['SetID_1'] = merged1['SetID']"
   ],
   "metadata": {
    "collapsed": false,
    "pycharm": {
     "name": "#%%\n"
    }
   }
  },
  {
   "cell_type": "code",
   "execution_count": 39,
   "outputs": [],
   "source": [
    "merged1['SetID_1'].replace({'Set1_a':1, 'Set1_b':1, 'Set2_a':2, 'Set2_b':2, 'Set3_a':3, 'Set3_b':3, 'Set4_a':4, 'Set4_b':4, 'Set5_a':5, 'Set5_b':5, 'Set6_a':6, 'Set6_b':6, 'Set7_a':7, 'Set7_b':7, 'Set8_a':8, 'Set8_b':8, 'Set9_a':9, 'Set9_b':9, 'Set10_a':10, 'Set10_b':10, 'Set11_a':11, 'Set11_b':11, 'Set12_a':12, 'Set12_b':12},inplace=True)"
   ],
   "metadata": {
    "collapsed": false,
    "pycharm": {
     "name": "#%%\n"
    }
   }
  },
  {
   "cell_type": "code",
   "execution_count": 40,
   "outputs": [],
   "source": [
    "#Price Continuous\n",
    "price_cont = np.where(merged1['PriceMin5']==1,-5,np.where(merged1['Price0']==1,0,np.where(merged1['Price2']==1,2,5)))\n",
    "merged1.insert(merged1.columns.get_loc('PriceMin5'),'Price Cont',price_cont)"
   ],
   "metadata": {
    "collapsed": false,
    "pycharm": {
     "name": "#%%\n"
    }
   }
  },
  {
   "cell_type": "code",
   "execution_count": 41,
   "outputs": [],
   "source": [
    "merged1['Price Cont'] = merged1['Price Cont'].astype(int)\n",
    "merged1['payment_1'] = merged1['payment_1'].astype(int)"
   ],
   "metadata": {
    "collapsed": false,
    "pycharm": {
     "name": "#%%\n"
    }
   }
  },
  {
   "cell_type": "code",
   "execution_count": 42,
   "outputs": [],
   "source": [
    "#Price Real\n",
    "price_real = merged1['Price Cont'] + merged1['payment_1']\n",
    "merged1.insert(merged1.columns.get_loc('Price Cont'),'Real Price',price_real)"
   ],
   "metadata": {
    "collapsed": false,
    "pycharm": {
     "name": "#%%\n"
    }
   }
  },
  {
   "cell_type": "code",
   "execution_count": 43,
   "outputs": [
    {
     "data": {
      "text/plain": "            ResponseId    SetID  value  Real Price  Price Cont  PriceMin5  \\\n0    R_2QhVhS7x3hq6XKf   Set1_a      1          24          -5          1   \n1    R_2QhVhS7x3hq6XKf   Set1_b      0          29           0          0   \n2    R_2QhVhS7x3hq6XKf   Set2_a      1          24          -5          1   \n3    R_2QhVhS7x3hq6XKf   Set2_b      0          29           0          0   \n4    R_2QhVhS7x3hq6XKf   Set3_a      1          34           5         -1   \n..                 ...      ...    ...         ...         ...        ...   \n355  R_3PiZs2PUpimz4mE  Set10_b      0          29           0          0   \n356  R_3PiZs2PUpimz4mE  Set11_a      0          31           2          0   \n357  R_3PiZs2PUpimz4mE  Set11_b      0          29           0          0   \n358  R_3PiZs2PUpimz4mE  Set12_a      0          31           2          0   \n359  R_3PiZs2PUpimz4mE  Set12_b      0          34           5         -1   \n\n     Price0  Price2  All RES  wind  ...  Concern_1  RES_attitude_1  \\\n0         0       0       -1    -1  ...          3               3   \n1         1       0        0     0  ...          3               3   \n2         0       0       -1    -1  ...          3               3   \n3         1       0        0     0  ...          3               3   \n4        -1      -1        0     0  ...          3               3   \n..      ...     ...      ...   ...  ...        ...             ...   \n355       1       0        0     0  ...          4               5   \n356       0       1        0     0  ...          4               5   \n357       1       0        0     0  ...          4               5   \n358       0       1        1     0  ...          4               5   \n359      -1      -1        0     1  ...          4               5   \n\n     Know_green_provider  Providers_count  Appliance_count  Task_temp  \\\n0                      0                5                3          3   \n1                      0                5                3          3   \n2                      0                5                3          3   \n3                      0                5                3          3   \n4                      0                5                3          3   \n..                   ...              ...              ...        ...   \n355                    0                5                4          3   \n356                    0                5                4          3   \n357                    0                5                4          3   \n358                    0                5                4          3   \n359                    0                5                4          3   \n\n     Task_consumption Task_appliances Task_source  SetID_1  \n0                   4               5           3        1  \n1                   4               5           3        1  \n2                   4               5           3        2  \n3                   4               5           3        2  \n4                   4               5           3        3  \n..                ...             ...         ...      ...  \n355                 5               4           3       10  \n356                 5               4           3       11  \n357                 5               4           3       11  \n358                 5               4           3       12  \n359                 5               4           3       12  \n\n[360 rows x 35 columns]",
      "text/html": "<div>\n<style scoped>\n    .dataframe tbody tr th:only-of-type {\n        vertical-align: middle;\n    }\n\n    .dataframe tbody tr th {\n        vertical-align: top;\n    }\n\n    .dataframe thead th {\n        text-align: right;\n    }\n</style>\n<table border=\"1\" class=\"dataframe\">\n  <thead>\n    <tr style=\"text-align: right;\">\n      <th></th>\n      <th>ResponseId</th>\n      <th>SetID</th>\n      <th>value</th>\n      <th>Real Price</th>\n      <th>Price Cont</th>\n      <th>PriceMin5</th>\n      <th>Price0</th>\n      <th>Price2</th>\n      <th>All RES</th>\n      <th>wind</th>\n      <th>...</th>\n      <th>Concern_1</th>\n      <th>RES_attitude_1</th>\n      <th>Know_green_provider</th>\n      <th>Providers_count</th>\n      <th>Appliance_count</th>\n      <th>Task_temp</th>\n      <th>Task_consumption</th>\n      <th>Task_appliances</th>\n      <th>Task_source</th>\n      <th>SetID_1</th>\n    </tr>\n  </thead>\n  <tbody>\n    <tr>\n      <th>0</th>\n      <td>R_2QhVhS7x3hq6XKf</td>\n      <td>Set1_a</td>\n      <td>1</td>\n      <td>24</td>\n      <td>-5</td>\n      <td>1</td>\n      <td>0</td>\n      <td>0</td>\n      <td>-1</td>\n      <td>-1</td>\n      <td>...</td>\n      <td>3</td>\n      <td>3</td>\n      <td>0</td>\n      <td>5</td>\n      <td>3</td>\n      <td>3</td>\n      <td>4</td>\n      <td>5</td>\n      <td>3</td>\n      <td>1</td>\n    </tr>\n    <tr>\n      <th>1</th>\n      <td>R_2QhVhS7x3hq6XKf</td>\n      <td>Set1_b</td>\n      <td>0</td>\n      <td>29</td>\n      <td>0</td>\n      <td>0</td>\n      <td>1</td>\n      <td>0</td>\n      <td>0</td>\n      <td>0</td>\n      <td>...</td>\n      <td>3</td>\n      <td>3</td>\n      <td>0</td>\n      <td>5</td>\n      <td>3</td>\n      <td>3</td>\n      <td>4</td>\n      <td>5</td>\n      <td>3</td>\n      <td>1</td>\n    </tr>\n    <tr>\n      <th>2</th>\n      <td>R_2QhVhS7x3hq6XKf</td>\n      <td>Set2_a</td>\n      <td>1</td>\n      <td>24</td>\n      <td>-5</td>\n      <td>1</td>\n      <td>0</td>\n      <td>0</td>\n      <td>-1</td>\n      <td>-1</td>\n      <td>...</td>\n      <td>3</td>\n      <td>3</td>\n      <td>0</td>\n      <td>5</td>\n      <td>3</td>\n      <td>3</td>\n      <td>4</td>\n      <td>5</td>\n      <td>3</td>\n      <td>2</td>\n    </tr>\n    <tr>\n      <th>3</th>\n      <td>R_2QhVhS7x3hq6XKf</td>\n      <td>Set2_b</td>\n      <td>0</td>\n      <td>29</td>\n      <td>0</td>\n      <td>0</td>\n      <td>1</td>\n      <td>0</td>\n      <td>0</td>\n      <td>0</td>\n      <td>...</td>\n      <td>3</td>\n      <td>3</td>\n      <td>0</td>\n      <td>5</td>\n      <td>3</td>\n      <td>3</td>\n      <td>4</td>\n      <td>5</td>\n      <td>3</td>\n      <td>2</td>\n    </tr>\n    <tr>\n      <th>4</th>\n      <td>R_2QhVhS7x3hq6XKf</td>\n      <td>Set3_a</td>\n      <td>1</td>\n      <td>34</td>\n      <td>5</td>\n      <td>-1</td>\n      <td>-1</td>\n      <td>-1</td>\n      <td>0</td>\n      <td>0</td>\n      <td>...</td>\n      <td>3</td>\n      <td>3</td>\n      <td>0</td>\n      <td>5</td>\n      <td>3</td>\n      <td>3</td>\n      <td>4</td>\n      <td>5</td>\n      <td>3</td>\n      <td>3</td>\n    </tr>\n    <tr>\n      <th>...</th>\n      <td>...</td>\n      <td>...</td>\n      <td>...</td>\n      <td>...</td>\n      <td>...</td>\n      <td>...</td>\n      <td>...</td>\n      <td>...</td>\n      <td>...</td>\n      <td>...</td>\n      <td>...</td>\n      <td>...</td>\n      <td>...</td>\n      <td>...</td>\n      <td>...</td>\n      <td>...</td>\n      <td>...</td>\n      <td>...</td>\n      <td>...</td>\n      <td>...</td>\n      <td>...</td>\n    </tr>\n    <tr>\n      <th>355</th>\n      <td>R_3PiZs2PUpimz4mE</td>\n      <td>Set10_b</td>\n      <td>0</td>\n      <td>29</td>\n      <td>0</td>\n      <td>0</td>\n      <td>1</td>\n      <td>0</td>\n      <td>0</td>\n      <td>0</td>\n      <td>...</td>\n      <td>4</td>\n      <td>5</td>\n      <td>0</td>\n      <td>5</td>\n      <td>4</td>\n      <td>3</td>\n      <td>5</td>\n      <td>4</td>\n      <td>3</td>\n      <td>10</td>\n    </tr>\n    <tr>\n      <th>356</th>\n      <td>R_3PiZs2PUpimz4mE</td>\n      <td>Set11_a</td>\n      <td>0</td>\n      <td>31</td>\n      <td>2</td>\n      <td>0</td>\n      <td>0</td>\n      <td>1</td>\n      <td>0</td>\n      <td>0</td>\n      <td>...</td>\n      <td>4</td>\n      <td>5</td>\n      <td>0</td>\n      <td>5</td>\n      <td>4</td>\n      <td>3</td>\n      <td>5</td>\n      <td>4</td>\n      <td>3</td>\n      <td>11</td>\n    </tr>\n    <tr>\n      <th>357</th>\n      <td>R_3PiZs2PUpimz4mE</td>\n      <td>Set11_b</td>\n      <td>0</td>\n      <td>29</td>\n      <td>0</td>\n      <td>0</td>\n      <td>1</td>\n      <td>0</td>\n      <td>0</td>\n      <td>0</td>\n      <td>...</td>\n      <td>4</td>\n      <td>5</td>\n      <td>0</td>\n      <td>5</td>\n      <td>4</td>\n      <td>3</td>\n      <td>5</td>\n      <td>4</td>\n      <td>3</td>\n      <td>11</td>\n    </tr>\n    <tr>\n      <th>358</th>\n      <td>R_3PiZs2PUpimz4mE</td>\n      <td>Set12_a</td>\n      <td>0</td>\n      <td>31</td>\n      <td>2</td>\n      <td>0</td>\n      <td>0</td>\n      <td>1</td>\n      <td>1</td>\n      <td>0</td>\n      <td>...</td>\n      <td>4</td>\n      <td>5</td>\n      <td>0</td>\n      <td>5</td>\n      <td>4</td>\n      <td>3</td>\n      <td>5</td>\n      <td>4</td>\n      <td>3</td>\n      <td>12</td>\n    </tr>\n    <tr>\n      <th>359</th>\n      <td>R_3PiZs2PUpimz4mE</td>\n      <td>Set12_b</td>\n      <td>0</td>\n      <td>34</td>\n      <td>5</td>\n      <td>-1</td>\n      <td>-1</td>\n      <td>-1</td>\n      <td>0</td>\n      <td>1</td>\n      <td>...</td>\n      <td>4</td>\n      <td>5</td>\n      <td>0</td>\n      <td>5</td>\n      <td>4</td>\n      <td>3</td>\n      <td>5</td>\n      <td>4</td>\n      <td>3</td>\n      <td>12</td>\n    </tr>\n  </tbody>\n</table>\n<p>360 rows × 35 columns</p>\n</div>"
     },
     "execution_count": 43,
     "metadata": {},
     "output_type": "execute_result"
    }
   ],
   "source": [
    "merged1"
   ],
   "metadata": {
    "collapsed": false,
    "pycharm": {
     "name": "#%%\n"
    }
   }
  },
  {
   "cell_type": "code",
   "execution_count": 45,
   "outputs": [
    {
     "data": {
      "text/plain": "       Price Cont  PriceMin5  Price0  Price2  All RES    wind   solar   hydro  \\\ncount      360.00     360.00  360.00  360.00   360.00  360.00  360.00  360.00   \nmean         1.46      -0.21   -0.12   -0.17     0.04   -0.04    0.00    0.00   \nstd          3.50       0.71    0.78    0.75     0.61    0.54    0.58    0.58   \nmin         -5.00      -1.00   -1.00   -1.00    -1.00   -1.00   -1.00   -1.00   \n25%          0.00      -1.00   -1.00   -1.00     0.00    0.00    0.00    0.00   \n50%          2.00       0.00    0.00    0.00     0.00    0.00    0.00    0.00   \n75%          5.00       0.00    0.25    0.00     0.00    0.00    0.00    0.00   \nmax          5.00       1.00    1.00    1.00     1.00    1.00    1.00    1.00   \n\n       biomass  Slovak  Can Change  No change  \ncount   360.00  360.00       360.0      360.0  \nmean      0.00    0.17         0.0        0.0  \nstd       0.58    0.99         1.0        1.0  \nmin      -1.00   -1.00        -1.0       -1.0  \n25%       0.00   -1.00        -1.0       -1.0  \n50%       0.00    1.00         0.0        0.0  \n75%       0.00    1.00         1.0        1.0  \nmax       1.00    1.00         1.0        1.0  ",
      "text/html": "<div>\n<style scoped>\n    .dataframe tbody tr th:only-of-type {\n        vertical-align: middle;\n    }\n\n    .dataframe tbody tr th {\n        vertical-align: top;\n    }\n\n    .dataframe thead th {\n        text-align: right;\n    }\n</style>\n<table border=\"1\" class=\"dataframe\">\n  <thead>\n    <tr style=\"text-align: right;\">\n      <th></th>\n      <th>Price Cont</th>\n      <th>PriceMin5</th>\n      <th>Price0</th>\n      <th>Price2</th>\n      <th>All RES</th>\n      <th>wind</th>\n      <th>solar</th>\n      <th>hydro</th>\n      <th>biomass</th>\n      <th>Slovak</th>\n      <th>Can Change</th>\n      <th>No change</th>\n    </tr>\n  </thead>\n  <tbody>\n    <tr>\n      <th>count</th>\n      <td>360.00</td>\n      <td>360.00</td>\n      <td>360.00</td>\n      <td>360.00</td>\n      <td>360.00</td>\n      <td>360.00</td>\n      <td>360.00</td>\n      <td>360.00</td>\n      <td>360.00</td>\n      <td>360.00</td>\n      <td>360.0</td>\n      <td>360.0</td>\n    </tr>\n    <tr>\n      <th>mean</th>\n      <td>1.46</td>\n      <td>-0.21</td>\n      <td>-0.12</td>\n      <td>-0.17</td>\n      <td>0.04</td>\n      <td>-0.04</td>\n      <td>0.00</td>\n      <td>0.00</td>\n      <td>0.00</td>\n      <td>0.17</td>\n      <td>0.0</td>\n      <td>0.0</td>\n    </tr>\n    <tr>\n      <th>std</th>\n      <td>3.50</td>\n      <td>0.71</td>\n      <td>0.78</td>\n      <td>0.75</td>\n      <td>0.61</td>\n      <td>0.54</td>\n      <td>0.58</td>\n      <td>0.58</td>\n      <td>0.58</td>\n      <td>0.99</td>\n      <td>1.0</td>\n      <td>1.0</td>\n    </tr>\n    <tr>\n      <th>min</th>\n      <td>-5.00</td>\n      <td>-1.00</td>\n      <td>-1.00</td>\n      <td>-1.00</td>\n      <td>-1.00</td>\n      <td>-1.00</td>\n      <td>-1.00</td>\n      <td>-1.00</td>\n      <td>-1.00</td>\n      <td>-1.00</td>\n      <td>-1.0</td>\n      <td>-1.0</td>\n    </tr>\n    <tr>\n      <th>25%</th>\n      <td>0.00</td>\n      <td>-1.00</td>\n      <td>-1.00</td>\n      <td>-1.00</td>\n      <td>0.00</td>\n      <td>0.00</td>\n      <td>0.00</td>\n      <td>0.00</td>\n      <td>0.00</td>\n      <td>-1.00</td>\n      <td>-1.0</td>\n      <td>-1.0</td>\n    </tr>\n    <tr>\n      <th>50%</th>\n      <td>2.00</td>\n      <td>0.00</td>\n      <td>0.00</td>\n      <td>0.00</td>\n      <td>0.00</td>\n      <td>0.00</td>\n      <td>0.00</td>\n      <td>0.00</td>\n      <td>0.00</td>\n      <td>1.00</td>\n      <td>0.0</td>\n      <td>0.0</td>\n    </tr>\n    <tr>\n      <th>75%</th>\n      <td>5.00</td>\n      <td>0.00</td>\n      <td>0.25</td>\n      <td>0.00</td>\n      <td>0.00</td>\n      <td>0.00</td>\n      <td>0.00</td>\n      <td>0.00</td>\n      <td>0.00</td>\n      <td>1.00</td>\n      <td>1.0</td>\n      <td>1.0</td>\n    </tr>\n    <tr>\n      <th>max</th>\n      <td>5.00</td>\n      <td>1.00</td>\n      <td>1.00</td>\n      <td>1.00</td>\n      <td>1.00</td>\n      <td>1.00</td>\n      <td>1.00</td>\n      <td>1.00</td>\n      <td>1.00</td>\n      <td>1.00</td>\n      <td>1.0</td>\n      <td>1.0</td>\n    </tr>\n  </tbody>\n</table>\n</div>"
     },
     "execution_count": 45,
     "metadata": {},
     "output_type": "execute_result"
    }
   ],
   "source": [
    "round(merged1.iloc[:,4:16].describe(),2)"
   ],
   "metadata": {
    "collapsed": false,
    "pycharm": {
     "name": "#%%\n"
    }
   }
  },
  {
   "cell_type": "code",
   "execution_count": 46,
   "outputs": [
    {
     "data": {
      "text/plain": "            Price Cont  All RES  wind  solar  hydro  biomass  Slovak  \\\nPrice Cont        1.00     0.73  0.63   0.72   0.56     0.56    0.01   \nAll RES           0.73     1.00  0.51   0.47   0.47     0.47   -0.22   \nwind              0.63     0.51  1.00   0.54   0.54     0.54    0.25   \nsolar             0.72     0.47  0.54   1.00   0.50     0.50   -0.00   \nhydro             0.56     0.47  0.54   0.50   1.00     0.50   -0.00   \nbiomass           0.56     0.47  0.54   0.50   0.50     1.00    0.29   \nSlovak            0.01    -0.22  0.25  -0.00  -0.00     0.29    1.00   \nCan Change        0.20     0.20 -0.08   0.00   0.00    -0.14   -0.51   \nNo change         0.25     0.34  0.23   0.29   0.43     0.43   -0.17   \n\n            Can Change  No change  \nPrice Cont        0.20       0.25  \nAll RES           0.20       0.34  \nwind             -0.08       0.23  \nsolar             0.00       0.29  \nhydro             0.00       0.43  \nbiomass          -0.14       0.43  \nSlovak           -0.51      -0.17  \nCan Change        1.00      -0.17  \nNo change        -0.17       1.00  ",
      "text/html": "<div>\n<style scoped>\n    .dataframe tbody tr th:only-of-type {\n        vertical-align: middle;\n    }\n\n    .dataframe tbody tr th {\n        vertical-align: top;\n    }\n\n    .dataframe thead th {\n        text-align: right;\n    }\n</style>\n<table border=\"1\" class=\"dataframe\">\n  <thead>\n    <tr style=\"text-align: right;\">\n      <th></th>\n      <th>Price Cont</th>\n      <th>All RES</th>\n      <th>wind</th>\n      <th>solar</th>\n      <th>hydro</th>\n      <th>biomass</th>\n      <th>Slovak</th>\n      <th>Can Change</th>\n      <th>No change</th>\n    </tr>\n  </thead>\n  <tbody>\n    <tr>\n      <th>Price Cont</th>\n      <td>1.00</td>\n      <td>0.73</td>\n      <td>0.63</td>\n      <td>0.72</td>\n      <td>0.56</td>\n      <td>0.56</td>\n      <td>0.01</td>\n      <td>0.20</td>\n      <td>0.25</td>\n    </tr>\n    <tr>\n      <th>All RES</th>\n      <td>0.73</td>\n      <td>1.00</td>\n      <td>0.51</td>\n      <td>0.47</td>\n      <td>0.47</td>\n      <td>0.47</td>\n      <td>-0.22</td>\n      <td>0.20</td>\n      <td>0.34</td>\n    </tr>\n    <tr>\n      <th>wind</th>\n      <td>0.63</td>\n      <td>0.51</td>\n      <td>1.00</td>\n      <td>0.54</td>\n      <td>0.54</td>\n      <td>0.54</td>\n      <td>0.25</td>\n      <td>-0.08</td>\n      <td>0.23</td>\n    </tr>\n    <tr>\n      <th>solar</th>\n      <td>0.72</td>\n      <td>0.47</td>\n      <td>0.54</td>\n      <td>1.00</td>\n      <td>0.50</td>\n      <td>0.50</td>\n      <td>-0.00</td>\n      <td>0.00</td>\n      <td>0.29</td>\n    </tr>\n    <tr>\n      <th>hydro</th>\n      <td>0.56</td>\n      <td>0.47</td>\n      <td>0.54</td>\n      <td>0.50</td>\n      <td>1.00</td>\n      <td>0.50</td>\n      <td>-0.00</td>\n      <td>0.00</td>\n      <td>0.43</td>\n    </tr>\n    <tr>\n      <th>biomass</th>\n      <td>0.56</td>\n      <td>0.47</td>\n      <td>0.54</td>\n      <td>0.50</td>\n      <td>0.50</td>\n      <td>1.00</td>\n      <td>0.29</td>\n      <td>-0.14</td>\n      <td>0.43</td>\n    </tr>\n    <tr>\n      <th>Slovak</th>\n      <td>0.01</td>\n      <td>-0.22</td>\n      <td>0.25</td>\n      <td>-0.00</td>\n      <td>-0.00</td>\n      <td>0.29</td>\n      <td>1.00</td>\n      <td>-0.51</td>\n      <td>-0.17</td>\n    </tr>\n    <tr>\n      <th>Can Change</th>\n      <td>0.20</td>\n      <td>0.20</td>\n      <td>-0.08</td>\n      <td>0.00</td>\n      <td>0.00</td>\n      <td>-0.14</td>\n      <td>-0.51</td>\n      <td>1.00</td>\n      <td>-0.17</td>\n    </tr>\n    <tr>\n      <th>No change</th>\n      <td>0.25</td>\n      <td>0.34</td>\n      <td>0.23</td>\n      <td>0.29</td>\n      <td>0.43</td>\n      <td>0.43</td>\n      <td>-0.17</td>\n      <td>-0.17</td>\n      <td>1.00</td>\n    </tr>\n  </tbody>\n</table>\n</div>"
     },
     "execution_count": 46,
     "metadata": {},
     "output_type": "execute_result"
    }
   ],
   "source": [
    "corr_col = ['Price Cont','All RES','wind','solar','hydro','biomass','Slovak','Can Change','No change']\n",
    "round(merged1[corr_col].corr(),2)"
   ],
   "metadata": {
    "collapsed": false,
    "pycharm": {
     "name": "#%%\n"
    }
   }
  },
  {
   "cell_type": "code",
   "execution_count": 47,
   "outputs": [],
   "source": [
    "merged1.to_csv(folder+\"/predict_cleaned.csv\")"
   ],
   "metadata": {
    "collapsed": false,
    "pycharm": {
     "name": "#%%\n"
    }
   }
  },
  {
   "cell_type": "code",
   "execution_count": 143,
   "outputs": [
    {
     "ename": "ValueError",
     "evalue": "r_home is None. Try python -m rpy2.situation",
     "output_type": "error",
     "traceback": [
      "\u001B[0;31m---------------------------------------------------------------------------\u001B[0m",
      "\u001B[0;31mValueError\u001B[0m                                Traceback (most recent call last)",
      "\u001B[0;32m<ipython-input-143-ea95528857d2>\u001B[0m in \u001B[0;36m<module>\u001B[0;34m\u001B[0m\n\u001B[0;32m----> 1\u001B[0;31m \u001B[0;32mfrom\u001B[0m \u001B[0mpymer4\u001B[0m\u001B[0;34m.\u001B[0m\u001B[0mmodels\u001B[0m \u001B[0;32mimport\u001B[0m \u001B[0mLmer\u001B[0m\u001B[0;34m\u001B[0m\u001B[0;34m\u001B[0m\u001B[0m\n\u001B[0m\u001B[1;32m      2\u001B[0m \u001B[0;34m\u001B[0m\u001B[0m\n\u001B[1;32m      3\u001B[0m \u001B[0mmodel\u001B[0m \u001B[0;34m=\u001B[0m \u001B[0mLmer\u001B[0m\u001B[0;34m(\u001B[0m\u001B[0;34m\"value ~ PriceMin5 + Price0 + Price2 + All.RES + wind + solar + hydro + biomass + Slovak + Can.Change + No.change + (1|Energy.Consumption)\"\u001B[0m\u001B[0;34m,\u001B[0m \u001B[0mdata\u001B[0m \u001B[0;34m=\u001B[0m \u001B[0mdata\u001B[0m\u001B[0;34m,\u001B[0m \u001B[0mfamily\u001B[0m \u001B[0;34m=\u001B[0m \u001B[0;34m'binomial'\u001B[0m\u001B[0;34m)\u001B[0m\u001B[0;34m\u001B[0m\u001B[0;34m\u001B[0m\u001B[0m\n\u001B[1;32m      4\u001B[0m \u001B[0;34m\u001B[0m\u001B[0m\n\u001B[1;32m      5\u001B[0m \u001B[0mprint\u001B[0m\u001B[0;34m(\u001B[0m\u001B[0mmodel\u001B[0m\u001B[0;34m.\u001B[0m\u001B[0mfit\u001B[0m\u001B[0;34m(\u001B[0m\u001B[0;34m)\u001B[0m\u001B[0;34m)\u001B[0m\u001B[0;34m\u001B[0m\u001B[0;34m\u001B[0m\u001B[0m\n",
      "\u001B[0;32m~/opt/anaconda3/lib/python3.8/site-packages/pymer4/__init__.py\u001B[0m in \u001B[0;36m<module>\u001B[0;34m\u001B[0m\n\u001B[1;32m      3\u001B[0m \u001B[0m__all__\u001B[0m \u001B[0;34m=\u001B[0m \u001B[0;34m[\u001B[0m\u001B[0;34m\"models\"\u001B[0m\u001B[0;34m,\u001B[0m \u001B[0;34m\"utils\"\u001B[0m\u001B[0;34m,\u001B[0m \u001B[0;34m\"simulate\"\u001B[0m\u001B[0;34m,\u001B[0m \u001B[0;34m\"stats\"\u001B[0m\u001B[0;34m,\u001B[0m \u001B[0;34m\"io\"\u001B[0m\u001B[0;34m,\u001B[0m \u001B[0;34m\"__version__\"\u001B[0m\u001B[0;34m]\u001B[0m\u001B[0;34m\u001B[0m\u001B[0;34m\u001B[0m\u001B[0m\n\u001B[1;32m      4\u001B[0m \u001B[0;34m\u001B[0m\u001B[0m\n\u001B[0;32m----> 5\u001B[0;31m \u001B[0;32mfrom\u001B[0m \u001B[0;34m.\u001B[0m\u001B[0mmodels\u001B[0m \u001B[0;32mimport\u001B[0m \u001B[0mLmer\u001B[0m\u001B[0;34m,\u001B[0m \u001B[0mLm\u001B[0m\u001B[0;34m,\u001B[0m \u001B[0mLm2\u001B[0m\u001B[0;34m\u001B[0m\u001B[0;34m\u001B[0m\u001B[0m\n\u001B[0m\u001B[1;32m      6\u001B[0m \u001B[0;32mfrom\u001B[0m \u001B[0;34m.\u001B[0m\u001B[0msimulate\u001B[0m \u001B[0;32mimport\u001B[0m \u001B[0measy_multivariate_normal\u001B[0m\u001B[0;34m,\u001B[0m \u001B[0msimulate_lm\u001B[0m\u001B[0;34m,\u001B[0m \u001B[0msimulate_lmm\u001B[0m\u001B[0;34m\u001B[0m\u001B[0;34m\u001B[0m\u001B[0m\n\u001B[1;32m      7\u001B[0m \u001B[0;34m\u001B[0m\u001B[0m\n",
      "\u001B[0;32m~/opt/anaconda3/lib/python3.8/site-packages/pymer4/models/__init__.py\u001B[0m in \u001B[0;36m<module>\u001B[0;34m\u001B[0m\n\u001B[1;32m      3\u001B[0m \"\"\"\n\u001B[1;32m      4\u001B[0m \u001B[0;34m\u001B[0m\u001B[0m\n\u001B[0;32m----> 5\u001B[0;31m \u001B[0;32mfrom\u001B[0m \u001B[0;34m.\u001B[0m\u001B[0mLmer\u001B[0m \u001B[0;32mimport\u001B[0m \u001B[0mLmer\u001B[0m\u001B[0;34m\u001B[0m\u001B[0;34m\u001B[0m\u001B[0m\n\u001B[0m\u001B[1;32m      6\u001B[0m \u001B[0;32mfrom\u001B[0m \u001B[0;34m.\u001B[0m\u001B[0mLm\u001B[0m \u001B[0;32mimport\u001B[0m \u001B[0mLm\u001B[0m\u001B[0;34m\u001B[0m\u001B[0;34m\u001B[0m\u001B[0m\n\u001B[1;32m      7\u001B[0m \u001B[0;32mfrom\u001B[0m \u001B[0;34m.\u001B[0m\u001B[0mLm2\u001B[0m \u001B[0;32mimport\u001B[0m \u001B[0mLm2\u001B[0m\u001B[0;34m\u001B[0m\u001B[0;34m\u001B[0m\u001B[0m\n",
      "\u001B[0;32m~/opt/anaconda3/lib/python3.8/site-packages/pymer4/models/Lmer.py\u001B[0m in \u001B[0;36m<module>\u001B[0;34m\u001B[0m\n\u001B[1;32m      7\u001B[0m \u001B[0;34m\u001B[0m\u001B[0m\n\u001B[1;32m      8\u001B[0m \u001B[0;32mfrom\u001B[0m \u001B[0mcopy\u001B[0m \u001B[0;32mimport\u001B[0m \u001B[0mcopy\u001B[0m\u001B[0;34m\u001B[0m\u001B[0;34m\u001B[0m\u001B[0m\n\u001B[0;32m----> 9\u001B[0;31m \u001B[0;32mfrom\u001B[0m \u001B[0mrpy2\u001B[0m\u001B[0;34m.\u001B[0m\u001B[0mrobjects\u001B[0m\u001B[0;34m.\u001B[0m\u001B[0mpackages\u001B[0m \u001B[0;32mimport\u001B[0m \u001B[0mimportr\u001B[0m\u001B[0;34m\u001B[0m\u001B[0;34m\u001B[0m\u001B[0m\n\u001B[0m\u001B[1;32m     10\u001B[0m \u001B[0;32mimport\u001B[0m \u001B[0mrpy2\u001B[0m\u001B[0;34m.\u001B[0m\u001B[0mrobjects\u001B[0m \u001B[0;32mas\u001B[0m \u001B[0mrobjects\u001B[0m\u001B[0;34m\u001B[0m\u001B[0;34m\u001B[0m\u001B[0m\n\u001B[1;32m     11\u001B[0m \u001B[0;32mfrom\u001B[0m \u001B[0mrpy2\u001B[0m\u001B[0;34m.\u001B[0m\u001B[0mrinterface_lib\u001B[0m \u001B[0;32mimport\u001B[0m \u001B[0mcallbacks\u001B[0m\u001B[0;34m\u001B[0m\u001B[0;34m\u001B[0m\u001B[0m\n",
      "\u001B[0;32m~/opt/anaconda3/lib/python3.8/site-packages/rpy2/robjects/__init__.py\u001B[0m in \u001B[0;36m<module>\u001B[0;34m\u001B[0m\n\u001B[1;32m     14\u001B[0m \u001B[0;32mfrom\u001B[0m \u001B[0mfunctools\u001B[0m \u001B[0;32mimport\u001B[0m \u001B[0mpartial\u001B[0m\u001B[0;34m\u001B[0m\u001B[0;34m\u001B[0m\u001B[0m\n\u001B[1;32m     15\u001B[0m \u001B[0;32mimport\u001B[0m \u001B[0mtypes\u001B[0m\u001B[0;34m\u001B[0m\u001B[0;34m\u001B[0m\u001B[0m\n\u001B[0;32m---> 16\u001B[0;31m \u001B[0;32mimport\u001B[0m \u001B[0mrpy2\u001B[0m\u001B[0;34m.\u001B[0m\u001B[0mrinterface\u001B[0m \u001B[0;32mas\u001B[0m \u001B[0mrinterface\u001B[0m\u001B[0;34m\u001B[0m\u001B[0;34m\u001B[0m\u001B[0m\n\u001B[0m\u001B[1;32m     17\u001B[0m \u001B[0;32mimport\u001B[0m \u001B[0mrpy2\u001B[0m\u001B[0;34m.\u001B[0m\u001B[0mrlike\u001B[0m\u001B[0;34m.\u001B[0m\u001B[0mcontainer\u001B[0m \u001B[0;32mas\u001B[0m \u001B[0mrlc\u001B[0m\u001B[0;34m\u001B[0m\u001B[0;34m\u001B[0m\u001B[0m\n\u001B[1;32m     18\u001B[0m \u001B[0;34m\u001B[0m\u001B[0m\n",
      "\u001B[0;32m~/opt/anaconda3/lib/python3.8/site-packages/rpy2/rinterface.py\u001B[0m in \u001B[0;36m<module>\u001B[0;34m\u001B[0m\n\u001B[1;32m     10\u001B[0m \u001B[0;32mimport\u001B[0m \u001B[0mwarnings\u001B[0m\u001B[0;34m\u001B[0m\u001B[0;34m\u001B[0m\u001B[0m\n\u001B[1;32m     11\u001B[0m \u001B[0;32mfrom\u001B[0m \u001B[0mtyping\u001B[0m \u001B[0;32mimport\u001B[0m \u001B[0mUnion\u001B[0m\u001B[0;34m\u001B[0m\u001B[0;34m\u001B[0m\u001B[0m\n\u001B[0;32m---> 12\u001B[0;31m \u001B[0;32mfrom\u001B[0m \u001B[0mrpy2\u001B[0m\u001B[0;34m.\u001B[0m\u001B[0mrinterface_lib\u001B[0m \u001B[0;32mimport\u001B[0m \u001B[0mopenrlib\u001B[0m\u001B[0;34m\u001B[0m\u001B[0;34m\u001B[0m\u001B[0m\n\u001B[0m\u001B[1;32m     13\u001B[0m \u001B[0;32mimport\u001B[0m \u001B[0mrpy2\u001B[0m\u001B[0;34m.\u001B[0m\u001B[0mrinterface_lib\u001B[0m\u001B[0;34m.\u001B[0m\u001B[0m_rinterface_capi\u001B[0m \u001B[0;32mas\u001B[0m \u001B[0m_rinterface\u001B[0m\u001B[0;34m\u001B[0m\u001B[0;34m\u001B[0m\u001B[0m\n\u001B[1;32m     14\u001B[0m \u001B[0;32mimport\u001B[0m \u001B[0mrpy2\u001B[0m\u001B[0;34m.\u001B[0m\u001B[0mrinterface_lib\u001B[0m\u001B[0;34m.\u001B[0m\u001B[0membedded\u001B[0m \u001B[0;32mas\u001B[0m \u001B[0membedded\u001B[0m\u001B[0;34m\u001B[0m\u001B[0;34m\u001B[0m\u001B[0m\n",
      "\u001B[0;32m~/opt/anaconda3/lib/python3.8/site-packages/rpy2/rinterface_lib/openrlib.py\u001B[0m in \u001B[0;36m<module>\u001B[0;34m\u001B[0m\n\u001B[1;32m     42\u001B[0m     \u001B[0mrlib\u001B[0m \u001B[0;34m=\u001B[0m \u001B[0m_rinterface_cffi\u001B[0m\u001B[0;34m.\u001B[0m\u001B[0mlib\u001B[0m\u001B[0;34m\u001B[0m\u001B[0;34m\u001B[0m\u001B[0m\n\u001B[1;32m     43\u001B[0m \u001B[0;32melse\u001B[0m\u001B[0;34m:\u001B[0m\u001B[0;34m\u001B[0m\u001B[0;34m\u001B[0m\u001B[0m\n\u001B[0;32m---> 44\u001B[0;31m     \u001B[0mrlib\u001B[0m \u001B[0;34m=\u001B[0m \u001B[0m_dlopen_rlib\u001B[0m\u001B[0;34m(\u001B[0m\u001B[0mR_HOME\u001B[0m\u001B[0;34m)\u001B[0m\u001B[0;34m\u001B[0m\u001B[0;34m\u001B[0m\u001B[0m\n\u001B[0m\u001B[1;32m     45\u001B[0m \u001B[0;34m\u001B[0m\u001B[0m\n\u001B[1;32m     46\u001B[0m \u001B[0;34m\u001B[0m\u001B[0m\n",
      "\u001B[0;32m~/opt/anaconda3/lib/python3.8/site-packages/rpy2/rinterface_lib/openrlib.py\u001B[0m in \u001B[0;36m_dlopen_rlib\u001B[0;34m(r_home)\u001B[0m\n\u001B[1;32m     29\u001B[0m     This is only relevant in ABI mode.\"\"\"\n\u001B[1;32m     30\u001B[0m     \u001B[0;32mif\u001B[0m \u001B[0mr_home\u001B[0m \u001B[0;32mis\u001B[0m \u001B[0;32mNone\u001B[0m\u001B[0;34m:\u001B[0m\u001B[0;34m\u001B[0m\u001B[0;34m\u001B[0m\u001B[0m\n\u001B[0;32m---> 31\u001B[0;31m         raise ValueError('r_home is None. '\n\u001B[0m\u001B[1;32m     32\u001B[0m                          'Try python -m rpy2.situation')\n\u001B[1;32m     33\u001B[0m     \u001B[0mlib_path\u001B[0m \u001B[0;34m=\u001B[0m \u001B[0mrpy2\u001B[0m\u001B[0;34m.\u001B[0m\u001B[0msituation\u001B[0m\u001B[0;34m.\u001B[0m\u001B[0mget_rlib_path\u001B[0m\u001B[0;34m(\u001B[0m\u001B[0mr_home\u001B[0m\u001B[0;34m,\u001B[0m \u001B[0mplatform\u001B[0m\u001B[0;34m.\u001B[0m\u001B[0msystem\u001B[0m\u001B[0;34m(\u001B[0m\u001B[0;34m)\u001B[0m\u001B[0;34m)\u001B[0m\u001B[0;34m\u001B[0m\u001B[0;34m\u001B[0m\u001B[0m\n",
      "\u001B[0;31mValueError\u001B[0m: r_home is None. Try python -m rpy2.situation"
     ]
    }
   ],
   "source": [
    "from pymer4.models import Lmer\n",
    "\n",
    "model = Lmer(\"value ~ PriceMin5 + Price0 + Price2 + All.RES + wind + solar + hydro + biomass + Slovak + Can.Change + No.change + (1|Energy.Consumption)\", data = data, family = 'binomial')\n",
    "\n",
    "print(model.fit())"
   ],
   "metadata": {
    "collapsed": false,
    "pycharm": {
     "name": "#%%\n"
    }
   }
  },
  {
   "cell_type": "code",
   "execution_count": 42,
   "outputs": [
    {
     "name": "stdout",
     "output_type": "stream",
     "text": [
      "['Set1_a', 'Set1_b', 'Set2_a', 'Set2_b', 'Set3_a', 'Set3_b', 'Set4_a', 'Set4_b', 'Set5_a', 'Set5_b', 'Set6_a', 'Set6_b', 'Set7_a', 'Set7_b', 'Set8_a', 'Set8_b', 'Set9_a', 'Set9_b', 'Set10_a', 'Set10_b', 'Set11_a', 'Set11_b', 'Set12_a', 'Set12_b']\n"
     ]
    }
   ],
   "source": [
    "print(new_sets)"
   ],
   "metadata": {
    "collapsed": false,
    "pycharm": {
     "name": "#%%\n"
    }
   }
  },
  {
   "cell_type": "code",
   "execution_count": 41,
   "outputs": [
    {
     "name": "stdout",
     "output_type": "stream",
     "text": [
      "Collecting pylogit\r\n",
      "  Downloading pylogit-1.0.1-py3-none-any.whl (151 kB)\r\n",
      "     |████████████████████████████████| 151 kB 2.7 MB/s            \r\n",
      "\u001B[?25hRequirement already satisfied: pandas>=0.16.2 in /Users/dominikmecko/opt/anaconda3/lib/python3.8/site-packages (from pylogit) (1.2.4)\r\n",
      "Requirement already satisfied: tqdm>=4.15.0 in /Users/dominikmecko/opt/anaconda3/lib/python3.8/site-packages (from pylogit) (4.59.0)\r\n",
      "Requirement already satisfied: numpy>=1.10.2 in /Users/dominikmecko/opt/anaconda3/lib/python3.8/site-packages (from pylogit) (1.20.1)\r\n",
      "Requirement already satisfied: statsmodels>=0.6.1 in /Users/dominikmecko/opt/anaconda3/lib/python3.8/site-packages (from pylogit) (0.12.2)\r\n",
      "Requirement already satisfied: scipy>=0.16.1 in /Users/dominikmecko/opt/anaconda3/lib/python3.8/site-packages (from pylogit) (1.6.2)\r\n",
      "Requirement already satisfied: future>=0.16 in /Users/dominikmecko/opt/anaconda3/lib/python3.8/site-packages (from pylogit) (0.18.2)\r\n",
      "Requirement already satisfied: python-dateutil>=2.7.3 in /Users/dominikmecko/opt/anaconda3/lib/python3.8/site-packages (from pandas>=0.16.2->pylogit) (2.8.1)\r\n",
      "Requirement already satisfied: pytz>=2017.3 in /Users/dominikmecko/opt/anaconda3/lib/python3.8/site-packages (from pandas>=0.16.2->pylogit) (2021.1)\r\n",
      "Requirement already satisfied: patsy>=0.5 in /Users/dominikmecko/opt/anaconda3/lib/python3.8/site-packages (from statsmodels>=0.6.1->pylogit) (0.5.1)\r\n",
      "Requirement already satisfied: six in /Users/dominikmecko/opt/anaconda3/lib/python3.8/site-packages (from patsy>=0.5->statsmodels>=0.6.1->pylogit) (1.15.0)\r\n",
      "Installing collected packages: pylogit\r\n",
      "Successfully installed pylogit-1.0.1\r\n",
      "\u001B[33mWARNING: You are using pip version 21.3.1; however, version 22.1.1 is available.\r\n",
      "You should consider upgrading via the '/Users/dominikmecko/opt/anaconda3/bin/python -m pip install --upgrade pip' command.\u001B[0m\r\n",
      "Note: you may need to restart the kernel to use updated packages.\n"
     ]
    }
   ],
   "source": [
    "pip install pylogit"
   ],
   "metadata": {
    "collapsed": false,
    "pycharm": {
     "name": "#%%\n"
    }
   }
  },
  {
   "cell_type": "code",
   "execution_count": 43,
   "outputs": [],
   "source": [
    "import pylogit as pl"
   ],
   "metadata": {
    "collapsed": false,
    "pycharm": {
     "name": "#%%\n"
    }
   }
  },
  {
   "cell_type": "code",
   "execution_count": 94,
   "outputs": [
    {
     "data": {
      "text/plain": "             ResponseId    SetID  value  PriceMin5  Price0  Price2  All RES  \\\n0     R_1pzMUhhsh8aVRYi   Set1_a      0          1       0       0       -1   \n1     R_1pzMUhhsh8aVRYi   Set1_b      1          0       1       0        0   \n2     R_1pzMUhhsh8aVRYi   Set2_a      0          1       0       0       -1   \n3     R_1pzMUhhsh8aVRYi   Set2_b      1          0       1       0        0   \n4     R_1pzMUhhsh8aVRYi   Set3_a      0         -1      -1      -1        0   \n...                 ...      ...    ...        ...     ...     ...      ...   \n2683  R_2sZ9jGAmaddENVs  Set10_b      0          0       1       0        0   \n2684  R_2sZ9jGAmaddENVs  Set11_a      0          0       0       1        0   \n2685  R_2sZ9jGAmaddENVs  Set11_b      1          0       1       0        0   \n2686  R_2sZ9jGAmaddENVs  Set12_a      0          0       0       1        1   \n2687  R_2sZ9jGAmaddENVs  Set12_b      1         -1      -1      -1        0   \n\n      wind  solar  hydro  ...  Concern_1  RES_attitude_1  Know_green_provider  \\\n0       -1     -1     -1  ...          1               4                    0   \n1        0      0      0  ...          1               4                    0   \n2       -1     -1     -1  ...          1               4                    0   \n3        0      0      1  ...          1               4                    0   \n4        0      1      0  ...          1               4                    0   \n...    ...    ...    ...  ...        ...             ...                  ...   \n2683     0      0      0  ...          2               4                    0   \n2684     0      0      0  ...          2               4                    0   \n2685     0      0      1  ...          2               4                    0   \n2686     0      0      0  ...          2               4                    0   \n2687     1      0      0  ...          2               4                    0   \n\n      Providers_count  Appliance_count Task_temp Task_consumption  \\\n0                   1                4         4                5   \n1                   1                4         4                5   \n2                   1                4         4                5   \n3                   1                4         4                5   \n4                   1                4         4                5   \n...               ...              ...       ...              ...   \n2683                2                4         5                5   \n2684                2                4         5                5   \n2685                2                4         5                5   \n2686                2                4         5                5   \n2687                2                4         5                5   \n\n      Task_appliances  Task_source SetID_1  \n0                   5            2       1  \n1                   5            2       1  \n2                   5            2       2  \n3                   5            2       2  \n4                   5            2       3  \n...               ...          ...     ...  \n2683                5            3      10  \n2684                5            3      11  \n2685                5            3      11  \n2686                5            3      12  \n2687                5            3      12  \n\n[2688 rows x 33 columns]",
      "text/html": "<div>\n<style scoped>\n    .dataframe tbody tr th:only-of-type {\n        vertical-align: middle;\n    }\n\n    .dataframe tbody tr th {\n        vertical-align: top;\n    }\n\n    .dataframe thead th {\n        text-align: right;\n    }\n</style>\n<table border=\"1\" class=\"dataframe\">\n  <thead>\n    <tr style=\"text-align: right;\">\n      <th></th>\n      <th>ResponseId</th>\n      <th>SetID</th>\n      <th>value</th>\n      <th>PriceMin5</th>\n      <th>Price0</th>\n      <th>Price2</th>\n      <th>All RES</th>\n      <th>wind</th>\n      <th>solar</th>\n      <th>hydro</th>\n      <th>...</th>\n      <th>Concern_1</th>\n      <th>RES_attitude_1</th>\n      <th>Know_green_provider</th>\n      <th>Providers_count</th>\n      <th>Appliance_count</th>\n      <th>Task_temp</th>\n      <th>Task_consumption</th>\n      <th>Task_appliances</th>\n      <th>Task_source</th>\n      <th>SetID_1</th>\n    </tr>\n  </thead>\n  <tbody>\n    <tr>\n      <th>0</th>\n      <td>R_1pzMUhhsh8aVRYi</td>\n      <td>Set1_a</td>\n      <td>0</td>\n      <td>1</td>\n      <td>0</td>\n      <td>0</td>\n      <td>-1</td>\n      <td>-1</td>\n      <td>-1</td>\n      <td>-1</td>\n      <td>...</td>\n      <td>1</td>\n      <td>4</td>\n      <td>0</td>\n      <td>1</td>\n      <td>4</td>\n      <td>4</td>\n      <td>5</td>\n      <td>5</td>\n      <td>2</td>\n      <td>1</td>\n    </tr>\n    <tr>\n      <th>1</th>\n      <td>R_1pzMUhhsh8aVRYi</td>\n      <td>Set1_b</td>\n      <td>1</td>\n      <td>0</td>\n      <td>1</td>\n      <td>0</td>\n      <td>0</td>\n      <td>0</td>\n      <td>0</td>\n      <td>0</td>\n      <td>...</td>\n      <td>1</td>\n      <td>4</td>\n      <td>0</td>\n      <td>1</td>\n      <td>4</td>\n      <td>4</td>\n      <td>5</td>\n      <td>5</td>\n      <td>2</td>\n      <td>1</td>\n    </tr>\n    <tr>\n      <th>2</th>\n      <td>R_1pzMUhhsh8aVRYi</td>\n      <td>Set2_a</td>\n      <td>0</td>\n      <td>1</td>\n      <td>0</td>\n      <td>0</td>\n      <td>-1</td>\n      <td>-1</td>\n      <td>-1</td>\n      <td>-1</td>\n      <td>...</td>\n      <td>1</td>\n      <td>4</td>\n      <td>0</td>\n      <td>1</td>\n      <td>4</td>\n      <td>4</td>\n      <td>5</td>\n      <td>5</td>\n      <td>2</td>\n      <td>2</td>\n    </tr>\n    <tr>\n      <th>3</th>\n      <td>R_1pzMUhhsh8aVRYi</td>\n      <td>Set2_b</td>\n      <td>1</td>\n      <td>0</td>\n      <td>1</td>\n      <td>0</td>\n      <td>0</td>\n      <td>0</td>\n      <td>0</td>\n      <td>1</td>\n      <td>...</td>\n      <td>1</td>\n      <td>4</td>\n      <td>0</td>\n      <td>1</td>\n      <td>4</td>\n      <td>4</td>\n      <td>5</td>\n      <td>5</td>\n      <td>2</td>\n      <td>2</td>\n    </tr>\n    <tr>\n      <th>4</th>\n      <td>R_1pzMUhhsh8aVRYi</td>\n      <td>Set3_a</td>\n      <td>0</td>\n      <td>-1</td>\n      <td>-1</td>\n      <td>-1</td>\n      <td>0</td>\n      <td>0</td>\n      <td>1</td>\n      <td>0</td>\n      <td>...</td>\n      <td>1</td>\n      <td>4</td>\n      <td>0</td>\n      <td>1</td>\n      <td>4</td>\n      <td>4</td>\n      <td>5</td>\n      <td>5</td>\n      <td>2</td>\n      <td>3</td>\n    </tr>\n    <tr>\n      <th>...</th>\n      <td>...</td>\n      <td>...</td>\n      <td>...</td>\n      <td>...</td>\n      <td>...</td>\n      <td>...</td>\n      <td>...</td>\n      <td>...</td>\n      <td>...</td>\n      <td>...</td>\n      <td>...</td>\n      <td>...</td>\n      <td>...</td>\n      <td>...</td>\n      <td>...</td>\n      <td>...</td>\n      <td>...</td>\n      <td>...</td>\n      <td>...</td>\n      <td>...</td>\n      <td>...</td>\n    </tr>\n    <tr>\n      <th>2683</th>\n      <td>R_2sZ9jGAmaddENVs</td>\n      <td>Set10_b</td>\n      <td>0</td>\n      <td>0</td>\n      <td>1</td>\n      <td>0</td>\n      <td>0</td>\n      <td>0</td>\n      <td>0</td>\n      <td>0</td>\n      <td>...</td>\n      <td>2</td>\n      <td>4</td>\n      <td>0</td>\n      <td>2</td>\n      <td>4</td>\n      <td>5</td>\n      <td>5</td>\n      <td>5</td>\n      <td>3</td>\n      <td>10</td>\n    </tr>\n    <tr>\n      <th>2684</th>\n      <td>R_2sZ9jGAmaddENVs</td>\n      <td>Set11_a</td>\n      <td>0</td>\n      <td>0</td>\n      <td>0</td>\n      <td>1</td>\n      <td>0</td>\n      <td>0</td>\n      <td>0</td>\n      <td>0</td>\n      <td>...</td>\n      <td>2</td>\n      <td>4</td>\n      <td>0</td>\n      <td>2</td>\n      <td>4</td>\n      <td>5</td>\n      <td>5</td>\n      <td>5</td>\n      <td>3</td>\n      <td>11</td>\n    </tr>\n    <tr>\n      <th>2685</th>\n      <td>R_2sZ9jGAmaddENVs</td>\n      <td>Set11_b</td>\n      <td>1</td>\n      <td>0</td>\n      <td>1</td>\n      <td>0</td>\n      <td>0</td>\n      <td>0</td>\n      <td>0</td>\n      <td>1</td>\n      <td>...</td>\n      <td>2</td>\n      <td>4</td>\n      <td>0</td>\n      <td>2</td>\n      <td>4</td>\n      <td>5</td>\n      <td>5</td>\n      <td>5</td>\n      <td>3</td>\n      <td>11</td>\n    </tr>\n    <tr>\n      <th>2686</th>\n      <td>R_2sZ9jGAmaddENVs</td>\n      <td>Set12_a</td>\n      <td>0</td>\n      <td>0</td>\n      <td>0</td>\n      <td>1</td>\n      <td>1</td>\n      <td>0</td>\n      <td>0</td>\n      <td>0</td>\n      <td>...</td>\n      <td>2</td>\n      <td>4</td>\n      <td>0</td>\n      <td>2</td>\n      <td>4</td>\n      <td>5</td>\n      <td>5</td>\n      <td>5</td>\n      <td>3</td>\n      <td>12</td>\n    </tr>\n    <tr>\n      <th>2687</th>\n      <td>R_2sZ9jGAmaddENVs</td>\n      <td>Set12_b</td>\n      <td>1</td>\n      <td>-1</td>\n      <td>-1</td>\n      <td>-1</td>\n      <td>0</td>\n      <td>1</td>\n      <td>0</td>\n      <td>0</td>\n      <td>...</td>\n      <td>2</td>\n      <td>4</td>\n      <td>0</td>\n      <td>2</td>\n      <td>4</td>\n      <td>5</td>\n      <td>5</td>\n      <td>5</td>\n      <td>3</td>\n      <td>12</td>\n    </tr>\n  </tbody>\n</table>\n<p>2688 rows × 33 columns</p>\n</div>"
     },
     "execution_count": 94,
     "metadata": {},
     "output_type": "execute_result"
    }
   ],
   "source": [
    "long_data = merged1\n",
    "#long_data = long_data.drop(columns='SetID')\n",
    "long_data"
   ],
   "metadata": {
    "collapsed": false,
    "pycharm": {
     "name": "#%%\n"
    }
   }
  },
  {
   "cell_type": "code",
   "execution_count": 97,
   "outputs": [],
   "source": [
    "individual_specific_variables = list(merged1.iloc[:1,14:-1])\n",
    "individual_specific_variables.append('SetID')\n",
    "alternative_specific_variables = list(merged1.iloc[:1,3:14])\n",
    "subset_specific_variables = {}\n",
    "observation_id_column = \"ResponseId\"\n",
    "alternative_id_column = \"SetID_1\"\n",
    "choice_column = \"value\""
   ],
   "metadata": {
    "collapsed": false,
    "pycharm": {
     "name": "#%%\n"
    }
   }
  },
  {
   "cell_type": "code",
   "execution_count": 98,
   "outputs": [
    {
     "ename": "ValueError",
     "evalue": "One or more observation-alternative_id pairs is not unique.",
     "output_type": "error",
     "traceback": [
      "\u001B[0;31m---------------------------------------------------------------------------\u001B[0m",
      "\u001B[0;31mValueError\u001B[0m                                Traceback (most recent call last)",
      "\u001B[0;32m<ipython-input-98-581836f9e40a>\u001B[0m in \u001B[0;36m<module>\u001B[0;34m\u001B[0m\n\u001B[1;32m      1\u001B[0m \u001B[0;31m# Finally, we can create the wide format dataframe\u001B[0m\u001B[0;34m\u001B[0m\u001B[0;34m\u001B[0m\u001B[0;34m\u001B[0m\u001B[0m\n\u001B[0;32m----> 2\u001B[0;31m wide_df = pl.convert_long_to_wide(long_data,\n\u001B[0m\u001B[1;32m      3\u001B[0m                                   \u001B[0mindividual_specific_variables\u001B[0m\u001B[0;34m,\u001B[0m\u001B[0;34m\u001B[0m\u001B[0;34m\u001B[0m\u001B[0m\n\u001B[1;32m      4\u001B[0m                                   \u001B[0malternative_specific_variables\u001B[0m\u001B[0;34m,\u001B[0m\u001B[0;34m\u001B[0m\u001B[0;34m\u001B[0m\u001B[0m\n\u001B[1;32m      5\u001B[0m                                   \u001B[0msubset_specific_variables\u001B[0m\u001B[0;34m,\u001B[0m\u001B[0;34m\u001B[0m\u001B[0;34m\u001B[0m\u001B[0m\n",
      "\u001B[0;32m~/opt/anaconda3/lib/python3.8/site-packages/pylogit/choice_tools.py\u001B[0m in \u001B[0;36mconvert_long_to_wide\u001B[0;34m(long_data, ind_vars, alt_specific_vars, subset_specific_vars, obs_id_col, alt_id_col, choice_col, alt_name_dict, null_value)\u001B[0m\n\u001B[1;32m   1082\u001B[0m     \u001B[0;31m# Make sure that each observation-alternative pair is unique\u001B[0m\u001B[0;34m\u001B[0m\u001B[0;34m\u001B[0m\u001B[0;34m\u001B[0m\u001B[0m\n\u001B[1;32m   1083\u001B[0m     \u001B[0;31m##########\u001B[0m\u001B[0;34m\u001B[0m\u001B[0;34m\u001B[0m\u001B[0;34m\u001B[0m\u001B[0m\n\u001B[0;32m-> 1084\u001B[0;31m     \u001B[0mcheck_dataframe_for_duplicate_records\u001B[0m\u001B[0;34m(\u001B[0m\u001B[0mobs_id_col\u001B[0m\u001B[0;34m,\u001B[0m \u001B[0malt_id_col\u001B[0m\u001B[0;34m,\u001B[0m \u001B[0mlong_data\u001B[0m\u001B[0;34m)\u001B[0m\u001B[0;34m\u001B[0m\u001B[0;34m\u001B[0m\u001B[0m\n\u001B[0m\u001B[1;32m   1085\u001B[0m \u001B[0;34m\u001B[0m\u001B[0m\n\u001B[1;32m   1086\u001B[0m     \u001B[0;31m##########\u001B[0m\u001B[0;34m\u001B[0m\u001B[0;34m\u001B[0m\u001B[0;34m\u001B[0m\u001B[0m\n",
      "\u001B[0;32m~/opt/anaconda3/lib/python3.8/site-packages/pylogit/choice_tools.py\u001B[0m in \u001B[0;36mcheck_dataframe_for_duplicate_records\u001B[0;34m(obs_id_col, alt_id_col, df)\u001B[0m\n\u001B[1;32m    489\u001B[0m     \u001B[0;32mif\u001B[0m \u001B[0mdf\u001B[0m\u001B[0;34m.\u001B[0m\u001B[0mduplicated\u001B[0m\u001B[0;34m(\u001B[0m\u001B[0msubset\u001B[0m\u001B[0;34m=\u001B[0m\u001B[0;34m[\u001B[0m\u001B[0mobs_id_col\u001B[0m\u001B[0;34m,\u001B[0m \u001B[0malt_id_col\u001B[0m\u001B[0;34m]\u001B[0m\u001B[0;34m)\u001B[0m\u001B[0;34m.\u001B[0m\u001B[0many\u001B[0m\u001B[0;34m(\u001B[0m\u001B[0;34m)\u001B[0m\u001B[0;34m:\u001B[0m\u001B[0;34m\u001B[0m\u001B[0;34m\u001B[0m\u001B[0m\n\u001B[1;32m    490\u001B[0m         \u001B[0mmsg\u001B[0m \u001B[0;34m=\u001B[0m \u001B[0;34m\"One or more observation-alternative_id pairs is not unique.\"\u001B[0m\u001B[0;34m\u001B[0m\u001B[0;34m\u001B[0m\u001B[0m\n\u001B[0;32m--> 491\u001B[0;31m         \u001B[0;32mraise\u001B[0m \u001B[0mValueError\u001B[0m\u001B[0;34m(\u001B[0m\u001B[0mmsg\u001B[0m\u001B[0;34m)\u001B[0m\u001B[0;34m\u001B[0m\u001B[0;34m\u001B[0m\u001B[0m\n\u001B[0m\u001B[1;32m    492\u001B[0m \u001B[0;34m\u001B[0m\u001B[0m\n\u001B[1;32m    493\u001B[0m     \u001B[0;32mreturn\u001B[0m \u001B[0;32mNone\u001B[0m\u001B[0;34m\u001B[0m\u001B[0;34m\u001B[0m\u001B[0m\n",
      "\u001B[0;31mValueError\u001B[0m: One or more observation-alternative_id pairs is not unique."
     ]
    }
   ],
   "source": [
    "# Finally, we can create the wide format dataframe\n",
    "wide_df = pl.convert_long_to_wide(long_data,\n",
    "                                  individual_specific_variables,\n",
    "                                  alternative_specific_variables,\n",
    "                                  subset_specific_variables,\n",
    "                                  observation_id_column,\n",
    "                                  alternative_id_column,\n",
    "                                  choice_column)\n",
    "\n",
    "# Let's look at the created dataframe, transposed for easy viewing\n",
    "wide_df.head().T"
   ],
   "metadata": {
    "collapsed": false,
    "pycharm": {
     "name": "#%%\n"
    }
   }
  },
  {
   "cell_type": "code",
   "execution_count": 76,
   "outputs": [
    {
     "data": {
      "text/plain": "['PriceMin5',\n 'Price0',\n 'Price2',\n 'All RES',\n 'wind',\n 'solar',\n 'hydro',\n 'biomass',\n 'Slovak',\n 'Can Change',\n 'No change']"
     },
     "execution_count": 76,
     "metadata": {},
     "output_type": "execute_result"
    }
   ],
   "source": [
    "alternative_specific_variables"
   ],
   "metadata": {
    "collapsed": false,
    "pycharm": {
     "name": "#%%\n"
    }
   }
  },
  {
   "cell_type": "code",
   "execution_count": 87,
   "outputs": [
    {
     "data": {
      "text/plain": "0       False\n1        True\n2       False\n3        True\n4       False\n        ...  \n2683     True\n2684    False\n2685     True\n2686    False\n2687     True\nLength: 2688, dtype: bool"
     },
     "execution_count": 87,
     "metadata": {},
     "output_type": "execute_result"
    }
   ],
   "source": [
    "long_data.duplicated(subset=['ResponseId','SetID_1'], keep= 'first')"
   ],
   "metadata": {
    "collapsed": false,
    "pycharm": {
     "name": "#%%\n"
    }
   }
  },
  {
   "cell_type": "code",
   "execution_count": 100,
   "outputs": [],
   "source": [
    "wide_data = long_data.T"
   ],
   "metadata": {
    "collapsed": false,
    "pycharm": {
     "name": "#%%\n"
    }
   }
  },
  {
   "cell_type": "code",
   "execution_count": null,
   "outputs": [],
   "source": [
    "# Estimate the multinomial logit model (MNL)\n",
    "swissmetro_mnl = pl.create_choice_model(data=long_data,\n",
    "                                        alt_id_col=custom_alt_id,\n",
    "                                        obs_id_col=obs_id_column,\n",
    "                                        choice_col=choice_column,\n",
    "                                        specification=basic_specification,\n",
    "                                        model_type=\"MNL\",\n",
    "                                        names=basic_names)\n",
    "\n",
    "# Specify the initial values and method for the optimization.\n",
    "swissmetro_mnl.fit_mle(np.zeros(14))\n",
    "\n",
    "# Look at the estimation results\n",
    "swissmetro_mnl.get_statsmodels_summary()"
   ],
   "metadata": {
    "collapsed": false,
    "pycharm": {
     "name": "#%%\n"
    }
   }
  },
  {
   "cell_type": "markdown",
   "source": [
    "MACHINE LEARNING PART"
   ],
   "metadata": {
    "collapsed": false,
    "pycharm": {
     "name": "#%% md\n"
    }
   }
  },
  {
   "cell_type": "code",
   "execution_count": 94,
   "outputs": [],
   "source": [
    "from sklearn.model_selection import train_test_split\n",
    "from matplotlib import pyplot as plt\n",
    "\n",
    "from sklearn.linear_model import LogisticRegression\n",
    "from sklearn import tree\n",
    "from sklearn.tree import DecisionTreeClassifier"
   ],
   "metadata": {
    "collapsed": false,
    "pycharm": {
     "name": "#%%\n"
    }
   }
  },
  {
   "cell_type": "markdown",
   "source": [
    "Data Cleaning"
   ],
   "metadata": {
    "collapsed": false,
    "pycharm": {
     "name": "#%% md\n"
    }
   }
  },
  {
   "cell_type": "code",
   "execution_count": 48,
   "outputs": [],
   "source": [
    "#Define X & Y\n",
    "x_var = merged1.iloc[:,3:16]\n",
    "x_char = merged1.iloc[:,16:-1]\n",
    "y_var = merged.value\n",
    "x_char = x_char.astype(int)"
   ],
   "metadata": {
    "collapsed": false,
    "pycharm": {
     "name": "#%%\n"
    }
   }
  },
  {
   "cell_type": "code",
   "execution_count": 49,
   "outputs": [],
   "source": [
    "x_var_drop=['PriceMin5','Price0','Price2','Price Cont']\n",
    "x_var = x_var.drop(columns=x_var_drop)"
   ],
   "metadata": {
    "collapsed": false,
    "pycharm": {
     "name": "#%%\n"
    }
   }
  },
  {
   "cell_type": "code",
   "execution_count": 50,
   "outputs": [
    {
     "data": {
      "text/plain": "     Real Price  All RES  wind  solar  hydro  biomass  Slovak  Can Change  \\\n0            24       -1    -1     -1     -1       -1      -1           1   \n1            29        0     0      0      0        1       1          -1   \n2            24       -1    -1     -1     -1       -1      -1           1   \n3            29        0     0      0      1        0       1          -1   \n4            34        0     0      1      0        0       1           1   \n..          ...      ...   ...    ...    ...      ...     ...         ...   \n355          29        0     0      0      0        1       1          -1   \n356          31        0     0      0      0        1       1          -1   \n357          29        0     0      0      1        0      -1           1   \n358          31        1     0      0      0        0      -1           1   \n359          34        0     1      0      0        0       1          -1   \n\n     No change  \n0           -1  \n1            1  \n2           -1  \n3            1  \n4           -1  \n..         ...  \n355         -1  \n356          1  \n357         -1  \n358          1  \n359         -1  \n\n[360 rows x 9 columns]",
      "text/html": "<div>\n<style scoped>\n    .dataframe tbody tr th:only-of-type {\n        vertical-align: middle;\n    }\n\n    .dataframe tbody tr th {\n        vertical-align: top;\n    }\n\n    .dataframe thead th {\n        text-align: right;\n    }\n</style>\n<table border=\"1\" class=\"dataframe\">\n  <thead>\n    <tr style=\"text-align: right;\">\n      <th></th>\n      <th>Real Price</th>\n      <th>All RES</th>\n      <th>wind</th>\n      <th>solar</th>\n      <th>hydro</th>\n      <th>biomass</th>\n      <th>Slovak</th>\n      <th>Can Change</th>\n      <th>No change</th>\n    </tr>\n  </thead>\n  <tbody>\n    <tr>\n      <th>0</th>\n      <td>24</td>\n      <td>-1</td>\n      <td>-1</td>\n      <td>-1</td>\n      <td>-1</td>\n      <td>-1</td>\n      <td>-1</td>\n      <td>1</td>\n      <td>-1</td>\n    </tr>\n    <tr>\n      <th>1</th>\n      <td>29</td>\n      <td>0</td>\n      <td>0</td>\n      <td>0</td>\n      <td>0</td>\n      <td>1</td>\n      <td>1</td>\n      <td>-1</td>\n      <td>1</td>\n    </tr>\n    <tr>\n      <th>2</th>\n      <td>24</td>\n      <td>-1</td>\n      <td>-1</td>\n      <td>-1</td>\n      <td>-1</td>\n      <td>-1</td>\n      <td>-1</td>\n      <td>1</td>\n      <td>-1</td>\n    </tr>\n    <tr>\n      <th>3</th>\n      <td>29</td>\n      <td>0</td>\n      <td>0</td>\n      <td>0</td>\n      <td>1</td>\n      <td>0</td>\n      <td>1</td>\n      <td>-1</td>\n      <td>1</td>\n    </tr>\n    <tr>\n      <th>4</th>\n      <td>34</td>\n      <td>0</td>\n      <td>0</td>\n      <td>1</td>\n      <td>0</td>\n      <td>0</td>\n      <td>1</td>\n      <td>1</td>\n      <td>-1</td>\n    </tr>\n    <tr>\n      <th>...</th>\n      <td>...</td>\n      <td>...</td>\n      <td>...</td>\n      <td>...</td>\n      <td>...</td>\n      <td>...</td>\n      <td>...</td>\n      <td>...</td>\n      <td>...</td>\n    </tr>\n    <tr>\n      <th>355</th>\n      <td>29</td>\n      <td>0</td>\n      <td>0</td>\n      <td>0</td>\n      <td>0</td>\n      <td>1</td>\n      <td>1</td>\n      <td>-1</td>\n      <td>-1</td>\n    </tr>\n    <tr>\n      <th>356</th>\n      <td>31</td>\n      <td>0</td>\n      <td>0</td>\n      <td>0</td>\n      <td>0</td>\n      <td>1</td>\n      <td>1</td>\n      <td>-1</td>\n      <td>1</td>\n    </tr>\n    <tr>\n      <th>357</th>\n      <td>29</td>\n      <td>0</td>\n      <td>0</td>\n      <td>0</td>\n      <td>1</td>\n      <td>0</td>\n      <td>-1</td>\n      <td>1</td>\n      <td>-1</td>\n    </tr>\n    <tr>\n      <th>358</th>\n      <td>31</td>\n      <td>1</td>\n      <td>0</td>\n      <td>0</td>\n      <td>0</td>\n      <td>0</td>\n      <td>-1</td>\n      <td>1</td>\n      <td>1</td>\n    </tr>\n    <tr>\n      <th>359</th>\n      <td>34</td>\n      <td>0</td>\n      <td>1</td>\n      <td>0</td>\n      <td>0</td>\n      <td>0</td>\n      <td>1</td>\n      <td>-1</td>\n      <td>-1</td>\n    </tr>\n  </tbody>\n</table>\n<p>360 rows × 9 columns</p>\n</div>"
     },
     "execution_count": 50,
     "metadata": {},
     "output_type": "execute_result"
    }
   ],
   "source": [
    "x_var"
   ],
   "metadata": {
    "collapsed": false,
    "pycharm": {
     "name": "#%%\n"
    }
   }
  },
  {
   "cell_type": "code",
   "execution_count": 51,
   "outputs": [],
   "source": [
    "x_char_drop=['payment_1']\n",
    "x_char = x_char.drop(columns=x_char_drop)"
   ],
   "metadata": {
    "collapsed": false,
    "pycharm": {
     "name": "#%%\n"
    }
   }
  },
  {
   "cell_type": "code",
   "execution_count": 52,
   "outputs": [
    {
     "data": {
      "text/plain": "     Gender_f  Age  Income  No Income  Energy Consumption  Region West  \\\n0           0   36       5          0                   0            0   \n1           0   36       5          0                   0            0   \n2           0   36       5          0                   0            0   \n3           0   36       5          0                   0            0   \n4           0   36       5          0                   0            0   \n..        ...  ...     ...        ...                 ...          ...   \n355         1   27       6          0                   0            1   \n356         1   27       6          0                   0            1   \n357         1   27       6          0                   0            1   \n358         1   27       6          0                   0            1   \n359         1   27       6          0                   0            1   \n\n     Region East  Household_size  Concern_1  RES_attitude_1  \\\n0              0               3          3               3   \n1              0               3          3               3   \n2              0               3          3               3   \n3              0               3          3               3   \n4              0               3          3               3   \n..           ...             ...        ...             ...   \n355            0               2          4               5   \n356            0               2          4               5   \n357            0               2          4               5   \n358            0               2          4               5   \n359            0               2          4               5   \n\n     Know_green_provider  Providers_count  Appliance_count  Task_temp  \\\n0                      0                5                3          3   \n1                      0                5                3          3   \n2                      0                5                3          3   \n3                      0                5                3          3   \n4                      0                5                3          3   \n..                   ...              ...              ...        ...   \n355                    0                5                4          3   \n356                    0                5                4          3   \n357                    0                5                4          3   \n358                    0                5                4          3   \n359                    0                5                4          3   \n\n     Task_consumption  Task_appliances  Task_source  \n0                   4                5            3  \n1                   4                5            3  \n2                   4                5            3  \n3                   4                5            3  \n4                   4                5            3  \n..                ...              ...          ...  \n355                 5                4            3  \n356                 5                4            3  \n357                 5                4            3  \n358                 5                4            3  \n359                 5                4            3  \n\n[360 rows x 17 columns]",
      "text/html": "<div>\n<style scoped>\n    .dataframe tbody tr th:only-of-type {\n        vertical-align: middle;\n    }\n\n    .dataframe tbody tr th {\n        vertical-align: top;\n    }\n\n    .dataframe thead th {\n        text-align: right;\n    }\n</style>\n<table border=\"1\" class=\"dataframe\">\n  <thead>\n    <tr style=\"text-align: right;\">\n      <th></th>\n      <th>Gender_f</th>\n      <th>Age</th>\n      <th>Income</th>\n      <th>No Income</th>\n      <th>Energy Consumption</th>\n      <th>Region West</th>\n      <th>Region East</th>\n      <th>Household_size</th>\n      <th>Concern_1</th>\n      <th>RES_attitude_1</th>\n      <th>Know_green_provider</th>\n      <th>Providers_count</th>\n      <th>Appliance_count</th>\n      <th>Task_temp</th>\n      <th>Task_consumption</th>\n      <th>Task_appliances</th>\n      <th>Task_source</th>\n    </tr>\n  </thead>\n  <tbody>\n    <tr>\n      <th>0</th>\n      <td>0</td>\n      <td>36</td>\n      <td>5</td>\n      <td>0</td>\n      <td>0</td>\n      <td>0</td>\n      <td>0</td>\n      <td>3</td>\n      <td>3</td>\n      <td>3</td>\n      <td>0</td>\n      <td>5</td>\n      <td>3</td>\n      <td>3</td>\n      <td>4</td>\n      <td>5</td>\n      <td>3</td>\n    </tr>\n    <tr>\n      <th>1</th>\n      <td>0</td>\n      <td>36</td>\n      <td>5</td>\n      <td>0</td>\n      <td>0</td>\n      <td>0</td>\n      <td>0</td>\n      <td>3</td>\n      <td>3</td>\n      <td>3</td>\n      <td>0</td>\n      <td>5</td>\n      <td>3</td>\n      <td>3</td>\n      <td>4</td>\n      <td>5</td>\n      <td>3</td>\n    </tr>\n    <tr>\n      <th>2</th>\n      <td>0</td>\n      <td>36</td>\n      <td>5</td>\n      <td>0</td>\n      <td>0</td>\n      <td>0</td>\n      <td>0</td>\n      <td>3</td>\n      <td>3</td>\n      <td>3</td>\n      <td>0</td>\n      <td>5</td>\n      <td>3</td>\n      <td>3</td>\n      <td>4</td>\n      <td>5</td>\n      <td>3</td>\n    </tr>\n    <tr>\n      <th>3</th>\n      <td>0</td>\n      <td>36</td>\n      <td>5</td>\n      <td>0</td>\n      <td>0</td>\n      <td>0</td>\n      <td>0</td>\n      <td>3</td>\n      <td>3</td>\n      <td>3</td>\n      <td>0</td>\n      <td>5</td>\n      <td>3</td>\n      <td>3</td>\n      <td>4</td>\n      <td>5</td>\n      <td>3</td>\n    </tr>\n    <tr>\n      <th>4</th>\n      <td>0</td>\n      <td>36</td>\n      <td>5</td>\n      <td>0</td>\n      <td>0</td>\n      <td>0</td>\n      <td>0</td>\n      <td>3</td>\n      <td>3</td>\n      <td>3</td>\n      <td>0</td>\n      <td>5</td>\n      <td>3</td>\n      <td>3</td>\n      <td>4</td>\n      <td>5</td>\n      <td>3</td>\n    </tr>\n    <tr>\n      <th>...</th>\n      <td>...</td>\n      <td>...</td>\n      <td>...</td>\n      <td>...</td>\n      <td>...</td>\n      <td>...</td>\n      <td>...</td>\n      <td>...</td>\n      <td>...</td>\n      <td>...</td>\n      <td>...</td>\n      <td>...</td>\n      <td>...</td>\n      <td>...</td>\n      <td>...</td>\n      <td>...</td>\n      <td>...</td>\n    </tr>\n    <tr>\n      <th>355</th>\n      <td>1</td>\n      <td>27</td>\n      <td>6</td>\n      <td>0</td>\n      <td>0</td>\n      <td>1</td>\n      <td>0</td>\n      <td>2</td>\n      <td>4</td>\n      <td>5</td>\n      <td>0</td>\n      <td>5</td>\n      <td>4</td>\n      <td>3</td>\n      <td>5</td>\n      <td>4</td>\n      <td>3</td>\n    </tr>\n    <tr>\n      <th>356</th>\n      <td>1</td>\n      <td>27</td>\n      <td>6</td>\n      <td>0</td>\n      <td>0</td>\n      <td>1</td>\n      <td>0</td>\n      <td>2</td>\n      <td>4</td>\n      <td>5</td>\n      <td>0</td>\n      <td>5</td>\n      <td>4</td>\n      <td>3</td>\n      <td>5</td>\n      <td>4</td>\n      <td>3</td>\n    </tr>\n    <tr>\n      <th>357</th>\n      <td>1</td>\n      <td>27</td>\n      <td>6</td>\n      <td>0</td>\n      <td>0</td>\n      <td>1</td>\n      <td>0</td>\n      <td>2</td>\n      <td>4</td>\n      <td>5</td>\n      <td>0</td>\n      <td>5</td>\n      <td>4</td>\n      <td>3</td>\n      <td>5</td>\n      <td>4</td>\n      <td>3</td>\n    </tr>\n    <tr>\n      <th>358</th>\n      <td>1</td>\n      <td>27</td>\n      <td>6</td>\n      <td>0</td>\n      <td>0</td>\n      <td>1</td>\n      <td>0</td>\n      <td>2</td>\n      <td>4</td>\n      <td>5</td>\n      <td>0</td>\n      <td>5</td>\n      <td>4</td>\n      <td>3</td>\n      <td>5</td>\n      <td>4</td>\n      <td>3</td>\n    </tr>\n    <tr>\n      <th>359</th>\n      <td>1</td>\n      <td>27</td>\n      <td>6</td>\n      <td>0</td>\n      <td>0</td>\n      <td>1</td>\n      <td>0</td>\n      <td>2</td>\n      <td>4</td>\n      <td>5</td>\n      <td>0</td>\n      <td>5</td>\n      <td>4</td>\n      <td>3</td>\n      <td>5</td>\n      <td>4</td>\n      <td>3</td>\n    </tr>\n  </tbody>\n</table>\n<p>360 rows × 17 columns</p>\n</div>"
     },
     "execution_count": 52,
     "metadata": {},
     "output_type": "execute_result"
    }
   ],
   "source": [
    "x_char"
   ],
   "metadata": {
    "collapsed": false,
    "pycharm": {
     "name": "#%%\n"
    }
   }
  },
  {
   "cell_type": "markdown",
   "source": [
    "Logistic Regression"
   ],
   "metadata": {
    "collapsed": false,
    "pycharm": {
     "name": "#%% md\n"
    }
   }
  },
  {
   "cell_type": "code",
   "execution_count": 53,
   "outputs": [],
   "source": [
    "#Data Transformations\n",
    "x_log = x_var.copy()"
   ],
   "metadata": {
    "collapsed": false,
    "pycharm": {
     "name": "#%%\n"
    }
   }
  },
  {
   "cell_type": "code",
   "execution_count": 54,
   "outputs": [],
   "source": [
    "i = 1\n",
    "for char in x_char.columns:\n",
    "    i = 1\n",
    "    while i<10:\n",
    "        x_log[char+\"*\"+x_var.columns[i-1]] = x_char[char]*x_var[x_var.columns[i-1]]\n",
    "        i = i+1"
   ],
   "metadata": {
    "collapsed": false,
    "pycharm": {
     "name": "#%%\n"
    }
   }
  },
  {
   "cell_type": "code",
   "execution_count": 55,
   "outputs": [
    {
     "data": {
      "text/plain": "     Real Price  All RES  wind  solar  hydro  biomass  Slovak  Can Change  \\\n0            24       -1    -1     -1     -1       -1      -1           1   \n1            29        0     0      0      0        1       1          -1   \n2            24       -1    -1     -1     -1       -1      -1           1   \n3            29        0     0      0      1        0       1          -1   \n4            34        0     0      1      0        0       1           1   \n..          ...      ...   ...    ...    ...      ...     ...         ...   \n355          29        0     0      0      0        1       1          -1   \n356          31        0     0      0      0        1       1          -1   \n357          29        0     0      0      1        0      -1           1   \n358          31        1     0      0      0        0      -1           1   \n359          34        0     1      0      0        0       1          -1   \n\n     No change  Gender_f*Real Price  ...  Task_appliances*No change  \\\n0           -1                    0  ...                         -5   \n1            1                    0  ...                          5   \n2           -1                    0  ...                         -5   \n3            1                    0  ...                          5   \n4           -1                    0  ...                         -5   \n..         ...                  ...  ...                        ...   \n355         -1                   29  ...                         -4   \n356          1                   31  ...                          4   \n357         -1                   29  ...                         -4   \n358          1                   31  ...                          4   \n359         -1                   34  ...                         -4   \n\n     Task_source*Real Price  Task_source*All RES  Task_source*wind  \\\n0                        72                   -3                -3   \n1                        87                    0                 0   \n2                        72                   -3                -3   \n3                        87                    0                 0   \n4                       102                    0                 0   \n..                      ...                  ...               ...   \n355                      87                    0                 0   \n356                      93                    0                 0   \n357                      87                    0                 0   \n358                      93                    3                 0   \n359                     102                    0                 3   \n\n     Task_source*solar  Task_source*hydro  Task_source*biomass  \\\n0                   -3                 -3                   -3   \n1                    0                  0                    3   \n2                   -3                 -3                   -3   \n3                    0                  3                    0   \n4                    3                  0                    0   \n..                 ...                ...                  ...   \n355                  0                  0                    3   \n356                  0                  0                    3   \n357                  0                  3                    0   \n358                  0                  0                    0   \n359                  0                  0                    0   \n\n     Task_source*Slovak  Task_source*Can Change  Task_source*No change  \n0                    -3                       3                     -3  \n1                     3                      -3                      3  \n2                    -3                       3                     -3  \n3                     3                      -3                      3  \n4                     3                       3                     -3  \n..                  ...                     ...                    ...  \n355                   3                      -3                     -3  \n356                   3                      -3                      3  \n357                  -3                       3                     -3  \n358                  -3                       3                      3  \n359                   3                      -3                     -3  \n\n[360 rows x 162 columns]",
      "text/html": "<div>\n<style scoped>\n    .dataframe tbody tr th:only-of-type {\n        vertical-align: middle;\n    }\n\n    .dataframe tbody tr th {\n        vertical-align: top;\n    }\n\n    .dataframe thead th {\n        text-align: right;\n    }\n</style>\n<table border=\"1\" class=\"dataframe\">\n  <thead>\n    <tr style=\"text-align: right;\">\n      <th></th>\n      <th>Real Price</th>\n      <th>All RES</th>\n      <th>wind</th>\n      <th>solar</th>\n      <th>hydro</th>\n      <th>biomass</th>\n      <th>Slovak</th>\n      <th>Can Change</th>\n      <th>No change</th>\n      <th>Gender_f*Real Price</th>\n      <th>...</th>\n      <th>Task_appliances*No change</th>\n      <th>Task_source*Real Price</th>\n      <th>Task_source*All RES</th>\n      <th>Task_source*wind</th>\n      <th>Task_source*solar</th>\n      <th>Task_source*hydro</th>\n      <th>Task_source*biomass</th>\n      <th>Task_source*Slovak</th>\n      <th>Task_source*Can Change</th>\n      <th>Task_source*No change</th>\n    </tr>\n  </thead>\n  <tbody>\n    <tr>\n      <th>0</th>\n      <td>24</td>\n      <td>-1</td>\n      <td>-1</td>\n      <td>-1</td>\n      <td>-1</td>\n      <td>-1</td>\n      <td>-1</td>\n      <td>1</td>\n      <td>-1</td>\n      <td>0</td>\n      <td>...</td>\n      <td>-5</td>\n      <td>72</td>\n      <td>-3</td>\n      <td>-3</td>\n      <td>-3</td>\n      <td>-3</td>\n      <td>-3</td>\n      <td>-3</td>\n      <td>3</td>\n      <td>-3</td>\n    </tr>\n    <tr>\n      <th>1</th>\n      <td>29</td>\n      <td>0</td>\n      <td>0</td>\n      <td>0</td>\n      <td>0</td>\n      <td>1</td>\n      <td>1</td>\n      <td>-1</td>\n      <td>1</td>\n      <td>0</td>\n      <td>...</td>\n      <td>5</td>\n      <td>87</td>\n      <td>0</td>\n      <td>0</td>\n      <td>0</td>\n      <td>0</td>\n      <td>3</td>\n      <td>3</td>\n      <td>-3</td>\n      <td>3</td>\n    </tr>\n    <tr>\n      <th>2</th>\n      <td>24</td>\n      <td>-1</td>\n      <td>-1</td>\n      <td>-1</td>\n      <td>-1</td>\n      <td>-1</td>\n      <td>-1</td>\n      <td>1</td>\n      <td>-1</td>\n      <td>0</td>\n      <td>...</td>\n      <td>-5</td>\n      <td>72</td>\n      <td>-3</td>\n      <td>-3</td>\n      <td>-3</td>\n      <td>-3</td>\n      <td>-3</td>\n      <td>-3</td>\n      <td>3</td>\n      <td>-3</td>\n    </tr>\n    <tr>\n      <th>3</th>\n      <td>29</td>\n      <td>0</td>\n      <td>0</td>\n      <td>0</td>\n      <td>1</td>\n      <td>0</td>\n      <td>1</td>\n      <td>-1</td>\n      <td>1</td>\n      <td>0</td>\n      <td>...</td>\n      <td>5</td>\n      <td>87</td>\n      <td>0</td>\n      <td>0</td>\n      <td>0</td>\n      <td>3</td>\n      <td>0</td>\n      <td>3</td>\n      <td>-3</td>\n      <td>3</td>\n    </tr>\n    <tr>\n      <th>4</th>\n      <td>34</td>\n      <td>0</td>\n      <td>0</td>\n      <td>1</td>\n      <td>0</td>\n      <td>0</td>\n      <td>1</td>\n      <td>1</td>\n      <td>-1</td>\n      <td>0</td>\n      <td>...</td>\n      <td>-5</td>\n      <td>102</td>\n      <td>0</td>\n      <td>0</td>\n      <td>3</td>\n      <td>0</td>\n      <td>0</td>\n      <td>3</td>\n      <td>3</td>\n      <td>-3</td>\n    </tr>\n    <tr>\n      <th>...</th>\n      <td>...</td>\n      <td>...</td>\n      <td>...</td>\n      <td>...</td>\n      <td>...</td>\n      <td>...</td>\n      <td>...</td>\n      <td>...</td>\n      <td>...</td>\n      <td>...</td>\n      <td>...</td>\n      <td>...</td>\n      <td>...</td>\n      <td>...</td>\n      <td>...</td>\n      <td>...</td>\n      <td>...</td>\n      <td>...</td>\n      <td>...</td>\n      <td>...</td>\n      <td>...</td>\n    </tr>\n    <tr>\n      <th>355</th>\n      <td>29</td>\n      <td>0</td>\n      <td>0</td>\n      <td>0</td>\n      <td>0</td>\n      <td>1</td>\n      <td>1</td>\n      <td>-1</td>\n      <td>-1</td>\n      <td>29</td>\n      <td>...</td>\n      <td>-4</td>\n      <td>87</td>\n      <td>0</td>\n      <td>0</td>\n      <td>0</td>\n      <td>0</td>\n      <td>3</td>\n      <td>3</td>\n      <td>-3</td>\n      <td>-3</td>\n    </tr>\n    <tr>\n      <th>356</th>\n      <td>31</td>\n      <td>0</td>\n      <td>0</td>\n      <td>0</td>\n      <td>0</td>\n      <td>1</td>\n      <td>1</td>\n      <td>-1</td>\n      <td>1</td>\n      <td>31</td>\n      <td>...</td>\n      <td>4</td>\n      <td>93</td>\n      <td>0</td>\n      <td>0</td>\n      <td>0</td>\n      <td>0</td>\n      <td>3</td>\n      <td>3</td>\n      <td>-3</td>\n      <td>3</td>\n    </tr>\n    <tr>\n      <th>357</th>\n      <td>29</td>\n      <td>0</td>\n      <td>0</td>\n      <td>0</td>\n      <td>1</td>\n      <td>0</td>\n      <td>-1</td>\n      <td>1</td>\n      <td>-1</td>\n      <td>29</td>\n      <td>...</td>\n      <td>-4</td>\n      <td>87</td>\n      <td>0</td>\n      <td>0</td>\n      <td>0</td>\n      <td>3</td>\n      <td>0</td>\n      <td>-3</td>\n      <td>3</td>\n      <td>-3</td>\n    </tr>\n    <tr>\n      <th>358</th>\n      <td>31</td>\n      <td>1</td>\n      <td>0</td>\n      <td>0</td>\n      <td>0</td>\n      <td>0</td>\n      <td>-1</td>\n      <td>1</td>\n      <td>1</td>\n      <td>31</td>\n      <td>...</td>\n      <td>4</td>\n      <td>93</td>\n      <td>3</td>\n      <td>0</td>\n      <td>0</td>\n      <td>0</td>\n      <td>0</td>\n      <td>-3</td>\n      <td>3</td>\n      <td>3</td>\n    </tr>\n    <tr>\n      <th>359</th>\n      <td>34</td>\n      <td>0</td>\n      <td>1</td>\n      <td>0</td>\n      <td>0</td>\n      <td>0</td>\n      <td>1</td>\n      <td>-1</td>\n      <td>-1</td>\n      <td>34</td>\n      <td>...</td>\n      <td>-4</td>\n      <td>102</td>\n      <td>0</td>\n      <td>3</td>\n      <td>0</td>\n      <td>0</td>\n      <td>0</td>\n      <td>3</td>\n      <td>-3</td>\n      <td>-3</td>\n    </tr>\n  </tbody>\n</table>\n<p>360 rows × 162 columns</p>\n</div>"
     },
     "execution_count": 55,
     "metadata": {},
     "output_type": "execute_result"
    }
   ],
   "source": [
    "x_log"
   ],
   "metadata": {
    "collapsed": false,
    "pycharm": {
     "name": "#%%\n"
    }
   }
  },
  {
   "cell_type": "markdown",
   "source": [
    "LOGISTIC REGRESSION USING INTERACTED DATA"
   ],
   "metadata": {
    "collapsed": false,
    "pycharm": {
     "name": "#%% md\n"
    }
   }
  },
  {
   "cell_type": "code",
   "execution_count": 205,
   "outputs": [],
   "source": [
    "#Logistic Regression\n",
    "x_train_log, x_test_log, y_train_log, y_test_log = train_test_split(x_log, y_var, train_size=0.8, random_state=3)\n",
    "\n",
    "# standardize data (axis=0 means over the columns)\n",
    "x_train_std_log = (x_train_log - x_train_log.min(axis=0)) / (x_train_log.max(axis=0) - x_train_log.min(axis=0))\n",
    "x_test_std_log = (x_test_log - x_test_log.min(axis=0)) / (x_test_log.max(axis=0) - x_test_log.min(axis=0))"
   ],
   "metadata": {
    "collapsed": false,
    "pycharm": {
     "name": "#%%\n"
    }
   }
  },
  {
   "cell_type": "code",
   "execution_count": 206,
   "outputs": [],
   "source": [
    "modelLR = LogisticRegression(max_iter= 10000, multi_class= 'multinomial', random_state=3)  # create the logistic regression object\n",
    "modelLR = modelLR.fit(x_train_std_log, y_train_log)  # fit on trainings data"
   ],
   "metadata": {
    "collapsed": false,
    "pycharm": {
     "name": "#%%\n"
    }
   }
  },
  {
   "cell_type": "code",
   "execution_count": 207,
   "outputs": [
    {
     "data": {
      "text/plain": "(array([-0.81136516]),\n array([[ 6.27519478e-01, -5.76400619e-01, -1.28449349e-01,\n          9.29387819e-02, -5.14360719e-02, -1.99689162e-01,\n         -2.00144433e-01, -9.91078964e-02, -7.15900161e-02,\n         -4.32087784e-01, -6.26643299e-02,  7.42738141e-02,\n         -1.84813918e-01, -6.76166896e-03,  2.88537849e-01,\n          1.27304535e-02,  3.58190453e-02, -2.01776264e-02,\n          5.83620421e-01, -4.71822472e-01,  5.66738570e-01,\n         -3.51947054e-01,  2.28840300e-01,  4.00154060e-01,\n         -4.16012702e-01,  3.81883725e-02, -2.51684560e-01,\n          7.67002298e-01,  2.26027997e-01, -3.21815845e-01,\n         -1.40441667e-01,  2.96504060e-02,  2.66601963e-01,\n         -1.67505895e-01, -4.73581092e-01,  2.08521566e-01,\n         -2.29284373e-02,  4.56360149e-01, -3.25479810e-01,\n          5.79345928e-02, -1.07422690e-01,  6.18656538e-01,\n         -2.11122263e-01, -2.24739368e-01,  2.13626771e-01,\n         -7.09127268e-01,  8.44130347e-02, -6.00428664e-02,\n          6.52890439e-02, -4.51957901e-04,  5.92240666e-02,\n          8.60645150e-02,  1.24120791e-01,  1.28306402e-01,\n         -5.12569875e-01,  5.40253436e-01, -1.22966119e-01,\n         -3.89545230e-01,  1.61319335e-01, -1.48395139e-02,\n          1.58931646e-01, -9.57952326e-02,  3.22528821e-02,\n          1.44542937e-01,  1.31235878e-01, -2.01698186e-01,\n          6.92412604e-02, -1.26764335e-01,  4.81261966e-01,\n         -1.89593982e-01, -2.74504838e-01, -8.22514563e-02,\n         -5.54424319e-01,  5.49013399e-01, -5.65607225e-01,\n         -2.00839079e-01, -3.99084585e-01,  1.72511663e-01,\n         -1.41674734e-01,  6.08761945e-02,  1.51430092e-03,\n          2.16388191e-01,  2.94480833e-01,  7.59147136e-01,\n         -1.32603456e-02,  7.23164202e-04, -7.41352815e-02,\n         -4.75453960e-02,  1.55576748e-01, -9.01424040e-02,\n         -1.05042705e+00,  6.16751464e-01, -1.98609714e-01,\n         -9.29698417e-02, -4.35631362e-01, -1.91085299e-01,\n          4.01702046e-01,  4.05642922e-01,  3.02349419e-01,\n         -5.56439894e-02,  7.21460689e-02,  1.62586466e-01,\n         -6.07213430e-02, -9.22590181e-02,  1.02205179e-01,\n          1.32924704e-01,  1.79125246e-01, -2.35281556e-02,\n          2.94755864e-01,  1.12064043e-01,  3.52543806e-01,\n          2.75492746e-01,  3.80207217e-01, -1.09011598e-01,\n          1.84238734e-01, -2.61295545e-01, -5.78972886e-01,\n         -7.72594097e-01, -3.37373150e-02,  6.28360246e-02,\n          6.11247705e-01,  5.98888024e-02, -5.87219702e-03,\n         -4.07892944e-02,  1.34964392e-01, -2.66491807e-01,\n          2.69143359e-01, -2.08075553e-01, -2.80595400e-01,\n          1.80755769e-01,  9.18354030e-02, -4.87544475e-01,\n          1.63648106e-01,  2.18751366e-01,  2.49926944e-01,\n          4.90758593e-01, -4.01454644e-01,  2.46168071e-01,\n         -2.98085109e-01,  6.33275374e-01, -4.12841987e-02,\n         -1.65622686e-01, -4.78260292e-01, -1.23250161e-01,\n         -3.27025611e-02,  7.81284596e-02,  8.49858627e-02,\n          3.36244637e-02, -2.22267205e-01,  2.44148545e-01,\n          2.29181127e-01,  6.15925367e-01, -8.65455142e-02,\n          1.12153791e-01, -1.27030566e-01, -3.53613026e-01,\n          1.02343899e-01, -1.97151283e-01, -3.20267120e-01,\n          9.96978912e-02, -3.56858729e-01,  3.63171524e-01]]))"
     },
     "execution_count": 207,
     "metadata": {},
     "output_type": "execute_result"
    }
   ],
   "source": [
    "modelLR.intercept_, modelLR.coef_"
   ],
   "metadata": {
    "collapsed": false,
    "pycharm": {
     "name": "#%%\n"
    }
   }
  },
  {
   "cell_type": "code",
   "execution_count": 208,
   "outputs": [
    {
     "data": {
      "text/plain": "[0.75, 0.59, 0.44, 0.51, 0.56, 0.47, 0.35, 0.16, 0.61, 0.5]"
     },
     "execution_count": 208,
     "metadata": {},
     "output_type": "execute_result"
    }
   ],
   "source": [
    "# prediction of probabilities\n",
    "y_pred_log = modelLR.predict_proba(x_test_std_log)  # make predictions using test data\n",
    "y_pred_log = y_pred_log[0:10]\n",
    "y_pred_log_arr = [round(item[1],2) for item in y_pred_log]\n",
    "y_pred_log_arr"
   ],
   "metadata": {
    "collapsed": false,
    "pycharm": {
     "name": "#%%\n"
    }
   }
  },
  {
   "cell_type": "code",
   "execution_count": 209,
   "outputs": [
    {
     "data": {
      "text/plain": "array([1, 1, 0, 1, 1, 0, 0, 0, 1, 0, 0, 0, 0, 1, 0, 0, 1, 1, 1, 0, 1, 0,\n       1, 1, 1, 0, 0, 0, 0, 0, 0, 1, 0, 1, 1, 1, 0, 0, 0, 0, 0, 1, 0, 1,\n       1, 0, 1, 1, 0, 0, 0, 0, 0, 0, 0, 0, 1, 1, 1, 0, 1, 0, 0, 0, 1, 1,\n       0, 0, 1, 0, 0, 0, 0, 1, 1, 0, 1, 0, 0, 0, 1, 0, 0, 1, 1, 1, 0, 0,\n       1, 1, 1, 1, 0, 0, 0, 0, 1, 1, 1, 1, 0, 1, 0, 0, 1, 1, 0, 0, 0, 0,\n       1, 1, 0, 1, 1, 1, 1, 0, 0, 0, 1, 0, 1, 0, 1, 1, 0, 1, 1, 0, 1, 0,\n       1, 1, 1, 1, 0, 1, 0, 1, 0, 0, 0, 0, 1, 0, 0, 0, 0, 0, 0, 0, 0, 0,\n       1, 1, 1, 0, 0, 0, 0, 0, 1, 1, 0, 0, 0, 0, 1, 1, 1, 0, 0, 0, 1, 0,\n       0, 0, 1, 1, 0, 0, 1, 0, 1, 0, 0, 0, 0, 1, 1, 0, 0, 0, 1, 0, 0, 0,\n       0, 0, 0, 0, 0, 0, 1, 0, 1, 0, 0, 0, 0, 0, 0, 1, 1, 1, 1, 1, 1, 0,\n       1, 0, 0, 1, 1, 1, 0, 1, 0, 1, 1, 1, 0, 0, 0, 1, 0, 0, 1, 1, 0, 1,\n       1, 0, 1, 0, 0, 1, 0, 0, 1, 1, 0, 1, 0, 1, 1, 0, 0, 1, 0, 0, 1, 1,\n       1, 0, 0, 1, 0, 1, 0, 0, 1, 0, 0, 0, 0, 1, 0, 0, 1, 1, 1, 0, 0, 0,\n       1, 1, 0, 0, 1, 0, 0, 1, 0, 0, 0, 0, 0, 0, 1, 1, 0, 0, 0, 1, 1, 1,\n       0, 1, 0, 1, 0, 1, 0, 0, 0, 0, 1, 1, 1, 0, 1, 1, 0, 0, 0, 0, 1, 1,\n       1, 0, 0, 0, 0, 1, 0, 0, 0, 0, 0, 1, 1, 0, 1, 0, 1, 0, 0, 0, 0, 1,\n       0, 1, 0, 1, 0, 0, 0, 0, 1, 1, 0, 0, 1, 1, 0, 0, 0, 0, 1, 1, 0, 1,\n       1, 1, 1, 0, 1, 0, 0, 1, 0, 1, 0, 0, 1, 1, 0, 1, 1, 0, 1, 1, 1, 0,\n       1, 0, 0, 0, 0, 0, 1, 1, 1, 0, 0, 1, 0, 0, 1, 0, 0, 0, 0, 0, 0, 0,\n       0, 0, 1, 1, 0, 1, 1, 0, 1, 0, 1, 0, 1, 0, 0, 0, 1, 0, 1, 0, 0, 0,\n       0, 0, 0, 0, 0, 0, 0, 0, 0, 0, 0, 0, 0, 0, 1, 0, 1, 0, 1, 0, 0, 0,\n       1, 0, 0, 1, 0, 0, 0, 1, 0, 0, 1, 1, 1, 0, 0, 1, 1, 0, 0, 0, 0, 1,\n       1, 0, 0, 0, 0, 0, 0, 1, 0, 1, 0, 1, 1, 0, 1, 0, 1, 0, 1, 1, 0, 0,\n       1, 1, 0, 0, 1, 0, 0, 1, 0, 1, 0, 0, 0, 0, 1, 0, 1, 0, 0, 1, 0, 1,\n       1, 1, 0, 0, 0, 0, 0, 0, 1, 1])"
     },
     "execution_count": 209,
     "metadata": {},
     "output_type": "execute_result"
    }
   ],
   "source": [
    "# categorisation: binary prediction\n",
    "y_pred_log = modelLR.predict(x_test_std_log)  # make predictions using test data\n",
    "y_pred_log"
   ],
   "metadata": {
    "collapsed": false,
    "pycharm": {
     "name": "#%%\n"
    }
   }
  },
  {
   "cell_type": "code",
   "execution_count": 210,
   "outputs": [
    {
     "data": {
      "text/plain": "0.5390334572490706"
     },
     "execution_count": 210,
     "metadata": {},
     "output_type": "execute_result"
    }
   ],
   "source": [
    "from sklearn.metrics import accuracy_score\n",
    "accuracy_log = accuracy_score(y_test_log, y_pred_log)\n",
    "accuracy_log"
   ],
   "metadata": {
    "collapsed": false,
    "pycharm": {
     "name": "#%%\n"
    }
   }
  },
  {
   "cell_type": "code",
   "execution_count": 211,
   "outputs": [
    {
     "data": {
      "text/plain": "<sklearn.metrics._plot.confusion_matrix.ConfusionMatrixDisplay at 0x7fc02a9c7610>"
     },
     "execution_count": 211,
     "metadata": {},
     "output_type": "execute_result"
    },
    {
     "data": {
      "text/plain": "<Figure size 432x288 with 2 Axes>",
      "image/png": "[encoded data removed]"
     },
     "metadata": {
      "needs_background": "light"
     },
     "output_type": "display_data"
    }
   ],
   "source": [
    "from sklearn.metrics import plot_confusion_matrix\n",
    "\n",
    "## Plot confusion matrix\n",
    "conf_matrix_log = plot_confusion_matrix(modelLR, x_test_std_log, y_test_log,\n",
    "                                    display_labels=[\"No Choice\", \"Choice\"])\n",
    "conf_matrix_log.ax_.set_title(\"Confusion matrix logistic regression\")\n",
    "conf_matrix_log"
   ],
   "metadata": {
    "collapsed": false,
    "pycharm": {
     "name": "#%%\n"
    }
   }
  },
  {
   "cell_type": "markdown",
   "source": [
    "RANDOM FOREST USING INTERACTED DATA"
   ],
   "metadata": {
    "collapsed": false,
    "pycharm": {
     "name": "#%% md\n"
    }
   }
  },
  {
   "cell_type": "code",
   "execution_count": 241,
   "outputs": [
    {
     "data": {
      "text/plain": "      Real Price  All RES  wind  solar  hydro  biomass  Slovak  Can Change  \\\n0             45       -1    -1     -1     -1       -1      -1           1   \n1             50        0     0      0      0        1       1          -1   \n2             45       -1    -1     -1     -1       -1      -1           1   \n3             50        0     0      0      1        0       1          -1   \n4             55        0     0      1      0        0       1           1   \n...          ...      ...   ...    ...    ...      ...     ...         ...   \n2683          75        0     0      0      0        1       1          -1   \n2684          77        0     0      0      0        1       1          -1   \n2685          75        0     0      0      1        0      -1           1   \n2686          77        1     0      0      0        0      -1           1   \n2687          80        0     1      0      0        0       1          -1   \n\n      No change  Gender_f*Real Price  ...  Task_appliances*No change  \\\n0            -1                    0  ...                         -5   \n1             1                    0  ...                          5   \n2            -1                    0  ...                         -5   \n3             1                    0  ...                          5   \n4            -1                    0  ...                         -5   \n...         ...                  ...  ...                        ...   \n2683         -1                   75  ...                         -5   \n2684          1                   77  ...                          5   \n2685         -1                   75  ...                         -5   \n2686          1                   77  ...                          5   \n2687         -1                   80  ...                         -5   \n\n      Task_source*Real Price  Task_source*All RES  Task_source*wind  \\\n0                         90                   -2                -2   \n1                        100                    0                 0   \n2                         90                   -2                -2   \n3                        100                    0                 0   \n4                        110                    0                 0   \n...                      ...                  ...               ...   \n2683                     225                    0                 0   \n2684                     231                    0                 0   \n2685                     225                    0                 0   \n2686                     231                    3                 0   \n2687                     240                    0                 3   \n\n      Task_source*solar  Task_source*hydro  Task_source*biomass  \\\n0                    -2                 -2                   -2   \n1                     0                  0                    2   \n2                    -2                 -2                   -2   \n3                     0                  2                    0   \n4                     2                  0                    0   \n...                 ...                ...                  ...   \n2683                  0                  0                    3   \n2684                  0                  0                    3   \n2685                  0                  3                    0   \n2686                  0                  0                    0   \n2687                  0                  0                    0   \n\n      Task_source*Slovak  Task_source*Can Change  Task_source*No change  \n0                     -2                       2                     -2  \n1                      2                      -2                      2  \n2                     -2                       2                     -2  \n3                      2                      -2                      2  \n4                      2                       2                     -2  \n...                  ...                     ...                    ...  \n2683                   3                      -3                     -3  \n2684                   3                      -3                      3  \n2685                  -3                       3                     -3  \n2686                  -3                       3                      3  \n2687                   3                      -3                     -3  \n\n[2688 rows x 162 columns]",
      "text/html": "<div>\n<style scoped>\n    .dataframe tbody tr th:only-of-type {\n        vertical-align: middle;\n    }\n\n    .dataframe tbody tr th {\n        vertical-align: top;\n    }\n\n    .dataframe thead th {\n        text-align: right;\n    }\n</style>\n<table border=\"1\" class=\"dataframe\">\n  <thead>\n    <tr style=\"text-align: right;\">\n      <th></th>\n      <th>Real Price</th>\n      <th>All RES</th>\n      <th>wind</th>\n      <th>solar</th>\n      <th>hydro</th>\n      <th>biomass</th>\n      <th>Slovak</th>\n      <th>Can Change</th>\n      <th>No change</th>\n      <th>Gender_f*Real Price</th>\n      <th>...</th>\n      <th>Task_appliances*No change</th>\n      <th>Task_source*Real Price</th>\n      <th>Task_source*All RES</th>\n      <th>Task_source*wind</th>\n      <th>Task_source*solar</th>\n      <th>Task_source*hydro</th>\n      <th>Task_source*biomass</th>\n      <th>Task_source*Slovak</th>\n      <th>Task_source*Can Change</th>\n      <th>Task_source*No change</th>\n    </tr>\n  </thead>\n  <tbody>\n    <tr>\n      <th>0</th>\n      <td>45</td>\n      <td>-1</td>\n      <td>-1</td>\n      <td>-1</td>\n      <td>-1</td>\n      <td>-1</td>\n      <td>-1</td>\n      <td>1</td>\n      <td>-1</td>\n      <td>0</td>\n      <td>...</td>\n      <td>-5</td>\n      <td>90</td>\n      <td>-2</td>\n      <td>-2</td>\n      <td>-2</td>\n      <td>-2</td>\n      <td>-2</td>\n      <td>-2</td>\n      <td>2</td>\n      <td>-2</td>\n    </tr>\n    <tr>\n      <th>1</th>\n      <td>50</td>\n      <td>0</td>\n      <td>0</td>\n      <td>0</td>\n      <td>0</td>\n      <td>1</td>\n      <td>1</td>\n      <td>-1</td>\n      <td>1</td>\n      <td>0</td>\n      <td>...</td>\n      <td>5</td>\n      <td>100</td>\n      <td>0</td>\n      <td>0</td>\n      <td>0</td>\n      <td>0</td>\n      <td>2</td>\n      <td>2</td>\n      <td>-2</td>\n      <td>2</td>\n    </tr>\n    <tr>\n      <th>2</th>\n      <td>45</td>\n      <td>-1</td>\n      <td>-1</td>\n      <td>-1</td>\n      <td>-1</td>\n      <td>-1</td>\n      <td>-1</td>\n      <td>1</td>\n      <td>-1</td>\n      <td>0</td>\n      <td>...</td>\n      <td>-5</td>\n      <td>90</td>\n      <td>-2</td>\n      <td>-2</td>\n      <td>-2</td>\n      <td>-2</td>\n      <td>-2</td>\n      <td>-2</td>\n      <td>2</td>\n      <td>-2</td>\n    </tr>\n    <tr>\n      <th>3</th>\n      <td>50</td>\n      <td>0</td>\n      <td>0</td>\n      <td>0</td>\n      <td>1</td>\n      <td>0</td>\n      <td>1</td>\n      <td>-1</td>\n      <td>1</td>\n      <td>0</td>\n      <td>...</td>\n      <td>5</td>\n      <td>100</td>\n      <td>0</td>\n      <td>0</td>\n      <td>0</td>\n      <td>2</td>\n      <td>0</td>\n      <td>2</td>\n      <td>-2</td>\n      <td>2</td>\n    </tr>\n    <tr>\n      <th>4</th>\n      <td>55</td>\n      <td>0</td>\n      <td>0</td>\n      <td>1</td>\n      <td>0</td>\n      <td>0</td>\n      <td>1</td>\n      <td>1</td>\n      <td>-1</td>\n      <td>0</td>\n      <td>...</td>\n      <td>-5</td>\n      <td>110</td>\n      <td>0</td>\n      <td>0</td>\n      <td>2</td>\n      <td>0</td>\n      <td>0</td>\n      <td>2</td>\n      <td>2</td>\n      <td>-2</td>\n    </tr>\n    <tr>\n      <th>...</th>\n      <td>...</td>\n      <td>...</td>\n      <td>...</td>\n      <td>...</td>\n      <td>...</td>\n      <td>...</td>\n      <td>...</td>\n      <td>...</td>\n      <td>...</td>\n      <td>...</td>\n      <td>...</td>\n      <td>...</td>\n      <td>...</td>\n      <td>...</td>\n      <td>...</td>\n      <td>...</td>\n      <td>...</td>\n      <td>...</td>\n      <td>...</td>\n      <td>...</td>\n      <td>...</td>\n    </tr>\n    <tr>\n      <th>2683</th>\n      <td>75</td>\n      <td>0</td>\n      <td>0</td>\n      <td>0</td>\n      <td>0</td>\n      <td>1</td>\n      <td>1</td>\n      <td>-1</td>\n      <td>-1</td>\n      <td>75</td>\n      <td>...</td>\n      <td>-5</td>\n      <td>225</td>\n      <td>0</td>\n      <td>0</td>\n      <td>0</td>\n      <td>0</td>\n      <td>3</td>\n      <td>3</td>\n      <td>-3</td>\n      <td>-3</td>\n    </tr>\n    <tr>\n      <th>2684</th>\n      <td>77</td>\n      <td>0</td>\n      <td>0</td>\n      <td>0</td>\n      <td>0</td>\n      <td>1</td>\n      <td>1</td>\n      <td>-1</td>\n      <td>1</td>\n      <td>77</td>\n      <td>...</td>\n      <td>5</td>\n      <td>231</td>\n      <td>0</td>\n      <td>0</td>\n      <td>0</td>\n      <td>0</td>\n      <td>3</td>\n      <td>3</td>\n      <td>-3</td>\n      <td>3</td>\n    </tr>\n    <tr>\n      <th>2685</th>\n      <td>75</td>\n      <td>0</td>\n      <td>0</td>\n      <td>0</td>\n      <td>1</td>\n      <td>0</td>\n      <td>-1</td>\n      <td>1</td>\n      <td>-1</td>\n      <td>75</td>\n      <td>...</td>\n      <td>-5</td>\n      <td>225</td>\n      <td>0</td>\n      <td>0</td>\n      <td>0</td>\n      <td>3</td>\n      <td>0</td>\n      <td>-3</td>\n      <td>3</td>\n      <td>-3</td>\n    </tr>\n    <tr>\n      <th>2686</th>\n      <td>77</td>\n      <td>1</td>\n      <td>0</td>\n      <td>0</td>\n      <td>0</td>\n      <td>0</td>\n      <td>-1</td>\n      <td>1</td>\n      <td>1</td>\n      <td>77</td>\n      <td>...</td>\n      <td>5</td>\n      <td>231</td>\n      <td>3</td>\n      <td>0</td>\n      <td>0</td>\n      <td>0</td>\n      <td>0</td>\n      <td>-3</td>\n      <td>3</td>\n      <td>3</td>\n    </tr>\n    <tr>\n      <th>2687</th>\n      <td>80</td>\n      <td>0</td>\n      <td>1</td>\n      <td>0</td>\n      <td>0</td>\n      <td>0</td>\n      <td>1</td>\n      <td>-1</td>\n      <td>-1</td>\n      <td>80</td>\n      <td>...</td>\n      <td>-5</td>\n      <td>240</td>\n      <td>0</td>\n      <td>3</td>\n      <td>0</td>\n      <td>0</td>\n      <td>0</td>\n      <td>3</td>\n      <td>-3</td>\n      <td>-3</td>\n    </tr>\n  </tbody>\n</table>\n<p>2688 rows × 162 columns</p>\n</div>"
     },
     "execution_count": 241,
     "metadata": {},
     "output_type": "execute_result"
    }
   ],
   "source": [
    "x_log"
   ],
   "metadata": {
    "collapsed": false,
    "pycharm": {
     "name": "#%%\n"
    }
   }
  },
  {
   "cell_type": "code",
   "execution_count": 261,
   "outputs": [],
   "source": [
    "x_log_2 = x_log.copy()\n",
    "x_log_2 = x_log_2.drop(columns=x_log_2.iloc[:1,x_log_2.columns.get_loc('Gender_f*Real Price'):x_log_2.columns.get_loc('Household_size*No change')+1])"
   ],
   "metadata": {
    "collapsed": false,
    "pycharm": {
     "name": "#%%\n"
    }
   }
  },
  {
   "cell_type": "code",
   "execution_count": 262,
   "outputs": [],
   "source": [
    "x_log_2['Set_Id'] = merged1['SetID_1']"
   ],
   "metadata": {
    "collapsed": false,
    "pycharm": {
     "name": "#%%\n"
    }
   }
  },
  {
   "cell_type": "code",
   "execution_count": 263,
   "outputs": [
    {
     "data": {
      "text/plain": "      Real Price  All RES  wind  solar  hydro  biomass  Slovak  Can Change  \\\n0             45       -1    -1     -1     -1       -1      -1           1   \n1             50        0     0      0      0        1       1          -1   \n2             45       -1    -1     -1     -1       -1      -1           1   \n3             50        0     0      0      1        0       1          -1   \n4             55        0     0      1      0        0       1           1   \n...          ...      ...   ...    ...    ...      ...     ...         ...   \n2683          75        0     0      0      0        1       1          -1   \n2684          77        0     0      0      0        1       1          -1   \n2685          75        0     0      0      1        0      -1           1   \n2686          77        1     0      0      0        0      -1           1   \n2687          80        0     1      0      0        0       1          -1   \n\n      No change  Concern_1*Real Price  ...  Task_source*Real Price  \\\n0            -1                    45  ...                      90   \n1             1                    50  ...                     100   \n2            -1                    45  ...                      90   \n3             1                    50  ...                     100   \n4            -1                    55  ...                     110   \n...         ...                   ...  ...                     ...   \n2683         -1                   150  ...                     225   \n2684          1                   154  ...                     231   \n2685         -1                   150  ...                     225   \n2686          1                   154  ...                     231   \n2687         -1                   160  ...                     240   \n\n      Task_source*All RES  Task_source*wind  Task_source*solar  \\\n0                      -2                -2                 -2   \n1                       0                 0                  0   \n2                      -2                -2                 -2   \n3                       0                 0                  0   \n4                       0                 0                  2   \n...                   ...               ...                ...   \n2683                    0                 0                  0   \n2684                    0                 0                  0   \n2685                    0                 0                  0   \n2686                    3                 0                  0   \n2687                    0                 3                  0   \n\n      Task_source*hydro  Task_source*biomass  Task_source*Slovak  \\\n0                    -2                   -2                  -2   \n1                     0                    2                   2   \n2                    -2                   -2                  -2   \n3                     2                    0                   2   \n4                     0                    0                   2   \n...                 ...                  ...                 ...   \n2683                  0                    3                   3   \n2684                  0                    3                   3   \n2685                  3                    0                  -3   \n2686                  0                    0                  -3   \n2687                  0                    0                   3   \n\n      Task_source*Can Change  Task_source*No change  Set_Id  \n0                          2                     -2       1  \n1                         -2                      2       1  \n2                          2                     -2       2  \n3                         -2                      2       2  \n4                          2                     -2       3  \n...                      ...                    ...     ...  \n2683                      -3                     -3      10  \n2684                      -3                      3      11  \n2685                       3                     -3      11  \n2686                       3                      3      12  \n2687                      -3                     -3      12  \n\n[2688 rows x 91 columns]",
      "text/html": "<div>\n<style scoped>\n    .dataframe tbody tr th:only-of-type {\n        vertical-align: middle;\n    }\n\n    .dataframe tbody tr th {\n        vertical-align: top;\n    }\n\n    .dataframe thead th {\n        text-align: right;\n    }\n</style>\n<table border=\"1\" class=\"dataframe\">\n  <thead>\n    <tr style=\"text-align: right;\">\n      <th></th>\n      <th>Real Price</th>\n      <th>All RES</th>\n      <th>wind</th>\n      <th>solar</th>\n      <th>hydro</th>\n      <th>biomass</th>\n      <th>Slovak</th>\n      <th>Can Change</th>\n      <th>No change</th>\n      <th>Concern_1*Real Price</th>\n      <th>...</th>\n      <th>Task_source*Real Price</th>\n      <th>Task_source*All RES</th>\n      <th>Task_source*wind</th>\n      <th>Task_source*solar</th>\n      <th>Task_source*hydro</th>\n      <th>Task_source*biomass</th>\n      <th>Task_source*Slovak</th>\n      <th>Task_source*Can Change</th>\n      <th>Task_source*No change</th>\n      <th>Set_Id</th>\n    </tr>\n  </thead>\n  <tbody>\n    <tr>\n      <th>0</th>\n      <td>45</td>\n      <td>-1</td>\n      <td>-1</td>\n      <td>-1</td>\n      <td>-1</td>\n      <td>-1</td>\n      <td>-1</td>\n      <td>1</td>\n      <td>-1</td>\n      <td>45</td>\n      <td>...</td>\n      <td>90</td>\n      <td>-2</td>\n      <td>-2</td>\n      <td>-2</td>\n      <td>-2</td>\n      <td>-2</td>\n      <td>-2</td>\n      <td>2</td>\n      <td>-2</td>\n      <td>1</td>\n    </tr>\n    <tr>\n      <th>1</th>\n      <td>50</td>\n      <td>0</td>\n      <td>0</td>\n      <td>0</td>\n      <td>0</td>\n      <td>1</td>\n      <td>1</td>\n      <td>-1</td>\n      <td>1</td>\n      <td>50</td>\n      <td>...</td>\n      <td>100</td>\n      <td>0</td>\n      <td>0</td>\n      <td>0</td>\n      <td>0</td>\n      <td>2</td>\n      <td>2</td>\n      <td>-2</td>\n      <td>2</td>\n      <td>1</td>\n    </tr>\n    <tr>\n      <th>2</th>\n      <td>45</td>\n      <td>-1</td>\n      <td>-1</td>\n      <td>-1</td>\n      <td>-1</td>\n      <td>-1</td>\n      <td>-1</td>\n      <td>1</td>\n      <td>-1</td>\n      <td>45</td>\n      <td>...</td>\n      <td>90</td>\n      <td>-2</td>\n      <td>-2</td>\n      <td>-2</td>\n      <td>-2</td>\n      <td>-2</td>\n      <td>-2</td>\n      <td>2</td>\n      <td>-2</td>\n      <td>2</td>\n    </tr>\n    <tr>\n      <th>3</th>\n      <td>50</td>\n      <td>0</td>\n      <td>0</td>\n      <td>0</td>\n      <td>1</td>\n      <td>0</td>\n      <td>1</td>\n      <td>-1</td>\n      <td>1</td>\n      <td>50</td>\n      <td>...</td>\n      <td>100</td>\n      <td>0</td>\n      <td>0</td>\n      <td>0</td>\n      <td>2</td>\n      <td>0</td>\n      <td>2</td>\n      <td>-2</td>\n      <td>2</td>\n      <td>2</td>\n    </tr>\n    <tr>\n      <th>4</th>\n      <td>55</td>\n      <td>0</td>\n      <td>0</td>\n      <td>1</td>\n      <td>0</td>\n      <td>0</td>\n      <td>1</td>\n      <td>1</td>\n      <td>-1</td>\n      <td>55</td>\n      <td>...</td>\n      <td>110</td>\n      <td>0</td>\n      <td>0</td>\n      <td>2</td>\n      <td>0</td>\n      <td>0</td>\n      <td>2</td>\n      <td>2</td>\n      <td>-2</td>\n      <td>3</td>\n    </tr>\n    <tr>\n      <th>...</th>\n      <td>...</td>\n      <td>...</td>\n      <td>...</td>\n      <td>...</td>\n      <td>...</td>\n      <td>...</td>\n      <td>...</td>\n      <td>...</td>\n      <td>...</td>\n      <td>...</td>\n      <td>...</td>\n      <td>...</td>\n      <td>...</td>\n      <td>...</td>\n      <td>...</td>\n      <td>...</td>\n      <td>...</td>\n      <td>...</td>\n      <td>...</td>\n      <td>...</td>\n      <td>...</td>\n    </tr>\n    <tr>\n      <th>2683</th>\n      <td>75</td>\n      <td>0</td>\n      <td>0</td>\n      <td>0</td>\n      <td>0</td>\n      <td>1</td>\n      <td>1</td>\n      <td>-1</td>\n      <td>-1</td>\n      <td>150</td>\n      <td>...</td>\n      <td>225</td>\n      <td>0</td>\n      <td>0</td>\n      <td>0</td>\n      <td>0</td>\n      <td>3</td>\n      <td>3</td>\n      <td>-3</td>\n      <td>-3</td>\n      <td>10</td>\n    </tr>\n    <tr>\n      <th>2684</th>\n      <td>77</td>\n      <td>0</td>\n      <td>0</td>\n      <td>0</td>\n      <td>0</td>\n      <td>1</td>\n      <td>1</td>\n      <td>-1</td>\n      <td>1</td>\n      <td>154</td>\n      <td>...</td>\n      <td>231</td>\n      <td>0</td>\n      <td>0</td>\n      <td>0</td>\n      <td>0</td>\n      <td>3</td>\n      <td>3</td>\n      <td>-3</td>\n      <td>3</td>\n      <td>11</td>\n    </tr>\n    <tr>\n      <th>2685</th>\n      <td>75</td>\n      <td>0</td>\n      <td>0</td>\n      <td>0</td>\n      <td>1</td>\n      <td>0</td>\n      <td>-1</td>\n      <td>1</td>\n      <td>-1</td>\n      <td>150</td>\n      <td>...</td>\n      <td>225</td>\n      <td>0</td>\n      <td>0</td>\n      <td>0</td>\n      <td>3</td>\n      <td>0</td>\n      <td>-3</td>\n      <td>3</td>\n      <td>-3</td>\n      <td>11</td>\n    </tr>\n    <tr>\n      <th>2686</th>\n      <td>77</td>\n      <td>1</td>\n      <td>0</td>\n      <td>0</td>\n      <td>0</td>\n      <td>0</td>\n      <td>-1</td>\n      <td>1</td>\n      <td>1</td>\n      <td>154</td>\n      <td>...</td>\n      <td>231</td>\n      <td>3</td>\n      <td>0</td>\n      <td>0</td>\n      <td>0</td>\n      <td>0</td>\n      <td>-3</td>\n      <td>3</td>\n      <td>3</td>\n      <td>12</td>\n    </tr>\n    <tr>\n      <th>2687</th>\n      <td>80</td>\n      <td>0</td>\n      <td>1</td>\n      <td>0</td>\n      <td>0</td>\n      <td>0</td>\n      <td>1</td>\n      <td>-1</td>\n      <td>-1</td>\n      <td>160</td>\n      <td>...</td>\n      <td>240</td>\n      <td>0</td>\n      <td>3</td>\n      <td>0</td>\n      <td>0</td>\n      <td>0</td>\n      <td>3</td>\n      <td>-3</td>\n      <td>-3</td>\n      <td>12</td>\n    </tr>\n  </tbody>\n</table>\n<p>2688 rows × 91 columns</p>\n</div>"
     },
     "execution_count": 263,
     "metadata": {},
     "output_type": "execute_result"
    }
   ],
   "source": [
    "x_log_2"
   ],
   "metadata": {
    "collapsed": false,
    "pycharm": {
     "name": "#%%\n"
    }
   }
  },
  {
   "cell_type": "code",
   "execution_count": 273,
   "outputs": [],
   "source": [
    "from sklearn.preprocessing import StandardScaler, normalize\n",
    "\n",
    "#Random Forest\n",
    "x_train_for, x_test_for, y_train_for, y_test_for = train_test_split(x_log_2, y_var, train_size=0.8,random_state=3)\n",
    "\n",
    "# standardize data (axis=0 means over the columns)\n",
    "sc = StandardScaler()\n",
    "x_train_for_std = sc.fit_transform(x_train_for)\n",
    "x_test_for_std = sc.fit_transform(x_test_for) #Standardizes data to remove biases\n",
    "\n",
    "from sklearn.ensemble import RandomForestClassifier as RFC\n",
    "\n",
    "for_model=RFC(random_state=3)"
   ],
   "metadata": {
    "collapsed": false,
    "pycharm": {
     "name": "#%%\n"
    }
   }
  },
  {
   "cell_type": "code",
   "execution_count": 146,
   "outputs": [],
   "source": [
    "#grid search CV\n",
    "\n",
    "from sklearn.model_selection import GridSearchCV\n",
    "\n",
    "for_parameters = {'n_estimators': [50,100,200,500,750,1000],\n",
    "                 'max_features': [3,4,5], 'max_depth': [10,15,20,25],'min_samples_leaf': [5,10,15]}\n",
    "\n",
    "optimal_for = GridSearchCV(estimator=for_model,param_grid=for_parameters,cv=5,scoring='recall',verbose=0, n_jobs=-1 )"
   ],
   "metadata": {
    "collapsed": false,
    "pycharm": {
     "name": "#%%\n"
    }
   }
  },
  {
   "cell_type": "code",
   "execution_count": 147,
   "outputs": [
    {
     "ename": "KeyboardInterrupt",
     "evalue": "",
     "output_type": "error",
     "traceback": [
      "\u001B[0;31m---------------------------------------------------------------------------\u001B[0m",
      "\u001B[0;31mKeyboardInterrupt\u001B[0m                         Traceback (most recent call last)",
      "\u001B[0;32m<ipython-input-147-4b0c2521242b>\u001B[0m in \u001B[0;36m<module>\u001B[0;34m\u001B[0m\n\u001B[0;32m----> 1\u001B[0;31m \u001B[0moptimal_for\u001B[0m\u001B[0;34m.\u001B[0m\u001B[0mfit\u001B[0m\u001B[0;34m(\u001B[0m\u001B[0mx_train_for_std\u001B[0m\u001B[0;34m,\u001B[0m\u001B[0my_train_for\u001B[0m\u001B[0;34m)\u001B[0m\u001B[0;34m\u001B[0m\u001B[0;34m\u001B[0m\u001B[0m\n\u001B[0m",
      "\u001B[0;32m~/opt/anaconda3/lib/python3.8/site-packages/sklearn/utils/validation.py\u001B[0m in \u001B[0;36minner_f\u001B[0;34m(*args, **kwargs)\u001B[0m\n\u001B[1;32m     61\u001B[0m             \u001B[0mextra_args\u001B[0m \u001B[0;34m=\u001B[0m \u001B[0mlen\u001B[0m\u001B[0;34m(\u001B[0m\u001B[0margs\u001B[0m\u001B[0;34m)\u001B[0m \u001B[0;34m-\u001B[0m \u001B[0mlen\u001B[0m\u001B[0;34m(\u001B[0m\u001B[0mall_args\u001B[0m\u001B[0;34m)\u001B[0m\u001B[0;34m\u001B[0m\u001B[0;34m\u001B[0m\u001B[0m\n\u001B[1;32m     62\u001B[0m             \u001B[0;32mif\u001B[0m \u001B[0mextra_args\u001B[0m \u001B[0;34m<=\u001B[0m \u001B[0;36m0\u001B[0m\u001B[0;34m:\u001B[0m\u001B[0;34m\u001B[0m\u001B[0;34m\u001B[0m\u001B[0m\n\u001B[0;32m---> 63\u001B[0;31m                 \u001B[0;32mreturn\u001B[0m \u001B[0mf\u001B[0m\u001B[0;34m(\u001B[0m\u001B[0;34m*\u001B[0m\u001B[0margs\u001B[0m\u001B[0;34m,\u001B[0m \u001B[0;34m**\u001B[0m\u001B[0mkwargs\u001B[0m\u001B[0;34m)\u001B[0m\u001B[0;34m\u001B[0m\u001B[0;34m\u001B[0m\u001B[0m\n\u001B[0m\u001B[1;32m     64\u001B[0m \u001B[0;34m\u001B[0m\u001B[0m\n\u001B[1;32m     65\u001B[0m             \u001B[0;31m# extra_args > 0\u001B[0m\u001B[0;34m\u001B[0m\u001B[0;34m\u001B[0m\u001B[0;34m\u001B[0m\u001B[0m\n",
      "\u001B[0;32m~/opt/anaconda3/lib/python3.8/site-packages/sklearn/model_selection/_search.py\u001B[0m in \u001B[0;36mfit\u001B[0;34m(self, X, y, groups, **fit_params)\u001B[0m\n\u001B[1;32m    839\u001B[0m                 \u001B[0;32mreturn\u001B[0m \u001B[0mresults\u001B[0m\u001B[0;34m\u001B[0m\u001B[0;34m\u001B[0m\u001B[0m\n\u001B[1;32m    840\u001B[0m \u001B[0;34m\u001B[0m\u001B[0m\n\u001B[0;32m--> 841\u001B[0;31m             \u001B[0mself\u001B[0m\u001B[0;34m.\u001B[0m\u001B[0m_run_search\u001B[0m\u001B[0;34m(\u001B[0m\u001B[0mevaluate_candidates\u001B[0m\u001B[0;34m)\u001B[0m\u001B[0;34m\u001B[0m\u001B[0;34m\u001B[0m\u001B[0m\n\u001B[0m\u001B[1;32m    842\u001B[0m \u001B[0;34m\u001B[0m\u001B[0m\n\u001B[1;32m    843\u001B[0m             \u001B[0;31m# multimetric is determined here because in the case of a callable\u001B[0m\u001B[0;34m\u001B[0m\u001B[0;34m\u001B[0m\u001B[0;34m\u001B[0m\u001B[0m\n",
      "\u001B[0;32m~/opt/anaconda3/lib/python3.8/site-packages/sklearn/model_selection/_search.py\u001B[0m in \u001B[0;36m_run_search\u001B[0;34m(self, evaluate_candidates)\u001B[0m\n\u001B[1;32m   1286\u001B[0m     \u001B[0;32mdef\u001B[0m \u001B[0m_run_search\u001B[0m\u001B[0;34m(\u001B[0m\u001B[0mself\u001B[0m\u001B[0;34m,\u001B[0m \u001B[0mevaluate_candidates\u001B[0m\u001B[0;34m)\u001B[0m\u001B[0;34m:\u001B[0m\u001B[0;34m\u001B[0m\u001B[0;34m\u001B[0m\u001B[0m\n\u001B[1;32m   1287\u001B[0m         \u001B[0;34m\"\"\"Search all candidates in param_grid\"\"\"\u001B[0m\u001B[0;34m\u001B[0m\u001B[0;34m\u001B[0m\u001B[0m\n\u001B[0;32m-> 1288\u001B[0;31m         \u001B[0mevaluate_candidates\u001B[0m\u001B[0;34m(\u001B[0m\u001B[0mParameterGrid\u001B[0m\u001B[0;34m(\u001B[0m\u001B[0mself\u001B[0m\u001B[0;34m.\u001B[0m\u001B[0mparam_grid\u001B[0m\u001B[0;34m)\u001B[0m\u001B[0;34m)\u001B[0m\u001B[0;34m\u001B[0m\u001B[0;34m\u001B[0m\u001B[0m\n\u001B[0m\u001B[1;32m   1289\u001B[0m \u001B[0;34m\u001B[0m\u001B[0m\n\u001B[1;32m   1290\u001B[0m \u001B[0;34m\u001B[0m\u001B[0m\n",
      "\u001B[0;32m~/opt/anaconda3/lib/python3.8/site-packages/sklearn/model_selection/_search.py\u001B[0m in \u001B[0;36mevaluate_candidates\u001B[0;34m(candidate_params, cv, more_results)\u001B[0m\n\u001B[1;32m    793\u001B[0m                               n_splits, n_candidates, n_candidates * n_splits))\n\u001B[1;32m    794\u001B[0m \u001B[0;34m\u001B[0m\u001B[0m\n\u001B[0;32m--> 795\u001B[0;31m                 out = parallel(delayed(_fit_and_score)(clone(base_estimator),\n\u001B[0m\u001B[1;32m    796\u001B[0m                                                        \u001B[0mX\u001B[0m\u001B[0;34m,\u001B[0m \u001B[0my\u001B[0m\u001B[0;34m,\u001B[0m\u001B[0;34m\u001B[0m\u001B[0;34m\u001B[0m\u001B[0m\n\u001B[1;32m    797\u001B[0m                                                        \u001B[0mtrain\u001B[0m\u001B[0;34m=\u001B[0m\u001B[0mtrain\u001B[0m\u001B[0;34m,\u001B[0m \u001B[0mtest\u001B[0m\u001B[0;34m=\u001B[0m\u001B[0mtest\u001B[0m\u001B[0;34m,\u001B[0m\u001B[0;34m\u001B[0m\u001B[0;34m\u001B[0m\u001B[0m\n",
      "\u001B[0;32m~/opt/anaconda3/lib/python3.8/site-packages/joblib/parallel.py\u001B[0m in \u001B[0;36m__call__\u001B[0;34m(self, iterable)\u001B[0m\n\u001B[1;32m   1052\u001B[0m \u001B[0;34m\u001B[0m\u001B[0m\n\u001B[1;32m   1053\u001B[0m             \u001B[0;32mwith\u001B[0m \u001B[0mself\u001B[0m\u001B[0;34m.\u001B[0m\u001B[0m_backend\u001B[0m\u001B[0;34m.\u001B[0m\u001B[0mretrieval_context\u001B[0m\u001B[0;34m(\u001B[0m\u001B[0;34m)\u001B[0m\u001B[0;34m:\u001B[0m\u001B[0;34m\u001B[0m\u001B[0;34m\u001B[0m\u001B[0m\n\u001B[0;32m-> 1054\u001B[0;31m                 \u001B[0mself\u001B[0m\u001B[0;34m.\u001B[0m\u001B[0mretrieve\u001B[0m\u001B[0;34m(\u001B[0m\u001B[0;34m)\u001B[0m\u001B[0;34m\u001B[0m\u001B[0;34m\u001B[0m\u001B[0m\n\u001B[0m\u001B[1;32m   1055\u001B[0m             \u001B[0;31m# Make sure that we get a last message telling us we are done\u001B[0m\u001B[0;34m\u001B[0m\u001B[0;34m\u001B[0m\u001B[0;34m\u001B[0m\u001B[0m\n\u001B[1;32m   1056\u001B[0m             \u001B[0melapsed_time\u001B[0m \u001B[0;34m=\u001B[0m \u001B[0mtime\u001B[0m\u001B[0;34m.\u001B[0m\u001B[0mtime\u001B[0m\u001B[0;34m(\u001B[0m\u001B[0;34m)\u001B[0m \u001B[0;34m-\u001B[0m \u001B[0mself\u001B[0m\u001B[0;34m.\u001B[0m\u001B[0m_start_time\u001B[0m\u001B[0;34m\u001B[0m\u001B[0;34m\u001B[0m\u001B[0m\n",
      "\u001B[0;32m~/opt/anaconda3/lib/python3.8/site-packages/joblib/parallel.py\u001B[0m in \u001B[0;36mretrieve\u001B[0;34m(self)\u001B[0m\n\u001B[1;32m    931\u001B[0m             \u001B[0;32mtry\u001B[0m\u001B[0;34m:\u001B[0m\u001B[0;34m\u001B[0m\u001B[0;34m\u001B[0m\u001B[0m\n\u001B[1;32m    932\u001B[0m                 \u001B[0;32mif\u001B[0m \u001B[0mgetattr\u001B[0m\u001B[0;34m(\u001B[0m\u001B[0mself\u001B[0m\u001B[0;34m.\u001B[0m\u001B[0m_backend\u001B[0m\u001B[0;34m,\u001B[0m \u001B[0;34m'supports_timeout'\u001B[0m\u001B[0;34m,\u001B[0m \u001B[0;32mFalse\u001B[0m\u001B[0;34m)\u001B[0m\u001B[0;34m:\u001B[0m\u001B[0;34m\u001B[0m\u001B[0;34m\u001B[0m\u001B[0m\n\u001B[0;32m--> 933\u001B[0;31m                     \u001B[0mself\u001B[0m\u001B[0;34m.\u001B[0m\u001B[0m_output\u001B[0m\u001B[0;34m.\u001B[0m\u001B[0mextend\u001B[0m\u001B[0;34m(\u001B[0m\u001B[0mjob\u001B[0m\u001B[0;34m.\u001B[0m\u001B[0mget\u001B[0m\u001B[0;34m(\u001B[0m\u001B[0mtimeout\u001B[0m\u001B[0;34m=\u001B[0m\u001B[0mself\u001B[0m\u001B[0;34m.\u001B[0m\u001B[0mtimeout\u001B[0m\u001B[0;34m)\u001B[0m\u001B[0;34m)\u001B[0m\u001B[0;34m\u001B[0m\u001B[0;34m\u001B[0m\u001B[0m\n\u001B[0m\u001B[1;32m    934\u001B[0m                 \u001B[0;32melse\u001B[0m\u001B[0;34m:\u001B[0m\u001B[0;34m\u001B[0m\u001B[0;34m\u001B[0m\u001B[0m\n\u001B[1;32m    935\u001B[0m                     \u001B[0mself\u001B[0m\u001B[0;34m.\u001B[0m\u001B[0m_output\u001B[0m\u001B[0;34m.\u001B[0m\u001B[0mextend\u001B[0m\u001B[0;34m(\u001B[0m\u001B[0mjob\u001B[0m\u001B[0;34m.\u001B[0m\u001B[0mget\u001B[0m\u001B[0;34m(\u001B[0m\u001B[0;34m)\u001B[0m\u001B[0;34m)\u001B[0m\u001B[0;34m\u001B[0m\u001B[0;34m\u001B[0m\u001B[0m\n",
      "\u001B[0;32m~/opt/anaconda3/lib/python3.8/site-packages/joblib/_parallel_backends.py\u001B[0m in \u001B[0;36mwrap_future_result\u001B[0;34m(future, timeout)\u001B[0m\n\u001B[1;32m    540\u001B[0m         AsyncResults.get from multiprocessing.\"\"\"\n\u001B[1;32m    541\u001B[0m         \u001B[0;32mtry\u001B[0m\u001B[0;34m:\u001B[0m\u001B[0;34m\u001B[0m\u001B[0;34m\u001B[0m\u001B[0m\n\u001B[0;32m--> 542\u001B[0;31m             \u001B[0;32mreturn\u001B[0m \u001B[0mfuture\u001B[0m\u001B[0;34m.\u001B[0m\u001B[0mresult\u001B[0m\u001B[0;34m(\u001B[0m\u001B[0mtimeout\u001B[0m\u001B[0;34m=\u001B[0m\u001B[0mtimeout\u001B[0m\u001B[0;34m)\u001B[0m\u001B[0;34m\u001B[0m\u001B[0;34m\u001B[0m\u001B[0m\n\u001B[0m\u001B[1;32m    543\u001B[0m         \u001B[0;32mexcept\u001B[0m \u001B[0mCfTimeoutError\u001B[0m \u001B[0;32mas\u001B[0m \u001B[0me\u001B[0m\u001B[0;34m:\u001B[0m\u001B[0;34m\u001B[0m\u001B[0;34m\u001B[0m\u001B[0m\n\u001B[1;32m    544\u001B[0m             \u001B[0;32mraise\u001B[0m \u001B[0mTimeoutError\u001B[0m \u001B[0;32mfrom\u001B[0m \u001B[0me\u001B[0m\u001B[0;34m\u001B[0m\u001B[0;34m\u001B[0m\u001B[0m\n",
      "\u001B[0;32m~/opt/anaconda3/lib/python3.8/concurrent/futures/_base.py\u001B[0m in \u001B[0;36mresult\u001B[0;34m(self, timeout)\u001B[0m\n\u001B[1;32m    432\u001B[0m                 \u001B[0;32mreturn\u001B[0m \u001B[0mself\u001B[0m\u001B[0;34m.\u001B[0m\u001B[0m__get_result\u001B[0m\u001B[0;34m(\u001B[0m\u001B[0;34m)\u001B[0m\u001B[0;34m\u001B[0m\u001B[0;34m\u001B[0m\u001B[0m\n\u001B[1;32m    433\u001B[0m \u001B[0;34m\u001B[0m\u001B[0m\n\u001B[0;32m--> 434\u001B[0;31m             \u001B[0mself\u001B[0m\u001B[0;34m.\u001B[0m\u001B[0m_condition\u001B[0m\u001B[0;34m.\u001B[0m\u001B[0mwait\u001B[0m\u001B[0;34m(\u001B[0m\u001B[0mtimeout\u001B[0m\u001B[0;34m)\u001B[0m\u001B[0;34m\u001B[0m\u001B[0;34m\u001B[0m\u001B[0m\n\u001B[0m\u001B[1;32m    435\u001B[0m \u001B[0;34m\u001B[0m\u001B[0m\n\u001B[1;32m    436\u001B[0m             \u001B[0;32mif\u001B[0m \u001B[0mself\u001B[0m\u001B[0;34m.\u001B[0m\u001B[0m_state\u001B[0m \u001B[0;32min\u001B[0m \u001B[0;34m[\u001B[0m\u001B[0mCANCELLED\u001B[0m\u001B[0;34m,\u001B[0m \u001B[0mCANCELLED_AND_NOTIFIED\u001B[0m\u001B[0;34m]\u001B[0m\u001B[0;34m:\u001B[0m\u001B[0;34m\u001B[0m\u001B[0;34m\u001B[0m\u001B[0m\n",
      "\u001B[0;32m~/opt/anaconda3/lib/python3.8/threading.py\u001B[0m in \u001B[0;36mwait\u001B[0;34m(self, timeout)\u001B[0m\n\u001B[1;32m    300\u001B[0m         \u001B[0;32mtry\u001B[0m\u001B[0;34m:\u001B[0m    \u001B[0;31m# restore state no matter what (e.g., KeyboardInterrupt)\u001B[0m\u001B[0;34m\u001B[0m\u001B[0;34m\u001B[0m\u001B[0m\n\u001B[1;32m    301\u001B[0m             \u001B[0;32mif\u001B[0m \u001B[0mtimeout\u001B[0m \u001B[0;32mis\u001B[0m \u001B[0;32mNone\u001B[0m\u001B[0;34m:\u001B[0m\u001B[0;34m\u001B[0m\u001B[0;34m\u001B[0m\u001B[0m\n\u001B[0;32m--> 302\u001B[0;31m                 \u001B[0mwaiter\u001B[0m\u001B[0;34m.\u001B[0m\u001B[0macquire\u001B[0m\u001B[0;34m(\u001B[0m\u001B[0;34m)\u001B[0m\u001B[0;34m\u001B[0m\u001B[0;34m\u001B[0m\u001B[0m\n\u001B[0m\u001B[1;32m    303\u001B[0m                 \u001B[0mgotit\u001B[0m \u001B[0;34m=\u001B[0m \u001B[0;32mTrue\u001B[0m\u001B[0;34m\u001B[0m\u001B[0;34m\u001B[0m\u001B[0m\n\u001B[1;32m    304\u001B[0m             \u001B[0;32melse\u001B[0m\u001B[0;34m:\u001B[0m\u001B[0;34m\u001B[0m\u001B[0;34m\u001B[0m\u001B[0m\n",
      "\u001B[0;31mKeyboardInterrupt\u001B[0m: "
     ]
    }
   ],
   "source": [
    "optimal_for.fit(x_train_for_std,y_train_for)"
   ],
   "metadata": {
    "collapsed": false,
    "pycharm": {
     "name": "#%%\n"
    }
   }
  },
  {
   "cell_type": "code",
   "execution_count": null,
   "outputs": [],
   "source": [
    "print(optimal_for.best_params_,optimal_for.best_score_)"
   ],
   "metadata": {
    "collapsed": false,
    "pycharm": {
     "name": "#%%\n"
    }
   }
  },
  {
   "cell_type": "code",
   "execution_count": 213,
   "outputs": [
    {
     "ename": "AttributeError",
     "evalue": "'GridSearchCV' object has no attribute 'best_params_'",
     "output_type": "error",
     "traceback": [
      "\u001B[0;31m---------------------------------------------------------------------------\u001B[0m",
      "\u001B[0;31mAttributeError\u001B[0m                            Traceback (most recent call last)",
      "\u001B[0;32m<ipython-input-213-5c2af3840f40>\u001B[0m in \u001B[0;36m<module>\u001B[0;34m\u001B[0m\n\u001B[0;32m----> 1\u001B[0;31m for_best_model = RFC(n_estimators=optimal_for.best_params_['n_estimators'], max_depth=optimal_for.best_params_['max_depth'],\n\u001B[0m\u001B[1;32m      2\u001B[0m                     max_features=optimal_for.best_params_['max_features'], min_samples_leaf=optimal_for.best_params_['min_samples_leaf'], random_state=3)\n\u001B[1;32m      3\u001B[0m \u001B[0;34m\u001B[0m\u001B[0m\n\u001B[1;32m      4\u001B[0m \u001B[0mfor_best_model\u001B[0m \u001B[0;34m=\u001B[0m \u001B[0mfor_best_model\u001B[0m\u001B[0;34m.\u001B[0m\u001B[0mfit\u001B[0m\u001B[0;34m(\u001B[0m\u001B[0mx_train_for_std\u001B[0m\u001B[0;34m,\u001B[0m\u001B[0my_train_for\u001B[0m\u001B[0;34m)\u001B[0m\u001B[0;34m\u001B[0m\u001B[0;34m\u001B[0m\u001B[0m\n\u001B[1;32m      5\u001B[0m \u001B[0mfor_pred_best\u001B[0m \u001B[0;34m=\u001B[0m \u001B[0mfor_best_model\u001B[0m\u001B[0;34m.\u001B[0m\u001B[0mpredict\u001B[0m\u001B[0;34m(\u001B[0m\u001B[0mx_test_for_std\u001B[0m\u001B[0;34m)\u001B[0m\u001B[0;34m\u001B[0m\u001B[0;34m\u001B[0m\u001B[0m\n",
      "\u001B[0;31mAttributeError\u001B[0m: 'GridSearchCV' object has no attribute 'best_params_'"
     ]
    }
   ],
   "source": [
    "for_best_model = RFC(n_estimators=optimal_for.best_params_['n_estimators'], max_depth=optimal_for.best_params_['max_depth'],\n",
    "                    max_features=optimal_for.best_params_['max_features'], min_samples_leaf=optimal_for.best_params_['min_samples_leaf'], random_state=3)\n",
    "\n",
    "for_best_model = for_best_model.fit(x_train_for_std,y_train_for)\n",
    "for_pred_best = for_best_model.predict(x_test_for_std)"
   ],
   "metadata": {
    "collapsed": false,
    "pycharm": {
     "name": "#%%\n"
    }
   }
  },
  {
   "cell_type": "code",
   "execution_count": 274,
   "outputs": [],
   "source": [
    "for_best_model = RFC(n_estimators=200, max_depth=20,\n",
    "                     max_features=4, min_samples_leaf=10, random_state=3)\n",
    "\n",
    "for_best_model = for_best_model.fit(x_train_for_std,y_train_for)\n",
    "for_pred_best = for_best_model.predict(x_test_for_std)"
   ],
   "metadata": {
    "collapsed": false,
    "pycharm": {
     "name": "#%%\n"
    }
   }
  },
  {
   "cell_type": "code",
   "execution_count": 275,
   "outputs": [
    {
     "name": "stdout",
     "output_type": "stream",
     "text": [
      "0.5594795539033457\n"
     ]
    }
   ],
   "source": [
    "from sklearn.metrics import accuracy_score\n",
    "print(accuracy_score(y_test_for, for_pred_best))"
   ],
   "metadata": {
    "collapsed": false,
    "pycharm": {
     "name": "#%%\n"
    }
   }
  },
  {
   "cell_type": "code",
   "execution_count": 276,
   "outputs": [
    {
     "data": {
      "text/plain": "<sklearn.metrics._plot.confusion_matrix.ConfusionMatrixDisplay at 0x7fbcc8acd970>"
     },
     "execution_count": 276,
     "metadata": {},
     "output_type": "execute_result"
    },
    {
     "data": {
      "text/plain": "<Figure size 432x288 with 2 Axes>",
      "image/png": "[encoded data removed]"
     },
     "metadata": {
      "needs_background": "light"
     },
     "output_type": "display_data"
    }
   ],
   "source": [
    "## Plot confusion matrix\n",
    "conf_matrix_for = plot_confusion_matrix(for_best_model, x_test_for_std, y_test_for,\n",
    "                                        display_labels=[\"No Choice\", \"Choice\"])\n",
    "conf_matrix_for.ax_.set_title(\"Confusion matrix  forest\")\n",
    "conf_matrix_for"
   ],
   "metadata": {
    "collapsed": false,
    "pycharm": {
     "name": "#%%\n"
    }
   }
  },
  {
   "cell_type": "markdown",
   "source": [
    "RANDOM FOREST USING NORMAL DATA"
   ],
   "metadata": {
    "collapsed": false,
    "pycharm": {
     "name": "#%% md\n"
    }
   }
  },
  {
   "cell_type": "code",
   "execution_count": 341,
   "outputs": [],
   "source": [
    "x = merged1.iloc[:,3:-1]"
   ],
   "metadata": {
    "collapsed": false,
    "pycharm": {
     "name": "#%%\n"
    }
   }
  },
  {
   "cell_type": "code",
   "execution_count": 342,
   "outputs": [],
   "source": [
    "x_drop=['PriceMin5','Price0','Price2','Price Cont','payment_1','Gender_f','Age','Energy Consumption','Region West','Region East','Household_size','Appliance_count',]\n",
    "x = x.drop(columns=x_drop)"
   ],
   "metadata": {
    "collapsed": false,
    "pycharm": {
     "name": "#%%\n"
    }
   }
  },
  {
   "cell_type": "code",
   "execution_count": 343,
   "outputs": [
    {
     "data": {
      "text/plain": "      Real Price  All RES  wind  solar  hydro  biomass  Slovak  Can Change  \\\n0             45       -1    -1     -1     -1       -1      -1           1   \n1             50        0     0      0      0        1       1          -1   \n2             45       -1    -1     -1     -1       -1      -1           1   \n3             50        0     0      0      1        0       1          -1   \n4             55        0     0      1      0        0       1           1   \n...          ...      ...   ...    ...    ...      ...     ...         ...   \n2683          75        0     0      0      0        1       1          -1   \n2684          77        0     0      0      0        1       1          -1   \n2685          75        0     0      0      1        0      -1           1   \n2686          77        1     0      0      0        0      -1           1   \n2687          80        0     1      0      0        0       1          -1   \n\n      No change Income  No Income Concern_1 RES_attitude_1  \\\n0            -1      3          0         1              4   \n1             1      3          0         1              4   \n2            -1      3          0         1              4   \n3             1      3          0         1              4   \n4            -1      3          0         1              4   \n...         ...    ...        ...       ...            ...   \n2683         -1      6          0         2              4   \n2684          1      6          0         2              4   \n2685         -1      6          0         2              4   \n2686          1      6          0         2              4   \n2687         -1      6          0         2              4   \n\n      Know_green_provider  Providers_count  Task_temp  Task_consumption  \\\n0                       0                1          4                 5   \n1                       0                1          4                 5   \n2                       0                1          4                 5   \n3                       0                1          4                 5   \n4                       0                1          4                 5   \n...                   ...              ...        ...               ...   \n2683                    0                2          5                 5   \n2684                    0                2          5                 5   \n2685                    0                2          5                 5   \n2686                    0                2          5                 5   \n2687                    0                2          5                 5   \n\n      Task_appliances  Task_source  \n0                   5            2  \n1                   5            2  \n2                   5            2  \n3                   5            2  \n4                   5            2  \n...               ...          ...  \n2683                5            3  \n2684                5            3  \n2685                5            3  \n2686                5            3  \n2687                5            3  \n\n[2688 rows x 19 columns]",
      "text/html": "<div>\n<style scoped>\n    .dataframe tbody tr th:only-of-type {\n        vertical-align: middle;\n    }\n\n    .dataframe tbody tr th {\n        vertical-align: top;\n    }\n\n    .dataframe thead th {\n        text-align: right;\n    }\n</style>\n<table border=\"1\" class=\"dataframe\">\n  <thead>\n    <tr style=\"text-align: right;\">\n      <th></th>\n      <th>Real Price</th>\n      <th>All RES</th>\n      <th>wind</th>\n      <th>solar</th>\n      <th>hydro</th>\n      <th>biomass</th>\n      <th>Slovak</th>\n      <th>Can Change</th>\n      <th>No change</th>\n      <th>Income</th>\n      <th>No Income</th>\n      <th>Concern_1</th>\n      <th>RES_attitude_1</th>\n      <th>Know_green_provider</th>\n      <th>Providers_count</th>\n      <th>Task_temp</th>\n      <th>Task_consumption</th>\n      <th>Task_appliances</th>\n      <th>Task_source</th>\n    </tr>\n  </thead>\n  <tbody>\n    <tr>\n      <th>0</th>\n      <td>45</td>\n      <td>-1</td>\n      <td>-1</td>\n      <td>-1</td>\n      <td>-1</td>\n      <td>-1</td>\n      <td>-1</td>\n      <td>1</td>\n      <td>-1</td>\n      <td>3</td>\n      <td>0</td>\n      <td>1</td>\n      <td>4</td>\n      <td>0</td>\n      <td>1</td>\n      <td>4</td>\n      <td>5</td>\n      <td>5</td>\n      <td>2</td>\n    </tr>\n    <tr>\n      <th>1</th>\n      <td>50</td>\n      <td>0</td>\n      <td>0</td>\n      <td>0</td>\n      <td>0</td>\n      <td>1</td>\n      <td>1</td>\n      <td>-1</td>\n      <td>1</td>\n      <td>3</td>\n      <td>0</td>\n      <td>1</td>\n      <td>4</td>\n      <td>0</td>\n      <td>1</td>\n      <td>4</td>\n      <td>5</td>\n      <td>5</td>\n      <td>2</td>\n    </tr>\n    <tr>\n      <th>2</th>\n      <td>45</td>\n      <td>-1</td>\n      <td>-1</td>\n      <td>-1</td>\n      <td>-1</td>\n      <td>-1</td>\n      <td>-1</td>\n      <td>1</td>\n      <td>-1</td>\n      <td>3</td>\n      <td>0</td>\n      <td>1</td>\n      <td>4</td>\n      <td>0</td>\n      <td>1</td>\n      <td>4</td>\n      <td>5</td>\n      <td>5</td>\n      <td>2</td>\n    </tr>\n    <tr>\n      <th>3</th>\n      <td>50</td>\n      <td>0</td>\n      <td>0</td>\n      <td>0</td>\n      <td>1</td>\n      <td>0</td>\n      <td>1</td>\n      <td>-1</td>\n      <td>1</td>\n      <td>3</td>\n      <td>0</td>\n      <td>1</td>\n      <td>4</td>\n      <td>0</td>\n      <td>1</td>\n      <td>4</td>\n      <td>5</td>\n      <td>5</td>\n      <td>2</td>\n    </tr>\n    <tr>\n      <th>4</th>\n      <td>55</td>\n      <td>0</td>\n      <td>0</td>\n      <td>1</td>\n      <td>0</td>\n      <td>0</td>\n      <td>1</td>\n      <td>1</td>\n      <td>-1</td>\n      <td>3</td>\n      <td>0</td>\n      <td>1</td>\n      <td>4</td>\n      <td>0</td>\n      <td>1</td>\n      <td>4</td>\n      <td>5</td>\n      <td>5</td>\n      <td>2</td>\n    </tr>\n    <tr>\n      <th>...</th>\n      <td>...</td>\n      <td>...</td>\n      <td>...</td>\n      <td>...</td>\n      <td>...</td>\n      <td>...</td>\n      <td>...</td>\n      <td>...</td>\n      <td>...</td>\n      <td>...</td>\n      <td>...</td>\n      <td>...</td>\n      <td>...</td>\n      <td>...</td>\n      <td>...</td>\n      <td>...</td>\n      <td>...</td>\n      <td>...</td>\n      <td>...</td>\n    </tr>\n    <tr>\n      <th>2683</th>\n      <td>75</td>\n      <td>0</td>\n      <td>0</td>\n      <td>0</td>\n      <td>0</td>\n      <td>1</td>\n      <td>1</td>\n      <td>-1</td>\n      <td>-1</td>\n      <td>6</td>\n      <td>0</td>\n      <td>2</td>\n      <td>4</td>\n      <td>0</td>\n      <td>2</td>\n      <td>5</td>\n      <td>5</td>\n      <td>5</td>\n      <td>3</td>\n    </tr>\n    <tr>\n      <th>2684</th>\n      <td>77</td>\n      <td>0</td>\n      <td>0</td>\n      <td>0</td>\n      <td>0</td>\n      <td>1</td>\n      <td>1</td>\n      <td>-1</td>\n      <td>1</td>\n      <td>6</td>\n      <td>0</td>\n      <td>2</td>\n      <td>4</td>\n      <td>0</td>\n      <td>2</td>\n      <td>5</td>\n      <td>5</td>\n      <td>5</td>\n      <td>3</td>\n    </tr>\n    <tr>\n      <th>2685</th>\n      <td>75</td>\n      <td>0</td>\n      <td>0</td>\n      <td>0</td>\n      <td>1</td>\n      <td>0</td>\n      <td>-1</td>\n      <td>1</td>\n      <td>-1</td>\n      <td>6</td>\n      <td>0</td>\n      <td>2</td>\n      <td>4</td>\n      <td>0</td>\n      <td>2</td>\n      <td>5</td>\n      <td>5</td>\n      <td>5</td>\n      <td>3</td>\n    </tr>\n    <tr>\n      <th>2686</th>\n      <td>77</td>\n      <td>1</td>\n      <td>0</td>\n      <td>0</td>\n      <td>0</td>\n      <td>0</td>\n      <td>-1</td>\n      <td>1</td>\n      <td>1</td>\n      <td>6</td>\n      <td>0</td>\n      <td>2</td>\n      <td>4</td>\n      <td>0</td>\n      <td>2</td>\n      <td>5</td>\n      <td>5</td>\n      <td>5</td>\n      <td>3</td>\n    </tr>\n    <tr>\n      <th>2687</th>\n      <td>80</td>\n      <td>0</td>\n      <td>1</td>\n      <td>0</td>\n      <td>0</td>\n      <td>0</td>\n      <td>1</td>\n      <td>-1</td>\n      <td>-1</td>\n      <td>6</td>\n      <td>0</td>\n      <td>2</td>\n      <td>4</td>\n      <td>0</td>\n      <td>2</td>\n      <td>5</td>\n      <td>5</td>\n      <td>5</td>\n      <td>3</td>\n    </tr>\n  </tbody>\n</table>\n<p>2688 rows × 19 columns</p>\n</div>"
     },
     "execution_count": 343,
     "metadata": {},
     "output_type": "execute_result"
    }
   ],
   "source": [
    "x"
   ],
   "metadata": {
    "collapsed": false,
    "pycharm": {
     "name": "#%%\n"
    }
   }
  },
  {
   "cell_type": "code",
   "execution_count": 344,
   "outputs": [],
   "source": [
    "from sklearn.preprocessing import StandardScaler, normalize\n",
    "\n",
    "#Random Forest\n",
    "x_train_for2, x_test_for2, y_train_for2, y_test_for2 = train_test_split(x, y_var, train_size=0.8, random_state=3)\n",
    "\n",
    "# standardize data (axis=0 means over the columns)\n",
    "sc = StandardScaler()\n",
    "x_train_for2_std = sc.fit_transform(x_train_for2)\n",
    "x_test_for2_std = sc.fit_transform(x_test_for2)  #Standardizes data to remove biases\n",
    "\n",
    "from sklearn.ensemble import RandomForestClassifier as RFC\n",
    "\n",
    "for2_model = RFC(random_state=3)"
   ],
   "metadata": {
    "collapsed": false,
    "pycharm": {
     "name": "#%%\n"
    }
   }
  },
  {
   "cell_type": "code",
   "execution_count": 237,
   "outputs": [
    {
     "name": "stdout",
     "output_type": "stream",
     "text": [
      "{'max_depth': 20, 'max_features': 3, 'min_samples_leaf': 5, 'n_estimators': 200} 0.5533354198336762\n"
     ]
    }
   ],
   "source": [
    "#grid search CV\n",
    "\n",
    "from sklearn.model_selection import GridSearchCV\n",
    "\n",
    "for2_parameters = {'n_estimators': [180, 200, 220],\n",
    "                  'max_features': [3, 4, 5], 'max_depth': [20, 25], 'min_samples_leaf': [3, 5, 7]}\n",
    "\n",
    "optimal_for2 = GridSearchCV(estimator=for2_model, param_grid=for2_parameters, cv=5, scoring='recall', verbose=0, n_jobs=-1)\n",
    "optimal_for2.fit(x_train_for2_std, y_train_for2)\n",
    "print(optimal_for2.best_params_, optimal_for2.best_score_)\n",
    "for2_best_model = RFC(n_estimators=optimal_for2.best_params_['n_estimators'],\n",
    "                     max_depth=optimal_for2.best_params_['max_depth'],\n",
    "                     max_features=optimal_for2.best_params_['max_features'],\n",
    "                     min_samples_leaf=optimal_for2.best_params_['min_samples_leaf'], random_state=3)\n",
    "\n",
    "for2_best_model = for2_best_model.fit(x_train_for2_std, y_train_for2)\n",
    "for2_pred_best = for2_best_model.predict(x_test_for2_std)"
   ],
   "metadata": {
    "collapsed": false,
    "pycharm": {
     "name": "#%%\n"
    }
   }
  },
  {
   "cell_type": "code",
   "execution_count": 345,
   "outputs": [
    {
     "name": "stdout",
     "output_type": "stream",
     "text": [
      "0.6022304832713755\n"
     ]
    },
    {
     "data": {
      "text/plain": "<sklearn.metrics._plot.confusion_matrix.ConfusionMatrixDisplay at 0x7fbccc5ddfd0>"
     },
     "execution_count": 345,
     "metadata": {},
     "output_type": "execute_result"
    },
    {
     "data": {
      "text/plain": "<Figure size 432x288 with 2 Axes>",
      "image/png": "[encoded data removed]"
     },
     "metadata": {
      "needs_background": "light"
     },
     "output_type": "display_data"
    }
   ],
   "source": [
    "for2_best_model = RFC(n_estimators=200, max_depth=20,\n",
    "                     max_features=4, min_samples_leaf=10, random_state=3)\n",
    "\n",
    "for2_best_model = for2_best_model.fit(x_train_for2_std, y_train_for2)\n",
    "for2_pred_best = for2_best_model.predict(x_test_for2_std)\n",
    "from sklearn.metrics import accuracy_score\n",
    "\n",
    "print(accuracy_score(y_test_for2, for2_pred_best))\n",
    "## Plot confusion matrix\n",
    "conf_matrix_for2 = plot_confusion_matrix(for2_best_model, x_test_for2_std, y_test_for2,\n",
    "                                        display_labels=[\"No Choice\", \"Choice\"])\n",
    "conf_matrix_for2.ax_.set_title(\"Confusion matrix  forest\")\n",
    "conf_matrix_for2"
   ],
   "metadata": {
    "collapsed": false,
    "pycharm": {
     "name": "#%%\n"
    }
   }
  },
  {
   "cell_type": "markdown",
   "source": [
    "MIXED EFFECTS RANDOM FOREST"
   ],
   "metadata": {
    "collapsed": false,
    "pycharm": {
     "name": "#%% md\n"
    }
   }
  },
  {
   "cell_type": "code",
   "execution_count": 277,
   "outputs": [
    {
     "name": "stdout",
     "output_type": "stream",
     "text": [
      "Collecting merf\r\n",
      "  Downloading merf-1.0-py3-none-any.whl (14 kB)\r\n",
      "Requirement already satisfied: numpy in /Users/dominikmecko/opt/anaconda3/lib/python3.8/site-packages (from merf) (1.20.1)\r\n",
      "Requirement already satisfied: scikit-learn in /Users/dominikmecko/opt/anaconda3/lib/python3.8/site-packages (from merf) (0.24.1)\r\n",
      "Requirement already satisfied: pandas>=1.0 in /Users/dominikmecko/opt/anaconda3/lib/python3.8/site-packages (from merf) (1.2.4)\r\n",
      "Requirement already satisfied: matplotlib>=3.0 in /Users/dominikmecko/opt/anaconda3/lib/python3.8/site-packages (from merf) (3.3.4)\r\n",
      "Requirement already satisfied: cycler>=0.10 in /Users/dominikmecko/opt/anaconda3/lib/python3.8/site-packages (from matplotlib>=3.0->merf) (0.10.0)\r\n",
      "Requirement already satisfied: kiwisolver>=1.0.1 in /Users/dominikmecko/opt/anaconda3/lib/python3.8/site-packages (from matplotlib>=3.0->merf) (1.3.1)\r\n",
      "Requirement already satisfied: pyparsing!=2.0.4,!=2.1.2,!=2.1.6,>=2.0.3 in /Users/dominikmecko/opt/anaconda3/lib/python3.8/site-packages (from matplotlib>=3.0->merf) (2.4.7)\r\n",
      "Requirement already satisfied: pillow>=6.2.0 in /Users/dominikmecko/opt/anaconda3/lib/python3.8/site-packages (from matplotlib>=3.0->merf) (8.2.0)\r\n",
      "Requirement already satisfied: python-dateutil>=2.1 in /Users/dominikmecko/opt/anaconda3/lib/python3.8/site-packages (from matplotlib>=3.0->merf) (2.8.1)\r\n",
      "Requirement already satisfied: pytz>=2017.3 in /Users/dominikmecko/opt/anaconda3/lib/python3.8/site-packages (from pandas>=1.0->merf) (2021.1)\r\n",
      "Requirement already satisfied: joblib>=0.11 in /Users/dominikmecko/opt/anaconda3/lib/python3.8/site-packages (from scikit-learn->merf) (1.0.1)\r\n",
      "Requirement already satisfied: threadpoolctl>=2.0.0 in /Users/dominikmecko/opt/anaconda3/lib/python3.8/site-packages (from scikit-learn->merf) (2.1.0)\r\n",
      "Requirement already satisfied: scipy>=0.19.1 in /Users/dominikmecko/opt/anaconda3/lib/python3.8/site-packages (from scikit-learn->merf) (1.6.2)\r\n",
      "Requirement already satisfied: six in /Users/dominikmecko/opt/anaconda3/lib/python3.8/site-packages (from cycler>=0.10->matplotlib>=3.0->merf) (1.15.0)\r\n",
      "Installing collected packages: merf\r\n",
      "Successfully installed merf-1.0\r\n",
      "\u001B[33mWARNING: You are using pip version 21.3.1; however, version 22.1.1 is available.\r\n",
      "You should consider upgrading via the '/Users/dominikmecko/opt/anaconda3/bin/python -m pip install --upgrade pip' command.\u001B[0m\r\n",
      "Note: you may need to restart the kernel to use updated packages.\n"
     ]
    }
   ],
   "source": [
    "pip install merf"
   ],
   "metadata": {
    "collapsed": false,
    "pycharm": {
     "name": "#%%\n"
    }
   }
  },
  {
   "cell_type": "code",
   "execution_count": 304,
   "outputs": [],
   "source": [
    "from merf.merf import MERF\n",
    "from merf.viz import plot_merf_training_stats"
   ],
   "metadata": {
    "collapsed": false,
    "pycharm": {
     "name": "#%%\n"
    }
   }
  },
  {
   "cell_type": "code",
   "execution_count": 305,
   "outputs": [],
   "source": [
    "x3 = merged1.iloc[:, 3:-1]"
   ],
   "metadata": {
    "collapsed": false,
    "pycharm": {
     "name": "#%%\n"
    }
   }
  },
  {
   "cell_type": "code",
   "execution_count": 306,
   "outputs": [],
   "source": [
    "x3_drop = ['PriceMin5', 'Price0', 'Price2', 'Price Cont', 'payment_1', 'Gender_f', 'Age', 'Income', 'No Income',\n",
    "          'Energy Consumption', 'Region West', 'Region East', 'Household_size', 'Appliance_count']\n",
    "x3 = x3.drop(columns=x_drop)"
   ],
   "metadata": {
    "collapsed": false,
    "pycharm": {
     "name": "#%%\n"
    }
   }
  },
  {
   "cell_type": "code",
   "execution_count": 307,
   "outputs": [],
   "source": [
    "x3['Set_Id'] = merged1['SetID_1']"
   ],
   "metadata": {
    "collapsed": false,
    "pycharm": {
     "name": "#%%\n"
    }
   }
  },
  {
   "cell_type": "code",
   "execution_count": 308,
   "outputs": [],
   "source": [
    "x3['Concern_1'] = x3['Concern_1'].astype(int)\n",
    "x3['RES_attitude_1'] = x3['RES_attitude_1'].astype(int)"
   ],
   "metadata": {
    "collapsed": false,
    "pycharm": {
     "name": "#%%\n"
    }
   }
  },
  {
   "cell_type": "code",
   "execution_count": 309,
   "outputs": [
    {
     "data": {
      "text/plain": "Real Price             int64\nAll RES                int64\nwind                   int64\nsolar                  int64\nhydro                  int64\nbiomass                int64\nSlovak                 int64\nCan Change             int64\nNo change              int64\nConcern_1              int64\nRES_attitude_1         int64\nKnow_green_provider    int64\nProviders_count        int64\nTask_temp              int64\nTask_consumption       int64\nTask_appliances        int64\nTask_source            int64\nSet_Id                 int64\ndtype: object"
     },
     "execution_count": 309,
     "metadata": {},
     "output_type": "execute_result"
    }
   ],
   "source": [
    "x3.dtypes"
   ],
   "metadata": {
    "collapsed": false,
    "pycharm": {
     "name": "#%%\n"
    }
   }
  },
  {
   "cell_type": "code",
   "execution_count": 310,
   "outputs": [],
   "source": [
    "#Split\n",
    "x3_train, x3_test, y3_train, y3_test = train_test_split(x3, y_var, train_size=0.8, random_state=3)"
   ],
   "metadata": {
    "collapsed": false,
    "pycharm": {
     "name": "#%%\n"
    }
   }
  },
  {
   "cell_type": "code",
   "execution_count": 311,
   "outputs": [],
   "source": [
    "#FIXED EFFECTS\n",
    "fe_train = x3_train.iloc[:,0:9]\n",
    "fe_test = x3_test.iloc[:,0:9]\n",
    "\n",
    "#Mixed Effects\n",
    "me_train = x3_train.iloc[:,9:-1]\n",
    "me_test = x3_test.iloc[:,9:-1]\n",
    "\n",
    "#Cluster\n",
    "cid_train = x3_train['Set_Id']\n",
    "cid_test = x3_test['Set_Id']"
   ],
   "metadata": {
    "collapsed": false,
    "pycharm": {
     "name": "#%%\n"
    }
   }
  },
  {
   "cell_type": "code",
   "execution_count": 312,
   "outputs": [
    {
     "data": {
      "text/plain": "350      8\n2348    11\n30       4\n828      7\n1875     2\n        ..\n631      4\n1091     6\n2495    12\n2254    12\n646     12\nName: Set_Id, Length: 538, dtype: int64"
     },
     "execution_count": 312,
     "metadata": {},
     "output_type": "execute_result"
    }
   ],
   "source": [
    "cid_test"
   ],
   "metadata": {
    "collapsed": false,
    "pycharm": {
     "name": "#%%\n"
    }
   }
  },
  {
   "cell_type": "code",
   "execution_count": 313,
   "outputs": [
    {
     "name": "stderr",
     "output_type": "stream",
     "text": [
      "INFO     [merf.py:307] Training GLL is -2860.8876379531043 at iteration 1.\n",
      "INFO     [merf.py:328] Validation MSE Loss is 0.3073051427070338 at iteration 1.\n",
      "INFO     [merf.py:307] Training GLL is -3097.65246742789 at iteration 2.\n",
      "INFO     [merf.py:328] Validation MSE Loss is 0.3098575088687628 at iteration 2.\n",
      "INFO     [merf.py:307] Training GLL is -3137.6826183018256 at iteration 3.\n",
      "INFO     [merf.py:328] Validation MSE Loss is 0.31212008261361474 at iteration 3.\n",
      "INFO     [merf.py:307] Training GLL is -3146.42368247592 at iteration 4.\n",
      "INFO     [merf.py:328] Validation MSE Loss is 0.3084715556380915 at iteration 4.\n",
      "INFO     [merf.py:307] Training GLL is -3166.4532076612286 at iteration 5.\n",
      "INFO     [merf.py:328] Validation MSE Loss is 0.30970227212518286 at iteration 5.\n",
      "INFO     [merf.py:307] Training GLL is -3177.924770438674 at iteration 6.\n",
      "INFO     [merf.py:328] Validation MSE Loss is 0.3085428054975429 at iteration 6.\n",
      "INFO     [merf.py:307] Training GLL is -3190.2072116379636 at iteration 7.\n",
      "INFO     [merf.py:328] Validation MSE Loss is 0.30850878790750724 at iteration 7.\n",
      "INFO     [merf.py:307] Training GLL is -3200.9912067882515 at iteration 8.\n",
      "INFO     [merf.py:328] Validation MSE Loss is 0.30688263071961225 at iteration 8.\n",
      "INFO     [merf.py:307] Training GLL is -3211.9130383189977 at iteration 9.\n",
      "INFO     [merf.py:328] Validation MSE Loss is 0.30684351529197756 at iteration 9.\n",
      "INFO     [merf.py:307] Training GLL is -3216.381528848715 at iteration 10.\n",
      "INFO     [merf.py:328] Validation MSE Loss is 0.3053431177130023 at iteration 10.\n",
      "INFO     [merf.py:307] Training GLL is -3224.541119429604 at iteration 11.\n",
      "INFO     [merf.py:328] Validation MSE Loss is 0.3050993016706878 at iteration 11.\n",
      "INFO     [merf.py:307] Training GLL is -3232.245922271858 at iteration 12.\n",
      "INFO     [merf.py:328] Validation MSE Loss is 0.30524741269435024 at iteration 12.\n",
      "INFO     [merf.py:307] Training GLL is -3235.4286805574375 at iteration 13.\n",
      "INFO     [merf.py:328] Validation MSE Loss is 0.30506384278108795 at iteration 13.\n",
      "INFO     [merf.py:307] Training GLL is -3240.690913644307 at iteration 14.\n",
      "INFO     [merf.py:328] Validation MSE Loss is 0.30456520968914613 at iteration 14.\n",
      "INFO     [merf.py:307] Training GLL is -3240.808717884658 at iteration 15.\n",
      "INFO     [merf.py:328] Validation MSE Loss is 0.30644998187892947 at iteration 15.\n"
     ]
    },
    {
     "data": {
      "text/plain": "<merf.merf.MERF at 0x7fbccd9c8af0>"
     },
     "execution_count": 313,
     "metadata": {},
     "output_type": "execute_result"
    }
   ],
   "source": [
    "#Default MERF\n",
    "mrf = MERF(max_iterations=15)\n",
    "mrf.fit(fe_train, me_train, cid_train, y3_train, fe_test, me_test, cid_test, y3_test)"
   ],
   "metadata": {
    "collapsed": false,
    "pycharm": {
     "name": "#%%\n"
    }
   }
  },
  {
   "cell_type": "code",
   "execution_count": 314,
   "outputs": [
    {
     "name": "stderr",
     "output_type": "stream",
     "text": [
      "/Users/dominikmecko/opt/anaconda3/lib/python3.8/site-packages/merf/viz.py:65: UserWarning: To output multiple subplots, the figure containing the passed axes is being cleared\n",
      "  model.trained_b.hist(bins=15, ax=ax)\n",
      "/Users/dominikmecko/opt/anaconda3/lib/python3.8/site-packages/IPython/core/pylabtools.py:132: UserWarning: tight_layout not applied: number of columns in subplot specifications must be multiples of one another.\n",
      "  fig.canvas.print_figure(bytes_io, **kw)\n"
     ]
    },
    {
     "data": {
      "text/plain": "<Figure size 1080x1080 with 10 Axes>",
      "image/png": "[encoded data removed]"
     },
     "metadata": {
      "needs_background": "light"
     },
     "output_type": "display_data"
    }
   ],
   "source": [
    "plot_merf_training_stats(mrf, num_clusters_to_plot=10)"
   ],
   "metadata": {
    "collapsed": false,
    "pycharm": {
     "name": "#%%\n"
    }
   }
  },
  {
   "cell_type": "code",
   "execution_count": 315,
   "outputs": [
    {
     "data": {
      "text/plain": "array([ 6.96394168e-01,  4.29090849e-01,  3.82970982e-01, -3.05697182e-03,\n        5.21993745e-01,  9.80961731e-01,  5.48149444e-01,  7.08168819e-01,\n        5.45113594e-01,  2.84572346e-01,  1.83196199e-01,  5.98348836e-01,\n        1.04636563e-01,  6.23838518e-01,  4.54637851e-01,  5.78457440e-02,\n        2.44199894e-01,  1.05323534e+00,  6.18972045e-01,  3.71994913e-01,\n        5.70039473e-01,  9.37642631e-01,  4.41342527e-01,  1.80746387e-01,\n        9.55779525e-01,  4.81114347e-01,  3.27247869e-01,  8.96832820e-01,\n        7.62456343e-01,  2.94999663e-01,  5.08834830e-01,  7.14789100e-01,\n        2.73439689e-01,  1.02251069e+00,  7.55026345e-01,  7.39905172e-01,\n        6.80146319e-01,  9.14781787e-01,  2.82698452e-01,  7.74863404e-01,\n        7.01762288e-01,  6.77417289e-01,  7.28640542e-01,  8.79654642e-01,\n        6.01339336e-01,  1.24093832e-01,  2.15550769e-01,  4.98067259e-01,\n        2.25162867e-01,  3.42125761e-01,  7.45740832e-01,  9.76458711e-01,\n        5.08990382e-01,  2.98927420e-01,  1.41770132e-01,  5.00564225e-01,\n        3.69409909e-01,  4.23090425e-01,  8.98957084e-01,  1.88814053e-01,\n        4.98698304e-01,  5.19625734e-01,  5.05439170e-01,  3.88035661e-01,\n        1.51617058e-01,  9.59135353e-01,  5.19678377e-01,  2.93566356e-01,\n        7.89376900e-01,  3.91151626e-01,  6.20724542e-01,  2.74424339e-01,\n        7.11463844e-01,  3.57956683e-01,  9.46348109e-01,  3.25115094e-01,\n        2.64968837e-01,  9.10515712e-01,  7.93204158e-01,  1.77558207e-01,\n        2.44938867e-01,  2.02171729e-01,  4.58383558e-01,  4.76083110e-01,\n        9.21219845e-01,  6.32843477e-01,  5.08674401e-01,  5.60879233e-01,\n        5.73908489e-01,  5.59690191e-01,  6.52141466e-01,  6.21281634e-01,\n        4.09015522e-01,  6.43423345e-01,  6.86775903e-01, -6.70590806e-02,\n        4.60582635e-01,  6.29654516e-01,  9.02658064e-01,  6.34192730e-01,\n        5.34967857e-01,  4.51467406e-01,  4.10855575e-01,  6.33949090e-01,\n        4.18719273e-01,  9.36950102e-01,  1.57273414e-01, -6.58631540e-02,\n        4.61479843e-01,  6.29822408e-01,  4.77663345e-02,  4.07564263e-01,\n        2.89438139e-02,  2.82744268e-01,  5.76768820e-01,  7.16872371e-01,\n        5.09214429e-01,  5.15088458e-01,  5.95697005e-01,  1.92481106e-01,\n        7.62591291e-01,  7.19223978e-01,  3.24471627e-01,  1.87911736e-01,\n        6.89122615e-01,  6.26000346e-01, -1.34380508e-01,  5.62264357e-01,\n        8.96792973e-01,  3.66094442e-01,  7.21688076e-01,  9.00493399e-02,\n        7.46460037e-01,  2.35490637e-01,  2.19395054e-01,  7.46303181e-01,\n        3.39792512e-02,  1.88245718e-01,  9.18743249e-01,  6.88266669e-01,\n        2.18001778e-01,  4.34876314e-01,  4.07853004e-02,  5.52581371e-01,\n        9.01821364e-01,  2.98383648e-01,  6.75142721e-01,  5.49500362e-01,\n        3.15361405e-01,  4.62744340e-01,  2.86670732e-01,  1.65431082e-01,\n        3.54459754e-01,  7.67656929e-01,  4.85654765e-01,  2.37126894e-01,\n        8.35328756e-01,  1.88769398e-01,  5.05206114e-01,  9.86554019e-01,\n        1.58225337e-01,  4.40623013e-01,  3.31326018e-01,  3.65577184e-01,\n        2.48597737e-01,  9.96817633e-01,  3.52764345e-01,  4.46120782e-01,\n        6.37638658e-01,  4.10348246e-01,  2.64181577e-01,  3.11011268e-01,\n        8.07663766e-01,  6.46637052e-01,  8.18659216e-01,  8.72497067e-02,\n        4.73970925e-01,  1.06306966e+00,  6.02985283e-01,  1.10454544e-01,\n        8.85668575e-01,  7.13696388e-01,  6.94593907e-01,  9.29132080e-01,\n        3.02734686e-01,  7.54568001e-01,  2.71748832e-01,  5.10666495e-01,\n        8.42369963e-01,  2.99602913e-01,  6.81454029e-01,  3.26914116e-01,\n        3.11615287e-01,  5.88977502e-01,  9.81914463e-01,  5.21514263e-01,\n        2.42515487e-01,  4.65495437e-01,  3.64489111e-01,  3.59249334e-01,\n        1.14787965e-01,  6.63464489e-01,  4.94338104e-01,  3.37477566e-01,\n        5.53631964e-02,  8.93475072e-01,  9.98304322e-01,  1.76300405e-02,\n        1.38464118e-02,  1.26172909e-01,  8.49561867e-01,  2.52873619e-01,\n        6.78864375e-01,  8.10330050e-01,  1.00105454e+00,  6.64557142e-01,\n        1.00149557e+00,  8.06492184e-01,  6.60418018e-01,  6.23203087e-01,\n        5.23348932e-01, -4.84116031e-02,  8.63924384e-01,  7.58824560e-01,\n        3.30614181e-01,  7.57893875e-01,  7.32366116e-01,  8.51666497e-01,\n        3.51023981e-01,  5.67414543e-01,  4.47412133e-01,  4.62872168e-01,\n        1.11488181e-01,  3.97347082e-01,  3.71097233e-01,  7.25825266e-01,\n        8.31146959e-01,  8.67383217e-01,  5.81634138e-02,  4.15732902e-01,\n        3.18003885e-01,  5.10560643e-01,  2.62729753e-01,  5.28820329e-01,\n        6.47944468e-01,  3.51395369e-01,  5.80872912e-01,  2.93027504e-01,\n       -1.29833110e-01,  8.16580192e-01,  8.74386035e-01,  8.06158640e-01,\n        1.20446021e-01,  9.08190738e-01,  3.51049463e-01,  7.91451166e-01,\n        2.92262814e-01,  7.10167147e-01,  1.06311338e+00,  3.01685073e-01,\n        5.55967815e-01,  1.81040135e-01,  5.33675020e-01,  7.15463557e-01,\n        6.48125037e-01,  7.67976667e-01,  7.13082364e-01,  6.80587721e-01,\n        4.78067742e-01, -4.58411755e-02,  2.44442372e-01,  4.97759360e-01,\n        2.75609712e-01,  3.74894128e-01,  4.57746583e-01,  5.13074138e-01,\n        6.70562598e-01,  4.22721895e-01,  3.92904655e-01,  9.08173795e-01,\n        8.77025977e-01,  7.36503103e-01,  8.62032300e-01,  1.58857008e-01,\n        9.09564252e-01,  2.79018632e-01,  6.97278291e-01,  5.97224523e-01,\n        1.96196898e-01,  1.56314983e-01,  3.83106217e-01,  8.36429538e-01,\n        6.46927375e-01,  5.00825283e-01,  8.33417822e-01,  9.27844925e-01,\n        4.46992946e-01,  1.71638079e-01,  3.87248812e-01,  2.69072929e-01,\n       -1.98612158e-02,  7.47038269e-01,  5.83741184e-01,  3.14549650e-03,\n        4.71728104e-01,  1.89632435e-01,  4.35642260e-01,  1.28358578e+00,\n        4.31690609e-01,  8.50181860e-01,  4.57965498e-01,  2.27678676e-01,\n        9.90772070e-03,  4.00758417e-01,  3.15033190e-01,  6.12078447e-01,\n        3.15372438e-01, -1.05409531e-01,  3.11477507e-01,  6.28435551e-01,\n        1.05568848e+00,  1.39561977e-01,  4.33965611e-01,  7.87452397e-01,\n        6.27706332e-01, -3.53914305e-03,  1.11390532e-01,  2.16605231e-01,\n        2.85884329e-01,  3.02214005e-01,  4.57070218e-01,  5.84972661e-01,\n        4.36330331e-01,  5.01122263e-01,  4.21386706e-01,  7.77917055e-01,\n        5.21439383e-01,  3.43055718e-01,  7.70253454e-02,  1.60219934e-01,\n        8.67352396e-02,  1.36215259e-01,  2.69671515e-01,  6.36975460e-01,\n        3.25448317e-01,  5.76398900e-01,  6.87751126e-01,  2.87860133e-01,\n       -1.84717291e-05,  1.48205773e-01,  3.43967536e-01,  6.14925768e-01,\n        3.27190995e-01,  9.55499339e-01,  8.58552160e-01,  7.00202257e-01,\n        9.40244978e-01,  5.92583620e-01,  7.10329767e-01,  4.32742776e-01,\n        8.88183375e-01,  6.52878660e-01,  7.84540386e-01,  1.43716259e-01,\n        2.53374892e-01,  8.56001546e-01,  1.56238975e-01,  7.52682485e-01,\n        1.31644504e-01,  3.10999449e-01,  9.29190062e-01,  4.32927984e-01,\n        6.27677275e-01,  5.02854916e-01,  1.53995722e-01,  5.44273547e-01,\n        6.53675050e-01,  4.42485094e-01,  8.16613099e-01,  1.05231748e+00,\n        5.38223507e-01,  3.27547102e-01,  2.35088258e-01,  9.55494584e-01,\n        1.31378680e-01,  5.82540864e-01,  9.55153928e-01,  9.39947665e-01,\n        5.08852581e-01,  5.17647383e-01,  5.82409587e-01,  8.91636877e-01,\n        7.87998469e-01,  2.50101227e-01,  8.31620114e-01, -5.90875669e-02,\n        8.53301484e-01,  7.17339394e-01,  4.34344021e-01,  6.82398149e-01,\n        1.04623264e+00,  7.93059069e-01,  1.18616539e-01,  1.07064720e+00,\n        4.71807662e-01,  7.83508004e-01,  2.18394814e-01,  8.45037128e-02,\n        9.08643774e-01,  1.90288737e-01,  8.06605898e-01,  8.92072036e-01,\n        3.49111221e-01,  6.69491376e-01,  3.35510436e-01,  6.32767825e-02,\n        3.74381914e-01,  1.06253138e+00,  5.22580009e-01,  6.90211109e-01,\n        4.62976469e-01,  3.09838623e-01,  1.20185140e-01,  4.77243901e-01,\n        7.67098198e-01,  9.23720863e-01,  1.53027840e-01,  2.07091577e-01,\n        8.38856288e-01,  1.61953897e-01,  7.63256925e-01,  1.46641928e-01,\n        2.05275662e-01,  5.99270053e-02,  1.02457682e+00,  3.31927222e-01,\n        5.04249578e-01,  7.08106703e-01,  2.01001856e-01,  3.40152747e-01,\n        3.24543569e-01,  1.18705400e-01,  4.06297600e-01,  1.85969786e-01,\n        8.84936806e-01,  2.02654876e-01,  1.02299236e-01,  5.18291718e-01,\n        5.40490871e-01,  2.88941713e-01,  5.92975103e-01,  2.05072098e-01,\n        7.95590887e-01,  8.47508130e-01,  6.80598231e-01,  8.29384199e-01,\n        7.94090955e-01,  3.85913446e-01,  7.46191696e-01,  4.28192673e-01,\n        6.68609500e-01,  1.33037328e-01,  6.95221208e-01,  7.42779703e-01,\n        2.91766761e-01,  8.54457465e-01,  1.82536693e-01,  4.90228014e-01,\n        3.45096965e-01,  6.49515862e-01,  2.45253774e-01, -2.98981316e-03,\n        2.33222907e-01,  2.11280039e-01,  1.02693446e+00,  9.16561891e-01,\n        7.38374463e-01,  2.96833893e-01,  9.66245951e-01,  6.43704091e-02,\n        1.72571144e-01,  2.18381608e-01,  2.67955598e-01,  4.52387638e-01,\n        8.29665475e-01,  4.87948302e-01,  2.36755177e-01,  1.38710589e-01,\n        6.76835579e-01,  1.54161003e-01,  6.48964402e-01,  7.04272900e-01,\n        6.66755476e-01,  2.84640685e-01,  9.97319818e-01,  6.75235219e-01,\n        4.71583324e-01,  2.86936551e-01,  7.99654185e-01,  2.24766868e-02,\n        4.71135451e-01,  8.68930690e-02,  1.08356721e+00,  3.17852861e-01,\n        2.67916087e-01,  6.62952175e-01,  8.84872966e-01,  5.26010302e-01,\n        1.78340488e-01,  1.73164458e-01,  3.43074321e-01,  8.36627075e-01,\n        1.98750746e-01, -6.00504131e-02,  4.54847884e-01,  2.12841491e-01,\n        6.61893756e-01,  1.33411548e-01,  7.82675167e-01,  6.49895904e-01,\n        8.73719288e-01,  3.11845731e-01,  4.17445598e-02,  5.51411927e-01,\n        8.11760048e-01,  3.24492770e-01,  3.13564914e-01,  4.20243764e-01,\n        3.01199265e-01,  5.26743427e-01,  2.01703452e-01,  2.34607402e-01,\n        9.17610143e-01,  4.48370133e-01,  5.74473894e-01,  2.31640610e-01,\n        2.48287172e-01,  2.26084134e-01])"
     },
     "execution_count": 315,
     "metadata": {},
     "output_type": "execute_result"
    }
   ],
   "source": [
    "y3_predict = mrf.predict(fe_test, me_test, cid_test)\n",
    "y3_predict"
   ],
   "metadata": {
    "collapsed": false,
    "pycharm": {
     "name": "#%%\n"
    }
   }
  },
  {
   "cell_type": "code",
   "execution_count": 318,
   "outputs": [],
   "source": [
    "y3_predict = y3_predict.round(decimals=0)"
   ],
   "metadata": {
    "collapsed": false,
    "pycharm": {
     "name": "#%%\n"
    }
   }
  },
  {
   "cell_type": "code",
   "execution_count": 320,
   "outputs": [],
   "source": [
    "y3_predict = y3_predict.astype(int)"
   ],
   "metadata": {
    "collapsed": false,
    "pycharm": {
     "name": "#%%\n"
    }
   }
  },
  {
   "cell_type": "code",
   "execution_count": 321,
   "outputs": [
    {
     "data": {
      "text/plain": "array([1, 0, 0, 0, 1, 1, 1, 1, 1, 0, 0, 1, 0, 1, 0, 0, 0, 1, 1, 0, 1, 1,\n       0, 0, 1, 0, 0, 1, 1, 0, 1, 1, 0, 1, 1, 1, 1, 1, 0, 1, 1, 1, 1, 1,\n       1, 0, 0, 0, 0, 0, 1, 1, 1, 0, 0, 1, 0, 0, 1, 0, 0, 1, 1, 0, 0, 1,\n       1, 0, 1, 0, 1, 0, 1, 0, 1, 0, 0, 1, 1, 0, 0, 0, 0, 0, 1, 1, 1, 1,\n       1, 1, 1, 1, 0, 1, 1, 0, 0, 1, 1, 1, 1, 0, 0, 1, 0, 1, 0, 0, 0, 1,\n       0, 0, 0, 0, 1, 1, 1, 1, 1, 0, 1, 1, 0, 0, 1, 1, 0, 1, 1, 0, 1, 0,\n       1, 0, 0, 1, 0, 0, 1, 1, 0, 0, 0, 1, 1, 0, 1, 1, 0, 0, 0, 0, 0, 1,\n       0, 0, 1, 0, 1, 1, 0, 0, 0, 0, 0, 1, 0, 0, 1, 0, 0, 0, 1, 1, 1, 0,\n       0, 1, 1, 0, 1, 1, 1, 1, 0, 1, 0, 1, 1, 0, 1, 0, 0, 1, 1, 1, 0, 0,\n       0, 0, 0, 1, 0, 0, 0, 1, 1, 0, 0, 0, 1, 0, 1, 1, 1, 1, 1, 1, 1, 1,\n       1, 0, 1, 1, 0, 1, 1, 1, 0, 1, 0, 0, 0, 0, 0, 1, 1, 1, 0, 0, 0, 1,\n       0, 1, 1, 0, 1, 0, 0, 1, 1, 1, 0, 1, 0, 1, 0, 1, 1, 0, 1, 0, 1, 1,\n       1, 1, 1, 1, 0, 0, 0, 0, 0, 0, 0, 1, 1, 0, 0, 1, 1, 1, 1, 0, 1, 0,\n       1, 1, 0, 0, 0, 1, 1, 1, 1, 1, 0, 0, 0, 0, 0, 1, 1, 0, 0, 0, 0, 1,\n       0, 1, 0, 0, 0, 0, 0, 1, 0, 0, 0, 1, 1, 0, 0, 1, 1, 0, 0, 0, 0, 0,\n       0, 1, 0, 1, 0, 1, 1, 0, 0, 0, 0, 0, 0, 1, 0, 1, 1, 0, 0, 0, 0, 1,\n       0, 1, 1, 1, 1, 1, 1, 0, 1, 1, 1, 0, 0, 1, 0, 1, 0, 0, 1, 0, 1, 1,\n       0, 1, 1, 0, 1, 1, 1, 0, 0, 1, 0, 1, 1, 1, 1, 1, 1, 1, 1, 0, 1, 0,\n       1, 1, 0, 1, 1, 1, 0, 1, 0, 1, 0, 0, 1, 0, 1, 1, 0, 1, 0, 0, 0, 1,\n       1, 1, 0, 0, 0, 0, 1, 1, 0, 0, 1, 0, 1, 0, 0, 0, 1, 0, 1, 1, 0, 0,\n       0, 0, 0, 0, 1, 0, 0, 1, 1, 0, 1, 0, 1, 1, 1, 1, 1, 0, 1, 0, 1, 0,\n       1, 1, 0, 1, 0, 0, 0, 1, 0, 0, 0, 0, 1, 1, 1, 0, 1, 0, 0, 0, 0, 0,\n       1, 0, 0, 0, 1, 0, 1, 1, 1, 0, 1, 1, 0, 0, 1, 0, 0, 0, 1, 0, 0, 1,\n       1, 1, 0, 0, 0, 1, 0, 0, 0, 0, 1, 0, 1, 1, 1, 0, 0, 1, 1, 0, 0, 0,\n       0, 1, 0, 0, 1, 0, 1, 0, 0, 0])"
     },
     "execution_count": 321,
     "metadata": {},
     "output_type": "execute_result"
    }
   ],
   "source": [
    "y3_predict"
   ],
   "metadata": {
    "collapsed": false,
    "pycharm": {
     "name": "#%%\n"
    }
   }
  },
  {
   "cell_type": "code",
   "execution_count": 322,
   "outputs": [
    {
     "name": "stdout",
     "output_type": "stream",
     "text": [
      "0.5223048327137546\n"
     ]
    }
   ],
   "source": [
    "print(accuracy_score(y3_test, y3_predict))"
   ],
   "metadata": {
    "collapsed": false,
    "pycharm": {
     "name": "#%%\n"
    }
   }
  },
  {
   "cell_type": "markdown",
   "source": [
    "DECISION TREE"
   ],
   "metadata": {
    "collapsed": false,
    "pycharm": {
     "name": "#%% md\n"
    }
   }
  },
  {
   "cell_type": "code",
   "execution_count": null,
   "outputs": [],
   "source": [
    "param_grid_dt = [\n",
    "    {'max_depth': [3,4,5,6,7,8,9,10]}\n",
    "]"
   ],
   "metadata": {
    "collapsed": false,
    "pycharm": {
     "name": "#%%\n"
    }
   }
  },
  {
   "cell_type": "code",
   "execution_count": null,
   "outputs": [],
   "source": [
    "from sklearn.model_selection import GridSearchCV\n",
    "from sklearn import tree\n",
    "\n",
    "# create the cross-validation object\n",
    "optimal_params_dt = GridSearchCV(\n",
    "    estimator = tree.DecisionTreeClassifier(random_state=3),  # DT instance\n",
    "    param_grid = param_grid_dt,                               # grid search\n",
    "    cv = 5,                                                   # k=5 CV\n",
    "    scoring='accuracy'                                        # use accuracy measure\n",
    ")"
   ],
   "metadata": {
    "collapsed": false,
    "pycharm": {
     "name": "#%%\n"
    }
   }
  },
  {
   "cell_type": "code",
   "execution_count": null,
   "outputs": [],
   "source": [
    "# perfrom the grid search on the trainings data\n",
    "optimal_params_dt.fit(X_train, y_train)\n",
    "\n",
    "# what is the best hyper parameter?\n",
    "optimal_params_dt.best_params_"
   ],
   "metadata": {
    "collapsed": false,
    "pycharm": {
     "name": "#%%\n"
    }
   }
  }
 ],
 "metadata": {
  "kernelspec": {
   "display_name": "Python 3",
   "language": "python",
   "name": "python3"
  },
  "language_info": {
   "codemirror_mode": {
    "name": "ipython",
    "version": 2
   },
   "file_extension": ".py",
   "mimetype": "text/x-python",
   "name": "python",
   "nbconvert_exporter": "python",
   "pygments_lexer": "ipython2",
   "version": "2.7.6"
  }
 },
 "nbformat": 4,
 "nbformat_minor": 0
}